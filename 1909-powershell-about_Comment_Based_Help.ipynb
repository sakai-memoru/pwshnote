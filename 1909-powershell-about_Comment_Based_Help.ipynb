{
 "cells": [
  {
   "cell_type": "markdown",
   "metadata": {},
   "source": [
    "# 1909-powershell-about_Comment_Based_Help"
   ]
  },
  {
   "cell_type": "markdown",
   "metadata": {},
   "source": [
    "## overview"
   ]
  },
  {
   "cell_type": "markdown",
   "metadata": {},
   "source": [
    "- about_Comment_Based_Help"
   ]
  },
  {
   "cell_type": "markdown",
   "metadata": {},
   "source": [
    "![Image from Gyazo](https://i.gyazo.com/9c23d8a166aeaa46a042f3b1f33dcf33.png)"
   ]
  },
  {
   "cell_type": "markdown",
   "metadata": {},
   "source": [
    "## jupyter notebook"
   ]
  },
  {
   "cell_type": "markdown",
   "metadata": {},
   "source": [
    "- https://nbviewer.jupyter.org/github/sakai-memoru/pwshnote/blob/master/1909-powershell-about_Comment_Based_Help.ipynb"
   ]
  },
  {
   "cell_type": "markdown",
   "metadata": {},
   "source": [
    "## Usage"
   ]
  },
  {
   "cell_type": "markdown",
   "metadata": {},
   "source": [
    "### Get-Help"
   ]
  },
  {
   "cell_type": "code",
   "execution_count": 1,
   "metadata": {},
   "outputs": [
    {
     "name": "stdout",
     "output_type": "stream",
     "text": []
    }
   ],
   "source": [
    "Get-Help -Category helpfile about_Comment* | select Name, Synopsis | format-list *"
   ]
  },
  {
   "cell_type": "markdown",
   "metadata": {},
   "source": [
    "### about_Comment_Based_Help"
   ]
  },
  {
   "cell_type": "code",
   "execution_count": 2,
   "metadata": {},
   "outputs": [
    {
     "name": "stdout",
     "output_type": "stream",
     "text": [
      "Get-Help -Category helpfile about_Comment* | select Name, Synopsis | format-list *\n",
      "\n",
      "\n",
      "Name     : about_Comment_Based_Help\n",
      "Synopsis : Describes how to write comment-based help topics for functions and scripts.\n",
      "\n",
      "\n",
      "\n",
      "Get-Help about_Comment_Based_Help | set -Name store\n"
     ]
    }
   ],
   "source": [
    "Get-Help about_Comment_Based_Help | set -Name store"
   ]
  },
  {
   "cell_type": "code",
   "execution_count": 3,
   "metadata": {},
   "outputs": [
    {
     "name": "stdout",
     "output_type": "stream",
     "text": []
    }
   ],
   "source": [
    "$store.GetType().Fullname"
   ]
  },
  {
   "cell_type": "code",
   "execution_count": 4,
   "metadata": {},
   "outputs": [
    {
     "name": "stdout",
     "output_type": "stream",
     "text": [
      "System.String\n",
      "$store -split \"`r`n\" | set -Name ary\n"
     ]
    }
   ],
   "source": [
    "$store -split \"`r`n\" | set -Name ary"
   ]
  },
  {
   "cell_type": "code",
   "execution_count": 5,
   "metadata": {},
   "outputs": [
    {
     "name": "stdout",
     "output_type": "stream",
     "text": [
      "826\n"
     ]
    }
   ],
   "source": [
    "$ary.length"
   ]
  },
  {
   "cell_type": "code",
   "execution_count": 6,
   "metadata": {},
   "outputs": [
    {
     "name": "stdout",
     "output_type": "stream",
     "text": [
      "$i = 0\n",
      "foreach($ar in $ary)\n",
      ">> {\n",
      ">>   if($ar -match 'SEE ALSO')\n",
      ">>   {\n",
      ">>     break\n",
      ">>   }\n",
      ">>   $i++\n",
      ">> }\n",
      ">> # $ary[$i..$ary.Length]\n",
      ">> \n"
     ]
    }
   ],
   "source": [
    "$i = 0\n",
    "foreach($ar in $ary)\n",
    "{\n",
    "  if($ar -match 'SEE ALSO')\n",
    "  {\n",
    "    break\n",
    "  }\n",
    "  $i++\n",
    "}\n",
    "# $ary[$i..$ary.Length]"
   ]
  },
  {
   "cell_type": "code",
   "execution_count": 7,
   "metadata": {},
   "outputs": [
    {
     "name": "stdout",
     "output_type": "stream",
     "text": [
      "$url_base = \"https://nbviewer.jupyter.org/github/sakai-memoru/pwshnote/blob/master/1909-powershell-{{about_item}}.ipynb\"\n",
      "\n",
      "foreach($a in $ary[($i+1)..$ary.Length]){\n",
      ">>   if(-not ($a.Trim() -eq ''))\n",
      ">>   {\n",
      ">>     if($a.Trim().startswith('about_'))\n",
      ">>     {\n",
      ">>       $url_base.Replace('{{about_item}}',$a.Trim())  \n",
      ">>     }\n",
      ">>     else\n",
      ">>     {\n",
      ">>       $a.Trim()\n",
      ">>     }\n",
      ">>   }\n",
      ">> }\n",
      ">> \n",
      "https://nbviewer.jupyter.org/github/sakai-memoru/pwshnote/blob/master/1909-powershell-about_Functions.ipynb\n",
      "https://nbviewer.jupyter.org/github/sakai-memoru/pwshnote/blob/master/1909-powershell-about_Functions_Advanced_Parameters.ipynb\n",
      "https://nbviewer.jupyter.org/github/sakai-memoru/pwshnote/blob/master/1909-powershell-about_Scripts.ipynb\n",
      "\"How to Write Cmdlet Help\" (http://go.microsoft.com/fwlink/?LinkID=123415)\n"
     ]
    }
   ],
   "source": [
    "$url_base = \"https://nbviewer.jupyter.org/github/sakai-memoru/pwshnote/blob/master/1909-powershell-{{about_item}}.ipynb\"\n",
    "\n",
    "foreach($a in $ary[($i+1)..$ary.Length]){\n",
    "  if(-not ($a.Trim() -eq ''))\n",
    "  {\n",
    "    if($a.Trim().startswith('about_'))\n",
    "    {\n",
    "      $url_base.Replace('{{about_item}}',$a.Trim())  \n",
    "    }\n",
    "    else\n",
    "    {\n",
    "      $a.Trim()\n",
    "    }\n",
    "  }\n",
    "}"
   ]
  },
  {
   "cell_type": "code",
   "execution_count": 8,
   "metadata": {},
   "outputs": [
    {
     "name": "stdout",
     "output_type": "stream",
     "text": [
      "TOPIC\n",
      "    about_Comment_Based_Help\n",
      "\n",
      "SHORT DESCRIPTION\n",
      "    Describes how to write comment-based help topics for functions and scripts.\n",
      "\n",
      "LONG DESCRIPTION\n",
      "    You can write comment-based help topics for functions and scripts by using\n",
      "    special help comment keywords.  \n",
      "\n",
      "    The Get-Help cmdlet displays comment-based help in the same format in which\n",
      "    it displays the cmdlet help topics that are generated from XML files. Users\n",
      "    can use all of the parameters of Get-Help, such as Detailed, Full, Example,\n",
      "    and Online, to display the contents of comment-based help.\n",
      "\n",
      "    You can also write XML-based help files for functions and scripts. To \n",
      "    enable the Get-Help cmdlet to find the XML-based help file for a function\n",
      "    or script, use the ExternalHelp keyword. Without this keyword, Get-Help \n",
      "    cannot find XML-based help topics for functions or scripts. \n",
      "\n",
      "    This topic explains how to write help topics for functions and scripts. For \n",
      "    information about how to display help topics for functions and scripts, see\n",
      "    Get-Help.\n",
      "\n",
      "NOTE: \n",
      "    The Update-Help and Save-Help cmdlets work only on XML files. Updatable Help\n",
      "    does not support comment-based help topics.\n",
      " \n",
      "TROUBLESHOOTING NOTE: \n",
      "    Default values and a value for \"Accept Wildcard characters\" do not appear in\n",
      "    the parameter attribute table even when they are defined in the function or\n",
      "    script. To help users, provide this information in the parameter description.\n",
      "\n",
      "\n",
      " SYNTAX FOR COMMENT-BASED HELP\n",
      "    The syntax for comment-based help is as follows:\n",
      "\n",
      "        # .< help keyword>\n",
      "        # <help content>\n",
      " \n",
      "    -or -\n",
      "\n",
      "        <#\n",
      "            .< help keyword>\n",
      "            < help content>\n",
      "        #>\n",
      "\n",
      "\n",
      " and more ...\n"
     ]
    }
   ],
   "source": [
    "$ary[0..46] + \"`r`n and more ...\""
   ]
  }
 ],
 "metadata": {
  "kernelspec": {
   "display_name": "PowerShell",
   "language": "powershell",
   "name": "powershell"
  },
  "language_info": {
   "codemirror_mode": "shell",
   "file_extension": ".ps1",
   "mimetype": "text/x-sh",
   "name": "powershell"
  }
 },
 "nbformat": 4,
 "nbformat_minor": 2
}
