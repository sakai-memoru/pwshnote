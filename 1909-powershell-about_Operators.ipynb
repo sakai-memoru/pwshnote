{
 "cells": [
  {
   "cell_type": "markdown",
   "metadata": {},
   "source": [
    "# 1909-powershell-about_Operators\n"
   ]
  },
  {
   "cell_type": "markdown",
   "metadata": {},
   "source": [
    "## overview"
   ]
  },
  {
   "cell_type": "markdown",
   "metadata": {},
   "source": [
    "- about_operators"
   ]
  },
  {
   "cell_type": "markdown",
   "metadata": {},
   "source": [
    "![Image from Gyazo](https://i.gyazo.com/9c23d8a166aeaa46a042f3b1f33dcf33.png)"
   ]
  },
  {
   "cell_type": "markdown",
   "metadata": {},
   "source": [
    "## jupyter notebook"
   ]
  },
  {
   "cell_type": "markdown",
   "metadata": {},
   "source": [
    "- https://nbviewer.jupyter.org/github/sakai-memoru/pwshnote/blob/master/1909-powershell-about_Operators.ipynb"
   ]
  },
  {
   "cell_type": "markdown",
   "metadata": {},
   "source": [
    "## Get-Help"
   ]
  },
  {
   "cell_type": "code",
   "execution_count": 2,
   "metadata": {},
   "outputs": [
    {
     "name": "stdout",
     "output_type": "stream",
     "text": [
      "\n",
      "Name                       Synopsis                                                              \n",
      "----                       --------                                                              \n",
      "about_Arithmetic_Operators Describes the operators that perform arithmetic in Windows PowerShell.\n",
      "about_Assignment_Operators Describes how to use operators to assign values to variables.         \n",
      "about_Comparison_Operators Describes the operators that compare values in Windows PowerShell.    \n",
      "about_Logical_Operators    Describes the operators that connect statements in Windows PowerShell.\n",
      "about_Operators            Describes the operators that are supported by Windows PowerShell.     \n",
      "about_Operator_Precedence  Lists the Windows PowerShell operators in precedence order.           \n",
      "about_Properties           Describes how to use object properties in Windows PowerShell.         \n",
      "about_Type_Operators       Describes the operators that work with Microsoft .NET Framework types.\n",
      "\n",
      "\n"
     ]
    }
   ],
   "source": [
    "Get-Help -Category HelpFile -Name oper | select Name, Synopsis"
   ]
  },
  {
   "cell_type": "code",
   "execution_count": 3,
   "metadata": {},
   "outputs": [
    {
     "name": "stdout",
     "output_type": "stream",
     "text": [
      "\n",
      "\n",
      "Name     : about_Operators\n",
      "Synopsis : Describes the operators that are supported by Windows PowerShell.\n",
      "\n",
      "\n",
      "\n"
     ]
    }
   ],
   "source": [
    "Get-Help -Name about_operators | select Name, Synopsis | format-list"
   ]
  },
  {
   "cell_type": "markdown",
   "metadata": {},
   "source": [
    "## about_operators"
   ]
  },
  {
   "cell_type": "markdown",
   "metadata": {},
   "source": [
    "### Synoposis\n",
    "- Describes the operators that are supported by Windows PowerShell."
   ]
  },
  {
   "cell_type": "markdown",
   "metadata": {},
   "source": [
    "### TOPIC\n",
    "    about_Operators\n",
    "\n",
    "### SHORT DESCRIPTION\n",
    "    Describes the operators that are supported by Windows PowerShell. \n",
    "\n",
    "### LONG DESCRIPTION\n",
    "    An operator is a language element that you can use in a command or\n",
    "    expression. Windows PowerShell supports several types of operators to\n",
    "    help you manipulate values."
   ]
  },
  {
   "cell_type": "markdown",
   "metadata": {},
   "source": [
    "### Operators"
   ]
  },
  {
   "cell_type": "markdown",
   "metadata": {},
   "source": [
    "####  Arithmetic Operators\n",
    "      Use arithmetic operators (+, -, *, /, %) to calculate values in a command\n",
    "      or expression. With these operators, you can add, subtract, multiply, or\n",
    "      divide values, and calculate the remainder (modulus) of a division \n",
    "      operation.\n",
    "\n",
    "\n",
    "      You can also use arithmetic operators with strings, arrays, and hash \n",
    "      tables. The addition operator concatenates elements. The multiplication\n",
    "      operator returns the specified number of copies of each element.\n",
    "\n",
    "\n",
    "      For more information, see about_Arithmetic_Operators. "
   ]
  },
  {
   "cell_type": "markdown",
   "metadata": {},
   "source": [
    "####  Assignment Operators\n",
    "      Use assignment operators (=, +=, -=, *=, /=, %=) to assign one or more\n",
    "      values to variables, to change the values in a variable, and to append\n",
    "      values to variables. You can also cast the variable as any Microsoft .NET\n",
    "      Framework data type, such as string or DateTime, or Process variable.\n",
    "\n",
    "\n",
    "      For more information, see about_Assignment_Operators."
   ]
  },
  {
   "cell_type": "markdown",
   "metadata": {},
   "source": [
    "####  Comparison Operators\n",
    "      Use comparison operators (-eq, -ne, -gt, -lt, -le, -ge) to compare values\n",
    "      and test conditions. For example, you can compare two string values to \n",
    "      determine whether they are equal. \n",
    "\n",
    "\n",
    "      The comparison operators include the match operators (-match, -notmatch), \n",
    "      which find patterns by using regular expressions; the replace operator \n",
    "      (-replace), which uses regular expressions to change input values; the\n",
    "      like operators (-like, -notlike), which find patterns using wildcard \n",
    "      characters (*); and the containment operators (-in, -notin, -contains, \n",
    "      -notcontains), which determine whether a test value appears in a reference\n",
    "      set.\n",
    "\n",
    "      They also include the bitwise operators (-bAND, -bOR, -bXOR, -bNOT) to \n",
    "      manipulate the bit patterns in values.\n",
    "\n",
    "\n",
    "    For more information, see about_Comparison_Operators "
   ]
  },
  {
   "cell_type": "markdown",
   "metadata": {},
   "source": [
    "####  Logical Operators\n",
    "      Use logical operators (-and, -or, -xor, -not, !) to connect conditional\n",
    "      statements into a single complex conditional. For example, you can use a\n",
    "      logical -and operator to create an object filter with two different \n",
    "      conditions.\n",
    "\n",
    "\n",
    "      For more information, see about_Logical_Operators."
   ]
  },
  {
   "cell_type": "markdown",
   "metadata": {},
   "source": [
    "####  Redirection Operators\n",
    "      Use redirection operators (>, >>, 2>, 2>, and 2>&1) to send the output of\n",
    "      a command or expression to a text file. The redirection operators work \n",
    "      like the Out-File cmdlet (without parameters) but they also let you \n",
    "      redirect error output to specified files. You can also use the Tee-Object\n",
    "      cmdlet to redirect output.\n",
    "\n",
    "\n",
    "      For more information, see about_Redirection."
   ]
  },
  {
   "cell_type": "markdown",
   "metadata": {},
   "source": [
    "####  Split and Join Operators\n",
    "      The -split and -join operators divide and combine substrings. The -split \n",
    "      operator splits a string into substrings. The -join operator concatenates\n",
    "      multiple strings into a single string.\n",
    "\n",
    "\n",
    "      For more information, see about_Split and about_Join."
   ]
  },
  {
   "cell_type": "markdown",
   "metadata": {},
   "source": [
    "####  Type Operators\n",
    "      Use the type operators (-is, -isnot, -as) to find or change the .NET \n",
    "      Framework type of an object. \n",
    "\n",
    "      For more information, see about_Type_Operators."
   ]
  },
  {
   "cell_type": "markdown",
   "metadata": {},
   "source": [
    "####  Unary Operators\n",
    "      Use unary operators to increment or decrement variables or object \n",
    "      properties and to set integers to positive or negative numbers. For \n",
    "      example, to increment the variable $a from 9 to 10, you type $a++."
   ]
  },
  {
   "cell_type": "markdown",
   "metadata": {},
   "source": [
    "####  Special Operators\n",
    "      Use special operators to perform tasks that cannot be performed by the \n",
    "      other types of operators. For example, special operators allow you to \n",
    "      perform operations such as running commands and changing a value's data \n",
    "      type.\n",
    "\n",
    "    "
   ]
  },
  {
   "cell_type": "markdown",
   "metadata": {},
   "source": [
    "####      @( ) Array subexpression operator\n",
    "         Returns the result of one or more statements as an array. \n",
    "         If there is only one item, the array has only one member. \n",
    "\n",
    "\n",
    "             @(Get-WMIObject win32_logicalDisk)"
   ]
  },
  {
   "cell_type": "markdown",
   "metadata": {},
   "source": [
    "####      & Call operator\n",
    "         Runs a command, script, or script block. The call operator, also known as\n",
    "         the \"invocation operator,\" lets you run commands that are stored in\n",
    "         variables and represented by strings. Because the call operator does not\n",
    "         parse the command, it cannot interpret command parameters. \n",
    "\n",
    "             C:\\PS> $c = \"get-executionpolicy\"\n",
    "             C:\\PS> $c\n",
    "             get-executionpolicy\n",
    " \n",
    "             C:\\PS> & $c\n",
    "             AllSigned"
   ]
  },
  {
   "cell_type": "markdown",
   "metadata": {},
   "source": [
    "####      [ ] Cast operator\n",
    "           Converts or limits objects to the specified type. If the objects\n",
    "           cannot be converted, Windows PowerShell generates an error.\n",
    "\n",
    "             [datetime]$birthday = \"1/20/88\"\n",
    "             [int64]$a = 34  "
   ]
  },
  {
   "cell_type": "markdown",
   "metadata": {},
   "source": [
    "####      , Comma operator\n",
    "         As a binary operator, the comma creates an array. As a unary\n",
    "         operator, the comma creates an array with one member. Place the\n",
    "         comma before the member.\n",
    "\n",
    "\n",
    "             $myArray = 1,2,3 \n",
    "             $SingleArray = ,1     "
   ]
  },
  {
   "cell_type": "markdown",
   "metadata": {},
   "source": [
    "####      . Dot sourcing operator\n",
    "         Runs a script in the current scope so that any functions,\n",
    "         aliases, and variables that the script creates are added to the current\n",
    "         scope. \n",
    "\n",
    "             . c:\\scripts.sample.ps1\n",
    "\n",
    "\n",
    "         Note: The dot sourcing operator is followed by a space. Use the space to\n",
    "               distinguish the dot from the dot (.) symbol that represents the \n",
    "               current directory.\n",
    " \n",
    "               In the following example, the Sample.ps1 script in the current \n",
    "               directory is run in the current scope.\n",
    "\n",
    "                 . .\\sample.ps1"
   ]
  },
  {
   "cell_type": "markdown",
   "metadata": {},
   "source": [
    "####      -f Format operator\n",
    "          Formats strings by using the format method of string \n",
    "          objects. Enter the format string on the left side of the operator \n",
    "          and the objects to be formatted on the right side of the operator.\n",
    "        \n",
    "\n",
    "             C:\\PS> \"{0} {1,-10} {2:N}\" -f 1,\"hello\",[math]::pi\n",
    "             1 hello      3.14\n",
    "\n",
    "          For more information, see the String.Format method \n",
    "          (http://go.microsoft.com/fwlink/?LinkID=166450) and \n",
    "          Composite Formatting (http://go.microsoft.com/fwlink/?LinkID=166451)."
   ]
  },
  {
   "cell_type": "markdown",
   "metadata": {},
   "source": [
    "####      [ ] Index operator\n",
    "           Selects objects from indexed collections, such as arrays and\n",
    "           hash tables. Array indexes are zero-based, so the first object \n",
    "           is indexed as [0]. For arrays (only), you can also use negative\n",
    "           indexes to get the last values. Hash tables are indexed by key\n",
    "           value.\n",
    "\n",
    "             C:\\PS> $a = 1, 2, 3\n",
    "             C:\\PS> $a[0]\n",
    "             1\n",
    "             C:\\PS> $a[-1]\n",
    "             3\n",
    "\n",
    "\n",
    "             C:\\PS> (get-hotfix | sort installedOn)[-1]\n",
    "\n",
    "           \n",
    "             C:\\PS> $h = @{key=\"value\"; name=\"Windows PowerShell\"; version=\"2.0\"}\n",
    "             C:\\PS> $h[\"name\"]\n",
    "             Windows PowerShell\n",
    "\n",
    "\n",
    "             C:\\PS> $x = [xml]\"<doc><intro>Once upon a time...</intro></doc>\"\n",
    "             C:\\PS> $x[\"doc\"]\n",
    "             intro\n",
    "             -----\n",
    "             Once upon a time...\n",
    "\n",
    "           "
   ]
  },
  {
   "cell_type": "markdown",
   "metadata": {},
   "source": [
    "####      | Pipeline operator\n",
    "         Sends (\"pipes\") the output of the command that precedes it to the\n",
    "         command that follows it. When the output includes more than one object\n",
    "         (a \"collection\"), the pipeline operator sends the objects one at a time.\n",
    "\n",
    "               get-process | get-member\n",
    "               get-pssnapin | where {$_.vendor -ne \"Microsoft\"}                              "
   ]
  },
  {
   "cell_type": "markdown",
   "metadata": {},
   "source": [
    "####      . Property dereference operator\n",
    "         Accesses the properties and methods of an object. \n",
    "         \n",
    "\n",
    "             $myProcess.peakWorkingSet\n",
    "             (get-process PowerShell).kill()"
   ]
  },
  {
   "cell_type": "markdown",
   "metadata": {},
   "source": [
    "####      .. Range operator\n",
    "          Represents the sequential integers in an integer array, \n",
    "          given an upper and lower boundary.\n",
    "\n",
    "\n",
    "             1..10\n",
    "             10..1\n",
    "             foreach ($a in 1..$max) {write-host $a}"
   ]
  },
  {
   "cell_type": "markdown",
   "metadata": {},
   "source": [
    "####      :: Static member operator\n",
    "          Calls the static properties operator and methods of a .NET\n",
    "          Framework class. To find the static properties and methods of an \n",
    "          object, use the Static parameter of the Get-Member cmdlet. \n",
    "\n",
    "\n",
    "             [datetime]::now\n",
    "   "
   ]
  },
  {
   "cell_type": "markdown",
   "metadata": {},
   "source": [
    "####      $( ) Subexpression operator\n",
    "         Returns the result of one or more statements. For a \n",
    "         single result, returns a scalar. For multiple results, returns an \n",
    "         array.\n",
    "\n",
    "\n",
    "             $($x * 23)\n",
    "             $(Get-WMIObject win32_Directory)\n",
    "\n",
    "                       \n",
    "\n",
    "\n",
    "       "
   ]
  },
  {
   "cell_type": "markdown",
   "metadata": {},
   "source": [
    "#### SEE ALSO\n",
    "    about_Arithmetic_Operators\n",
    "    about_Assignment_Operators\n",
    "    about_Comparison_Operators\n",
    "    about_Logical_Operators\n",
    "    about_Type_Operators\n",
    "    about_Split\n",
    "    about_Join\n",
    "    about_Redirection"
   ]
  },
  {
   "cell_type": "code",
   "execution_count": 7,
   "metadata": {},
   "outputs": [
    {
     "name": "stdout",
     "output_type": "stream",
     "text": [
      "Get-Help about_operators\n",
      "TOPIC\n",
      "    about_Operators\n",
      "\n",
      "SHORT DESCRIPTION\n",
      "    Describes the operators that are supported by Windows PowerShell. \n",
      "\n",
      "LONG DESCRIPTION\n",
      "    An operator is a language element that you can use in a command or\n",
      "    expression. Windows PowerShell supports several types of operators to\n",
      "    help you manipulate values.\n",
      "\n",
      "\n",
      "  Arithmetic Operators\n",
      "      Use arithmetic operators (+, -, *, /, %) to calculate values in a command\n",
      "      or expression. With these operators, you can add, subtract, multiply, or\n",
      "      divide values, and calculate the remainder (modulus) of a division \n",
      "      operation.\n",
      "\n",
      "\n",
      "      You can also use arithmetic operators with strings, arrays, and hash \n",
      "      tables. The addition operator concatenates elements. The multiplication\n",
      "      operator returns the specified number of copies of each element.\n",
      "\n",
      "\n",
      "      For more information, see about_Arithmetic_Operators. \n",
      "\n",
      "\n",
      "  Assignment Operators\n",
      "      Use assignment operators (=, +=, -=, *=, /=, %=) to assign one or more\n",
      "      values to variables, to change the values in a variable, and to append\n",
      "      values to variables. You can also cast the variable as any Microsoft .NET\n",
      "      Framework data type, such as string or DateTime, or Process variable.\n",
      "\n",
      "\n",
      "      For more information, see about_Assignment_Operators.\n",
      "\n",
      "\n",
      "  Comparison Operators\n",
      "      Use comparison operators (-eq, -ne, -gt, -lt, -le, -ge) to compare values\n",
      "      and test conditions. For example, you can compare two string values to \n",
      "      determine whether they are equal. \n",
      "\n",
      "\n",
      "      The comparison operators include the match operators (-match, -notmatch), \n",
      "      which find patterns by using regular expressions; the replace operator \n",
      "      (-replace), which uses regular expressions to change input values; the\n",
      "      like operators (-like, -notlike), which find patterns using wildcard \n",
      "      characters (*); and the containment operators (-in, -notin, -contains, \n",
      "      -notcontains), which determine whether a test value appears in a reference\n",
      "      set.\n",
      "\n",
      "      They also include the bitwise operators (-bAND, -bOR, -bXOR, -bNOT) to \n",
      "      manipulate the bit patterns in values.\n",
      "\n",
      "\n",
      "    For more information, see about_Comparison_Operators \n",
      "\n",
      "\n",
      "  Logical Operators\n",
      "      Use logical operators (-and, -or, -xor, -not, !) to connect conditional\n",
      "      statements into a single complex conditional. For example, you can use a\n",
      "      logical -and operator to create an object filter with two different \n",
      "      conditions.\n",
      "\n",
      "\n",
      "      For more information, see about_Logical_Operators.\n",
      "\n",
      "\n",
      "  Redirection Operators\n",
      "      Use redirection operators (>, >>, 2>, 2>, and 2>&1) to send the output of\n",
      "      a command or expression to a text file. The redirection operators work \n",
      "      like the Out-File cmdlet (without parameters) but they also let you \n",
      "      redirect error output to specified files. You can also use the Tee-Object\n",
      "      cmdlet to redirect output.\n",
      "\n",
      "\n",
      "      For more information, see about_Redirection.\n",
      "\n",
      "\n",
      "  Split and Join Operators\n",
      "      The -split and -join operators divide and combine substrings. The -split \n",
      "      operator splits a string into substrings. The -join operator concatenates\n",
      "      multiple strings into a single string.\n",
      "\n",
      "\n",
      "      For more information, see about_Split and about_Join.\n",
      "\n",
      "\n",
      "  Type Operators\n",
      "      Use the type operators (-is, -isnot, -as) to find or change the .NET \n",
      "      Framework type of an object. \n",
      "\n",
      "      For more information, see about_Type_Operators.\n",
      "\n",
      "\n",
      "  Unary Operators\n",
      "      Use unary operators to increment or decrement variables or object \n",
      "      properties and to set integers to positive or negative numbers. For \n",
      "      example, to increment the variable $a from 9 to 10, you type $a++.\n",
      "\n",
      "\n",
      "  Special Operators\n",
      "      Use special operators to perform tasks that cannot be performed by the \n",
      "      other types of operators. For example, special operators allow you to \n",
      "      perform operations such as running commands and changing a value's data \n",
      "      type.\n",
      "\n",
      "    \n",
      "\n",
      "      @( ) Array subexpression operator\n",
      "         Returns the result of one or more statements as an array. \n",
      "         If there is only one item, the array has only one member. \n",
      "\n",
      "\n",
      "             @(Get-WMIObject win32_logicalDisk)\n",
      "\n",
      "\n",
      "\n",
      "      & Call operator\n",
      "         Runs a command, script, or script block. The call operator, also known as\n",
      "         the \"invocation operator,\" lets you run commands that are stored in\n",
      "         variables and represented by strings. Because the call operator does not\n",
      "         parse the command, it cannot interpret command parameters. \n",
      "\n",
      "             C:\\PS> $c = \"get-executionpolicy\"\n",
      "             C:\\PS> $c\n",
      "             get-executionpolicy\n",
      " \n",
      "             C:\\PS> & $c\n",
      "             AllSigned\n",
      "\n",
      "\n",
      "\n",
      "      [ ] Cast operator\n",
      "           Converts or limits objects to the specified type. If the objects\n",
      "           cannot be converted, Windows PowerShell generates an error.\n",
      "\n",
      "             [datetime]$birthday = \"1/20/88\"\n",
      "             [int64]$a = 34  \n",
      "\n",
      "\n",
      "\n",
      "      , Comma operator\n",
      "         As a binary operator, the comma creates an array. As a unary\n",
      "         operator, the comma creates an array with one member. Place the\n",
      "         comma before the member.\n",
      "\n",
      "\n",
      "             $myArray = 1,2,3 \n",
      "             $SingleArray = ,1     \n",
      "\n",
      "\n",
      "\n",
      "      . Dot sourcing operator\n",
      "         Runs a script in the current scope so that any functions,\n",
      "         aliases, and variables that the script creates are added to the current\n",
      "         scope. \n",
      "\n",
      "             . c:\\scripts.sample.ps1\n",
      "\n",
      "\n",
      "         Note: The dot sourcing operator is followed by a space. Use the space to\n",
      "               distinguish the dot from the dot (.) symbol that represents the \n",
      "               current directory.\n",
      " \n",
      "               In the following example, the Sample.ps1 script in the current \n",
      "               directory is run in the current scope.\n",
      "\n",
      "                 . .\\sample.ps1\n",
      "\n",
      "\n",
      "\n",
      "      -f Format operator\n",
      "          Formats strings by using the format method of string \n",
      "          objects. Enter the format string on the left side of the operator \n",
      "          and the objects to be formatted on the right side of the operator.\n",
      "        \n",
      "\n",
      "             C:\\PS> \"{0} {1,-10} {2:N}\" -f 1,\"hello\",[math]::pi\n",
      "             1 hello      3.14\n",
      "\n",
      "          For more information, see the String.Format method \n",
      "          (http://go.microsoft.com/fwlink/?LinkID=166450) and \n",
      "          Composite Formatting (http://go.microsoft.com/fwlink/?LinkID=166451).\n",
      "\n",
      "\n",
      "\n",
      "      [ ] Index operator\n",
      "           Selects objects from indexed collections, such as arrays and\n",
      "           hash tables. Array indexes are zero-based, so the first object \n",
      "           is indexed as [0]. For arrays (only), you can also use negative\n",
      "           indexes to get the last values. Hash tables are indexed by key\n",
      "           value.\n",
      "\n",
      "             C:\\PS> $a = 1, 2, 3\n",
      "             C:\\PS> $a[0]\n",
      "             1\n",
      "             C:\\PS> $a[-1]\n",
      "             3\n",
      "\n",
      "\n",
      "             C:\\PS> (get-hotfix | sort installedOn)[-1]\n",
      "\n",
      "           \n",
      "             C:\\PS> $h = @{key=\"value\"; name=\"Windows PowerShell\"; version=\"2.0\"}\n",
      "             C:\\PS> $h[\"name\"]\n",
      "             Windows PowerShell\n",
      "\n",
      "\n",
      "             C:\\PS> $x = [xml]\"<doc><intro>Once upon a time...</intro></doc>\"\n",
      "             C:\\PS> $x[\"doc\"]\n",
      "             intro\n",
      "             -----\n",
      "             Once upon a time...\n",
      "\n",
      "           \n",
      "\n",
      "\n",
      "\n",
      "      | Pipeline operator\n",
      "         Sends (\"pipes\") the output of the command that precedes it to the\n",
      "         command that follows it. When the output includes more than one object\n",
      "         (a \"collection\"), the pipeline operator sends the objects one at a time.\n",
      "\n",
      "               get-process | get-member\n",
      "               get-pssnapin | where {$_.vendor -ne \"Microsoft\"}                              \n",
      "\n",
      "\n",
      "\n",
      "      . Property dereference operator\n",
      "         Accesses the properties and methods of an object. \n",
      "         \n",
      "\n",
      "             $myProcess.peakWorkingSet\n",
      "             (get-process PowerShell).kill()\n",
      "\n",
      "\n",
      "\n",
      "      .. Range operator\n",
      "          Represents the sequential integers in an integer array, \n",
      "          given an upper and lower boundary.\n",
      "\n",
      "\n",
      "             1..10\n",
      "             10..1\n",
      "             foreach ($a in 1..$max) {write-host $a}\n",
      "\n",
      "\n",
      "\n",
      "      :: Static member operator\n",
      "          Calls the static properties operator and methods of a .NET\n",
      "          Framework class. To find the static properties and methods of an \n",
      "          object, use the Static parameter of the Get-Member cmdlet. \n",
      "\n",
      "\n",
      "             [datetime]::now\n",
      "   \n",
      "\n",
      "\n",
      "\n",
      "      $( ) Subexpression operator\n",
      "         Returns the result of one or more statements. For a \n",
      "         single result, returns a scalar. For multiple results, returns an \n",
      "         array.\n",
      "\n",
      "\n",
      "             $($x * 23)\n",
      "             $(Get-WMIObject win32_Directory)\n",
      "\n",
      "                       \n",
      "\n",
      "\n",
      "       \n",
      "SEE ALSO\n",
      "    about_Arithmetic_Operators\n",
      "    about_Assignment_Operators\n",
      "    about_Comparison_Operators\n",
      "    about_Logical_Operators\n",
      "    about_Type_Operators\n",
      "    about_Split\n",
      "    about_Join\n",
      "    about_Redirection\n",
      "\n",
      "\n",
      "\n",
      "\n",
      "\n",
      "\n",
      "\n",
      "\n",
      "\n",
      "\n",
      "\n",
      "\n",
      "\n",
      "\n",
      "\n"
     ]
    }
   ],
   "source": [
    "Get-Help about_operators\n",
    "\n"
   ]
  },
  {
   "cell_type": "code",
   "execution_count": null,
   "metadata": {},
   "outputs": [],
   "source": []
  }
 ],
 "metadata": {
  "kernelspec": {
   "display_name": "PowerShell",
   "language": "powershell",
   "name": "powershell"
  },
  "language_info": {
   "codemirror_mode": "shell",
   "file_extension": ".ps1",
   "mimetype": "text/x-sh",
   "name": "powershell"
  }
 },
 "nbformat": 4,
 "nbformat_minor": 2
}
