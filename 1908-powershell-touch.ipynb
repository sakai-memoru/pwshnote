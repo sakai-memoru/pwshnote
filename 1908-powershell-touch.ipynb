{
 "cells": [
  {
   "cell_type": "markdown",
   "metadata": {},
   "source": [
    "# 1908-powershell-touch"
   ]
  },
  {
   "cell_type": "markdown",
   "metadata": {},
   "source": [
    "## reference"
   ]
  },
  {
   "cell_type": "markdown",
   "metadata": {},
   "source": [
    "- 【 New-Item 】コマンドレット――ファイル／フォルダを新規作成する\n",
    "    - https://www.atmarkit.co.jp/ait/articles/1606/23/news017.html"
   ]
  },
  {
   "cell_type": "markdown",
   "metadata": {},
   "source": [
    "## log"
   ]
  },
  {
   "cell_type": "code",
   "execution_count": 1,
   "metadata": {},
   "outputs": [
    {
     "name": "stdout",
     "output_type": "stream",
     "text": [
      "\n",
      "Alias           mount -> New-PSDrive                                                                                   \n",
      "Alias           nal -> New-Alias                                                                                       \n",
      "Alias           ndr -> New-PSDrive                                                                                     \n",
      "Alias           ni -> New-Item                                                                                         \n",
      "Alias           nmo -> New-Module                                                                                      \n",
      "Alias           npssc -> New-PSSessionConfigurationFile                                                                \n",
      "Alias           nsn -> New-PSSession                                                                                   \n",
      "Alias           nv -> New-Variable                                                                                     \n",
      "\n",
      "\n"
     ]
    }
   ],
   "source": [
    "get-alias | out-string -stream | select-string \"New\""
   ]
  },
  {
   "cell_type": "code",
   "execution_count": 2,
   "metadata": {},
   "outputs": [
    {
     "name": "stdout",
     "output_type": "stream",
     "text": [
      "New-Item : A parameter cannot be found that matches parameter name 'file'.\n",
      "At line:1 char:4\n",
      "+ ni -file README.md\n",
      "+    ~~~~~\n",
      "    + CategoryInfo          : InvalidArgument: (:) [New-Item], ParameterBindingException\n",
      "    + FullyQualifiedErrorId : NamedParameterNotFound,Microsoft.PowerShell.Commands.NewItemCommand\n",
      " \n"
     ]
    }
   ],
   "source": [
    "ni -file README.md"
   ]
  },
  {
   "cell_type": "code",
   "execution_count": 3,
   "metadata": {},
   "outputs": [
    {
     "name": "stdout",
     "output_type": "stream",
     "text": [
      "\n",
      "NAME\n",
      "    New-Item\n",
      "    \n",
      "SYNTAX\n",
      "    New-Item [-Path] <string[]> [-ItemType <string>] [-Value <Object>] [-Force] [-Credential <pscredential>] [-WhatIf] \n",
      "    [-Confirm] [-UseTransaction]  [<CommonParameters>]\n",
      "    \n",
      "    New-Item [[-Path] <string[]>] -Name <string> [-ItemType <string>] [-Value <Object>] [-Force] [-Credential \n",
      "    <pscredential>] [-WhatIf] [-Confirm] [-UseTransaction]  [<CommonParameters>]\n",
      "    \n",
      "\n",
      "ALIASES\n",
      "    ni\n",
      "    \n",
      "\n",
      "REMARKS\n",
      "    Get-Help cannot find the Help files for this cmdlet on this computer. It is displaying only partial help.\n",
      "        -- To download and install Help files for the module that includes this cmdlet, use Update-Help.\n",
      "        -- To view the Help topic for this cmdlet online, type: \"Get-Help New-Item -Online\" or \n",
      "           go to https://go.microsoft.com/fwlink/?LinkID=113353.\n",
      "\n",
      "\n",
      "\n",
      "\n"
     ]
    }
   ],
   "source": [
    "help new-item"
   ]
  },
  {
   "cell_type": "code",
   "execution_count": 4,
   "metadata": {},
   "outputs": [
    {
     "name": "stdout",
     "output_type": "stream",
     "text": [
      "explorer .\n",
      "\n",
      "\n"
     ]
    }
   ],
   "source": [
    "explorer .\n"
   ]
  },
  {
   "cell_type": "code",
   "execution_count": 7,
   "metadata": {},
   "outputs": [
    {
     "name": "stdout",
     "output_type": "stream",
     "text": []
    }
   ],
   "source": [
    "$str_here_document = @'\n",
    "# pwshnote\n",
    "## overview\n",
    "- a repository for powershell jupyter notebook\n",
    "- To try a powershell script on jupyter notebook\n",
    "\n",
    "- GitHub Page\n",
    "    + https://sakai-memoru.github.io/pwshnote/\n",
    "\n",
    "// -- end of README.md\n",
    "\n",
    "'@"
   ]
  },
  {
   "cell_type": "code",
   "execution_count": 8,
   "metadata": {},
   "outputs": [
    {
     "name": "stdout",
     "output_type": "stream",
     "text": [
      "\n",
      "\n",
      "    Directory: G:\\workspace\\pwshnote\n",
      "\n",
      "\n",
      "Mode                LastWriteTime         Length Name                                                                  \n",
      "----                -------------         ------ ----                                                                  \n",
      "-a----       16/08/2019     06:08            202 README.md                                                             \n",
      "\n",
      "\n"
     ]
    }
   ],
   "source": [
    "ni README.md -value $str_here_document"
   ]
  },
  {
   "cell_type": "code",
   "execution_count": 9,
   "metadata": {},
   "outputs": [
    {
     "name": "stdout",
     "output_type": "stream",
     "text": []
    }
   ],
   "source": [
    "Get-Help New-Item -Online"
   ]
  },
  {
   "cell_type": "code",
   "execution_count": null,
   "metadata": {},
   "outputs": [],
   "source": []
  }
 ],
 "metadata": {
  "kernelspec": {
   "display_name": "PowerShell",
   "language": "powershell",
   "name": "powershell"
  },
  "language_info": {
   "codemirror_mode": "shell",
   "file_extension": ".ps1",
   "mimetype": "text/x-sh",
   "name": "powershell"
  }
 },
 "nbformat": 4,
 "nbformat_minor": 2
}
