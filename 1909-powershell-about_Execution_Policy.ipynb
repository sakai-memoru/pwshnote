{
 "cells": [
  {
   "cell_type": "markdown",
   "metadata": {},
   "source": [
    "# 1909-powershell-about_Execution_Policy"
   ]
  },
  {
   "cell_type": "markdown",
   "metadata": {},
   "source": [
    "## overview"
   ]
  },
  {
   "cell_type": "markdown",
   "metadata": {},
   "source": [
    "- about_Execution_Policy"
   ]
  },
  {
   "cell_type": "markdown",
   "metadata": {},
   "source": [
    "![Image from Gyazo](https://i.gyazo.com/9c23d8a166aeaa46a042f3b1f33dcf33.png)"
   ]
  },
  {
   "cell_type": "markdown",
   "metadata": {},
   "source": [
    "## jupyter notebook"
   ]
  },
  {
   "cell_type": "markdown",
   "metadata": {},
   "source": [
    "- https://nbviewer.jupyter.org/github/sakai-memoru/pwshnote/blob/master/1909-powershell-about_Execution_Policy.ipynb"
   ]
  },
  {
   "cell_type": "markdown",
   "metadata": {},
   "source": [
    "## Usage"
   ]
  },
  {
   "cell_type": "markdown",
   "metadata": {},
   "source": [
    "### Get-Help"
   ]
  },
  {
   "cell_type": "code",
   "execution_count": 2,
   "metadata": {},
   "outputs": [
    {
     "name": "stdout",
     "output_type": "stream",
     "text": [
      "\n",
      "\n",
      "Name     : about_Execution_Policies\n",
      "Synopsis : Describes the Windows PowerShell execution policies and explains\n",
      "\n",
      "\n",
      "\n"
     ]
    }
   ],
   "source": [
    "Get-Help -Category helpfile about_execut* | select Name, Synopsis | format-list *"
   ]
  },
  {
   "cell_type": "code",
   "execution_count": 48,
   "metadata": {},
   "outputs": [
    {
     "name": "stdout",
     "output_type": "stream",
     "text": [
      "Get-Help : The online version of this Help topic cannot be displayed because the Internet address (URI) of the Help \n",
      "topic is not specified in the command code or in the help file for the command.\n",
      "At line:1 char:1\n",
      "+ Get-Help about_Execution_Policies -online\n",
      "+ ~~~~~~~~~~~~~~~~~~~~~~~~~~~~~~~~~~~~~~~~~\n",
      "    + CategoryInfo          : InvalidOperation: (:) [Get-Help], PSInvalidOperationException\n",
      "    + FullyQualifiedErrorId : InvalidOperation,Microsoft.PowerShell.Commands.GetHelpCommand\n",
      " \n"
     ]
    }
   ],
   "source": [
    "Get-Help about_Execution_Policies -online"
   ]
  },
  {
   "cell_type": "markdown",
   "metadata": {},
   "source": [
    "### about_Comment_Based_Help"
   ]
  },
  {
   "cell_type": "code",
   "execution_count": 4,
   "metadata": {},
   "outputs": [
    {
     "name": "stdout",
     "output_type": "stream",
     "text": []
    }
   ],
   "source": [
    "Get-Help about_Execution_Policies | \n",
    "  set -Name store"
   ]
  },
  {
   "cell_type": "code",
   "execution_count": 6,
   "metadata": {},
   "outputs": [
    {
     "name": "stdout",
     "output_type": "stream",
     "text": [
      "System.String\n"
     ]
    }
   ],
   "source": [
    "$store.GetType().Fullname"
   ]
  },
  {
   "cell_type": "code",
   "execution_count": 8,
   "metadata": {},
   "outputs": [
    {
     "name": "stdout",
     "output_type": "stream",
     "text": []
    }
   ],
   "source": [
    "$store -split \"`r`n\" | set -Name ary"
   ]
  },
  {
   "cell_type": "code",
   "execution_count": 5,
   "metadata": {},
   "outputs": [
    {
     "name": "stdout",
     "output_type": "stream",
     "text": [
      "826\n"
     ]
    }
   ],
   "source": [
    "$ary.length"
   ]
  },
  {
   "cell_type": "code",
   "execution_count": 9,
   "metadata": {},
   "outputs": [
    {
     "name": "stdout",
     "output_type": "stream",
     "text": []
    }
   ],
   "source": [
    "$i = 0\n",
    "foreach($ar in $ary)\n",
    "{\n",
    "  if($ar -match 'SEE ALSO')\n",
    "  {\n",
    "    break\n",
    "  }\n",
    "  $i++\n",
    "}\n",
    "# $ary[$i..$ary.Length]"
   ]
  },
  {
   "cell_type": "code",
   "execution_count": 49,
   "metadata": {},
   "outputs": [
    {
     "name": "stdout",
     "output_type": "stream",
     "text": [
      "$url_base = \"https://nbviewer.jupyter.org/github/sakai-memoru/pwshnote/blob/master/1909-powershell-{{about_item}}.ipynb\"\n",
      "\n",
      "foreach($a in $ary[($i+1)..$ary.Length]){\n",
      ">>   if(-not ($a.Trim() -eq ''))\n",
      ">>   {\n",
      ">>     if($a.Trim().startswith('about_'))\n",
      ">>     {\n",
      ">>       $url_base.Replace('{{about_item}}',$a.Trim())  \n",
      ">>     }\n",
      ">>     else\n",
      ">>     {\n",
      ">>       $a.Trim()\n",
      ">>     }\n",
      ">>   }\n",
      ">> }\n",
      ">> \n",
      "https://nbviewer.jupyter.org/github/sakai-memoru/pwshnote/blob/master/1909-powershell-about_Environment_Variables.ipynb\n",
      "https://nbviewer.jupyter.org/github/sakai-memoru/pwshnote/blob/master/1909-powershell-about_Signing.ipynb\n",
      "Get-ExecutionPolicy\n",
      "Set-ExecutionPolicy\n",
      "Get-Item\n",
      "Unblock-File\n",
      "\"Administrative Templates for Windows PowerShell\""
     ]
    }
   ],
   "source": [
    "$url_base = \"https://nbviewer.jupyter.org/github/sakai-memoru/pwshnote/blob/master/1909-powershell-{{about_item}}.ipynb\"\n",
    "\n",
    "foreach($a in $ary[($i+1)..$ary.Length]){\n",
    "  if(-not ($a.Trim() -eq ''))\n",
    "  {\n",
    "    if($a.Trim().startswith('about_'))\n",
    "    {\n",
    "      $url_base.Replace('{{about_item}}',$a.Trim())  \n",
    "    }\n",
    "    else\n",
    "    {\n",
    "      $a.Trim()\n",
    "    }\n",
    "  }\n",
    "}"
   ]
  },
  {
   "cell_type": "code",
   "execution_count": 16,
   "metadata": {},
   "outputs": [
    {
     "name": "stdout",
     "output_type": "stream",
     "text": [
      "TOPIC\n",
      "    about_Execution_Policies\n",
      "\n",
      "SHORT DESCRIPTION\n",
      "    Describes the Windows PowerShell execution policies and explains\n",
      "    how to manage them.\n",
      "\n",
      "LONG DESCRIPTION\n",
      "    Windows PowerShell execution policies let you determine the\n",
      "    conditions under which Windows PowerShell loads configuration files\n",
      "    and runs scripts.\n",
      "\n",
      "    You can set an execution policy for the local computer, for the current\n",
      "    user, or for a particular session. You can also use a Group Policy\n",
      "    setting to set execution policy for computers and users.\n",
      "\n",
      "    Execution policies for the local computer and current user are stored\n",
      "    in the registry. You do not need to set execution policies in your\n",
      "    Windows PowerShell profile. The execution policy for a particular session\n",
      "    is stored only in memory and is lost when the session is closed.\n",
      "\n",
      "    The execution policy is not a security system that restricts user actions.\n",
      "    For example, users can easily circumvent a policy by typing the script \n",
      "    contents at the command line when they cannot run a script. Instead, the\n",
      "    execution policy helps users to set basic rules and prevents them from \n",
      "    violating them unintentionally.\n",
      "\n",
      "\n",
      "\n",
      " and more ...\n"
     ]
    }
   ],
   "source": [
    "$ary[0..27] + \"`r`n and more ...\""
   ]
  },
  {
   "cell_type": "markdown",
   "metadata": {},
   "source": [
    "### Get-ExecutionPolicy"
   ]
  },
  {
   "cell_type": "code",
   "execution_count": 18,
   "metadata": {},
   "outputs": [
    {
     "name": "stdout",
     "output_type": "stream",
     "text": [
      "Bypass\n"
     ]
    }
   ],
   "source": [
    "Get-ExecutionPolicy"
   ]
  },
  {
   "cell_type": "code",
   "execution_count": 20,
   "metadata": {},
   "outputs": [
    {
     "name": "stdout",
     "output_type": "stream",
     "text": [
      "\n",
      "NAME\n",
      "    Get-ExecutionPolicy\n",
      "    \n",
      "SYNOPSIS\n",
      "    Gets the execution policies for the current session.\n",
      "    \n",
      "    \n",
      "SYNTAX\n",
      "    Get-ExecutionPolicy [[-Scope] {Process | CurrentUser | LocalMachine | UserPolicy | MachinePolicy}] [-List] \n",
      "    [<CommonParameters>]\n",
      "    \n",
      "    \n",
      "DESCRIPTION\n",
      "    The Get-ExecutionPolicy cmdlet gets the execution policies for the current session.\n",
      "    \n",
      "    The execution policy is determined by execution policies that you set by using Set-ExecutionPolicy and the Group \n",
      "    Policy settings for the Windows PowerShell execution policy. The default value is Restricted.\n",
      "    \n",
      "    Without parameters, Get-ExecutionPolicy gets the execution policy that is effective in the session. You can use \n",
      "    the List parameter to get all execution policies that affect the session or the Scope parameter to get the \n",
      "    execution policy for a particular scope.\n",
      "    \n",
      "    For more information, see about_Execution_Policies (http://go.microsoft.com/fwlink/?LinkID=135170).\n",
      "    \n",
      "\n",
      "RELATED LINKS\n",
      "    Online Version: http://go.microsoft.com/fwlink/?LinkId=821714\n",
      "    Get-AuthenticodeSignature \n",
      "    Set-AuthenticodeSignature \n",
      "    Set-ExecutionPolicy \n",
      "\n",
      "REMARKS\n",
      "    To see the examples, type: \"get-help Get-ExecutionPolicy -examples\".\n",
      "    For more information, type: \"get-help Get-ExecutionPolicy -detailed\".\n",
      "    For technical information, type: \"get-help Get-ExecutionPolicy -full\".\n",
      "    For online help, type: \"get-help Get-ExecutionPolicy -online\"\n",
      "\n",
      "\n"
     ]
    }
   ],
   "source": [
    "Get-ExecutionPolicy -?"
   ]
  },
  {
   "cell_type": "code",
   "execution_count": 24,
   "metadata": {},
   "outputs": [
    {
     "name": "stdout",
     "output_type": "stream",
     "text": [
      "\n",
      "NAME\n",
      "    Set-ExecutionPolicy\n",
      "    \n",
      "SYNOPSIS\n",
      "    Changes the user preference for the Windows PowerShell execution policy.\n",
      "    \n",
      "    \n",
      "SYNTAX\n",
      "    Set-ExecutionPolicy [-ExecutionPolicy] {Unrestricted | RemoteSigned | AllSigned | Restricted | Default | Bypass | \n",
      "    Undefined} [[-Scope] {Process | CurrentUser | LocalMachine | UserPolicy | MachinePolicy}] [-Confirm] [-Force] \n",
      "    [-WhatIf] [<CommonParameters>]\n",
      "    \n",
      "    \n",
      "DESCRIPTION\n",
      "    The Set-ExecutionPolicy cmdlet changes the user preference for the Windows PowerShell execution policy.\n",
      "    \n",
      "    The execution policy is part of the security strategy of Windows PowerShell. It determines whether you can load \n",
      "    configuration files (including your Windows PowerShell profile) and run scripts, and it determines which scripts, \n",
      "    if any, must be digitally signed before they will run. For more information, see about_Execution_Policies \n",
      "    (http://go.microsoft.com/fwlink/?LinkID=135170).\n",
      "    \n",
      "    To change the execution policy for the default (LocalMachine) scope, start Windows PowerShell with the \"Run as \n",
      "    administrator\" option.\n",
      "    \n",
      "\n",
      "RELATED LINKS\n",
      "    Online Version: http://go.microsoft.com/fwlink/?LinkId=821719\n",
      "    Get-AuthenticodeSignature \n",
      "    Get-ExecutionPolicy \n",
      "    Set-AuthenticodeSignature \n",
      "\n",
      "REMARKS\n",
      "    To see the examples, type: \"get-help Set-ExecutionPolicy -examples\".\n",
      "    For more information, type: \"get-help Set-ExecutionPolicy -detailed\".\n",
      "    For technical information, type: \"get-help Set-ExecutionPolicy -full\".\n",
      "    For online help, type: \"get-help Set-ExecutionPolicy -online\"\n",
      "\n",
      "\n",
      "\n"
     ]
    }
   ],
   "source": [
    "Set-ExecutionPolicy -?"
   ]
  },
  {
   "cell_type": "code",
   "execution_count": 25,
   "metadata": {},
   "outputs": [
    {
     "name": "stdout",
     "output_type": "stream",
     "text": []
    }
   ],
   "source": [
    "shcm Set-ExecutionPolicy"
   ]
  },
  {
   "cell_type": "markdown",
   "metadata": {},
   "source": [
    "[![Image from Gyazo](https://i.gyazo.com/ae40bd42429d652fd4d2e49188a54f5a.png)](https://gyazo.com/ae40bd42429d652fd4d2e49188a54f5a)"
   ]
  },
  {
   "cell_type": "code",
   "execution_count": 51,
   "metadata": {},
   "outputs": [
    {
     "name": "stdout",
     "output_type": "stream",
     "text": []
    }
   ],
   "source": [
    "Get-Help Set-ExecutionPolicy -online"
   ]
  },
  {
   "cell_type": "markdown",
   "metadata": {},
   "source": [
    "#### Enum of ExecutionPolicy"
   ]
  },
  {
   "cell_type": "markdown",
   "metadata": {},
   "source": [
    "- https://docs.microsoft.com/en-gb/powershell/module/Microsoft.PowerShell.Security/Set-ExecutionPolicy?view=powershell-5.0#parameters"
   ]
  },
  {
   "cell_type": "markdown",
   "metadata": {},
   "source": [
    "[![Image from Gyazo](https://i.gyazo.com/4b10e97cc001d3d423f3232a20ddc412.png)](https://gyazo.com/4b10e97cc001d3d423f3232a20ddc412)"
   ]
  },
  {
   "cell_type": "code",
   "execution_count": 27,
   "metadata": {},
   "outputs": [
    {
     "name": "stdout",
     "output_type": "stream",
     "text": [
      "help Set-ExecutionPolicy | set -Name store\n",
      "$store.GetType().Fullname\n",
      "System.Object[]\n",
      "\n"
     ]
    }
   ],
   "source": [
    "help Set-ExecutionPolicy | set -Name store\n",
    "$store.GetType().Fullname"
   ]
  },
  {
   "cell_type": "code",
   "execution_count": 37,
   "metadata": {},
   "outputs": [
    {
     "name": "stdout",
     "output_type": "stream",
     "text": [
      "\n",
      "IsPublic IsSerial Name                                     BaseType                                                    \n",
      "-------- -------- ----                                     --------                                                    \n",
      "True     True     String                                   System.Object                                               \n",
      "\n",
      "\n"
     ]
    }
   ],
   "source": [
    "$store[0].GetType()"
   ]
  },
  {
   "cell_type": "code",
   "execution_count": 39,
   "metadata": {},
   "outputs": [
    {
     "name": "stdout",
     "output_type": "stream",
     "text": [
      "Get-Command Set-ExecutionPolicy | set -Name store_cmd\n",
      "$store_cmd.GetType().FullName\n",
      "System.Management.Automation.CmdletInfo\n",
      "\n"
     ]
    }
   ],
   "source": [
    "Get-Command Set-ExecutionPolicy | set -Name store_cmd\n",
    "$store_cmd.GetType().FullName"
   ]
  },
  {
   "cell_type": "code",
   "execution_count": 41,
   "metadata": {},
   "outputs": [
    {
     "name": "stdout",
     "output_type": "stream",
     "text": [
      "\n",
      "\n",
      "   TypeName: System.Management.Automation.CmdletInfo\n",
      "\n",
      "Name                MemberType Definition                                                                              \n",
      "----                ---------- ----------                                                                              \n",
      "CommandType         Property   System.Management.Automation.CommandTypes CommandType {get;}                            \n",
      "DefaultParameterSet Property   string DefaultParameterSet {get;}                                                       \n",
      "Definition          Property   string Definition {get;}                                                                \n",
      "HelpFile            Property   string HelpFile {get;}                                                                  \n",
      "ImplementingType    Property   type ImplementingType {get;}                                                            \n",
      "Module              Property   psmoduleinfo Module {get;}                                                              \n",
      "ModuleName          Property   string ModuleName {get;}                                                                \n",
      "Name                Property   string Name {get;}                                                                      \n",
      "Noun                Property   string Noun {get;}                                                                      \n",
      "Options             Property   System.Management.Automation.ScopedItemOptions Options {get;set;}                       \n",
      "OutputType          Property   System.Collections.ObjectModel.ReadOnlyCollection[System.Management.Automation.PSType...\n",
      "Parameters          Property   System.Collections.Generic.Dictionary[string,System.Management.Automation.ParameterMe...\n",
      "ParameterSets       Property   System.Collections.ObjectModel.ReadOnlyCollection[System.Management.Automation.Comman...\n",
      "PSSnapIn            Property   System.Management.Automation.PSSnapInInfo PSSnapIn {get;}                               \n",
      "RemotingCapability  Property   System.Management.Automation.RemotingCapability RemotingCapability {get;}               \n",
      "Source              Property   string Source {get;}                                                                    \n",
      "Verb                Property   string Verb {get;}                                                                      \n",
      "Version             Property   version Version {get;}                                                                  \n",
      "Visibility          Property   System.Management.Automation.SessionStateEntryVisibility Visibility {get;set;}          \n",
      "\n",
      "\n"
     ]
    }
   ],
   "source": [
    "$store_cmd | gm -MemberType Property"
   ]
  },
  {
   "cell_type": "code",
   "execution_count": 43,
   "metadata": {},
   "outputs": [
    {
     "name": "stdout",
     "output_type": "stream",
     "text": [
      "\n",
      "Key                 Value                                         \n",
      "---                 -----                                         \n",
      "ExecutionPolicy     System.Management.Automation.ParameterMetadata\n",
      "Scope               System.Management.Automation.ParameterMetadata\n",
      "Force               System.Management.Automation.ParameterMetadata\n",
      "Verbose             System.Management.Automation.ParameterMetadata\n",
      "Debug               System.Management.Automation.ParameterMetadata\n",
      "ErrorAction         System.Management.Automation.ParameterMetadata\n",
      "WarningAction       System.Management.Automation.ParameterMetadata\n",
      "InformationAction   System.Management.Automation.ParameterMetadata\n",
      "ErrorVariable       System.Management.Automation.ParameterMetadata\n",
      "WarningVariable     System.Management.Automation.ParameterMetadata\n",
      "InformationVariable System.Management.Automation.ParameterMetadata\n",
      "OutVariable         System.Management.Automation.ParameterMetadata\n",
      "OutBuffer           System.Management.Automation.ParameterMetadata\n",
      "PipelineVariable    System.Management.Automation.ParameterMetadata\n",
      "WhatIf              System.Management.Automation.ParameterMetadata\n",
      "Confirm             System.Management.Automation.ParameterMetadata\n",
      "\n",
      "\n"
     ]
    }
   ],
   "source": [
    "$store_cmd.Parameters"
   ]
  },
  {
   "cell_type": "code",
   "execution_count": 44,
   "metadata": {},
   "outputs": [
    {
     "name": "stdout",
     "output_type": "stream",
     "text": [
      "\n",
      "\n",
      "Name            : ExecutionPolicy\n",
      "ParameterType   : Microsoft.PowerShell.ExecutionPolicy\n",
      "ParameterSets   : {[__AllParameterSets, System.Management.Automation.ParameterSetMetadata]}\n",
      "IsDynamic       : False\n",
      "Aliases         : {}\n",
      "Attributes      : {__AllParameterSets}\n",
      "SwitchParameter : False\n",
      "\n",
      "\n",
      "\n"
     ]
    }
   ],
   "source": [
    "$store_cmd.Parameters['ExecutionPolicy']"
   ]
  },
  {
   "cell_type": "code",
   "execution_count": 46,
   "metadata": {},
   "outputs": [
    {
     "name": "stdout",
     "output_type": "stream",
     "text": [
      "\n",
      "\n",
      "IsMandatory                     : True\n",
      "Position                        : 0\n",
      "ValueFromPipeline               : True\n",
      "ValueFromPipelineByPropertyName : False\n",
      "ValueFromRemainingArguments     : False\n",
      "HelpMessage                     : \n",
      "HelpMessageBaseName             : \n",
      "HelpMessageResourceId           : \n",
      "\n",
      "\n",
      "\n"
     ]
    }
   ],
   "source": [
    "$store_cmd.Parameters['ExecutionPolicy'].ParameterSets['__AllParameterSets']"
   ]
  },
  {
   "cell_type": "markdown",
   "metadata": {},
   "source": [
    "- [ ] **FIXME** Where is the enum definition of cmdlet switch"
   ]
  },
  {
   "cell_type": "code",
   "execution_count": null,
   "metadata": {},
   "outputs": [],
   "source": []
  }
 ],
 "metadata": {
  "kernelspec": {
   "display_name": "PowerShell",
   "language": "powershell",
   "name": "powershell"
  },
  "language_info": {
   "codemirror_mode": "shell",
   "file_extension": ".ps1",
   "mimetype": "text/x-sh",
   "name": "powershell"
  }
 },
 "nbformat": 4,
 "nbformat_minor": 2
}
