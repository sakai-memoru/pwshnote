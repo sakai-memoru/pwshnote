{
 "cells": [
  {
   "cell_type": "markdown",
   "metadata": {},
   "source": [
    "# 1908-powershell-test-path-new-or-append"
   ]
  },
  {
   "cell_type": "code",
   "execution_count": 1,
   "metadata": {},
   "outputs": [
    {
     "name": "stdout",
     "output_type": "stream",
     "text": [
      "\n",
      "NAME\n",
      "    Test-Path\n",
      "    \n",
      "SYNTAX\n",
      "    Test-Path [-Path] <string[]> [-Filter <string>] [-Include <string[]>] [-Exclude <string[]>] [-PathType {Any | \n",
      "    Container | Leaf}] [-IsValid] [-Credential <pscredential>] [-UseTransaction] [-OlderThan <datetime>] [-NewerThan \n",
      "    <datetime>]  [<CommonParameters>]\n",
      "    \n",
      "    Test-Path -LiteralPath <string[]> [-Filter <string>] [-Include <string[]>] [-Exclude <string[]>] [-PathType {Any | \n",
      "    Container | Leaf}] [-IsValid] [-Credential <pscredential>] [-UseTransaction] [-OlderThan <datetime>] [-NewerThan \n",
      "    <datetime>]  [<CommonParameters>]\n",
      "    \n",
      "\n",
      "ALIASES\n",
      "    None\n",
      "    \n",
      "\n",
      "REMARKS\n",
      "    Get-Help cannot find the Help files for this cmdlet on this computer. It is displaying only partial help.\n",
      "        -- To download and install Help files for the module that includes this cmdlet, use Update-Help.\n",
      "        -- To view the Help topic for this cmdlet online, type: \"Get-Help Test-Path -Online\" or \n",
      "           go to https://go.microsoft.com/fwlink/?LinkID=113418.\n",
      "\n",
      "\n",
      "\n",
      "\n"
     ]
    }
   ],
   "source": [
    "help test-path"
   ]
  },
  {
   "cell_type": "code",
   "execution_count": 2,
   "metadata": {},
   "outputs": [
    {
     "name": "stdout",
     "output_type": "stream",
     "text": [
      "help test-path -online\n",
      "\n",
      "\n",
      "\n"
     ]
    }
   ],
   "source": [
    "help test-path -online\n"
   ]
  },
  {
   "cell_type": "code",
   "execution_count": 3,
   "metadata": {},
   "outputs": [
    {
     "name": "stdout",
     "output_type": "stream",
     "text": [
      "True\n"
     ]
    }
   ],
   "source": [
    "test-path $PROFILE"
   ]
  },
  {
   "cell_type": "code",
   "execution_count": 4,
   "metadata": {},
   "outputs": [
    {
     "name": "stdout",
     "output_type": "stream",
     "text": [
      "exists G:\\Users\\sakai\\OneDrive\\Documents\\WindowsPowerShell\\Microsoft.PowerShell_profile.ps1\n"
     ]
    }
   ],
   "source": [
    "if(test-path $PROFILE){\n",
    "  echo \"exists $PROFILE\"\n",
    "}else{\n",
    "  echo \"no exists $PROFILE\"\n",
    "}"
   ]
  },
  {
   "cell_type": "code",
   "execution_count": 5,
   "metadata": {},
   "outputs": [
    {
     "name": "stdout",
     "output_type": "stream",
     "text": [
      "new-item : The file 'G:\\workspace\\pwshnote\\new-or-append.txt' already exists.\n",
      "At line:1 char:1\n",
      "+ new-item new-or-append.txt\n",
      "+ ~~~~~~~~~~~~~~~~~~~~~~~~~~\n",
      "    + CategoryInfo          : WriteError: (G:\\workspace\\pwshnote\\new-or-append.txt:String) [New-Item], IOException\n",
      "    + FullyQualifiedErrorId : NewItemIOError,Microsoft.PowerShell.Commands.NewItemCommand\n",
      " \n"
     ]
    }
   ],
   "source": [
    "new-item new-or-append.txt"
   ]
  },
  {
   "cell_type": "code",
   "execution_count": 6,
   "metadata": {},
   "outputs": [
    {
     "name": "stdout",
     "output_type": "stream",
     "text": [
      "ls\n",
      "\n",
      "\n",
      "    Directory: G:\\workspace\\pwshnote\n",
      "\n",
      "\n",
      "Mode                LastWriteTime         Length Name                                                                  \n",
      "----                -------------         ------ ----                                                                  \n",
      "d-----       16/08/2019     19:36                .ipynb_checkpoints                                                    \n",
      "-a----       14/08/2019     17:47            418 .gitignore                                                            \n",
      "-a----       29/07/2019     21:02          20614 1907-keylogger-sample.ipynb                                           \n",
      "-a----       16/08/2019     19:11           5757 1908-powershell-alias-grep.ipynb                                      \n",
      "-a----       14/08/2019     18:49           4045 1908-powershell-specialfolder-getfolderpath.ipynb                     \n",
      "-a----       14/08/2019     18:50           3693 1908-powershell-split-path.ipynb                                      \n",
      "-a----       16/08/2019     19:43           6563 1908-powershell-test-path-new-or-append.ipynb                         \n",
      "-a----       16/08/2019     06:57           6072 1908-powershell-touch.ipynb                                           \n",
      "-a----       07/05/2019     16:05         337989 index.html                                                            \n",
      "-a----       16/08/2019     19:13            871 index.md                                                              \n",
      "-a----       07/05/2019     16:05             20 myStyles.css                                                          \n",
      "-a----       14/08/2019     17:58            113 navigation.md                                                         \n",
      "-a----       16/08/2019     19:44             62 new-or-append.txt                                                     \n",
      "-a----       29/07/2019     20:24           3388 powershell-sample.ipynb                                               \n",
      "-a----       16/08/2019     06:08            203 README.md                                                             \n",
      "\n",
      "\n",
      "\n",
      "\n"
     ]
    }
   ],
   "source": [
    "ls\n"
   ]
  },
  {
   "cell_type": "code",
   "execution_count": 11,
   "metadata": {},
   "outputs": [
    {
     "name": "stdout",
     "output_type": "stream",
     "text": [
      "$path = \"./new-or-append.txt\"\n",
      "\n",
      "\n",
      "\n"
     ]
    }
   ],
   "source": [
    "$path = \"./new-or-append.txt\"\n",
    "\n"
   ]
  },
  {
   "cell_type": "code",
   "execution_count": 13,
   "metadata": {},
   "outputs": [
    {
     "name": "stdout",
     "output_type": "stream",
     "text": []
    }
   ],
   "source": [
    "if(test-path $path){\n",
    "    echo \"new-line\" >> $path\n",
    "}else{\n",
    "    echo \"new-line\" > $path\n",
    "}"
   ]
  },
  {
   "cell_type": "code",
   "execution_count": 15,
   "metadata": {},
   "outputs": [
    {
     "name": "stdout",
     "output_type": "stream",
     "text": [
      "new-line\n",
      "new-line\n",
      "new-line\n",
      "new-line\n",
      "new-line\n",
      "new-line\n",
      "new-line\n",
      "new-line\n"
     ]
    }
   ],
   "source": [
    "cat $path"
   ]
  },
  {
   "cell_type": "code",
   "execution_count": null,
   "metadata": {},
   "outputs": [],
   "source": []
  }
 ],
 "metadata": {
  "kernelspec": {
   "display_name": "PowerShell",
   "language": "powershell",
   "name": "powershell"
  },
  "language_info": {
   "codemirror_mode": "shell",
   "file_extension": ".ps1",
   "mimetype": "text/x-sh",
   "name": "powershell"
  }
 },
 "nbformat": 4,
 "nbformat_minor": 2
}
