{
 "cells": [
  {
   "cell_type": "markdown",
   "metadata": {},
   "source": [
    "# 1909-powershell-about_PackageManagement"
   ]
  },
  {
   "cell_type": "markdown",
   "metadata": {},
   "source": [
    "## overview"
   ]
  },
  {
   "cell_type": "markdown",
   "metadata": {},
   "source": [
    "- about_PackageManagement"
   ]
  },
  {
   "cell_type": "markdown",
   "metadata": {},
   "source": [
    "![Image from Gyazo](https://i.gyazo.com/9c23d8a166aeaa46a042f3b1f33dcf33.png)"
   ]
  },
  {
   "cell_type": "markdown",
   "metadata": {},
   "source": [
    "## jupyter notebook"
   ]
  },
  {
   "cell_type": "markdown",
   "metadata": {},
   "source": [
    "- https://nbviewer.jupyter.org/github/sakai-memoru/pwshnote/blob/master/1909-powershell-about_PackageManagement.ipynb"
   ]
  },
  {
   "cell_type": "markdown",
   "metadata": {},
   "source": [
    "## Usage"
   ]
  },
  {
   "cell_type": "markdown",
   "metadata": {},
   "source": [
    "### Get-Help"
   ]
  },
  {
   "cell_type": "code",
   "execution_count": 1,
   "metadata": {},
   "outputs": [
    {
     "name": "stdout",
     "output_type": "stream",
     "text": [
      "\n",
      "\n",
      "Name     : about_PackageManagement\n",
      "Synopsis : PackageManagement is an aggregator for software package managers.\n",
      "\n",
      "\n",
      "\n"
     ]
    }
   ],
   "source": [
    "Get-Help -Category helpfile about_PackageManagement | select Name, Synopsis | format-list *"
   ]
  },
  {
   "cell_type": "code",
   "execution_count": 2,
   "metadata": {},
   "outputs": [
    {
     "name": "stdout",
     "output_type": "stream",
     "text": [
      "Get-Help : The online version of this Help topic cannot be displayed because the Internet address (URI) of the Help \n",
      "topic is not specified in the command code or in the help file for the command.\n",
      "At line:1 char:1\n",
      "+ Get-Help about_PackageManagement -online\n",
      "+ ~~~~~~~~~~~~~~~~~~~~~~~~~~~~~~~~~~~~~~~~\n",
      "    + CategoryInfo          : InvalidOperation: (:) [Get-Help], PSInvalidOperationException\n",
      "    + FullyQualifiedErrorId : InvalidOperation,Microsoft.PowerShell.Commands.GetHelpCommand\n",
      " \n"
     ]
    }
   ],
   "source": [
    "Get-Help about_PackageManagement -online"
   ]
  },
  {
   "cell_type": "markdown",
   "metadata": {},
   "source": [
    "### about_Locations"
   ]
  },
  {
   "cell_type": "code",
   "execution_count": 3,
   "metadata": {},
   "outputs": [
    {
     "name": "stdout",
     "output_type": "stream",
     "text": []
    }
   ],
   "source": [
    "Get-Help about_PackageManagement | \n",
    "  set -Name store"
   ]
  },
  {
   "cell_type": "code",
   "execution_count": 4,
   "metadata": {},
   "outputs": [
    {
     "name": "stdout",
     "output_type": "stream",
     "text": [
      "System.String\n"
     ]
    }
   ],
   "source": [
    "$store.GetType().Fullname"
   ]
  },
  {
   "cell_type": "code",
   "execution_count": 5,
   "metadata": {},
   "outputs": [
    {
     "name": "stdout",
     "output_type": "stream",
     "text": []
    }
   ],
   "source": [
    "$store -split \"`r`n\" | set -Name ary"
   ]
  },
  {
   "cell_type": "code",
   "execution_count": 6,
   "metadata": {},
   "outputs": [
    {
     "name": "stdout",
     "output_type": "stream",
     "text": [
      "126\n"
     ]
    }
   ],
   "source": [
    "$ary.length"
   ]
  },
  {
   "cell_type": "code",
   "execution_count": 7,
   "metadata": {},
   "outputs": [
    {
     "name": "stdout",
     "output_type": "stream",
     "text": [
      "$i = 0\n",
      "foreach($ar in $ary)\n",
      ">> {\n",
      ">>   if($ar -match 'SEE ALSO')\n",
      ">>   {\n",
      ">>     break\n",
      ">>   }\n",
      ">>   $i++\n",
      ">> }\n",
      ">> # $ary[$i..$ary.Length]\n",
      ">> \n"
     ]
    }
   ],
   "source": [
    "$i = 0\n",
    "foreach($ar in $ary)\n",
    "{\n",
    "  if($ar -match 'SEE ALSO')\n",
    "  {\n",
    "    break\n",
    "  }\n",
    "  $i++\n",
    "}\n",
    "# $ary[$i..$ary.Length]"
   ]
  },
  {
   "cell_type": "code",
   "execution_count": 8,
   "metadata": {},
   "outputs": [
    {
     "name": "stdout",
     "output_type": "stream",
     "text": [
      "$url_base = \"https://nbviewer.jupyter.org/github/sakai-memoru/pwshnote/blob/master/1909-powershell-{{about_item}}.ipynb\"\n",
      "\n",
      "foreach($a in $ary[($i+1)..$ary.Length]){\n",
      ">>   if(-not ($a.Trim() -eq ''))\n",
      ">>   {\n",
      ">>     if($a.Trim().startswith('about_'))\n",
      ">>     {\n",
      ">>       $url_base.Replace('{{about_item}}',$a.Trim())  \n",
      ">>     }\n",
      ">>     else\n",
      ">>     {\n",
      ">>       $a.Trim()\n",
      ">>     }\n",
      ">>     \n",
      ">>   }\n",
      ">> }\n",
      ">> \n",
      "Get-PackageProvider\n",
      "Get-PackageSource\n",
      "Register-PackageSource\n",
      "Set-PackageSource\n",
      "Unregister-PackageSource\n",
      "Get-Package\n",
      "Find-Package\n",
      "Install-Package\n",
      "Save-Package\n",
      "Uninstall-Package\n"
     ]
    }
   ],
   "source": [
    "$url_base = \"https://nbviewer.jupyter.org/github/sakai-memoru/pwshnote/blob/master/1909-powershell-{{about_item}}.ipynb\"\n",
    "\n",
    "foreach($a in $ary[($i+1)..$ary.Length]){\n",
    "  if(-not ($a.Trim() -eq ''))\n",
    "  {\n",
    "    if($a.Trim().startswith('about_'))\n",
    "    {\n",
    "      $url_base.Replace('{{about_item}}',$a.Trim())  \n",
    "    }\n",
    "    else\n",
    "    {\n",
    "      $a.Trim()\n",
    "    }\n",
    "    \n",
    "  }\n",
    "}"
   ]
  },
  {
   "cell_type": "code",
   "execution_count": 9,
   "metadata": {},
   "outputs": [
    {
     "name": "stdout",
     "output_type": "stream",
     "text": [
      "TOPIC\n",
      "    about_PackageManagement\n",
      "\n",
      "SHORT DESCRIPTION\n",
      "    PackageManagement is an aggregator for software package managers.\n",
      "    \n",
      "\n",
      "LONG DESCRIPTION\n",
      "    PackageManagement functionality was introduced in Windows PowerShell 5.0.\n",
      "\n",
      "    PackageManagement is a unified interface for software package management systems; you\n",
      "    can run PackageManagement cmdlets to perform software discovery, installation, and\n",
      "    inventory (SDII) tasks. Regardless of the underlying installation technology,\n",
      "    you can run the common cmdlets in the PackageManagement module to search for,\n",
      "    install, or uninstall packages; add, remove, and query package repositories; and\n",
      "    run queries on a computer to determine which software packages are installed.\n",
      "\n",
      "    PackageManagement supports a flexible plug-in model that enables support for other \n",
      "    software package management systems.\n",
      " \n",
      "    The PackageManagement module is included with Windows PowerShell 5.0 and later releases\n",
      "    of Windows PowerShell, and works on three levels of package management\n",
      "    structure:  package providers, package sources, and the packages themselves.\n",
      "\n",
      "         Term                  Description\n",
      "\n",
      " and more ...\n"
     ]
    }
   ],
   "source": [
    "$ary[0..24]  + \"`r`n and more ...\""
   ]
  },
  {
   "cell_type": "markdown",
   "metadata": {},
   "source": [
    "### Get-Command"
   ]
  },
  {
   "cell_type": "code",
   "execution_count": 10,
   "metadata": {},
   "outputs": [
    {
     "name": "stdout",
     "output_type": "stream",
     "text": [
      "\n",
      "\n",
      "Name   : Add-ProvisionedAppxPackage\n",
      "Source : Dism\n",
      "\n",
      "Name   : Add-ProvisioningPackage\n",
      "Source : Provisioning\n",
      "\n",
      "Name   : Get-ProvisionedAppxPackage\n",
      "Source : Dism\n",
      "\n",
      "Name   : Optimize-ProvisionedAppxPackages\n",
      "Source : Dism\n",
      "\n",
      "Name   : Remove-ProvisionedAppxPackage\n",
      "Source : Dism\n",
      "\n",
      "Name   : Remove-ProvisioningPackage\n",
      "Source : Provisioning\n",
      "\n",
      "Name   : Add-AppxPackage\n",
      "Source : Appx\n",
      "\n",
      "Name   : Add-AppxProvisionedPackage\n",
      "Source : Dism\n",
      "\n",
      "Name   : Add-WindowsPackage\n",
      "Source : Dism\n",
      "\n",
      "Name   : Export-ProvisioningPackage\n",
      "Source : Provisioning\n",
      "\n",
      "Name   : Find-Package\n",
      "Source : PackageManagement\n",
      "\n",
      "Name   : Find-PackageProvider\n",
      "Source : PackageManagement\n",
      "\n",
      "Name   : Get-AppxPackage\n",
      "Source : Appx\n",
      "\n",
      "Name   : Get-AppxPackageManifest\n",
      "Source : Appx\n",
      "\n",
      "Name   : Get-AppxProvisionedPackage\n",
      "Source : Dism\n",
      "\n",
      "Name   : Get-Package\n",
      "Source : PackageManagement\n",
      "\n",
      "Name   : Get-PackageProvider\n",
      "Source : PackageManagement\n",
      "\n",
      "Name   : Get-PackageSource\n",
      "Source : PackageManagement\n",
      "\n",
      "Name   : Get-ProvisioningPackage\n",
      "Source : Provisioning\n",
      "\n",
      "Name   : Get-WindowsPackage\n",
      "Source : Dism\n",
      "\n",
      "Name   : Import-PackageProvider\n",
      "Source : PackageManagement\n",
      "\n",
      "Name   : Install-Package\n",
      "Source : PackageManagement\n",
      "\n",
      "Name   : Install-PackageProvider\n",
      "Source : PackageManagement\n",
      "\n",
      "Name   : Install-ProvisioningPackage\n",
      "Source : Provisioning\n",
      "\n",
      "Name   : Invoke-CommandInDesktopPackage\n",
      "Source : Appx\n",
      "\n",
      "Name   : Move-AppxPackage\n",
      "Source : Appx\n",
      "\n",
      "Name   : Optimize-AppxProvisionedPackages\n",
      "Source : Dism\n",
      "\n",
      "Name   : Register-PackageSource\n",
      "Source : PackageManagement\n",
      "\n",
      "Name   : Remove-AppxPackage\n",
      "Source : Appx\n",
      "\n",
      "Name   : Remove-AppxProvisionedPackage\n",
      "Source : Dism\n",
      "\n",
      "Name   : Remove-WindowsPackage\n",
      "Source : Dism\n",
      "\n",
      "Name   : Save-Package\n",
      "Source : PackageManagement\n",
      "\n",
      "Name   : Set-PackageSource\n",
      "Source : PackageManagement\n",
      "\n",
      "Name   : Uninstall-Package\n",
      "Source : PackageManagement\n",
      "\n",
      "Name   : Uninstall-ProvisioningPackage\n",
      "Source : Provisioning\n",
      "\n",
      "Name   : Unregister-PackageSource\n",
      "Source : PackageManagement\n",
      "\n",
      "Name   : conda-metapackage.exe\n",
      "Source : C:\\ProgramData\\Anaconda3\\Scripts\\conda-metapackage.exe\n",
      "\n",
      "Name   : PackagedCWALauncher.exe\n",
      "Source : C:\\WINDOWS\\system32\\PackagedCWALauncher.exe\n",
      "\n",
      "\n",
      "\n"
     ]
    }
   ],
   "source": [
    "Get-Command -Name \"*package*\" | fl Name, Source"
   ]
  },
  {
   "cell_type": "code",
   "execution_count": 11,
   "metadata": {},
   "outputs": [
    {
     "name": "stdout",
     "output_type": "stream",
     "text": [
      "\n",
      "CommandType     Name                                               Version    Source                                   \n",
      "-----------     ----                                               -------    ------                                   \n",
      "Cmdlet          Find-Package                                       1.0.0.1    PackageManagement                        \n",
      "Cmdlet          Get-Package                                        1.0.0.1    PackageManagement                        \n",
      "Cmdlet          Install-Package                                    1.0.0.1    PackageManagement                        \n",
      "Cmdlet          Save-Package                                       1.0.0.1    PackageManagement                        \n",
      "Cmdlet          Uninstall-Package                                  1.0.0.1    PackageManagement                        \n",
      "\n",
      "\n"
     ]
    }
   ],
   "source": [
    "gcm -Noun Package"
   ]
  },
  {
   "cell_type": "markdown",
   "metadata": {},
   "source": [
    "### Get-Alias"
   ]
  },
  {
   "cell_type": "code",
   "execution_count": 12,
   "metadata": {},
   "outputs": [
    {
     "name": "stdout",
     "output_type": "stream",
     "text": []
    }
   ],
   "source": [
    "Get-alias -Definition \"*Package\" | sort Definition |ft Definition, Name, DisplayName"
   ]
  },
  {
   "cell_type": "markdown",
   "metadata": {},
   "source": [
    "### Get-Help"
   ]
  },
  {
   "cell_type": "code",
   "execution_count": 13,
   "metadata": {},
   "outputs": [
    {
     "name": "stdout",
     "output_type": "stream",
     "text": [
      "echo\n",
      "Help Get-Package -online\n",
      "\n",
      "Help Get-Package -online\n",
      "\n"
     ]
    }
   ],
   "source": [
    "echo\n",
    "Help Get-Package -online"
   ]
  },
  {
   "cell_type": "code",
   "execution_count": 14,
   "metadata": {},
   "outputs": [
    {
     "name": "stdout",
     "output_type": "stream",
     "text": [
      "Help Get-Package\n",
      "\n",
      "NAME\n",
      "    Get-Package\n",
      "    \n",
      "SYNOPSIS\n",
      "    Returns a list of all software packages that have been installed by using Package Management.\n",
      "    \n",
      "    \n",
      "SYNTAX\n",
      "    Get-Package [[-Name] <String[]>] [-AdditionalArguments <String[]>] [-AllVersions] [-Force] [-ForceBootstrap] \n",
      "    [-MaximumVersion <String>] [-MinimumVersion <String>] [-ProviderName {msi | NuGet | msu | Programs | PowerShellGet \n",
      "    | psl | chocolatey}] [-RequiredVersion <String>] [<CommonParameters>]\n",
      "    \n",
      "    Get-Package [[-Name] <String[]>] [-AllVersions] [-AllowClobber] [-Force] [-ForceBootstrap] [-InstallUpdate] \n",
      "    [-MaximumVersion <String>] [-MinimumVersion <String>] [-NoPathUpdate] [-PackageManagementProvider <String>] \n",
      "    [-ProviderName {msi | NuGet | msu | Programs | PowerShellGet | psl | chocolatey}] [-RequiredVersion <String>] \n",
      "    [-Scope {CurrentUser | AllUsers}] [-SkipPublisherCheck] [-Type {Module | Script | All}] [<CommonParameters>]\n",
      "    \n",
      "    Get-Package [[-Name] <String[]>] [-AllVersions] [-Destination <String>] [-ExcludeVersion] [-Force] \n",
      "    [-ForceBootstrap] [-MaximumVersion <String>] [-MinimumVersion <String>] [-ProviderName {msi | NuGet | msu | \n",
      "    Programs | PowerShellGet | psl | chocolatey}] [-RequiredVersion <String>] [-Scope {CurrentUser | AllUsers}] \n",
      "    [-SkipDependencies] [<CommonParameters>]\n",
      "    \n",
      "    Get-Package [[-Name] <String[]>] [-AllVersions] [-Force] [-ForceBootstrap] [-IncludeSystemComponent] \n",
      "    [-IncludeWindowsInstaller] [-MaximumVersion <String>] [-MinimumVersion <String>] [-ProviderName {msi | NuGet | msu \n",
      "    | Programs | PowerShellGet | psl | chocolatey}] [-RequiredVersion <String>] [<CommonParameters>]\n",
      "    \n",
      "    \n",
      "DESCRIPTION\n",
      "    The Get-Package cmdlet returns a list of all software packages on the local computer that have been installed by \n",
      "    using Package Management. You can run Get-Package on remote computers by running it as part of an Invoke-Command \n",
      "    or Enter-PSSession command or script.\n",
      "    \n",
      "\n",
      "RELATED LINKS\n",
      "    Online Version: http://go.microsoft.com/fwlink/?LinkID=517135\n",
      "    about_PackageManagement \n",
      "    Find-Package \n",
      "    Install-Package \n",
      "    Save-Package \n",
      "    Uninstall-Package \n",
      "\n",
      "REMARKS\n",
      "    To see the examples, type: \"get-help Get-Package -examples\".\n",
      "    For more information, type: \"get-help Get-Package -detailed\".\n",
      "    For technical information, type: \"get-help Get-Package -full\".\n",
      "    For online help, type: \"get-help Get-Package -online\"\n",
      "\n",
      "\n",
      "\n",
      "\n",
      "\n",
      "\n",
      "\n",
      "\n"
     ]
    }
   ],
   "source": [
    "Help Get-Package\n"
   ]
  },
  {
   "cell_type": "markdown",
   "metadata": {},
   "source": [
    "### Show-Command"
   ]
  },
  {
   "cell_type": "code",
   "execution_count": 15,
   "metadata": {},
   "outputs": [
    {
     "name": "stdout",
     "output_type": "stream",
     "text": [
      "echo\n",
      "shcm Get-Package\n",
      "\n",
      "shcm Get-Package\n",
      "\n"
     ]
    }
   ],
   "source": [
    "echo\n",
    "shcm Get-Package"
   ]
  },
  {
   "cell_type": "markdown",
   "metadata": {},
   "source": [
    "### Get-Package"
   ]
  },
  {
   "cell_type": "code",
   "execution_count": 16,
   "metadata": {},
   "outputs": [
    {
     "name": "stdout",
     "output_type": "stream",
     "text": [
      "\n",
      "\n",
      "   TypeName: Microsoft.PackageManagement.Packaging.SoftwareIdentity#GetPackage\n",
      "\n",
      "Name                 MemberType Definition                                                                             \n",
      "----                 ---------- ----------                                                                             \n",
      "AppliesToMedia       Property   string AppliesToMedia {get;}                                                           \n",
      "Attributes           Property   Microsoft.PackageManagement.Internal.Packaging.AttributeIndexer Attributes {get;}      \n",
      "CanonicalId          Property   string CanonicalId {get;}                                                              \n",
      "Culture              Property   string Culture {get;}                                                                  \n",
      "Dependencies         Property   System.Collections.Generic.IEnumerable[string] Dependencies {get;}                     \n",
      "Entities             Property   System.Collections.Generic.IEnumerable[Microsoft.PackageManagement.Internal.Packagin...\n",
      "Evidence             Property   Microsoft.PackageManagement.Internal.Packaging.Evidence Evidence {get;}                \n",
      "FastPackageReference Property   string FastPackageReference {get;set;}                                                 \n",
      "FromTrustedSource    Property   bool FromTrustedSource {get;set;}                                                      \n",
      "FullPath             Property   string FullPath {get;}                                                                 \n",
      "IsCorpus             Property   System.Nullable[bool] IsCorpus {get;}                                                  \n",
      "IsPatch              Property   System.Nullable[bool] IsPatch {get;}                                                   \n",
      "IsSupplemental       Property   System.Nullable[bool] IsSupplemental {get;}                                            \n",
      "Links                Property   System.Collections.Generic.IEnumerable[Microsoft.PackageManagement.Internal.Packagin...\n",
      "Meta                 Property   System.Collections.Generic.IEnumerable[Microsoft.PackageManagement.Internal.Packagin...\n",
      "Metadata             Property   Microsoft.PackageManagement.Internal.Packaging.MetadataIndexer Metadata {get;}         \n",
      "Name                 Property   string Name {get;}                                                                     \n",
      "PackageFilename      Property   string PackageFilename {get;}                                                          \n",
      "Payload              Property   Microsoft.PackageManagement.Internal.Packaging.Payload Payload {get;}                  \n",
      "ProviderName         Property   string ProviderName {get;}                                                             \n",
      "SearchKey            Property   string SearchKey {get;}                                                                \n",
      "Source               Property   string Source {get;}                                                                   \n",
      "Status               Property   string Status {get;}                                                                   \n",
      "Summary              Property   string Summary {get;}                                                                  \n",
      "SwidTags             Property   System.Collections.Generic.IEnumerable[Microsoft.PackageManagement.Internal.Packagin...\n",
      "SwidTagText          Property   string SwidTagText {get;}                                                              \n",
      "TagId                Property   string TagId {get;}                                                                    \n",
      "TagVersion           Property   string TagVersion {get;}                                                               \n",
      "Version              Property   string Version {get;}                                                                  \n",
      "VersionScheme        Property   string VersionScheme {get;}                                                            \n",
      "\n",
      "\n",
      "\n"
     ]
    }
   ],
   "source": [
    "Get-Package | gm -MemberType Property"
   ]
  },
  {
   "cell_type": "code",
   "execution_count": 17,
   "metadata": {},
   "outputs": [
    {
     "name": "stdout",
     "output_type": "stream",
     "text": [
      "\n",
      "\n",
      "PropertyOfSoftwareIdentity : PropertyOfSoftwareIdentity\n",
      "FastPackageReference       : hklm32\\HKEY_LOCAL_MACHINE\\SOFTWARE\\Microsoft\\Windows\\CurrentVersion\\Uninstall\\sakura \n",
      "                             editor_is1\n",
      "ProviderName               : Programs\n",
      "Source                     : \n",
      "Status                     : Installed\n",
      "SearchKey                  : \n",
      "FullPath                   : \n",
      "PackageFilename            : \n",
      "FromTrustedSource          : False\n",
      "Summary                    : \n",
      "SwidTags                   : {sakura editor(■T■N■■■G■f■B■)}\n",
      "CanonicalId                : programs:sakura editor(■T■N■■■G■f■B■)\n",
      "Metadata                   : {InnoSetup-SetupVersion,InnoSetup-AppPath,InstallLocation,InnoSetup-IconGroup,InnoSetup-Us\n",
      "                             er,InnoSetup-SetupType,InnoSetup-SelectedComponents,InnoSetup-SelectedTasks,InnoSetup-Dese\n",
      "                             lectedTasks,InnoSetup-Language,DisplayName,DisplayIcon,UninstallString,QuietUninstallStrin\n",
      "                             g,Publisher,URLInfoAbout,HelpLink,URLUpdateInfo,NoModify,NoRepair,InstallDate,EstimatedSiz\n",
      "                             e,sEstimatedSize2}\n",
      "SwidTagText                : <?xml version=\"1.0\" encoding=\"utf-16\" standalone=\"yes\"?>\n",
      "                             <SoftwareIdentity\n",
      "                               name=\"sakura editor(■T■N■■■G■f■B■)\"\n",
      "                               versionScheme=\"unknown\" xmlns=\"http://standards.iso.org/iso/19770/-2/2015/schema.xsd\">\n",
      "                               <Meta\n",
      "                                 InnoSetup-SetupVersion=\"5.5.4 (u)\"\n",
      "                                 InnoSetup-AppPath=\"C:\\Program Files (x86)\\sakura\"\n",
      "                                 InstallLocation=\"C:\\Program Files (x86)\\sakura\\\"\n",
      "                                 InnoSetup-IconGroup=\"sakura\"\n",
      "                                 InnoSetup-User=\"sakai\"\n",
      "                                 InnoSetup-SetupType=\"all\"\n",
      "                                 InnoSetup-SelectedComponents=\"main,help,keyword\"\n",
      "                                 InnoSetup-SelectedTasks=\"startmenu,proglist,fileassoc,startup,sendto\"\n",
      "                                 InnoSetup-DeselectedTasks=\"quicklaunch,desktopicon\"\n",
      "                                 InnoSetup-Language=\"ja\"\n",
      "                                 DisplayName=\"sakura editor(■T■N■■■G■f■B■)\"\n",
      "                                 DisplayIcon=\"C:\\Program Files (x86)\\sakura\\sakura.exe\"\n",
      "                                 UninstallString=\"&quot;C:\\Program Files (x86)\\sakura\\unins000.exe&quot;\"\n",
      "                                 QuietUninstallString=\"&quot;C:\\Program Files (x86)\\sakura\\unins000.exe&quot; /SILENT\"\n",
      "                                 Publisher=\"■T■N■■■G■f■B■■J■■■`■[■■\"\n",
      "                                 URLInfoAbout=\"http://sakura-editor.sourceforge.net\"\n",
      "                                 HelpLink=\"http://sakura-editor.sourceforge.net\"\n",
      "                                 URLUpdateInfo=\"http://sourceforge.net/projects/sakura-editor/\"\n",
      "                                 NoModify=\"1\"\n",
      "                                 NoRepair=\"1\"\n",
      "                                 InstallDate=\"20160417\"\n",
      "                                 EstimatedSize=\"5490\"\n",
      "                                 sEstimatedSize2=\"5453\" />\n",
      "                             </SoftwareIdentity>\n",
      "Dependencies               : {}\n",
      "IsCorpus                   : \n",
      "Name                       : sakura editor(■T■N■■■G■f■B■)\n",
      "Version                    : \n",
      "VersionScheme              : unknown\n",
      "TagVersion                 : \n",
      "TagId                      : \n",
      "IsPatch                    : \n",
      "IsSupplemental             : \n",
      "AppliesToMedia             : \n",
      "Meta                       : {{InnoSetup-SetupVersion,InnoSetup-AppPath,InstallLocation,InnoSetup-IconGroup,InnoSetup-U\n",
      "                             ser,InnoSetup-SetupType,InnoSetup-SelectedComponents,InnoSetup-SelectedTasks,InnoSetup-Des\n",
      "                             electedTasks,InnoSetup-Language,DisplayName,DisplayIcon,UninstallString,QuietUninstallStri\n",
      "                             ng,Publisher,URLInfoAbout,HelpLink,URLUpdateInfo,NoModify,NoRepair,InstallDate,EstimatedSi\n",
      "                             ze,sEstimatedSize2}}\n",
      "Links                      : {}\n",
      "Entities                   : {}\n",
      "Payload                    : \n",
      "Evidence                   : \n",
      "Culture                    : \n",
      "Attributes                 : {name,versionScheme}\n",
      "\n",
      "\n",
      "\n",
      "\n"
     ]
    }
   ],
   "source": [
    "Get-Package | where {$_.Name -match \"sakura*\"} | fl *"
   ]
  },
  {
   "cell_type": "code",
   "execution_count": 18,
   "metadata": {},
   "outputs": [
    {
     "name": "stdout",
     "output_type": "stream",
     "text": [
      "\n",
      "Name                           Version          Source                           ProviderName                          \n",
      "----                           -------          ------                           ------------                          \n",
      "+Lhaca                                                                           Programs                              \n",
      "7-Zip 18.05 (x64)              18.05                                             Programs                              \n",
      "Anaconda3 2019.07 (Python 3... 2019.07                                           Programs                              \n",
      "Astah Professional 8_1_0                                                         Programs                              \n",
      "Audacity 2.3.2                 2.3.2                                             Programs                              \n",
      "AutoHotkey 1.1.30.03           1.1.30.03                                         Programs                              \n",
      "Canon LBP6230 6240 Uninstaller 6, 3, 1, 0                                        Programs                              \n",
      "Canon MP Navigator EX 4.0                                                        Programs                              \n",
      "CanoScan LiDE 210 Scanner D...                                                   Programs                              \n",
      "CintaNotes 3.11                                                                  Programs                              \n",
      "DB Browser for SQLite          3.10.1                                            Programs                              \n",
      "DropTask                       3.12.0                                            Programs                              \n",
      "Dynalist 1.0.4 (only curren... 1.0.4                                             Programs                              \n",
      "Erlang OTP 21 (10.0.1)                                                           Programs                              \n",
      "Fenix 2.0.0                    2.0.0                                             Programs                              \n",
      "FFFTP Ver.2.00 64bit                                                             Programs                              \n",
      "Geany 1.29                     1.29                                              Programs                              \n",
      "Git version 2.12.0             2.12.0                                            Programs                              \n",
      "GitKraken                      5.0.4                                             Programs                              \n",
      "Google Chrome                  76.0.3809.132                                     Programs                              \n",
      "Gyazo 4.0.1.0                                                                    Programs                              \n",
      "IIS Express Application Com...                                                   Programs                              \n",
      "IIS Express Application Com...                                                   Programs                              \n",
      "Intel Security True Key        4.4.135.1                                         Programs                              \n",
      "Intel(R) Processor Graphics    20.19.15.4835                                     Programs                              \n",
      "IrfanView 64 (remove only)     4.41                                              Programs                              \n",
      "Janetter 4.3.1.0                                                                 Programs                              \n",
      "JetBrains PyCharm 2018.3.1     183.4588.64                                       Programs                              \n",
      "Joplin 1.0.161                 1.0.161                                           Programs                              \n",
      "Lhaplus                                                                          Programs                              \n",
      "Microsoft Help Viewer 2.2      2.2.25420                                         Programs                              \n",
      "Microsoft Office 365 - en-us   16.0.11929.20254                                  Programs                              \n",
      "Microsoft Office 365 - ja-jp   16.0.11929.20254                                  Programs                              \n",
      "Microsoft OneDrive             19.168.0825.0002                                  Programs                              \n",
      "Microsoft Visual C++ 2012 R... 11.0.60610.1                                      Programs                              \n",
      "Microsoft Visual C++ 2012 R... 11.0.61030.0                                      Programs                              \n",
      "Microsoft Visual C++ 2013 R... 12.0.30501.0                                      Programs                              \n",
      "Microsoft Visual C++ 2013 R... 12.0.40660.0                                      Programs                              \n",
      "Microsoft Visual C++ 2013 R... 12.0.40649.5                                      Programs                              \n",
      "Microsoft Visual C++ 2013 R... 12.0.40660.0                                      Programs                              \n",
      "Microsoft Visual C++ 2017 R... 14.16.27029.1                                     Programs                              \n",
      "Microsoft Visual C++ 2017 R... 14.16.27029.1                                     Programs                              \n",
      "Microsoft Visual Studio Code   1.28.2                                            Programs                              \n",
      "Microsoft Visual Studio Com... 14.0.25420.1                                      Programs                              \n",
      "Microsoft Visual Studio Ins... 1.18.1104.625                                     Programs                              \n",
      "Mosquitto MQTT broker          1.4.9                                             Programs                              \n",
      "Mozilla Firefox 67.0.4 (x64... 67.0.4                                            Programs                              \n",
      "Mozilla Maintenance Service    53.0.3                                            Programs                              \n",
      "NetBeans IDE 8.2               8.2                                               Programs                              \n",
      "NoEditor ver1.33.3Build0                                                         Programs                              \n",
      "Noodl 1.4.0 (only current u... 1.4.0                                             Programs                              \n",
      "Npgsql 3.2.6                   3.2.6-1                                           Programs                              \n",
      "pgAgent 3.4.0                  3.4.0-1                                           Programs                              \n",
      "pgJDBC 42.2.2                  42.2.2-1                                          Programs                              \n",
      "PostgreSQL 10                  10                                                Programs                              \n",
      "Postman-win64-7.3.4            7.3.4                                             Programs                              \n",
      "psqlODBC 09.05.0300            09.05.0300-1                                      Programs                              \n",
      "R for Windows 3.6.0            3.6.0                                             Programs                              \n",
      "RabbitMQ Server 3.7.5          3.7.5                                             Programs                              \n",
      "Realtek High Definition Aud... 6.0.1.7989                                        Programs                              \n",
      "Robomongo 0.9.0                0.9.0                                             Programs                              \n",
      "RStudio                        1.2.1335                                          Programs                              \n",
      "Ruby 2.6.3-1-x64 with MSYS2    2.6.3-1                                           Programs                              \n",
      "sakura editor(■T■N■■■G■f■B■)                                                    Programs                              \n",
      "SI Object Browser for Postg... 18.0.0.0                                          Programs                              \n",
      "Slack                          4.0.2                                             Programs                              \n",
      "Sony Media Library Earth 9.... 9.3.01.03100                                      Programs                              \n",
      "SourceTree                     2.5.5                                             Programs                              \n",
      "SWI-Prolog 8.0.2               8.0.2                                             Programs                              \n",
      "Tera Term 4.99                                                                   Programs                              \n",
      "Typora version 0.9.65          0.9.65                                            Programs                              \n",
      "Update for  (KB2504637)        1                                                 Programs                              \n",
      "Update for Microsoft Visual... 14.0.25431                                        Programs                              \n",
      "VcXsrv                         1.20.0.0                                          Programs                              \n",
      "Vim 8.1 (self-installing)                                                        Programs                              \n",
      "Visual Studio 2015 Update 3... 14.0.25420                                        Programs                              \n",
      "Visual Studio Build Tools 2017 15.9.28307.770                                    Programs                              \n",
      "Windows Software Developmen... 10.1.17763.132                                    Programs                              \n",
      "Windows Software Developmen... 8.100.26936                                       Programs                              \n",
      "WinMerge 2.14.0                2.14.0                                            Programs                              \n",
      "XMind ZEN 9.1.3                9.1.3                                             Programs                              \n",
      "■tⳎ■21                                                                         Programs                              \n",
      "\n",
      "\n",
      "\n"
     ]
    }
   ],
   "source": [
    "Get-Package | where {$_.ProviderName -eq \"Programs\"} | sort name"
   ]
  },
  {
   "cell_type": "code",
   "execution_count": null,
   "metadata": {},
   "outputs": [],
   "source": []
  }
 ],
 "metadata": {
  "kernelspec": {
   "display_name": "PowerShell",
   "language": "powershell",
   "name": "powershell"
  },
  "language_info": {
   "codemirror_mode": "shell",
   "file_extension": ".ps1",
   "mimetype": "text/x-sh",
   "name": "powershell"
  }
 },
 "nbformat": 4,
 "nbformat_minor": 2
}
