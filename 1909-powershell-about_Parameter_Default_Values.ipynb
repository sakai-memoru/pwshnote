{
 "cells": [
  {
   "cell_type": "markdown",
   "metadata": {},
   "source": [
    "# 1909-powershell-about_Parameter_Default_Values"
   ]
  },
  {
   "cell_type": "markdown",
   "metadata": {},
   "source": [
    "## overview"
   ]
  },
  {
   "cell_type": "markdown",
   "metadata": {},
   "source": [
    "- about_Parameter_Default_Values"
   ]
  },
  {
   "cell_type": "markdown",
   "metadata": {},
   "source": [
    "![Image from Gyazo](https://i.gyazo.com/9c23d8a166aeaa46a042f3b1f33dcf33.png)"
   ]
  },
  {
   "cell_type": "markdown",
   "metadata": {},
   "source": [
    "## jupyter notebook"
   ]
  },
  {
   "cell_type": "markdown",
   "metadata": {},
   "source": [
    "- https://nbviewer.jupyter.org/github/sakai-memoru/pwshnote/blob/master/1909-powershell-about_Parameter_Default_Values.ipynb"
   ]
  },
  {
   "cell_type": "markdown",
   "metadata": {},
   "source": [
    "## Usage"
   ]
  },
  {
   "cell_type": "markdown",
   "metadata": {},
   "source": [
    "### Get-Help"
   ]
  },
  {
   "cell_type": "code",
   "execution_count": 1,
   "metadata": {},
   "outputs": [
    {
     "name": "stdout",
     "output_type": "stream",
     "text": [
      "\n",
      "\n",
      "Name     : about_ActivityCommonParameters\n",
      "Synopsis : Describes the parameters that Windows PowerShell\n",
      "\n",
      "Name     : about_CommonParameters\n",
      "Synopsis : Describes the parameters that can be used with any cmdlet.\n",
      "\n",
      "Name     : about_Functions_Advanced_Parameters\n",
      "Synopsis : Explains how to add parameters to advanced functions.\n",
      "\n",
      "Name     : about_Parameters\n",
      "Synopsis : Describes how to work with command parameters in Windows PowerShell.\n",
      "\n",
      "Name     : about_Parameters_Default_Values\n",
      "Synopsis : Describes how to set custom default values for the parameters of cmdlets and\n",
      "\n",
      "Name     : about_WorkflowCommonParameters\n",
      "Synopsis : This topic describes the parameters that are valid on all Windows\n",
      "\n",
      "Name     : about_ActivityCommonParameters\n",
      "Synopsis : Describes the parameters that Windows PowerShell\n",
      "\n",
      "Name     : about_WorkflowCommonParameters\n",
      "Synopsis : This topic describes the parameters that are valid on all Windows\n",
      "\n",
      "\n",
      "\n"
     ]
    }
   ],
   "source": [
    "Get-Help -Category helpfile about_*Parameter* | select Name, Synopsis | format-list *"
   ]
  },
  {
   "cell_type": "markdown",
   "metadata": {},
   "source": [
    "### about_Parameters_Default_Values"
   ]
  },
  {
   "cell_type": "code",
   "execution_count": 2,
   "metadata": {},
   "outputs": [
    {
     "name": "stdout",
     "output_type": "stream",
     "text": []
    }
   ],
   "source": [
    "Get-Help about_Parameters_Default_Values | set -Name store"
   ]
  },
  {
   "cell_type": "code",
   "execution_count": 3,
   "metadata": {},
   "outputs": [
    {
     "name": "stdout",
     "output_type": "stream",
     "text": [
      "System.String\n"
     ]
    }
   ],
   "source": [
    "$store.GetType().Fullname"
   ]
  },
  {
   "cell_type": "code",
   "execution_count": 4,
   "metadata": {},
   "outputs": [
    {
     "name": "stdout",
     "output_type": "stream",
     "text": []
    }
   ],
   "source": [
    "$store -split \"`r`n\" | set -Name ary"
   ]
  },
  {
   "cell_type": "code",
   "execution_count": 5,
   "metadata": {},
   "outputs": [
    {
     "name": "stdout",
     "output_type": "stream",
     "text": [
      "344\n"
     ]
    }
   ],
   "source": [
    "$ary.length"
   ]
  },
  {
   "cell_type": "code",
   "execution_count": 11,
   "metadata": {},
   "outputs": [
    {
     "name": "stdout",
     "output_type": "stream",
     "text": [
      "$i = 0\n",
      "$j = 0\n",
      "\n",
      "foreach($ar in $ary)\n",
      ">> {\n",
      ">>   if($ar -match 'SEE ALSO')\n",
      ">>   {\n",
      ">>     break\n",
      ">>   }\n",
      ">>   if($ar -match 'KEYWORDS')\n",
      ">>   {\n",
      ">>     $j = $i\n",
      ">>   }\n",
      ">>   $i++\n",
      ">> }\n",
      ">> \n"
     ]
    }
   ],
   "source": [
    "$i = 0\n",
    "$j = 0\n",
    "\n",
    "foreach($ar in $ary)\n",
    "{\n",
    "  if($ar -match 'SEE ALSO')\n",
    "  {\n",
    "    break\n",
    "  }\n",
    "  if($ar -match 'KEYWORDS')\n",
    "  {\n",
    "    $j = $i\n",
    "  }\n",
    "  $i++\n",
    "}"
   ]
  },
  {
   "cell_type": "code",
   "execution_count": 13,
   "metadata": {},
   "outputs": [
    {
     "name": "stdout",
     "output_type": "stream",
     "text": [
      "$url_base = \"https://nbviewer.jupyter.org/github/sakai-memoru/pwshnote/blob/master/1909-powershell-{{about_item}}.ipynb\"\n",
      "\n",
      "echo 'SEE ALSO'\n",
      "SEE ALSO\n",
      "foreach($a in $ary[($i+1)..$ary.Length]){\n",
      ">>   if(-not ($a.Trim() -eq ''))\n",
      ">>   {\n",
      ">>     if($a.Trim().startswith('about_'))\n",
      ">>     {\n",
      ">>       $url_base.Replace('{{about_item}}',$a.Trim())  \n",
      ">>     }\n",
      ">>     else\n",
      ">>     {\n",
      ">>       $a.Trim()\n",
      ">>     }\n",
      ">>   }\n",
      ">> }\n",
      ">> \n",
      "https://nbviewer.jupyter.org/github/sakai-memoru/pwshnote/blob/master/1909-powershell-about_Hash_Tables.ipynb\n",
      "https://nbviewer.jupyter.org/github/sakai-memoru/pwshnote/blob/master/1909-powershell-about_Preference_Variables.ipynb\n",
      "https://nbviewer.jupyter.org/github/sakai-memoru/pwshnote/blob/master/1909-powershell-about_Profiles.ipynb\n",
      "https://nbviewer.jupyter.org/github/sakai-memoru/pwshnote/blob/master/1909-powershell-about_Script_Blocks.ipynb\n"
     ]
    }
   ],
   "source": [
    "$url_base = \"https://nbviewer.jupyter.org/github/sakai-memoru/pwshnote/blob/master/1909-powershell-{{about_item}}.ipynb\"\n",
    "\n",
    "echo 'SEE ALSO'\n",
    "foreach($a in $ary[($i+1)..$ary.Length]){\n",
    "  if(-not ($a.Trim() -eq ''))\n",
    "  {\n",
    "    if($a.Trim().startswith('about_'))\n",
    "    {\n",
    "      $url_base.Replace('{{about_item}}',$a.Trim())  \n",
    "    }\n",
    "    else\n",
    "    {\n",
    "      $a.Trim()\n",
    "    }\n",
    "  }\n",
    "}"
   ]
  },
  {
   "cell_type": "code",
   "execution_count": 15,
   "metadata": {},
   "outputs": [
    {
     "name": "stdout",
     "output_type": "stream",
     "text": [
      "echo 'KEYWORDS'\n",
      "KEYWORDS\n",
      "foreach($a in $ary[($j+1)..($i-1)]){\n",
      ">>   if(-not ($a.Trim() -eq ''))\n",
      ">>   {\n",
      ">>     if($a.Trim().startswith('about_'))\n",
      ">>     {\n",
      ">>       $url_base.Replace('{{about_item}}',$a.Trim())  \n",
      ">>     }\n",
      ">>     else\n",
      ">>     {\n",
      ">>       $a.Trim()\n",
      ">>     }\n",
      ">>   }\n",
      ">> }\n",
      ">> \n",
      "https://nbviewer.jupyter.org/github/sakai-memoru/pwshnote/blob/master/1909-powershell-about_PSDefaultParameterValues.ipynb\n",
      "https://nbviewer.jupyter.org/github/sakai-memoru/pwshnote/blob/master/1909-powershell-about_Parameters_DefaultValues.ipynb\n",
      "https://nbviewer.jupyter.org/github/sakai-memoru/pwshnote/blob/master/1909-powershell-about_DefaultValues.ipynb\n"
     ]
    }
   ],
   "source": [
    "echo 'KEYWORDS'\n",
    "foreach($a in $ary[($j+1)..($i-1)]){\n",
    "  if(-not ($a.Trim() -eq ''))\n",
    "  {\n",
    "    if($a.Trim().startswith('about_'))\n",
    "    {\n",
    "      $url_base.Replace('{{about_item}}',$a.Trim())  \n",
    "    }\n",
    "    else\n",
    "    {\n",
    "      $a.Trim()\n",
    "    }\n",
    "  }\n",
    "}"
   ]
  },
  {
   "cell_type": "code",
   "execution_count": 17,
   "metadata": {},
   "outputs": [
    {
     "name": "stdout",
     "output_type": "stream",
     "text": [
      "TOPIC\n",
      "    about_Parameters_Default_Values\n",
      "\n",
      "SHORT DESCRIPTION\n",
      "    Describes how to set custom default values for the parameters of cmdlets and\n",
      "    advanced functions.\n",
      "\n",
      "LONG DESCRIPTION\n",
      "    The $PSDefaultParameterValues preference variable lets you specify custom\n",
      "    default values for any cmdlet or advanced function. Cmdlets and functions\n",
      "    use the custom default value unless you specify another value in the command.\n",
      "\n",
      "    The authors of cmdlets and advanced functions set standard default values for\n",
      "    their parameters. Typically, the standard default values are useful, but they\n",
      "    might not be appropriate for all environments.\n",
      "\n",
      "    This feature is especially useful when you  must specify the same alternate\n",
      "    parameter value nearly every time you use the command or when a particular \n",
      "    parameter value is difficult to remember, such as an e-mail server name or\n",
      "    project GUID.\n",
      "\n",
      "    If the desired default value varies predictably, you can specify a script \n",
      "    block that provides different default values for a parameter under different\n",
      "    conditions.\n",
      "\n",
      "    $PSDefaultParameterValues was introduced in Windows PowerShell 3.0.\n",
      "\n",
      "\n",
      " SYNTAX\n",
      "\n",
      "    The syntax of the $PSDefaultParameterValues preference variable is as follows:\n",
      "\n",
      "       $PSDefaultParameterValues=@{\"<CmdletName>:<ParameterName>\"=\"<DefaultValue>\"}\n",
      "\n",
      "       $PSDefaultParameterValues=@{\"<CmdletName>:<ParameterName>\"={<ScriptBlock>}}\n",
      "\n",
      "       $PSDefaultParameterValues[\"Disabled\"]=$true | $false\n",
      "\n",
      "    Wildcard characters are permitted in the CmdletName and ParameterName values.\n",
      "\n",
      "    The value of $PSDefaultParameterValues is a System.Management.Automation.DefaultParameterDictionary, \n",
      "    a type of hash table that validates the format of keys. Enter a hash table\n",
      "    where the key consists of the cmdlet name and parameter name separated\n",
      "    by a colon (:) and the value is the custom default value.\n",
      "\n",
      "    To set, change, add, or remove entries from $PSDefaultParameterValues, use the \n",
      "    methods that you would use to edit a standard hash table. \n",
      "\n",
      "    The <CmdletName> must be the name of a cmdlet or the name of an advanced function\n",
      "    that uses the CmdletBinding attribute. You cannot use $PSDefaultParameterValues to\n",
      "    specify default values for scripts or simple functions.\n",
      "\n",
      "    The default value can be an object or a script block. If the value is a script \n",
      "    block, Windows PowerShell evaluates the script block and uses the result as the \n",
      "    parameter value. When the specified parameter takes a script block value, enclose\n",
      "    the script block value in a second set of braces, such as:\n",
      "    $PSDefaultParameterValues=@{ \"Invoke-Command:ScriptBlock\"={{Get-Process}} }     \n",
      "\n",
      "    For information about hash tables, see about_Hash_Tables. For information about\n",
      "    script blocks, see about_Script_Blocks. For information about preference \n",
      "    variables, see about_Preference_Variables.\n",
      "     \n",
      "\n",
      " and more ...\n"
     ]
    }
   ],
   "source": [
    "$ary[0..61] + \"`r`n and more ...\""
   ]
  }
 ],
 "metadata": {
  "kernelspec": {
   "display_name": "PowerShell",
   "language": "powershell",
   "name": "powershell"
  },
  "language_info": {
   "codemirror_mode": "shell",
   "file_extension": ".ps1",
   "mimetype": "text/x-sh",
   "name": "powershell"
  }
 },
 "nbformat": 4,
 "nbformat_minor": 2
}
