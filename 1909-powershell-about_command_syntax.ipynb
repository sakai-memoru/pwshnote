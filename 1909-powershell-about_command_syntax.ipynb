{
 "cells": [
  {
   "cell_type": "markdown",
   "metadata": {},
   "source": [
    "# 1909-powershell-about_command_syntax"
   ]
  },
  {
   "cell_type": "markdown",
   "metadata": {},
   "source": [
    "## overview"
   ]
  },
  {
   "cell_type": "markdown",
   "metadata": {},
   "source": [
    "- about command syntax"
   ]
  },
  {
   "cell_type": "markdown",
   "metadata": {},
   "source": [
    "![Image from Gyazo](https://i.gyazo.com/9c23d8a166aeaa46a042f3b1f33dcf33.png)"
   ]
  },
  {
   "cell_type": "markdown",
   "metadata": {},
   "source": [
    "## jupyter notebook"
   ]
  },
  {
   "cell_type": "markdown",
   "metadata": {},
   "source": [
    "- https://nbviewer.jupyter.org/github/sakai-memoru/pwshnote/blob/master/1909-powershell-about_command_syntax.ipynb"
   ]
  },
  {
   "cell_type": "markdown",
   "metadata": {},
   "source": [
    "## Usage"
   ]
  },
  {
   "cell_type": "markdown",
   "metadata": {},
   "source": [
    "### Get-Help"
   ]
  },
  {
   "cell_type": "code",
   "execution_count": 1,
   "metadata": {},
   "outputs": [
    {
     "name": "stdout",
     "output_type": "stream",
     "text": [
      "\n",
      "\n",
      "Name     : about_Command_Precedence\n",
      "Synopsis : Describes how Windows PowerShell determines which command to run.\n",
      "\n",
      "Name     : about_Command_Syntax\n",
      "Synopsis : Describes the syntax diagrams that are used in Windows PowerShell.\n",
      "\n",
      "Name     : about_Core_Commands\n",
      "Synopsis : Lists the cmdlets that are designed for use with Windows PowerShell\n",
      "\n",
      "\n",
      "\n"
     ]
    }
   ],
   "source": [
    "Get-Help -Category Helpfile -Name *command* | select Name, Synopsis | fl"
   ]
  },
  {
   "cell_type": "code",
   "execution_count": 2,
   "metadata": {},
   "outputs": [
    {
     "name": "stdout",
     "output_type": "stream",
     "text": []
    }
   ],
   "source": [
    "Get-Help about_Command_Syntax | set -Name store"
   ]
  },
  {
   "cell_type": "code",
   "execution_count": 3,
   "metadata": {},
   "outputs": [
    {
     "name": "stdout",
     "output_type": "stream",
     "text": [
      "System.String\n"
     ]
    }
   ],
   "source": [
    "$store.GetType().fullname"
   ]
  },
  {
   "cell_type": "code",
   "execution_count": 4,
   "metadata": {},
   "outputs": [
    {
     "name": "stdout",
     "output_type": "stream",
     "text": []
    }
   ],
   "source": [
    "$store -split \"`r`n\" | set -Name ary"
   ]
  },
  {
   "cell_type": "code",
   "execution_count": 5,
   "metadata": {},
   "outputs": [
    {
     "name": "stdout",
     "output_type": "stream",
     "text": [
      "302\n"
     ]
    }
   ],
   "source": [
    "$ary.Length"
   ]
  },
  {
   "cell_type": "code",
   "execution_count": 6,
   "metadata": {},
   "outputs": [
    {
     "name": "stdout",
     "output_type": "stream",
     "text": [
      "$i = 0\n",
      "$j = 0\n",
      "foreach($ar in $ary)\n",
      ">> {\n",
      ">>   if($ar -match 'KEYWORDS')\n",
      ">>   {\n",
      ">>     $j = $i\n",
      ">>   }\n",
      ">>   if($ar -match 'SEE ALSO')\n",
      ">>   {\n",
      ">>     break\n",
      ">>   }\n",
      ">>   $i++\n",
      ">> }\n",
      ">> \n",
      "\n"
     ]
    }
   ],
   "source": [
    "$i = 0\n",
    "$j = 0\n",
    "foreach($ar in $ary)\n",
    "{\n",
    "  if($ar -match 'KEYWORDS')\n",
    "  {\n",
    "    $j = $i\n",
    "  }\n",
    "  if($ar -match 'SEE ALSO')\n",
    "  {\n",
    "    break\n",
    "  }\n",
    "  $i++\n",
    "}\n"
   ]
  },
  {
   "cell_type": "code",
   "execution_count": 7,
   "metadata": {},
   "outputs": [
    {
     "name": "stdout",
     "output_type": "stream",
     "text": [
      "KEYWORDS\n",
      "    about_Symbols\n",
      "    about_Punctuation\n",
      "    about_Help_Syntax\n",
      "\n"
     ]
    }
   ],
   "source": [
    "$ary[$j..($i-1)]"
   ]
  },
  {
   "cell_type": "code",
   "execution_count": 8,
   "metadata": {},
   "outputs": [
    {
     "name": "stdout",
     "output_type": "stream",
     "text": [
      "SEE ALSO\n",
      "    about_Parameters\n",
      "    Get-Command\n",
      "    Get-Help\n",
      "\n",
      "\n",
      "\n",
      "\n",
      "\n",
      "\n",
      "\n",
      "\n",
      "\n",
      "\n",
      "\n",
      "\n"
     ]
    }
   ],
   "source": [
    "$ary[$i..$ary.Length]"
   ]
  },
  {
   "cell_type": "code",
   "execution_count": 9,
   "metadata": {},
   "outputs": [
    {
     "name": "stdout",
     "output_type": "stream",
     "text": [
      "TOPIC\n",
      "    about_Command_Syntax\n",
      "\n",
      "SHORT DESCRIPTION\n",
      "    Describes the syntax diagrams that are used in Windows PowerShell.\n",
      "\n",
      "\n",
      "LONG DESCRIPTION\n",
      "    The Get-Help and Get-Command cmdlets display syntax diagrams to help\n",
      "    you construct commands correctly. This topic explains how to interpret\n",
      "    the syntax diagrams.\n",
      "\n",
      "\n"
     ]
    }
   ],
   "source": [
    "$ary[0..12]"
   ]
  },
  {
   "cell_type": "code",
   "execution_count": 10,
   "metadata": {},
   "outputs": [
    {
     "name": "stdout",
     "output_type": "stream",
     "text": [
      "  Syntax Diagrams\n",
      "    Each paragraph in a command syntax diagram represents a valid form\n",
      "    of the command. \n",
      "\n",
      "    To construct a command, follow the syntax diagram from left to\n",
      "    right. Select from among the optional parameters and provide values for\n",
      "    the placeholders.\n",
      "\n",
      "    Windows PowerShell uses the following notation for syntax diagrams.\n",
      "\n",
      "       <command-name> -<Required Parameter Name> <Required Parameter Value>\n",
      "                      [-<Optional Parameter Name> <Optional Parameter Value>] \n",
      "                      [-<Optional Switch Parameters>] \n",
      "                      [-<Optional Parameter Name>] <Required Parameter Value> \n",
      "\n",
      "\n",
      "    The following is the syntax for the New-Alias cmdlet.\n",
      "\n",
      "        New-Alias [-Name] <string> [-Value] <string> [-Description <string>]\n",
      "            [-Force] [-Option {None | ReadOnly | Constant | Private | AllScope}]\n",
      "            [-PassThru] [-Scope <string>] [-Confirm] [-WhatIf] [<CommonParameters>]\n",
      "\n",
      "\n",
      "    The syntax is capitalized for readability, but Windows PowerShell is \n",
      "    case-insensitive. \n",
      "\n",
      "\n",
      "  The syntax diagram has the following elements.\n",
      "\n"
     ]
    }
   ],
   "source": [
    "$ary[13..41]"
   ]
  },
  {
   "cell_type": "code",
   "execution_count": 11,
   "metadata": {},
   "outputs": [
    {
     "name": "stdout",
     "output_type": "stream",
     "text": [
      "  Command name\n",
      "  ------------\n",
      "    Commands always begin with a command name, such as New-Alias. Type the\n",
      "    command name or its alias, such a \"gcm\" for Get-Command. \n",
      "\n",
      "\n",
      "  Parameters\n",
      "  ----------\n",
      "    The parameters of a command are options that determine what the command\n",
      "    does. Some parameters take a \"value,\" which is user input to the command.\n",
      "\n",
      "    For example, the Get-Help command has a Name parameter that lets you\n",
      "    specify the name of the topic for which help is displayed. The topic\n",
      "    name is the value of the Name parameter. \n",
      "\n",
      "    In a Windows PowerShell command, parameter names always begin with a \n",
      "    hyphen. The hyphen tells Windows PowerShell that the item in the command\n",
      "    is a parameter name.\n",
      "\n",
      "    For example, to use the Name parameter of New-Alias, you type the following:\n",
      "\n",
      "        -Name\n",
      "\n",
      "    Parameters can be mandatory or optional. In a syntax diagram, optional\n",
      "    items are enclosed in brackets ([ ]).\n",
      "\n",
      "    For more information about parameters, see about_Parameters.\n",
      "          \n",
      "    \n"
     ]
    }
   ],
   "source": [
    "$ary[42..70]"
   ]
  },
  {
   "cell_type": "code",
   "execution_count": 12,
   "metadata": {},
   "outputs": [
    {
     "name": "stdout",
     "output_type": "stream",
     "text": [
      "  Parameter Values\n",
      "  ----------------\n",
      "    A parameter value is the input that the parameter takes. Because Windows\n",
      "    PowerShell is based on the Microsoft .NET Framework, parameter values are\n",
      "    represented in the syntax diagram by their .NET type. \n",
      "\n",
      "    For example, the Name parameter of Get-Help takes a String value, which\n",
      "    is a text string, such as a single word or multiple words enclosed in\n",
      "    quotation marks. \n",
      "\n",
      "        [-Name] <string>\n",
      "\n",
      "    The .NET type of a parameter value is enclosed in angle brackets (< >)\n",
      "    to indicate that it is placeholder for a value and not a literal \n",
      "    that you type in a command.\n",
      "\n",
      "    To use the parameter, replace the .NET type placeholder with an object\n",
      "    that has the specified .NET type.\n",
      "    \n",
      "    For example, to use the Name parameter, type \"-Name\" followed by a string,\n",
      "    such as the following:\n",
      "\n",
      "        -Name MyAlias\n",
      "\n",
      "  Parameters with no values\n",
      "  -------------------------\n",
      "    Some parameters do not accept input, so they do not have a parameter\n",
      "    value. Parameters without values are called \"switch parameters\" \n",
      "    because they work like on/off switches. You include them (on) or you\n",
      "    omit them (off) from a command.\n",
      "   \n",
      "    To use a switch parameter, just type the parameter name, preceded by a hyphen.\n",
      "\n",
      "    For example, to use the WhatIf parameter of the New-Alias cmdlet, type the following:\n",
      "\n",
      "        -WhatIf\n",
      "\n"
     ]
    }
   ],
   "source": [
    "$ary[71..107]"
   ]
  },
  {
   "cell_type": "code",
   "execution_count": 13,
   "metadata": {},
   "outputs": [
    {
     "name": "stdout",
     "output_type": "stream",
     "text": [
      "  Parameter Sets\n",
      "  --------------\n",
      "    The parameters of a command are listed in parameter sets. Parameter sets\n",
      "    look like the paragraphs of a syntax diagram.\n",
      "\n",
      "    The New-Alias cmdlet has one parameter set, but many cmdlets have multiple\n",
      "    parameter sets. Some of the cmdlet parameters are unique to a parameter set,\n",
      "    and others appear in multiple parameter sets.\n",
      "\n",
      "    Each parameter set represents the format of a valid command. A parameter\n",
      "    set includes only parameters that can be used together in a command. If\n",
      "    parameters cannot be used in the same command, they appear in separate\n",
      "    parameter sets.\n",
      "\n",
      "    For example, the Get-Random cmdlet has the following parameter sets:\n",
      "\n",
      "        Get-Random [[-Maximum] <Object>] [-Minimum <Object>] [-SetSeed <int>]\n",
      "                    [<CommonParameters>]\n",
      "\n",
      "        Get-Random [-InputObject] <Object[]> [-Count <int>] [-SetSeed <int>]\n",
      "                   [<CommonParameters>]\n",
      "\n",
      "    The first parameter set, which returns a random number, has the Minimum\n",
      "    and Maximum parameters. The second parameter set, which returns a randomly\n",
      "    selected object from a set of objects, includes the InputObject and Count\n",
      "    parameters. Both parameter sets have the Set-Seed parameter and the common\n",
      "    parameters.\n",
      "\n",
      "    These parameter sets indicate that you can use the InputObject and Count\n",
      "    parameters in the same command, but you cannot use the Maximum and Count\n",
      "    parameters in the same command.\n",
      "\n",
      "    You indicate which parameter set you want to use by using the parameters\n",
      "    in that parameter set. \n",
      "\n",
      "    However, every cmdlet also has a default parameter set. The default parameter\n",
      "    set is used when you do not specify parameters that are unique to a parameter \n",
      "    set. For example, if you use Get-Random without parameters, Windows PowerShell\n",
      "    assumes that you are using the Number parameter set and it returns a random number.\n",
      "\n",
      "    In each parameter set, the parameters appear in position order. The order of\n",
      "    parameters in a command matters only when you omit the optional parameter names.\n",
      "    When parameter names are omitted, Windows PowerShell assigns values to\n",
      "    parameters by position and type. For more information about parameter position, \n",
      "    see about_Parameters.\n",
      "\n",
      "\n"
     ]
    }
   ],
   "source": [
    "$ary[108..154]"
   ]
  },
  {
   "cell_type": "code",
   "execution_count": 14,
   "metadata": {},
   "outputs": [
    {
     "name": "stdout",
     "output_type": "stream",
     "text": [
      "  Symbols in Syntax Diagrams\n",
      "    The syntax diagram lists the command name, the command parameters, and the \n",
      "    parameter values. It also uses symbols to show how to construct a valid\n",
      "    command.\n",
      "    \n",
      "    The syntax diagrams use the following symbols:\n",
      "\n",
      "\n",
      "    -- A hyphen (-) indicates a parameter name. In a command, type the hyphen\n",
      "       immediately before the parameter name with no intervening spaces, as\n",
      "       shown in the syntax diagram.\n",
      "\n",
      "       For example, to use the Name parameter of New-Alias, type:\n",
      "\n",
      "           -Name \n",
      "\n",
      "    -- Angle brackets (<>) indicate placeholder text. You do not type the\n",
      "       angle brackets or the placeholder text in a command. Instead, you replace\n",
      "       it with the item that it describes. \n",
      "\n",
      "       Angle brackets are used to identify the .NET type of the value that\n",
      "       a parameter takes. For example, to use the Name parameter of the New-Alias\n",
      "       cmdlet, you replace the <string> with a string, which is a single word or a\n",
      "       group of words that are enclosed in quotation marks.\n",
      "      \n",
      "        \n",
      "    -- Brackets ([ ]) indicate optional items. A parameter and its value can be\n",
      "       optional, or the name of a required parameter can be optional. \n",
      " \n",
      "       For example, the Description parameter of New-Alias and its value are\n",
      "       enclosed in brackets because they are both optional. \n",
      " \n",
      "   [-Description <string>]\n",
      "       \n",
      "       \n",
      "       The brackets also indicate that the Name parameter value (<string>) is\n",
      "       required, but the parameter name, \"Name,\" is optional. \n",
      "\n",
      "         [-Name] <string>\n",
      "\n",
      "\n"
     ]
    }
   ],
   "source": [
    "$ary[155..195]"
   ]
  },
  {
   "cell_type": "code",
   "execution_count": 15,
   "metadata": {},
   "outputs": [
    {
     "name": "stdout",
     "output_type": "stream",
     "text": [
      "    -- A right and left bracket ([]) appended to a .NET type indicates that\n",
      "       the parameter can accept one or multiple values of that type. Enter the \n",
      "       values in a comma-separated list.\n",
      "\n",
      "       For example, the Name parameter of the New-Alias cmdlet takes only \n",
      "       one string, but the Name parameter of Get-Process can take one or \n",
      "       many strings.\n",
      "\n",
      "          New-Alias [-Name] <string>\n",
      "\n",
      "               New-Alias -Name MyAlias\n",
      "\n",
      "          Get-Process [-Name] <string[]>\n",
      "\n",
      "               Get-Process -Name Explorer, Winlogon, Services\n",
      "               \n",
      "\n",
      "    -- Braces ({}) indicate an \"enumeration,\" which is a set of valid values\n",
      "       for a parameter. \n",
      " \n",
      "       The values in the braces are separated by vertical bars ( | ). These bars       \n",
      "       indicate an \"exclusive or\" choice, meaning that you can choose only\n",
      "       one value from the set of values that are listed inside the braces. \n",
      "\n",
      "       For example, the syntax for the New-Alias cmdlet includes the following\n",
      "       value enumeration for the Option parameter:\n",
      "\n",
      "          -Option {None | ReadOnly | Constant | Private | AllScope}\n",
      "\n",
      "       The braces and vertical bars indicate that you can choose any one of\n",
      "       the listed values for the Option parameter, such as ReadOnly or AllScope.\n",
      "\n",
      "          -Option ReadOnly\n",
      "\n",
      "\n"
     ]
    }
   ],
   "source": [
    "$ary[196..230]"
   ]
  },
  {
   "cell_type": "code",
   "execution_count": 16,
   "metadata": {},
   "outputs": [
    {
     "name": "stdout",
     "output_type": "stream",
     "text": [
      "\n",
      "  Optional Items\n",
      "      Brackets ([]) surround optional items. For example, in the New-Alias \n",
      "      cmdlet syntax description, the Scope parameter is optional. This is \n",
      "      indicated in the syntax by the brackets around the parameter name \n",
      "      and type:\n",
      "\n",
      "          [-Scope <string>]\n",
      "\n",
      "\n",
      "      Both the following examples are correct uses of the New-Alias cmdlet:\n",
      "\n",
      "          New-Alias -Name utd -Value Update-TypeData\n",
      "          New-Alias -Name utd -Value Update-TypeData -Scope global\n",
      "\n",
      "\n",
      "      A parameter name can be optional even if the value for that parameter is \n",
      "      required. This is indicated in the syntax by the brackets around the \n",
      "      parameter name but not the parameter type, as in this example from the \n",
      "      New-Alias cmdlet:\n",
      "\n",
      "          [-Name] <string> [-Value] <string>\n",
      "\n",
      "\n",
      "      The following  commands correctly use the New-Alias cmdlet. The commands \n",
      "      produce the same result.\n",
      "\n",
      "          New-Alias -Name utd -Value Update-TypeData\n",
      "          New-Alias -Name utd Update-TypeData\n",
      "          New-Alias utd -Value Update-TypeData\n",
      "          New-Alias utd Update-TypeData\n",
      "\n",
      "\n",
      "      If the parameter name is not included in the statement as typed, Windows \n",
      "      PowerShell tries to use the position of the arguments to assign the \n",
      "      values to parameters.\n",
      "\n",
      "\n",
      "      The following example is not complete:\n",
      "\n",
      "          New-Alias utd\n",
      "\n",
      "\n",
      "      This cmdlet requires values for both the Name and Value parameters.\n",
      "\n",
      "\n",
      "      In syntax examples, brackets are also used in naming and casting to \n",
      "      .NET Framework types. In this context, brackets do not indicate an \n",
      "      element is optional.\n",
      "\n",
      "KEYWORDS\n",
      "    about_Symbols\n",
      "    about_Punctuation\n",
      "    about_Help_Syntax\n",
      "\n",
      "SEE ALSO\n",
      "    about_Parameters\n",
      "    Get-Command\n",
      "    Get-Help\n",
      "\n",
      "\n",
      "\n",
      "\n",
      "\n",
      "\n",
      "\n",
      "\n",
      "\n",
      "\n",
      "\n",
      "\n"
     ]
    }
   ],
   "source": [
    "$ary[231..$ary.length]"
   ]
  },
  {
   "cell_type": "code",
   "execution_count": null,
   "metadata": {},
   "outputs": [],
   "source": []
  }
 ],
 "metadata": {
  "kernelspec": {
   "display_name": "PowerShell",
   "language": "powershell",
   "name": "powershell"
  },
  "language_info": {
   "codemirror_mode": "shell",
   "file_extension": ".ps1",
   "mimetype": "text/x-sh",
   "name": "powershell"
  }
 },
 "nbformat": 4,
 "nbformat_minor": 2
}
