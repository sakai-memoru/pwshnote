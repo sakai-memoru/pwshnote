{
 "cells": [
  {
   "cell_type": "markdown",
   "metadata": {},
   "source": [
    "# 1909-powershell-about_Script_Blocks"
   ]
  },
  {
   "cell_type": "markdown",
   "metadata": {},
   "source": [
    "## overview"
   ]
  },
  {
   "cell_type": "markdown",
   "metadata": {},
   "source": [
    "- about_Script_Blocks"
   ]
  },
  {
   "cell_type": "markdown",
   "metadata": {},
   "source": [
    "![Image from Gyazo](https://i.gyazo.com/9c23d8a166aeaa46a042f3b1f33dcf33.png)"
   ]
  },
  {
   "cell_type": "markdown",
   "metadata": {},
   "source": [
    "## jupyter notebook"
   ]
  },
  {
   "cell_type": "markdown",
   "metadata": {},
   "source": [
    "- https://nbviewer.jupyter.org/github/sakai-memoru/pwshnote/blob/master/1909-powershell-about_Script_Blocks.ipynb"
   ]
  },
  {
   "cell_type": "markdown",
   "metadata": {},
   "source": [
    "## Usage"
   ]
  },
  {
   "cell_type": "markdown",
   "metadata": {},
   "source": [
    "### Get-Help"
   ]
  },
  {
   "cell_type": "code",
   "execution_count": 2,
   "metadata": {},
   "outputs": [
    {
     "name": "stdout",
     "output_type": "stream",
     "text": [
      "\n",
      "\n",
      "Name     : about_Script_Blocks\n",
      "Synopsis : Defines what a script block is and explains how to use script blocks in\n",
      "\n",
      "\n",
      "\n"
     ]
    }
   ],
   "source": [
    "Get-Help -Category helpfile about_Script_Blocks | select Name, Synopsis | format-list *"
   ]
  },
  {
   "cell_type": "markdown",
   "metadata": {},
   "source": [
    "### about_Script_Blocks"
   ]
  },
  {
   "cell_type": "code",
   "execution_count": 6,
   "metadata": {},
   "outputs": [
    {
     "name": "stdout",
     "output_type": "stream",
     "text": []
    }
   ],
   "source": [
    "Get-Help about_Script_Blocks | \n",
    "  set -Name store"
   ]
  },
  {
   "cell_type": "code",
   "execution_count": 8,
   "metadata": {},
   "outputs": [
    {
     "name": "stdout",
     "output_type": "stream",
     "text": [
      "System.String\n"
     ]
    }
   ],
   "source": [
    "$store.GetType().Fullname"
   ]
  },
  {
   "cell_type": "code",
   "execution_count": 11,
   "metadata": {},
   "outputs": [
    {
     "name": "stdout",
     "output_type": "stream",
     "text": []
    }
   ],
   "source": [
    "$store -split \"`r`n\" | set -Name ary"
   ]
  },
  {
   "cell_type": "code",
   "execution_count": 13,
   "metadata": {},
   "outputs": [
    {
     "name": "stdout",
     "output_type": "stream",
     "text": [
      "141\n"
     ]
    }
   ],
   "source": [
    "$ary.length"
   ]
  },
  {
   "cell_type": "code",
   "execution_count": 15,
   "metadata": {},
   "outputs": [
    {
     "name": "stdout",
     "output_type": "stream",
     "text": [
      "$i = 0\n",
      "foreach($ar in $ary)\n",
      ">> {\n",
      ">>   if($ar -match 'SEE ALSO')\n",
      ">>   {\n",
      ">>     break\n",
      ">>   }\n",
      ">>   $i++\n",
      ">> }\n",
      ">> # $ary[$i..$ary.Length]\n",
      ">> \n"
     ]
    }
   ],
   "source": [
    "$i = 0\n",
    "foreach($ar in $ary)\n",
    "{\n",
    "  if($ar -match 'SEE ALSO')\n",
    "  {\n",
    "    break\n",
    "  }\n",
    "  $i++\n",
    "}\n",
    "# $ary[$i..$ary.Length]"
   ]
  },
  {
   "cell_type": "code",
   "execution_count": 25,
   "metadata": {},
   "outputs": [
    {
     "name": "stdout",
     "output_type": "stream",
     "text": [
      "$url_base = \"https://nbviewer.jupyter.org/github/sakai-memoru/pwshnote/blob/master/1909-powershell-{{about_item}}.ipynb\"\n",
      "\n",
      "foreach($a in $ary[($i+1)..$ary.Length]){\n",
      ">>   if(-not ($a.Trim() -eq ''))\n",
      ">>   {\n",
      ">>     if($a.Trim().startswith('about_'))\n",
      ">>     {\n",
      ">>       $url_base.Replace('{{about_item}}',$a.Trim())  \n",
      ">>     }\n",
      ">>     else\n",
      ">>     {\n",
      ">>       $a.Trim()\n",
      ">>     }\n",
      ">>   }\n",
      ">> }\n",
      ">> \n",
      "https://nbviewer.jupyter.org/github/sakai-memoru/pwshnote/blob/master/1909-powershell-about_Functions.ipynb\n",
      "https://nbviewer.jupyter.org/github/sakai-memoru/pwshnote/blob/master/1909-powershell-about_Functions_Advanced.ipynb\n",
      "https://nbviewer.jupyter.org/github/sakai-memoru/pwshnote/blob/master/1909-powershell-about_Operators.ipynb\n"
     ]
    }
   ],
   "source": [
    "$url_base = \"https://nbviewer.jupyter.org/github/sakai-memoru/pwshnote/blob/master/1909-powershell-{{about_item}}.ipynb\"\n",
    "\n",
    "foreach($a in $ary[($i+1)..$ary.Length]){\n",
    "  if(-not ($a.Trim() -eq ''))\n",
    "  {\n",
    "    if($a.Trim().startswith('about_'))\n",
    "    {\n",
    "      $url_base.Replace('{{about_item}}',$a.Trim())  \n",
    "    }\n",
    "    else\n",
    "    {\n",
    "      $a.Trim()\n",
    "    }\n",
    "  }\n",
    "}"
   ]
  },
  {
   "cell_type": "code",
   "execution_count": 33,
   "metadata": {},
   "outputs": [
    {
     "name": "stdout",
     "output_type": "stream",
     "text": [
      "TOPIC\n",
      "    about_Script_Blocks\n",
      "\n",
      "SHORT DESCRIPTION\n",
      "    Defines what a script block is and explains how to use script blocks in \n",
      "    the Windows PowerShell programming language.\n",
      "\n",
      "\n",
      "LONG DESCRIPTION\n",
      "    In the Windows PowerShell programming language, a script block is a \n",
      "    collection of statements or expressions that can be used as a single unit. \n",
      "    A script block can accept arguments and return values.\n",
      "\n",
      "    Syntactically, a script block is a statement list in braces, as shown in \n",
      "    the following syntax:\n",
      "\n",
      "\n",
      "        {<statement list>}\n",
      "\n",
      "\n",
      "    A script block returns the output of all the commands in the script block, \n",
      "    either as a single object or as an array.\n",
      "\n",
      "    Like functions, a script block can include parameters. Use the Param \n",
      "    keyword to assign named parameters, as shown in the following syntax: \n",
      "\n",
      "\n",
      "        {\n",
      "            param ([type]$parameter1 [,[type]$parameter2])\n",
      "            <statement list>\n",
      "        }\n",
      "\n",
      "\n",
      "    In a script block, unlike a function, you cannot specify parameters outside \n",
      "    the braces.\n",
      "\n",
      "\n",
      "    Like functions, script blocks can include the DynamicParam, Begin, Process, \n",
      "    and End keywords. For more information, see about_Functions and \n",
      "    about_Functions_Advanced.\n"
     ]
    }
   ],
   "source": [
    "$ary[0..39] "
   ]
  },
  {
   "cell_type": "code",
   "execution_count": 37,
   "metadata": {},
   "outputs": [
    {
     "name": "stdout",
     "output_type": "stream",
     "text": [
      "\n",
      "\n",
      "  Using Script Blocks\n",
      "\n",
      "      A script block is an instance of a Microsoft .NET Framework type \n",
      "      (System.Management.Automation.ScriptBlock). Commands can have script \n",
      "      block parameter values. For example, the Invoke-Command cmdlet has a \n",
      "      ScriptBlock parameter that takes a script block value, as shown in this \n",
      "      example:\n",
      "\n",
      "\n",
      "          C:\\PS> invoke-command -scriptblock  { get-process }\n",
      "          Handles  NPM(K)    PM(K)     WS(K) VM(M)   CPU(s)     Id ProcessName\n",
      "          -------  ------    -----     ----- -----   ------     -- -----------            \n",
      "              999      28    39100     45020   262    15.88   1844 communicator\n",
      "              721      28    32696     36536   222    20.84   4028 explorer   \n",
      "          . . .           \n",
      "\n",
      "\n",
      "      The script block that is used as a value can be more complicated, as \n",
      "      shown in the following example:\n",
      "\n",
      "\n",
      "          C:\\PS> invoke-command -scriptblock { param ($uu = \"Parameter\"); \n",
      "              \"$uu assigned.\" }  \n",
      "          Parameter assigned.\n",
      "\n",
      "\n",
      "      The script block in the preceding example uses the Param keyword to \n",
      "      create a parameter that has a default value. The following example uses \n",
      "      the Args parameter of the Invoke-Command cmdlet to assign a different \n",
      "      value to the parameter:\n",
      "\n",
      "\n",
      "          C:\\PS> invoke-command -scriptblock {param ($uu = \"Parameter\"); \n",
      "              \"$uu assigned.\"} -args \"Other value\"\n",
      "          Other value assigned.\n",
      "\n",
      "\n",
      "      You can assign a script block to a variable, as shown in the following \n",
      "      example:\n",
      "\n",
      "\n",
      "          C:\\PS> $a = {param ($uu = \"Parameter\"); \"$uu assigned.\"}\n",
      "\n",
      "\n",
      "      You can use the variable with a cmdlet such as Invoke-Command, as shown \n",
      "      in the following example:\n",
      "\n",
      "\n",
      "          C:\\PS> invoke-command -scriptblock $a -args \"Other value\"\n",
      "          Other value assigned.\n",
      "\n",
      "\n",
      "      You can run a script block that is assigned to a variable by using the \n",
      "      call operator (&), as shown in the following example:\n",
      "\n",
      "\n",
      "          C:\\PS> &$a \n",
      "          Parameter assigned.\n"
     ]
    }
   ],
   "source": [
    "$ary[40..99] "
   ]
  },
  {
   "cell_type": "code",
   "execution_count": 40,
   "metadata": {},
   "outputs": [
    {
     "name": "stdout",
     "output_type": "stream",
     "text": [
      "\n",
      "\n",
      "      You can also provide a parameter to the script block, as shown in the \n",
      "      following example:\n",
      "\n",
      "\n",
      "          C:\\PS> &$a \"Other value\"\n",
      "          Other value assigned.\n",
      "\n",
      "\n",
      "      If you want to assign the value that is created by a script block to a \n",
      "      variable, use the call operator to run the script block directly, as \n",
      "      shown in the following example:\n",
      "\n",
      "\n",
      "          C:\\PS> $a = &{param ($uu = \"Parameter\"); \"$uu assigned.\"}\n",
      "          C:\\PS> $a\n",
      "          Parameter assigned.\n",
      "\n",
      "\n",
      "      For more information about the call operator, see about_Operators.\n",
      "\n",
      "\n",
      "SEE ALSO\n",
      "    about_Functions\n",
      "    about_Functions_Advanced\n",
      "    about_Operators\n",
      "\n",
      "\n",
      "\n",
      "\n",
      "\n",
      "\n",
      "\n",
      "\n",
      "\n",
      "\n",
      "\n",
      "\n",
      "\n",
      "\n"
     ]
    }
   ],
   "source": [
    "$ary[100..$ary.Length] "
   ]
  },
  {
   "cell_type": "code",
   "execution_count": null,
   "metadata": {},
   "outputs": [],
   "source": []
  }
 ],
 "metadata": {
  "kernelspec": {
   "display_name": "PowerShell",
   "language": "powershell",
   "name": "powershell"
  },
  "language_info": {
   "codemirror_mode": "shell",
   "file_extension": ".ps1",
   "mimetype": "text/x-sh",
   "name": "powershell"
  }
 },
 "nbformat": 4,
 "nbformat_minor": 2
}
