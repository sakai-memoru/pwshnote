{
 "cells": [
  {
   "cell_type": "markdown",
   "metadata": {},
   "source": [
    "# 1911-PowerShell-default-Loaded-Assemblies"
   ]
  },
  {
   "cell_type": "markdown",
   "metadata": {},
   "source": [
    "## reference"
   ]
  },
  {
   "cell_type": "markdown",
   "metadata": {},
   "source": [
    "- PowerShell でロード済みのアセンブリを確認する\n",
    "  - https://www.vwnet.jp/Windows/PowerShell/CheckAssemblis.htm"
   ]
  },
  {
   "cell_type": "markdown",
   "metadata": {},
   "source": [
    "## Contents"
   ]
  },
  {
   "cell_type": "code",
   "execution_count": 2,
   "metadata": {},
   "outputs": [
    {
     "name": "stdout",
     "output_type": "stream",
     "text": []
    }
   ],
   "source": [
    "[System.AppDomain]::CurrentDomain.GetAssemblies() | set -Name Ary"
   ]
  },
  {
   "cell_type": "code",
   "execution_count": 3,
   "metadata": {},
   "outputs": [
    {
     "name": "stdout",
     "output_type": "stream",
     "text": [
      "\n",
      "\n",
      "   TypeName: System.Reflection.RuntimeAssembly\n",
      "\n",
      "Name                      MemberType Definition                                                                        \n",
      "----                      ---------- ----------                                                                        \n",
      "ModuleResolve             Event      System.Reflection.ModuleResolveEventHandler ModuleResolve(System.Object, System...\n",
      "CreateInstance            Method     System.Object CreateInstance(string typeName), System.Object CreateInstance(str...\n",
      "Equals                    Method     bool Equals(System.Object o), bool _Assembly.Equals(System.Object other)          \n",
      "GetCustomAttributes       Method     System.Object[] GetCustomAttributes(bool inherit), System.Object[] GetCustomAtt...\n",
      "GetCustomAttributesData   Method     System.Collections.Generic.IList[System.Reflection.CustomAttributeData] GetCust...\n",
      "GetExportedTypes          Method     type[] GetExportedTypes(), type[] _Assembly.GetExportedTypes()                    \n",
      "GetFile                   Method     System.IO.FileStream GetFile(string name), System.IO.FileStream _Assembly.GetFi...\n",
      "GetFiles                  Method     System.IO.FileStream[] GetFiles(bool getResourceModules), System.IO.FileStream[...\n",
      "GetHashCode               Method     int GetHashCode(), int _Assembly.GetHashCode()                                    \n",
      "GetInterface              Method     System.Runtime.InteropServices.CustomQueryInterfaceResult ICustomQueryInterface...\n",
      "GetLoadedModules          Method     System.Reflection.Module[] GetLoadedModules(bool getResourceModules), System.Re...\n",
      "GetManifestResourceInfo   Method     System.Reflection.ManifestResourceInfo GetManifestResourceInfo(string resourceN...\n",
      "GetManifestResourceNames  Method     string[] GetManifestResourceNames(), string[] _Assembly.GetManifestResourceNames()\n",
      "GetManifestResourceStream Method     System.IO.Stream GetManifestResourceStream(type type, string name), System.IO.S...\n",
      "GetModule                 Method     System.Reflection.Module GetModule(string name), System.Reflection.Module _Asse...\n",
      "GetModules                Method     System.Reflection.Module[] GetModules(bool getResourceModules), System.Reflecti...\n",
      "GetName                   Method     System.Reflection.AssemblyName GetName(bool copiedName), System.Reflection.Asse...\n",
      "GetObjectData             Method     void GetObjectData(System.Runtime.Serialization.SerializationInfo info, System....\n",
      "GetReferencedAssemblies   Method     System.Reflection.AssemblyName[] GetReferencedAssemblies(), System.Reflection.A...\n",
      "GetSatelliteAssembly      Method     System.Reflection.Assembly GetSatelliteAssembly(cultureinfo culture), System.Re...\n",
      "GetType                   Method     type GetType(string name, bool throwOnError, bool ignoreCase), type GetType(str...\n",
      "GetTypes                  Method     type[] GetTypes(), type[] _Assembly.GetTypes()                                    \n",
      "IsDefined                 Method     bool IsDefined(type attributeType, bool inherit), bool _Assembly.IsDefined(type...\n",
      "LoadModule                Method     System.Reflection.Module LoadModule(string moduleName, byte[] rawModule, byte[]...\n",
      "ToString                  Method     string ToString(), string _Assembly.ToString()                                    \n",
      "CodeBase                  Property   string CodeBase {get;}                                                            \n",
      "CustomAttributes          Property   System.Collections.Generic.IEnumerable[System.Reflection.CustomAttributeData] C...\n",
      "DefinedTypes              Property   System.Collections.Generic.IEnumerable[System.Reflection.TypeInfo] DefinedTypes...\n",
      "EntryPoint                Property   System.Reflection.MethodInfo EntryPoint {get;}                                    \n",
      "EscapedCodeBase           Property   string EscapedCodeBase {get;}                                                     \n",
      "Evidence                  Property   System.Security.Policy.Evidence Evidence {get;}                                   \n",
      "ExportedTypes             Property   System.Collections.Generic.IEnumerable[type] ExportedTypes {get;}                 \n",
      "FullName                  Property   string FullName {get;}                                                            \n",
      "GlobalAssemblyCache       Property   bool GlobalAssemblyCache {get;}                                                   \n",
      "HostContext               Property   long HostContext {get;}                                                           \n",
      "ImageRuntimeVersion       Property   string ImageRuntimeVersion {get;}                                                 \n",
      "IsDynamic                 Property   bool IsDynamic {get;}                                                             \n",
      "IsFullyTrusted            Property   bool IsFullyTrusted {get;}                                                        \n",
      "Location                  Property   string Location {get;}                                                            \n",
      "ManifestModule            Property   System.Reflection.Module ManifestModule {get;}                                    \n",
      "Modules                   Property   System.Collections.Generic.IEnumerable[System.Reflection.Module] Modules {get;}   \n",
      "PermissionSet             Property   System.Security.PermissionSet PermissionSet {get;}                                \n",
      "ReflectionOnly            Property   bool ReflectionOnly {get;}                                                        \n",
      "SecurityRuleSet           Property   System.Security.SecurityRuleSet SecurityRuleSet {get;}                            \n",
      "\n",
      "\n"
     ]
    }
   ],
   "source": [
    "$Ary[0] | gm"
   ]
  },
  {
   "cell_type": "code",
   "execution_count": 4,
   "metadata": {
    "scrolled": true
   },
   "outputs": [
    {
     "name": "stdout",
     "output_type": "stream",
     "text": [
      "\n",
      "\n",
      "FullName : mscorlib, Version=4.0.0.0, Culture=neutral, PublicKeyToken=b77a5c561934e089\n",
      "Modules  : {mscorlib.dll}\n",
      "Location : C:\\Windows\\Microsoft.NET\\Framework64\\v4.0.30319\\mscorlib.dll\n",
      "\n",
      "FullName : Microsoft.PowerShell.ConsoleHost, Version=3.0.0.0, Culture=neutral, PublicKeyToken=31bf3856ad364e35\n",
      "Modules  : {Microsoft.PowerShell.ConsoleHost.dll}\n",
      "Location : C:\\WINDOWS\\Microsoft.Net\\assembly\\GAC_MSIL\\Microsoft.PowerShell.ConsoleHost\\v4.0_3.0.0.0__31bf3856ad364e35\\M\n",
      "           icrosoft.PowerShell.ConsoleHost.dll\n",
      "\n",
      "FullName : System, Version=4.0.0.0, Culture=neutral, PublicKeyToken=b77a5c561934e089\n",
      "Modules  : {System.dll}\n",
      "Location : C:\\WINDOWS\\Microsoft.Net\\assembly\\GAC_MSIL\\System\\v4.0_4.0.0.0__b77a5c561934e089\\System.dll\n",
      "\n",
      "FullName : System.Core, Version=4.0.0.0, Culture=neutral, PublicKeyToken=b77a5c561934e089\n",
      "Modules  : {System.Core.dll}\n",
      "Location : C:\\WINDOWS\\Microsoft.Net\\assembly\\GAC_MSIL\\System.Core\\v4.0_4.0.0.0__b77a5c561934e089\\System.Core.dll\n",
      "\n",
      "FullName : System.Management.Automation, Version=3.0.0.0, Culture=neutral, PublicKeyToken=31bf3856ad364e35\n",
      "Modules  : {System.Management.Automation.dll}\n",
      "Location : C:\\WINDOWS\\Microsoft.Net\\assembly\\GAC_MSIL\\System.Management.Automation\\v4.0_3.0.0.0__31bf3856ad364e35\\Syste\n",
      "           m.Management.Automation.dll\n",
      "\n",
      "\n",
      "\n"
     ]
    }
   ],
   "source": [
    "$Ary[0..4] | Select FullName,Modules, Location | fl *"
   ]
  },
  {
   "cell_type": "code",
   "execution_count": 8,
   "metadata": {},
   "outputs": [
    {
     "name": "stdout",
     "output_type": "stream",
     "text": []
    }
   ],
   "source": [
    "[System.AppDomain]::CurrentDomain.GetAssemblies() | foreach {$_.GetName().Name} | set -Name Ass_Names"
   ]
  },
  {
   "cell_type": "code",
   "execution_count": 21,
   "metadata": {},
   "outputs": [
    {
     "name": "stdout",
     "output_type": "stream",
     "text": []
    }
   ],
   "source": [
    "[array]::sort($Ass_Names)"
   ]
  },
  {
   "cell_type": "code",
   "execution_count": 22,
   "metadata": {},
   "outputs": [
    {
     "name": "stdout",
     "output_type": "stream",
     "text": [
      "Anonymously Hosted DynamicMethods Assembly\n",
      "Microsoft.CSharp\n",
      "Microsoft.Management.Infrastructure\n",
      "Microsoft.PowerShell.Commands.Utility\n",
      "Microsoft.PowerShell.ConsoleHost\n",
      "Microsoft.Powershell.PSReadline\n",
      "Microsoft.PowerShell.Security\n",
      "mscorlib\n",
      "System\n",
      "System.Configuration\n",
      "System.Configuration.Install\n",
      "System.Core\n",
      "System.Data\n",
      "System.DirectoryServices\n",
      "System.Management\n",
      "System.Management.Automation\n",
      "System.Numerics\n",
      "System.Transactions\n",
      "System.Xml\n"
     ]
    }
   ],
   "source": [
    "$Ass_Names"
   ]
  },
  {
   "cell_type": "code",
   "execution_count": 23,
   "metadata": {},
   "outputs": [
    {
     "name": "stdout",
     "output_type": "stream",
     "text": [
      "mscorlib\n",
      "Microsoft.PowerShell.ConsoleHost\n",
      "System\n",
      "System.Core\n",
      "System.Management.Automation\n",
      "Microsoft.Management.Infrastructure\n",
      "System.Management\n",
      "System.DirectoryServices\n",
      "System.Xml\n",
      "System.Numerics\n",
      "System.Data\n",
      "Anonymously Hosted DynamicMethods Assembly\n",
      "Microsoft.PowerShell.Security\n",
      "System.Transactions\n",
      "System.Configuration\n",
      "Microsoft.Powershell.PSReadline\n",
      "Microsoft.CSharp\n",
      "Microsoft.PowerShell.Commands.Utility\n",
      "System.Configuration.Install\n"
     ]
    }
   ],
   "source": [
    "[System.AppDomain]::CurrentDomain.GetAssemblies() | foreach {$_.GetName().Name}"
   ]
  },
  {
   "cell_type": "code",
   "execution_count": null,
   "metadata": {},
   "outputs": [],
   "source": []
  }
 ],
 "metadata": {
  "kernelspec": {
   "display_name": "PowerShell",
   "language": "powershell",
   "name": "powershell"
  },
  "language_info": {
   "codemirror_mode": "shell",
   "file_extension": ".ps1",
   "mimetype": "text/x-sh",
   "name": "powershell"
  }
 },
 "nbformat": 4,
 "nbformat_minor": 2
}
