{
 "cells": [
  {
   "cell_type": "code",
   "execution_count": 1,
   "metadata": {},
   "outputs": [
    {
     "name": "stdout",
     "output_type": "stream",
     "text": [
      "## shift keys dictionary for converting\n",
      "$C_shift_key_dic = @{}\n",
      "$C_shift_key_dic.Add('Shift + 1', '!')\n",
      "$C_shift_key_dic.Add('Shift + 2', '\"')\n",
      "$C_shift_key_dic.Add('Shift + 3', '#')\n",
      "$C_shift_key_dic.Add('Shift + 4', '$')\n"
     ]
    }
   ],
   "source": [
    "## shift keys dictionary for converting\n",
    "$C_shift_key_dic = @{}\n",
    "$C_shift_key_dic.Add('Shift + 1', '!') #01\n",
    "$C_shift_key_dic.Add('Shift + 2', '\"') #02\n",
    "$C_shift_key_dic.Add('Shift + 3', '#') #03\n",
    "$C_shift_key_dic.Add('Shift + 4', '$') #04\n",
    "$C_shift_key_dic.Add('Shift + 5', '%') #05\n",
    "$C_shift_key_dic.Add('Shift + 6', '&') #06\n",
    "$C_shift_key_dic.Add('Shift + 7', \"'\") #07\n",
    "$C_shift_key_dic.Add('Shift + 8', '(') #08\n",
    "$C_shift_key_dic.Add('Shift + 9', ')') #09\n",
    "$C_shift_key_dic.Add('Shift + -', '=') #10\n",
    "$C_shift_key_dic.Add('Shift + ^', '~') #11 FIXME\n",
    "$C_shift_key_dic.Add('Shift + @', '`') #12\n",
    "$C_shift_key_dic.Add('Shift + [', '{') #13\n",
    "$C_shift_key_dic.Add('Shift + ]', '}') #14\n",
    "$C_shift_key_dic.Add('Shift + ;', '+') #15\n",
    "$C_shift_key_dic.Add('Shift + :', '*') #16\n",
    "$C_shift_key_dic.Add('Shift + ,', '<') #17\n",
    "$C_shift_key_dic.Add('Shift + .', '>') #18\n",
    "$C_shift_key_dic.Add('Shift + /', '?') #19\n",
    "$C_shift_key_dic.Add('Shift + \\', '_') #20\n"
   ]
  },
  {
   "cell_type": "code",
   "execution_count": 3,
   "metadata": {},
   "outputs": [
    {
     "name": "stdout",
     "output_type": "stream",
     "text": [
      "\n",
      "$C_shift_key_dic\n",
      "\n",
      "Name                           Value                                                        \n",
      "----                           -----                                                        \n",
      "Shift + 5                      %                                                            \n",
      "Shift + 4                      $                                                            \n",
      "Shift + 1                      !                                                            \n",
      "Shift + ,                      <                                                            \n",
      "Shift + :                      *                                                            \n",
      "Shift + ]                      }                                                            \n",
      "Shift + 2                      \"                                                            \n",
      "Shift + 6                      &                                                            \n",
      "Shift + ;                      +                                                            \n",
      "Shift + @                      `                                                            \n",
      "Shift +                       ~                                                            \n",
      "Shift + -                      =                                                            \n",
      "Shift + 3                      #                                                            \n",
      "Shift + 7                      '                                                            \n",
      "Shift + 9                      )                                                            \n",
      "Shift + [                      {                                                            \n",
      "Shift + /                      ?                                                            \n",
      "Shift + \\                      _                                                            \n",
      "Shift + 8                      (                                                            \n",
      "Shift + .                      >                                                            \n",
      "\n",
      "\n",
      "\n",
      "\n"
     ]
    }
   ],
   "source": [
    "$C_shift_key_dic\n"
   ]
  },
  {
   "cell_type": "code",
   "execution_count": 9,
   "metadata": {},
   "outputs": [
    {
     "name": "stdout",
     "output_type": "stream",
     "text": [
      "$C_symbols = '!\"#$%&''()-=~@`[{;+:*]},<.>/?\\_'\n",
      "\n",
      "\n"
     ]
    }
   ],
   "source": [
    "$C_symbols = '!\"#$%&''()-=^~@`[{;+:*]},<.>/?\\_'\n"
   ]
  },
  {
   "cell_type": "code",
   "execution_count": 11,
   "metadata": {},
   "outputs": [
    {
     "name": "stdout",
     "output_type": "stream",
     "text": [
      "!\"#$%&'()-=~@`[{;+:*]},<.>/?\\_\n"
     ]
    }
   ],
   "source": [
    "$C_symbols"
   ]
  },
  {
   "cell_type": "code",
   "execution_count": 27,
   "metadata": {},
   "outputs": [
    {
     "name": "stdout",
     "output_type": "stream",
     "text": [
      "\n",
      "!\n",
      "\"\n",
      "#\n",
      "$\n",
      "%\n",
      "&\n",
      "'\n",
      "(\n",
      ")\n",
      "-\n",
      "=\n",
      "\n",
      "~\n",
      "@\n",
      "`\n",
      "[\n",
      "{\n",
      ";\n",
      "+\n",
      ":\n",
      "*\n",
      "]\n",
      "}\n",
      ",\n",
      "<\n",
      ".\n",
      ">\n",
      "/\n",
      "?\n",
      "\\\n",
      "_\n",
      "\n"
     ]
    }
   ],
   "source": [
    "$C_symbols -split \"\""
   ]
  },
  {
   "cell_type": "code",
   "execution_count": 13,
   "metadata": {},
   "outputs": [
    {
     "name": "stdout",
     "output_type": "stream",
     "text": [
      "!\n"
     ]
    }
   ],
   "source": [
    "$C_shift_key_dic['Shift + 1']"
   ]
  },
  {
   "cell_type": "code",
   "execution_count": 15,
   "metadata": {},
   "outputs": [
    {
     "name": "stdout",
     "output_type": "stream",
     "text": [
      "True\n"
     ]
    }
   ],
   "source": [
    "$C_shift_key_dic.Contains('Shift + 2')"
   ]
  },
  {
   "cell_type": "code",
   "execution_count": 44,
   "metadata": {},
   "outputs": [
    {
     "name": "stdout",
     "output_type": "stream",
     "text": [
      "$key = 'Shift + 9'\n",
      "if($C_shift_key_dic.Contains($key)){\n",
      ">>   write-host \"result=\" $C_shift_key_dic[$key]\n",
      ">> }\n",
      ">> \n",
      "result= )\n"
     ]
    }
   ],
   "source": [
    "$key = 'Shift + 9'\n",
    "if($C_shift_key_dic.Contains($key)){\n",
    "  write-host \"result=\" $C_shift_key_dic[$key]\n",
    "}"
   ]
  },
  {
   "cell_type": "code",
   "execution_count": 22,
   "metadata": {},
   "outputs": [
    {
     "name": "stdout",
     "output_type": "stream",
     "text": [
      "True\n"
     ]
    }
   ],
   "source": [
    "'Ziggy stardust' -match 'iggy'"
   ]
  },
  {
   "cell_type": "code",
   "execution_count": 46,
   "metadata": {},
   "outputs": [
    {
     "name": "stdout",
     "output_type": "stream",
     "text": [
      "$key = 'Shift + 5'\n",
      "if($C_shift_key_dic.Contains($key)){\n",
      ">>   if(($C_symbols -split \"\").Contains($C_shift_key_dic[$key])){\n",
      ">>     write-host \"result=\" $C_shift_key_dic[$key]\n",
      ">>   }\n",
      ">> }\n",
      ">> \n",
      "result= %\n"
     ]
    }
   ],
   "source": [
    "$key = 'Shift + 5'\n",
    "if($C_shift_key_dic.Contains($key)){\n",
    "  if(($C_symbols -split \"\").Contains($C_shift_key_dic[$key])){\n",
    "    write-host \"result=\" $C_shift_key_dic[$key]\n",
    "  }\n",
    "}"
   ]
  },
  {
   "cell_type": "code",
   "execution_count": null,
   "metadata": {},
   "outputs": [],
   "source": []
  }
 ],
 "metadata": {
  "kernelspec": {
   "display_name": "PowerShell",
   "language": "powershell",
   "name": "powershell"
  },
  "language_info": {
   "codemirror_mode": "shell",
   "file_extension": ".ps1",
   "mimetype": "text/x-sh",
   "name": "powershell"
  }
 },
 "nbformat": 4,
 "nbformat_minor": 2
}
