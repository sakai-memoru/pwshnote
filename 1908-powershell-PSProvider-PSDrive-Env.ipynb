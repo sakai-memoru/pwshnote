{
 "cells": [
  {
   "cell_type": "markdown",
   "metadata": {},
   "source": [
    "# 1908-powershell-PSProvider-PSDrive-Env"
   ]
  },
  {
   "cell_type": "markdown",
   "metadata": {},
   "source": [
    "## notebook "
   ]
  },
  {
   "cell_type": "markdown",
   "metadata": {},
   "source": [
    "- https://nbviewer.jupyter.org/github/sakai-memoru/pwshnote/blob/master/1908-powershell-PSProvider-PSDrive-Env.ipynb"
   ]
  },
  {
   "cell_type": "markdown",
   "metadata": {},
   "source": [
    "## log"
   ]
  },
  {
   "cell_type": "code",
   "execution_count": 1,
   "metadata": {},
   "outputs": [
    {
     "name": "stdout",
     "output_type": "stream",
     "text": [
      "\n",
      "Name                 Capabilities                                      Drives                                          \n",
      "----                 ------------                                      ------                                          \n",
      "Registry             ShouldProcess, Transactions                       {HKLM, HKCU}                                    \n",
      "Alias                ShouldProcess                                     {Alias}                                         \n",
      "Environment          ShouldProcess                                     {Env}                                           \n",
      "FileSystem           Filter, ShouldProcess, Credentials                {C, D, F, G...}                                 \n",
      "Function             ShouldProcess                                     {Function}                                      \n",
      "Variable             ShouldProcess                                     {Variable}                                      \n",
      "\n",
      "\n"
     ]
    }
   ],
   "source": [
    "get-psprovider"
   ]
  },
  {
   "cell_type": "code",
   "execution_count": 2,
   "metadata": {},
   "outputs": [
    {
     "name": "stdout",
     "output_type": "stream",
     "text": [
      "\n",
      "Name           Used (GB)     Free (GB) Provider      Root                                               CurrentLocation\n",
      "----           ---------     --------- --------      ----                                               ---------------\n",
      "Alias                                  Alias                                                                           \n",
      "C                 108.15        114.87 FileSystem    C:\\                                                               \n",
      "Cert                                   Certificate   \\                                                                 \n",
      "D                   0.36          0.12 FileSystem    D:\\                                                               \n",
      "E                                      FileSystem    E:\\                                                               \n",
      "Env                                    Environment                                                                     \n",
      "F                  26.35         32.43 FileSystem    F:\\                                                               \n",
      "Function                               Function                                                                        \n",
      "G                  91.98         31.32 FileSystem    G:\\                                             workspace\\pwshnote\n",
      "H                                      FileSystem    H:\\                                                               \n",
      "HKCU                                   Registry      HKEY_CURRENT_USER                                                 \n",
      "HKLM                                   Registry      HKEY_LOCAL_MACHINE                                                \n",
      "Variable                               Variable                                                                        \n",
      "WSMan                                  WSMan                                                                           \n",
      "\n",
      "\n"
     ]
    }
   ],
   "source": [
    "get-psdrive"
   ]
  },
  {
   "cell_type": "code",
   "execution_count": 3,
   "metadata": {},
   "outputs": [
    {
     "name": "stdout",
     "output_type": "stream",
     "text": [
      "\n",
      "Name                           Value                                                                                   \n",
      "----                           -----                                                                                   \n",
      "_CONDA_EXE                     C:/ProgramData/Anaconda3\\Scripts\\conda.exe                                              \n",
      "_CONDA_ROOT                    C:/ProgramData/Anaconda3                                                                \n",
      "ALLUSERSPROFILE                C:\\ProgramData                                                                          \n",
      "ANT_HOME                       G:\\apache-ant-1.9.14                                                                    \n",
      "APPDATA                        G:\\Users\\sakai\\AppData\\Roaming                                                          \n",
      "ASL.LOG                        Destination=file                                                                        \n",
      "CASSANDRA_HOME                 G:\\apache-cassandra-3.11.4                                                              \n",
      "COMMONPROGRAMFILES             C:\\Program Files\\Common Files                                                           \n",
      "COMMONPROGRAMFILES(X86)        C:\\Program Files (x86)\\Common Files                                                     \n",
      "COMMONPROGRAMW6432             C:\\Program Files\\Common Files                                                           \n",
      "COMPUTERNAME                   EX                                                                                      \n",
      "COMSPEC                        C:\\WINDOWS\\system32\\cmd.exe                                                             \n",
      "CONDA_DEFAULT_ENV              base                                                                                    \n",
      "CONDA_EXE                      C:\\ProgramData\\Anaconda3\\Scripts\\conda.exe                                              \n",
      "CONDA_PREFIX                   C:\\ProgramData\\Anaconda3                                                                \n",
      "CONDA_PROMPT_MODIFIER          (base)                                                                                  \n",
      "CONDA_PYTHON_EXE               C:\\ProgramData\\Anaconda3\\python.exe                                                     \n",
      "CONDA_SHLVL                    1                                                                                       \n",
      "DATA_DIR                       G:\\apps_data\\transformation                                                             \n",
      "DRIVERDATA                     C:\\Windows\\System32\\Drivers\\DriverData                                                  \n",
      "ENV_HOME                       G:\\Users\\sakai\\AppData\\Local\\conda\\conda\\envs                                           \n",
      "ERLANG_HOME                    C:\\Program Files\\erl10.0.1                                                              \n",
      "ES_HOME                        G:\\elasticsearch\\6.3.2\\                                                                 \n",
      "ES_PATH_CONF                   C:\\ProgramData\\Elastic\\Elasticsearch\\config                                             \n",
      "HOMEDRIVE                      G:                                                                                      \n",
      "HOMEPATH                       \\Users\\sakai                                                                            \n",
      "IDLE_FILE                      G:\\Users\\sakai\\AppData\\Local\\Programs\\Python\\Python36-32\\Lib\\idlelib\\idle.pyw           \n",
      "IPY_INTERRUPT_EVENT            3544                                                                                    \n",
      "JPY_INTERRUPT_EVENT            3544                                                                                    \n",
      "JPY_PARENT_PID                 3552                                                                                    \n",
      "KERNEL_LAUNCH_TIMEOUT          40                                                                                      \n",
      "LOCALAPPDATA                   G:\\Users\\sakai\\AppData\\Local                                                            \n",
      "LOGONSERVER                    \\\\EX                                                                                    \n",
      "MOSQUITTO_DIR                  C:\\Program Files (x86)\\mosquitto                                                        \n",
      "NGINX_HOME                     G:\\nginx-1.15.0                                                                         \n",
      "NUMBER_OF_PROCESSORS           4                                                                                       \n",
      "ONEDRIVE                       G:\\Users\\sakai\\OneDrive                                                                 \n",
      "ONEDRIVECONSUMER               G:\\Users\\sakai\\OneDrive                                                                 \n",
      "OS                             Windows_NT                                                                              \n",
      "PATH                           C:\\ProgramData\\Anaconda3;C:\\ProgramData\\Anaconda3\\Library\\mingw-w64\\bin;C:\\ProgramDat...\n",
      "PATHEXT                        .COM;.EXE;.BAT;.CMD;.VBS;.VBE;.JS;.JSE;.WSF;.WSH;.MSC;.RB;.RBW;.CPL                     \n",
      "powershell_command             powershell                                                                              \n",
      "PROCESSOR_ARCHITECTURE         AMD64                                                                                   \n",
      "PROCESSOR_IDENTIFIER           Intel64 Family 6 Model 60 Stepping 3, GenuineIntel                                      \n",
      "PROCESSOR_LEVEL                6                                                                                       \n",
      "PROCESSOR_REVISION             3c03                                                                                    \n",
      "PROGRAMDATA                    C:\\ProgramData                                                                          \n",
      "PROGRAMFILES                   C:\\Program Files                                                                        \n",
      "PROGRAMFILES(X86)              C:\\Program Files (x86)                                                                  \n",
      "PROGRAMW6432                   C:\\Program Files                                                                        \n",
      "PROJECT_HOME                   G:\\workspace\\py                                                                         \n",
      "PROMPT                         $P$G                                                                                    \n",
      "PSEXECUTIONPOLICYPREFERENCE    Bypass                                                                                  \n",
      "PSMODULEPATH                   G:\\Users\\sakai\\OneDrive\\Documents\\WindowsPowerShell\\Modules;C:\\Program Files\\WindowsP...\n",
      "PUBLIC                         C:\\Users\\Public                                                                         \n",
      "PYCHARM                        C:\\Program Files\\JetBrains\\PyCharm 2018.3.1\\bin;                                        \n",
      "PYCHARM COMMUNITY EDITION      C:\\Program Files\\JetBrains\\PyCharm Community Edition 2018.3.1\\bin;                      \n",
      "RUBYOPT                        -Eutf-8                                                                                 \n",
      "SESSIONNAME                    Console                                                                                 \n",
      "SYSTEMDRIVE                    C:                                                                                      \n",
      "SYSTEMROOT                     C:\\WINDOWS                                                                              \n",
      "TEMP                           G:\\Users\\sakai\\AppData\\Local\\Temp                                                       \n",
      "TMP                            G:\\Users\\sakai\\AppData\\Local\\Temp                                                       \n",
      "USERDOMAIN                     EX                                                                                      \n",
      "USERDOMAIN_ROAMINGPROFILE      EX                                                                                      \n",
      "USERNAME                       sakai                                                                                   \n",
      "USERPROFILE                    G:\\Users\\sakai                                                                          \n",
      "VBOX_MSI_INSTALL_PATH          C:\\Program Files\\Oracle\\VirtualBox\\                                                     \n",
      "VS140COMNTOOLS                 C:\\Program Files (x86)\\Microsoft Visual Studio 14.0\\Common7\\Tools\\                      \n",
      "VSSDK140INSTALL                C:\\Program Files (x86)\\Microsoft Visual Studio 14.0\\VSSDK\\                              \n",
      "WINDIR                         C:\\WINDOWS                                                                              \n",
      "WORKON_HOME                    G:\\env\\py                                                                               \n",
      "\n",
      "\n"
     ]
    }
   ],
   "source": [
    "dir Env:"
   ]
  },
  {
   "cell_type": "code",
   "execution_count": 4,
   "metadata": {},
   "outputs": [
    {
     "name": "stdout",
     "output_type": "stream",
     "text": [
      "\n",
      "Name                           Value                                                                                   \n",
      "----                           -----                                                                                   \n",
      "$                              Env:                                                                                    \n",
      "?                              True                                                                                    \n",
      "                              dir                                                                                     \n",
      "args                           {}                                                                                      \n",
      "ConfirmPreference              High                                                                                    \n",
      "ConsoleFileName                                                                                                        \n",
      "DebugPreference                SilentlyContinue                                                                        \n",
      "Error                          {Exception calling \"ReadLine\" with \"2\" argument(s): \"Specified method is not supporte...\n",
      "ErrorActionPreference          Continue                                                                                \n",
      "ErrorView                      NormalView                                                                              \n",
      "ExecutionContext               System.Management.Automation.EngineIntrinsics                                           \n",
      "false                          False                                                                                   \n",
      "FormatEnumerationLimit         4                                                                                       \n",
      "HOME                           G:\\Users\\sakai                                                                          \n",
      "Host                           System.Management.Automation.Internal.Host.InternalHost                                 \n",
      "InformationPreference          SilentlyContinue                                                                        \n",
      "input                          System.Management.Automation.Runspaces.PipelineReader`1+<GetReadEnumerator>d__20[Syst...\n",
      "MaximumAliasCount              4096                                                                                    \n",
      "MaximumDriveCount              4096                                                                                    \n",
      "MaximumErrorCount              256                                                                                     \n",
      "MaximumFunctionCount           4096                                                                                    \n",
      "MaximumHistoryCount            4096                                                                                    \n",
      "MaximumVariableCount           4096                                                                                    \n",
      "MyInvocation                   System.Management.Automation.InvocationInfo                                             \n",
      "NestedPromptLevel              0                                                                                       \n",
      "null                                                                                                                   \n",
      "OutputEncoding                 System.Text.ASCIIEncoding                                                               \n",
      "PID                            16164                                                                                   \n",
      "PROFILE                        G:\\Users\\sakai\\OneDrive\\Documents\\WindowsPowerShell\\Microsoft.PowerShell_profile.ps1    \n",
      "ProgressPreference             Continue                                                                                \n",
      "PSBoundParameters              {}                                                                                      \n",
      "PSCommandPath                                                                                                          \n",
      "PSCulture                      en-GB                                                                                   \n",
      "PSDefaultParameterValues       {}                                                                                      \n",
      "PSEdition                      Desktop                                                                                 \n",
      "PSEmailServer                                                                                                          \n",
      "PSHOME                         C:\\Windows\\System32\\WindowsPowerShell\\v1.0                                              \n",
      "PSScriptRoot                                                                                                           \n",
      "PSSessionApplicationName       wsman                                                                                   \n",
      "PSSessionConfigurationName     http://schemas.microsoft.com/powershell/Microsoft.PowerShell                            \n",
      "PSSessionOption                System.Management.Automation.Remoting.PSSessionOption                                   \n",
      "PSUICulture                    en-US                                                                                   \n",
      "PSVersionTable                 {PSVersion, PSEdition, PSCompatibleVersions, BuildVersion...}                           \n",
      "PWD                            G:\\workspace\\pwshnote                                                                   \n",
      "ShellId                        Microsoft.PowerShell                                                                    \n",
      "StackTrace                        at Microsoft.PowerShell.PSConsoleReadLine.ReadLine(Runspace runspace, EngineIntrin...\n",
      "true                           True                                                                                    \n",
      "VerbosePreference              SilentlyContinue                                                                        \n",
      "WarningPreference              Continue                                                                                \n",
      "WhatIfPreference               False                                                                                   \n",
      "\n",
      "\n"
     ]
    }
   ],
   "source": [
    "dir Variable:"
   ]
  },
  {
   "cell_type": "code",
   "execution_count": 5,
   "metadata": {},
   "outputs": [
    {
     "name": "stdout",
     "output_type": "stream",
     "text": [
      "\n",
      "CommandType     Name                                               Version    Source                                   \n",
      "-----------     ----                                               -------    ------                                   \n",
      "Function        A:                                                                                                     \n",
      "Function        B:                                                                                                     \n",
      "Function        C:                                                                                                     \n",
      "Function        cd..                                                                                                   \n",
      "Function        cd\\                                                                                                    \n",
      "Function        Clear-Host                                                                                             \n",
      "Function        ConvertFrom-SddlString                             3.1.0.0    Microsoft.PowerShell.Utility             \n",
      "Function        D:                                                                                                     \n",
      "Function        E:                                                                                                     \n",
      "Function        F:                                                                                                     \n",
      "Function        Format-Hex                                         3.1.0.0    Microsoft.PowerShell.Utility             \n",
      "Function        G:                                                                                                     \n",
      "Function        Get-FileHash                                       3.1.0.0    Microsoft.PowerShell.Utility             \n",
      "Function        Get-Verb                                                                                               \n",
      "Function        H:                                                                                                     \n",
      "Function        help                                                                                                   \n",
      "Function        I:                                                                                                     \n",
      "Function        Import-PowerShellDataFile                          3.1.0.0    Microsoft.PowerShell.Utility             \n",
      "Function        ImportSystemModules                                                                                    \n",
      "Function        J:                                                                                                     \n",
      "Function        K:                                                                                                     \n",
      "Function        L:                                                                                                     \n",
      "Function        M:                                                                                                     \n",
      "Function        mkdir                                                                                                  \n",
      "Function        more                                                                                                   \n",
      "Function        N:                                                                                                     \n",
      "Function        New-Guid                                           3.1.0.0    Microsoft.PowerShell.Utility             \n",
      "Function        New-TemporaryFile                                  3.1.0.0    Microsoft.PowerShell.Utility             \n",
      "Function        O:                                                                                                     \n",
      "Function        oss                                                                                                    \n",
      "Function        P:                                                                                                     \n",
      "Function        Pause                                                                                                  \n",
      "Function        prompt                                                                                                 \n",
      "Function        PSConsoleHostReadline                              1.2        PSReadline                               \n",
      "Function        Q:                                                                                                     \n",
      "Function        R:                                                                                                     \n",
      "Function        S:                                                                                                     \n",
      "Function        T:                                                                                                     \n",
      "Function        TabExpansion2                                                                                          \n",
      "Function        U:                                                                                                     \n",
      "Function        V:                                                                                                     \n",
      "Function        W:                                                                                                     \n",
      "Function        X:                                                                                                     \n",
      "Function        Y:                                                                                                     \n",
      "Function        Z:                                                                                                     \n",
      "\n",
      "\n"
     ]
    }
   ],
   "source": [
    "dir function:"
   ]
  },
  {
   "cell_type": "code",
   "execution_count": 6,
   "metadata": {},
   "outputs": [
    {
     "name": "stdout",
     "output_type": "stream",
     "text": [
      "G:\\Users\\sakai\\OneDrive\\Documents\\WindowsPowerShell\\Microsoft.PowerShell_profile.ps1\n"
     ]
    }
   ],
   "source": [
    "$PROFILE"
   ]
  },
  {
   "cell_type": "code",
   "execution_count": 7,
   "metadata": {},
   "outputs": [
    {
     "name": "stdout",
     "output_type": "stream",
     "text": [
      "\n",
      "Path                 \n",
      "----                 \n",
      "G:\\workspace\\pwshnote\n",
      "\n",
      "\n"
     ]
    }
   ],
   "source": [
    "$PWD"
   ]
  },
  {
   "cell_type": "code",
   "execution_count": 8,
   "metadata": {},
   "outputs": [
    {
     "name": "stdout",
     "output_type": "stream",
     "text": [
      "True\n"
     ]
    }
   ],
   "source": [
    "$true"
   ]
  },
  {
   "cell_type": "code",
   "execution_count": 9,
   "metadata": {},
   "outputs": [
    {
     "name": "stdout",
     "output_type": "stream",
     "text": [
      "False\n"
     ]
    }
   ],
   "source": [
    "$false"
   ]
  },
  {
   "cell_type": "code",
   "execution_count": 10,
   "metadata": {},
   "outputs": [
    {
     "name": "stdout",
     "output_type": "stream",
     "text": [
      "\n",
      "\n",
      "MyCommand             : $MyInvocation\n",
      "BoundParameters       : {}\n",
      "UnboundArguments      : {}\n",
      "ScriptLineNumber      : 0\n",
      "OffsetInLine          : 0\n",
      "HistoryId             : 11\n",
      "ScriptName            : \n",
      "Line                  : \n",
      "PositionMessage       : \n",
      "PSScriptRoot          : \n",
      "PSCommandPath         : \n",
      "InvocationName        : \n",
      "PipelineLength        : 2\n",
      "PipelinePosition      : 1\n",
      "ExpectingInput        : True\n",
      "CommandOrigin         : Runspace\n",
      "DisplayScriptPosition : \n",
      "\n",
      "\n",
      "\n"
     ]
    }
   ],
   "source": [
    "$MyInvocation"
   ]
  },
  {
   "cell_type": "code",
   "execution_count": 11,
   "metadata": {},
   "outputs": [
    {
     "name": "stdout",
     "output_type": "stream",
     "text": [
      "SilentlyContinue\n"
     ]
    }
   ],
   "source": [
    "$DebugPreference"
   ]
  },
  {
   "cell_type": "code",
   "execution_count": 12,
   "metadata": {},
   "outputs": [
    {
     "name": "stdout",
     "output_type": "stream",
     "text": [
      "SilentlyContinue\n"
     ]
    }
   ],
   "source": [
    "$VerbosePreference"
   ]
  },
  {
   "cell_type": "code",
   "execution_count": 13,
   "metadata": {},
   "outputs": [
    {
     "name": "stdout",
     "output_type": "stream",
     "text": [
      "Continue\n"
     ]
    }
   ],
   "source": [
    "$WarningPreference"
   ]
  },
  {
   "cell_type": "code",
   "execution_count": 14,
   "metadata": {},
   "outputs": [
    {
     "name": "stdout",
     "output_type": "stream",
     "text": [
      "Continue\n"
     ]
    }
   ],
   "source": [
    "$ErrorActionPreference"
   ]
  },
  {
   "cell_type": "code",
   "execution_count": 15,
   "metadata": {},
   "outputs": [
    {
     "name": "stdout",
     "output_type": "stream",
     "text": [
      "$ErrorActionPreference\n"
     ]
    }
   ],
   "source": [
    "$$"
   ]
  },
  {
   "cell_type": "code",
   "execution_count": 16,
   "metadata": {},
   "outputs": [
    {
     "name": "stdout",
     "output_type": "stream",
     "text": [
      "\n",
      "CommandType     Name                                               Version    Source                                   \n",
      "-----------     ----                                               -------    ------                                   \n",
      "Alias           % -> ForEach-Object                                                                                    \n",
      "Alias           ? -> Where-Object                                                                                      \n",
      "Alias           ac -> Add-Content                                                                                      \n",
      "Alias           asnp -> Add-PSSnapin                                                                                   \n",
      "Alias           cat -> Get-Content                                                                                     \n",
      "Alias           cd -> Set-Location                                                                                     \n",
      "Alias           CFS -> ConvertFrom-String                          3.1.0.0    Microsoft.PowerShell.Utility             \n",
      "Alias           chdir -> Set-Location                                                                                  \n",
      "Alias           clc -> Clear-Content                                                                                   \n",
      "Alias           clear -> Clear-Host                                                                                    \n",
      "Alias           clhy -> Clear-History                                                                                  \n",
      "Alias           cli -> Clear-Item                                                                                      \n",
      "Alias           clp -> Clear-ItemProperty                                                                              \n",
      "Alias           cls -> Clear-Host                                                                                      \n",
      "Alias           clv -> Clear-Variable                                                                                  \n",
      "Alias           cnsn -> Connect-PSSession                                                                              \n",
      "Alias           compare -> Compare-Object                                                                              \n",
      "Alias           copy -> Copy-Item                                                                                      \n",
      "Alias           cp -> Copy-Item                                                                                        \n",
      "Alias           cpi -> Copy-Item                                                                                       \n",
      "Alias           cpp -> Copy-ItemProperty                                                                               \n",
      "Alias           curl -> Invoke-WebRequest                                                                              \n",
      "Alias           cvpa -> Convert-Path                                                                                   \n",
      "Alias           dbp -> Disable-PSBreakpoint                                                                            \n",
      "Alias           del -> Remove-Item                                                                                     \n",
      "Alias           diff -> Compare-Object                                                                                 \n",
      "Alias           dir -> Get-ChildItem                                                                                   \n",
      "Alias           dnsn -> Disconnect-PSSession                                                                           \n",
      "Alias           ebp -> Enable-PSBreakpoint                                                                             \n",
      "Alias           echo -> Write-Output                                                                                   \n",
      "Alias           epal -> Export-Alias                                                                                   \n",
      "Alias           epcsv -> Export-Csv                                                                                    \n",
      "Alias           epsn -> Export-PSSession                                                                               \n",
      "Alias           erase -> Remove-Item                                                                                   \n",
      "Alias           etsn -> Enter-PSSession                                                                                \n",
      "Alias           exsn -> Exit-PSSession                                                                                 \n",
      "Alias           fc -> Format-Custom                                                                                    \n",
      "Alias           fhx -> Format-Hex                                  3.1.0.0    Microsoft.PowerShell.Utility             \n",
      "Alias           fl -> Format-List                                                                                      \n",
      "Alias           foreach -> ForEach-Object                                                                              \n",
      "Alias           ft -> Format-Table                                                                                     \n",
      "Alias           fw -> Format-Wide                                                                                      \n",
      "Alias           gal -> Get-Alias                                                                                       \n",
      "Alias           gbp -> Get-PSBreakpoint                                                                                \n",
      "Alias           gc -> Get-Content                                                                                      \n",
      "Alias           gcb -> Get-Clipboard                               3.1.0.0    Microsoft.PowerShell.Management          \n",
      "Alias           gci -> Get-ChildItem                                                                                   \n",
      "Alias           gcm -> Get-Command                                                                                     \n",
      "Alias           gcs -> Get-PSCallStack                                                                                 \n",
      "Alias           gdr -> Get-PSDrive                                                                                     \n",
      "Alias           ghy -> Get-History                                                                                     \n",
      "Alias           gi -> Get-Item                                                                                         \n",
      "Alias           gin -> Get-ComputerInfo                            3.1.0.0    Microsoft.PowerShell.Management          \n",
      "Alias           gjb -> Get-Job                                                                                         \n",
      "Alias           gl -> Get-Location                                                                                     \n",
      "Alias           gm -> Get-Member                                                                                       \n",
      "Alias           gmo -> Get-Module                                                                                      \n",
      "Alias           gp -> Get-ItemProperty                                                                                 \n",
      "Alias           gps -> Get-Process                                                                                     \n",
      "Alias           gpv -> Get-ItemPropertyValue                                                                           \n",
      "Alias           group -> Group-Object                                                                                  \n",
      "Alias           gsn -> Get-PSSession                                                                                   \n",
      "Alias           gsnp -> Get-PSSnapin                                                                                   \n",
      "Alias           gsv -> Get-Service                                                                                     \n",
      "Alias           gtz -> Get-TimeZone                                3.1.0.0    Microsoft.PowerShell.Management          \n",
      "Alias           gu -> Get-Unique                                                                                       \n",
      "Alias           gv -> Get-Variable                                                                                     \n",
      "Alias           gwmi -> Get-WmiObject                                                                                  \n",
      "Alias           h -> Get-History                                                                                       \n",
      "Alias           history -> Get-History                                                                                 \n",
      "Alias           icm -> Invoke-Command                                                                                  \n",
      "Alias           iex -> Invoke-Expression                                                                               \n",
      "Alias           ihy -> Invoke-History                                                                                  \n",
      "Alias           ii -> Invoke-Item                                                                                      \n",
      "Alias           ipal -> Import-Alias                                                                                   \n",
      "Alias           ipcsv -> Import-Csv                                                                                    \n",
      "Alias           ipmo -> Import-Module                                                                                  \n",
      "Alias           ipsn -> Import-PSSession                                                                               \n",
      "Alias           irm -> Invoke-RestMethod                                                                               \n",
      "Alias           ise -> powershell_ise.exe                                                                              \n",
      "Alias           iwmi -> Invoke-WmiMethod                                                                               \n",
      "Alias           iwr -> Invoke-WebRequest                                                                               \n",
      "Alias           kill -> Stop-Process                                                                                   \n",
      "Alias           lp -> Out-Printer                                                                                      \n",
      "Alias           ls -> Get-ChildItem                                                                                    \n",
      "Alias           man -> help                                                                                            \n",
      "Alias           md -> mkdir                                                                                            \n",
      "Alias           measure -> Measure-Object                                                                              \n",
      "Alias           mi -> Move-Item                                                                                        \n",
      "Alias           mount -> New-PSDrive                                                                                   \n",
      "Alias           move -> Move-Item                                                                                      \n",
      "Alias           mp -> Move-ItemProperty                                                                                \n",
      "Alias           mv -> Move-Item                                                                                        \n",
      "Alias           nal -> New-Alias                                                                                       \n",
      "Alias           ndr -> New-PSDrive                                                                                     \n",
      "Alias           ni -> New-Item                                                                                         \n",
      "Alias           nmo -> New-Module                                                                                      \n",
      "Alias           npssc -> New-PSSessionConfigurationFile                                                                \n",
      "Alias           nsn -> New-PSSession                                                                                   \n",
      "Alias           nv -> New-Variable                                                                                     \n",
      "Alias           ogv -> Out-GridView                                                                                    \n",
      "Alias           oh -> Out-Host                                                                                         \n",
      "Alias           popd -> Pop-Location                                                                                   \n",
      "Alias           ps -> Get-Process                                                                                      \n",
      "Alias           pushd -> Push-Location                                                                                 \n",
      "Alias           pwd -> Get-Location                                                                                    \n",
      "Alias           r -> Invoke-History                                                                                    \n",
      "Alias           rbp -> Remove-PSBreakpoint                                                                             \n",
      "Alias           rcjb -> Receive-Job                                                                                    \n",
      "Alias           rcsn -> Receive-PSSession                                                                              \n",
      "Alias           rd -> Remove-Item                                                                                      \n",
      "Alias           rdr -> Remove-PSDrive                                                                                  \n",
      "Alias           ren -> Rename-Item                                                                                     \n",
      "Alias           ri -> Remove-Item                                                                                      \n",
      "Alias           rjb -> Remove-Job                                                                                      \n",
      "Alias           rm -> Remove-Item                                                                                      \n",
      "Alias           rmdir -> Remove-Item                                                                                   \n",
      "Alias           rmo -> Remove-Module                                                                                   \n",
      "Alias           rni -> Rename-Item                                                                                     \n",
      "Alias           rnp -> Rename-ItemProperty                                                                             \n",
      "Alias           rp -> Remove-ItemProperty                                                                              \n",
      "Alias           rsn -> Remove-PSSession                                                                                \n",
      "Alias           rsnp -> Remove-PSSnapin                                                                                \n",
      "Alias           rujb -> Resume-Job                                                                                     \n",
      "Alias           rv -> Remove-Variable                                                                                  \n",
      "Alias           rvpa -> Resolve-Path                                                                                   \n",
      "Alias           rwmi -> Remove-WmiObject                                                                               \n",
      "Alias           sajb -> Start-Job                                                                                      \n",
      "Alias           sal -> Set-Alias                                                                                       \n",
      "Alias           saps -> Start-Process                                                                                  \n",
      "Alias           sasv -> Start-Service                                                                                  \n",
      "Alias           sbp -> Set-PSBreakpoint                                                                                \n",
      "Alias           sc -> Set-Content                                                                                      \n",
      "Alias           scb -> Set-Clipboard                               3.1.0.0    Microsoft.PowerShell.Management          \n",
      "Alias           select -> Select-Object                                                                                \n",
      "Alias           set -> Set-Variable                                                                                    \n",
      "Alias           shcm -> Show-Command                                                                                   \n",
      "Alias           si -> Set-Item                                                                                         \n",
      "Alias           sl -> Set-Location                                                                                     \n",
      "Alias           sleep -> Start-Sleep                                                                                   \n",
      "Alias           sls -> Select-String                                                                                   \n",
      "Alias           sort -> Sort-Object                                                                                    \n",
      "Alias           sp -> Set-ItemProperty                                                                                 \n",
      "Alias           spjb -> Stop-Job                                                                                       \n",
      "Alias           spps -> Stop-Process                                                                                   \n",
      "Alias           spsv -> Stop-Service                                                                                   \n",
      "Alias           start -> Start-Process                                                                                 \n",
      "Alias           stz -> Set-TimeZone                                3.1.0.0    Microsoft.PowerShell.Management          \n",
      "Alias           sujb -> Suspend-Job                                                                                    \n",
      "Alias           sv -> Set-Variable                                                                                     \n",
      "Alias           swmi -> Set-WmiInstance                                                                                \n",
      "Alias           tee -> Tee-Object                                                                                      \n",
      "Alias           trcm -> Trace-Command                                                                                  \n",
      "Alias           type -> Get-Content                                                                                    \n",
      "Alias           wget -> Invoke-WebRequest                                                                              \n",
      "Alias           where -> Where-Object                                                                                  \n",
      "Alias           wjb -> Wait-Job                                                                                        \n",
      "Alias           write -> Write-Output                                                                                  \n",
      "\n",
      "\n"
     ]
    }
   ],
   "source": [
    "dir alias:"
   ]
  },
  {
   "cell_type": "code",
   "execution_count": null,
   "metadata": {},
   "outputs": [],
   "source": [
    "get-alias | where-object {$_.Name} | foreach-object {$_ -split '->'}"
   ]
  }
 ],
 "metadata": {
  "kernelspec": {
   "display_name": "PowerShell",
   "language": "powershell",
   "name": "powershell"
  },
  "language_info": {
   "codemirror_mode": "shell",
   "file_extension": ".ps1",
   "mimetype": "text/x-sh",
   "name": "powershell"
  }
 },
 "nbformat": 4,
 "nbformat_minor": 2
}
