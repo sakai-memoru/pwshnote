{
 "cells": [
  {
   "cell_type": "markdown",
   "metadata": {},
   "source": [
    "# 1909-powershell-about_Functions"
   ]
  },
  {
   "cell_type": "markdown",
   "metadata": {},
   "source": [
    "## overview"
   ]
  },
  {
   "cell_type": "markdown",
   "metadata": {},
   "source": [
    "- about_Functions_Advanced"
   ]
  },
  {
   "cell_type": "markdown",
   "metadata": {},
   "source": [
    "![Image from Gyazo](https://i.gyazo.com/9c23d8a166aeaa46a042f3b1f33dcf33.png)"
   ]
  },
  {
   "cell_type": "markdown",
   "metadata": {},
   "source": [
    "## jupyter notebook"
   ]
  },
  {
   "cell_type": "markdown",
   "metadata": {},
   "source": [
    "- https://nbviewer.jupyter.org/github/sakai-memoru/pwshnote/blob/master/1909-powershell-about_Functions_Advanced.ipynb"
   ]
  },
  {
   "cell_type": "markdown",
   "metadata": {},
   "source": [
    "## Usage"
   ]
  },
  {
   "cell_type": "markdown",
   "metadata": {},
   "source": [
    "### Get-Help"
   ]
  },
  {
   "cell_type": "code",
   "execution_count": 1,
   "metadata": {},
   "outputs": [
    {
     "name": "stdout",
     "output_type": "stream",
     "text": [
      "\n",
      "\n",
      "Name     : about_Functions_Advanced\n",
      "Synopsis : Introduces advanced functions that act similar to cmdlets.\n",
      "\n",
      "\n",
      "\n"
     ]
    }
   ],
   "source": [
    "Get-Help -Category helpfile about_Functions_Advanced | select Name, Synopsis | format-list *"
   ]
  },
  {
   "cell_type": "markdown",
   "metadata": {},
   "source": [
    "### about_Script_Blocks"
   ]
  },
  {
   "cell_type": "code",
   "execution_count": 2,
   "metadata": {},
   "outputs": [
    {
     "name": "stdout",
     "output_type": "stream",
     "text": []
    }
   ],
   "source": [
    "Get-Help about_Functions_Advanced | \n",
    "  set -Name store"
   ]
  },
  {
   "cell_type": "code",
   "execution_count": 3,
   "metadata": {},
   "outputs": [
    {
     "name": "stdout",
     "output_type": "stream",
     "text": [
      "System.String\n"
     ]
    }
   ],
   "source": [
    "$store.GetType().Fullname"
   ]
  },
  {
   "cell_type": "code",
   "execution_count": 4,
   "metadata": {},
   "outputs": [
    {
     "name": "stdout",
     "output_type": "stream",
     "text": []
    }
   ],
   "source": [
    "$store -split \"`r`n\" | set -Name ary"
   ]
  },
  {
   "cell_type": "code",
   "execution_count": 5,
   "metadata": {},
   "outputs": [
    {
     "name": "stdout",
     "output_type": "stream",
     "text": [
      "96\n"
     ]
    }
   ],
   "source": [
    "$ary.length"
   ]
  },
  {
   "cell_type": "code",
   "execution_count": 6,
   "metadata": {},
   "outputs": [
    {
     "name": "stdout",
     "output_type": "stream",
     "text": [
      "$i = 0\n",
      "foreach($ar in $ary)\n",
      ">> {\n",
      ">>   if($ar -match 'SEE ALSO')\n",
      ">>   {\n",
      ">>     break\n",
      ">>   }\n",
      ">>   $i++\n",
      ">> }\n",
      ">> # $ary[$i..$ary.Length]\n",
      ">> \n"
     ]
    }
   ],
   "source": [
    "$i = 0\n",
    "foreach($ar in $ary)\n",
    "{\n",
    "  if($ar -match 'SEE ALSO')\n",
    "  {\n",
    "    break\n",
    "  }\n",
    "  $i++\n",
    "}\n",
    "# $ary[$i..$ary.Length]"
   ]
  },
  {
   "cell_type": "code",
   "execution_count": 15,
   "metadata": {},
   "outputs": [
    {
     "name": "stdout",
     "output_type": "stream",
     "text": [
      "$url_base = \"https://nbviewer.jupyter.org/github/sakai-memoru/pwshnote/blob/master/1909-powershell-{{about_item}}.ipynb\"\n",
      "\n",
      "foreach($a in $ary[($i+1)..$ary.Length]){\n",
      ">>   if(-not ($a.Trim() -eq ''))\n",
      ">>   {\n",
      ">>     if($a.Trim().startswith('about_'))\n",
      ">>     {\n",
      ">>       $url_base.Replace('{{about_item}}',$a.Trim())  \n",
      ">>     }\n",
      ">>     else\n",
      ">>     {\n",
      ">>       $a.Trim()\n",
      ">>     }\n",
      ">>   }\n",
      ">> }\n",
      ">> \n",
      "https://nbviewer.jupyter.org/github/sakai-memoru/pwshnote/blob/master/1909-powershell-about_Functions.ipynb\n",
      "https://nbviewer.jupyter.org/github/sakai-memoru/pwshnote/blob/master/1909-powershell-about_Functions_Advanced_Methods.ipynb\n",
      "https://nbviewer.jupyter.org/github/sakai-memoru/pwshnote/blob/master/1909-powershell-about_Functions_Advanced_Parameters.ipynb\n",
      "https://nbviewer.jupyter.org/github/sakai-memoru/pwshnote/blob/master/1909-powershell-about_Functions_CmdletBindingAttribute.ipynb\n",
      "https://nbviewer.jupyter.org/github/sakai-memoru/pwshnote/blob/master/1909-powershell-about_Functions_OutputTypeAttribute.ipynb\n",
      "Windows PowerShell Cmdlets (http://go.microsoft.com/fwlink/?LinkID=135279)\n"
     ]
    }
   ],
   "source": [
    "$url_base = \"https://nbviewer.jupyter.org/github/sakai-memoru/pwshnote/blob/master/1909-powershell-{{about_item}}.ipynb\"\n",
    "\n",
    "foreach($a in $ary[($i+1)..$ary.Length]){\n",
    "  if(-not ($a.Trim() -eq ''))\n",
    "  {\n",
    "    if($a.Trim().startswith('about_'))\n",
    "    {\n",
    "      $url_base.Replace('{{about_item}}',$a.Trim())  \n",
    "    }\n",
    "    else\n",
    "    {\n",
    "      $a.Trim()\n",
    "    }\n",
    "  }\n",
    "}"
   ]
  },
  {
   "cell_type": "code",
   "execution_count": 18,
   "metadata": {},
   "outputs": [
    {
     "name": "stdout",
     "output_type": "stream",
     "text": [
      "TOPIC\n",
      "    about_Functions_Advanced\n",
      "\n",
      "SHORT DESCRIPTION\n",
      "    Introduces advanced functions that act similar to cmdlets.\n",
      "\n",
      "LONG DESCRIPTION\n",
      "    Advanced functions allow you to write functions that can perform operations \n",
      "    that are similar to the operations you can perform with cmdlets. Advanced \n",
      "    functions are helpful when you want to quickly write a function without \n",
      "    having to write a compiled cmdlet using a Microsoft .NET Framework \n",
      "    language. These functions are also helpful when you want to restrict the\n",
      "    functionality of a compiled cmdlet or when you want to write a function \n",
      "    that is similar to a compiled cmdlet.\n",
      " \n",
      "\n",
      "    There is a difference between authoring a compiled cmdlet and an advanced\n",
      "    function. Compiled cmdlets are .NET Framework classes that must be written\n",
      "    in a .NET Framework language such as C#. In contrast, advanced functions \n",
      "    are written in the Windows PowerShell script language in the same way that\n",
      "    other functions or script blocks are written.\n",
      "\n",
      "\n",
      "    Advanced functions use the CmdletBinding attribute to identify them as \n",
      "    functions that act similar to cmdlets. The CmdletBinding attribute is \n",
      "    similar to the Cmdlet attribute that is used in compiled cmdlet classes to\n",
      "    identify the class as a cmdlet. For more information about this attribute,\n",
      "    see about_Functions_CmdletBindingAttribute.\n",
      "\n",
      "\n",
      "    The following example shows a function that accepts a name and then prints\n",
      "    a greeting using the supplied name. Also notice that this function defines\n",
      "    a name that includes a verb (Send) and noun (Greeting) pair similar to the\n",
      "    verb-noun pair of a compiled cmdlet. However, functions are not required \n",
      "    to have a verb-noun name. \n",
      "\n",
      "\n"
     ]
    }
   ],
   "source": [
    "$ary[0..36] "
   ]
  },
  {
   "cell_type": "code",
   "execution_count": 22,
   "metadata": {},
   "outputs": [
    {
     "name": "stdout",
     "output_type": "stream",
     "text": [
      "        function Send-Greeting\n",
      "        {\n",
      "          [CmdletBinding()]\n",
      "          Param(\n",
      "              [Parameter(Mandatory=$true)]\n",
      "              [string] $Name\n",
      "          )\n",
      "          Process\n",
      "          {\n",
      "            write-host (\"Hello \" + $Name + \"!\")\n",
      "          }\n",
      "        }\n",
      "\n",
      "\n",
      "    The parameters of the function are declared by using the Parameter \n",
      "    attribute. This attribute can be used alone, or it can be combined with \n",
      "    the Alias attribute or with several other parameter validation attributes.\n",
      "    For more information about how to declare parameters (including dynamic\n",
      "    parameters that are added at runtime), see\n",
      "    about_Functions_Advanced_Parameters. \n",
      " \n",
      "\n",
      "    The actual work of the previous function is performed in the Process \n",
      "    block, which is equivalent to the ProcessingRecord method that is used by \n",
      "    compiled cmdlets to process the data that is passed to the cmdlet. This \n",
      "    block, along with the Begin and End blocks, is described in the \n",
      "    about_Functions_Advanced_Methods topic.\n",
      "\n",
      "\n",
      "    Advanced functions differ from compiled cmdlets in the following ways: \n",
      "\n",
      "        - Advanced function parameter binding does not throw an exception when \n",
      "          an array of strings is bound to a Boolean parameter.\n",
      "\n",
      "        - The ValidateSet attribute and the ValidatePattern attribute cannot \n",
      "          pass named parameters.\n",
      "\n",
      "        - Advanced functions cannot be used in transactions.\n",
      "\n",
      "   \n",
      "SEE ALSO\n",
      "    about_Functions\n",
      "    about_Functions_Advanced_Methods    \n",
      "    about_Functions_Advanced_Parameters \n",
      "    about_Functions_CmdletBindingAttribute\n",
      "    about_Functions_OutputTypeAttribute\n",
      "    Windows PowerShell Cmdlets (http://go.microsoft.com/fwlink/?LinkID=135279)\n",
      "\n",
      "\n",
      "\n",
      "\n",
      "\n",
      "\n",
      "\n",
      "\n",
      "\n",
      "\n",
      "\n",
      "\n"
     ]
    }
   ],
   "source": [
    "$ary[37..$ary.Length] "
   ]
  },
  {
   "cell_type": "code",
   "execution_count": null,
   "metadata": {},
   "outputs": [],
   "source": []
  }
 ],
 "metadata": {
  "kernelspec": {
   "display_name": "PowerShell",
   "language": "powershell",
   "name": "powershell"
  },
  "language_info": {
   "codemirror_mode": "shell",
   "file_extension": ".ps1",
   "mimetype": "text/x-sh",
   "name": "powershell"
  }
 },
 "nbformat": 4,
 "nbformat_minor": 2
}
