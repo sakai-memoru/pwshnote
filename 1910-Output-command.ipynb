{
 "cells": [
  {
   "cell_type": "markdown",
   "metadata": {},
   "source": [
    "# 1910-Output-command"
   ]
  },
  {
   "cell_type": "markdown",
   "metadata": {},
   "source": [
    "## Write-Host"
   ]
  },
  {
   "cell_type": "markdown",
   "metadata": {},
   "source": [
    "- Write-Host runs in the pipeline like any other cmdlet, but it doesn't place anything into the pipeline. Instead, it writes directly to the hosting application's screen. Because it does that, it's able to use alternate foreground and background colors, through its -foregroundColor and -backgroundColor command-line parameters."
   ]
  },
  {
   "cell_type": "markdown",
   "metadata": {},
   "source": [
    "[![Image from Gyazo](https://i.gyazo.com/46b27e687058d3953a7c775dd8eb874a.png)](https://gyazo.com/46b27e687058d3953a7c775dd8eb874a)"
   ]
  },
  {
   "cell_type": "code",
   "execution_count": 1,
   "metadata": {},
   "outputs": [
    {
     "name": "stdout",
     "output_type": "stream",
     "text": [
      "\n",
      "NAME\n",
      "    Write-Host\n",
      "    \n",
      "SYNOPSIS\n",
      "    Writes customized output to a host.\n",
      "    \n",
      "    \n",
      "SYNTAX\n",
      "    Write-Host [[-Object] <Object>] [-BackgroundColor {Black | DarkBlue | DarkGreen | DarkCyan | DarkRed | DarkMagenta \n",
      "    | DarkYellow | Gray | DarkGray | Blue | Green | Cyan | Red | Magenta | Yellow | White}] [-ForegroundColor {Black | \n",
      "    DarkBlue | DarkGreen | DarkCyan | DarkRed | DarkMagenta | DarkYellow | Gray | DarkGray | Blue | Green | Cyan | Red \n",
      "    | Magenta | Yellow | White}] [-NoNewline] [-Separator <Object>] [<CommonParameters>]\n",
      "    \n",
      "    \n",
      "DESCRIPTION\n",
      "    The Write-Host cmdlet customizes output. You can specify the color of text by using the ForegroundColor parameter, \n",
      "    and you can specify the background color by using the BackgroundColor parameter. The Separator parameter lets you \n",
      "    specify a string to use to separate displayed objects. The particular result depends on the program that is \n",
      "    hosting Windows PowerShell.\n",
      "    \n",
      "\n",
      "RELATED LINKS\n",
      "    Online Version: http://go.microsoft.com/fwlink/?LinkId=821876\n",
      "    Clear-Host \n",
      "    Write-Debug \n",
      "    Write-Error \n",
      "    Write-Output \n",
      "    Write-Progress \n",
      "    Write-Verbose \n",
      "    Write-Warning \n",
      "\n",
      "REMARKS\n",
      "    To see the examples, type: \"get-help Write-Host -examples\".\n",
      "    For more information, type: \"get-help Write-Host -detailed\".\n",
      "    For technical information, type: \"get-help Write-Host -full\".\n",
      "    For online help, type: \"get-help Write-Host -online\"\n",
      "\n",
      "\n",
      "\n"
     ]
    }
   ],
   "source": [
    "help write-host"
   ]
  },
  {
   "cell_type": "code",
   "execution_count": 2,
   "metadata": {},
   "outputs": [
    {
     "name": "stdout",
     "output_type": "stream",
     "text": []
    }
   ],
   "source": [
    "## show-command write-host"
   ]
  },
  {
   "cell_type": "markdown",
   "metadata": {},
   "source": [
    "[![Image from Gyazo](https://i.gyazo.com/48cf961f4a06f2d0a75d467bfdb6907e.png)](https://gyazo.com/48cf961f4a06f2d0a75d467bfdb6907e)"
   ]
  },
  {
   "cell_type": "markdown",
   "metadata": {},
   "source": [
    "## Write-Output"
   ]
  },
  {
   "cell_type": "markdown",
   "metadata": {},
   "source": [
    "- Unlike Write-Host, Write-Output can send objects into the pipeline. Because it isn't writing directly to the display, it doesn't permit you to specify alternative colors or any thing. \n"
   ]
  },
  {
   "cell_type": "markdown",
   "metadata": {},
   "source": [
    "- It sends objects into the pipeline ― it's the pipeline itself that eventaully displays those objects. The basic process is below:"
   ]
  },
  {
   "cell_type": "markdown",
   "metadata": {},
   "source": [
    "1. Write-Output puts the object into the pipeline.\n",
    "2. Becuase nothing else is in the pipeline, the object travels to the end of the pipeline, where Out-Default always sits.\n",
    "3. Out-Default passes the object to Out-Host.\n",
    "4. Out-Host asks Powershell's formatting system to format the object.\n",
    "5. Out-Host places the formatted result onto the screen"
   ]
  },
  {
   "cell_type": "markdown",
   "metadata": {},
   "source": [
    "- The results are similar to what you'd get using Write-Host, but the object takes a different path to get there.That path is important, because the pipeline could contain other things."
   ]
  },
  {
   "cell_type": "markdown",
   "metadata": {},
   "source": [
    "[![Image from Gyazo](https://i.gyazo.com/290a29a1719594fdb73a1ec78e61b73b.png)](https://gyazo.com/290a29a1719594fdb73a1ec78e61b73b)"
   ]
  },
  {
   "cell_type": "code",
   "execution_count": 5,
   "metadata": {},
   "outputs": [
    {
     "name": "stdout",
     "output_type": "stream",
     "text": [
      "\n",
      "NAME\n",
      "    Write-Output\n",
      "    \n",
      "SYNOPSIS\n",
      "    Sends the specified objects to the next command in the pipeline. If the command is the last command in the \n",
      "    pipeline, the objects are displayed in the console.\n",
      "    \n",
      "    \n",
      "SYNTAX\n",
      "    Write-Output [-InputObject] <PSObject[]> [-NoEnumerate] [<CommonParameters>]\n",
      "    \n",
      "    \n",
      "DESCRIPTION\n",
      "    The Write-Output cmdlet sends the specified object down the pipeline to the next command. If the command is the \n",
      "    last command in the pipeline, the object is displayed in the console. Write-Output sends objects down the primary \n",
      "    pipeline, also known as the \"output stream\" or the \"success pipeline.\" To send error objects down the error \n",
      "    pipeline, use Write-Error.\n",
      "    \n",
      "    This cmdlet is typically used in scripts to display strings and other objects on the console. However, because the \n",
      "    default behavior is to display the objects at the end of a pipeline, it is generally not necessary to use the \n",
      "    cmdlet. For instance, `Get-Process | Write-Output` is equivalent to `Get-Process`.\n",
      "    \n",
      "\n",
      "RELATED LINKS\n",
      "    Online Version: http://go.microsoft.com/fwlink/?LinkId=821878\n",
      "    Tee-Object \n",
      "    Write-Debug \n",
      "    Write-Error \n",
      "    Write-Host \n",
      "    Write-Information \n",
      "    Write-Progress \n",
      "    Write-Verbose \n",
      "    Write-Warning \n",
      "\n",
      "REMARKS\n",
      "    To see the examples, type: \"get-help Write-Output -examples\".\n",
      "    For more information, type: \"get-help Write-Output -detailed\".\n",
      "    For technical information, type: \"get-help Write-Output -full\".\n",
      "    For online help, type: \"get-help Write-Output -online\"\n",
      "\n",
      "\n",
      "\n"
     ]
    }
   ],
   "source": [
    "Help Write-Output"
   ]
  },
  {
   "cell_type": "code",
   "execution_count": 6,
   "metadata": {},
   "outputs": [
    {
     "name": "stdout",
     "output_type": "stream",
     "text": []
    }
   ],
   "source": [
    "## Show-Command Write-Output"
   ]
  },
  {
   "cell_type": "markdown",
   "metadata": {},
   "source": [
    "[![Image from Gyazo](https://i.gyazo.com/9d17d4811641f08e42ee045944383b06.png)](https://gyazo.com/9d17d4811641f08e42ee045944383b06)"
   ]
  },
  {
   "cell_type": "markdown",
   "metadata": {},
   "source": [
    "## Out-Default"
   ]
  },
  {
   "cell_type": "code",
   "execution_count": 3,
   "metadata": {},
   "outputs": [
    {
     "name": "stdout",
     "output_type": "stream",
     "text": [
      "\n",
      "NAME\n",
      "    Out-Default\n",
      "    \n",
      "SYNOPSIS\n",
      "    Sends the output to the default formatter and to the default output cmdlet.\n",
      "    \n",
      "    \n",
      "SYNTAX\n",
      "    Out-Default [-InputObject <PSObject>] [-Transcript] [<CommonParameters>]\n",
      "    \n",
      "    \n",
      "DESCRIPTION\n",
      "    The Out-Default cmdlet sends output to the default formatter and the default output cmdlet. This cmdlet has no \n",
      "    effect on the formatting or output of Windows PowerShell commands. It is a placeholder that lets you write your \n",
      "    own Out-Default function or cmdlet.\n",
      "    \n",
      "\n",
      "RELATED LINKS\n",
      "    Online Version: http://go.microsoft.com/fwlink/?LinkId=821502\n",
      "\n",
      "REMARKS\n",
      "    To see the examples, type: \"get-help Out-Default -examples\".\n",
      "    For more information, type: \"get-help Out-Default -detailed\".\n",
      "    For technical information, type: \"get-help Out-Default -full\".\n",
      "    For online help, type: \"get-help Out-Default -online\"\n",
      "\n",
      "\n",
      "\n"
     ]
    }
   ],
   "source": [
    "Help Out-Default"
   ]
  },
  {
   "cell_type": "code",
   "execution_count": 7,
   "metadata": {},
   "outputs": [
    {
     "name": "stdout",
     "output_type": "stream",
     "text": [
      "\n",
      "Alias           echo -> Write-Output                                                                                   \n",
      "Alias           write -> Write-Output                                                                                  \n",
      "\n",
      "\n"
     ]
    }
   ],
   "source": [
    "get-alias | out-string -stream | sls 'Write'"
   ]
  },
  {
   "cell_type": "code",
   "execution_count": 15,
   "metadata": {},
   "outputs": [
    {
     "name": "stdout",
     "output_type": "stream",
     "text": []
    }
   ],
   "source": [
    "## Show-Command Out-Default"
   ]
  },
  {
   "cell_type": "markdown",
   "metadata": {},
   "source": [
    "[![Image from Gyazo](https://i.gyazo.com/3ef4f4bc6713e695e49c2dba331a2e18.png)](https://gyazo.com/3ef4f4bc6713e695e49c2dba331a2e18)"
   ]
  },
  {
   "cell_type": "markdown",
   "metadata": {},
   "source": [
    "## Out-Host"
   ]
  },
  {
   "cell_type": "code",
   "execution_count": 11,
   "metadata": {},
   "outputs": [
    {
     "name": "stdout",
     "output_type": "stream",
     "text": [
      "\n",
      "NAME\n",
      "    Out-Host\n",
      "    \n",
      "SYNOPSIS\n",
      "    Sends output to the command line.\n",
      "    \n",
      "    \n",
      "SYNTAX\n",
      "    Out-Host [-InputObject <PSObject>] [-Paging] [<CommonParameters>]\n",
      "    \n",
      "    \n",
      "DESCRIPTION\n",
      "    The Out-Host cmdlet sends output to the Windows PowerShell host for display. The host displays the output at the \n",
      "    command line. Because Out-Host is the default, you do not have to specify it unless you want to use its parameters \n",
      "    to change the display.\n",
      "    \n",
      "\n",
      "RELATED LINKS\n",
      "    Online Version: http://go.microsoft.com/fwlink/?LinkId=821503\n",
      "    Clear-Host \n",
      "    Out-Default \n",
      "    Out-Null \n",
      "\n",
      "REMARKS\n",
      "    To see the examples, type: \"get-help Out-Host -examples\".\n",
      "    For more information, type: \"get-help Out-Host -detailed\".\n",
      "    For technical information, type: \"get-help Out-Host -full\".\n",
      "    For online help, type: \"get-help Out-Host -online\"\n",
      "\n",
      "\n"
     ]
    }
   ],
   "source": [
    "Get-Help Out-Host"
   ]
  },
  {
   "cell_type": "code",
   "execution_count": 12,
   "metadata": {},
   "outputs": [
    {
     "name": "stdout",
     "output_type": "stream",
     "text": []
    }
   ],
   "source": [
    "## Show-Command Out-Host"
   ]
  },
  {
   "cell_type": "markdown",
   "metadata": {},
   "source": [
    "[![Image from Gyazo](https://i.gyazo.com/ae83e044ed09ade690f25260d50d6597.png)](https://gyazo.com/ae83e044ed09ade690f25260d50d6597)"
   ]
  },
  {
   "cell_type": "markdown",
   "metadata": {},
   "source": [
    "## Other way to write "
   ]
  },
  {
   "cell_type": "markdown",
   "metadata": {},
   "source": [
    "- Powershell has a few other ways to produce output. None of these write to the pipeline as Write-Output does: they work a bit more like Write-Host. But all of them poduce output in a way that can be suppressed."
   ]
  },
  {
   "cell_type": "code",
   "execution_count": 14,
   "metadata": {},
   "outputs": [
    {
     "name": "stdout",
     "output_type": "stream",
     "text": [
      "\n",
      "CommandType     Name                                               Version    Source                                   \n",
      "-----------     ----                                               -------    ------                                   \n",
      "Cmdlet          Write-Debug                                        3.1.0.0    Microsoft.PowerShell.Utility             \n",
      "Cmdlet          Write-Error                                        3.1.0.0    Microsoft.PowerShell.Utility             \n",
      "Cmdlet          Write-Host                                         3.1.0.0    Microsoft.PowerShell.Utility             \n",
      "Cmdlet          Write-Information                                  3.1.0.0    Microsoft.PowerShell.Utility             \n",
      "Cmdlet          Write-Output                                       3.1.0.0    Microsoft.PowerShell.Utility             \n",
      "Cmdlet          Write-Progress                                     3.1.0.0    Microsoft.PowerShell.Utility             \n",
      "Cmdlet          Write-Verbose                                      3.1.0.0    Microsoft.PowerShell.Utility             \n",
      "Cmdlet          Write-Warning                                      3.1.0.0    Microsoft.PowerShell.Utility             \n",
      "\n",
      "\n"
     ]
    }
   ],
   "source": [
    "Get-Command -verb write | where {($_.CommandType -eq 'cmdlet') -and ($_.Source -like \"*Utility*\" ) }"
   ]
  },
  {
   "cell_type": "code",
   "execution_count": 16,
   "metadata": {},
   "outputs": [
    {
     "name": "stdout",
     "output_type": "stream",
     "text": [
      "\n",
      "NAME\n",
      "    Write-Verbose\n",
      "    \n",
      "SYNOPSIS\n",
      "    Writes text to the verbose message stream.\n",
      "    \n",
      "    \n",
      "SYNTAX\n",
      "    Write-Verbose [-Message] <String> [<CommonParameters>]\n",
      "    \n",
      "    \n",
      "DESCRIPTION\n",
      "    The Write-Verbose cmdlet writes text to the verbose message stream in Windows PowerShell. Typically, the verbose \n",
      "    message stream is used to deliver information about command processing that is used for debugging a command.\n",
      "    \n",
      "    By default, the verbose message stream is not displayed, but you can display it by changing the value of the \n",
      "    $VerbosePreference variable or using the Verbose common parameter in any command.\n",
      "    \n",
      "\n",
      "RELATED LINKS\n",
      "    Online Version: http://go.microsoft.com/fwlink/?LinkId=821880\n",
      "    Write-Debug \n",
      "    Write-Error \n",
      "    Write-Host \n",
      "    Write-Information \n",
      "    Write-Output \n",
      "    Write-Progress \n",
      "    Write-Warning \n",
      "\n",
      "REMARKS\n",
      "    To see the examples, type: \"get-help Write-Verbose -examples\".\n",
      "    For more information, type: \"get-help Write-Verbose -detailed\".\n",
      "    For technical information, type: \"get-help Write-Verbose -full\".\n",
      "    For online help, type: \"get-help Write-Verbose -online\"\n",
      "\n",
      "\n",
      "\n"
     ]
    }
   ],
   "source": [
    "Help Write-Verbose"
   ]
  },
  {
   "cell_type": "code",
   "execution_count": 17,
   "metadata": {},
   "outputs": [
    {
     "name": "stdout",
     "output_type": "stream",
     "text": []
    }
   ],
   "source": [
    "Show-Command Write-Verbose"
   ]
  },
  {
   "cell_type": "markdown",
   "metadata": {},
   "source": [
    "[![Image from Gyazo](https://i.gyazo.com/94088a7645b1e2f42b05601c51057ca6.png)](https://gyazo.com/94088a7645b1e2f42b05601c51057ca6)"
   ]
  },
  {
   "cell_type": "code",
   "execution_count": null,
   "metadata": {},
   "outputs": [],
   "source": []
  }
 ],
 "metadata": {
  "kernelspec": {
   "display_name": "PowerShell",
   "language": "powershell",
   "name": "powershell"
  },
  "language_info": {
   "codemirror_mode": "shell",
   "file_extension": ".ps1",
   "mimetype": "text/x-sh",
   "name": "powershell"
  }
 },
 "nbformat": 4,
 "nbformat_minor": 2
}
