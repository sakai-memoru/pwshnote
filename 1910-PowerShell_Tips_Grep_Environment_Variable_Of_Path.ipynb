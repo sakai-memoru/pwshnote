{
 "cells": [
  {
   "cell_type": "markdown",
   "metadata": {},
   "source": [
    "# 1910-PowerShell_Tips_Grep_Environment_Variable_Of_Path"
   ]
  },
  {
   "cell_type": "markdown",
   "metadata": {},
   "source": [
    "# [PowerShell] Windows環境変数を取得して、Grepする"
   ]
  },
  {
   "cell_type": "markdown",
   "metadata": {},
   "source": [
    "## overview"
   ]
  },
  {
   "cell_type": "markdown",
   "metadata": {},
   "source": [
    "- PowershellでWindowsの環境変数 PathをGrepする。"
   ]
  },
  {
   "cell_type": "markdown",
   "metadata": {},
   "source": [
    "## Jupyter notebook"
   ]
  },
  {
   "cell_type": "markdown",
   "metadata": {},
   "source": [
    "https://nbviewer.jupyter.org/github/sakai-memoru/pwshnote/blob/master/1910-PowerShell_Tips_Grep_Environment_Variable_Of_Path.ipynb"
   ]
  },
  {
   "cell_type": "markdown",
   "metadata": {},
   "source": [
    "## Env:を、Get-ChildItem"
   ]
  },
  {
   "cell_type": "code",
   "execution_count": 1,
   "metadata": {},
   "outputs": [
    {
     "name": "stdout",
     "output_type": "stream",
     "text": [
      "\n",
      "Name                           Value                                                                                   \n",
      "----                           -----                                                                                   \n",
      "_CONDA_EXE                     C:/ProgramData/Anaconda3\\Scripts\\conda.exe                                              \n",
      "_CONDA_ROOT                    C:/ProgramData/Anaconda3                                                                \n",
      "ALLUSERSPROFILE                C:\\ProgramData                                                                          \n",
      "ANT_HOME                       G:\\apache-ant-1.9.14                                                                    \n",
      "APPDATA                        G:\\Users\\sakai\\AppData\\Roaming                                                          \n",
      "ASL.LOG                        Destination=file                                                                        \n",
      "CASSANDRA_HOME                 G:\\apache-cassandra-3.11.4                                                              \n",
      "CHOCOLATEYPATH                 C:\\Chocolatey                                                                           \n",
      "COMMONPROGRAMFILES             C:\\Program Files\\Common Files                                                           \n",
      "COMMONPROGRAMFILES(X86)        C:\\Program Files (x86)\\Common Files                                                     \n",
      "COMMONPROGRAMW6432             C:\\Program Files\\Common Files                                                           \n",
      "COMPUTERNAME                   EX                                                                                      \n",
      "COMSPEC                        C:\\WINDOWS\\system32\\cmd.exe                                                             \n",
      "CONDA_DEFAULT_ENV              base                                                                                    \n",
      "CONDA_EXE                      C:\\ProgramData\\Anaconda3\\Scripts\\conda.exe                                              \n",
      "CONDA_PREFIX                   C:\\ProgramData\\Anaconda3                                                                \n",
      "CONDA_PROMPT_MODIFIER          (base)                                                                                  \n",
      "CONDA_PYTHON_EXE               C:\\ProgramData\\Anaconda3\\python.exe                                                     \n",
      "CONDA_SHLVL                    1                                                                                       \n",
      "DATA_DIR                       G:\\apps_data\\transformation                                                             \n",
      "DRIVERDATA                     C:\\Windows\\System32\\Drivers\\DriverData                                                  \n",
      "ENV_HOME                       G:\\Users\\sakai\\AppData\\Local\\conda\\conda\\envs                                           \n",
      "ERLANG_HOME                    C:\\Program Files\\erl10.0.1                                                              \n",
      "ES_HOME                        G:\\elasticsearch\\6.3.2\\                                                                 \n",
      "ES_PATH_CONF                   C:\\ProgramData\\Elastic\\Elasticsearch\\config                                             \n",
      "FPS_BROWSER_APP_PROFILE_STRING Internet Explorer                                                                       \n",
      "FPS_BROWSER_USER_PROFILE_ST... Default                                                                                 \n",
      "HOMEDRIVE                      G:                                                                                      \n",
      "HOMEPATH                       \\Users\\sakai                                                                            \n",
      "IDLE_FILE                      G:\\Users\\sakai\\AppData\\Local\\Programs\\Python\\Python36-32\\Lib\\idlelib\\idle.pyw           \n",
      "IPY_INTERRUPT_EVENT            2836                                                                                    \n",
      "JPY_INTERRUPT_EVENT            2836                                                                                    \n",
      "JPY_PARENT_PID                 3084                                                                                    \n",
      "KERNEL_LAUNCH_TIMEOUT          40                                                                                      \n",
      "LOCALAPPDATA                   G:\\Users\\sakai\\AppData\\Local                                                            \n",
      "LOGONSERVER                    \\\\EX                                                                                    \n",
      "MOSQUITTO_DIR                  C:\\Program Files (x86)\\mosquitto                                                        \n",
      "MYSQLCONNECTOR_ASSEMBLIESPATH  C:\\Program Files (x86)\\MySQL\\Connector NET 8.0\\Assemblies\\v4.5.2                        \n",
      "NGINX_HOME                     G:\\nginx-1.15.0                                                                         \n",
      "NUMBER_OF_PROCESSORS           4                                                                                       \n",
      "ONEDRIVE                       G:\\Users\\sakai\\OneDrive                                                                 \n",
      "ONEDRIVECONSUMER               G:\\Users\\sakai\\OneDrive                                                                 \n",
      "OS                             Windows_NT                                                                              \n",
      "PATH                           C:\\ProgramData\\Anaconda3;C:\\ProgramData\\Anaconda3\\Library\\mingw-w64\\bin;C:\\ProgramDat...\n",
      "PATHEXT                        .COM;.EXE;.BAT;.CMD;.VBS;.VBE;.JS;.JSE;.WSF;.WSH;.MSC;.RB;.RBW;.CPL                     \n",
      "powershell_command             powershell                                                                              \n",
      "PROCESSOR_ARCHITECTURE         AMD64                                                                                   \n",
      "PROCESSOR_IDENTIFIER           Intel64 Family 6 Model 60 Stepping 3, GenuineIntel                                      \n",
      "PROCESSOR_LEVEL                6                                                                                       \n",
      "PROCESSOR_REVISION             3c03                                                                                    \n",
      "PROGRAMDATA                    C:\\ProgramData                                                                          \n",
      "PROGRAMFILES                   C:\\Program Files                                                                        \n",
      "PROGRAMFILES(X86)              C:\\Program Files (x86)                                                                  \n",
      "PROGRAMW6432                   C:\\Program Files                                                                        \n",
      "PROJECT_HOME                   G:\\workspace\\py                                                                         \n",
      "PROMPT                         $P$G                                                                                    \n",
      "PSEXECUTIONPOLICYPREFERENCE    Bypass                                                                                  \n",
      "PSMODULEPATH                   G:\\Users\\sakai\\OneDrive\\Documents\\WindowsPowerShell\\Modules;C:\\Program Files\\WindowsP...\n",
      "PUBLIC                         C:\\Users\\Public                                                                         \n",
      "PYCHARM                        C:\\Program Files\\JetBrains\\PyCharm 2018.3.1\\bin;                                        \n",
      "PYCHARM COMMUNITY EDITION      C:\\Program Files\\JetBrains\\PyCharm Community Edition 2018.3.1\\bin;                      \n",
      "RUBYOPT                        -Eutf-8                                                                                 \n",
      "SESSIONNAME                    Console                                                                                 \n",
      "SYSTEMDRIVE                    C:                                                                                      \n",
      "SYSTEMROOT                     C:\\WINDOWS                                                                              \n",
      "TEMP                           G:\\Users\\sakai\\AppData\\Local\\Temp                                                       \n",
      "TMP                            G:\\Users\\sakai\\AppData\\Local\\Temp                                                       \n",
      "USERDOMAIN                     EX                                                                                      \n",
      "USERDOMAIN_ROAMINGPROFILE      EX                                                                                      \n",
      "USERNAME                       sakai                                                                                   \n",
      "USERPROFILE                    G:\\Users\\sakai                                                                          \n",
      "VBOX_MSI_INSTALL_PATH          C:\\Program Files\\Oracle\\VirtualBox\\                                                     \n",
      "VS140COMNTOOLS                 C:\\Program Files (x86)\\Microsoft Visual Studio 14.0\\Common7\\Tools\\                      \n",
      "VSSDK140INSTALL                C:\\Program Files (x86)\\Microsoft Visual Studio 14.0\\VSSDK\\                              \n",
      "WINDIR                         C:\\WINDOWS                                                                              \n",
      "WORKON_HOME                    G:\\env\\py                                                                               \n",
      "\n",
      "\n"
     ]
    }
   ],
   "source": [
    "dir Env:"
   ]
  },
  {
   "cell_type": "markdown",
   "metadata": {},
   "source": [
    "## $Env:PathをコンソールにDump"
   ]
  },
  {
   "cell_type": "code",
   "execution_count": 2,
   "metadata": {},
   "outputs": [
    {
     "name": "stdout",
     "output_type": "stream",
     "text": [
      "## $Env:Path\n",
      "$Env:Path\n",
      "C:\\ProgramData\\Anaconda3;C:\\ProgramData\\Anaconda3\\Library\\mingw-w64\\bin;C:\\ProgramData\\Anaconda3\\Library\\u"
     ]
    }
   ],
   "source": [
    "## $Env:Path\n",
    "$Env:Path"
   ]
  },
  {
   "cell_type": "markdown",
   "metadata": {},
   "source": [
    "## $Env:Pathを-Split"
   ]
  },
  {
   "cell_type": "code",
   "execution_count": 3,
   "metadata": {},
   "outputs": [
    {
     "name": "stdout",
     "output_type": "stream",
     "text": [
      "sr\\bin;C:\\ProgramData\\Anaconda3\\Library\\bin;C:\\ProgramData\\Anaconda3\\Scripts;C:\\ProgramData\\Anaconda3\\bin;C:\\Ruby26-x64\\bin;C:\\Program Files (x86)\\Common Files\\Oracle\\Java\\javapath;C:\\ProgramData\\Oracle\\Java\\javapath;C:\\WINDOWS\\system32;C:\\WINDOWS;C:\\WINDOWS\\System32\\Wbem;C:\\WINDOWS\\System32\\WindowsPowerShell\\v1.0;C:\\WINDOWS\\system32\\config\\systemprofile\\.dnx\\bin;C:\\Program Files\\Microsoft DNX\\Dnvm;C:\\Program Files\\Microsoft SQL Server\\130\\Tools\\Binn;G:\\Users\\Sakai\\Desktop\\tool;G:\\Users\\Sakai\\Desktop;G:\\Redis;C:\\Program Files\\MongoDB\\Server\\3.2\\bin;C:\\Program Files (x86)\\Windows Kits\\8.1\\Windows Performance Toolkit;C:\\Program Files\\Microsoft SQL Server\\120\\Tools\\Binn;G:\\xampp\\php;C:\\Program Files (x86)\\Graphviz2.38;C:\\Program Files (x86)\\MeCab\\bin;C:\\Program Files (x86)\\WinMerge;C:\\Program Files (x86)\\mosquitto;C:\\WINDOWS\\System32\\OpenSSH;C:\\Program Files (x86)\\sakura;G:\\Users\\sakai\\Downloads\\vim80-kaoriya-win64-8.0.0596-20170502\\vim80-kaoriya-win64;C:\\Program Files\\Microsoft VS Code\\bin;C:\\Program Files\\PowerShell\\6;C:\\Program Files\\nodejs;C:\\Program Files\\dotnet;C:\\Program Files (x86)\\Kensington\\TrackballWorks;G:\\Users\\sakai\\AppData\\Local\\Microsoft\\WindowsApps;C:\\Program Files\\PostgreSQL\\10\\bin;G:\\sqlite3;C:\\Program Files\\erl10.0.1\\bin;G:\\Users\\sakai\\AppData\\Local\\hyper\\app-2.0.0\\resources\\bin;G:\\workspace\\gibo\\gibo;C:\\Program Files\\JetBrains\\PyCharm Community Edition 2018.3.1\\bin;C:\\Program Files\\JetBrains\\PyCharm 2018.3.1\\bin;C:\\Program Files (x86)\\Geany\\bin;C:\\Program Files (x86)\\Vim\\vim81;C:\\ProgramData\\Microsoft\\Windows\\Start Menu\\Programs;C:\\Program Files\\Typora;G:\\apache-ant-1.9.14\\bin;G:\\apache-cassandra-3.11.4\\bin;C:\\ProgramData\\Anaconda37\\condabin;C:\\ProgramData\\Anaconda37\\shell\\condabin;C:\\Program Files\\PowerShell\\6;C:\\ProgramData\\Anaconda3;C:\\ProgramData\\Anaconda3\\Scripts;G:\\Users\\sakai\\AppData\\Roaming\\npm;G:\\Users\\sakai\\OneDrive\\Documents\\WindowsPowerShell;G:\\Users\\sakai\\AppData\\Roaming\\Microsoft\\Windows\\Start Menu\\Programs\\Startup;C:\\Program Files\\Git\\bin;G:\\workspace;G:\\Users\\sakai\\Desktop\\urls;.\n",
      "\n",
      "$Env:Path -split ';' | set -Name ary\n"
     ]
    }
   ],
   "source": [
    "$Env:Path -split ';' | set -Name ary"
   ]
  },
  {
   "cell_type": "code",
   "execution_count": 4,
   "metadata": {},
   "outputs": [
    {
     "name": "stdout",
     "output_type": "stream",
     "text": [
      "61\n"
     ]
    }
   ],
   "source": [
    "$ary.Count"
   ]
  },
  {
   "cell_type": "code",
   "execution_count": 5,
   "metadata": {},
   "outputs": [
    {
     "name": "stdout",
     "output_type": "stream",
     "text": [
      "C:\\ProgramData\\Anaconda3\n",
      "C:\\ProgramData\\Anaconda3\\Library\\mingw-w64\\bin\n",
      "C:\\ProgramData\\Anaconda3\\Library\\usr\\bin\n",
      "C:\\ProgramData\\Anaconda3\\Library\\bin\n",
      "C:\\ProgramData\\Anaconda3\\Scripts\n"
     ]
    }
   ],
   "source": [
    "$ary[0..4]"
   ]
  },
  {
   "cell_type": "markdown",
   "metadata": {},
   "source": [
    "## $Env:PathをGrep (Select-String (sls))"
   ]
  },
  {
   "cell_type": "code",
   "execution_count": 6,
   "metadata": {},
   "outputs": [
    {
     "name": "stdout",
     "output_type": "stream",
     "text": [
      "\n",
      "C:\\WINDOWS\\System32\\WindowsPowerShell\\v1.0\n",
      "C:\\Program Files\\PowerShell\\6\n",
      "C:\\Program Files\\PowerShell\\6\n",
      "G:\\Users\\sakai\\OneDrive\\Documents\\WindowsPowerShell\n",
      "\n",
      "\n"
     ]
    }
   ],
   "source": [
    "$ary | Out-String -Stream | Select-String 'PowerShell'"
   ]
  },
  {
   "cell_type": "code",
   "execution_count": 7,
   "metadata": {},
   "outputs": [
    {
     "name": "stdout",
     "output_type": "stream",
     "text": [
      "\n",
      "G:\\Users\\Sakai\\Desktop\\tool\n",
      "G:\\Users\\Sakai\\Desktop\n",
      "G:\\Users\\sakai\\Desktop\\urls\n",
      "\n",
      "\n"
     ]
    }
   ],
   "source": [
    "$Env:Path -Split ';' | Out-String -Stream | sls 'Desktop'"
   ]
  },
  {
   "cell_type": "markdown",
   "metadata": {},
   "source": [
    "以上"
   ]
  }
 ],
 "metadata": {
  "kernelspec": {
   "display_name": "PowerShell",
   "language": "powershell",
   "name": "powershell"
  },
  "language_info": {
   "codemirror_mode": "shell",
   "file_extension": ".ps1",
   "mimetype": "text/x-sh",
   "name": "powershell"
  }
 },
 "nbformat": 4,
 "nbformat_minor": 2
}
