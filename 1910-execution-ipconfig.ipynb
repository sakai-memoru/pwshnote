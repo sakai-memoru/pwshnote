{
 "cells": [
  {
   "cell_type": "markdown",
   "metadata": {},
   "source": [
    "# 1910-execution-ipconfig"
   ]
  },
  {
   "cell_type": "code",
   "execution_count": 1,
   "metadata": {},
   "outputs": [
    {
     "name": "stdout",
     "output_type": "stream",
     "text": [
      "\n",
      "Windows IP Configuration\n",
      "\n",
      "\n",
      "Ethernet adapter VirtualBox Host-Only Network:\n",
      "\n",
      "   Connection-specific DNS Suffix  . : \n",
      "   Link-local IPv6 Address . . . . . : fe80::d453:f0e1:8dc2:a59c%8\n",
      "   IPv4 Address. . . . . . . . . . . : 192.168.56.1\n",
      "   Subnet Mask . . . . . . . . . . . : 255.255.255.0\n",
      "   Default Gateway . . . . . . . . . : \n",
      "\n",
      "Ethernet adapter ■C■[■T■l■b■g:\n",
      "\n",
      "   Connection-specific DNS Suffix  . : flets-east.jp\n",
      "   IPv6 Address. . . . . . . . . . . : 2404:7a80:a720:a400:8539:6f0c:e3cb:6eec\n",
      "   Temporary IPv6 Address. . . . . . : 2404:7a80:a720:a400:24ab:57e6:4a04:d6bc\n",
      "   Link-local IPv6 Address . . . . . : fe80::8539:6f0c:e3cb:6eec%3\n",
      "   IPv4 Address. . . . . . . . . . . : 192.168.1.38\n",
      "   Subnet Mask . . . . . . . . . . . : 255.255.255.0\n",
      "   Default Gateway . . . . . . . . . : fe80::212:e2ff:fe70:af64%3\n",
      "                                       192.168.1.1\n"
     ]
    }
   ],
   "source": [
    "ipconfig"
   ]
  },
  {
   "cell_type": "code",
   "execution_count": 2,
   "metadata": {},
   "outputs": [
    {
     "name": "stdout",
     "output_type": "stream",
     "text": [
      "\n",
      "\n",
      "   TypeName: System.String\n",
      "\n",
      "Name             MemberType            Definition                                                                      \n",
      "----             ----------            ----------                                                                      \n",
      "Clone            Method                System.Object Clone(), System.Object ICloneable.Clone()                         \n",
      "CompareTo        Method                int CompareTo(System.Object value), int CompareTo(string strB), int IComparab...\n",
      "Contains         Method                bool Contains(string value)                                                     \n",
      "CopyTo           Method                void CopyTo(int sourceIndex, char[] destination, int destinationIndex, int co...\n",
      "EndsWith         Method                bool EndsWith(string value), bool EndsWith(string value, System.StringCompari...\n",
      "Equals           Method                bool Equals(System.Object obj), bool Equals(string value), bool Equals(string...\n",
      "GetEnumerator    Method                System.CharEnumerator GetEnumerator(), System.Collections.IEnumerator IEnumer...\n",
      "GetHashCode      Method                int GetHashCode()                                                               \n",
      "GetType          Method                type GetType()                                                                  \n",
      "GetTypeCode      Method                System.TypeCode GetTypeCode(), System.TypeCode IConvertible.GetTypeCode()       \n",
      "IndexOf          Method                int IndexOf(char value), int IndexOf(char value, int startIndex), int IndexOf...\n",
      "IndexOfAny       Method                int IndexOfAny(char[] anyOf), int IndexOfAny(char[] anyOf, int startIndex), i...\n",
      "Insert           Method                string Insert(int startIndex, string value)                                     \n",
      "IsNormalized     Method                bool IsNormalized(), bool IsNormalized(System.Text.NormalizationForm normaliz...\n",
      "LastIndexOf      Method                int LastIndexOf(char value), int LastIndexOf(char value, int startIndex), int...\n",
      "LastIndexOfAny   Method                int LastIndexOfAny(char[] anyOf), int LastIndexOfAny(char[] anyOf, int startI...\n",
      "Normalize        Method                string Normalize(), string Normalize(System.Text.NormalizationForm normalizat...\n",
      "PadLeft          Method                string PadLeft(int totalWidth), string PadLeft(int totalWidth, char paddingChar)\n",
      "PadRight         Method                string PadRight(int totalWidth), string PadRight(int totalWidth, char padding...\n",
      "Remove           Method                string Remove(int startIndex, int count), string Remove(int startIndex)         \n",
      "Replace          Method                string Replace(char oldChar, char newChar), string Replace(string oldValue, s...\n",
      "Split            Method                string[] Split(Params char[] separator), string[] Split(char[] separator, int...\n",
      "StartsWith       Method                bool StartsWith(string value), bool StartsWith(string value, System.StringCom...\n",
      "Substring        Method                string Substring(int startIndex), string Substring(int startIndex, int length)  \n",
      "ToBoolean        Method                bool IConvertible.ToBoolean(System.IFormatProvider provider)                    \n",
      "ToByte           Method                byte IConvertible.ToByte(System.IFormatProvider provider)                       \n",
      "ToChar           Method                char IConvertible.ToChar(System.IFormatProvider provider)                       \n",
      "ToCharArray      Method                char[] ToCharArray(), char[] ToCharArray(int startIndex, int length)            \n",
      "ToDateTime       Method                datetime IConvertible.ToDateTime(System.IFormatProvider provider)               \n",
      "ToDecimal        Method                decimal IConvertible.ToDecimal(System.IFormatProvider provider)                 \n",
      "ToDouble         Method                double IConvertible.ToDouble(System.IFormatProvider provider)                   \n",
      "ToInt16          Method                int16 IConvertible.ToInt16(System.IFormatProvider provider)                     \n",
      "ToInt32          Method                int IConvertible.ToInt32(System.IFormatProvider provider)                       \n",
      "ToInt64          Method                long IConvertible.ToInt64(System.IFormatProvider provider)                      \n",
      "ToLower          Method                string ToLower(), string ToLower(cultureinfo culture)                           \n",
      "ToLowerInvariant Method                string ToLowerInvariant()                                                       \n",
      "ToSByte          Method                sbyte IConvertible.ToSByte(System.IFormatProvider provider)                     \n",
      "ToSingle         Method                float IConvertible.ToSingle(System.IFormatProvider provider)                    \n",
      "ToString         Method                string ToString(), string ToString(System.IFormatProvider provider), string I...\n",
      "ToType           Method                System.Object IConvertible.ToType(type conversionType, System.IFormatProvider...\n",
      "ToUInt16         Method                uint16 IConvertible.ToUInt16(System.IFormatProvider provider)                   \n",
      "ToUInt32         Method                uint32 IConvertible.ToUInt32(System.IFormatProvider provider)                   \n",
      "ToUInt64         Method                uint64 IConvertible.ToUInt64(System.IFormatProvider provider)                   \n",
      "ToUpper          Method                string ToUpper(), string ToUpper(cultureinfo culture)                           \n",
      "ToUpperInvariant Method                string ToUpperInvariant()                                                       \n",
      "Trim             Method                string Trim(Params char[] trimChars), string Trim()                             \n",
      "TrimEnd          Method                string TrimEnd(Params char[] trimChars)                                         \n",
      "TrimStart        Method                string TrimStart(Params char[] trimChars)                                       \n",
      "Chars            ParameterizedProperty char Chars(int index) {get;}                                                    \n",
      "Length           Property              int Length {get;}                                                               \n",
      "\n",
      "\n"
     ]
    }
   ],
   "source": [
    "ipconfig | gm"
   ]
  },
  {
   "cell_type": "code",
   "execution_count": 3,
   "metadata": {},
   "outputs": [
    {
     "name": "stdout",
     "output_type": "stream",
     "text": []
    }
   ],
   "source": [
    "ipconfig | where {$_ -split \"\\r\\n\"} | set -Name ary"
   ]
  },
  {
   "cell_type": "code",
   "execution_count": 4,
   "metadata": {},
   "outputs": [
    {
     "name": "stdout",
     "output_type": "stream",
     "text": [
      "16\n"
     ]
    }
   ],
   "source": [
    "$ary.Count"
   ]
  },
  {
   "cell_type": "code",
   "execution_count": 5,
   "metadata": {},
   "outputs": [
    {
     "name": "stdout",
     "output_type": "stream",
     "text": [
      "   Connection-specific DNS Suffix  . : \n"
     ]
    }
   ],
   "source": [
    "$ary[2]"
   ]
  },
  {
   "cell_type": "code",
   "execution_count": 6,
   "metadata": {},
   "outputs": [
    {
     "name": "stdout",
     "output_type": "stream",
     "text": [
      "\n",
      "IsPublic IsSerial Name                                     BaseType                                                    \n",
      "-------- -------- ----                                     --------                                                    \n",
      "True     True     String                                   System.Object                                               \n",
      "\n",
      "\n"
     ]
    }
   ],
   "source": [
    "$ary[2].GetType()"
   ]
  },
  {
   "cell_type": "code",
   "execution_count": 7,
   "metadata": {},
   "outputs": [
    {
     "name": "stdout",
     "output_type": "stream",
     "text": [
      "   IPv4 Address. . . . . . . . . . . : 192.168.56.1\n",
      "   IPv4 Address. . . . . . . . . . . : 192.168.1.38\n"
     ]
    }
   ],
   "source": [
    "$ary | Where {$_ -like \"*IPv4*\"} "
   ]
  },
  {
   "cell_type": "code",
   "execution_count": 17,
   "metadata": {},
   "outputs": [
    {
     "name": "stdout",
     "output_type": "stream",
     "text": [
      "$ary | Where {$_ -like \"*IPv4*\"} | ForEach {$_.Split(' ') | set -Name ar; $ar[-1]} | set -name ipary\n",
      "$ipary\n",
      "192.168.56.1\n",
      "192.168.1.38\n",
      "\n"
     ]
    }
   ],
   "source": [
    "$ary | Where {$_ -like \"*IPv4*\"} | ForEach {$_.Split(' ') | set -Name ar; $ar[-1]} | set -name ipary\n",
    "$ipary"
   ]
  },
  {
   "cell_type": "code",
   "execution_count": 22,
   "metadata": {},
   "outputs": [
    {
     "name": "stdout",
     "output_type": "stream",
     "text": [
      "192.168.56.1\n",
      "192.168.1.38\n"
     ]
    }
   ],
   "source": [
    "$ipary | fl *"
   ]
  },
  {
   "cell_type": "markdown",
   "metadata": {},
   "source": [
    "## select-string"
   ]
  },
  {
   "cell_type": "code",
   "execution_count": 12,
   "metadata": {},
   "outputs": [
    {
     "name": "stdout",
     "output_type": "stream",
     "text": []
    }
   ],
   "source": [
    "ipconfig | select-string 'IPv4' | set -Name arr"
   ]
  },
  {
   "cell_type": "code",
   "execution_count": 13,
   "metadata": {},
   "outputs": [
    {
     "name": "stdout",
     "output_type": "stream",
     "text": [
      "\n",
      "   IPv4 Address. . . . . . . . . . . : 192.168.56.1\n",
      "   IPv4 Address. . . . . . . . . . . : 192.168.1.38\n",
      "\n",
      "\n"
     ]
    }
   ],
   "source": [
    "$arr"
   ]
  },
  {
   "cell_type": "code",
   "execution_count": 19,
   "metadata": {},
   "outputs": [
    {
     "name": "stdout",
     "output_type": "stream",
     "text": [
      "\n",
      "\n",
      "IgnoreCase : True\n",
      "LineNumber : 9\n",
      "Line       :    IPv4 Address. . . . . . . . . . . : 192.168.56.1\n",
      "Filename   : InputStream\n",
      "Path       : InputStream\n",
      "Pattern    : IPv4\n",
      "Context    : \n",
      "Matches    : {0}\n",
      "\n",
      "IgnoreCase : True\n",
      "LineNumber : 19\n",
      "Line       :    IPv4 Address. . . . . . . . . . . : 192.168.1.38\n",
      "Filename   : InputStream\n",
      "Path       : InputStream\n",
      "Pattern    : IPv4\n",
      "Context    : \n",
      "Matches    : {0}\n",
      "\n",
      "\n",
      "\n"
     ]
    }
   ],
   "source": [
    "$arr | fl *"
   ]
  },
  {
   "cell_type": "code",
   "execution_count": 24,
   "metadata": {},
   "outputs": [
    {
     "name": "stdout",
     "output_type": "stream",
     "text": [
      "\n",
      "\n",
      "   TypeName: Microsoft.PowerShell.Commands.MatchInfo\n",
      "\n",
      "Name         MemberType Definition                                                       \n",
      "----         ---------- ----------                                                       \n",
      "Equals       Method     bool Equals(System.Object obj)                                   \n",
      "GetHashCode  Method     int GetHashCode()                                                \n",
      "GetType      Method     type GetType()                                                   \n",
      "RelativePath Method     string RelativePath(string directory)                            \n",
      "ToString     Method     string ToString(), string ToString(string directory)             \n",
      "Context      Property   Microsoft.PowerShell.Commands.MatchInfoContext Context {get;set;}\n",
      "Filename     Property   string Filename {get;}                                           \n",
      "IgnoreCase   Property   bool IgnoreCase {get;set;}                                       \n",
      "Line         Property   string Line {get;set;}                                           \n",
      "LineNumber   Property   int LineNumber {get;set;}                                        \n",
      "Matches      Property   System.Text.RegularExpressions.Match[] Matches {get;set;}        \n",
      "Path         Property   string Path {get;set;}                                           \n",
      "Pattern      Property   string Pattern {get;set;}                                        \n",
      "\n",
      "\n"
     ]
    }
   ],
   "source": [
    "$arr | gm"
   ]
  },
  {
   "cell_type": "code",
   "execution_count": null,
   "metadata": {},
   "outputs": [],
   "source": []
  }
 ],
 "metadata": {
  "kernelspec": {
   "display_name": "PowerShell",
   "language": "powershell",
   "name": "powershell"
  },
  "language_info": {
   "codemirror_mode": "shell",
   "file_extension": ".ps1",
   "mimetype": "text/x-sh",
   "name": "powershell"
  }
 },
 "nbformat": 4,
 "nbformat_minor": 2
}
