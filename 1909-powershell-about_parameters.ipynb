{
 "cells": [
  {
   "cell_type": "markdown",
   "metadata": {},
   "source": [
    "# 1909-powershell-about_parameters"
   ]
  },
  {
   "cell_type": "markdown",
   "metadata": {},
   "source": [
    "## overview"
   ]
  },
  {
   "cell_type": "markdown",
   "metadata": {},
   "source": [
    "- powershell on jupyter notebook"
   ]
  },
  {
   "cell_type": "markdown",
   "metadata": {},
   "source": [
    "![Image from Gyazo](https://i.gyazo.com/9c23d8a166aeaa46a042f3b1f33dcf33.png)"
   ]
  },
  {
   "cell_type": "markdown",
   "metadata": {},
   "source": [
    "## jupyter notebook"
   ]
  },
  {
   "cell_type": "markdown",
   "metadata": {},
   "source": [
    "- https://nbviewer.jupyter.org/github/sakai-memoru/pwshnote/blob/master/1909-powershell-about_parameters.ipynb"
   ]
  },
  {
   "cell_type": "markdown",
   "metadata": {},
   "source": [
    "## Usage"
   ]
  },
  {
   "cell_type": "markdown",
   "metadata": {},
   "source": [
    "### Get-Help"
   ]
  },
  {
   "cell_type": "code",
   "execution_count": 68,
   "metadata": {},
   "outputs": [
    {
     "name": "stdout",
     "output_type": "stream",
     "text": [
      "\n",
      "\n",
      "Name     : about_ActivityCommonParameters\n",
      "Synopsis : Describes the parameters that Windows PowerShell\n",
      "\n",
      "Name     : about_CommonParameters\n",
      "Synopsis : Describes the parameters that can be used with any cmdlet.\n",
      "\n",
      "Name     : about_Functions_Advanced_Parameters\n",
      "Synopsis : Explains how to add parameters to advanced functions.\n",
      "\n",
      "Name     : about_Parameters\n",
      "Synopsis : Describes how to work with command parameters in Windows PowerShell.\n",
      "\n",
      "Name     : about_Parameters_Default_Values\n",
      "Synopsis : Describes how to set custom default values for the parameters of cmdlets and\n",
      "\n",
      "Name     : about_WorkflowCommonParameters\n",
      "Synopsis : This topic describes the parameters that are valid on all Windows\n",
      "\n",
      "Name     : about_ActivityCommonParameters\n",
      "Synopsis : Describes the parameters that Windows PowerShell\n",
      "\n",
      "Name     : about_WorkflowCommonParameters\n",
      "Synopsis : This topic describes the parameters that are valid on all Windows\n",
      "\n",
      "\n",
      "\n"
     ]
    }
   ],
   "source": [
    "Get-Help -Category helpfile *parameter* | select Name, Synopsis | format-list *"
   ]
  },
  {
   "cell_type": "markdown",
   "metadata": {},
   "source": [
    "- about_CommonParameters\n",
    "  + https://nbviewer.jupyter.org/github/sakai-memoru/pwshnote/blob/master/1909-powershell-about_CommonParameters.ipynb\n",
    "- about_Parameters_Default_Values\n",
    "  + https://nbviewer.jupyter.org/github/sakai-memoru/pwshnote/blob/master/1909-powershell-about_Parameters_Default_Values.ipynb\n",
    "- about_Functions_Advanced_Parameters\n",
    "  + https://nbviewer.jupyter.org/github/sakai-memoru/pwshnote/blob/master/1909-powershell-about_Functions_Advanced_Parameters.ipynb\n"
   ]
  },
  {
   "cell_type": "markdown",
   "metadata": {},
   "source": [
    "### About_Parameters"
   ]
  },
  {
   "cell_type": "code",
   "execution_count": 8,
   "metadata": {},
   "outputs": [
    {
     "name": "stdout",
     "output_type": "stream",
     "text": []
    }
   ],
   "source": [
    "Get-Help about_parameters | set -Name store"
   ]
  },
  {
   "cell_type": "code",
   "execution_count": 11,
   "metadata": {},
   "outputs": [
    {
     "name": "stdout",
     "output_type": "stream",
     "text": [
      "System.String\n"
     ]
    }
   ],
   "source": [
    "$store.GetType().Fullname"
   ]
  },
  {
   "cell_type": "code",
   "execution_count": 28,
   "metadata": {},
   "outputs": [
    {
     "name": "stdout",
     "output_type": "stream",
     "text": []
    }
   ],
   "source": [
    "$store -split \"`r`n\" | set -Name ary"
   ]
  },
  {
   "cell_type": "code",
   "execution_count": 32,
   "metadata": {},
   "outputs": [
    {
     "name": "stdout",
     "output_type": "stream",
     "text": [
      "226\n"
     ]
    }
   ],
   "source": [
    "$ary.length"
   ]
  },
  {
   "cell_type": "code",
   "execution_count": 42,
   "metadata": {},
   "outputs": [
    {
     "name": "stdout",
     "output_type": "stream",
     "text": [
      "\n",
      " DEFAULT PARAMETER VALUES\n",
      "    Optional parameters have a default value, which is the value that is used\n",
      "    or assumed when the parameter is not specified in the command. \n",
      "\n",
      "    For example, the default value of the ComputerName parameter of many cmdlets\n",
      "    is the name of the local computer. As a result, the local computer name is \n",
      "    used in the command unless the ComputerName parameter is specified.\n",
      "\n",
      "    To find the default parameter value, see help topic for the cmdlet. The \n",
      "    parameter description should include the default value.\n",
      "\n",
      "    You can also set a custom default value for any parameter of a cmdlet or \n",
      "    advanced function. For information about setting custom default values, see\n",
      "    about_Parameters_Default_Values.\n",
      "\n",
      "\n",
      " PARAMETER ATTRIBUTE TABLE\n",
      "\n",
      "    When you use the Full, Parameter, or Online parameters of the Get-Help cmdlet,\n",
      "    Get-Help displays a parameter attribute table with detailed information\n",
      "    about the parameter.\n",
      "\n",
      "    This information includes the details you need to know to use the \n",
      "    parameter. For example, the help topic for the Get-ChildItem cmdlet \n",
      "    includes the following details about its Path parameter:\n",
      "\n",
      "        -path <string[]>\n",
      "            Specifies a path of one or more locations. Wildcard characters are\n",
      "            permitted. The default location is the current directory (.).\n",
      "\n",
      "        Required?                    false\n",
      "        Position?                    1\n",
      "        Default value                Current directory\n",
      "        Accept pipeline input?       true (ByValue, ByPropertyName)\n",
      "        Accept wildcard characters?  true\n",
      "\n",
      "\n",
      "    The parameter information includes the parameter syntax,\n",
      "    a description of the parameter, and the parameter attributes.\n",
      "    The following sections describe the parameter attributes.\n",
      "\n",
      "\n",
      "  Parameter Required?\n",
      "    This setting indicates whether the parameter is mandatory, that\n",
      "    is, whether all commands that use this cmdlet must include this\n",
      "    parameter. When the value is \"True\" and the parameter is missing\n",
      "    from the command, Windows PowerShell prompts you for a value for\n",
      "    the parameter.\n"
     ]
    }
   ],
   "source": [
    "$ary[0..41]"
   ]
  },
  {
   "cell_type": "code",
   "execution_count": 48,
   "metadata": {},
   "outputs": [
    {
     "name": "stdout",
     "output_type": "stream",
     "text": [
      "\n",
      " DEFAULT PARAMETER VALUES\n",
      "    Optional parameters have a default value, which is the value that is used\n",
      "    or assumed when the parameter is not specified in the command. \n",
      "\n",
      "    For example, the default value of the ComputerName parameter of many cmdlets\n",
      "    is the name of the local computer. As a result, the local computer name is \n",
      "    used in the command unless the ComputerName parameter is specified.\n",
      "\n",
      "    To find the default parameter value, see help topic for the cmdlet. The \n",
      "    parameter description should include the default value.\n",
      "\n",
      "    You can also set a custom default value for any parameter of a cmdlet or \n",
      "    advanced function. For information about setting custom default values, see\n",
      "    about_Parameters_Default_Values.\n",
      "\n",
      "\n",
      " PARAMETER ATTRIBUTE TABLE\n",
      "\n",
      "    When you use the Full, Parameter, or Online parameters of the Get-Help cmdlet,\n",
      "    Get-Help displays a parameter attribute table with detailed information\n",
      "    about the parameter.\n",
      "\n",
      "    This information includes the details you need to know to use the \n",
      "    parameter. For example, the help topic for the Get-ChildItem cmdlet \n",
      "    includes the following details about its Path parameter:\n",
      "\n",
      "        -path <string[]>\n",
      "            Specifies a path of one or more locations. Wildcard characters are\n",
      "            permitted. The default location is the current directory (.).\n",
      "\n",
      "        Required?                    false\n",
      "        Position?                    1\n",
      "        Default value                Current directory\n",
      "        Accept pipeline input?       true (ByValue, ByPropertyName)\n",
      "        Accept wildcard characters?  true\n",
      "\n",
      "\n",
      "    The parameter information includes the parameter syntax,\n",
      "    a description of the parameter, and the parameter attributes.\n",
      "    The following sections describe the parameter attributes.\n",
      "\n"
     ]
    }
   ],
   "source": [
    "$ary[42..83]"
   ]
  },
  {
   "cell_type": "code",
   "execution_count": 54,
   "metadata": {},
   "outputs": [
    {
     "name": "stdout",
     "output_type": "stream",
     "text": [
      "\n",
      "  Parameter Required?\n",
      "    This setting indicates whether the parameter is mandatory, that\n",
      "    is, whether all commands that use this cmdlet must include this\n",
      "    parameter. When the value is \"True\" and the parameter is missing\n",
      "    from the command, Windows PowerShell prompts you for a value for\n",
      "    the parameter.\n",
      "\n",
      "\n",
      "  Parameter Position?\n",
      "    This setting indicates whether you can supply a parameter's value \n",
      "    without preceding it with the parameter name. If set to \"0\" or \"named,\" \n",
      "    a parameter name is required. This type of parameter is referred to as\n",
      "    a named parameter. A named parameter can be listed in any position \n",
      "    after the cmdlet name.\n",
      "\n",
      "\n",
      "    If the \"Parameter position?\" setting is set to an integer other than 0, \n",
      "    the parameter name is not required. This type of parameter is referred \n",
      "    to as a positional parameter, and the number indicates the position \n",
      "    in which the parameter must appear in relation to other positional \n",
      "    parameters. If you include the parameter name for a positional \n",
      "    parameter, the parameter can be listed in any position after the\n",
      "    cmdlet name.\n",
      "\n",
      "\n",
      "    For example, the Get-ChildItem cmdlet has Path and Exclude parameters. \n",
      "    The \"Parameter position?\" setting for Path is 1, which means that it\n",
      "    is a positional parameter. The \"Parameter position?\" setting for Exclude\n",
      "    is 0, which means that it is a named parameter. \n",
      "\n",
      "\n",
      "    This means that Path does not require the parameter name, but its\n",
      "    parameter value must be the first or only unnamed parameter value\n",
      "    in the command. However, because the Exclude parameter is a named \n",
      "    parameter, you can place it in any position in the command.\n",
      "\n",
      "\n",
      "    As a result of the \"Parameter position?\" settings for these two \n",
      "    parameters, you can use any of the following commands:\n",
      "\n",
      "\n",
      "        Get-ChildItem -path c:\\techdocs -exclude *.ppt\n",
      "        Get-ChildItem c:\\techdocs -exclude *.ppt\n",
      "        Get-ChildItem -exclude *.ppt -path c:\\techdocs\n",
      "        Get-ChildItem -exclude *.ppt c:\\techdocs\n",
      "\n",
      "\n",
      "    If you were to include another positional parameter without including \n",
      "    the parameter name, that parameter would have to be placed in the order \n",
      "    specified by the \"Parameter position?\" setting.\n",
      "\n"
     ]
    }
   ],
   "source": [
    "$ary[84..135]"
   ]
  },
  {
   "cell_type": "code",
   "execution_count": 74,
   "metadata": {},
   "outputs": [
    {
     "name": "stdout",
     "output_type": "stream",
     "text": [
      "\n",
      "  Parameter Type\n",
      "    This setting specifies the Microsoft .NET Framework type of the parameter \n",
      "    value. For example, if the type is Int32, the parameter value must be an\n",
      "    integer. If the type is string, the parameter value must be a \n",
      "    character string. If the string contains spaces, the value must be \n",
      "    enclosed in quotation marks, or the spaces must be preceded by the \n",
      "    escape character (`).\n",
      "\n",
      "\n",
      "  Default Value\n",
      "    This setting specifies the value that the parameter will assume\n",
      "    if no other value is provided. For example, the default value of\n",
      "    the Path parameter is often the current directory. Required\n",
      "    parameters never have a default value. For many optional parameters,\n",
      "    there is no default because the parameter has no effect if it is\n",
      "    not used. \n",
      "\n",
      "\n",
      "  Accepts Multiple Values?\n",
      "    This setting indicates whether a parameter accepts multiple\n",
      "    parameter values. When a parameter accepts multiple values,\n",
      "    you can type a comma-separated list as the value of the parameter\n",
      "    in the command, or save a comma-separated list (an array) in a\n",
      "    variable, and then specify the variable as the parameter value.\n",
      "\n",
      "\n",
      "    For example, the ServiceName parameter of the Get-Service\n",
      "    cmdlet accepts multiple values. The following commands are both valid:\n",
      "\n",
      "\n",
      "        get-service -servicename winrm, netlogon\n",
      "\n",
      "\n",
      "        $s = \"winrm\", \"netlogon\"\n",
      "        get-service -servicename $s\n",
      "\n",
      "\n",
      "  Accepts Pipeline Input?\n",
      "    This setting indicates whether you can use the pipeline operator\n",
      "    (|) to send a value to the parameter. \n",
      "\n",
      "    \n",
      "    Value                    Description\n",
      "    -----                    -----------\n",
      "    False                    Indicates that you cannot pipe a value to the \n",
      "                             parameter.\n",
      "\n",
      "\n",
      "    True (by Value)          Indicates that you can pipe any value to the \n",
      "                             parameter, just so the value has the .NET \n",
      "                             Framework type specified for the parameter or the\n",
      "                             value can be converted to the specified .NET \n",
      "                             Framework type.\n",
      "\n",
      "\n",
      "                             When a parameter is \"True (by Value)\", Windows \n",
      "                             PowerShell tries to associate any piped values \n",
      "                             with that parameter before it tries other methods\n",
      "                             to interpret the command.\n",
      "\n",
      "\n",
      "    True (by Property Name)  Indicates that you can pipe a value to the \n",
      "                             parameter, but the .NET Framework type of the \n",
      "                             parameter must include a property with the same\n",
      "                             name as the parameter.\n",
      " \n",
      "                             For example, you can pipe a value to a Name \n",
      "                             parameter only when the value has a property \n",
      "                             called \"Name\".\n"
     ]
    }
   ],
   "source": [
    "$ary[136..205]"
   ]
  },
  {
   "cell_type": "code",
   "execution_count": 76,
   "metadata": {},
   "outputs": [
    {
     "name": "stdout",
     "output_type": "stream",
     "text": [
      "\n",
      "\n",
      "  Accepts Wildcard Characters?\n",
      "    This setting indicates whether the parameter's value can contain \n",
      "    wildcard characters so that the parameter value can be matched to more \n",
      "    than one existing item in the target container.\n",
      "\n",
      "\n",
      "  Common Parameters\n",
      "    Common parameters are parameters that you can use with any cmdlet.\n",
      "    For more information about common parameters, see about_CommonParameters\n",
      "\n",
      "\n",
      "SEE ALSO\n",
      "    about_Command_syntax\n",
      "    about_Comment_Based_Help\n",
      "    about_Functions_Advanced\n",
      "    about_Parameters_Default_Values\n",
      "    about_Pipelines\n",
      "    about_Wildcards\n"
     ]
    }
   ],
   "source": [
    "$ary[206..$ary.Length]"
   ]
  },
  {
   "cell_type": "markdown",
   "metadata": {},
   "source": [
    "## SEE ALSO"
   ]
  },
  {
   "cell_type": "markdown",
   "metadata": {},
   "source": [
    "- about_Command_syntax\n",
    "  + https://nbviewer.jupyter.org/github/sakai-memoru/pwshnote/blob/master/1909-powershell-about_Command_syntax.ipynb\n",
    "- about_Comment_Based_Help\n",
    "  + https://nbviewer.jupyter.org/github/sakai-memoru/pwshnote/blob/master/1909-powershell-about_Comment_Based_Help.ipynb\n",
    "- about_Functions_Advanced\n",
    "  + https://nbviewer.jupyter.org/github/sakai-memoru/pwshnote/blob/master/1909-powershell-about_about_Functions_Advanced.ipynb\n",
    "- about_Parameters_Default_Values\n",
    "  + https://nbviewer.jupyter.org/github/sakai-memoru/pwshnote/blob/master/1909-powershell-about_about_Parameters_Default_Values.ipynb\n",
    "- about_Pipelines\n",
    "  + https://nbviewer.jupyter.org/github/sakai-memoru/pwshnote/blob/master/1909-powershell-about_Pipelines.ipynb\n",
    "- about_Wildcards\n",
    "  + https://nbviewer.jupyter.org/github/sakai-memoru/pwshnote/blob/master/1909-powershell-about_Wildcards.ipynb\n"
   ]
  },
  {
   "cell_type": "code",
   "execution_count": null,
   "metadata": {},
   "outputs": [],
   "source": []
  }
 ],
 "metadata": {
  "kernelspec": {
   "display_name": "PowerShell",
   "language": "powershell",
   "name": "powershell"
  },
  "language_info": {
   "codemirror_mode": "shell",
   "file_extension": ".ps1",
   "mimetype": "text/x-sh",
   "name": "powershell"
  }
 },
 "nbformat": 4,
 "nbformat_minor": 2
}
