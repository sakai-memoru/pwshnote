{
 "cells": [
  {
   "cell_type": "markdown",
   "metadata": {},
   "source": [
    "# 1911-Get-CommandOnModule"
   ]
  },
  {
   "cell_type": "code",
   "execution_count": 1,
   "metadata": {},
   "outputs": [
    {
     "name": "stdout",
     "output_type": "stream",
     "text": []
    }
   ],
   "source": [
    "Get-Command -Module microsoft.powershell.management | set -Name ary"
   ]
  },
  {
   "cell_type": "code",
   "execution_count": 2,
   "metadata": {},
   "outputs": [
    {
     "name": "stdout",
     "output_type": "stream",
     "text": [
      "89\n"
     ]
    }
   ],
   "source": [
    "$ary.Length"
   ]
  },
  {
   "cell_type": "code",
   "execution_count": 3,
   "metadata": {},
   "outputs": [
    {
     "name": "stdout",
     "output_type": "stream",
     "text": []
    }
   ],
   "source": [
    "$ary | sort -Property Noun, Verb | set -Name ary_sorted"
   ]
  },
  {
   "cell_type": "code",
   "execution_count": 4,
   "metadata": {},
   "outputs": [
    {
     "name": "stdout",
     "output_type": "stream",
     "text": [
      "\n",
      "Name                Module                          Noun      Verb      \n",
      "----                ------                          ----      ----      \n",
      "Get-ChildItem       microsoft.powershell.management ChildItem Get       \n",
      "Get-Clipboard       microsoft.powershell.management Clipboard Get       \n",
      "Set-Clipboard       microsoft.powershell.management Clipboard Set       \n",
      "Add-Computer        microsoft.powershell.management Computer  Add       \n",
      "Checkpoint-Computer microsoft.powershell.management Computer  Checkpoint\n",
      "Remove-Computer     microsoft.powershell.management Computer  Remove    \n",
      "\n",
      "\n"
     ]
    }
   ],
   "source": [
    "$ary_sorted[0..5] | select Name, Module, Noun, Verb"
   ]
  },
  {
   "cell_type": "code",
   "execution_count": 5,
   "metadata": {},
   "outputs": [
    {
     "name": "stdout",
     "output_type": "stream",
     "text": [
      "$map = @{}\n",
      "\n",
      "foreach($a in $ary_sorted)\n",
      ">> {\n",
      ">>   if($map.ContainsKey($a.Noun))\n",
      ">>   {\n",
      ">>     $map[$a.Noun] += $a.Verb\n",
      ">>   }\n",
      ">>   else\n",
      ">>   {\n",
      ">>     $map.Add($a.Noun, @($a.Verb))\n",
      ">>   }\n",
      ">> }\n",
      ">> \n"
     ]
    }
   ],
   "source": [
    "$map = @{}\n",
    "\n",
    "foreach($a in $ary_sorted)\n",
    "{\n",
    "  if($map.ContainsKey($a.Noun))\n",
    "  {\n",
    "    $map[$a.Noun] += $a.Verb\n",
    "  }\n",
    "  else\n",
    "  {\n",
    "    $map.Add($a.Noun, @($a.Verb))\n",
    "  }\n",
    "}"
   ]
  },
  {
   "cell_type": "code",
   "execution_count": 6,
   "metadata": {},
   "outputs": [
    {
     "name": "stdout",
     "output_type": "stream",
     "text": [
      "\n",
      "Name                           Value                                                                                   \n",
      "----                           -----                                                                                   \n",
      "PSProvider                     {Get}                                                                                   \n",
      "Connection                     {Test}                                                                                  \n",
      "ComputerRestorePoint           {Get}                                                                                   \n",
      "ComputerSecureChannel          {Test}                                                                                  \n",
      "ComputerMachinePassword        {Reset}                                                                                 \n",
      "Content                        {Add, Clear, Get, Set}                                                                  \n",
      "WebServiceProxy                {New}                                                                                   \n",
      "Path                           {Convert, Join, Resolve, Split...}                                                      \n",
      "WmiObject                      {Get, Remove}                                                                           \n",
      "TimeZone                       {Get, Set}                                                                              \n",
      "Service                        {Get, New, Restart, Resume...}                                                          \n",
      "Location                       {Get, Pop, Push, Set}                                                                   \n",
      "Computer                       {Add, Checkpoint, Remove, Rename...}                                                    \n",
      "Clipboard                      {Get, Set}                                                                              \n",
      "ComputerInfo                   {Get}                                                                                   \n",
      "ChildItem                      {Get}                                                                                   \n",
      "ItemPropertyValue              {Get}                                                                                   \n",
      "RecycleBin                     {Clear}                                                                                 \n",
      "WmiInstance                    {Set}                                                                                   \n",
      "PSDrive                        {Get, New, Remove}                                                                      \n",
      "WmiMethod                      {Invoke}                                                                                \n",
      "EventLog                       {Clear, Get, Limit, New...}                                                             \n",
      "Transaction                    {Complete, Get, Start, Undo...}                                                         \n",
      "ControlPanelItem               {Get, Show}                                                                             \n",
      "ComputerRestore                {Disable, Enable}                                                                       \n",
      "Item                           {Clear, Copy, Get, Invoke...}                                                           \n",
      "HotFix                         {Get}                                                                                   \n",
      "Process                        {Debug, Get, Start, Stop...}                                                            \n",
      "WmiEvent                       {Register}                                                                              \n",
      "ItemProperty                   {Clear, Copy, Get, Move...}                                                             \n",
      "\n",
      "\n"
     ]
    }
   ],
   "source": [
    "$map"
   ]
  },
  {
   "cell_type": "code",
   "execution_count": 7,
   "metadata": {},
   "outputs": [
    {
     "name": "stdout",
     "output_type": "stream",
     "text": [
      "$map | fl *\n",
      "\n",
      "\n",
      "Name  : PSProvider\n",
      "Key   : PSProvider\n",
      "Value : {Get}\n",
      "\n",
      "Name  : Connection\n",
      "Key   : Connection\n",
      "Value : {Test}\n",
      "\n",
      "Name  : ComputerRestorePoint\n",
      "Key   : ComputerRestorePoint\n",
      "Value : {Get}\n",
      "\n",
      "Name  : ComputerSecureChannel\n",
      "Key   : ComputerSecureChannel\n",
      "Value : {Test}\n",
      "\n",
      "Name  : ComputerMachinePassword\n",
      "Key   : ComputerMachinePassword\n",
      "Value : {Reset}\n",
      "\n",
      "Name  : Content\n",
      "Key   : Content\n",
      "Value : {Add, Clear, Get, Set}\n",
      "\n",
      "Name  : WebServiceProxy\n",
      "Key   : WebServiceProxy\n",
      "Value : {New}\n",
      "\n",
      "Name  : Path\n",
      "Key   : Path\n",
      "Value : {Convert, Join, Resolve, Split...}\n",
      "\n",
      "Name  : WmiObject\n",
      "Key   : WmiObject\n",
      "Value : {Get, Remove}\n",
      "\n",
      "Name  : TimeZone\n",
      "Key   : TimeZone\n",
      "Value : {Get, Set}\n",
      "\n",
      "Name  : Service\n",
      "Key   : Service\n",
      "Value : {Get, New, Restart, Resume...}\n",
      "\n",
      "Name  : Location\n",
      "Key   : Location\n",
      "Value : {Get, Pop, Push, Set}\n",
      "\n",
      "Name  : Computer\n",
      "Key   : Computer\n",
      "Value : {Add, Checkpoint, Remove, Rename...}\n",
      "\n",
      "Name  : Clipboard\n",
      "Key   : Clipboard\n",
      "Value : {Get, Set}\n",
      "\n",
      "Name  : ComputerInfo\n",
      "Key   : ComputerInfo\n",
      "Value : {Get}\n",
      "\n",
      "Name  : ChildItem\n",
      "Key   : ChildItem\n",
      "Value : {Get}\n",
      "\n",
      "Name  : ItemPropertyValue\n",
      "Key   : ItemPropertyValue\n",
      "Value : {Get}\n",
      "\n",
      "Name  : RecycleBin\n",
      "Key   : RecycleBin\n",
      "Value : {Clear}\n",
      "\n",
      "Name  : WmiInstance\n",
      "Key   : WmiInstance\n",
      "Value : {Set}\n",
      "\n",
      "Name  : PSDrive\n",
      "Key   : PSDrive\n",
      "Value : {Get, New, Remove}\n",
      "\n",
      "Name  : WmiMethod\n",
      "Key   : WmiMethod\n",
      "Value : {Invoke}\n",
      "\n",
      "Name  : EventLog\n",
      "Key   : EventLog\n",
      "Value : {Clear, Get, Limit, New...}\n",
      "\n",
      "Name  : Transaction\n",
      "Key   : Transaction\n",
      "Value : {Complete, Get, Start, Undo...}\n",
      "\n",
      "Name  : ControlPanelItem\n",
      "Key   : ControlPanelItem\n",
      "Value : {Get, Show}\n",
      "\n",
      "Name  : ComputerRestore\n",
      "Key   : ComputerRestore\n",
      "Value : {Disable, Enable}\n",
      "\n",
      "Name  : Item\n",
      "Key   : Item\n",
      "Value : {Clear, Copy, Get, Invoke...}\n",
      "\n",
      "Name  : HotFix\n",
      "Key   : HotFix\n",
      "Value : {Get}\n",
      "\n",
      "Name  : Process\n",
      "Key   : Process\n",
      "Value : {Debug, Get, Start, Stop...}\n",
      "\n",
      "Name  : WmiEvent\n",
      "Key   : WmiEvent\n",
      "Value : {Register}\n",
      "\n",
      "Name  : ItemProperty\n",
      "Key   : ItemProperty\n",
      "Value : {Clear, Copy, Get, Move...}\n",
      "\n",
      "\n",
      "\n",
      "\n",
      "\n"
     ]
    }
   ],
   "source": [
    "$map | fl *\n"
   ]
  },
  {
   "cell_type": "code",
   "execution_count": 8,
   "metadata": {},
   "outputs": [
    {
     "name": "stdout",
     "output_type": "stream",
     "text": [
      "\n",
      "Name                           Value                                                                                   \n",
      "----                           -----                                                                                   \n",
      "ChildItem                      {Get}                                                                                   \n",
      "Clipboard                      {Get, Set}                                                                              \n",
      "Computer                       {Add, Checkpoint, Remove, Rename...}                                                    \n",
      "ComputerInfo                   {Get}                                                                                   \n",
      "ComputerMachinePassword        {Reset}                                                                                 \n",
      "ComputerRestore                {Disable, Enable}                                                                       \n",
      "ComputerRestorePoint           {Get}                                                                                   \n",
      "ComputerSecureChannel          {Test}                                                                                  \n",
      "Connection                     {Test}                                                                                  \n",
      "Content                        {Add, Clear, Get, Set}                                                                  \n",
      "ControlPanelItem               {Get, Show}                                                                             \n",
      "EventLog                       {Clear, Get, Limit, New...}                                                             \n",
      "HotFix                         {Get}                                                                                   \n",
      "Item                           {Clear, Copy, Get, Invoke...}                                                           \n",
      "ItemProperty                   {Clear, Copy, Get, Move...}                                                             \n",
      "ItemPropertyValue              {Get}                                                                                   \n",
      "Location                       {Get, Pop, Push, Set}                                                                   \n",
      "Path                           {Convert, Join, Resolve, Split...}                                                      \n",
      "Process                        {Debug, Get, Start, Stop...}                                                            \n",
      "PSDrive                        {Get, New, Remove}                                                                      \n",
      "PSProvider                     {Get}                                                                                   \n",
      "RecycleBin                     {Clear}                                                                                 \n",
      "Service                        {Get, New, Restart, Resume...}                                                          \n",
      "TimeZone                       {Get, Set}                                                                              \n",
      "Transaction                    {Complete, Get, Start, Undo...}                                                         \n",
      "WebServiceProxy                {New}                                                                                   \n",
      "WmiEvent                       {Register}                                                                              \n",
      "WmiInstance                    {Set}                                                                                   \n",
      "WmiMethod                      {Invoke}                                                                                \n",
      "WmiObject                      {Get, Remove}                                                                           \n",
      "\n",
      "\n"
     ]
    }
   ],
   "source": [
    "$map.GetEnumerator() | sort -Property Key"
   ]
  },
  {
   "cell_type": "code",
   "execution_count": null,
   "metadata": {},
   "outputs": [],
   "source": [
    "\n"
   ]
  }
 ],
 "metadata": {
  "kernelspec": {
   "display_name": "PowerShell",
   "language": "powershell",
   "name": "powershell"
  },
  "language_info": {
   "codemirror_mode": "shell",
   "file_extension": ".ps1",
   "mimetype": "text/x-sh",
   "name": "powershell"
  }
 },
 "nbformat": 4,
 "nbformat_minor": 2
}
