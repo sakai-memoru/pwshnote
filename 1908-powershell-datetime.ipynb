{
 "cells": [
  {
   "cell_type": "markdown",
   "metadata": {},
   "source": [
    "# 1908-powershell-datetime"
   ]
  },
  {
   "cell_type": "markdown",
   "metadata": {},
   "source": [
    "## jupyter notebook"
   ]
  },
  {
   "cell_type": "markdown",
   "metadata": {},
   "source": [
    "- https://nbviewer.jupyter.org/github/sakai-memoru/pwshnote/blob/master/1908-powershell-array.ipynb"
   ]
  },
  {
   "cell_type": "markdown",
   "metadata": {},
   "source": [
    "## logs"
   ]
  },
  {
   "cell_type": "markdown",
   "metadata": {},
   "source": [
    "### Basic"
   ]
  },
  {
   "cell_type": "code",
   "execution_count": 1,
   "metadata": {},
   "outputs": [
    {
     "name": "stdout",
     "output_type": "stream",
     "text": []
    }
   ],
   "source": [
    "Get-Date"
   ]
  },
  {
   "cell_type": "code",
   "execution_count": 2,
   "metadata": {},
   "outputs": [
    {
     "name": "stdout",
     "output_type": "stream",
     "text": [
      "\n",
      "30 August 2019 19:56:23\n",
      "\n",
      "\n",
      "Get-Date -format \"yy/MM/dd hh:mm\"\n",
      "19/08/30 07:56\n"
     ]
    }
   ],
   "source": [
    "Get-Date -format \"yy/MM/dd hh:mm\""
   ]
  },
  {
   "cell_type": "code",
   "execution_count": 3,
   "metadata": {},
   "outputs": [
    {
     "name": "stdout",
     "output_type": "stream",
     "text": [
      "190830_0756\n"
     ]
    }
   ],
   "source": [
    "Get-Date -format \"yyMMdd_hhmm\""
   ]
  },
  {
   "cell_type": "markdown",
   "metadata": {},
   "source": [
    "### Get-Help "
   ]
  },
  {
   "cell_type": "code",
   "execution_count": 4,
   "metadata": {},
   "outputs": [
    {
     "name": "stdout",
     "output_type": "stream",
     "text": [
      "\n",
      "NAME\n",
      "    Get-Date\n",
      "    \n",
      "SYNOPSIS\n",
      "    Gets the current date and time.\n",
      "    \n",
      "    \n",
      "SYNTAX\n",
      "    Get-Date [[-Date] <DateTime>] [-Day <Int32>] [-DisplayHint {Date | Time | DateTime}] [-Format <String>] [-Hour \n",
      "    <Int32>] [-Millisecond <Int32>] [-Minute <Int32>] [-Month <Int32>] [-Second <Int32>] [-Year <Int32>] \n",
      "    [<CommonParameters>]\n",
      "    \n",
      "    Get-Date [[-Date] <DateTime>] [-Day <Int32>] [-DisplayHint {Date | Time | DateTime}] [-Hour <Int32>] [-Millisecond \n",
      "    <Int32>] [-Minute <Int32>] [-Month <Int32>] [-Second <Int32>] [-UFormat <String>] [-Year <Int32>] \n",
      "    [<CommonParameters>]\n",
      "    \n",
      "    \n",
      "DESCRIPTION\n",
      "    The Get-Date cmdlet gets a DateTime object that represents the current date or a date that you specify. It can \n",
      "    format the date and time in several Windows and UNIX formats. You can use Get-Date to generate a date or time \n",
      "    character string, and then send the string to other cmdlets or programs.\n",
      "    \n",
      "\n",
      "RELATED LINKS\n",
      "    Online Version: http://go.microsoft.com/fwlink/?LinkId=821781\n",
      "    New-TimeSpan \n",
      "    Set-Date \n",
      "\n",
      "REMARKS\n",
      "    To see the examples, type: \"get-help Get-Date -examples\".\n",
      "    For more information, type: \"get-help Get-Date -detailed\".\n",
      "    For technical information, type: \"get-help Get-Date -full\".\n",
      "    For online help, type: \"get-help Get-Date -online\"\n",
      "\n",
      "\n"
     ]
    }
   ],
   "source": [
    "Get-Help Get-Date"
   ]
  },
  {
   "cell_type": "markdown",
   "metadata": {},
   "source": [
    "### [datetime]"
   ]
  },
  {
   "cell_type": "code",
   "execution_count": 5,
   "metadata": {},
   "outputs": [
    {
     "name": "stdout",
     "output_type": "stream",
     "text": []
    }
   ],
   "source": [
    "$dtm = Get-Date"
   ]
  },
  {
   "cell_type": "code",
   "execution_count": 6,
   "metadata": {},
   "outputs": [
    {
     "name": "stdout",
     "output_type": "stream",
     "text": [
      "\n",
      "\n",
      "   TypeName: System.DateTime\n",
      "\n",
      "Name                 MemberType Definition                                                                             \n",
      "----                 ---------- ----------                                                                             \n",
      "Add                  Method     datetime Add(timespan value)                                                           \n",
      "AddDays              Method     datetime AddDays(double value)                                                         \n",
      "AddHours             Method     datetime AddHours(double value)                                                        \n",
      "AddMilliseconds      Method     datetime AddMilliseconds(double value)                                                 \n",
      "AddMinutes           Method     datetime AddMinutes(double value)                                                      \n",
      "AddMonths            Method     datetime AddMonths(int months)                                                         \n",
      "AddSeconds           Method     datetime AddSeconds(double value)                                                      \n",
      "AddTicks             Method     datetime AddTicks(long value)                                                          \n",
      "AddYears             Method     datetime AddYears(int value)                                                           \n",
      "CompareTo            Method     int CompareTo(System.Object value), int CompareTo(datetime value), int IComparable.C...\n",
      "Equals               Method     bool Equals(System.Object value), bool Equals(datetime value), bool IEquatable[datet...\n",
      "GetDateTimeFormats   Method     string[] GetDateTimeFormats(), string[] GetDateTimeFormats(System.IFormatProvider pr...\n",
      "GetHashCode          Method     int GetHashCode()                                                                      \n",
      "GetObjectData        Method     void ISerializable.GetObjectData(System.Runtime.Serialization.SerializationInfo info...\n",
      "GetType              Method     type GetType()                                                                         \n",
      "GetTypeCode          Method     System.TypeCode GetTypeCode(), System.TypeCode IConvertible.GetTypeCode()              \n",
      "IsDaylightSavingTime Method     bool IsDaylightSavingTime()                                                            \n",
      "Subtract             Method     timespan Subtract(datetime value), datetime Subtract(timespan value)                   \n",
      "ToBinary             Method     long ToBinary()                                                                        \n",
      "ToBoolean            Method     bool IConvertible.ToBoolean(System.IFormatProvider provider)                           \n",
      "ToByte               Method     byte IConvertible.ToByte(System.IFormatProvider provider)                              \n",
      "ToChar               Method     char IConvertible.ToChar(System.IFormatProvider provider)                              \n",
      "ToDateTime           Method     datetime IConvertible.ToDateTime(System.IFormatProvider provider)                      \n",
      "ToDecimal            Method     decimal IConvertible.ToDecimal(System.IFormatProvider provider)                        \n",
      "ToDouble             Method     double IConvertible.ToDouble(System.IFormatProvider provider)                          \n",
      "ToFileTime           Method     long ToFileTime()                                                                      \n",
      "ToFileTimeUtc        Method     long ToFileTimeUtc()                                                                   \n",
      "ToInt16              Method     int16 IConvertible.ToInt16(System.IFormatProvider provider)                            \n",
      "ToInt32              Method     int IConvertible.ToInt32(System.IFormatProvider provider)                              \n",
      "ToInt64              Method     long IConvertible.ToInt64(System.IFormatProvider provider)                             \n",
      "ToLocalTime          Method     datetime ToLocalTime()                                                                 \n",
      "ToLongDateString     Method     string ToLongDateString()                                                              \n",
      "ToLongTimeString     Method     string ToLongTimeString()                                                              \n",
      "ToOADate             Method     double ToOADate()                                                                      \n",
      "ToSByte              Method     sbyte IConvertible.ToSByte(System.IFormatProvider provider)                            \n",
      "ToShortDateString    Method     string ToShortDateString()                                                             \n",
      "ToShortTimeString    Method     string ToShortTimeString()                                                             \n",
      "ToSingle             Method     float IConvertible.ToSingle(System.IFormatProvider provider)                           \n",
      "ToString             Method     string ToString(), string ToString(string format), string ToString(System.IFormatPro...\n",
      "ToType               Method     System.Object IConvertible.ToType(type conversionType, System.IFormatProvider provider)\n",
      "ToUInt16             Method     uint16 IConvertible.ToUInt16(System.IFormatProvider provider)                          \n",
      "ToUInt32             Method     uint32 IConvertible.ToUInt32(System.IFormatProvider provider)                          \n",
      "ToUInt64             Method     uint64 IConvertible.ToUInt64(System.IFormatProvider provider)                          \n",
      "ToUniversalTime      Method     datetime ToUniversalTime()                                                             \n",
      "\n",
      "\n"
     ]
    }
   ],
   "source": [
    "$dtm | Get-Member -MemberType Method"
   ]
  },
  {
   "cell_type": "code",
   "execution_count": 7,
   "metadata": {},
   "outputs": [
    {
     "name": "stdout",
     "output_type": "stream",
     "text": [
      "\n",
      "\n",
      "   TypeName: System.DateTime\n",
      "\n",
      "Name        MemberType Definition                       \n",
      "----        ---------- ----------                       \n",
      "Date        Property   datetime Date {get;}             \n",
      "Day         Property   int Day {get;}                   \n",
      "DayOfWeek   Property   System.DayOfWeek DayOfWeek {get;}\n",
      "DayOfYear   Property   int DayOfYear {get;}             \n",
      "Hour        Property   int Hour {get;}                  \n",
      "Kind        Property   System.DateTimeKind Kind {get;}  \n",
      "Millisecond Property   int Millisecond {get;}           \n",
      "Minute      Property   int Minute {get;}                \n",
      "Month       Property   int Month {get;}                 \n",
      "Second      Property   int Second {get;}                \n",
      "Ticks       Property   long Ticks {get;}                \n",
      "TimeOfDay   Property   timespan TimeOfDay {get;}        \n",
      "Year        Property   int Year {get;}                  \n",
      "\n",
      "\n"
     ]
    }
   ],
   "source": [
    "$dtm | Get-Member -MemberType Property"
   ]
  },
  {
   "cell_type": "markdown",
   "metadata": {},
   "source": [
    "### Get-Command"
   ]
  },
  {
   "cell_type": "code",
   "execution_count": 8,
   "metadata": {},
   "outputs": [
    {
     "name": "stdout",
     "output_type": "stream",
     "text": [
      "\n",
      "CommandType     Name                                               Version    Source                                   \n",
      "-----------     ----                                               -------    ------                                   \n",
      "Cmdlet          Get-Date                                           3.1.0.0    Microsoft.PowerShell.Utility             \n",
      "Cmdlet          Set-Date                                           3.1.0.0    Microsoft.PowerShell.Utility             \n",
      "\n",
      "\n"
     ]
    }
   ],
   "source": [
    "Get-Command -Noun Date"
   ]
  },
  {
   "cell_type": "markdown",
   "metadata": {},
   "source": [
    "### formatting"
   ]
  },
  {
   "cell_type": "code",
   "execution_count": 9,
   "metadata": {},
   "outputs": [
    {
     "name": "stdout",
     "output_type": "stream",
     "text": [
      "d, 30/08/2019\n",
      "D, 30 August 2019\n",
      "f, 30 August 2019 19:56\n",
      "F, 30 August 2019 19:56:24\n",
      "g, 30/08/2019 19:56\n",
      "G, 30/08/2019 19:56:24\n",
      "M, 30 August\n",
      "O, 2019-08-30T19:56:24.7124409+09:00\n",
      "R, Fri, 30 Aug 2019 19:56:24 GMT\n",
      "s, 2019-08-30T19:56:24\n",
      "t, 19:56\n",
      "T, 19:56:24\n",
      "u, 2019-08-30 19:56:24Z\n",
      "U, 30 August 2019 10:56:24\n",
      "Y, August 2019\n"
     ]
    }
   ],
   "source": [
    "@(\"d\",\"D\",\"f\",\"F\",\"g\",\"G\",\"M\",\"O\",\"R\",\"s\",\"t\",\"T\",\"u\",\"U\",\"Y\") | %{$date=Get-Date -F $_ ;\"$_, $date\"}"
   ]
  },
  {
   "cell_type": "code",
   "execution_count": 10,
   "metadata": {},
   "outputs": [
    {
     "name": "stdout",
     "output_type": "stream",
     "text": [
      "2019/08/30 19:56:24.843730\n"
     ]
    }
   ],
   "source": [
    "Get-Date -F 'yyyy/MM/dd HH:mm:ss.ffffff'"
   ]
  },
  {
   "cell_type": "code",
   "execution_count": 11,
   "metadata": {},
   "outputs": [
    {
     "name": "stdout",
     "output_type": "stream",
     "text": [
      "20190830_195624.9176118_GMT+0900\n"
     ]
    }
   ],
   "source": [
    "(Get-Date -F O).Replace('-','').Replace('T','_').Replace(':','').Replace('+','_GMT+')"
   ]
  },
  {
   "cell_type": "markdown",
   "metadata": {},
   "source": [
    "### str -> datetime\n"
   ]
  },
  {
   "cell_type": "code",
   "execution_count": 12,
   "metadata": {},
   "outputs": [
    {
     "name": "stdout",
     "output_type": "stream",
     "text": [
      "\n",
      "29 August 2019 00:00:00\n",
      "\n",
      "\n"
     ]
    }
   ],
   "source": [
    "Get-Date '2019/08/29'"
   ]
  },
  {
   "cell_type": "code",
   "execution_count": 13,
   "metadata": {},
   "outputs": [
    {
     "name": "stdout",
     "output_type": "stream",
     "text": [
      "\n",
      "28 August 2019 22:12:00\n",
      "\n",
      "\n"
     ]
    }
   ],
   "source": [
    "Get-Date '2019/08/28 22:12'"
   ]
  },
  {
   "cell_type": "markdown",
   "metadata": {},
   "source": [
    "### timespan "
   ]
  },
  {
   "cell_type": "code",
   "execution_count": 14,
   "metadata": {},
   "outputs": [
    {
     "name": "stdout",
     "output_type": "stream",
     "text": [
      "\n",
      "NAME\n",
      "    New-TimeSpan\n",
      "    \n",
      "SYNOPSIS\n",
      "    Creates a TimeSpan object.\n",
      "    \n",
      "    \n",
      "SYNTAX\n",
      "    New-TimeSpan [-Days <Int32>] [-Hours <Int32>] [-Minutes <Int32>] [-Seconds <Int32>] [<CommonParameters>]\n",
      "    \n",
      "    New-TimeSpan [[-Start] <DateTime>] [[-End] <DateTime>] [<CommonParameters>]\n",
      "    \n",
      "    \n",
      "DESCRIPTION\n",
      "    The New-TimeSpan cmdlet creates a TimeSpan object that represents a time interval. You can use a TimeSpan object \n",
      "    to add or subtract time from DateTime objects.\n",
      "    \n",
      "    Without parameters, a New-Timespan command returns a timespan object that represents a time interval of zero.\n",
      "    \n",
      "\n",
      "RELATED LINKS\n",
      "    Online Version: http://go.microsoft.com/fwlink/?LinkId=821837\n",
      "    Get-Date \n",
      "    Set-Date \n",
      "\n",
      "REMARKS\n",
      "    To see the examples, type: \"get-help New-TimeSpan -examples\".\n",
      "    For more information, type: \"get-help New-TimeSpan -detailed\".\n",
      "    For technical information, type: \"get-help New-TimeSpan -full\".\n",
      "    For online help, type: \"get-help New-TimeSpan -online\"\n",
      "\n",
      "\n"
     ]
    }
   ],
   "source": [
    "Get-Help New-Timespan"
   ]
  },
  {
   "cell_type": "code",
   "execution_count": 15,
   "metadata": {},
   "outputs": [
    {
     "name": "stdout",
     "output_type": "stream",
     "text": [
      "\n",
      "CommandType     Name                                               Version    Source                                   \n",
      "-----------     ----                                               -------    ------                                   \n",
      "Cmdlet          New-TimeSpan                                       3.1.0.0    Microsoft.PowerShell.Utility             \n",
      "\n",
      "\n"
     ]
    }
   ],
   "source": [
    "Get-Command -Noun Timespan"
   ]
  },
  {
   "cell_type": "code",
   "execution_count": 16,
   "metadata": {},
   "outputs": [
    {
     "name": "stdout",
     "output_type": "stream",
     "text": []
    }
   ],
   "source": [
    "$timespn = New-Timespan"
   ]
  },
  {
   "cell_type": "code",
   "execution_count": 17,
   "metadata": {},
   "outputs": [
    {
     "name": "stdout",
     "output_type": "stream",
     "text": [
      "\n",
      "\n",
      "   TypeName: System.TimeSpan\n",
      "\n",
      "Name        MemberType Definition                                                                                      \n",
      "----        ---------- ----------                                                                                      \n",
      "Add         Method     timespan Add(timespan ts)                                                                       \n",
      "CompareTo   Method     int CompareTo(System.Object value), int CompareTo(timespan value), int IComparable.CompareTo(...\n",
      "Duration    Method     timespan Duration()                                                                             \n",
      "Equals      Method     bool Equals(System.Object value), bool Equals(timespan obj), bool IEquatable[timespan].Equals...\n",
      "GetHashCode Method     int GetHashCode()                                                                               \n",
      "GetType     Method     type GetType()                                                                                  \n",
      "Negate      Method     timespan Negate()                                                                               \n",
      "Subtract    Method     timespan Subtract(timespan ts)                                                                  \n",
      "ToString    Method     string ToString(), string ToString(string format), string ToString(string format, System.IFor...\n",
      "\n",
      "\n"
     ]
    }
   ],
   "source": [
    "$timespn | Get-Member -MemberType Method"
   ]
  },
  {
   "cell_type": "code",
   "execution_count": 18,
   "metadata": {},
   "outputs": [
    {
     "name": "stdout",
     "output_type": "stream",
     "text": [
      "\n",
      "\n",
      "   TypeName: System.TimeSpan\n",
      "\n",
      "Name              MemberType Definition                     \n",
      "----              ---------- ----------                     \n",
      "Days              Property   int Days {get;}                \n",
      "Hours             Property   int Hours {get;}               \n",
      "Milliseconds      Property   int Milliseconds {get;}        \n",
      "Minutes           Property   int Minutes {get;}             \n",
      "Seconds           Property   int Seconds {get;}             \n",
      "Ticks             Property   long Ticks {get;}              \n",
      "TotalDays         Property   double TotalDays {get;}        \n",
      "TotalHours        Property   double TotalHours {get;}       \n",
      "TotalMilliseconds Property   double TotalMilliseconds {get;}\n",
      "TotalMinutes      Property   double TotalMinutes {get;}     \n",
      "TotalSeconds      Property   double TotalSeconds {get;}     \n",
      "\n",
      "\n"
     ]
    }
   ],
   "source": [
    "$timespn | Get-Member -MemberType Property"
   ]
  },
  {
   "cell_type": "code",
   "execution_count": 19,
   "metadata": {},
   "outputs": [
    {
     "name": "stdout",
     "output_type": "stream",
     "text": [
      "$dtm_begin = Get-Date '2019/08/30 13:32'\n",
      "$dtm_end = Get-Date '2019/08/30 17:09'\n",
      "$span = New-Timespan $dtm_begin $dtm_end\n",
      "\n"
     ]
    }
   ],
   "source": [
    "$dtm_begin = Get-Date '2019/08/30 13:32'\n",
    "$dtm_end = Get-Date '2019/08/30 17:09'\n",
    "$span = New-Timespan $dtm_begin $dtm_end"
   ]
  },
  {
   "cell_type": "code",
   "execution_count": 20,
   "metadata": {},
   "outputs": [
    {
     "name": "stdout",
     "output_type": "stream",
     "text": [
      "\n",
      "\n",
      "Days              : 0\n",
      "Hours             : 3\n",
      "Minutes           : 37\n",
      "Seconds           : 0\n",
      "Milliseconds      : 0\n",
      "Ticks             : 130200000000\n",
      "TotalDays         : 0.150694444444444\n",
      "TotalHours        : 3.61666666666667\n",
      "TotalMinutes      : 217\n",
      "TotalSeconds      : 13020\n",
      "TotalMilliseconds : 13020000\n",
      "\n",
      "\n",
      "\n"
     ]
    }
   ],
   "source": [
    "$span | format-list"
   ]
  },
  {
   "cell_type": "code",
   "execution_count": 21,
   "metadata": {},
   "outputs": [
    {
     "name": "stdout",
     "output_type": "stream",
     "text": [
      "3:37:00\n"
     ]
    }
   ],
   "source": [
    "'{0:g}' -f $span"
   ]
  },
  {
   "cell_type": "code",
   "execution_count": 22,
   "metadata": {},
   "outputs": [
    {
     "name": "stdout",
     "output_type": "stream",
     "text": [
      "$str = '{0:g}' -f $span\n",
      "$str.Substring(0, $str.length -3)\n",
      "3:37\n",
      "\n"
     ]
    }
   ],
   "source": [
    "$str = '{0:g}' -f $span\n",
    "$str.Substring(0, $str.length -3)"
   ]
  },
  {
   "cell_type": "code",
   "execution_count": 30,
   "metadata": {},
   "outputs": [
    {
     "name": "stdout",
     "output_type": "stream",
     "text": [
      "$dtm_begin2 = Get-Date '2019/08/30 16:44'\n",
      "$dtm_end2 = Get-Date '2019/08/30 17:09'\n",
      "$span2 = New-Timespan $dtm_begin2 $dtm_end2\n",
      "$str2 = '{0:g}' -f $span2\n",
      "$str2.Substring(0, $str2.length -3)\n",
      "0:25\n",
      "\n"
     ]
    }
   ],
   "source": [
    "$dtm_begin2 = Get-Date '2019/08/30 16:44'\n",
    "$dtm_end2 = Get-Date '2019/08/30 17:09'\n",
    "$span2 = New-Timespan $dtm_begin2 $dtm_end2\n",
    "$str2 = '{0:g}' -f $span2\n",
    "$str2.Substring(0, $str2.length -3)"
   ]
  },
  {
   "cell_type": "markdown",
   "metadata": {},
   "source": [
    "## reference"
   ]
  },
  {
   "cell_type": "markdown",
   "metadata": {},
   "source": [
    "- 【PowerShell】TimeSpanオブジェクトを作成する \n",
    "  + https://hosopro.blogspot.com/2016/12/powershell-new-timespan.html"
   ]
  },
  {
   "cell_type": "markdown",
   "metadata": {},
   "source": [
    "- Use PowerShell and Conditional Formatting to Format Time Spans\n",
    "  - https://devblogs.microsoft.com/scripting/use-powershell-and-conditional-formatting-to-format-time-spans/"
   ]
  },
  {
   "cell_type": "markdown",
   "metadata": {},
   "source": [
    "- PowerShellのGet-Date -Formatで出力される標準の書式指定結果一覧 \n",
    "  + https://tech.guitarrapc.com/entry/2013/01/23/120129"
   ]
  }
 ],
 "metadata": {
  "kernelspec": {
   "display_name": "PowerShell",
   "language": "powershell",
   "name": "powershell"
  },
  "language_info": {
   "codemirror_mode": "shell",
   "file_extension": ".ps1",
   "mimetype": "text/x-sh",
   "name": "powershell"
  }
 },
 "nbformat": 4,
 "nbformat_minor": 2
}
