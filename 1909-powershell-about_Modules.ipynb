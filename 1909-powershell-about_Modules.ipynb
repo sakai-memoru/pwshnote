{
 "cells": [
  {
   "cell_type": "markdown",
   "metadata": {},
   "source": [
    "# 1909-powershell-about_Modules"
   ]
  },
  {
   "cell_type": "markdown",
   "metadata": {},
   "source": [
    "## overview"
   ]
  },
  {
   "cell_type": "markdown",
   "metadata": {},
   "source": [
    "- about_Modules"
   ]
  },
  {
   "cell_type": "markdown",
   "metadata": {},
   "source": [
    "![Image from Gyazo](https://i.gyazo.com/9c23d8a166aeaa46a042f3b1f33dcf33.png)"
   ]
  },
  {
   "cell_type": "markdown",
   "metadata": {},
   "source": [
    "## jupyter notebook"
   ]
  },
  {
   "cell_type": "markdown",
   "metadata": {},
   "source": [
    "- https://nbviewer.jupyter.org/github/sakai-memoru/pwshnote/blob/master/1909-powershell-about_Modules.ipynb"
   ]
  },
  {
   "cell_type": "markdown",
   "metadata": {},
   "source": [
    "## Usage"
   ]
  },
  {
   "cell_type": "markdown",
   "metadata": {},
   "source": [
    "### Get-Help"
   ]
  },
  {
   "cell_type": "code",
   "execution_count": 1,
   "metadata": {},
   "outputs": [
    {
     "name": "stdout",
     "output_type": "stream",
     "text": [
      "\n",
      "\n",
      "Name     : about_Modules\n",
      "Synopsis : Explains how to install, import, and use Windows PowerShell modules.\n",
      "\n",
      "\n",
      "\n"
     ]
    }
   ],
   "source": [
    "Get-Help -Category helpfile about_Modules | select Name, Synopsis | format-list *"
   ]
  },
  {
   "cell_type": "code",
   "execution_count": 4,
   "metadata": {},
   "outputs": [
    {
     "name": "stdout",
     "output_type": "stream",
     "text": [
      "Get-Help about_Modules -online\n",
      "Get-Help : The online version of this Help topic cannot be displayed because the Internet address (URI) of the Help \n",
      "topic is not specified in the command code or in the help file for the command.\n",
      "At line:1 char:1\n",
      "+ Get-Help about_Modules -online\n",
      "+ ~~~~~~~~~~~~~~~~~~~~~~~~~~~~~~\n",
      "    + CategoryInfo          : InvalidOperation: (:) [Get-Help], PSInvalidOperationException\n",
      "    + FullyQualifiedErrorId : InvalidOperation,Microsoft.PowerShell.Commands.GetHelpCommand\n",
      " \n",
      "\n",
      "\n"
     ]
    }
   ],
   "source": [
    "Get-Help about_Modules -online\n"
   ]
  },
  {
   "cell_type": "markdown",
   "metadata": {},
   "source": [
    "### about_Locations"
   ]
  },
  {
   "cell_type": "code",
   "execution_count": 19,
   "metadata": {},
   "outputs": [
    {
     "name": "stdout",
     "output_type": "stream",
     "text": []
    }
   ],
   "source": [
    "Get-Help about_Modules | \n",
    "  set -Name store"
   ]
  },
  {
   "cell_type": "code",
   "execution_count": 21,
   "metadata": {},
   "outputs": [
    {
     "name": "stdout",
     "output_type": "stream",
     "text": [
      "System.String\n"
     ]
    }
   ],
   "source": [
    "$store.GetType().Fullname"
   ]
  },
  {
   "cell_type": "code",
   "execution_count": 23,
   "metadata": {},
   "outputs": [
    {
     "name": "stdout",
     "output_type": "stream",
     "text": []
    }
   ],
   "source": [
    "$store -split \"`r`n\" | set -Name ary"
   ]
  },
  {
   "cell_type": "code",
   "execution_count": 25,
   "metadata": {},
   "outputs": [
    {
     "name": "stdout",
     "output_type": "stream",
     "text": [
      "497\n"
     ]
    }
   ],
   "source": [
    "$ary.length"
   ]
  },
  {
   "cell_type": "code",
   "execution_count": 27,
   "metadata": {},
   "outputs": [
    {
     "name": "stdout",
     "output_type": "stream",
     "text": [
      "$i = 0\n",
      "foreach($ar in $ary)\n",
      ">> {\n",
      ">>   if($ar -match 'SEE ALSO')\n",
      ">>   {\n",
      ">>     break\n",
      ">>   }\n",
      ">>   $i++\n",
      ">> }\n",
      ">> # $ary[$i..$ary.Length]\n",
      ">> \n"
     ]
    }
   ],
   "source": [
    "$i = 0\n",
    "foreach($ar in $ary)\n",
    "{\n",
    "  if($ar -match 'SEE ALSO')\n",
    "  {\n",
    "    break\n",
    "  }\n",
    "  $i++\n",
    "}\n",
    "# $ary[$i..$ary.Length]"
   ]
  },
  {
   "cell_type": "code",
   "execution_count": 29,
   "metadata": {},
   "outputs": [
    {
     "name": "stdout",
     "output_type": "stream",
     "text": [
      "$url_base = \"https://nbviewer.jupyter.org/github/sakai-memoru/pwshnote/blob/master/1909-powershell-{{about_item}}.ipynb\"\n",
      "\n",
      "foreach($a in $ary[($i+1)..$ary.Length]){\n",
      ">>   if(-not ($a.Trim() -eq ''))\n",
      ">>   {\n",
      ">>     if($a.Trim().startswith('about_'))\n",
      ">>     {\n",
      ">>       $url_base.Replace('{{about_item}}',$a.Trim())  \n",
      ">>     }\n",
      ">>     else\n",
      ">>     {\n",
      ">>       $a.Trim()\n",
      ">>     }\n",
      ">>   }\n",
      ">> }\n",
      ">> \n",
      "https://nbviewer.jupyter.org/github/sakai-memoru/pwshnote/blob/master/1909-powershell-about_Command_Precedence.ipynb\n",
      "https://nbviewer.jupyter.org/github/sakai-memoru/pwshnote/blob/master/1909-powershell-about_DesiredStateConfiguration.ipynb\n",
      "https://nbviewer.jupyter.org/github/sakai-memoru/pwshnote/blob/master/1909-powershell-about_EventLogs.ipynb\n",
      "https://nbviewer.jupyter.org/github/sakai-memoru/pwshnote/blob/master/1909-powershell-about_Group_Policy_Settings.ipynb\n",
      "https://nbviewer.jupyter.org/github/sakai-memoru/pwshnote/blob/master/1909-powershell-about_PSSnapins.ipynb\n",
      "Get-Command\n",
      "Get-Help\n",
      "Get-Module\n",
      "Import-Module\n",
      "Remove-Module\n"
     ]
    }
   ],
   "source": [
    "$url_base = \"https://nbviewer.jupyter.org/github/sakai-memoru/pwshnote/blob/master/1909-powershell-{{about_item}}.ipynb\"\n",
    "\n",
    "foreach($a in $ary[($i+1)..$ary.Length]){\n",
    "  if(-not ($a.Trim() -eq ''))\n",
    "  {\n",
    "    if($a.Trim().startswith('about_'))\n",
    "    {\n",
    "      $url_base.Replace('{{about_item}}',$a.Trim())  \n",
    "    }\n",
    "    else\n",
    "    {\n",
    "      $a.Trim()\n",
    "    }\n",
    "  }\n",
    "}"
   ]
  },
  {
   "cell_type": "code",
   "execution_count": 31,
   "metadata": {},
   "outputs": [
    {
     "name": "stdout",
     "output_type": "stream",
     "text": [
      "TOPIC\n",
      "    about_Modules\n",
      "\n",
      "SHORT DESCRIPTION\n",
      "    Explains how to install, import, and use Windows PowerShell modules.\n",
      "\n",
      "LONG DESCRIPTION\n",
      "    A module is a package that contains Windows PowerShell commands, such as\n",
      "    cmdlets, providers, functions, workflows, variables, and aliases. \n",
      "\n",
      "    People who write commands can use modules to organize their commands and\n",
      "    share them with others. People who receive modules can add the commands\n",
      "    in the modules to their Windows PowerShell sessions and use them just like\n",
      "    the built-in commands.\n",
      "\n",
      "    This topic explains how to use Windows PowerShell modules. For information\n",
      "    about how to write Windows PowerShell modules, see \"Writing a Windows\n",
      "    PowerShell Module\" in the MSDN (Microsoft Developer Network) library\n",
      "    at http://go.microsoft.com/fwlink/?LinkId=144916.\n",
      "    \n",
      " WHAT IS A MODULE?\n",
      "    A module is a package of commands. All cmdlets and providers in your\n",
      "    session are added by a module or a snap-in.\n",
      "\n",
      " WHAT'S NEW IN MODULES: Module Auto-Loading\n",
      "    Beginning in Windows PowerShell 3.0, Windows PowerShell imports\n",
      "    modules automatically the first time that you run any command in \n",
      "    an installed module. You can now use the commands in a module\n",
      "    without any set-up or profile configuration, so there's no need to\n",
      "\n",
      " and more ...\n"
     ]
    }
   ],
   "source": [
    "$ary[0..28]  + \"`r`n and more ...\""
   ]
  },
  {
   "cell_type": "markdown",
   "metadata": {},
   "source": [
    "### Get-Command"
   ]
  },
  {
   "cell_type": "code",
   "execution_count": 38,
   "metadata": {},
   "outputs": [
    {
     "name": "stdout",
     "output_type": "stream",
     "text": [
      "\n",
      "\n",
      "Name   : Find-Module\n",
      "Source : PowerShellGet\n",
      "\n",
      "Name   : Get-InstalledModule\n",
      "Source : PowerShellGet\n",
      "\n",
      "Name   : Install-Module\n",
      "Source : PowerShellGet\n",
      "\n",
      "Name   : Publish-Module\n",
      "Source : PowerShellGet\n",
      "\n",
      "Name   : Save-Module\n",
      "Source : PowerShellGet\n",
      "\n",
      "Name   : Uninstall-Module\n",
      "Source : PowerShellGet\n",
      "\n",
      "Name   : Update-Module\n",
      "Source : PowerShellGet\n",
      "\n",
      "Name   : Get-Module\n",
      "Source : Microsoft.PowerShell.Core\n",
      "\n",
      "Name   : Import-Module\n",
      "Source : Microsoft.PowerShell.Core\n",
      "\n",
      "Name   : New-Module\n",
      "Source : Microsoft.PowerShell.Core\n",
      "\n",
      "Name   : Remove-Module\n",
      "Source : Microsoft.PowerShell.Core\n",
      "\n",
      "\n",
      "\n"
     ]
    }
   ],
   "source": [
    "Get-Command -Name \"*Module\" | fl Name, Source"
   ]
  },
  {
   "cell_type": "markdown",
   "metadata": {},
   "source": [
    "### Get-Alias"
   ]
  },
  {
   "cell_type": "code",
   "execution_count": 42,
   "metadata": {},
   "outputs": [
    {
     "name": "stdout",
     "output_type": "stream",
     "text": [
      "\n",
      "Definition    Name DisplayName          \n",
      "----------    ---- -----------          \n",
      "Get-Module    gmo  gmo -> Get-Module    \n",
      "Import-Module ipmo ipmo -> Import-Module\n",
      "New-Module    nmo  nmo -> New-Module    \n",
      "Remove-Module rmo  rmo -> Remove-Module \n",
      "\n",
      "\n"
     ]
    }
   ],
   "source": [
    "Get-alias -Definition \"*Module\" | sort Definition |ft Definition, Name, DisplayName"
   ]
  },
  {
   "cell_type": "markdown",
   "metadata": {},
   "source": [
    "### Get-Help"
   ]
  },
  {
   "cell_type": "code",
   "execution_count": 45,
   "metadata": {},
   "outputs": [
    {
     "name": "stdout",
     "output_type": "stream",
     "text": [
      "echo\n",
      "Help Get-Module -online\n",
      "\n",
      "Help Get-Module -online\n",
      "\n"
     ]
    }
   ],
   "source": [
    "echo\n",
    "Help Get-Module -online"
   ]
  },
  {
   "cell_type": "code",
   "execution_count": 47,
   "metadata": {},
   "outputs": [
    {
     "name": "stdout",
     "output_type": "stream",
     "text": [
      "\n"
     ]
    }
   ],
   "source": [
    "Help Get-Module | set -Name store_cmd"
   ]
  },
  {
   "cell_type": "code",
   "execution_count": 49,
   "metadata": {},
   "outputs": [
    {
     "name": "stdout",
     "output_type": "stream",
     "text": [
      "System.String\n",
      "\n"
     ]
    }
   ],
   "source": [
    "$store_cmd[0].GetType().Fullname"
   ]
  },
  {
   "cell_type": "code",
   "execution_count": 51,
   "metadata": {},
   "outputs": [
    {
     "name": "stdout",
     "output_type": "stream",
     "text": [
      "79\n",
      "\n"
     ]
    }
   ],
   "source": [
    "$store_cmd.Length"
   ]
  },
  {
   "cell_type": "code",
   "execution_count": 53,
   "metadata": {},
   "outputs": [
    {
     "name": "stdout",
     "output_type": "stream",
     "text": [
      "Help Get-Module\n",
      "\n",
      "NAME\n",
      "    Get-Module\n",
      "    \n",
      "SYNOPSIS\n",
      "    Gets the modules that have been imported or that can be imported into the current session.\n",
      "    \n",
      "    \n",
      "SYNTAX\n",
      "    Get-Module [[-Name] <String[]>] [-All] [-FullyQualifiedName <ModuleSpecification[]>] [<CommonParameters>]\n",
      "    \n",
      "    Get-Module [[-Name] <String[]>] [-All] [-FullyQualifiedName <ModuleSpecification[]>] -ListAvailable [-PSEdition \n",
      "    <String>] [-Refresh] [<CommonParameters>]\n",
      "    \n",
      "    Get-Module [[-Name] <String[]>] [-CimNamespace <String>] [-CimResourceUri <Uri>] -CimSession <CimSession> \n",
      "    [-FullyQualifiedName <ModuleSpecification[]>] [-ListAvailable] [-Refresh] [<CommonParameters>]\n",
      "    \n",
      "    Get-Module [[-Name] <String[]>] [-FullyQualifiedName <ModuleSpecification[]>] [-ListAvailable] [-PSEdition \n",
      "    <String>] -PSSession <PSSession> [-Refresh] [<CommonParameters>]\n",
      "    \n",
      "    \n",
      "DESCRIPTION\n",
      "    The Get-Module cmdlet gets the Windows PowerShell modules that have been imported, or that can be imported, into a \n",
      "    Windows PowerShell session. The module object that Get-Module returns contains valuable information about the \n",
      "    module. You can also pipe the module objects to other cmdlets, such as the Import-Module and Remove-Module cmdlets.\n",
      "    \n",
      "    Without parameters, Get-Module gets modules that have been imported into the current session. To get all installed \n",
      "    modules, specify the ListAvailable parameter. Get-Module gets modules, but it does not import them. Starting in \n",
      "    Windows PowerShell 3.0, modules are automatically imported when you use a command in the module, but a Get-Module \n",
      "    command does not trigger an automatic import. You can also import the modules into your session by using the \n",
      "    Import-Module cmdlet.\n",
      "    \n",
      "    Starting in Windows PowerShell 3.0, you can get and then, import modules from remote sessions into the local \n",
      "    session. This strategy uses the Implicit Remoting feature of Windows PowerShell and is equivalent to using the \n",
      "    Import-PSSession cmdlet. When you use commands in modules imported from another session, the commands run \n",
      "    implicitly in the remote session. This feature lets you manage the remote computer from the local session.\n",
      "    \n",
      "    Also, starting in Windows PowerShell 3.0, you can use Get-Module and Import-Module to get and import Common \n",
      "    Information Model (CIM) modules, in which the cmdlets are defined in Cmdlet Definition XML (CDXML) files. This \n",
      "    feature lets you use cmdlets that are implemented in non-managed code assemblies, such as those written in C++.\n",
      "    \n",
      "    With these new features, the Get-Module and Import-Module cmdlets become primary tools for managing heterogeneous \n",
      "    enterprises that include computers that run the Windows operating system and computers that run other operating \n",
      "    systems.\n",
      "    \n",
      "    To manage remote computers that run the Windows operating system that have Windows PowerShell and Windows \n",
      "    PowerShell remoting enabled, create a PSSession on the remote computer and then use the PSSession parameter of \n",
      "    Get-Module to get the Windows PowerShell modules in the PSSession . When you import the modules, and then use the \n",
      "    imported commands in the current session, the commands run implicitly in the PSSession on the remote computer. You \n",
      "    can use this strategy to manage the remote computer.\n",
      "    \n",
      "    You can use a similar strategy to manage computers that do not have Windows PowerShell remoting enabled. These \n",
      "    include computers that are not running the Windows operating system, and computers that have Windows PowerShell \n",
      "    but do not have Windows PowerShell remoting enabled.\n",
      "    \n",
      "    Start by creating a CIM session on the remote computer. A CIM session is a connection to Windows Management \n",
      "    Instrumentation (WMI) on the remote computer. Then use the CIMSession parameter of Get-Module to get CIM modules \n",
      "    from the CIM session. When you import a CIM module by using the Import-Module cmdlet and then run the imported \n",
      "    commands, the commands run implicitly on the remote computer. You can use this WMI and CIM strategy to manage the \n",
      "    remote computer.\n",
      "    \n",
      "\n",
      "RELATED LINKS\n",
      "    Online Version: http://go.microsoft.com/fwlink/?LinkId=821486\n",
      "    Get-CimSession http://go.microsoft.com/fwlink/?LinkId=227966\n",
      "    New-CimSession http://go.microsoft.com/fwlink/?LinkId=227967\n",
      "    Get-PSSession \n",
      "    Import-Module \n",
      "    New-PSSession \n",
      "    Remove-Module \n",
      "\n",
      "REMARKS\n",
      "    To see the examples, type: \"get-help Get-Module -examples\".\n",
      "    For more information, type: \"get-help Get-Module -detailed\".\n",
      "    For technical information, type: \"get-help Get-Module -full\".\n",
      "    For online help, type: \"get-help Get-Module -online\"\n",
      "\n",
      "\n",
      "\n",
      "\n",
      "\n",
      "\n",
      "\n",
      "\n"
     ]
    }
   ],
   "source": [
    "Help Get-Module\n"
   ]
  },
  {
   "cell_type": "markdown",
   "metadata": {},
   "source": [
    "### Show-Command"
   ]
  },
  {
   "cell_type": "code",
   "execution_count": 56,
   "metadata": {},
   "outputs": [
    {
     "name": "stdout",
     "output_type": "stream",
     "text": [
      "echo\n",
      "shcm Get-Module\n",
      "\n",
      "shcm Get-Module\n",
      "\n"
     ]
    }
   ],
   "source": [
    "echo\n",
    "shcm Get-Module"
   ]
  },
  {
   "cell_type": "markdown",
   "metadata": {},
   "source": [
    "### Get-Module"
   ]
  },
  {
   "cell_type": "code",
   "execution_count": 58,
   "metadata": {},
   "outputs": [
    {
     "name": "stdout",
     "output_type": "stream",
     "text": [
      "\n",
      "\n",
      "   TypeName: System.Management.Automation.PSModuleInfo\n",
      "\n",
      "Name                        MemberType Definition                                                                      \n",
      "----                        ---------- ----------                                                                      \n",
      "AccessMode                  Property   System.Management.Automation.ModuleAccessMode AccessMode {get;set;}             \n",
      "Author                      Property   string Author {get;}                                                            \n",
      "ClrVersion                  Property   version ClrVersion {get;}                                                       \n",
      "CompanyName                 Property   string CompanyName {get;}                                                       \n",
      "CompatiblePSEditions        Property   System.Collections.Generic.IEnumerable[string] CompatiblePSEditions {get;}      \n",
      "Copyright                   Property   string Copyright {get;}                                                         \n",
      "Definition                  Property   string Definition {get;}                                                        \n",
      "Description                 Property   string Description {get;set;}                                                   \n",
      "DotNetFrameworkVersion      Property   version DotNetFrameworkVersion {get;}                                           \n",
      "ExportedAliases             Property   System.Collections.Generic.Dictionary[string,System.Management.Automation.Ali...\n",
      "ExportedCmdlets             Property   System.Collections.Generic.Dictionary[string,System.Management.Automation.Cmd...\n",
      "ExportedCommands            Property   System.Collections.Generic.Dictionary[string,System.Management.Automation.Com...\n",
      "ExportedDscResources        Property   System.Collections.ObjectModel.ReadOnlyCollection[string] ExportedDscResource...\n",
      "ExportedFormatFiles         Property   System.Collections.ObjectModel.ReadOnlyCollection[string] ExportedFormatFiles...\n",
      "ExportedFunctions           Property   System.Collections.Generic.Dictionary[string,System.Management.Automation.Fun...\n",
      "ExportedTypeFiles           Property   System.Collections.ObjectModel.ReadOnlyCollection[string] ExportedTypeFiles {...\n",
      "ExportedVariables           Property   System.Collections.Generic.Dictionary[string,psvariable] ExportedVariables {g...\n",
      "ExportedWorkflows           Property   System.Collections.Generic.Dictionary[string,System.Management.Automation.Fun...\n",
      "FileList                    Property   System.Collections.Generic.IEnumerable[string] FileList {get;}                  \n",
      "Guid                        Property   guid Guid {get;}                                                                \n",
      "HelpInfoUri                 Property   string HelpInfoUri {get;}                                                       \n",
      "IconUri                     Property   uri IconUri {get;}                                                              \n",
      "ImplementingAssembly        Property   System.Reflection.Assembly ImplementingAssembly {get;}                          \n",
      "LicenseUri                  Property   uri LicenseUri {get;}                                                           \n",
      "LogPipelineExecutionDetails Property   bool LogPipelineExecutionDetails {get;set;}                                     \n",
      "ModuleBase                  Property   string ModuleBase {get;}                                                        \n",
      "ModuleList                  Property   System.Collections.Generic.IEnumerable[System.Object] ModuleList {get;}         \n",
      "ModuleType                  Property   System.Management.Automation.ModuleType ModuleType {get;}                       \n",
      "Name                        Property   string Name {get;}                                                              \n",
      "NestedModules               Property   System.Collections.ObjectModel.ReadOnlyCollection[psmoduleinfo] NestedModules...\n",
      "OnRemove                    Property   scriptblock OnRemove {get;set;}                                                 \n",
      "Path                        Property   string Path {get;}                                                              \n",
      "PowerShellHostName          Property   string PowerShellHostName {get;}                                                \n",
      "PowerShellHostVersion       Property   version PowerShellHostVersion {get;}                                            \n",
      "PowerShellVersion           Property   version PowerShellVersion {get;}                                                \n",
      "Prefix                      Property   string Prefix {get;}                                                            \n",
      "PrivateData                 Property   System.Object PrivateData {get;set;}                                            \n",
      "ProcessorArchitecture       Property   System.Reflection.ProcessorArchitecture ProcessorArchitecture {get;}            \n",
      "ProjectUri                  Property   uri ProjectUri {get;}                                                           \n",
      "ReleaseNotes                Property   string ReleaseNotes {get;}                                                      \n",
      "RepositorySourceLocation    Property   uri RepositorySourceLocation {get;}                                             \n",
      "RequiredAssemblies          Property   System.Collections.Generic.IEnumerable[string] RequiredAssemblies {get;}        \n",
      "RequiredModules             Property   System.Collections.ObjectModel.ReadOnlyCollection[psmoduleinfo] RequiredModul...\n",
      "RootModule                  Property   string RootModule {get;}                                                        \n",
      "Scripts                     Property   System.Collections.Generic.IEnumerable[string] Scripts {get;}                   \n",
      "SessionState                Property   System.Management.Automation.SessionState SessionState {get;set;}               \n",
      "Tags                        Property   System.Collections.Generic.IEnumerable[string] Tags {get;}                      \n",
      "Version                     Property   version Version {get;}                                                          \n",
      "\n",
      "\n",
      "\n"
     ]
    }
   ],
   "source": [
    "Get-Module | gm -MemberType Property"
   ]
  },
  {
   "cell_type": "code",
   "execution_count": 60,
   "metadata": {},
   "outputs": [
    {
     "name": "stdout",
     "output_type": "stream",
     "text": [
      "\n",
      "\n",
      "LogPipelineExecutionDetails : False\n",
      "Name                        : Microsoft.PowerShell.Utility\n",
      "Path                        : C:\\WINDOWS\\system32\\WindowsPowerShell\\v1.0\\Modules\\Microsoft.PowerShell.Utility\\Microsoft\n",
      "                              .PowerShell.Utility.psd1\n",
      "ImplementingAssembly        : \n",
      "Definition                  : \n",
      "Description                 : \n",
      "Guid                        : 1da87e53-152b-403e-98dc-74d7b4d63d59\n",
      "HelpInfoUri                 : https://go.microsoft.com/fwlink/?linkid=390787\n",
      "ModuleBase                  : C:\\Windows\\System32\\WindowsPowerShell\\v1.0\n",
      "PrivateData                 : \n",
      "Tags                        : {}\n",
      "ProjectUri                  : \n",
      "IconUri                     : \n",
      "LicenseUri                  : \n",
      "ReleaseNotes                : \n",
      "RepositorySourceLocation    : \n",
      "Version                     : 3.1.0.0\n",
      "ModuleType                  : Manifest\n",
      "Author                      : Microsoft Corporation\n",
      "AccessMode                  : ReadWrite\n",
      "ClrVersion                  : 4.0\n",
      "CompanyName                 : Microsoft Corporation\n",
      "Copyright                   : ■ Microsoft Corporation. All rights reserved.\n",
      "DotNetFrameworkVersion      : \n",
      "ExportedFunctions           : {[ConvertFrom-SddlString, ConvertFrom-SddlString], [Format-Hex, Format-Hex], \n",
      "                              [Get-FileHash, Get-FileHash], [Import-PowerShellDataFile, Import-PowerShellDataFile]...}\n",
      "Prefix                      : \n",
      "ExportedCmdlets             : {[Add-Member, Add-Member], [Add-Type, Add-Type], [Clear-Variable, Clear-Variable], \n",
      "                              [Compare-Object, Compare-Object]...}\n",
      "ExportedCommands            : {[Add-Member, Add-Member], [Add-Type, Add-Type], [Clear-Variable, Clear-Variable], \n",
      "                              [Compare-Object, Compare-Object]...}\n",
      "FileList                    : {}\n",
      "CompatiblePSEditions        : {}\n",
      "ModuleList                  : {}\n",
      "NestedModules               : {Microsoft.PowerShell.Commands.Utility.dll, Microsoft.PowerShell.Utility}\n",
      "PowerShellHostName          : \n",
      "PowerShellHostVersion       : \n",
      "PowerShellVersion           : 3.0\n",
      "ProcessorArchitecture       : None\n",
      "Scripts                     : {}\n",
      "RequiredAssemblies          : {}\n",
      "RequiredModules             : {}\n",
      "RootModule                  : \n",
      "ExportedVariables           : {}\n",
      "ExportedAliases             : {[CFS, CFS], [fhx, fhx]}\n",
      "ExportedWorkflows           : {}\n",
      "ExportedDscResources        : {}\n",
      "SessionState                : System.Management.Automation.SessionState\n",
      "OnRemove                    : \n",
      "ExportedFormatFiles         : {}\n",
      "ExportedTypeFiles           : {}\n",
      "\n",
      "LogPipelineExecutionDetails : False\n",
      "Name                        : PSReadline\n",
      "Path                        : C:\\Program Files\\WindowsPowerShell\\Modules\\PSReadline\\1.2\\PSReadLine.psm1\n",
      "ImplementingAssembly        : \n",
      "Definition                  : function PSConsoleHostReadline\n",
      "                              {\n",
      "                                  Microsoft.PowerShell.Core\\Set-StrictMode -Off\n",
      "                                  [Microsoft.PowerShell.PSConsoleReadLine]::ReadLine($host.Runspace, $ExecutionContext)\n",
      "                              }\n",
      "                              \n",
      "Description                 : Great command line editing in the PowerShell console host\n",
      "Guid                        : 5714753b-2afd-4492-a5fd-01d9e2cff8b5\n",
      "HelpInfoUri                 : https://go.microsoft.com/fwlink/?LinkId=528806\n",
      "ModuleBase                  : C:\\Program Files\\WindowsPowerShell\\Modules\\PSReadline\\1.2\n",
      "PrivateData                 : \n",
      "Tags                        : {}\n",
      "ProjectUri                  : \n",
      "IconUri                     : \n",
      "LicenseUri                  : \n",
      "ReleaseNotes                : \n",
      "RepositorySourceLocation    : \n",
      "Version                     : 1.2\n",
      "ModuleType                  : Script\n",
      "Author                      : Microsoft Corporation\n",
      "AccessMode                  : ReadWrite\n",
      "ClrVersion                  : 4.0\n",
      "CompanyName                 : Microsoft Corporation\n",
      "Copyright                   : (c) Microsoft Corporation. All rights reserved.\n",
      "DotNetFrameworkVersion      : 4.0\n",
      "ExportedFunctions           : {[PSConsoleHostReadline, PSConsoleHostReadline]}\n",
      "Prefix                      : \n",
      "ExportedCmdlets             : {[Get-PSReadlineKeyHandler, Get-PSReadlineKeyHandler], [Get-PSReadlineOption, \n",
      "                              Get-PSReadlineOption], [Remove-PSReadlineKeyHandler, Remove-PSReadlineKeyHandler], \n",
      "                              [Set-PSReadlineKeyHandler, Set-PSReadlineKeyHandler]...}\n",
      "ExportedCommands            : {[Get-PSReadlineKeyHandler, Get-PSReadlineKeyHandler], [Get-PSReadlineOption, \n",
      "                              Get-PSReadlineOption], [Remove-PSReadlineKeyHandler, Remove-PSReadlineKeyHandler], \n",
      "                              [Set-PSReadlineKeyHandler, Set-PSReadlineKeyHandler]...}\n",
      "FileList                    : {}\n",
      "CompatiblePSEditions        : {}\n",
      "ModuleList                  : {}\n",
      "NestedModules               : {Microsoft.PowerShell.PSReadLine}\n",
      "PowerShellHostName          : \n",
      "PowerShellHostVersion       : \n",
      "PowerShellVersion           : 3.0\n",
      "ProcessorArchitecture       : None\n",
      "Scripts                     : {}\n",
      "RequiredAssemblies          : {}\n",
      "RequiredModules             : {}\n",
      "RootModule                  : PSReadLine.psm1\n",
      "ExportedVariables           : {}\n",
      "ExportedAliases             : {}\n",
      "ExportedWorkflows           : {}\n",
      "ExportedDscResources        : {}\n",
      "SessionState                : System.Management.Automation.SessionState\n",
      "OnRemove                    : \n",
      "ExportedFormatFiles         : {}\n",
      "ExportedTypeFiles           : {}\n",
      "\n",
      "\n",
      "\n",
      "\n"
     ]
    }
   ],
   "source": [
    "Get-Module | fl *"
   ]
  },
  {
   "cell_type": "code",
   "execution_count": null,
   "metadata": {},
   "outputs": [],
   "source": []
  }
 ],
 "metadata": {
  "kernelspec": {
   "display_name": "PowerShell",
   "language": "powershell",
   "name": "powershell"
  },
  "language_info": {
   "codemirror_mode": "shell",
   "file_extension": ".ps1",
   "mimetype": "text/x-sh",
   "name": "powershell"
  }
 },
 "nbformat": 4,
 "nbformat_minor": 2
}
