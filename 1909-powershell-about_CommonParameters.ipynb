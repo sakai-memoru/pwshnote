{
 "cells": [
  {
   "cell_type": "markdown",
   "metadata": {},
   "source": [
    "# 1909-powershell-about_CommonParameters"
   ]
  },
  {
   "cell_type": "markdown",
   "metadata": {},
   "source": [
    "## overview"
   ]
  },
  {
   "cell_type": "markdown",
   "metadata": {},
   "source": [
    "- about_CommonParameters"
   ]
  },
  {
   "cell_type": "markdown",
   "metadata": {},
   "source": [
    "![Image from Gyazo](https://i.gyazo.com/9c23d8a166aeaa46a042f3b1f33dcf33.png)"
   ]
  },
  {
   "cell_type": "markdown",
   "metadata": {},
   "source": [
    "## jupyter notebook"
   ]
  },
  {
   "cell_type": "markdown",
   "metadata": {},
   "source": [
    "- https://nbviewer.jupyter.org/github/sakai-memoru/pwshnote/blob/master/1909-powershell-about_CommonParameters.ipynb"
   ]
  },
  {
   "cell_type": "markdown",
   "metadata": {},
   "source": [
    "## Usage"
   ]
  },
  {
   "cell_type": "markdown",
   "metadata": {},
   "source": [
    "### Get-Help"
   ]
  },
  {
   "cell_type": "code",
   "execution_count": 1,
   "metadata": {},
   "outputs": [
    {
     "name": "stdout",
     "output_type": "stream",
     "text": [
      "\n",
      "\n",
      "Name     : about_ActivityCommonParameters\n",
      "Synopsis : Describes the parameters that Windows PowerShell\n",
      "\n",
      "Name     : about_CommonParameters\n",
      "Synopsis : Describes the parameters that can be used with any cmdlet.\n",
      "\n",
      "Name     : about_Functions_Advanced_Parameters\n",
      "Synopsis : Explains how to add parameters to advanced functions.\n",
      "\n",
      "Name     : about_Parameters\n",
      "Synopsis : Describes how to work with command parameters in Windows PowerShell.\n",
      "\n",
      "Name     : about_WorkflowCommonParameters\n",
      "Synopsis : This topic describes the parameters that are valid on all Windows\n",
      "\n",
      "Name     : about_ActivityCommonParameters\n",
      "Synopsis : Describes the parameters that Windows PowerShell\n",
      "\n",
      "Name     : about_WorkflowCommonParameters\n",
      "Synopsis : This topic describes the parameters that are valid on all Windows\n",
      "\n",
      "\n",
      "\n"
     ]
    }
   ],
   "source": [
    "Get-Help -Category helpfile about_*parameters | select Name, Synopsis | format-list *"
   ]
  },
  {
   "cell_type": "markdown",
   "metadata": {},
   "source": [
    "### about_CommonParameters"
   ]
  },
  {
   "cell_type": "code",
   "execution_count": 2,
   "metadata": {},
   "outputs": [
    {
     "name": "stdout",
     "output_type": "stream",
     "text": []
    }
   ],
   "source": [
    "Get-Help about_CommonParameters | set -Name store"
   ]
  },
  {
   "cell_type": "code",
   "execution_count": 3,
   "metadata": {},
   "outputs": [
    {
     "name": "stdout",
     "output_type": "stream",
     "text": [
      "System.String\n"
     ]
    }
   ],
   "source": [
    "$store.GetType().Fullname"
   ]
  },
  {
   "cell_type": "code",
   "execution_count": 4,
   "metadata": {},
   "outputs": [
    {
     "name": "stdout",
     "output_type": "stream",
     "text": []
    }
   ],
   "source": [
    "$store -split \"`r`n\" | set -Name ary"
   ]
  },
  {
   "cell_type": "code",
   "execution_count": 5,
   "metadata": {},
   "outputs": [
    {
     "name": "stdout",
     "output_type": "stream",
     "text": [
      "535\n"
     ]
    }
   ],
   "source": [
    "$ary.length"
   ]
  },
  {
   "cell_type": "code",
   "execution_count": 6,
   "metadata": {},
   "outputs": [
    {
     "name": "stdout",
     "output_type": "stream",
     "text": [
      "TOPIC\n",
      "    about_CommonParameters\n",
      "\n",
      "SHORT DESCRIPTION\n",
      "    Describes the parameters that can be used with any cmdlet.\n",
      "\n",
      "LONG DESCRIPTION\n",
      "    The common parameters are a set of cmdlet parameters that you can\n",
      "    use with any cmdlet. They are implemented by Windows PowerShell, not\n",
      "    by the cmdlet developer, and they are automatically available to any\n",
      "    cmdlet.\n",
      "\n",
      "    You can use the common parameters with any cmdlet, but they might\n",
      "    not have an effect on all cmdlets. For example, if a cmdlet does not\n",
      "    generate any verbose output, using the Verbose common parameter\n",
      "    has no effect.\n",
      "\n",
      "    The common parameters are also available on advanced functions that\n",
      "    use the CmdletBinding attribute or the Parameter attribute, and on \n",
      "    all workflows. \n",
      "\n",
      "    Several common parameters override system defaults or preferences\n",
      "    that you set by using the Windows PowerShell preference variables. Unlike\n",
      "    the preference variables, the common parameters affect only the commands\n",
      "    in which they are used.\n",
      " \n",
      "    In addition to the common parameters, many cmdlets offer the WhatIf and\n",
      "    Confirm risk mitigation parameters. Cmdlets that involve risk to the system\n",
      "    or to user data usually offer these parameters.\n",
      "\n",
      "    The following list displays the common parameters. Their aliases are listed\n",
      "    in parentheses.\n",
      "\n",
      "       -Debug (db)\n",
      "       -ErrorAction (ea)\n",
      "       -ErrorVariable (ev)\n",
      "       -InformationAction\n",
      "       -InformationVariable \n",
      "       -OutVariable (ov)\n",
      "       -OutBuffer (ob)\n",
      "       -PipelineVariable (pv)\n",
      "       -Verbose (vb) \n",
      "       -WarningAction (wa)\n",
      "       -WarningVariable (wv\n",
      "\n",
      "    The risk mitigation parameters are:\n",
      "       -WhatIf (wi)\n",
      "       -Confirm (cf)\n",
      "\n",
      "    For more information about preference variables, type: \n",
      "       help about_Preference_Variables\n",
      "\n"
     ]
    }
   ],
   "source": [
    "$ary[0..51]"
   ]
  },
  {
   "cell_type": "code",
   "execution_count": 7,
   "metadata": {},
   "outputs": [
    {
     "name": "stdout",
     "output_type": "stream",
     "text": [
      "  COMMON PARAMETER DESCRIPTIONS     \n",
      "\n",
      "    -Debug[:{$true | $false}]\n",
      "        Alias: db\n",
      "\n",
      "        Displays programmer-level detail about the operation performed by the\n",
      "        command. This parameter works only when the command generates\n",
      "        a debugging message. For example, this parameter works when a command\n",
      "        contains the Write-Debug cmdlet.\n",
      "    \n",
      "        The Debug parameter overrides the value of the $DebugPreference\n",
      "        variable for the current command, setting the value of $DebugPreference\n",
      "        to Inquire. Because the default value of the $DebugPreference variable\n",
      "        is SilentlyContinue, debugging messages are not displayed by default.\n",
      "       \n",
      "        Valid values:\n",
      "\n",
      "            $true (-Debug:$true). Has the same effect as -Debug.\n",
      "\n",
      "            $false (-Debug:$false). Suppresses the display of debugging\n",
      "            messages when the value of the $DebugPreference is not\n",
      "            SilentlyContinue (the default). \n",
      "\n",
      "\n",
      "    -ErrorAction[:{Continue | Ignore | Inquire | SilentlyContinue | Stop |\n",
      "        Suspend }]   \n",
      "        Alias: ea\n",
      "\n",
      "        Determines how the cmdlet responds to a non-terminating error\n",
      "        from the command. This parameter works only when the command generates\n",
      "        a non-terminating error, such as those from the Write-Error cmdlet.\n",
      "\n",
      "        The ErrorAction parameter overrides the value of the \n",
      "        $ErrorActionPreference variable for the current command. \n",
      "        Because the default value of the $ErrorActionPreference variable\n",
      "        is Continue, error messages are displayed and execution continues\n",
      "        unless you use the ErrorAction parameter. \n",
      "\n",
      "        The ErrorAction parameter has no effect on terminating errors (such as\n",
      "        missing data, parameters that are not valid, or insufficient \n",
      "        permissions) that prevent a command from completing successfully.\n",
      "\n",
      "        Valid values:\n",
      "\n",
      "            Continue. Displays the error message and continues executing\n",
      "            the command. \"Continue\" is the default value.\n",
      "\n",
      "            Ignore.  Suppresses the error message and continues\n",
      "            executing the command. Unlike SilentlyContinue, Ignore\n",
      "            does not add the error message to the $Error automatic\n",
      "            variable. The Ignore value is introduced in Windows \n",
      "            PowerShell 3.0.\n",
      "\n",
      "            Inquire. Displays the error message and prompts you for \n",
      "            confirmation before continuing execution. This value is rarely\n",
      "            used.\n",
      "\n",
      "            SilentlyContinue. Suppresses the error message and continues\n",
      "            executing the command.\n",
      "\n",
      "            Stop. Displays the error message and stops executing the\n",
      "            command.\n",
      "\n",
      "            Suspend. This value is only available in Windows PowerShell workflows. \n",
      "            When a workflow runs into terminating error, this action preference \n",
      "            automatically suspends the job to allow for further investigation. After\n",
      "            investigation, the workflow can be resumed.\n",
      "\n",
      "\n"
     ]
    }
   ],
   "source": [
    "$ary[52..120]"
   ]
  },
  {
   "cell_type": "code",
   "execution_count": 8,
   "metadata": {},
   "outputs": [
    {
     "name": "stdout",
     "output_type": "stream",
     "text": [
      "    -ErrorVariable [+]<variable-name>\n",
      "        Alias: ev\n",
      "\n",
      "        Stores error messages about the command in the specified variable\n",
      "        and in the $Error automatic variable. For more information,\n",
      "        type the following command:\n",
      "\n",
      "            get-help about_Automatic_Variables\n",
      "\n",
      "        By default, new error messages overwrite error messages that are \n",
      "        already stored in the variable. To append the error message to the\n",
      "        variable content, type  a plus sign (+) before the variable name. \n",
      "\n",
      "        For example, the following command creates the $a variable and then\n",
      "        stores any errors in it:\n",
      "\n",
      "            Get-Process -Id 6 -ErrorVariable a\n",
      "\n",
      "        The following command adds any error messages to the $a variable:\n",
      "\n",
      "            Get-Process -Id 2 -ErrorVariable +a\n",
      "\n",
      "        The following command displays the contents of $a:\n",
      "\n",
      "            $a                                     \n",
      "\n",
      "        You can use this parameter to create a variable that contains only \n",
      "        error messages from specific commands. The $Error automatic\n",
      "        variable contains error messages from all the commands in the session.\n",
      "        You can use array notation, such as $a[0] or $error[1,2] to refer to \n",
      "        specific errors stored in the variables.\n",
      "\n",
      "\n",
      "    -InformationAction [:{SilentlyContinue | Stop | Continue | Inquire | Ignore | Suspend}]\n",
      "        Alias: ia\n",
      "\n",
      "        Introduced in Windows PowerShell 5.0. Within the command or script in which\n",
      "        it is used, the InformationAction common parameter overrides the value of the\n",
      "        $InformationPreference preference variable, which by default is set to\n",
      "        SilentlyContinue. When you use Write-Information in a script with -InformationAction,\n",
      "        Write-Information values are shown depending on the value of the -InformationAction\n",
      "        parameter. For more information about $InformationPreference, see\n",
      "        about_Preference_Variables. \n",
      "\n",
      "        Valid values:\n",
      "            Stop:               Stops a command or script at an occurrence of the\n",
      "                                Write-Information command.\n",
      "\n",
      "            Ignore              Suppresses the informational message and continues\n",
      "                                running the command. Unlike SilentlyContinue, Ignore\n",
      "                                completely \"forgets\" the informational message; it does\n",
      "                                not add the informational message to the information\n",
      "                                stream.\n",
      "\n",
      "            Inquire:            Displays the informational message that you\n",
      "                                specify in a Write-Information command, then\n",
      "                                asks whether you want to continue.\n",
      "\n",
      "            Continue:           Displays the informational message, and continues\n",
      "                                running.\n",
      "\n",
      "            Suspend:            Automatically suspends a workflow job after a \n",
      "                                Write-Information command is carried out, to allow\n",
      "                                users to see the messages before continuing.\n",
      "                                The workflow can be resumed at the user■fs\n",
      "                                discretion.\n",
      "\n",
      "            SilentlyContinue:   No effect. The informational messages are not\n",
      "            (Default)           displayed, and the script continues without\n",
      "                                interruption.\n",
      "\n",
      "\n"
     ]
    }
   ],
   "source": [
    "$ary[121..192]"
   ]
  },
  {
   "cell_type": "code",
   "execution_count": 9,
   "metadata": {},
   "outputs": [
    {
     "name": "stdout",
     "output_type": "stream",
     "text": [
      "    -InformationVariable [+]<variable-name>\n",
      "        Alias: iv\n",
      "\n",
      "        Introduced in Windows PowerShell 5.0. Within the command or script in which\n",
      "        it is used, the InformationVariable common parameter stores in a variable\n",
      "        a string that you specify by adding the Write-Information command. Write-Information\n",
      "        values are shown depending on the value of the -InformationAction\n",
      "        common parameter; if you do not add the -InformationAction common parameter,\n",
      "        Write-Information strings are shown depending on the value of the $InformationPreference\n",
      "        preference variable. For more information about $InformationPreference, see\n",
      "        about_Preference_Variables. \n",
      "\n",
      "\n",
      "    -OutBuffer <Int32>\n",
      "        Alias: ob\n",
      "\n",
      "        Determines the number of objects to accumulate in a buffer before\n",
      "        any objects are sent through the pipeline. If you omit this parameter,\n",
      "        objects are sent as they are generated. \n",
      "        \n",
      "        This resource management parameter is designed for advanced users.\n",
      "        When you use this parameter, Windows PowerShell does not call the \n",
      "        next cmdlet in the pipeline until the number of objects generated\n",
      "        equals OutBuffer + 1. Thereafter, it sends all objects as they are\n",
      "        generated.\n",
      "\n",
      "\n",
      "\n",
      "    -OutVariable [+]<variable-name>\n",
      "        Alias: ov\n",
      "\n",
      "        Stores output objects from the command in the specified variable and\n",
      "        displays it at the command line.\n",
      "\n",
      "        To add the output to the variable, instead of replacing any output \n",
      "        that might already be stored there, type a plus sign (+) before the\n",
      "        variable name. \n",
      "\n",
      "        For example, the following command creates the $out variable and\n",
      "        stores the process object in it:\n",
      "\n",
      "            Get-Process PowerShell -OutVariable out     \n",
      "\n",
      "        The following command adds the process object to the $out variable:\n",
      "\n",
      "            Get-Process iexplore -OutVariable +out \n",
      "\n",
      "        The following command displays the contents of the $out variable:\n",
      "\n",
      "            $out                                        \n",
      "\n",
      "\n",
      "\n"
     ]
    }
   ],
   "source": [
    "$ary[193..245]"
   ]
  },
  {
   "cell_type": "code",
   "execution_count": 10,
   "metadata": {},
   "outputs": [
    {
     "name": "stdout",
     "output_type": "stream",
     "text": [
      "    -PipelineVariable <String>\n",
      "        Alias: pv\n",
      "\n",
      "        PipelineVariable stores the value of the current pipeline element\n",
      "        as a variable, for any named command as it flows through the pipeline.\n",
      "\n",
      "        Valid values are strings, the same as for any variable names.\n",
      "\n",
      "        The following is an example of how PipelineVariable works. In\n",
      "        this example, the PipelineVariable parameter is added to a\n",
      "        Foreach-Object command to store the results of the command\n",
      "        in variables. A range of numbers, 1 to 10, are piped into the first\n",
      "        Foreach-Object command, the results of which are stored in a\n",
      "        variable named Left.\n",
      "\n",
      "        The results of the first Foreach-Object command are piped into a\n",
      "        second Foreach-Object command, which filters the objects returned\n",
      "        by the first Foreach-Object command. The results of the second\n",
      "        command are stored in a variable named Right.\n",
      "\n",
      "        In the third Foreach-Object command, the results of the first two\n",
      "        Foreach-Object piped commands, represented by the variables Left\n",
      "        and Right, are processed by using a multiplication operator. The\n",
      "        command instructs objects stored in the Left and Right variables\n",
      "        to be multiplied, and specifies that the results should be\n",
      "        displayed as \"Left range member * Right range member = product\".\n",
      "\n",
      "            1..10 | Foreach-Object -PipelineVariable Left -Process { $_ } |\n",
      "              >>    Foreach-Object -PV Right -Process { 1..10 } |\n",
      "              >>    Foreach-Object -Process { \"$Left * $Right = \" + ($Left * $Right) }\n",
      "              >>\n",
      "              1 * 1 = 1\n",
      "              1 * 2 = 2\n",
      "              1 * 3 = 3\n",
      "              1 * 4 = 4\n",
      "              1 * 5 = 5\n",
      "\n",
      "\n",
      "\n",
      "    -Verbose[:{$true | $false}]\n",
      "        Alias: vb\n",
      "\n",
      "        Displays detailed information about the operation performed by the\n",
      "        command. This information resembles the information in a trace or in\n",
      "        a transaction log. This parameter works only when the command generates\n",
      "        a verbose message. For example, this parameter works when a command\n",
      "        contains the Write-Verbose cmdlet.\n",
      "        \n",
      "        The Verbose parameter overrides the value of the $VerbosePreference\n",
      "        variable for the current command. Because the default value of the\n",
      "        $VerbosePreference variable is SilentlyContinue, verbose messages\n",
      "        are not displayed by default.\n",
      "\n",
      "        Valid values:\n",
      "\n",
      "            $true (-Verbose:$true) has the same effect as -Verbose.\n",
      "\n",
      "            $false (-Verbose:$false) suppresses the display of verbose\n",
      "            messages. Use this parameter when the value of $VerbosePreference\n",
      "            is not SilentlyContinue (the default). \n",
      "\n",
      "\n",
      "\n"
     ]
    }
   ],
   "source": [
    "$ary[246..308]"
   ]
  },
  {
   "cell_type": "code",
   "execution_count": 11,
   "metadata": {},
   "outputs": [
    {
     "name": "stdout",
     "output_type": "stream",
     "text": [
      "    -WarningAction[:{Continue | Inquire | SilentlyContinue | Stop}]   \n",
      "        Alias: wa\n",
      "\n",
      "        Determines how the cmdlet responds to a warning from the command.\n",
      "        \"Continue\" is the default value. This parameter works only\n",
      "        when the command generates a warning message. For example, this\n",
      "        parameter works when a command contains the Write-Warning cmdlet.\n",
      "\n",
      "        The WarningAction parameter overrides the value of the \n",
      "        $WarningPreference variable for the current command. Because the\n",
      "        default value of the $WarningPreference variable is Continue, \n",
      "        warnings are displayed and execution continues unless you use the\n",
      "        WarningAction parameter. \n",
      "\n",
      "         Valid Values:\n",
      "\n",
      "            Continue. Displays the warning message and continues executing\n",
      "            the command. \"Continue\" is the default value.\n",
      " \n",
      "            Inquire. Displays the warning message and prompts you for \n",
      "            confirmation before continuing execution. This value is rarely\n",
      "            used.\n",
      "\n",
      "            SilentlyContinue. Suppresses the warning message and continues\n",
      "            executing the command.\n",
      "\n",
      "            Stop. Displays the warning message and stops executing the\n",
      "            command.\n",
      "\n",
      "        NOTE: The WarningAction parameter does not override the value of\n",
      "              the $WarningAction preference variable when the parameter\n",
      "              is used in a command to run a script or function.              \n",
      "\n",
      "\n",
      "\n",
      "    -WarningVariable [+]<variable-name>\n",
      "        Alias: wv\n",
      "\n",
      "        Stores warnings about the command in the specified variable. \n",
      "\n",
      "        All generated warnings are saved in the variable even if the\n",
      "        warnings are not displayed to the user.        \n",
      "\n",
      "        To append the warnings to the variable content, instead of replacing\n",
      "        any warnings that might already be stored there, type a plus sign (+)\n",
      "        before the variable name. \n",
      "\n",
      "        For example, the following command creates the $a variable and then\n",
      "        stores any warnings in it:\n",
      "\n",
      "            Get-Process -Id 6 -WarningVariable a   \n",
      "\n",
      "        The following command adds any warnings to the $a variable:\n",
      "\n",
      "            Get-Process -Id 2 -WarningVariable +a  \n",
      "\n",
      "        The following command displays the contents of $a:\n",
      "\n",
      "            $a                                     \n",
      "\n",
      "        You can use this parameter to create a variable that contains only \n",
      "        warnings from specific commands. You can use array notation, such as\n",
      "        $a[0] or $warning[1,2] to refer to specific warnings stored in the\n",
      "        variable.\n",
      "\n",
      "        NOTE: The WarningVariable parameter does not capture warnings from\n",
      "              nested calls in functions or scripts. \n",
      "\n",
      "\n"
     ]
    }
   ],
   "source": [
    "$ary[309..377] "
   ]
  },
  {
   "cell_type": "code",
   "execution_count": 12,
   "metadata": {},
   "outputs": [
    {
     "name": "stdout",
     "output_type": "stream",
     "text": [
      "\n",
      "        \n",
      "  Risk Management Parameter Descriptions        \n",
      "\n",
      " and more ....\n"
     ]
    }
   ],
   "source": [
    "$ary[378..380] + \"`r`n and more ....\""
   ]
  },
  {
   "cell_type": "code",
   "execution_count": 13,
   "metadata": {},
   "outputs": [
    {
     "name": "stdout",
     "output_type": "stream",
     "text": [
      "        \n",
      "\n",
      "KEYWORDS \n",
      "    about_Common_Parameters\n",
      "\n",
      "SEE ALSO\n",
      "    about_Preference_Variables\n",
      "    Write-Debug\n",
      "    Write-Warning\n",
      "    Write-Error\n",
      "    Write-Verbose\n",
      "\n",
      "\n",
      "\n",
      "\n",
      "\n",
      "\n",
      "\n",
      "\n",
      "\n",
      "\n",
      "\n",
      "\n"
     ]
    }
   ],
   "source": [
    "$ary[512..$ary.Length]"
   ]
  }
 ],
 "metadata": {
  "kernelspec": {
   "display_name": "PowerShell",
   "language": "powershell",
   "name": "powershell"
  },
  "language_info": {
   "codemirror_mode": "shell",
   "file_extension": ".ps1",
   "mimetype": "text/x-sh",
   "name": "powershell"
  }
 },
 "nbformat": 4,
 "nbformat_minor": 2
}
