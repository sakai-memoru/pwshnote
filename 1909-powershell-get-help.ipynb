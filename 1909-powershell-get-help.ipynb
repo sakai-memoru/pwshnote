{
 "cells": [
  {
   "cell_type": "markdown",
   "metadata": {},
   "source": [
    "# 1909-powershell-get-help"
   ]
  },
  {
   "cell_type": "markdown",
   "metadata": {},
   "source": [
    "## overview"
   ]
  },
  {
   "cell_type": "markdown",
   "metadata": {},
   "source": [
    "- usage of get-help cmdlet "
   ]
  },
  {
   "cell_type": "markdown",
   "metadata": {},
   "source": [
    "![Image from Gyazo](https://i.gyazo.com/9c23d8a166aeaa46a042f3b1f33dcf33.png)"
   ]
  },
  {
   "cell_type": "markdown",
   "metadata": {},
   "source": [
    "## jupyter notebook"
   ]
  },
  {
   "cell_type": "markdown",
   "metadata": {},
   "source": [
    "- https://nbviewer.jupyter.org/github/sakai-memoru/pwshnote/blob/master/1909-powershell-get-help.ipynb"
   ]
  },
  {
   "cell_type": "markdown",
   "metadata": {},
   "source": [
    "## Usage"
   ]
  },
  {
   "cell_type": "markdown",
   "metadata": {},
   "source": [
    "### Get-Help"
   ]
  },
  {
   "cell_type": "code",
   "execution_count": 27,
   "metadata": {},
   "outputs": [
    {
     "name": "stdout",
     "output_type": "stream",
     "text": [
      "Get-Help | set -Name store\n",
      "$store.GetType().FullName\n",
      "System.String\n",
      "$store -split \"`r`n\" | set -Name ary\n",
      "echo \"line count = \" $ary.Count\n",
      "line count = \n",
      "113\n",
      "$ary[0..23]\n",
      "\n",
      "TOPIC\n",
      "    Windows PowerShell Help System\n",
      "\n",
      "SHORT DESCRIPTION\n",
      "    Displays help about Windows PowerShell cmdlets and concepts. \n",
      "\n",
      "LONG DESCRIPTION\n",
      "    Windows PowerShell Help describes Windows PowerShell cmdlets,\n",
      "    functions, scripts, and modules, and explains concepts, including\n",
      "    the elements of the Windows PowerShell language.\n",
      "\n",
      "    Windows PowerShell does not include help files, but you can read the\n",
      "    help topics online, or use the Update-Help cmdlet to download help files\n",
      "    to your computer and then use the Get-Help cmdlet to display the help\n",
      "    topics at the command line.\n",
      "\n",
      "    You can also use the Update-Help cmdlet to download updated help files\n",
      "    as they are released so that your local help content is never obsolete. \n",
      "\n",
      "    Without help files, Get-Help displays auto-generated help for cmdlets, \n",
      "    functions, and scripts.\n",
      "\n",
      "\n",
      "\n",
      "\n"
     ]
    }
   ],
   "source": [
    "Get-Help | set -Name store\n",
    "$store.GetType().FullName\n",
    "$store -split \"`r`n\" | set -Name ary\n",
    "echo \"line count = \" $ary.Count\n",
    "$ary[0..23]\n"
   ]
  },
  {
   "cell_type": "code",
   "execution_count": 2,
   "metadata": {},
   "outputs": [
    {
     "name": "stdout",
     "output_type": "stream",
     "text": [
      "$ary[24..49]\n",
      "  ONLINE HELP    \n",
      "    You can find help for Windows PowerShell online in the TechNet Library\n",
      "    beginning at http://go.microsoft.com/fwlink/?LinkID=108518. \n",
      "\n",
      "    To open online help for any cmdlet or function, type:\n",
      "\n",
      "        Get-Help <cmdlet-name> -Online    \n",
      "\n",
      "  UPDATE-HELP\n",
      "    To download and install help files on your computer:\n",
      "\n",
      "       1. Start Windows PowerShell with the \"Run as administrator\" option.\n",
      "       2. Type:\n",
      "\n",
      "          Update-Help\n",
      "\n",
      "    After the help files are installed, you can use the Get-Help cmdlet to\n",
      "    display the help topics. You can also use the Update-Help cmdlet to\n",
      "    download updated help files so that your local help files are always\n",
      "    up-to-date.\n",
      "    \n",
      "    For more information about the Update-Help cmdlet, type:\n",
      "\n",
      "       Get-Help Update-Help -Online\n",
      "\n",
      "    or go to: http://go.microsoft.com/fwlink/?LinkID=210614\n",
      "\n",
      "\n"
     ]
    }
   ],
   "source": [
    "$ary[24..49]\n"
   ]
  },
  {
   "cell_type": "markdown",
   "metadata": {},
   "source": [
    "> Update-Help\n",
    ">\n",
    ">   https://nbviewer.jupyter.org/github/sakai-memoru/pwshnote/blob/master/1909-powershell-update-help.ipynb"
   ]
  },
  {
   "cell_type": "code",
   "execution_count": 3,
   "metadata": {},
   "outputs": [
    {
     "name": "stdout",
     "output_type": "stream",
     "text": [
      "$ary[50..79]\n",
      "\n",
      "\n",
      "  GET-HELP\n",
      "    The Get-Help cmdlet displays help at the command line from content in\n",
      "    help files on your computer. Without help files, Get-Help displays basic\n",
      "    help about cmdlets and functions. You can also use Get-Help to display\n",
      "    online help for cmdlets and functions.\n",
      "\n",
      "    To get help for a cmdlet, type:\n",
      "\n",
      "        Get-Help <cmdlet-name>\n",
      "    \n",
      "    To get online help, type:\n",
      "   \n",
      "        Get-Help <cmdlet-name> -Online    \n",
      "\n",
      "    The titles of conceptual topics begin with \"About_\".\n",
      "    To get help for a concept or language element, type:\n",
      "\n",
      "        Get-Help About_<topic-name>\n",
      "\n",
      "    To search for a word or phrase in all help files, type:\n",
      "\n",
      "        Get-Help <search-term>\n",
      "\n",
      "    For more information about the Get-Help cmdlet, type:\n",
      "\n",
      "        Get-Help Get-Help -Online\n",
      "\n",
      "    or go to: http://go.microsoft.com/fwlink/?LinkID=113316\n",
      "\n",
      "\n"
     ]
    }
   ],
   "source": [
    "$ary[50..79]\n"
   ]
  },
  {
   "cell_type": "code",
   "execution_count": 4,
   "metadata": {},
   "outputs": [
    {
     "name": "stdout",
     "output_type": "stream",
     "text": [
      "$ary[80..$ary.length] \n",
      "\n",
      "\n",
      "  EXAMPLES:\n",
      "      Save-Help              : Download help files from the Internet and saves\n",
      "                               them on a file share.\n",
      "      Update-Help            : Downloads and installs help files from the\n",
      "                               Internet or a file share.\n",
      "      Get-Help Get-Process   : Displays help about the Get-Process cmdlet.   \n",
      "      Get-Help Get-Process -Online\n",
      "                             : Opens online help for the Get-Process cmdlet.                            \n",
      "      Help Get-Process       : Displays help about Get-Process one page at a time.\n",
      "      Get-Process -?         : Displays help about the Get-Process cmdlet.      \n",
      "      Get-Help About_Modules : Displays help about Windows PowerShell modules.\n",
      "      Get-Help remoting      : Searches the help topics for the word \"remoting.\"\n",
      "\n",
      "  SEE ALSO:\n",
      "      about_Updatable_Help\n",
      "      Get-Help\n",
      "      Save-Help\n",
      "      Update-Help\n",
      "\n",
      "\n",
      "\n",
      "\n",
      "\n",
      "\n",
      "\n",
      "\n",
      "\n",
      "\n",
      "\n",
      "\n",
      "\n",
      "\n",
      "\n"
     ]
    }
   ],
   "source": [
    "$ary[80..$ary.length] \n"
   ]
  },
  {
   "cell_type": "markdown",
   "metadata": {},
   "source": [
    "## Appendix"
   ]
  },
  {
   "cell_type": "code",
   "execution_count": 5,
   "metadata": {},
   "outputs": [
    {
     "name": "stdout",
     "output_type": "stream",
     "text": [
      "\n",
      "TOPIC\n",
      "    Windows PowerShell Help System\n",
      "\n",
      "SHORT DESCRIPTION\n",
      "    Displays help about Windows PowerShell cmdlets and concepts. \n",
      "\n",
      "LONG DESCRIPTION\n",
      "    Windows PowerShell Help describes Windows PowerShell cmdlets,\n",
      "    functions, scripts, and modules, and explains concepts, including\n",
      "    the elements of the Windows PowerShell language.\n",
      "\n",
      "    Windows PowerShell does not include help files, but you can read the\n",
      "    help topics online, or use the Update-Help cmdlet to download help files\n",
      "    to your computer and then use the Get-Help cmdlet to display the help\n",
      "    topics at the command line.\n",
      "\n",
      "    You can also use the Update-Help cmdlet to download updated help files\n",
      "    as they are released so that your local help content is never obsolete. \n",
      "\n",
      "    Without help files, Get-Help displays auto-generated help for cmdlets, \n",
      "    functions, and scripts.\n",
      "\n",
      "\n",
      "  ONLINE HELP    \n",
      "    You can find help for Windows PowerShell online in the TechNet Library\n",
      "    beginning at http://go.microsoft.com/fwlink/?LinkID=108518. \n",
      "\n",
      "    To open online help for any cmdlet or function, type:\n",
      "\n",
      "        Get-Help <cmdlet-name> -Online    \n",
      "\n",
      "  UPDATE-HELP\n",
      "    To download and install help files on your computer:\n",
      "\n",
      "       1. Start Windows PowerShell with the \"Run as administrator\" option.\n",
      "       2. Type:\n",
      "\n",
      "          Update-Help\n",
      "\n",
      "    After the help files are installed, you can use the Get-Help cmdlet to\n",
      "    display the help topics. You can also use the Update-Help cmdlet to\n",
      "    download updated help files so that your local help files are always\n",
      "    up-to-date.\n",
      "    \n",
      "    For more information about the Update-Help cmdlet, type:\n",
      "\n",
      "       Get-Help Update-Help -Online\n",
      "\n",
      "    or go to: http://go.microsoft.com/fwlink/?LinkID=210614\n",
      "\n",
      "\n",
      "  GET-HELP\n",
      "    The Get-Help cmdlet displays help at the command line from content in\n",
      "    help files on your computer. Without help files, Get-Help displays basic\n",
      "    help about cmdlets and functions. You can also use Get-Help to display\n",
      "    online help for cmdlets and functions.\n",
      "\n",
      "    To get help for a cmdlet, type:\n",
      "\n",
      "        Get-Help <cmdlet-name>\n",
      "    \n",
      "    To get online help, type:\n",
      "   \n",
      "        Get-Help <cmdlet-name> -Online    \n",
      "\n",
      "    The titles of conceptual topics begin with \"About_\".\n",
      "    To get help for a concept or language element, type:\n",
      "\n",
      "        Get-Help About_<topic-name>\n",
      "\n",
      "    To search for a word or phrase in all help files, type:\n",
      "\n",
      "        Get-Help <search-term>\n",
      "\n",
      "    For more information about the Get-Help cmdlet, type:\n",
      "\n",
      "        Get-Help Get-Help -Online\n",
      "\n",
      "    or go to: http://go.microsoft.com/fwlink/?LinkID=113316\n",
      "\n",
      "\n",
      "  EXAMPLES:\n",
      "      Save-Help              : Download help files from the Internet and saves\n",
      "                               them on a file share.\n",
      "      Update-Help            : Downloads and installs help files from the\n",
      "                               Internet or a file share.\n",
      "      Get-Help Get-Process   : Displays help about the Get-Process cmdlet.   \n",
      "      Get-Help Get-Process -Online\n",
      "                             : Opens online help for the Get-Process cmdlet.                            \n",
      "      Help Get-Process       : Displays help about Get-Process one page at a time.\n",
      "      Get-Process -?         : Displays help about the Get-Process cmdlet.      \n",
      "      Get-Help About_Modules : Displays help about Windows PowerShell modules.\n",
      "      Get-Help remoting      : Searches the help topics for the word \"remoting.\"\n",
      "\n",
      "  SEE ALSO:\n",
      "      about_Updatable_Help\n",
      "      Get-Help\n",
      "      Save-Help\n",
      "      Update-Help\n",
      "\n",
      "\n",
      "\n",
      "\n",
      "\n",
      "\n",
      "\n",
      "\n",
      "\n",
      "\n",
      "\n",
      "\n",
      "\n"
     ]
    }
   ],
   "source": [
    "Get-Help"
   ]
  },
  {
   "cell_type": "code",
   "execution_count": null,
   "metadata": {},
   "outputs": [],
   "source": []
  }
 ],
 "metadata": {
  "kernelspec": {
   "display_name": "PowerShell",
   "language": "powershell",
   "name": "powershell"
  },
  "language_info": {
   "codemirror_mode": "shell",
   "file_extension": ".ps1",
   "mimetype": "text/x-sh",
   "name": "powershell"
  }
 },
 "nbformat": 4,
 "nbformat_minor": 2
}
