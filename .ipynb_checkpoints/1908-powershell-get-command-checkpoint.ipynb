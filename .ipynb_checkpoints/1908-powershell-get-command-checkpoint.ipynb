{
 "cells": [
  {
   "cell_type": "markdown",
   "metadata": {},
   "source": [
    "# 1908-powershell-get-command"
   ]
  },
  {
   "cell_type": "markdown",
   "metadata": {},
   "source": [
    "## notebook\n"
   ]
  },
  {
   "cell_type": "markdown",
   "metadata": {},
   "source": [
    "https://nbviewer.jupyter.org/github/sakai-memoru/pwshnote/blob/master/1908-powershell-get-command.ipynb"
   ]
  },
  {
   "cell_type": "markdown",
   "metadata": {},
   "source": [
    "## execution log"
   ]
  },
  {
   "cell_type": "markdown",
   "metadata": {},
   "source": [
    "### Get-Help "
   ]
  },
  {
   "cell_type": "code",
   "execution_count": 1,
   "metadata": {},
   "outputs": [
    {
     "name": "stdout",
     "output_type": "stream",
     "text": [
      "\n",
      "NAME\n",
      "    Get-Command\n",
      "    \n",
      "SYNOPSIS\n",
      "    Gets all commands.\n",
      "    \n",
      "    \n",
      "SYNTAX\n",
      "    Get-Command [[-Name] <String[]>] [[-ArgumentList] <Object[]>] [-All] [-CommandType {Alias | Function | Filter | \n",
      "    Cmdlet | ExternalScript | Application | Script | Workflow | Configuration | All}] [-FullyQualifiedModule \n",
      "    <ModuleSpecification[]>] [-ListImported] [-Module <String[]>] [-ParameterName <String[]>] [-ParameterType \n",
      "    <PSTypeName[]>] [-ShowCommandInfo] [-Syntax] [-TotalCount <Int32>] [<CommonParameters>]\n",
      "    \n",
      "    Get-Command [[-ArgumentList] <Object[]>] [-All] [-FullyQualifiedModule <ModuleSpecification[]>] [-ListImported] \n",
      "    [-Module <String[]>] [-Noun <String[]>] [-ParameterName <String[]>] [-ParameterType <PSTypeName[]>] \n",
      "    [-ShowCommandInfo] [-Syntax] [-TotalCount <Int32>] [-Verb <String[]>] [<CommonParameters>]\n",
      "    \n",
      "    \n",
      "DESCRIPTION\n",
      "    The Get-Command cmdlet gets all commands that are installed on the computer, including cmdlets, aliases, \n",
      "    functions, workflows, filters, scripts, and applications. Get-Command gets the commands from Windows PowerShell \n",
      "    modules and snap-ins and commands that were imported from other sessions. To get only commands that have been \n",
      "    imported into the current session, use the ListImported parameter.\n",
      "    \n",
      "    Without parameters, a Get-Command command gets all of the cmdlets, functions, workflows and aliases installed on \n",
      "    the computer. A `Get-Command *` command gets all types of commands, including all of the non-Windows PowerShell \n",
      "    files in the Path environment variable ($env:path), which it lists in the Application command type.\n",
      "    \n",
      "    A Get-Command command that uses the exact name of the command, without wildcard characters, automatically imports \n",
      "    the module that contains the command so that you can use the command immediately. To enable, disable, and \n",
      "    configure automatic importing of modules, use the $PSModuleAutoLoadingPreference preference variable. For more \n",
      "    information, see about_Preference_Variables (http://go.microsoft.com/fwlink/?LinkID=113248) in the Microsoft \n",
      "    TechNet library. Get-Command gets its data directly from the command code, unlike Get-Help, which gets its \n",
      "    information from help topics.\n",
      "    \n",
      "    In Windows PowerShell 2.0, Get-Command gets only commands in current session. It does not get commands from \n",
      "    modules that are installed, but not imported. To limit Get-Command in Windows PowerShell 3.0 and later versions to \n",
      "    commands in the current session, use the ListImported parameter.\n",
      "    \n",
      "    Starting in Windows PowerShell 5.0, results of the Get-Command cmdlet display a Version column by default. A new \n",
      "    Version property has been added to the CommandInfo class.\n",
      "    \n",
      "\n",
      "RELATED LINKS\n",
      "    Online Version: http://go.microsoft.com/fwlink/?LinkId=821482\n",
      "    Get-Help \n",
      "\n",
      "REMARKS\n",
      "    To see the examples, type: \"get-help Get-Command -examples\".\n",
      "    For more information, type: \"get-help Get-Command -detailed\".\n",
      "    For technical information, type: \"get-help Get-Command -full\".\n",
      "    For online help, type: \"get-help Get-Command -online\"\n",
      "\n",
      "\n"
     ]
    }
   ],
   "source": [
    "get-help get-command"
   ]
  },
  {
   "cell_type": "markdown",
   "metadata": {},
   "source": [
    "### ise "
   ]
  },
  {
   "cell_type": "markdown",
   "metadata": {},
   "source": [
    "[![Image from Gyazo](https://i.gyazo.com/756c0622acf6659292b429ed2e366e53.png)](https://gyazo.com/756c0622acf6659292b429ed2e366e53)"
   ]
  },
  {
   "cell_type": "markdown",
   "metadata": {},
   "source": [
    "### Get-Alias "
   ]
  },
  {
   "cell_type": "code",
   "execution_count": 2,
   "metadata": {},
   "outputs": [
    {
     "name": "stdout",
     "output_type": "stream",
     "text": [
      "\n",
      "CommandType     Name                                               Version    Source                                   \n",
      "Alias           gcm -> Get-Command                                                                                     \n",
      "Alias           icm -> Invoke-Command                                                                                  \n",
      "Alias           shcm -> Show-Command                                                                                   \n",
      "Alias           trcm -> Trace-Command                                                                                  \n",
      "\n",
      "\n"
     ]
    }
   ],
   "source": [
    "get-alias | Out-String -stream | select-string 'command'"
   ]
  },
  {
   "cell_type": "code",
   "execution_count": 3,
   "metadata": {},
   "outputs": [
    {
     "name": "stdout",
     "output_type": "stream",
     "text": [
      "gcm get-item | format-list\n",
      "\n",
      "\n",
      "Name             : Get-Item\n",
      "CommandType      : Cmdlet\n",
      "Definition       : \n",
      "                   Get-Item [-Path] <string[]> [-Filter <string>] [-Include <string[]>] [-Exclude <string[]>] [-Force] \n",
      "                   [-Credential <pscredential>] [-UseTransaction] [-Stream <string[]>] [<CommonParameters>]\n",
      "                   \n",
      "                   Get-Item -LiteralPath <string[]> [-Filter <string>] [-Include <string[]>] [-Exclude <string[]>] \n",
      "                   [-Force] [-Credential <pscredential>] [-UseTransaction] [-Stream <string[]>] [<CommonParameters>]\n",
      "                   \n",
      "Path             : \n",
      "AssemblyInfo     : \n",
      "DLL              : C:\\WINDOWS\\Microsoft.Net\\assembly\\GAC_MSIL\\Microsoft.PowerShell.Commands.Management\\v4.0_3.0.0.0__31\n",
      "                   bf3856ad364e35\\Microsoft.PowerShell.Commands.Management.dll\n",
      "HelpFile         : Microsoft.PowerShell.Commands.Management.dll-Help.xml\n",
      "ParameterSets    : {[-Path] <string[]> [-Filter <string>] [-Include <string[]>] [-Exclude <string[]>] [-Force] \n",
      "                   [-Credential <pscredential>] [-UseTransaction] [-Stream <string[]>] [<CommonParameters>], \n",
      "                   -LiteralPath <string[]> [-Filter <string>] [-Include <string[]>] [-Exclude <string[]>] [-Force] \n",
      "                   [-Credential <pscredential>] [-UseTransaction] [-Stream <string[]>] [<CommonParameters>]}\n",
      "ImplementingType : Microsoft.PowerShell.Commands.GetItemCommand\n",
      "Verb             : Get\n",
      "Noun             : Item\n",
      "\n",
      "\n",
      "\n",
      "\n",
      "\n"
     ]
    }
   ],
   "source": [
    "gcm get-item | format-list\n"
   ]
  },
  {
   "cell_type": "code",
   "execution_count": 4,
   "metadata": {},
   "outputs": [
    {
     "name": "stdout",
     "output_type": "stream",
     "text": [
      "\n",
      "ModuleType Version    Name                                ExportedCommands                                             \n",
      "---------- -------    ----                                ----------------                                             \n",
      "Manifest   3.1.0.0    Microsoft.PowerShell.Management     {Add-Computer, Add-Content, Checkpoint-Computer, Clear-Con...\n",
      "Manifest   3.1.0.0    Microsoft.PowerShell.Utility        {Add-Member, Add-Type, Clear-Variable, Compare-Object...}    \n",
      "Script     1.2        PSReadline                          {Get-PSReadlineKeyHandler, Get-PSReadlineOption, Remove-PS...\n",
      "\n",
      "\n"
     ]
    }
   ],
   "source": [
    "get-module"
   ]
  },
  {
   "cell_type": "code",
   "execution_count": 5,
   "metadata": {},
   "outputs": [
    {
     "name": "stdout",
     "output_type": "stream",
     "text": [
      "\n",
      "CommandType     Name                                               Version    Source                                   \n",
      "-----------     ----                                               -------    ------                                   \n",
      "Cmdlet          Add-Computer                                       3.1.0.0    Microsoft.PowerShell.Management          \n",
      "Cmdlet          Add-Content                                        3.1.0.0    Microsoft.PowerShell.Management          \n",
      "Cmdlet          Checkpoint-Computer                                3.1.0.0    Microsoft.PowerShell.Management          \n",
      "Cmdlet          Clear-Content                                      3.1.0.0    Microsoft.PowerShell.Management          \n",
      "Cmdlet          Clear-EventLog                                     3.1.0.0    Microsoft.PowerShell.Management          \n",
      "Cmdlet          Clear-Item                                         3.1.0.0    Microsoft.PowerShell.Management          \n",
      "Cmdlet          Clear-ItemProperty                                 3.1.0.0    Microsoft.PowerShell.Management          \n",
      "Cmdlet          Clear-RecycleBin                                   3.1.0.0    Microsoft.PowerShell.Management          \n",
      "Cmdlet          Complete-Transaction                               3.1.0.0    Microsoft.PowerShell.Management          \n",
      "Cmdlet          Convert-Path                                       3.1.0.0    Microsoft.PowerShell.Management          \n",
      "Cmdlet          Copy-Item                                          3.1.0.0    Microsoft.PowerShell.Management          \n",
      "Cmdlet          Copy-ItemProperty                                  3.1.0.0    Microsoft.PowerShell.Management          \n",
      "Cmdlet          Debug-Process                                      3.1.0.0    Microsoft.PowerShell.Management          \n",
      "Cmdlet          Disable-ComputerRestore                            3.1.0.0    Microsoft.PowerShell.Management          \n",
      "Cmdlet          Enable-ComputerRestore                             3.1.0.0    Microsoft.PowerShell.Management          \n",
      "Cmdlet          Get-ChildItem                                      3.1.0.0    Microsoft.PowerShell.Management          \n",
      "Cmdlet          Get-Clipboard                                      3.1.0.0    Microsoft.PowerShell.Management          \n",
      "Cmdlet          Get-ComputerInfo                                   3.1.0.0    Microsoft.PowerShell.Management          \n",
      "Cmdlet          Get-ComputerRestorePoint                           3.1.0.0    Microsoft.PowerShell.Management          \n",
      "Cmdlet          Get-Content                                        3.1.0.0    Microsoft.PowerShell.Management          \n",
      "Cmdlet          Get-ControlPanelItem                               3.1.0.0    Microsoft.PowerShell.Management          \n",
      "Cmdlet          Get-EventLog                                       3.1.0.0    Microsoft.PowerShell.Management          \n",
      "Cmdlet          Get-HotFix                                         3.1.0.0    Microsoft.PowerShell.Management          \n",
      "Cmdlet          Get-Item                                           3.1.0.0    Microsoft.PowerShell.Management          \n",
      "Cmdlet          Get-ItemProperty                                   3.1.0.0    Microsoft.PowerShell.Management          \n",
      "Cmdlet          Get-ItemPropertyValue                              3.1.0.0    Microsoft.PowerShell.Management          \n",
      "Cmdlet          Get-Location                                       3.1.0.0    Microsoft.PowerShell.Management          \n",
      "Cmdlet          Get-Process                                        3.1.0.0    Microsoft.PowerShell.Management          \n",
      "Cmdlet          Get-PSDrive                                        3.1.0.0    Microsoft.PowerShell.Management          \n",
      "Cmdlet          Get-PSProvider                                     3.1.0.0    Microsoft.PowerShell.Management          \n",
      "Cmdlet          Get-Service                                        3.1.0.0    Microsoft.PowerShell.Management          \n",
      "Cmdlet          Get-TimeZone                                       3.1.0.0    Microsoft.PowerShell.Management          \n",
      "Cmdlet          Get-Transaction                                    3.1.0.0    Microsoft.PowerShell.Management          \n",
      "Cmdlet          Get-WmiObject                                      3.1.0.0    Microsoft.PowerShell.Management          \n",
      "Cmdlet          Invoke-Item                                        3.1.0.0    Microsoft.PowerShell.Management          \n",
      "Cmdlet          Invoke-WmiMethod                                   3.1.0.0    Microsoft.PowerShell.Management          \n",
      "Cmdlet          Join-Path                                          3.1.0.0    Microsoft.PowerShell.Management          \n",
      "Cmdlet          Limit-EventLog                                     3.1.0.0    Microsoft.PowerShell.Management          \n",
      "Cmdlet          Move-Item                                          3.1.0.0    Microsoft.PowerShell.Management          \n",
      "Cmdlet          Move-ItemProperty                                  3.1.0.0    Microsoft.PowerShell.Management          \n",
      "Cmdlet          New-EventLog                                       3.1.0.0    Microsoft.PowerShell.Management          \n",
      "Cmdlet          New-Item                                           3.1.0.0    Microsoft.PowerShell.Management          \n",
      "Cmdlet          New-ItemProperty                                   3.1.0.0    Microsoft.PowerShell.Management          \n",
      "Cmdlet          New-PSDrive                                        3.1.0.0    Microsoft.PowerShell.Management          \n",
      "Cmdlet          New-Service                                        3.1.0.0    Microsoft.PowerShell.Management          \n",
      "Cmdlet          New-WebServiceProxy                                3.1.0.0    Microsoft.PowerShell.Management          \n",
      "Cmdlet          Pop-Location                                       3.1.0.0    Microsoft.PowerShell.Management          \n",
      "Cmdlet          Push-Location                                      3.1.0.0    Microsoft.PowerShell.Management          \n",
      "Cmdlet          Register-WmiEvent                                  3.1.0.0    Microsoft.PowerShell.Management          \n",
      "Cmdlet          Remove-Computer                                    3.1.0.0    Microsoft.PowerShell.Management          \n",
      "Cmdlet          Remove-EventLog                                    3.1.0.0    Microsoft.PowerShell.Management          \n",
      "Cmdlet          Remove-Item                                        3.1.0.0    Microsoft.PowerShell.Management          \n",
      "Cmdlet          Remove-ItemProperty                                3.1.0.0    Microsoft.PowerShell.Management          \n",
      "Cmdlet          Remove-PSDrive                                     3.1.0.0    Microsoft.PowerShell.Management          \n",
      "Cmdlet          Remove-WmiObject                                   3.1.0.0    Microsoft.PowerShell.Management          \n",
      "Cmdlet          Rename-Computer                                    3.1.0.0    Microsoft.PowerShell.Management          \n",
      "Cmdlet          Rename-Item                                        3.1.0.0    Microsoft.PowerShell.Management          \n",
      "Cmdlet          Rename-ItemProperty                                3.1.0.0    Microsoft.PowerShell.Management          \n",
      "Cmdlet          Reset-ComputerMachinePassword                      3.1.0.0    Microsoft.PowerShell.Management          \n",
      "Cmdlet          Resolve-Path                                       3.1.0.0    Microsoft.PowerShell.Management          \n",
      "Cmdlet          Restart-Computer                                   3.1.0.0    Microsoft.PowerShell.Management          \n",
      "Cmdlet          Restart-Service                                    3.1.0.0    Microsoft.PowerShell.Management          \n",
      "Cmdlet          Restore-Computer                                   3.1.0.0    Microsoft.PowerShell.Management          \n",
      "Cmdlet          Resume-Service                                     3.1.0.0    Microsoft.PowerShell.Management          \n",
      "Cmdlet          Set-Clipboard                                      3.1.0.0    Microsoft.PowerShell.Management          \n",
      "Cmdlet          Set-Content                                        3.1.0.0    Microsoft.PowerShell.Management          \n",
      "Cmdlet          Set-Item                                           3.1.0.0    Microsoft.PowerShell.Management          \n",
      "Cmdlet          Set-ItemProperty                                   3.1.0.0    Microsoft.PowerShell.Management          \n",
      "Cmdlet          Set-Location                                       3.1.0.0    Microsoft.PowerShell.Management          \n",
      "Cmdlet          Set-Service                                        3.1.0.0    Microsoft.PowerShell.Management          \n",
      "Cmdlet          Set-TimeZone                                       3.1.0.0    Microsoft.PowerShell.Management          \n",
      "Cmdlet          Set-WmiInstance                                    3.1.0.0    Microsoft.PowerShell.Management          \n",
      "Cmdlet          Show-ControlPanelItem                              3.1.0.0    Microsoft.PowerShell.Management          \n",
      "Cmdlet          Show-EventLog                                      3.1.0.0    Microsoft.PowerShell.Management          \n",
      "Cmdlet          Split-Path                                         3.1.0.0    Microsoft.PowerShell.Management          \n",
      "Cmdlet          Start-Process                                      3.1.0.0    Microsoft.PowerShell.Management          \n",
      "Cmdlet          Start-Service                                      3.1.0.0    Microsoft.PowerShell.Management          \n",
      "Cmdlet          Start-Transaction                                  3.1.0.0    Microsoft.PowerShell.Management          \n",
      "Cmdlet          Stop-Computer                                      3.1.0.0    Microsoft.PowerShell.Management          \n",
      "Cmdlet          Stop-Process                                       3.1.0.0    Microsoft.PowerShell.Management          \n",
      "Cmdlet          Stop-Service                                       3.1.0.0    Microsoft.PowerShell.Management          \n",
      "Cmdlet          Suspend-Service                                    3.1.0.0    Microsoft.PowerShell.Management          \n",
      "Cmdlet          Test-ComputerSecureChannel                         3.1.0.0    Microsoft.PowerShell.Management          \n",
      "Cmdlet          Test-Connection                                    3.1.0.0    Microsoft.PowerShell.Management          \n",
      "Cmdlet          Test-Path                                          3.1.0.0    Microsoft.PowerShell.Management          \n",
      "Cmdlet          Undo-Transaction                                   3.1.0.0    Microsoft.PowerShell.Management          \n",
      "Cmdlet          Use-Transaction                                    3.1.0.0    Microsoft.PowerShell.Management          \n",
      "Cmdlet          Wait-Process                                       3.1.0.0    Microsoft.PowerShell.Management          \n",
      "Cmdlet          Write-EventLog                                     3.1.0.0    Microsoft.PowerShell.Management          \n",
      "\n",
      "\n"
     ]
    }
   ],
   "source": [
    "get-command -Module *.powershell.management"
   ]
  },
  {
   "cell_type": "code",
   "execution_count": 13,
   "metadata": {},
   "outputs": [
    {
     "name": "stdout",
     "output_type": "stream",
     "text": [
      "get-verb\n",
      "\n",
      "Verb        Group         \n",
      "----        -----         \n",
      "Add         Common        \n",
      "Clear       Common        \n",
      "Close       Common        \n",
      "Copy        Common        \n",
      "Enter       Common        \n",
      "Exit        Common        \n",
      "Find        Common        \n",
      "Format      Common        \n",
      "Get         Common        \n",
      "Hide        Common        \n",
      "Join        Common        \n",
      "Lock        Common        \n",
      "Move        Common        \n",
      "New         Common        \n",
      "Open        Common        \n",
      "Optimize    Common        \n",
      "Pop         Common        \n",
      "Push        Common        \n",
      "Redo        Common        \n",
      "Remove      Common        \n",
      "Rename      Common        \n",
      "Reset       Common        \n",
      "Resize      Common        \n",
      "Search      Common        \n",
      "Select      Common        \n",
      "Set         Common        \n",
      "Show        Common        \n",
      "Skip        Common        \n",
      "Split       Common        \n",
      "Step        Common        \n",
      "Switch      Common        \n",
      "Undo        Common        \n",
      "Unlock      Common        \n",
      "Watch       Common        \n",
      "Backup      Data          \n",
      "Checkpoint  Data          \n",
      "Compare     Data          \n",
      "Compress    Data          \n",
      "Convert     Data          \n",
      "ConvertFrom Data          \n",
      "ConvertTo   Data          \n",
      "Dismount    Data          \n",
      "Edit        Data          \n",
      "Expand      Data          \n",
      "Export      Data          \n",
      "Group       Data          \n",
      "Import      Data          \n",
      "Initialize  Data          \n",
      "Limit       Data          \n",
      "Merge       Data          \n",
      "Mount       Data          \n",
      "Out         Data          \n",
      "Publish     Data          \n",
      "Restore     Data          \n",
      "Save        Data          \n",
      "Sync        Data          \n",
      "Unpublish   Data          \n",
      "Update      Data          \n",
      "Approve     Lifecycle     \n",
      "Assert      Lifecycle     \n",
      "Complete    Lifecycle     \n",
      "Confirm     Lifecycle     \n",
      "Deny        Lifecycle     \n",
      "Disable     Lifecycle     \n",
      "Enable      Lifecycle     \n",
      "Install     Lifecycle     \n",
      "Invoke      Lifecycle     \n",
      "Register    Lifecycle     \n",
      "Request     Lifecycle     \n",
      "Restart     Lifecycle     \n",
      "Resume      Lifecycle     \n",
      "Start       Lifecycle     \n",
      "Stop        Lifecycle     \n",
      "Submit      Lifecycle     \n",
      "Suspend     Lifecycle     \n",
      "Uninstall   Lifecycle     \n",
      "Unregister  Lifecycle     \n",
      "Wait        Lifecycle     \n",
      "Debug       Diagnostic    \n",
      "Measure     Diagnostic    \n",
      "Ping        Diagnostic    \n",
      "Repair      Diagnostic    \n",
      "Resolve     Diagnostic    \n",
      "Test        Diagnostic    \n",
      "Trace       Diagnostic    \n",
      "Connect     Communications\n",
      "Disconnect  Communications\n",
      "Read        Communications\n",
      "Receive     Communications\n",
      "Send        Communications\n",
      "Write       Communications\n",
      "Block       Security      \n",
      "Grant       Security      \n",
      "Protect     Security      \n",
      "Revoke      Security      \n",
      "Unblock     Security      \n",
      "Unprotect   Security      \n",
      "Use         Other         \n",
      "\n",
      "\n",
      "\n",
      "\n"
     ]
    }
   ],
   "source": [
    "get-verb\n"
   ]
  },
  {
   "cell_type": "code",
   "execution_count": 6,
   "metadata": {},
   "outputs": [
    {
     "name": "stdout",
     "output_type": "stream",
     "text": [
      "\n",
      "CommandType     Name                                               Version    Source                                   \n",
      "-----------     ----                                               -------    ------                                   \n",
      "Cmdlet          Clear-Item                                         3.1.0.0    Microsoft.PowerShell.Management          \n",
      "Cmdlet          Copy-Item                                          3.1.0.0    Microsoft.PowerShell.Management          \n",
      "Cmdlet          Get-Item                                           3.1.0.0    Microsoft.PowerShell.Management          \n",
      "Cmdlet          Invoke-Item                                        3.1.0.0    Microsoft.PowerShell.Management          \n",
      "Cmdlet          Move-Item                                          3.1.0.0    Microsoft.PowerShell.Management          \n",
      "Cmdlet          New-Item                                           3.1.0.0    Microsoft.PowerShell.Management          \n",
      "Cmdlet          Remove-Item                                        3.1.0.0    Microsoft.PowerShell.Management          \n",
      "Cmdlet          Rename-Item                                        3.1.0.0    Microsoft.PowerShell.Management          \n",
      "Cmdlet          Set-Item                                           3.1.0.0    Microsoft.PowerShell.Management          \n",
      "\n",
      "\n"
     ]
    }
   ],
   "source": [
    "get-command -Module *.powershell.management -Noun item"
   ]
  },
  {
   "cell_type": "code",
   "execution_count": 7,
   "metadata": {
    "scrolled": true
   },
   "outputs": [
    {
     "name": "stdout",
     "output_type": "stream",
     "text": [
      "get-alias | select-object DisplayName | out-string -stream | select-string item\n",
      "\n",
      "cli -> Clear-Item                      \n",
      "clp -> Clear-ItemProperty              \n",
      "copy -> Copy-Item                      \n",
      "cp -> Copy-Item                        \n",
      "cpi -> Copy-Item                       \n",
      "cpp -> Copy-ItemProperty               \n",
      "del -> Remove-Item                     \n",
      "dir -> Get-ChildItem                   \n",
      "erase -> Remove-Item                   \n",
      "gci -> Get-ChildItem                   \n",
      "gi -> Get-Item                         \n",
      "gp -> Get-ItemProperty                 \n",
      "gpv -> Get-ItemPropertyValue           \n",
      "ii -> Invoke-Item                      \n",
      "ls -> Get-ChildItem                    \n",
      "mi -> Move-Item                        \n",
      "move -> Move-Item                      \n",
      "mp -> Move-ItemProperty                \n",
      "mv -> Move-Item                        \n",
      "ni -> New-Item                         \n",
      "rd -> Remove-Item                      \n",
      "ren -> Rename-Item                     \n",
      "ri -> Remove-Item                      \n",
      "rm -> Remove-Item                      \n",
      "rmdir -> Remove-Item                   \n",
      "rni -> Rename-Item                     \n",
      "rnp -> Rename-ItemProperty             \n",
      "rp -> Remove-ItemProperty              \n",
      "si -> Set-Item                         \n",
      "sp -> Set-ItemProperty                 \n",
      "\n",
      "\n",
      "\n",
      "\n"
     ]
    }
   ],
   "source": [
    "get-alias | select-object DisplayName | out-string -stream | select-string item\n"
   ]
  },
  {
   "cell_type": "code",
   "execution_count": 8,
   "metadata": {},
   "outputs": [
    {
     "name": "stdout",
     "output_type": "stream",
     "text": [
      "get-command -Module *.powershell.management -Noun ChildItem\n",
      "\n",
      "CommandType     Name                                               Version    Source                                   \n",
      "-----------     ----                                               -------    ------                                   \n",
      "Cmdlet          Get-ChildItem                                      3.1.0.0    Microsoft.PowerShell.Management          \n",
      "\n",
      "\n",
      "\n",
      "\n"
     ]
    }
   ],
   "source": [
    "get-command -Module *.powershell.management -Noun ChildItem\n"
   ]
  },
  {
   "cell_type": "code",
   "execution_count": 14,
   "metadata": {},
   "outputs": [
    {
     "name": "stdout",
     "output_type": "stream",
     "text": [
      "get-alias | select-object DisplayName | out-string -stream | select-string ChildItem\n",
      "\n",
      "dir -> Get-ChildItem                   \n",
      "gci -> Get-ChildItem                   \n",
      "ls -> Get-ChildItem                    \n",
      "\n",
      "\n",
      "\n",
      "\n",
      "\n"
     ]
    }
   ],
   "source": [
    "get-alias | select-object DisplayName | out-string -stream | select-string ChildItem\n",
    "\n"
   ]
  },
  {
   "cell_type": "code",
   "execution_count": 9,
   "metadata": {},
   "outputs": [
    {
     "name": "stdout",
     "output_type": "stream",
     "text": [
      "\n",
      "CommandType     Name                                               Version    Source                                   \n",
      "-----------     ----                                               -------    ------                                   \n",
      "Cmdlet          Add-Content                                        3.1.0.0    Microsoft.PowerShell.Management          \n",
      "Cmdlet          Clear-Content                                      3.1.0.0    Microsoft.PowerShell.Management          \n",
      "Cmdlet          Get-Content                                        3.1.0.0    Microsoft.PowerShell.Management          \n",
      "Cmdlet          Set-Content                                        3.1.0.0    Microsoft.PowerShell.Management          \n",
      "\n",
      "\n"
     ]
    }
   ],
   "source": [
    "get-command -Module *.powershell.management -Noun Content"
   ]
  },
  {
   "cell_type": "code",
   "execution_count": 15,
   "metadata": {},
   "outputs": [
    {
     "name": "stdout",
     "output_type": "stream",
     "text": [
      "\n",
      "ac -> Add-Content                      \n",
      "cat -> Get-Content                     \n",
      "clc -> Clear-Content                   \n",
      "gc -> Get-Content                      \n",
      "sc -> Set-Content                      \n",
      "type -> Get-Content                    \n",
      "\n",
      "\n"
     ]
    }
   ],
   "source": [
    "get-alias | select-object DisplayName | out-string -stream | select-string Content"
   ]
  },
  {
   "cell_type": "code",
   "execution_count": 10,
   "metadata": {},
   "outputs": [
    {
     "name": "stdout",
     "output_type": "stream",
     "text": [
      "\n",
      "CommandType     Name                                               Version    Source                                   \n",
      "-----------     ----                                               -------    ------                                   \n",
      "Cmdlet          Get-Location                                       3.1.0.0    Microsoft.PowerShell.Management          \n",
      "Cmdlet          Pop-Location                                       3.1.0.0    Microsoft.PowerShell.Management          \n",
      "Cmdlet          Push-Location                                      3.1.0.0    Microsoft.PowerShell.Management          \n",
      "Cmdlet          Set-Location                                       3.1.0.0    Microsoft.PowerShell.Management          \n",
      "\n",
      "\n"
     ]
    }
   ],
   "source": [
    "get-command -Module *.powershell.management -Noun Location"
   ]
  },
  {
   "cell_type": "code",
   "execution_count": 16,
   "metadata": {},
   "outputs": [
    {
     "name": "stdout",
     "output_type": "stream",
     "text": [
      "\n",
      "cd -> Set-Location                     \n",
      "chdir -> Set-Location                  \n",
      "gl -> Get-Location                     \n",
      "popd -> Pop-Location                   \n",
      "pushd -> Push-Location                 \n",
      "pwd -> Get-Location                    \n",
      "sl -> Set-Location                     \n",
      "\n",
      "\n"
     ]
    }
   ],
   "source": [
    "get-alias | select-object DisplayName | out-string -stream | select-string location"
   ]
  },
  {
   "cell_type": "code",
   "execution_count": 11,
   "metadata": {},
   "outputs": [
    {
     "name": "stdout",
     "output_type": "stream",
     "text": [
      "\n",
      "CommandType     Name                                               Version    Source                                   \n",
      "-----------     ----                                               -------    ------                                   \n",
      "Cmdlet          Convert-Path                                       3.1.0.0    Microsoft.PowerShell.Management          \n",
      "Cmdlet          Join-Path                                          3.1.0.0    Microsoft.PowerShell.Management          \n",
      "Cmdlet          Resolve-Path                                       3.1.0.0    Microsoft.PowerShell.Management          \n",
      "Cmdlet          Split-Path                                         3.1.0.0    Microsoft.PowerShell.Management          \n",
      "Cmdlet          Test-Path                                          3.1.0.0    Microsoft.PowerShell.Management          \n",
      "\n",
      "\n"
     ]
    }
   ],
   "source": [
    "get-command -Module *.powershell.management -Noun Path"
   ]
  },
  {
   "cell_type": "code",
   "execution_count": 17,
   "metadata": {},
   "outputs": [
    {
     "name": "stdout",
     "output_type": "stream",
     "text": [
      "\n",
      "cvpa -> Convert-Path                   \n",
      "rvpa -> Resolve-Path                   \n",
      "\n",
      "\n"
     ]
    }
   ],
   "source": [
    "get-alias | select-object DisplayName | out-string -stream | select-string Path"
   ]
  },
  {
   "cell_type": "code",
   "execution_count": 19,
   "metadata": {},
   "outputs": [
    {
     "name": "stdout",
     "output_type": "stream",
     "text": [
      "\n",
      "Name                 Capabilities                                      Drives                                          \n",
      "----                 ------------                                      ------                                          \n",
      "Registry             ShouldProcess, Transactions                       {HKLM, HKCU}                                    \n",
      "Alias                ShouldProcess                                     {Alias}                                         \n",
      "Environment          ShouldProcess                                     {Env}                                           \n",
      "FileSystem           Filter, ShouldProcess, Credentials                {C, D, F, G...}                                 \n",
      "Function             ShouldProcess                                     {Function}                                      \n",
      "Variable             ShouldProcess                                     {Variable}                                      \n",
      "Certificate          ShouldProcess                                     {Cert}                                          \n",
      "WSMan                Credentials                                       {WSMan}                                         \n",
      "\n",
      "\n"
     ]
    }
   ],
   "source": [
    "Get-PSProvider"
   ]
  },
  {
   "cell_type": "code",
   "execution_count": 20,
   "metadata": {},
   "outputs": [
    {
     "name": "stdout",
     "output_type": "stream",
     "text": [
      "\n",
      "Name           Used (GB)     Free (GB) Provider      Root                                               CurrentLocation\n",
      "----           ---------     --------- --------      ----                                               ---------------\n",
      "Alias                                  Alias                                                                           \n",
      "C                 108.15        114.87 FileSystem    C:\\                                                               \n",
      "Cert                                   Certificate   \\                                                                 \n",
      "D                   0.36          0.12 FileSystem    D:\\                                                               \n",
      "E                                      FileSystem    E:\\                                                               \n",
      "Env                                    Environment                                                                     \n",
      "F                  26.35         32.43 FileSystem    F:\\                                                               \n",
      "Function                               Function                                                                        \n",
      "G                  92.02         31.28 FileSystem    G:\\                                             workspace\\pwshnote\n",
      "H                                      FileSystem    H:\\                                                               \n",
      "HKCU                                   Registry      HKEY_CURRENT_USER                                                 \n",
      "HKLM                                   Registry      HKEY_LOCAL_MACHINE                                                \n",
      "Variable                               Variable                                                                        \n",
      "WSMan                                  WSMan                                                                           \n",
      "\n",
      "\n"
     ]
    }
   ],
   "source": [
    "Get-PSDrive"
   ]
  },
  {
   "cell_type": "code",
   "execution_count": 24,
   "metadata": {},
   "outputs": [
    {
     "name": "stdout",
     "output_type": "stream",
     "text": [
      "\n",
      "Name                           Value                                                                                   \n",
      "----                           -----                                                                                   \n",
      "_CONDA_EXE                     C:/ProgramData/Anaconda3\\Scripts\\conda.exe                                              \n",
      "_CONDA_ROOT                    C:/ProgramData/Anaconda3                                                                \n",
      "ALLUSERSPROFILE                C:\\ProgramData                                                                          \n",
      "ANT_HOME                       G:\\apache-ant-1.9.14                                                                    \n",
      "APPDATA                        G:\\Users\\sakai\\AppData\\Roaming                                                          \n",
      "ASL.LOG                        Destination=file                                                                        \n",
      "CASSANDRA_HOME                 G:\\apache-cassandra-3.11.4                                                              \n",
      "COMMONPROGRAMFILES             C:\\Program Files\\Common Files                                                           \n",
      "COMMONPROGRAMFILES(X86)        C:\\Program Files (x86)\\Common Files                                                     \n",
      "COMMONPROGRAMW6432             C:\\Program Files\\Common Files                                                           \n",
      "COMPUTERNAME                   EX                                                                                      \n",
      "COMSPEC                        C:\\WINDOWS\\system32\\cmd.exe                                                             \n",
      "CONDA_DEFAULT_ENV              base                                                                                    \n",
      "CONDA_EXE                      C:\\ProgramData\\Anaconda3\\Scripts\\conda.exe                                              \n",
      "CONDA_PREFIX                   C:\\ProgramData\\Anaconda3                                                                \n",
      "CONDA_PROMPT_MODIFIER          (base)                                                                                  \n",
      "CONDA_PYTHON_EXE               C:\\ProgramData\\Anaconda3\\python.exe                                                     \n",
      "CONDA_SHLVL                    1                                                                                       \n",
      "DATA_DIR                       G:\\apps_data\\transformation                                                             \n",
      "DRIVERDATA                     C:\\Windows\\System32\\Drivers\\DriverData                                                  \n",
      "ENV_HOME                       G:\\Users\\sakai\\AppData\\Local\\conda\\conda\\envs                                           \n",
      "ERLANG_HOME                    C:\\Program Files\\erl10.0.1                                                              \n",
      "ES_HOME                        G:\\elasticsearch\\6.3.2\\                                                                 \n",
      "ES_PATH_CONF                   C:\\ProgramData\\Elastic\\Elasticsearch\\config                                             \n",
      "HOMEDRIVE                      G:                                                                                      \n",
      "HOMEPATH                       \\Users\\sakai                                                                            \n",
      "IDLE_FILE                      G:\\Users\\sakai\\AppData\\Local\\Programs\\Python\\Python36-32\\Lib\\idlelib\\idle.pyw           \n",
      "IPY_INTERRUPT_EVENT            2396                                                                                    \n",
      "JPY_INTERRUPT_EVENT            2396                                                                                    \n",
      "JPY_PARENT_PID                 2376                                                                                    \n",
      "KERNEL_LAUNCH_TIMEOUT          40                                                                                      \n",
      "LOCALAPPDATA                   G:\\Users\\sakai\\AppData\\Local                                                            \n",
      "LOGONSERVER                    \\\\EX                                                                                    \n",
      "MOSQUITTO_DIR                  C:\\Program Files (x86)\\mosquitto                                                        \n",
      "NGINX_HOME                     G:\\nginx-1.15.0                                                                         \n",
      "NUMBER_OF_PROCESSORS           4                                                                                       \n",
      "ONEDRIVE                       G:\\Users\\sakai\\OneDrive                                                                 \n",
      "ONEDRIVECONSUMER               G:\\Users\\sakai\\OneDrive                                                                 \n",
      "OS                             Windows_NT                                                                              \n",
      "PATH                           C:\\ProgramData\\Anaconda3;C:\\ProgramData\\Anaconda3\\Library\\mingw-w64\\bin;C:\\ProgramDat...\n",
      "PATHEXT                        .COM;.EXE;.BAT;.CMD;.VBS;.VBE;.JS;.JSE;.WSF;.WSH;.MSC;.RB;.RBW;.CPL                     \n",
      "powershell_command             powershell                                                                              \n",
      "PROCESSOR_ARCHITECTURE         AMD64                                                                                   \n",
      "PROCESSOR_IDENTIFIER           Intel64 Family 6 Model 60 Stepping 3, GenuineIntel                                      \n",
      "PROCESSOR_LEVEL                6                                                                                       \n",
      "PROCESSOR_REVISION             3c03                                                                                    \n",
      "PROGRAMDATA                    C:\\ProgramData                                                                          \n",
      "PROGRAMFILES                   C:\\Program Files                                                                        \n",
      "PROGRAMFILES(X86)              C:\\Program Files (x86)                                                                  \n",
      "PROGRAMW6432                   C:\\Program Files                                                                        \n",
      "PROJECT_HOME                   G:\\workspace\\py                                                                         \n",
      "PROMPT                         $P$G                                                                                    \n",
      "PSEXECUTIONPOLICYPREFERENCE    Bypass                                                                                  \n",
      "PSMODULEPATH                   G:\\Users\\sakai\\OneDrive\\Documents\\WindowsPowerShell\\Modules;C:\\Program Files\\WindowsP...\n",
      "PUBLIC                         C:\\Users\\Public                                                                         \n",
      "PYCHARM                        C:\\Program Files\\JetBrains\\PyCharm 2018.3.1\\bin;                                        \n",
      "PYCHARM COMMUNITY EDITION      C:\\Program Files\\JetBrains\\PyCharm Community Edition 2018.3.1\\bin;                      \n",
      "RUBYOPT                        -Eutf-8                                                                                 \n",
      "SESSIONNAME                    Console                                                                                 \n",
      "SYSTEMDRIVE                    C:                                                                                      \n",
      "SYSTEMROOT                     C:\\WINDOWS                                                                              \n",
      "TEMP                           G:\\Users\\sakai\\AppData\\Local\\Temp                                                       \n",
      "TMP                            G:\\Users\\sakai\\AppData\\Local\\Temp                                                       \n",
      "USERDOMAIN                     EX                                                                                      \n",
      "USERDOMAIN_ROAMINGPROFILE      EX                                                                                      \n",
      "USERNAME                       sakai                                                                                   \n",
      "USERPROFILE                    G:\\Users\\sakai                                                                          \n",
      "VBOX_MSI_INSTALL_PATH          C:\\Program Files\\Oracle\\VirtualBox\\                                                     \n",
      "VS140COMNTOOLS                 C:\\Program Files (x86)\\Microsoft Visual Studio 14.0\\Common7\\Tools\\                      \n",
      "VSSDK140INSTALL                C:\\Program Files (x86)\\Microsoft Visual Studio 14.0\\VSSDK\\                              \n",
      "WINDIR                         C:\\WINDOWS                                                                              \n",
      "WORKON_HOME                    G:\\env\\py                                                                               \n",
      "\n",
      "\n"
     ]
    }
   ],
   "source": [
    "dir Env:"
   ]
  },
  {
   "cell_type": "code",
   "execution_count": 26,
   "metadata": {},
   "outputs": [
    {
     "name": "stdout",
     "output_type": "stream",
     "text": [
      "\n",
      "CommandType     Name                                               Version    Source                                   \n",
      "-----------     ----                                               -------    ------                                   \n",
      "Cmdlet          Add-Member                                         3.1.0.0    Microsoft.PowerShell.Utility             \n",
      "Cmdlet          Add-Type                                           3.1.0.0    Microsoft.PowerShell.Utility             \n",
      "Cmdlet          Clear-Variable                                     3.1.0.0    Microsoft.PowerShell.Utility             \n",
      "Cmdlet          Compare-Object                                     3.1.0.0    Microsoft.PowerShell.Utility             \n",
      "Cmdlet          ConvertFrom-Csv                                    3.1.0.0    Microsoft.PowerShell.Utility             \n",
      "Cmdlet          ConvertFrom-Json                                   3.1.0.0    Microsoft.PowerShell.Utility             \n",
      "Cmdlet          ConvertFrom-String                                 3.1.0.0    Microsoft.PowerShell.Utility             \n",
      "Cmdlet          ConvertFrom-StringData                             3.1.0.0    Microsoft.PowerShell.Utility             \n",
      "Cmdlet          Convert-String                                     3.1.0.0    Microsoft.PowerShell.Utility             \n",
      "Cmdlet          ConvertTo-Csv                                      3.1.0.0    Microsoft.PowerShell.Utility             \n",
      "Cmdlet          ConvertTo-Html                                     3.1.0.0    Microsoft.PowerShell.Utility             \n",
      "Cmdlet          ConvertTo-Json                                     3.1.0.0    Microsoft.PowerShell.Utility             \n",
      "Cmdlet          ConvertTo-Xml                                      3.1.0.0    Microsoft.PowerShell.Utility             \n",
      "Cmdlet          Debug-Runspace                                     3.1.0.0    Microsoft.PowerShell.Utility             \n",
      "Cmdlet          Disable-PSBreakpoint                               3.1.0.0    Microsoft.PowerShell.Utility             \n",
      "Cmdlet          Disable-RunspaceDebug                              3.1.0.0    Microsoft.PowerShell.Utility             \n",
      "Cmdlet          Enable-PSBreakpoint                                3.1.0.0    Microsoft.PowerShell.Utility             \n",
      "Cmdlet          Enable-RunspaceDebug                               3.1.0.0    Microsoft.PowerShell.Utility             \n",
      "Cmdlet          Export-Alias                                       3.1.0.0    Microsoft.PowerShell.Utility             \n",
      "Cmdlet          Export-Clixml                                      3.1.0.0    Microsoft.PowerShell.Utility             \n",
      "Cmdlet          Export-Csv                                         3.1.0.0    Microsoft.PowerShell.Utility             \n",
      "Cmdlet          Export-FormatData                                  3.1.0.0    Microsoft.PowerShell.Utility             \n",
      "Cmdlet          Export-PSSession                                   3.1.0.0    Microsoft.PowerShell.Utility             \n",
      "Cmdlet          Format-Custom                                      3.1.0.0    Microsoft.PowerShell.Utility             \n",
      "Cmdlet          Format-List                                        3.1.0.0    Microsoft.PowerShell.Utility             \n",
      "Cmdlet          Format-Table                                       3.1.0.0    Microsoft.PowerShell.Utility             \n",
      "Cmdlet          Format-Wide                                        3.1.0.0    Microsoft.PowerShell.Utility             \n",
      "Cmdlet          Get-Alias                                          3.1.0.0    Microsoft.PowerShell.Utility             \n",
      "Cmdlet          Get-Culture                                        3.1.0.0    Microsoft.PowerShell.Utility             \n",
      "Cmdlet          Get-Date                                           3.1.0.0    Microsoft.PowerShell.Utility             \n",
      "Cmdlet          Get-Event                                          3.1.0.0    Microsoft.PowerShell.Utility             \n",
      "Cmdlet          Get-EventSubscriber                                3.1.0.0    Microsoft.PowerShell.Utility             \n",
      "Cmdlet          Get-FormatData                                     3.1.0.0    Microsoft.PowerShell.Utility             \n",
      "Cmdlet          Get-Host                                           3.1.0.0    Microsoft.PowerShell.Utility             \n",
      "Cmdlet          Get-Member                                         3.1.0.0    Microsoft.PowerShell.Utility             \n",
      "Cmdlet          Get-PSBreakpoint                                   3.1.0.0    Microsoft.PowerShell.Utility             \n",
      "Cmdlet          Get-PSCallStack                                    3.1.0.0    Microsoft.PowerShell.Utility             \n",
      "Cmdlet          Get-Random                                         3.1.0.0    Microsoft.PowerShell.Utility             \n",
      "Cmdlet          Get-Runspace                                       3.1.0.0    Microsoft.PowerShell.Utility             \n",
      "Cmdlet          Get-RunspaceDebug                                  3.1.0.0    Microsoft.PowerShell.Utility             \n",
      "Cmdlet          Get-TraceSource                                    3.1.0.0    Microsoft.PowerShell.Utility             \n",
      "Cmdlet          Get-TypeData                                       3.1.0.0    Microsoft.PowerShell.Utility             \n",
      "Cmdlet          Get-UICulture                                      3.1.0.0    Microsoft.PowerShell.Utility             \n",
      "Cmdlet          Get-Unique                                         3.1.0.0    Microsoft.PowerShell.Utility             \n",
      "Cmdlet          Get-Variable                                       3.1.0.0    Microsoft.PowerShell.Utility             \n",
      "Cmdlet          Group-Object                                       3.1.0.0    Microsoft.PowerShell.Utility             \n",
      "Cmdlet          Import-Alias                                       3.1.0.0    Microsoft.PowerShell.Utility             \n",
      "Cmdlet          Import-Clixml                                      3.1.0.0    Microsoft.PowerShell.Utility             \n",
      "Cmdlet          Import-Csv                                         3.1.0.0    Microsoft.PowerShell.Utility             \n",
      "Cmdlet          Import-LocalizedData                               3.1.0.0    Microsoft.PowerShell.Utility             \n",
      "Cmdlet          Import-PSSession                                   3.1.0.0    Microsoft.PowerShell.Utility             \n",
      "Cmdlet          Invoke-Expression                                  3.1.0.0    Microsoft.PowerShell.Utility             \n",
      "Cmdlet          Invoke-RestMethod                                  3.1.0.0    Microsoft.PowerShell.Utility             \n",
      "Cmdlet          Invoke-WebRequest                                  3.1.0.0    Microsoft.PowerShell.Utility             \n",
      "Cmdlet          Measure-Command                                    3.1.0.0    Microsoft.PowerShell.Utility             \n",
      "Cmdlet          Measure-Object                                     3.1.0.0    Microsoft.PowerShell.Utility             \n",
      "Cmdlet          New-Alias                                          3.1.0.0    Microsoft.PowerShell.Utility             \n",
      "Cmdlet          New-Event                                          3.1.0.0    Microsoft.PowerShell.Utility             \n",
      "Cmdlet          New-Object                                         3.1.0.0    Microsoft.PowerShell.Utility             \n",
      "Cmdlet          New-TimeSpan                                       3.1.0.0    Microsoft.PowerShell.Utility             \n",
      "Cmdlet          New-Variable                                       3.1.0.0    Microsoft.PowerShell.Utility             \n",
      "Cmdlet          Out-File                                           3.1.0.0    Microsoft.PowerShell.Utility             \n",
      "Cmdlet          Out-GridView                                       3.1.0.0    Microsoft.PowerShell.Utility             \n",
      "Cmdlet          Out-Printer                                        3.1.0.0    Microsoft.PowerShell.Utility             \n",
      "Cmdlet          Out-String                                         3.1.0.0    Microsoft.PowerShell.Utility             \n",
      "Cmdlet          Read-Host                                          3.1.0.0    Microsoft.PowerShell.Utility             \n",
      "Cmdlet          Register-EngineEvent                               3.1.0.0    Microsoft.PowerShell.Utility             \n",
      "Cmdlet          Register-ObjectEvent                               3.1.0.0    Microsoft.PowerShell.Utility             \n",
      "Cmdlet          Remove-Event                                       3.1.0.0    Microsoft.PowerShell.Utility             \n",
      "Cmdlet          Remove-PSBreakpoint                                3.1.0.0    Microsoft.PowerShell.Utility             \n",
      "Cmdlet          Remove-TypeData                                    3.1.0.0    Microsoft.PowerShell.Utility             \n",
      "Cmdlet          Remove-Variable                                    3.1.0.0    Microsoft.PowerShell.Utility             \n",
      "Cmdlet          Select-Object                                      3.1.0.0    Microsoft.PowerShell.Utility             \n",
      "Cmdlet          Select-String                                      3.1.0.0    Microsoft.PowerShell.Utility             \n",
      "Cmdlet          Select-Xml                                         3.1.0.0    Microsoft.PowerShell.Utility             \n",
      "Cmdlet          Send-MailMessage                                   3.1.0.0    Microsoft.PowerShell.Utility             \n",
      "Cmdlet          Set-Alias                                          3.1.0.0    Microsoft.PowerShell.Utility             \n",
      "Cmdlet          Set-Date                                           3.1.0.0    Microsoft.PowerShell.Utility             \n",
      "Cmdlet          Set-PSBreakpoint                                   3.1.0.0    Microsoft.PowerShell.Utility             \n",
      "Cmdlet          Set-TraceSource                                    3.1.0.0    Microsoft.PowerShell.Utility             \n",
      "Cmdlet          Set-Variable                                       3.1.0.0    Microsoft.PowerShell.Utility             \n",
      "Cmdlet          Show-Command                                       3.1.0.0    Microsoft.PowerShell.Utility             \n",
      "Cmdlet          Sort-Object                                        3.1.0.0    Microsoft.PowerShell.Utility             \n",
      "Cmdlet          Start-Sleep                                        3.1.0.0    Microsoft.PowerShell.Utility             \n",
      "Cmdlet          Tee-Object                                         3.1.0.0    Microsoft.PowerShell.Utility             \n",
      "Cmdlet          Trace-Command                                      3.1.0.0    Microsoft.PowerShell.Utility             \n",
      "Cmdlet          Unblock-File                                       3.1.0.0    Microsoft.PowerShell.Utility             \n",
      "Cmdlet          Unregister-Event                                   3.1.0.0    Microsoft.PowerShell.Utility             \n",
      "Cmdlet          Update-FormatData                                  3.1.0.0    Microsoft.PowerShell.Utility             \n",
      "Cmdlet          Update-List                                        3.1.0.0    Microsoft.PowerShell.Utility             \n",
      "Cmdlet          Update-TypeData                                    3.1.0.0    Microsoft.PowerShell.Utility             \n",
      "Cmdlet          Wait-Debugger                                      3.1.0.0    Microsoft.PowerShell.Utility             \n",
      "Cmdlet          Wait-Event                                         3.1.0.0    Microsoft.PowerShell.Utility             \n",
      "Cmdlet          Write-Debug                                        3.1.0.0    Microsoft.PowerShell.Utility             \n",
      "Cmdlet          Write-Error                                        3.1.0.0    Microsoft.PowerShell.Utility             \n",
      "Cmdlet          Write-Host                                         3.1.0.0    Microsoft.PowerShell.Utility             \n",
      "Cmdlet          Write-Information                                  3.1.0.0    Microsoft.PowerShell.Utility             \n",
      "Cmdlet          Write-Output                                       3.1.0.0    Microsoft.PowerShell.Utility             \n",
      "Cmdlet          Write-Progress                                     3.1.0.0    Microsoft.PowerShell.Utility             \n",
      "Cmdlet          Write-Verbose                                      3.1.0.0    Microsoft.PowerShell.Utility             \n",
      "Cmdlet          Write-Warning                                      3.1.0.0    Microsoft.PowerShell.Utility             \n",
      "\n",
      "\n"
     ]
    }
   ],
   "source": [
    "Get-Command -module Microsoft.PowerShell.Utility -CommandTYpe cmdlet"
   ]
  },
  {
   "cell_type": "code",
   "execution_count": 30,
   "metadata": {},
   "outputs": [
    {
     "name": "stdout",
     "output_type": "stream",
     "text": [
      "Get-Command  -verb out\n",
      "\n",
      "CommandType     Name                                               Version    Source                                   \n",
      "-----------     ----                                               -------    ------                                   \n",
      "Cmdlet          Out-Default                                        3.0.0.0    Microsoft.PowerShell.Core                \n",
      "Cmdlet          Out-File                                           3.1.0.0    Microsoft.PowerShell.Utility             \n",
      "Cmdlet          Out-GridView                                       3.1.0.0    Microsoft.PowerShell.Utility             \n",
      "Cmdlet          Out-Host                                           3.0.0.0    Microsoft.PowerShell.Core                \n",
      "Cmdlet          Out-Null                                           3.0.0.0    Microsoft.PowerShell.Core                \n",
      "Cmdlet          Out-Printer                                        3.1.0.0    Microsoft.PowerShell.Utility             \n",
      "Cmdlet          Out-String                                         3.1.0.0    Microsoft.PowerShell.Utility             \n",
      "\n",
      "\n",
      "\n",
      "\n"
     ]
    }
   ],
   "source": [
    "Get-Command  -verb out\n"
   ]
  },
  {
   "cell_type": "code",
   "execution_count": 31,
   "metadata": {},
   "outputs": [
    {
     "name": "stdout",
     "output_type": "stream",
     "text": [
      "\n",
      "echo -> Write-Output                   \n",
      "lp -> Out-Printer                      \n",
      "ogv -> Out-GridView                    \n",
      "oh -> Out-Host                         \n",
      "write -> Write-Output                  \n",
      "\n",
      "\n"
     ]
    }
   ],
   "source": [
    "get-alias | select-object DisplayName | out-string -stream | select-string Out"
   ]
  },
  {
   "cell_type": "code",
   "execution_count": 32,
   "metadata": {},
   "outputs": [
    {
     "name": "stdout",
     "output_type": "stream",
     "text": [
      "\n",
      "CommandType     Name                                               Version    Source                                   \n",
      "-----------     ----                                               -------    ------                                   \n",
      "Alias           Write-FileSystemCache                              2.0.0.0    Storage                                  \n",
      "Function        Write-DtcTransactionsTraceSession                  1.0.0.0    MsDtc                                    \n",
      "Function        Write-PrinterNfcTag                                1.1        PrintManagement                          \n",
      "Function        Write-VolumeCache                                  2.0.0.0    Storage                                  \n",
      "Cmdlet          Write-Debug                                        3.1.0.0    Microsoft.PowerShell.Utility             \n",
      "Cmdlet          Write-Error                                        3.1.0.0    Microsoft.PowerShell.Utility             \n",
      "Cmdlet          Write-EventLog                                     3.1.0.0    Microsoft.PowerShell.Management          \n",
      "Cmdlet          Write-Host                                         3.1.0.0    Microsoft.PowerShell.Utility             \n",
      "Cmdlet          Write-Information                                  3.1.0.0    Microsoft.PowerShell.Utility             \n",
      "Cmdlet          Write-Output                                       3.1.0.0    Microsoft.PowerShell.Utility             \n",
      "Cmdlet          Write-Progress                                     3.1.0.0    Microsoft.PowerShell.Utility             \n",
      "Cmdlet          Write-Verbose                                      3.1.0.0    Microsoft.PowerShell.Utility             \n",
      "Cmdlet          Write-Warning                                      3.1.0.0    Microsoft.PowerShell.Utility             \n",
      "\n",
      "\n"
     ]
    }
   ],
   "source": [
    "Get-Command  -verb write"
   ]
  },
  {
   "cell_type": "code",
   "execution_count": 33,
   "metadata": {},
   "outputs": [
    {
     "name": "stdout",
     "output_type": "stream",
     "text": [
      "\n",
      "echo -> Write-Output                   \n",
      "write -> Write-Output                  \n",
      "\n",
      "\n"
     ]
    }
   ],
   "source": [
    "get-alias | select-object DisplayName | out-string -stream | select-string write"
   ]
  },
  {
   "cell_type": "code",
   "execution_count": null,
   "metadata": {},
   "outputs": [],
   "source": []
  }
 ],
 "metadata": {
  "kernelspec": {
   "display_name": "PowerShell",
   "language": "powershell",
   "name": "powershell"
  },
  "language_info": {
   "codemirror_mode": "shell",
   "file_extension": ".ps1",
   "mimetype": "text/x-sh",
   "name": "powershell"
  }
 },
 "nbformat": 4,
 "nbformat_minor": 2
}
