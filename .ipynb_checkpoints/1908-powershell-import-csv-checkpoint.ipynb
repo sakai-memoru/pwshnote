{
 "cells": [
  {
   "cell_type": "markdown",
   "metadata": {},
   "source": [
    "# 1908-powershell-import-csv"
   ]
  },
  {
   "cell_type": "markdown",
   "metadata": {},
   "source": [
    "## reference\n",
    "- PowerShellでタブ区切りのcsvファイルを読み込む\n",
    "  - https://qiita.com/sukakako/items/4a17db13730934766abb"
   ]
  },
  {
   "cell_type": "markdown",
   "metadata": {},
   "source": [
    "## data\n"
   ]
  },
  {
   "cell_type": "markdown",
   "metadata": {},
   "source": [
    "```\n",
    "created\tstart_time\tprocessid\tappname\tcategory\ttitle\n",
    "2019/08/21 05:43:38\t2019/08/21 05:42\t10668\tmicrosoft edge\tbrowser\tAll Habits – Habitify Web ‎- Microsoft Edge\n",
    "2019/08/21 05:43:44\t2019/08/21 05:42\t10668\tmicrosoft edge\tbrowser\tNew tab and 1 more page ‎- Microsoft Edge\n",
    "2019/08/21 05:43:50\t2019/08/21 05:42\t10668\tmicrosoft edge\tbrowser\tWrite In Private: Free Online Diary And Personal Journal | Penzu and 1 more page ‎- Microsoft Edge\n",
    "```"
   ]
  },
  {
   "cell_type": "markdown",
   "metadata": {},
   "source": [
    "| created |start_time |processid |appname |category |title | \n",
    "|---------|-----------|----------|--------|---------|------| \n",
    "| 2019/08/21 05:43:38 |2019/08/21 05:42 |10668 |microsoft edge |browser |All Habits – Habitify Web ‎- Microsoft Edge | \n",
    "| 2019/08/21 05:43:44 |2019/08/21 05:42 |10668 |microsoft edge |browser |New tab and 1 more page ‎- Microsoft Edge | \n",
    "| 2019/08/21 05:43:50 |2019/08/21 05:42 |10668 |microsoft edge |browser |Write In Private: Free Online Diary And Personal Journal | Penzu and 1 more page ‎- Microsoft Edge | \n"
   ]
  },
  {
   "cell_type": "markdown",
   "metadata": {},
   "source": [
    "## log"
   ]
  },
  {
   "cell_type": "code",
   "execution_count": 1,
   "metadata": {},
   "outputs": [
    {
     "name": "stdout",
     "output_type": "stream",
     "text": []
    }
   ],
   "source": [
    "$data = Import-Csv .\\Activewindows_190821.txt -Delimiter \"`t\""
   ]
  },
  {
   "cell_type": "code",
   "execution_count": 2,
   "metadata": {},
   "outputs": [
    {
     "name": "stdout",
     "output_type": "stream",
     "text": [
      "\n",
      "\n",
      "created    : 2019/08/21 05:43:38\n",
      "start_time : 2019/08/21 05:42\n",
      "processid  : 10668\n",
      "appname    : microsoft edge\n",
      "category   : browser\n",
      "title      : All Habits ? Habitify Web ?- Microsoft Edge\n",
      "\n",
      "\n",
      "\n"
     ]
    }
   ],
   "source": [
    "$data[0]"
   ]
  },
  {
   "cell_type": "code",
   "execution_count": 3,
   "metadata": {},
   "outputs": [
    {
     "name": "stdout",
     "output_type": "stream",
     "text": [
      "\n",
      "\n",
      "created    : 2019/08/21 05:43:44\n",
      "start_time : 2019/08/21 05:42\n",
      "processid  : 10668\n",
      "appname    : microsoft edge\n",
      "category   : browser\n",
      "title      : New tab and 1 more page ?- Microsoft Edge\n",
      "\n",
      "\n",
      "\n"
     ]
    }
   ],
   "source": [
    "$data[1]"
   ]
  },
  {
   "cell_type": "code",
   "execution_count": 7,
   "metadata": {},
   "outputs": [
    {
     "name": "stdout",
     "output_type": "stream",
     "text": [
      "10668\n"
     ]
    }
   ],
   "source": [
    "$data[1].processid"
   ]
  },
  {
   "cell_type": "code",
   "execution_count": 8,
   "metadata": {},
   "outputs": [
    {
     "name": "stdout",
     "output_type": "stream",
     "text": [
      "\n",
      "IsPublic IsSerial Name                                     BaseType                                                    \n",
      "-------- -------- ----                                     --------                                                    \n",
      "True     False    PSCustomObject                           System.Object                                               \n",
      "\n",
      "\n"
     ]
    }
   ],
   "source": [
    "$data[1].GetType()"
   ]
  },
  {
   "cell_type": "code",
   "execution_count": 9,
   "metadata": {},
   "outputs": [
    {
     "name": "stdout",
     "output_type": "stream",
     "text": [
      "\n",
      "\n",
      "   TypeName: System.Management.Automation.PSCustomObject\n",
      "\n",
      "Name        MemberType   Definition                                            \n",
      "----        ----------   ----------                                            \n",
      "Equals      Method       bool Equals(System.Object obj)                        \n",
      "GetHashCode Method       int GetHashCode()                                     \n",
      "GetType     Method       type GetType()                                        \n",
      "ToString    Method       string ToString()                                     \n",
      "appname     NoteProperty string appname=microsoft edge                         \n",
      "category    NoteProperty string category=browser                               \n",
      "created     NoteProperty string created=2019/08/21 05:43:44                    \n",
      "processid   NoteProperty string processid=10668                                \n",
      "start_time  NoteProperty string start_time=2019/08/21 05:42                    \n",
      "title       NoteProperty string title=New tab and 1 more page ?- Microsoft Edge\n",
      "\n",
      "\n"
     ]
    }
   ],
   "source": [
    "$data[1] | Get-Member"
   ]
  },
  {
   "cell_type": "code",
   "execution_count": null,
   "metadata": {},
   "outputs": [],
   "source": []
  }
 ],
 "metadata": {
  "kernelspec": {
   "display_name": "PowerShell",
   "language": "powershell",
   "name": "powershell"
  },
  "language_info": {
   "codemirror_mode": "shell",
   "file_extension": ".ps1",
   "mimetype": "text/x-sh",
   "name": "powershell"
  }
 },
 "nbformat": 4,
 "nbformat_minor": 2
}
