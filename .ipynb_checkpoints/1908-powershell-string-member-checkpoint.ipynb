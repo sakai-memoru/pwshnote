{
 "cells": [
  {
   "cell_type": "markdown",
   "metadata": {},
   "source": [
    "# 1908-powershell-string-member"
   ]
  },
  {
   "cell_type": "markdown",
   "metadata": {},
   "source": [
    "## overview"
   ]
  },
  {
   "cell_type": "markdown",
   "metadata": {},
   "source": [
    "- stringのメソッド、プロパティを確認する"
   ]
  },
  {
   "cell_type": "markdown",
   "metadata": {},
   "source": [
    "## logs"
   ]
  },
  {
   "cell_type": "code",
   "execution_count": 1,
   "metadata": {},
   "outputs": [
    {
     "name": "stdout",
     "output_type": "stream",
     "text": [
      "\n",
      "\n",
      "   TypeName: System.String\n",
      "\n",
      "Name             MemberType            Definition                                           \n",
      "----             ----------            ----------                                           \n",
      "Clone            Method                System.Object Clone(), System.Object ICloneable.Cl...\n",
      "CompareTo        Method                int CompareTo(System.Object value), int CompareTo(...\n",
      "Contains         Method                bool Contains(string value)                          \n",
      "CopyTo           Method                void CopyTo(int sourceIndex, char[] destination, i...\n",
      "EndsWith         Method                bool EndsWith(string value), bool EndsWith(string ...\n",
      "Equals           Method                bool Equals(System.Object obj), bool Equals(string...\n",
      "GetEnumerator    Method                System.CharEnumerator GetEnumerator(), System.Coll...\n",
      "GetHashCode      Method                int GetHashCode()                                    \n",
      "GetType          Method                type GetType()                                       \n",
      "GetTypeCode      Method                System.TypeCode GetTypeCode(), System.TypeCode ICo...\n",
      "IndexOf          Method                int IndexOf(char value), int IndexOf(char value, i...\n",
      "IndexOfAny       Method                int IndexOfAny(char[] anyOf), int IndexOfAny(char[...\n",
      "Insert           Method                string Insert(int startIndex, string value)          \n",
      "IsNormalized     Method                bool IsNormalized(), bool IsNormalized(System.Text...\n",
      "LastIndexOf      Method                int LastIndexOf(char value), int LastIndexOf(char ...\n",
      "LastIndexOfAny   Method                int LastIndexOfAny(char[] anyOf), int LastIndexOfA...\n",
      "Normalize        Method                string Normalize(), string Normalize(System.Text.N...\n",
      "PadLeft          Method                string PadLeft(int totalWidth), string PadLeft(int...\n",
      "PadRight         Method                string PadRight(int totalWidth), string PadRight(i...\n",
      "Remove           Method                string Remove(int startIndex, int count), string R...\n",
      "Replace          Method                string Replace(char oldChar, char newChar), string...\n",
      "Split            Method                string[] Split(Params char[] separator), string[] ...\n",
      "StartsWith       Method                bool StartsWith(string value), bool StartsWith(str...\n",
      "Substring        Method                string Substring(int startIndex), string Substring...\n",
      "ToBoolean        Method                bool IConvertible.ToBoolean(System.IFormatProvider...\n",
      "ToByte           Method                byte IConvertible.ToByte(System.IFormatProvider pr...\n",
      "ToChar           Method                char IConvertible.ToChar(System.IFormatProvider pr...\n",
      "ToCharArray      Method                char[] ToCharArray(), char[] ToCharArray(int start...\n",
      "ToDateTime       Method                datetime IConvertible.ToDateTime(System.IFormatPro...\n",
      "ToDecimal        Method                decimal IConvertible.ToDecimal(System.IFormatProvi...\n",
      "ToDouble         Method                double IConvertible.ToDouble(System.IFormatProvide...\n",
      "ToInt16          Method                int16 IConvertible.ToInt16(System.IFormatProvider ...\n",
      "ToInt32          Method                int IConvertible.ToInt32(System.IFormatProvider pr...\n",
      "ToInt64          Method                long IConvertible.ToInt64(System.IFormatProvider p...\n",
      "ToLower          Method                string ToLower(), string ToLower(cultureinfo culture)\n",
      "ToLowerInvariant Method                string ToLowerInvariant()                            \n",
      "ToSByte          Method                sbyte IConvertible.ToSByte(System.IFormatProvider ...\n",
      "ToSingle         Method                float IConvertible.ToSingle(System.IFormatProvider...\n",
      "ToString         Method                string ToString(), string ToString(System.IFormatP...\n",
      "ToType           Method                System.Object IConvertible.ToType(type conversionT...\n",
      "ToUInt16         Method                uint16 IConvertible.ToUInt16(System.IFormatProvide...\n",
      "ToUInt32         Method                uint32 IConvertible.ToUInt32(System.IFormatProvide...\n",
      "ToUInt64         Method                uint64 IConvertible.ToUInt64(System.IFormatProvide...\n",
      "ToUpper          Method                string ToUpper(), string ToUpper(cultureinfo culture)\n",
      "ToUpperInvariant Method                string ToUpperInvariant()                            \n",
      "Trim             Method                string Trim(Params char[] trimChars), string Trim()  \n",
      "TrimEnd          Method                string TrimEnd(Params char[] trimChars)              \n",
      "TrimStart        Method                string TrimStart(Params char[] trimChars)            \n",
      "Chars            ParameterizedProperty char Chars(int index) {get;}                         \n",
      "Length           Property              int Length {get;}                                    \n",
      "\n",
      "\n"
     ]
    }
   ],
   "source": [
    "\"\" | get-member"
   ]
  },
  {
   "cell_type": "code",
   "execution_count": 3,
   "metadata": {
    "scrolled": true
   },
   "outputs": [
    {
     "name": "stdout",
     "output_type": "stream",
     "text": [
      "\n",
      "\n",
      "   TypeName: System.String\n",
      "\n",
      "Name             MemberType Definition                                                      \n",
      "----             ---------- ----------                                                      \n",
      "ToBoolean        Method     bool IConvertible.ToBoolean(System.IFormatProvider provider)    \n",
      "ToByte           Method     byte IConvertible.ToByte(System.IFormatProvider provider)       \n",
      "ToChar           Method     char IConvertible.ToChar(System.IFormatProvider provider)       \n",
      "ToCharArray      Method     char[] ToCharArray(), char[] ToCharArray(int startIndex, int ...\n",
      "ToDateTime       Method     datetime IConvertible.ToDateTime(System.IFormatProvider provi...\n",
      "ToDecimal        Method     decimal IConvertible.ToDecimal(System.IFormatProvider provider) \n",
      "ToDouble         Method     double IConvertible.ToDouble(System.IFormatProvider provider)   \n",
      "ToInt16          Method     int16 IConvertible.ToInt16(System.IFormatProvider provider)     \n",
      "ToInt32          Method     int IConvertible.ToInt32(System.IFormatProvider provider)       \n",
      "ToInt64          Method     long IConvertible.ToInt64(System.IFormatProvider provider)      \n",
      "ToLower          Method     string ToLower(), string ToLower(cultureinfo culture)           \n",
      "ToLowerInvariant Method     string ToLowerInvariant()                                       \n",
      "ToSByte          Method     sbyte IConvertible.ToSByte(System.IFormatProvider provider)     \n",
      "ToSingle         Method     float IConvertible.ToSingle(System.IFormatProvider provider)    \n",
      "ToString         Method     string ToString(), string ToString(System.IFormatProvider pro...\n",
      "ToType           Method     System.Object IConvertible.ToType(type conversionType, System...\n",
      "ToUInt16         Method     uint16 IConvertible.ToUInt16(System.IFormatProvider provider)   \n",
      "ToUInt32         Method     uint32 IConvertible.ToUInt32(System.IFormatProvider provider)   \n",
      "ToUInt64         Method     uint64 IConvertible.ToUInt64(System.IFormatProvider provider)   \n",
      "ToUpper          Method     string ToUpper(), string ToUpper(cultureinfo culture)           \n",
      "ToUpperInvariant Method     string ToUpperInvariant()                                       \n",
      "\n",
      "\n"
     ]
    }
   ],
   "source": [
    "\"\" | get-member | where-object {$_.MemberType -eq 'Method'} | where-object {$_.Name.Startswith('To')}"
   ]
  },
  {
   "cell_type": "code",
   "execution_count": 15,
   "metadata": {},
   "outputs": [
    {
     "name": "stdout",
     "output_type": "stream",
     "text": [
      "$def = \"\" | get-member | where-object {$_.Name -eq 'Split'} \n",
      "$def.Definition\n",
      "string[] Split(Params char[] separator), string[] Split(char[] separator, int count), string[] Split(char[] separator, System.StringSplitOptions options), string[] Split(char[] separator, int count, System.StringSplitOptions options), string[] Split(string[] separator, System.StringSplitOptions options), string[] Split(string[] separator, int count, System.StringSplitOptions options)\n",
      "\n"
     ]
    }
   ],
   "source": [
    "$def = \"\" | get-member | where-object {$_.Name -eq 'Split'} \n",
    "$def.Definition"
   ]
  },
  {
   "cell_type": "code",
   "execution_count": null,
   "metadata": {},
   "outputs": [],
   "source": []
  }
 ],
 "metadata": {
  "kernelspec": {
   "display_name": "PowerShell",
   "language": "powershell",
   "name": "powershell"
  },
  "language_info": {
   "codemirror_mode": "shell",
   "file_extension": ".ps1",
   "mimetype": "text/x-sh",
   "name": "powershell"
  }
 },
 "nbformat": 4,
 "nbformat_minor": 2
}
