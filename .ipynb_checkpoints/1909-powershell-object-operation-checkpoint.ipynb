{
 "cells": [
  {
   "cell_type": "markdown",
   "metadata": {},
   "source": [
    "# 1909-powershell-object-operation"
   ]
  },
  {
   "cell_type": "markdown",
   "metadata": {},
   "source": [
    "## jupyter notebook"
   ]
  },
  {
   "cell_type": "markdown",
   "metadata": {},
   "source": [
    "- https://nbviewer.jupyter.org/github/sakai-memoru/pwshnote/blob/master/1909-powershell-object-operation.ipynb"
   ]
  },
  {
   "cell_type": "markdown",
   "metadata": {},
   "source": [
    "## Usage\n",
    "### data load"
   ]
  },
  {
   "cell_type": "code",
   "execution_count": 4,
   "metadata": {},
   "outputs": [
    {
     "name": "stdout",
     "output_type": "stream",
     "text": []
    }
   ],
   "source": [
    "$data = Import-csv -delimiter \"`t\" -Encoding UTF8 -LiteralPath ./data/activate_minute_190831.txt"
   ]
  },
  {
   "cell_type": "code",
   "execution_count": 15,
   "metadata": {},
   "outputs": [
    {
     "name": "stdout",
     "output_type": "stream",
     "text": [
      "\n",
      "\n",
      "created     : 2019/08/31 05:03\n",
      "state       : BROWSING\n",
      "total       : 10\n",
      "total_char  : 0\n",
      "active_rate : 0.6\n",
      "processid   : 8940\n",
      "app_name    : sourcetree\n",
      "category    : develop\n",
      "title       : Sourcetree\n",
      "file_name   : \n",
      "\n",
      "created     : 2019/08/31 05:04\n",
      "state       : filer\n",
      "total       : 5\n",
      "total_char  : 2\n",
      "active_rate : 0.9\n",
      "processid   : 10140\n",
      "app_name    : explorer\n",
      "category    : filer\n",
      "title       : explorer\n",
      "file_name   : \n",
      "\n",
      "created     : 2019/08/31 05:05\n",
      "state       : editor\n",
      "total       : 23\n",
      "total_char  : 10\n",
      "active_rate : 0.7\n",
      "processid   : 1380\n",
      "app_name    : sakura\n",
      "category    : editor\n",
      "title       : ■}■C■h■L■■■■■■■g\\WindowsPowerShell\\write-memo.ps1 - sakura 2.2.0.1  \n",
      "file_name   : memo.ps1\n",
      "\n",
      "created     : 2019/08/31 05:06\n",
      "state       : editor\n",
      "total       : 35\n",
      "total_char  : 9\n",
      "active_rate : 0.6\n",
      "processid   : 972\n",
      "app_name    : sakura\n",
      "category    : editor\n",
      "title       : ■}■C■h■L■■■■■■■g\\WindowsPowerShell\\write-review.ps1 - sakura 2.2.0.1  \n",
      "file_name   : review.ps1\n",
      "\n",
      "created     : 2019/08/31 05:07\n",
      "state       : editor\n",
      "total       : 21\n",
      "total_char  : 10\n",
      "active_rate : 0.6\n",
      "processid   : 972\n",
      "app_name    : sakura\n",
      "category    : editor\n",
      "title       : ■}■C■h■L■■■■■■■g\\WindowsPowerShell\\write-review.ps1 - sakura 2.2.0.1  \n",
      "file_name   : review.ps1\n",
      "\n",
      "\n",
      "\n"
     ]
    }
   ],
   "source": [
    "$data[0..4]"
   ]
  },
  {
   "cell_type": "code",
   "execution_count": 6,
   "metadata": {},
   "outputs": [
    {
     "name": "stdout",
     "output_type": "stream",
     "text": [
      "\n",
      "$data[0].GetType()\n",
      "\n",
      "IsPublic IsSerial Name                                     BaseType                                                    \n",
      "-------- -------- ----                                     --------                                                    \n",
      "True     False    PSCustomObject                           System.Object                                               \n",
      "\n",
      "\n",
      "\n"
     ]
    }
   ],
   "source": [
    "\n",
    "$data[0].GetType()"
   ]
  },
  {
   "cell_type": "code",
   "execution_count": 7,
   "metadata": {},
   "outputs": [
    {
     "name": "stdout",
     "output_type": "stream",
     "text": [
      "\n",
      "\n",
      "   TypeName: System.Management.Automation.PSCustomObject\n",
      "\n",
      "Name        MemberType   Definition                     \n",
      "----        ----------   ----------                     \n",
      "Equals      Method       bool Equals(System.Object obj) \n",
      "GetHashCode Method       int GetHashCode()              \n",
      "GetType     Method       type GetType()                 \n",
      "ToString    Method       string ToString()              \n",
      "active_rate NoteProperty string active_rate=0.6         \n",
      "app_name    NoteProperty string app_name=sourcetree     \n",
      "category    NoteProperty string category=develop        \n",
      "created     NoteProperty string created=2019/08/31 05:03\n",
      "file_name   NoteProperty string file_name=              \n",
      "processid   NoteProperty string processid=8940          \n",
      "state       NoteProperty string state=BROWSING          \n",
      "title       NoteProperty string title=Sourcetree        \n",
      "total       NoteProperty string total=10                \n",
      "total_char  NoteProperty string total_char=0            \n",
      "\n",
      "\n"
     ]
    }
   ],
   "source": [
    "$data[0] | Get-Member "
   ]
  },
  {
   "cell_type": "code",
   "execution_count": 8,
   "metadata": {},
   "outputs": [
    {
     "name": "stdout",
     "output_type": "stream",
     "text": [
      "\n",
      "\n",
      "   TypeName: System.Management.Automation.PSCustomObject\n",
      "\n",
      "Name        MemberType   Definition                     \n",
      "----        ----------   ----------                     \n",
      "active_rate NoteProperty string active_rate=0.6         \n",
      "app_name    NoteProperty string app_name=sourcetree     \n",
      "category    NoteProperty string category=develop        \n",
      "created     NoteProperty string created=2019/08/31 05:03\n",
      "file_name   NoteProperty string file_name=              \n",
      "processid   NoteProperty string processid=8940          \n",
      "state       NoteProperty string state=BROWSING          \n",
      "title       NoteProperty string title=Sourcetree        \n",
      "total       NoteProperty string total=10                \n",
      "total_char  NoteProperty string total_char=0            \n",
      "\n",
      "\n"
     ]
    }
   ],
   "source": [
    "$data[0] | Get-Member -MemberType NoteProperty"
   ]
  },
  {
   "cell_type": "code",
   "execution_count": 10,
   "metadata": {},
   "outputs": [
    {
     "name": "stdout",
     "output_type": "stream",
     "text": [
      "\n"
     ]
    }
   ],
   "source": [
    "$data[0].ToString()"
   ]
  },
  {
   "cell_type": "code",
   "execution_count": 12,
   "metadata": {},
   "outputs": [
    {
     "name": "stdout",
     "output_type": "stream",
     "text": [
      "\"created\",\"state\",\"total\",\"total_char\",\"active_rate\",\"processid\",\"app_name\",\"category\",\"title\",\"file_name\"\n",
      "\"2019/08/31 05:03\",\"BROWSING\",\"10\",\"0\",\"0.6\",\"8940\",\"sourcetree\",\"develop\",\"Sourcetree\",\"\"\n"
     ]
    }
   ],
   "source": [
    "$data[0] | Convertto-Csv -notype"
   ]
  },
  {
   "cell_type": "code",
   "execution_count": 14,
   "metadata": {},
   "outputs": [
    {
     "name": "stdout",
     "output_type": "stream",
     "text": [
      "{\n",
      "    \"created\":  \"2019/08/31 05:03\",\n",
      "    \"state\":  \"BROWSING\",\n",
      "    \"total\":  \"10\",\n",
      "    \"total_char\":  \"0\",\n",
      "    \"active_rate\":  \"0.6\",\n",
      "    \"processid\":  \"8940\",\n",
      "    \"app_name\":  \"sourcetree\",\n",
      "    \"category\":  \"develop\",\n",
      "    \"title\":  \"Sourcetree\",\n",
      "    \"file_name\":  \"\"\n",
      "}\n"
     ]
    }
   ],
   "source": [
    "$data[0] | Convertto-json"
   ]
  },
  {
   "cell_type": "markdown",
   "metadata": {},
   "source": [
    "### Extract "
   ]
  },
  {
   "cell_type": "code",
   "execution_count": 16,
   "metadata": {},
   "outputs": [
    {
     "name": "stdout",
     "output_type": "stream",
     "text": []
    }
   ],
   "source": [
    "$data_no_operattin = $data | where-object {$_.state -eq 'NO_OPERATING'}"
   ]
  },
  {
   "cell_type": "code",
   "execution_count": 17,
   "metadata": {},
   "outputs": [
    {
     "name": "stdout",
     "output_type": "stream",
     "text": [
      "\n",
      "\n",
      "created     : 2019/08/31 05:17\n",
      "state       : NO_OPERATING\n",
      "total       : 0\n",
      "total_char  : 0\n",
      "active_rate : 0.8\n",
      "processid   : 10140\n",
      "app_name    : explorer\n",
      "category    : filer\n",
      "title       : explorer\n",
      "file_name   : \n",
      "\n",
      "created     : 2019/08/31 05:20\n",
      "state       : NO_OPERATING\n",
      "total       : 0\n",
      "total_char  : 0\n",
      "active_rate : 1\n",
      "processid   : 15676\n",
      "app_name    : microsoft edge\n",
      "category    : browser\n",
      "title       : Amazon.co.jp: ■|■■■h■[■■ ?- Microsoft Edge\n",
      "file_name   : \n",
      "\n",
      "created     : 2019/08/31 05:21\n",
      "state       : NO_OPERATING\n",
      "total       : 0\n",
      "total_char  : 0\n",
      "active_rate : 0.9\n",
      "processid   : 15676\n",
      "app_name    : microsoft edge\n",
      "category    : browser\n",
      "title       : Amazon.co.jp: ■|■■■h■[■■ ?- Microsoft Edge\n",
      "file_name   : \n",
      "\n",
      "created     : 2019/08/31 05:22\n",
      "state       : NO_OPERATING\n",
      "total       : 0\n",
      "total_char  : 0\n",
      "active_rate : 0.8\n",
      "processid   : 15676\n",
      "app_name    : microsoft edge\n",
      "category    : browser\n",
      "title       : Amazon.co.jp: ■|■■■h■[■■ ?- Microsoft Edge\n",
      "file_name   : \n",
      "\n",
      "created     : 2019/08/31 05:31\n",
      "state       : NO_OPERATING\n",
      "total       : 0\n",
      "total_char  : 0\n",
      "active_rate : 1\n",
      "processid   : 9600\n",
      "app_name    : powershell\n",
      "category    : terminal\n",
      "title       : Anaconda Powershell Prompt (Anaconda3)\n",
      "file_name   : \n",
      "\n",
      "\n",
      "\n"
     ]
    }
   ],
   "source": [
    "$data_no_operattin[0..4]"
   ]
  },
  {
   "cell_type": "code",
   "execution_count": 22,
   "metadata": {},
   "outputs": [
    {
     "name": "stdout",
     "output_type": "stream",
     "text": []
    }
   ],
   "source": [
    "$data_no_operatting_edge = $data | where-object {($_.state -eq 'NO_OPERATING') -and ($_.app_name -eq 'microsoft edge')}"
   ]
  },
  {
   "cell_type": "code",
   "execution_count": 26,
   "metadata": {},
   "outputs": [
    {
     "name": "stdout",
     "output_type": "stream",
     "text": [
      "\n",
      "created          state        app_name       title                                                                     \n",
      "-------          -----        --------       -----                                                                     \n",
      "2019/08/31 05:20 NO_OPERATING microsoft edge Amazon.co.jp: ■|■■■h■[■■ ?- Microsoft Edge                                \n",
      "2019/08/31 05:21 NO_OPERATING microsoft edge Amazon.co.jp: ■|■■■h■[■■ ?- Microsoft Edge                                \n",
      "2019/08/31 05:22 NO_OPERATING microsoft edge Amazon.co.jp: ■|■■■h■[■■ ?- Microsoft Edge                                \n",
      "2019/08/31 05:42 NO_OPERATING microsoft edge ■ǂ■■d■■■■u25■■+5■■■v■Ō■■ʂ■■o■■■|■■■h■[■■■E■e■N■j■b■N■■■■| ■t■■... \n",
      "2019/08/31 07:16 NO_OPERATING microsoft edge ■`■[■■■ӎ■■■■■■■A■■■̒■■ɉ■■l■■c■■■■■■■R■[■_■[■■■W | ■■■■■■ JOY-N...\n",
      "\n",
      "\n"
     ]
    }
   ],
   "source": [
    "$data_no_operatting_edge[0..4] | format-table created, state, app_name, title"
   ]
  },
  {
   "cell_type": "code",
   "execution_count": 37,
   "metadata": {},
   "outputs": [
    {
     "name": "stdout",
     "output_type": "stream",
     "text": [
      "\n",
      "\n",
      "Count    : 457\n",
      "Average  : 76.9190371991247\n",
      "Sum      : 35152\n",
      "Maximum  : 1092\n",
      "Minimum  : 2\n",
      "Property : total\n",
      "\n",
      "Count    : 457\n",
      "Average  : 0\n",
      "Sum      : 0\n",
      "Maximum  : 0\n",
      "Minimum  : 0\n",
      "Property : total_char\n",
      "\n",
      "\n",
      "\n"
     ]
    }
   ],
   "source": [
    "$data | where-object {$_.state -eq 'BROWSING'} |\n",
    "          select-object category, total, total_char |\n",
    "              measure-object total, total_char -sum -Average -Max -Min"
   ]
  },
  {
   "cell_type": "code",
   "execution_count": null,
   "metadata": {},
   "outputs": [],
   "source": []
  }
 ],
 "metadata": {
  "kernelspec": {
   "display_name": "PowerShell",
   "language": "powershell",
   "name": "powershell"
  },
  "language_info": {
   "codemirror_mode": "shell",
   "file_extension": ".ps1",
   "mimetype": "text/x-sh",
   "name": "powershell"
  }
 },
 "nbformat": 4,
 "nbformat_minor": 2
}
