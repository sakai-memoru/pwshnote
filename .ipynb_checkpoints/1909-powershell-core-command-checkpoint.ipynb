{
 "cells": [
  {
   "cell_type": "markdown",
   "metadata": {},
   "source": [
    "# 1909-powershell-core-command"
   ]
  },
  {
   "cell_type": "markdown",
   "metadata": {},
   "source": [
    "## overview"
   ]
  },
  {
   "cell_type": "markdown",
   "metadata": {},
   "source": [
    "- powershell core command"
   ]
  },
  {
   "cell_type": "markdown",
   "metadata": {},
   "source": [
    "![Image from Gyazo](https://i.gyazo.com/9c23d8a166aeaa46a042f3b1f33dcf33.png)"
   ]
  },
  {
   "cell_type": "markdown",
   "metadata": {},
   "source": [
    "## jupyter notebook"
   ]
  },
  {
   "cell_type": "markdown",
   "metadata": {},
   "source": [
    "- https://nbviewer.jupyter.org/github/sakai-memoru/pwshnote/blob/master/1909-powershell-core-command.ipynb"
   ]
  },
  {
   "cell_type": "markdown",
   "metadata": {},
   "source": [
    "## log"
   ]
  },
  {
   "cell_type": "markdown",
   "metadata": {},
   "source": [
    "### Basic"
   ]
  },
  {
   "cell_type": "markdown",
   "metadata": {},
   "source": [
    "#### pwd"
   ]
  },
  {
   "cell_type": "code",
   "execution_count": 38,
   "metadata": {},
   "outputs": [
    {
     "name": "stdout",
     "output_type": "stream",
     "text": [
      "## location\n",
      "Get-Location\n",
      "\n",
      "Path                 \n",
      "----                 \n",
      "G:\\workspace\\pwshnote\n",
      "\n",
      "\n"
     ]
    }
   ],
   "source": [
    "## location\n",
    "Get-Location"
   ]
  },
  {
   "cell_type": "code",
   "execution_count": 40,
   "metadata": {},
   "outputs": [
    {
     "name": "stdout",
     "output_type": "stream",
     "text": [
      "\n",
      "Path                 \n",
      "----                 \n",
      "G:\\workspace\\pwshnote\n",
      "\n",
      "\n"
     ]
    }
   ],
   "source": [
    "pwd"
   ]
  },
  {
   "cell_type": "code",
   "execution_count": 3,
   "metadata": {},
   "outputs": [
    {
     "name": "stdout",
     "output_type": "stream",
     "text": [
      "\n",
      "Path                 \n",
      "----                 \n",
      "G:\\workspace\\pwshnote\n",
      "\n",
      "\n"
     ]
    }
   ],
   "source": [
    "$pwd"
   ]
  },
  {
   "cell_type": "markdown",
   "metadata": {},
   "source": [
    "### mkdir - rmdir"
   ]
  },
  {
   "cell_type": "code",
   "execution_count": 4,
   "metadata": {},
   "outputs": [
    {
     "name": "stdout",
     "output_type": "stream",
     "text": [
      "mkdir : An item with the specified name G:\\workspace\\pwshnote\\temp already exists.\n",
      "At line:1 char:1\n",
      "+ mkdir temp\n",
      "+ ~~~~~~~~~~\n",
      "    + CategoryInfo          : ResourceExists: (G:\\workspace\\pwshnote\\temp:String) [New-Item], IOException\n",
      "    + FullyQualifiedErrorId : DirectoryExist,Microsoft.PowerShell.Commands.NewItemCommand\n",
      " \n"
     ]
    }
   ],
   "source": [
    "mkdir temp"
   ]
  },
  {
   "cell_type": "code",
   "execution_count": 5,
   "metadata": {},
   "outputs": [
    {
     "name": "stdout",
     "output_type": "stream",
     "text": [
      "\n",
      "\n",
      "    Directory: G:\\workspace\\pwshnote\n",
      "\n",
      "\n",
      "Mode                LastWriteTime         Length Name                                                                  \n",
      "----                -------------         ------ ----                                                                  \n",
      "d-----       01/09/2019     06:10                temptemp                                                              \n",
      "\n",
      "\n"
     ]
    }
   ],
   "source": [
    "New-Item -ItemType Directory temptemp"
   ]
  },
  {
   "cell_type": "code",
   "execution_count": 6,
   "metadata": {},
   "outputs": [
    {
     "name": "stdout",
     "output_type": "stream",
     "text": []
    }
   ],
   "source": [
    "Remove-Item temptemp"
   ]
  },
  {
   "cell_type": "code",
   "execution_count": 7,
   "metadata": {},
   "outputs": [
    {
     "name": "stdout",
     "output_type": "stream",
     "text": [
      "\n",
      "\n",
      "    Directory: G:\\workspace\\pwshnote\n",
      "\n",
      "\n",
      "Mode                LastWriteTime         Length Name                                                                  \n",
      "----                -------------         ------ ----                                                                  \n",
      "d-----       01/09/2019     05:41                .ipynb_checkpoints                                                    \n",
      "d-----       01/09/2019     05:58                temp                                                                  \n",
      "\n",
      "\n"
     ]
    }
   ],
   "source": [
    "Get-ChildItem -Directory"
   ]
  },
  {
   "cell_type": "markdown",
   "metadata": {},
   "source": [
    "### touch"
   ]
  },
  {
   "cell_type": "code",
   "execution_count": 11,
   "metadata": {},
   "outputs": [
    {
     "name": "stdout",
     "output_type": "stream",
     "text": [
      "\n",
      "\n",
      "    Directory: G:\\workspace\\pwshnote\\temp\n",
      "\n",
      "\n",
      "Mode                LastWriteTime         Length Name                                                                  \n",
      "----                -------------         ------ ----                                                                  \n",
      "-a----       01/09/2019     06:11              0 temp.txt                                                              \n",
      "\n",
      "\n"
     ]
    }
   ],
   "source": [
    "New-Item ./temp/temp.txt"
   ]
  },
  {
   "cell_type": "code",
   "execution_count": 12,
   "metadata": {},
   "outputs": [
    {
     "name": "stdout",
     "output_type": "stream",
     "text": [
      "\n",
      "\n",
      "    Directory: G:\\workspace\\pwshnote\\temp\n",
      "\n",
      "\n",
      "Mode                LastWriteTime         Length Name                                                                  \n",
      "----                -------------         ------ ----                                                                  \n",
      "-a----       01/09/2019     06:11              0 temp.txt                                                              \n",
      "\n",
      "\n"
     ]
    }
   ],
   "source": [
    "dir temp/*"
   ]
  },
  {
   "cell_type": "code",
   "execution_count": 10,
   "metadata": {},
   "outputs": [
    {
     "name": "stdout",
     "output_type": "stream",
     "text": []
    }
   ],
   "source": [
    "explorer ."
   ]
  },
  {
   "cell_type": "markdown",
   "metadata": {},
   "source": [
    "### Set - Add - Clear content"
   ]
  },
  {
   "cell_type": "code",
   "execution_count": 13,
   "metadata": {},
   "outputs": [
    {
     "name": "stdout",
     "output_type": "stream",
     "text": []
    }
   ],
   "source": [
    "Add-Content ./temp/temp.txt -Value 'powershell is a shell script.'"
   ]
  },
  {
   "cell_type": "code",
   "execution_count": 14,
   "metadata": {},
   "outputs": [
    {
     "name": "stdout",
     "output_type": "stream",
     "text": [
      "powershell is a shell script.\n"
     ]
    }
   ],
   "source": [
    "Get-Content ./temp/temp.txt"
   ]
  },
  {
   "cell_type": "code",
   "execution_count": 15,
   "metadata": {},
   "outputs": [
    {
     "name": "stdout",
     "output_type": "stream",
     "text": []
    }
   ],
   "source": [
    "notepad ./temp/temp.txt"
   ]
  },
  {
   "cell_type": "code",
   "execution_count": 18,
   "metadata": {},
   "outputs": [
    {
     "name": "stdout",
     "output_type": "stream",
     "text": [
      "\n",
      "\n",
      "    Directory: G:\\workspace\\pwshnote\\temp\n",
      "\n",
      "\n",
      "Mode                LastWriteTime         Length Name                                                                  \n",
      "----                -------------         ------ ----                                                                  \n",
      "-a----       01/09/2019     06:12             31 temp.txt                                                              \n",
      "\n",
      "\n"
     ]
    }
   ],
   "source": [
    "Get-ChildItem temp/*"
   ]
  },
  {
   "cell_type": "code",
   "execution_count": 19,
   "metadata": {},
   "outputs": [
    {
     "name": "stdout",
     "output_type": "stream",
     "text": []
    }
   ],
   "source": [
    "Add-Content ./temp/temp.txt -Value 'powershell is a shell script....'"
   ]
  },
  {
   "cell_type": "code",
   "execution_count": 20,
   "metadata": {},
   "outputs": [
    {
     "name": "stdout",
     "output_type": "stream",
     "text": [
      "powershell is a shell script.\n",
      "powershell is a shell script....\n"
     ]
    }
   ],
   "source": [
    "cat ./temp/temp.txt"
   ]
  },
  {
   "cell_type": "code",
   "execution_count": 23,
   "metadata": {},
   "outputs": [
    {
     "name": "stdout",
     "output_type": "stream",
     "text": []
    }
   ],
   "source": [
    "Set-Content ./temp/temp.txt -Value 'powershell is a shell script............'"
   ]
  },
  {
   "cell_type": "code",
   "execution_count": 24,
   "metadata": {},
   "outputs": [
    {
     "name": "stdout",
     "output_type": "stream",
     "text": [
      "powershell is a shell script............\n"
     ]
    }
   ],
   "source": [
    "type ./temp/temp.txt"
   ]
  },
  {
   "cell_type": "code",
   "execution_count": 25,
   "metadata": {},
   "outputs": [
    {
     "name": "stdout",
     "output_type": "stream",
     "text": []
    }
   ],
   "source": [
    "Clear-Content ./temp/temp.txt"
   ]
  },
  {
   "cell_type": "code",
   "execution_count": 26,
   "metadata": {},
   "outputs": [
    {
     "name": "stdout",
     "output_type": "stream",
     "text": [
      "\n",
      "\n",
      "    Directory: G:\\workspace\\pwshnote\\temp\n",
      "\n",
      "\n",
      "Mode                LastWriteTime         Length Name                                                                  \n",
      "----                -------------         ------ ----                                                                  \n",
      "-a----       01/09/2019     06:17              0 temp.txt                                                              \n",
      "\n",
      "\n"
     ]
    }
   ],
   "source": [
    "dir ./temp"
   ]
  },
  {
   "cell_type": "code",
   "execution_count": 28,
   "metadata": {},
   "outputs": [
    {
     "name": "stdout",
     "output_type": "stream",
     "text": []
    }
   ],
   "source": [
    "cat ./temp/temp.txt"
   ]
  },
  {
   "cell_type": "markdown",
   "metadata": {},
   "source": [
    "### Get-Help"
   ]
  },
  {
   "cell_type": "code",
   "execution_count": 1,
   "metadata": {},
   "outputs": [
    {
     "name": "stdout",
     "output_type": "stream",
     "text": []
    }
   ],
   "source": [
    "Get-Help about_core* | set -Name store"
   ]
  },
  {
   "cell_type": "code",
   "execution_count": 3,
   "metadata": {},
   "outputs": [
    {
     "name": "stdout",
     "output_type": "stream",
     "text": [
      "System.String\n"
     ]
    }
   ],
   "source": [
    "$store.GetType().fullname"
   ]
  },
  {
   "cell_type": "code",
   "execution_count": 4,
   "metadata": {},
   "outputs": [
    {
     "name": "stdout",
     "output_type": "stream",
     "text": []
    }
   ],
   "source": [
    "$store -split \"`r`n\" | set -Name ary"
   ]
  },
  {
   "cell_type": "code",
   "execution_count": 5,
   "metadata": {},
   "outputs": [
    {
     "name": "stdout",
     "output_type": "stream",
     "text": [
      "101\n"
     ]
    }
   ],
   "source": [
    "$ary.Length"
   ]
  },
  {
   "cell_type": "code",
   "execution_count": 14,
   "metadata": {},
   "outputs": [
    {
     "name": "stdout",
     "output_type": "stream",
     "text": [
      "$i = 0\n",
      "foreach($ar in $ary)\n",
      ">> {\n",
      ">>   if($ar -match 'SEE ALSO')\n",
      ">>   {\n",
      ">>     break\n",
      ">>   }\n",
      ">>   $i++\n",
      ">> }\n",
      ">> $ary[$i..$ary.Length]\n",
      ">> \n",
      "SEE ALSO\n",
      "    about_Providers\n",
      "\n",
      "\n",
      "\n",
      "\n",
      "\n",
      "\n",
      "\n",
      "\n",
      "\n",
      "\n",
      "\n",
      "\n",
      "\n"
     ]
    }
   ],
   "source": [
    "$i = 0\n",
    "foreach($ar in $ary)\n",
    "{\n",
    "  if($ar -match 'SEE ALSO')\n",
    "  {\n",
    "    break\n",
    "  }\n",
    "  $i++\n",
    "}\n",
    "$ary[$i..$ary.Length]"
   ]
  },
  {
   "cell_type": "markdown",
   "metadata": {},
   "source": [
    "- SEE ALSO\n",
    "  + about_Providers\n",
    "    * https://nbviewer.jupyter.org/github/sakai-memoru/pwshnote/blob/master/1909-powershell-about_Providers.ipynb"
   ]
  },
  {
   "cell_type": "code",
   "execution_count": 8,
   "metadata": {},
   "outputs": [
    {
     "name": "stdout",
     "output_type": "stream",
     "text": [
      "TOPIC\n",
      "    about_Core_Commands\n",
      "\n",
      "SHORT DESCRIPTION\n",
      "    Lists the cmdlets that are designed for use with Windows PowerShell \n",
      "    providers.\n",
      "\n",
      "\n",
      "LONG DESCRIPTION\n",
      "    Windows PowerShell includes a set of cmdlets that are specifically \n",
      "    designed to manage the items in the data stores that are exposed by Windows\n",
      "    PowerShell providers. You can use these cmdlets in the same ways to manage\n",
      "    all the different types of data that the providers make available to you.\n",
      "    For more information about providers, type \"get-help about_providers\".\n",
      "\n",
      "\n",
      "    For example, you can use the Get-ChildItem cmdlet to list the files in a\n",
      "    file system directory, the keys under a registry key, or the items that are\n",
      "    exposed by a provider that you write or download.\n",
      "\n",
      "\n",
      "    The following is a list of the Windows PowerShell cmdlets that are designed\n",
      "    for use with providers:\n",
      "\n",
      "    \n"
     ]
    }
   ],
   "source": [
    "$ary[0..24]"
   ]
  },
  {
   "cell_type": "code",
   "execution_count": 11,
   "metadata": {},
   "outputs": [
    {
     "name": "stdout",
     "output_type": "stream",
     "text": [
      "  ChildItem cmdlets\n",
      "      Get-ChildItem\n",
      "\n",
      "\n",
      "  Content cmdlets\n",
      "      Add-Content\n",
      "      Clear-Content\n",
      "      Get-Content\n",
      "      Set-Content\n",
      "\n",
      "\n",
      "  Item cmdlets\n",
      "      Clear-Item\n",
      "      Copy-Item\n",
      "      Get-Item\n",
      "      Invoke-Item\n",
      "      Move-Item\n",
      "      New-Item\n",
      "      Remove-Item\n",
      "      Rename-Item\n",
      "      Set-Item\n",
      "\n",
      "\n",
      "  ItemProperty cmdlets\n",
      "      Clear-ItemProperty\n",
      "      Copy-ItemProperty\n",
      "      Get-ItemProperty\n",
      "      Move-ItemProperty\n",
      "      New-ItemProperty\n",
      "      Remove-ItemProperty\n",
      "      Rename-ItemProperty\n",
      "      Set-ItemProperty\n",
      "\n",
      "\n"
     ]
    }
   ],
   "source": [
    "$ary[25..58]"
   ]
  },
  {
   "cell_type": "code",
   "execution_count": 12,
   "metadata": {},
   "outputs": [
    {
     "name": "stdout",
     "output_type": "stream",
     "text": [
      "  Location cmdlets\n",
      "      Get-Location\n",
      "      Pop-Location\n",
      "      Push-Location\n",
      "      Set-Location\n",
      "\n",
      "\n",
      "  Path cmdlets\n",
      "      Join-Path\n",
      "      Convert-Path\n",
      "      Split-Path\n",
      "      Resolve-Path\n",
      "      Test-Path\n",
      "\n",
      "\n",
      "  PSDrive cmdlets\n",
      "      Get-PSDrive\n",
      "      New-PSDrive\n",
      "      Remove-PSDrive\n",
      "\n",
      "\n",
      "  PSProvider cmdlets\n",
      "      Get-PSProvider\n",
      "\n",
      "\n",
      "    For more information about a cmdlet, type \"get-help <cmdlet-name>\". \n",
      "\n",
      "SEE ALSO\n",
      "    about_Providers\n",
      "\n",
      "\n",
      "\n",
      "\n",
      "\n",
      "\n",
      "\n",
      "\n",
      "\n",
      "\n",
      "\n",
      "\n",
      "\n"
     ]
    }
   ],
   "source": [
    "$ary[59..$ary.Length]"
   ]
  },
  {
   "cell_type": "markdown",
   "metadata": {},
   "source": [
    "### Get-Alias"
   ]
  },
  {
   "cell_type": "code",
   "execution_count": 30,
   "metadata": {},
   "outputs": [
    {
     "name": "stdout",
     "output_type": "stream",
     "text": [
      "\n",
      "Alias           ac -> Add-Content                                                                                      \n",
      "Alias           cat -> Get-Content                                                                                     \n",
      "Alias           clc -> Clear-Content                                                                                   \n",
      "Alias           gc -> Get-Content                                                                                      \n",
      "Alias           sc -> Set-Content                                                                                      \n",
      "Alias           type -> Get-Content                                                                                    \n",
      "\n",
      "\n"
     ]
    }
   ],
   "source": [
    "Get-Alias | Out-String -Stream | Select-String content"
   ]
  },
  {
   "cell_type": "code",
   "execution_count": 31,
   "metadata": {},
   "outputs": [
    {
     "name": "stdout",
     "output_type": "stream",
     "text": [
      "\n",
      "Alias           cd -> Set-Location                                                                                     \n",
      "Alias           chdir -> Set-Location                                                                                  \n",
      "Alias           gl -> Get-Location                                                                                     \n",
      "Alias           popd -> Pop-Location                                                                                   \n",
      "Alias           pushd -> Push-Location                                                                                 \n",
      "Alias           pwd -> Get-Location                                                                                    \n",
      "Alias           sl -> Set-Location                                                                                     \n",
      "\n",
      "\n"
     ]
    }
   ],
   "source": [
    "Get-Alias | Out-String -Stream | Select-String location"
   ]
  },
  {
   "cell_type": "code",
   "execution_count": 32,
   "metadata": {},
   "outputs": [
    {
     "name": "stdout",
     "output_type": "stream",
     "text": [
      "\n",
      "Alias           dir -> Get-ChildItem                                                                                   \n",
      "Alias           gci -> Get-ChildItem                                                                                   \n",
      "Alias           ls -> Get-ChildItem                                                                                    \n",
      "\n",
      "\n"
     ]
    }
   ],
   "source": [
    "Get-Alias | Out-String -Stream | Select-String ChildItem"
   ]
  },
  {
   "cell_type": "code",
   "execution_count": 37,
   "metadata": {},
   "outputs": [
    {
     "name": "stdout",
     "output_type": "stream",
     "text": [
      "\n",
      "Alias           cli -> Clear-Item                                                                                      \n",
      "Alias           copy -> Copy-Item                                                                                      \n",
      "Alias           cp -> Copy-Item                                                                                        \n",
      "Alias           cpi -> Copy-Item                                                                                       \n",
      "Alias           del -> Remove-Item                                                                                     \n",
      "Alias           dir -> Get-ChildItem                                                                                   \n",
      "Alias           erase -> Remove-Item                                                                                   \n",
      "Alias           gci -> Get-ChildItem                                                                                   \n",
      "Alias           gi -> Get-Item                                                                                         \n",
      "Alias           ii -> Invoke-Item                                                                                      \n",
      "Alias           ls -> Get-ChildItem                                                                                    \n",
      "Alias           mi -> Move-Item                                                                                        \n",
      "Alias           move -> Move-Item                                                                                      \n",
      "Alias           mv -> Move-Item                                                                                        \n",
      "Alias           ni -> New-Item                                                                                         \n",
      "Alias           rd -> Remove-Item                                                                                      \n",
      "Alias           ren -> Rename-Item                                                                                     \n",
      "Alias           ri -> Remove-Item                                                                                      \n",
      "Alias           rm -> Remove-Item                                                                                      \n",
      "Alias           rmdir -> Remove-Item                                                                                   \n",
      "Alias           rni -> Rename-Item                                                                                     \n",
      "Alias           si -> Set-Item                                                                                         \n",
      "\n",
      "\n"
     ]
    }
   ],
   "source": [
    "Get-Alias | Out-String -Stream | Select-String 'Item '"
   ]
  },
  {
   "cell_type": "code",
   "execution_count": null,
   "metadata": {},
   "outputs": [],
   "source": []
  }
 ],
 "metadata": {
  "kernelspec": {
   "display_name": "PowerShell",
   "language": "powershell",
   "name": "powershell"
  },
  "language_info": {
   "codemirror_mode": "shell",
   "file_extension": ".ps1",
   "mimetype": "text/x-sh",
   "name": "powershell"
  }
 },
 "nbformat": 4,
 "nbformat_minor": 2
}
