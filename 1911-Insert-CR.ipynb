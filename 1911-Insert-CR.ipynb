{
 "cells": [
  {
   "cell_type": "markdown",
   "metadata": {},
   "source": [
    "# 1911-Insert-CR"
   ]
  },
  {
   "cell_type": "code",
   "execution_count": 12,
   "metadata": {},
   "outputs": [
    {
     "name": "stdout",
     "output_type": "stream",
     "text": [
      "%windir%\\System32\\WindowsPowerShell\\v1.0\\powershell.exe -ExecutionPolicy ByPass -NoExit -Command \"& 'C:\\ProgramData\\Anaconda3\\shell\\condabin\\conda-hook.ps1' \n",
      " conda activate 'C:\\ProgramData\\Anaconda3'\n",
      " start-PwshNote.ps1\"\n"
     ]
    }
   ],
   "source": [
    "$text = @\"\n",
    "%windir%\\System32\\WindowsPowerShell\\v1.0\\powershell.exe -ExecutionPolicy ByPass -NoExit -Command \"& 'C:\\ProgramData\\Anaconda3\\shell\\condabin\\conda-hook.ps1' ; conda activate 'C:\\ProgramData\\Anaconda3'; start-PwshNote.ps1\"\n",
    "\"@\n",
    "$sep  = \";\"\n",
    "\n",
    "$ary = $text -split $sep\n"
   ]
  },
  {
   "cell_type": "code",
   "execution_count": 14,
   "metadata": {},
   "outputs": [
    {
     "name": "stdout",
     "output_type": "stream",
     "text": [
      "%windir%\\System32\\WindowsPowerShell\\v1.0\\powershell.exe -ExecutionPolicy ByPass -NoExit -Command \"& 'C:\\ProgramData\\Anaconda3\\shell\\condabin\\conda-hook.ps1' \n",
      " conda activate 'C:\\ProgramData\\Anaconda3'\n",
      " start-PwshNote.ps1\"\n"
     ]
    }
   ],
   "source": [
    "$ary"
   ]
  },
  {
   "cell_type": "markdown",
   "metadata": {},
   "source": [
    "![](http://www-creators.com/wp-content/uploads/2018/07/w3c-figures-20180404-680x220.png)"
   ]
  },
  {
   "cell_type": "code",
   "execution_count": 19,
   "metadata": {},
   "outputs": [
    {
     "name": "stdout",
     "output_type": "stream",
     "text": [
      "sls : The string (?<=\\\".*(?=\\\") is not a valid regular expression: parsing \"(?<=\\\".*(?=\\\")\" - Not enough )'s.\n",
      "At line:1 char:9\n",
      "+ $text | sls -Pattern $regx\n",
      "+         ~~~~~~~~~~~~~~~~~~\n",
      "    + CategoryInfo          : InvalidArgument: (:) [Select-String], ArgumentException\n",
      "    + FullyQualifiedErrorId : InvalidRegex,Microsoft.PowerShell.Commands.SelectStringCommand\n",
      " \n",
      "\n",
      "$regx = '(?<=\".*(?=\")'\n",
      "$text | sls -Pattern $regx\n",
      "sls : The string (?<=\".*(?=\") is not a valid regular expression: parsing \"(?<=\".*(?=\")\" - Not enough )'s.\n",
      "At line:1 char:9\n",
      "+ $text | sls -Pattern $regx\n",
      "+         ~~~~~~~~~~~~~~~~~~\n",
      "    + CategoryInfo          : InvalidArgument: (:) [Select-String], ArgumentException\n",
      "    + FullyQualifiedErrorId : InvalidRegex,Microsoft.PowerShell.Commands.SelectStringCommand\n",
      " \n",
      "\n"
     ]
    }
   ],
   "source": [
    "#$regx = '(?<=\".*(?=\")'\n",
    "$regx = \"(?<=``\".*(?=\")\"\n",
    "$text | sls -Pattern $regx"
   ]
  },
  {
   "cell_type": "code",
   "execution_count": 45,
   "metadata": {},
   "outputs": [
    {
     "name": "stdout",
     "output_type": "stream",
     "text": [
      "$regx = \"power\\w*\"\n",
      "$ary | out-string -stream | sls -Pattern $regx -AllMatches | set -Name mat\n",
      "$mat.Matches.Value\n",
      "PowerShell\n",
      "powershell\n",
      "\n"
     ]
    }
   ],
   "source": [
    "$regx = \"power\\w*\"\n",
    "$ary | out-string -stream | sls -Pattern $regx -AllMatches | set -Name mat\n",
    "$mat.Matches.Value"
   ]
  },
  {
   "cell_type": "code",
   "execution_count": null,
   "metadata": {},
   "outputs": [],
   "source": []
  }
 ],
 "metadata": {
  "kernelspec": {
   "display_name": "PowerShell",
   "language": "powershell",
   "name": "powershell"
  },
  "language_info": {
   "codemirror_mode": "shell",
   "file_extension": ".ps1",
   "mimetype": "text/x-sh",
   "name": "powershell"
  }
 },
 "nbformat": 4,
 "nbformat_minor": 2
}
