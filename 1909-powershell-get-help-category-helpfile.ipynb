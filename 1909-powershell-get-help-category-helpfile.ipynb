{
 "cells": [
  {
   "cell_type": "markdown",
   "metadata": {},
   "source": [
    "# 1909-powershell-get-help-category-helpfile"
   ]
  },
  {
   "cell_type": "markdown",
   "metadata": {},
   "source": [
    "## jupyter notebook"
   ]
  },
  {
   "cell_type": "markdown",
   "metadata": {},
   "source": [
    "- https://nbviewer.jupyter.org/github/sakai-memoru/pwshnote/blob/master/1909-powershell-get-help-category-helpfile.ipynb"
   ]
  },
  {
   "cell_type": "markdown",
   "metadata": {},
   "source": [
    "### commands\n",
    "about_Core_Commands                   \n",
    "about_Execution_Policies              \n",
    "about_Signing                         \n",
    "about_Aliases                         "
   ]
  },
  {
   "cell_type": "markdown",
   "metadata": {},
   "source": [
    "### other topics of command\n",
    "default  (Get-Help)                  \n",
    "about_Command_Syntax                  \n",
    "about_CommonParameters                \n",
    "about_Command_Precedence              \n",
    "about_Comment_Based_Help              \n",
    "about_Updatable_Help                  "
   ]
  },
  {
   "cell_type": "markdown",
   "metadata": {},
   "source": [
    "### Core\n",
    "about_Parameters                      \n",
    "about_Parameters_Default_Values       \n",
    "about_Providers                       \n",
    "about_Locations                       \n",
    "about_PackageManagement               \n",
    "about_PSSnapins                       \n",
    "about_Modules                         "
   ]
  },
  {
   "cell_type": "markdown",
   "metadata": {},
   "source": [
    "### shell feature\n",
    "about_Pipelines                       \n",
    "about_Redirection                     \n",
    "about_Prompts                         \n",
    "about_Profiles                        \n",
    "about_PowerShell.exe                  \n",
    "about_PowerShell_Ise.exe              \n",
    "about_Windows_PowerShell_5.0          \n",
    "about_Windows_PowerShell_ISE          "
   ]
  },
  {
   "cell_type": "markdown",
   "metadata": {},
   "source": [
    "### Syntax of programming,etc\n",
    "about_Path_Syntax                     \n",
    "about_Quoting_Rules                   \n",
    "about_Sequence                        \n",
    "about_Scopes                          \n",
    "about_Language_Keywords               \n",
    "about_Reserved_Words                  \n",
    "about_Language_Modes                  "
   ]
  },
  {
   "cell_type": "markdown",
   "metadata": {},
   "source": [
    "### Data Models\n",
    "about_Methods                         \n",
    "about_Properties                      \n",
    "about_Arrays                          \n",
    "about_Hash_Tables                     \n",
    "about_Objects                         \n",
    "about_Object_Creation                 \n",
    "about_Types.ps1xml                    "
   ]
  },
  {
   "cell_type": "markdown",
   "metadata": {},
   "source": [
    "### variables\n",
    "about_Variables                       \n",
    "about_Automatic_Variables             \n",
    "about_Environment_Variables           \n",
    "about_Preference_Variables            \n",
    "about_Ref                             \n"
   ]
  },
  {
   "cell_type": "markdown",
   "metadata": {},
   "source": [
    "### operators\n",
    "about_Operators                       \n",
    "about_Arithmetic_Operators            \n",
    "about_Assignment_Operators            \n",
    "about_Comparison_Operators            \n",
    "about_Logical_Operators               \n",
    "about_Operator_Precedence             \n",
    "about_Type_Operators                  "
   ]
  },
  {
   "cell_type": "markdown",
   "metadata": {},
   "source": [
    "### other operating\n",
    "about_Join                            \n",
    "about_Split                           \n",
    "about_Parsing                         "
   ]
  },
  {
   "cell_type": "markdown",
   "metadata": {},
   "source": [
    "### flow control\n",
    "about_If                              \n",
    "about_Switch                          \n",
    "about_Foreach                         \n",
    "about_For                             \n",
    "about_BeforeEach_AfterEach            \n",
    "about_While                           \n",
    "about_Do                              \n",
    "about_Continue                        \n",
    "about_Break                           \n",
    "about_Trap                            \n",
    "about_Try_Catch_Finally               \n",
    "about_Throw                           "
   ]
  },
  {
   "cell_type": "markdown",
   "metadata": {},
   "source": [
    "### String Charactor\n",
    "about_Special_Characters              \n",
    "about_Escape_Characters               \n",
    "about_Wildcards                       \n",
    "about_Regular_Expressions             \n",
    "about_Format.ps1xml                   "
   ]
  },
  {
   "cell_type": "markdown",
   "metadata": {},
   "source": [
    "### function\n",
    "about_Functions                       \n",
    "about_Functions_Advanced              \n",
    "about_Functions_Advanced_Methods      \n",
    "about_Functions_Advanced_Parameters   \n",
    "about_Functions_CmdletBindingAttribute\n",
    "about_Functions_OutputTypeAttribute   \n",
    "about_Return                          "
   ]
  },
  {
   "cell_type": "markdown",
   "metadata": {},
   "source": [
    "### scriptblock\n",
    "about_Scripts                         \n",
    "about_Script_Blocks                   \n",
    "about_Script_Internationalization     "
   ]
  },
  {
   "cell_type": "markdown",
   "metadata": {},
   "source": [
    "### Debug\n",
    "about_Debuggers                       \n",
    "about_Mocking                         \n",
    "about_Pester                          "
   ]
  },
  {
   "cell_type": "markdown",
   "metadata": {},
   "source": [
    "### workflow\n",
    "about_Workflows   \n",
    "about_WorkflowCommonParameters        \n",
    "about_Checkpoint-Workflow             \n",
    "about_Suspend-Workflow\n",
    "about_Parallel                        \n",
    "about_ForEach-Parallel    \n",
    "about_InlineScript                    \n"
   ]
  },
  {
   "cell_type": "markdown",
   "metadata": {},
   "source": [
    "### jobs and scheduled jobs\n",
    "about_Jobs                            \n",
    "about_Job_Details                     \n",
    "about_Scheduled_Jobs                  \n",
    "about_Scheduled_Jobs_Basics           \n",
    "about_Scheduled_Jobs_Advanced         \n",
    "about_Scheduled_Jobs_Troubleshooting  \n",
    "about_Requires                        \n",
    "about_Run_With_PowerShell             \n",
    "about_Transactions                    \n",
    "about_Eventlogs                       "
   ]
  },
  {
   "cell_type": "markdown",
   "metadata": {},
   "source": [
    "### remote\n",
    "about_Remote                          \n",
    "about_Remote_Jobs                     \n",
    "about_Remote_Requirements             \n",
    "about_Remote_Variables                \n",
    "about_Remote_Output                   \n",
    "about_Remote_Disconnected_Sessions    \n",
    "about_Remote_Troubleshooting          \n",
    "about_Remote_FAQ                      "
   ]
  },
  {
   "cell_type": "markdown",
   "metadata": {},
   "source": [
    "### WSMan WMI DSC\n",
    "WSManAbout                            \n",
    "about_WS-Management_Cmdlets           \n",
    "about_WMI                             \n",
    "about_WMI_Cmdlets                     \n",
    "about_WQL                             \n",
    "about_DesiredStateConfiguration       "
   ]
  },
  {
   "cell_type": "markdown",
   "metadata": {},
   "source": [
    "### Other\n",
    "about_ActivityCommonParameters        \n",
    "about_Classes                         \n",
    "about_Data_Sections                   \n",
    "about_Group_Policy_Settings           \n",
    "about_Hidden                          \n",
    "about_History                         \n",
    "about_InlineScript                    \n",
    "about_Line_Editing                    \n",
    "about_Parsing_LocTest                 \n",
    "about_PSConsoleHostReadLine           \n",
    "about_PSReadline                      \n",
    "about_CimSession                      \n",
    "about_PSSessions                      \n",
    "about_PSSession_Details               \n",
    "about_Session_Configurations          \n",
    "about_Session_Configuration_Files     \n",
    "about_Splatting                       \n",
    "about_Windows_RT                      \n",
    "about_should                          \n",
    "about_TestDrive                       \n",
    "about_ActivityCommonParameters        \n",
    "            "
   ]
  },
  {
   "cell_type": "code",
   "execution_count": 2,
   "metadata": {},
   "outputs": [
    {
     "name": "stdout",
     "output_type": "stream",
     "text": [
      "\n",
      "Name                                  \n",
      "----                                  \n",
      "about_ActivityCommonParameters        \n",
      "about_Aliases                         \n",
      "about_Arithmetic_Operators            \n",
      "about_Arrays                          \n",
      "about_Assignment_Operators            \n",
      "about_Automatic_Variables             \n",
      "about_Break                           \n",
      "about_Checkpoint-Workflow             \n",
      "about_CimSession                      \n",
      "about_Classes                         \n",
      "about_Command_Precedence              \n",
      "about_Command_Syntax                  \n",
      "about_Comment_Based_Help              \n",
      "about_CommonParameters                \n",
      "about_Comparison_Operators            \n",
      "about_Continue                        \n",
      "about_Core_Commands                   \n",
      "about_Data_Sections                   \n",
      "about_Debuggers                       \n",
      "about_DesiredStateConfiguration       \n",
      "about_Do                              \n",
      "about_Environment_Variables           \n",
      "about_Escape_Characters               \n",
      "about_Eventlogs                       \n",
      "about_Execution_Policies              \n",
      "about_For                             \n",
      "about_ForEach-Parallel                \n",
      "about_Foreach                         \n",
      "about_Format.ps1xml                   \n",
      "about_Functions                       \n",
      "about_Functions_Advanced              \n",
      "about_Functions_Advanced_Methods      \n",
      "about_Functions_Advanced_Parameters   \n",
      "about_Functions_CmdletBindingAttribute\n",
      "about_Functions_OutputTypeAttribute   \n",
      "about_Group_Policy_Settings           \n",
      "about_Hash_Tables                     \n",
      "about_Hidden                          \n",
      "about_History                         \n",
      "about_If                              \n",
      "about_InlineScript                    \n",
      "about_Jobs                            \n",
      "about_Job_Details                     \n",
      "about_Join                            \n",
      "about_Language_Keywords               \n",
      "about_Language_Modes                  \n",
      "about_Line_Editing                    \n",
      "about_Locations                       \n",
      "about_Logical_Operators               \n",
      "about_Methods                         \n",
      "about_Modules                         \n",
      "about_Objects                         \n",
      "about_Object_Creation                 \n",
      "about_Operators                       \n",
      "about_Operator_Precedence             \n",
      "about_PackageManagement               \n",
      "about_Parallel                        \n",
      "about_Parameters                      \n",
      "about_Parameters_Default_Values       \n",
      "about_Parsing                         \n",
      "about_Parsing_LocTest                 \n",
      "about_Path_Syntax                     \n",
      "about_Pipelines                       \n",
      "about_PowerShell.exe                  \n",
      "about_PowerShell_Ise.exe              \n",
      "about_Preference_Variables            \n",
      "about_Profiles                        \n",
      "about_Prompts                         \n",
      "about_Properties                      \n",
      "about_Providers                       \n",
      "about_PSConsoleHostReadLine           \n",
      "about_PSReadline                      \n",
      "about_PSSessions                      \n",
      "about_PSSession_Details               \n",
      "about_PSSnapins                       \n",
      "about_Quoting_Rules                   \n",
      "about_Redirection                     \n",
      "about_Ref                             \n",
      "about_Regular_Expressions             \n",
      "about_Remote                          \n",
      "about_Remote_Disconnected_Sessions    \n",
      "about_Remote_FAQ                      \n",
      "about_Remote_Jobs                     \n",
      "about_Remote_Output                   \n",
      "about_Remote_Requirements             \n",
      "about_Remote_Troubleshooting          \n",
      "about_Remote_Variables                \n",
      "about_Requires                        \n",
      "about_Reserved_Words                  \n",
      "about_Return                          \n",
      "about_Run_With_PowerShell             \n",
      "about_Scheduled_Jobs                  \n",
      "about_Scheduled_Jobs_Advanced         \n",
      "about_Scheduled_Jobs_Basics           \n",
      "about_Scheduled_Jobs_Troubleshooting  \n",
      "about_Scopes                          \n",
      "about_Scripts                         \n",
      "about_Script_Blocks                   \n",
      "about_Script_Internationalization     \n",
      "about_Sequence                        \n",
      "about_Session_Configurations          \n",
      "about_Session_Configuration_Files     \n",
      "about_Signing                         \n",
      "about_Special_Characters              \n",
      "about_Splatting                       \n",
      "about_Split                           \n",
      "about_Suspend-Workflow                \n",
      "about_Switch                          \n",
      "about_Throw                           \n",
      "about_Transactions                    \n",
      "about_Trap                            \n",
      "about_Try_Catch_Finally               \n",
      "about_Types.ps1xml                    \n",
      "about_Type_Operators                  \n",
      "about_Updatable_Help                  \n",
      "about_Variables                       \n",
      "about_While                           \n",
      "about_Wildcards                       \n",
      "about_Windows_PowerShell_5.0          \n",
      "about_Windows_PowerShell_ISE          \n",
      "about_Windows_RT                      \n",
      "about_WMI                             \n",
      "about_WMI_Cmdlets                     \n",
      "about_WorkflowCommonParameters        \n",
      "about_Workflows                       \n",
      "about_WQL                             \n",
      "about_WS-Management_Cmdlets           \n",
      "default                               \n",
      "WSManAbout                            \n",
      "about_BeforeEach_AfterEach            \n",
      "about_Mocking                         \n",
      "about_Pester                          \n",
      "about_should                          \n",
      "about_TestDrive                       \n",
      "about_Scheduled_Jobs                  \n",
      "about_Scheduled_Jobs_Advanced         \n",
      "about_Scheduled_Jobs_Basics           \n",
      "about_Scheduled_Jobs_Troubleshooting  \n",
      "about_ActivityCommonParameters        \n",
      "about_Checkpoint-Workflow             \n",
      "about_ForEach-Parallel                \n",
      "about_InlineScript                    \n",
      "about_Parallel                        \n",
      "about_Sequence                        \n",
      "about_Suspend-Workflow                \n",
      "about_WorkflowCommonParameters        \n",
      "about_Workflows                       \n",
      "\n",
      "\n"
     ]
    }
   ],
   "source": [
    "Get-Help -category helpfile | format-table Name"
   ]
  },
  {
   "cell_type": "code",
   "execution_count": null,
   "metadata": {},
   "outputs": [],
   "source": []
  }
 ],
 "metadata": {
  "kernelspec": {
   "display_name": "PowerShell",
   "language": "powershell",
   "name": "powershell"
  },
  "language_info": {
   "codemirror_mode": "shell",
   "file_extension": ".ps1",
   "mimetype": "text/x-sh",
   "name": "powershell"
  }
 },
 "nbformat": 4,
 "nbformat_minor": 2
}
