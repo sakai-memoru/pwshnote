{
 "cells": [
  {
   "cell_type": "markdown",
   "metadata": {},
   "source": [
    "# 1909-powershell-about_ActivityCommonParameters"
   ]
  },
  {
   "cell_type": "markdown",
   "metadata": {},
   "source": [
    "## overview"
   ]
  },
  {
   "cell_type": "markdown",
   "metadata": {},
   "source": [
    "- about_ActivityCommonParameters"
   ]
  },
  {
   "cell_type": "markdown",
   "metadata": {},
   "source": [
    "![Image from Gyazo](https://i.gyazo.com/9c23d8a166aeaa46a042f3b1f33dcf33.png)"
   ]
  },
  {
   "cell_type": "markdown",
   "metadata": {},
   "source": [
    "## jupyter notebook"
   ]
  },
  {
   "cell_type": "markdown",
   "metadata": {},
   "source": [
    "- https://nbviewer.jupyter.org/github/sakai-memoru/pwshnote/blob/master/1909-powershell-about_ActivityCommonParameters.ipynb"
   ]
  },
  {
   "cell_type": "markdown",
   "metadata": {},
   "source": [
    "## Usage"
   ]
  },
  {
   "cell_type": "markdown",
   "metadata": {},
   "source": [
    "### Get-Help"
   ]
  },
  {
   "cell_type": "code",
   "execution_count": 1,
   "metadata": {},
   "outputs": [
    {
     "name": "stdout",
     "output_type": "stream",
     "text": [
      "\n",
      "\n",
      "Name     : about_ActivityCommonParameters\n",
      "Synopsis : Describes the parameters that Windows PowerShell\n",
      "\n",
      "Name     : about_CommonParameters\n",
      "Synopsis : Describes the parameters that can be used with any cmdlet.\n",
      "\n",
      "Name     : about_WorkflowCommonParameters\n",
      "Synopsis : This topic describes the parameters that are valid on all Windows\n",
      "\n",
      "Name     : about_ActivityCommonParameters\n",
      "Synopsis : Describes the parameters that Windows PowerShell\n",
      "\n",
      "Name     : about_WorkflowCommonParameters\n",
      "Synopsis : This topic describes the parameters that are valid on all Windows\n",
      "\n",
      "\n",
      "\n"
     ]
    }
   ],
   "source": [
    "Get-Help -Category helpfile *commonparameters | select Name, Synopsis | format-list *"
   ]
  },
  {
   "cell_type": "markdown",
   "metadata": {},
   "source": [
    "### about_ActivityCommonParameters"
   ]
  },
  {
   "cell_type": "markdown",
   "metadata": {},
   "source": [
    "- for workflow"
   ]
  },
  {
   "cell_type": "code",
   "execution_count": 2,
   "metadata": {},
   "outputs": [
    {
     "name": "stdout",
     "output_type": "stream",
     "text": []
    }
   ],
   "source": [
    "Get-Help about_ActivityCommonParameters | set -Name store"
   ]
  },
  {
   "cell_type": "code",
   "execution_count": 3,
   "metadata": {},
   "outputs": [
    {
     "name": "stdout",
     "output_type": "stream",
     "text": [
      "System.Object[]\n"
     ]
    }
   ],
   "source": [
    "$store.GetType().Fullname"
   ]
  },
  {
   "cell_type": "code",
   "execution_count": 4,
   "metadata": {},
   "outputs": [
    {
     "name": "stdout",
     "output_type": "stream",
     "text": []
    }
   ],
   "source": [
    "$store -split \"`r`n\" | set -Name ary"
   ]
  },
  {
   "cell_type": "code",
   "execution_count": 5,
   "metadata": {},
   "outputs": [
    {
     "name": "stdout",
     "output_type": "stream",
     "text": [
      "1382\n"
     ]
    }
   ],
   "source": [
    "$ary.length"
   ]
  },
  {
   "cell_type": "code",
   "execution_count": 12,
   "metadata": {},
   "outputs": [
    {
     "name": "stdout",
     "output_type": "stream",
     "text": [
      "TOPIC\n",
      "    about_ActivityCommonParameters\n",
      "\n",
      "SHORT DESCRIPTION\n",
      "    Describes the parameters that Windows PowerShell \n",
      "    Workflow adds to activities.\n",
      "\n",
      "LONG DESCRIPTION\n",
      "    Windows PowerShell Workflow adds the activity common \n",
      "    parameters to activities that are derived from the \n",
      "    PSActivity base class. This category includes the \n",
      "    InlineScript activity and Windows PowerShell cmdlets \n",
      "    that are implemented as activities, such as Get-Process \n",
      "    and Get-WinEvent.\n",
      "\n",
      "    The activity common parameters are not valid on the \n",
      "    Suspend-Workflow and Checkpoint-Workflow activities \n",
      "    and they are not added to cmdlets or expressions that \n",
      "    Windows PowerShell Workflow automatically runs in an \n",
      "    InlineScript script block or similar activity. The \n",
      "    activity common parameters are available on the \n",
      "    InlineScript activity, but not on commands in the \n",
      "    InlineScript script block.\n",
      "\n",
      "    Several of the activity common parameters are also \n",
      "    workflow common parameters or Windows PowerShell \n",
      "    common parameters. Other activity common parameters \n",
      "    are unique to activities.\n",
      "\n",
      "    For information about the workflow common parameters, \n",
      "    see about_WorkflowCommonParameters. For information \n",
      "    about the Windows PowerShell common parameters, see \n",
      "    about_CommonParameters. \n",
      "\n",
      "\n"
     ]
    }
   ],
   "source": [
    "$ary[0..34]"
   ]
  },
  {
   "cell_type": "code",
   "execution_count": 23,
   "metadata": {},
   "outputs": [
    {
     "name": "stdout",
     "output_type": "stream",
     "text": [
      " LIST OF ACTIVITY COMMON PARAMETERS\n",
      "\n",
      "    AppendOutput                      PSDebug\n",
      "    Debug                             PSDisableSerialization\n",
      "    DisplayName                       PSDisableSerializationPreference\n",
      "    ErrorAction                       PSError\n",
      "    Input                             PSPersist\n",
      "    MergeErrorToOutput                PSPort\n",
      "    PSActionRetryCount                PSProgress\n",
      "    PSActionRetryIntervalSec          PSProgressMessage\n",
      "    PSActionRunningTimeoutSec         PSRemotingBehavior\n",
      "    PSApplicationName                 PSRequiredModules\n",
      "    PSAuthentication                  PSSessionOption\n",
      "    PSCertificateThumbprint           PSUseSSL\n",
      "    PSComputerName                    PSVerbose\n",
      "    PSConfigurationName               PSWarning\n",
      "    PSConnectionRetryCount            Result\n",
      "    PSConnectionRetryIntervalSec      UseDefaultInput\n",
      "    PSConnectionURI                   Verbose\n",
      "\n",
      " and more ....\n"
     ]
    }
   ],
   "source": [
    "$ary[35..53] + \"`r`n and more ....\""
   ]
  },
  {
   "cell_type": "code",
   "execution_count": null,
   "metadata": {},
   "outputs": [],
   "source": []
  }
 ],
 "metadata": {
  "kernelspec": {
   "display_name": "PowerShell",
   "language": "powershell",
   "name": "powershell"
  },
  "language_info": {
   "codemirror_mode": "shell",
   "file_extension": ".ps1",
   "mimetype": "text/x-sh",
   "name": "powershell"
  }
 },
 "nbformat": 4,
 "nbformat_minor": 2
}
