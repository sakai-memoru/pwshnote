{
 "cells": [
  {
   "cell_type": "markdown",
   "metadata": {},
   "source": [
    "# 1909-powershell-about_Functions"
   ]
  },
  {
   "cell_type": "markdown",
   "metadata": {},
   "source": [
    "## overview"
   ]
  },
  {
   "cell_type": "markdown",
   "metadata": {},
   "source": [
    "- about_Functions"
   ]
  },
  {
   "cell_type": "markdown",
   "metadata": {},
   "source": [
    "![Image from Gyazo](https://i.gyazo.com/9c23d8a166aeaa46a042f3b1f33dcf33.png)"
   ]
  },
  {
   "cell_type": "markdown",
   "metadata": {},
   "source": [
    "## jupyter notebook"
   ]
  },
  {
   "cell_type": "markdown",
   "metadata": {},
   "source": [
    "- https://nbviewer.jupyter.org/github/sakai-memoru/pwshnote/blob/master/1909-powershell-about_Functions.ipynb"
   ]
  },
  {
   "cell_type": "markdown",
   "metadata": {},
   "source": [
    "## Usage"
   ]
  },
  {
   "cell_type": "markdown",
   "metadata": {},
   "source": [
    "### Get-Help"
   ]
  },
  {
   "cell_type": "code",
   "execution_count": 2,
   "metadata": {},
   "outputs": [
    {
     "name": "stdout",
     "output_type": "stream",
     "text": [
      "\n",
      "\n",
      "Name     : about_Functions\n",
      "Synopsis : Describes how to create and use functions in Windows PowerShell.\n",
      "\n",
      "\n",
      "\n"
     ]
    }
   ],
   "source": [
    "Get-Help -Category helpfile about_Functions | select Name, Synopsis | format-list *"
   ]
  },
  {
   "cell_type": "markdown",
   "metadata": {},
   "source": [
    "### about_Script_Blocks"
   ]
  },
  {
   "cell_type": "code",
   "execution_count": 4,
   "metadata": {},
   "outputs": [
    {
     "name": "stdout",
     "output_type": "stream",
     "text": []
    }
   ],
   "source": [
    "Get-Help about_Functions | \n",
    "  set -Name store"
   ]
  },
  {
   "cell_type": "code",
   "execution_count": 6,
   "metadata": {},
   "outputs": [
    {
     "name": "stdout",
     "output_type": "stream",
     "text": [
      "System.String\n"
     ]
    }
   ],
   "source": [
    "$store.GetType().Fullname"
   ]
  },
  {
   "cell_type": "code",
   "execution_count": 8,
   "metadata": {},
   "outputs": [
    {
     "name": "stdout",
     "output_type": "stream",
     "text": []
    }
   ],
   "source": [
    "$store -split \"`r`n\" | set -Name ary"
   ]
  },
  {
   "cell_type": "code",
   "execution_count": 10,
   "metadata": {},
   "outputs": [
    {
     "name": "stdout",
     "output_type": "stream",
     "text": [
      "521\n"
     ]
    }
   ],
   "source": [
    "$ary.length"
   ]
  },
  {
   "cell_type": "code",
   "execution_count": 12,
   "metadata": {},
   "outputs": [
    {
     "name": "stdout",
     "output_type": "stream",
     "text": [
      "$i = 0\n",
      "foreach($ar in $ary)\n",
      ">> {\n",
      ">>   if($ar -match 'SEE ALSO')\n",
      ">>   {\n",
      ">>     break\n",
      ">>   }\n",
      ">>   $i++\n",
      ">> }\n",
      ">> # $ary[$i..$ary.Length]\n",
      ">> \n"
     ]
    }
   ],
   "source": [
    "$i = 0\n",
    "foreach($ar in $ary)\n",
    "{\n",
    "  if($ar -match 'SEE ALSO')\n",
    "  {\n",
    "    break\n",
    "  }\n",
    "  $i++\n",
    "}\n",
    "# $ary[$i..$ary.Length]"
   ]
  },
  {
   "cell_type": "code",
   "execution_count": 14,
   "metadata": {},
   "outputs": [
    {
     "name": "stdout",
     "output_type": "stream",
     "text": [
      "$url_base = \"https://nbviewer.jupyter.org/github/sakai-memoru/pwshnote/blob/master/1909-powershell-{{about_item}}.ipynb\"\n",
      "\n",
      "foreach($a in $ary[($i+1)..$ary.Length]){\n",
      ">>   if(-not ($a.Trim() -eq ''))\n",
      ">>   {\n",
      ">>     if($a.Trim().startswith('about_'))\n",
      ">>     {\n",
      ">>       $url_base.Replace('{{about_item}}',$a.Trim())  \n",
      ">>     }\n",
      ">>     else\n",
      ">>     {\n",
      ">>       $a.Trim()\n",
      ">>     }\n",
      ">>   }\n",
      ">> }\n",
      ">> \n",
      "https://nbviewer.jupyter.org/github/sakai-memoru/pwshnote/blob/master/1909-powershell-about_Automatic_Variables.ipynb\n",
      "https://nbviewer.jupyter.org/github/sakai-memoru/pwshnote/blob/master/1909-powershell-about_Comment_Based_Help.ipynb\n",
      "https://nbviewer.jupyter.org/github/sakai-memoru/pwshnote/blob/master/1909-powershell-about_Functions_Advanced.ipynb\n",
      "https://nbviewer.jupyter.org/github/sakai-memoru/pwshnote/blob/master/1909-powershell-about_Functions_Advanced_Methods.ipynb\n",
      "https://nbviewer.jupyter.org/github/sakai-memoru/pwshnote/blob/master/1909-powershell-about_Functions_Advanced_Parameters.ipynb\n",
      "https://nbviewer.jupyter.org/github/sakai-memoru/pwshnote/blob/master/1909-powershell-about_Functions_CmdletBindingAttribute.ipynb\n",
      "https://nbviewer.jupyter.org/github/sakai-memoru/pwshnote/blob/master/1909-powershell-about_Functions_OutputTypeAttribute.ipynb\n",
      "https://nbviewer.jupyter.org/github/sakai-memoru/pwshnote/blob/master/1909-powershell-about_Parameters.ipynb\n",
      "https://nbviewer.jupyter.org/github/sakai-memoru/pwshnote/blob/master/1909-powershell-about_Profiles.ipynb\n",
      "https://nbviewer.jupyter.org/github/sakai-memoru/pwshnote/blob/master/1909-powershell-about_Scopes.ipynb\n",
      "https://nbviewer.jupyter.org/github/sakai-memoru/pwshnote/blob/master/1909-powershell-about_Script_Blocks.ipynb\n",
      "Function (provider)\n"
     ]
    }
   ],
   "source": [
    "$url_base = \"https://nbviewer.jupyter.org/github/sakai-memoru/pwshnote/blob/master/1909-powershell-{{about_item}}.ipynb\"\n",
    "\n",
    "foreach($a in $ary[($i+1)..$ary.Length]){\n",
    "  if(-not ($a.Trim() -eq ''))\n",
    "  {\n",
    "    if($a.Trim().startswith('about_'))\n",
    "    {\n",
    "      $url_base.Replace('{{about_item}}',$a.Trim())  \n",
    "    }\n",
    "    else\n",
    "    {\n",
    "      $a.Trim()\n",
    "    }\n",
    "  }\n",
    "}"
   ]
  },
  {
   "cell_type": "code",
   "execution_count": 23,
   "metadata": {},
   "outputs": [
    {
     "name": "stdout",
     "output_type": "stream",
     "text": [
      "TOPIC\n",
      "    about_Functions\n",
      "\n",
      "SHORT DESCRIPTION\n",
      "    Describes how to create and use functions in Windows PowerShell. \n",
      "\n",
      "\n",
      "LONG DESCRIPTION\n",
      "    A function is a list of Windows PowerShell statements that has a name\n",
      "    that you assign. When you run a function, you type the function name. \n",
      "    The statements in the list run as if you had typed them at the command\n",
      "    prompt. \n",
      "\n",
      "    Functions can be as simple as:\n",
      "    \n",
      "        function Get-PowerShellProcess {Get-Process PowerShell}\n",
      "\n",
      "    or as complex as a cmdlet or an application program.   \n",
      "    \n",
      "    Like cmdlets, functions can have parameters. The parameters can be named, \n",
      "    positional, switch, or dynamic parameters. Function parameters can be read \n",
      "    from the command line or from the pipeline. \n",
      "\n",
      "    Functions can return values that can be displayed, assigned to variables, \n",
      "    or passed to other functions or cmdlets. \n",
      "\n",
      "    The function's statement list can contain different types of statement \n",
      "    lists with the keywords Begin, Process, and End. These statement lists \n",
      "    handle input from the pipeline differently.\n",
      "\n",
      "    A filter is a special kind of function that uses the Filter keyword. \n",
      "\n",
      "    Functions can also act like cmdlets. You can create a function that works \n",
      "    just like a cmdlet without using C# programming. For more information, \n",
      "    see about_Functions_Advanced (http://go.microsoft.com/fwlink/?LinkID=144511).\n",
      "\n",
      "\n"
     ]
    }
   ],
   "source": [
    "$ary[0..36] "
   ]
  },
  {
   "cell_type": "code",
   "execution_count": 25,
   "metadata": {},
   "outputs": [
    {
     "name": "stdout",
     "output_type": "stream",
     "text": [
      "  Syntax\n",
      "      The following is the syntax for a function:\n",
      "\n",
      "          function [<scope:>]<name> [([type]$parameter1[,[type]$parameter2])]  \n",
      "          {\n",
      "              param([type]$parameter1 [,[type]$parameter2])\n",
      "\n",
      "              dynamicparam {<statement list>}\n",
      "  \n",
      "              begin {<statement list>}\n",
      "              process {<statement list>}\n",
      "              end {<statement list>}\n",
      "          }\n",
      "\n",
      "\n",
      "      A function includes the following items:\n",
      "\n",
      "          - A Function keyword\n",
      "          - A scope (optional)\n",
      "          - A name that you select\n",
      "          - Any number of named parameters (optional)\n",
      "          - One or more Windows PowerShell commands enclosed in braces ({}) \n",
      "\n",
      "\n",
      "      For more information about the Dynamicparam keyword and dynamic \n",
      "      parameters in functions, see about_Functions_Advanced_Parameters.\n",
      "\n",
      "\n",
      "  Simple Functions\n",
      "      Functions do not have to be complicated to be useful. The simplest\n",
      "      functions have the following format:\n",
      "\n",
      "          function <function-name> {statements}\n",
      "\n",
      "      For example, the following function starts Windows PowerShell with\n",
      "      the Run as Administrator option.\n",
      "\n",
      "          function Start-PSAdmin {Start-Process PowerShell -Verb RunAs}\n",
      "\n",
      "      To use the function, type: Start-PSAdmin\n",
      "\n",
      "      To add statements to the function, use a semi-colon (;) to separate the\n",
      "      statements, or type each statement on a separate line.\n",
      "\n",
      "      For example, the following function finds all .jpg files in the current\n",
      "      user's directories that were changed after the start date.\n",
      "\n",
      "          function Get-NewPix\n",
      "          {\n",
      "              $start = Get-Date -Month 1 -Day 1 -Year 2010\n",
      "              $allpix = Get-ChildItem -Path $env:UserProfile\\*.jpg -Recurse\n",
      "              $allpix | where {$_.LastWriteTime -gt $Start}\n",
      "          }    \n",
      "\n",
      "      You can create a toolbox of useful small functions. Add these functions \n",
      "      to your Windows PowerShell profile, as described in about_Profiles and \n",
      "      later in this topic.\n",
      "\n",
      "   \n",
      "  Function Names\n",
      "      You can assign any name to a function, but functions that you share with\n",
      "      others should follow the naming rules that have been established for\n",
      "      all Windows PowerShell commands.\n"
     ]
    }
   ],
   "source": [
    "$ary[37..99] "
   ]
  },
  {
   "cell_type": "code",
   "execution_count": 27,
   "metadata": {},
   "outputs": [
    {
     "name": "stdout",
     "output_type": "stream",
     "text": [
      "\n",
      "      Functions names should consist of a verb-noun pair in which the verb\n",
      "      identifies the action that the function performs and the noun identifies\n",
      "      the item on which the cmdlet performs its action. \n",
      "\n",
      "      Functions should use the standard verbs that have been approved for all\n",
      "      Windows PowerShell commands. These verbs help us to keep our command names\n",
      "      simple, consistent, and easy for users to understand. \n",
      "\n",
      "      For more information about the standard Windows PowerShell verbs, see \n",
      "      \"Cmdlet Verbs\" on MSDN at http://go.microsoft.com/fwlink/?LinkID=160773.  \n",
      "        \n",
      "      \n",
      "\n",
      "Functions with Parameters\n",
      "      You can use parameters with functions, including named parameters, \n",
      "      positional parameters, switch parameters, and dynamic parameters. For \n",
      "      more information about dynamic parameters in functions, \n",
      "      see about_Functions_Advanced_Parameters \n",
      "      (http://go.microsoft.com/fwlink/?LinkID=135173).\n",
      "\n",
      "\n",
      "  Named Parameters\n",
      "      You can define any number of named parameters. You can include a default \n",
      "      value for named parameters, as described later in this topic.\n",
      "\n",
      "      You can define parameters inside the braces using the Param keyword, as \n",
      "      shown in the following sample syntax:\n",
      "    \n",
      "          function <name> { \n",
      "               param ([type]$parameter1[,[type]$parameter2])\n",
      "               <statement list> \n",
      "          }\n",
      "\n",
      "\n",
      "      You can also define parameters outside the braces without the Param \n",
      "      keyword, as shown in the following sample syntax:\n",
      "\n",
      "          function <name> [([type]$parameter1[,[type]$parameter2])] { \n",
      "              <statement list> \n",
      "          }\n",
      "\n",
      "\n",
      "and more ....\n"
     ]
    }
   ],
   "source": [
    "$ary[100..140] + \"`r`n\" + 'and more ....' "
   ]
  },
  {
   "cell_type": "code",
   "execution_count": null,
   "metadata": {},
   "outputs": [],
   "source": []
  }
 ],
 "metadata": {
  "kernelspec": {
   "display_name": "PowerShell",
   "language": "powershell",
   "name": "powershell"
  },
  "language_info": {
   "codemirror_mode": "shell",
   "file_extension": ".ps1",
   "mimetype": "text/x-sh",
   "name": "powershell"
  }
 },
 "nbformat": 4,
 "nbformat_minor": 2
}
