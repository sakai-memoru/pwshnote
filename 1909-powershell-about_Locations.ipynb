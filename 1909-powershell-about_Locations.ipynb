{
 "cells": [
  {
   "cell_type": "markdown",
   "metadata": {},
   "source": [
    "# 1909-powershell-about_Locations"
   ]
  },
  {
   "cell_type": "markdown",
   "metadata": {},
   "source": [
    "## overview"
   ]
  },
  {
   "cell_type": "markdown",
   "metadata": {},
   "source": [
    "- about_Locations"
   ]
  },
  {
   "cell_type": "markdown",
   "metadata": {},
   "source": [
    "![Image from Gyazo](https://i.gyazo.com/9c23d8a166aeaa46a042f3b1f33dcf33.png)"
   ]
  },
  {
   "cell_type": "markdown",
   "metadata": {},
   "source": [
    "## jupyter notebook"
   ]
  },
  {
   "cell_type": "markdown",
   "metadata": {},
   "source": [
    "- https://nbviewer.jupyter.org/github/sakai-memoru/pwshnote/blob/master/1909-powershell-about_Locations.ipynb"
   ]
  },
  {
   "cell_type": "markdown",
   "metadata": {},
   "source": [
    "## Usage"
   ]
  },
  {
   "cell_type": "markdown",
   "metadata": {},
   "source": [
    "### Get-Help"
   ]
  },
  {
   "cell_type": "code",
   "execution_count": 1,
   "metadata": {},
   "outputs": [
    {
     "name": "stdout",
     "output_type": "stream",
     "text": [
      "\n",
      "\n",
      "Name     : about_Locations\n",
      "Synopsis : Describes how to access items from the working location in Windows\n",
      "\n",
      "\n",
      "\n"
     ]
    }
   ],
   "source": [
    "Get-Help -Category helpfile about_Locations | select Name, Synopsis | format-list *"
   ]
  },
  {
   "cell_type": "code",
   "execution_count": 3,
   "metadata": {},
   "outputs": [
    {
     "name": "stdout",
     "output_type": "stream",
     "text": [
      "Get-Help : The online version of this Help topic cannot be displayed because the Internet address (URI) of the Help \n",
      "topic is not specified in the command code or in the help file for the command.\n",
      "At line:1 char:1\n",
      "+ Get-Help about_Locations -online\n",
      "+ ~~~~~~~~~~~~~~~~~~~~~~~~~~~~~~~~\n",
      "    + CategoryInfo          : InvalidOperation: (:) [Get-Help], PSInvalidOperationException\n",
      "    + FullyQualifiedErrorId : InvalidOperation,Microsoft.PowerShell.Commands.GetHelpCommand\n",
      " \n"
     ]
    }
   ],
   "source": [
    "Get-Help about_Locations -online"
   ]
  },
  {
   "cell_type": "markdown",
   "metadata": {},
   "source": [
    "### about_Locations"
   ]
  },
  {
   "cell_type": "code",
   "execution_count": 4,
   "metadata": {},
   "outputs": [
    {
     "name": "stdout",
     "output_type": "stream",
     "text": []
    }
   ],
   "source": [
    "Get-Help about_Locations | \n",
    "  set -Name store"
   ]
  },
  {
   "cell_type": "code",
   "execution_count": 5,
   "metadata": {},
   "outputs": [
    {
     "name": "stdout",
     "output_type": "stream",
     "text": [
      "System.String\n"
     ]
    }
   ],
   "source": [
    "$store.GetType().Fullname"
   ]
  },
  {
   "cell_type": "code",
   "execution_count": 6,
   "metadata": {},
   "outputs": [
    {
     "name": "stdout",
     "output_type": "stream",
     "text": []
    }
   ],
   "source": [
    "$store -split \"`r`n\" | set -Name ary"
   ]
  },
  {
   "cell_type": "code",
   "execution_count": 7,
   "metadata": {},
   "outputs": [
    {
     "name": "stdout",
     "output_type": "stream",
     "text": [
      "139\n"
     ]
    }
   ],
   "source": [
    "$ary.length"
   ]
  },
  {
   "cell_type": "code",
   "execution_count": 8,
   "metadata": {},
   "outputs": [
    {
     "name": "stdout",
     "output_type": "stream",
     "text": [
      "$i = 0\n",
      "foreach($ar in $ary)\n",
      ">> {\n",
      ">>   if($ar -match 'SEE ALSO')\n",
      ">>   {\n",
      ">>     break\n",
      ">>   }\n",
      ">>   $i++\n",
      ">> }\n",
      ">> # $ary[$i..$ary.Length]\n",
      ">> \n"
     ]
    }
   ],
   "source": [
    "$i = 0\n",
    "foreach($ar in $ary)\n",
    "{\n",
    "  if($ar -match 'SEE ALSO')\n",
    "  {\n",
    "    break\n",
    "  }\n",
    "  $i++\n",
    "}\n",
    "# $ary[$i..$ary.Length]"
   ]
  },
  {
   "cell_type": "code",
   "execution_count": 10,
   "metadata": {},
   "outputs": [
    {
     "name": "stdout",
     "output_type": "stream",
     "text": [
      "    }\n",
      ">>     else\n",
      ">>     {\n",
      ">>       $a.Trim()\n",
      ">>     }\n",
      ">>   }\n",
      ">> }\n",
      ">> \n",
      "Set-Location\n",
      "https://nbviewer.jupyter.org/github/sakai-memoru/pwshnote/blob/master/1909-powershell-about_Providers.ipynb\n",
      "https://nbviewer.jupyter.org/github/sakai-memoru/pwshnote/blob/master/1909-powershell-about_Path_Syntax.ipynb\n"
     ]
    }
   ],
   "source": [
    "$url_base = \"https://nbviewer.jupyter.org/github/sakai-memoru/pwshnote/blob/master/1909-powershell-{{about_item}}.ipynb\"\n",
    "\n",
    "foreach($a in $ary[($i+1)..$ary.Length]){\n",
    "  if(-not ($a.Trim() -eq ''))\n",
    "  {\n",
    "    if($a.Trim().startswith('about_'))\n",
    "    {\n",
    "      $url_base.Replace('{{about_item}}',$a.Trim())  \n",
    "    }\n",
    "    else\n",
    "    {\n",
    "      $a.Trim()\n",
    "    }\n",
    "  }\n",
    "}"
   ]
  },
  {
   "cell_type": "code",
   "execution_count": 14,
   "metadata": {},
   "outputs": [
    {
     "name": "stdout",
     "output_type": "stream",
     "text": [
      "TOPIC\n",
      "    about_Locations\n",
      "\n",
      "SHORT DESCRIPTION\n",
      "    Describes how to access items from the working location in Windows\n",
      "    PowerShell.\n",
      "\n",
      "\n",
      "LONG DESCRIPTION\n",
      "    The current working location is the default location to which commands \n",
      "    point. In other words, this is the location that Windows PowerShell uses\n",
      "    if you do not supply an explicit path to the item or location that is \n",
      "    affected by the command. In most cases, the current working location is\n",
      "    a drive accessed through the Windows PowerShell FileSystem provider and,\n",
      "    in some cases, a directory on that drive. For example, you might set your \n",
      "    current working location to the following location:\n",
      "\n",
      "\n",
      "        C:\\Program Files\\Windows PowerShell\n",
      "\n",
      " \n",
      "    As a result, all commands are processed from this location unless \n",
      "    another path is explicitly provided.\n",
      "\n",
      "\n",
      "\n",
      " and more ...\n"
     ]
    }
   ],
   "source": [
    "$ary[0..24]  + \"`r`n and more ...\""
   ]
  },
  {
   "cell_type": "markdown",
   "metadata": {},
   "source": [
    "### Get-Command"
   ]
  },
  {
   "cell_type": "code",
   "execution_count": 27,
   "metadata": {},
   "outputs": [
    {
     "name": "stdout",
     "output_type": "stream",
     "text": [
      "\n",
      "\n",
      "Name   : Get-Location\n",
      "Source : Microsoft.PowerShell.Management\n",
      "\n",
      "Name   : Get-WinHomeLocation\n",
      "Source : International\n",
      "\n",
      "Name   : Pop-Location\n",
      "Source : Microsoft.PowerShell.Management\n",
      "\n",
      "Name   : Push-Location\n",
      "Source : Microsoft.PowerShell.Management\n",
      "\n",
      "Name   : Set-Location\n",
      "Source : Microsoft.PowerShell.Management\n",
      "\n",
      "Name   : Set-WinHomeLocation\n",
      "Source : International\n",
      "\n",
      "\n",
      "\n"
     ]
    }
   ],
   "source": [
    "Get-Command -Name \"*location\" | fl Name, Source"
   ]
  },
  {
   "cell_type": "markdown",
   "metadata": {},
   "source": [
    "### Get-Alias"
   ]
  },
  {
   "cell_type": "code",
   "execution_count": 52,
   "metadata": {},
   "outputs": [
    {
     "name": "stdout",
     "output_type": "stream",
     "text": [
      "\n",
      "Definition    Name  DisplayName           \n",
      "----------    ----  -----------           \n",
      "Get-Location  pwd   pwd -> Get-Location   \n",
      "Get-Location  gl    gl -> Get-Location    \n",
      "Pop-Location  popd  popd -> Pop-Location  \n",
      "Push-Location pushd pushd -> Push-Location\n",
      "Set-Location  sl    sl -> Set-Location    \n",
      "Set-Location  chdir chdir -> Set-Location \n",
      "Set-Location  cd    cd -> Set-Location    \n",
      "\n",
      "\n"
     ]
    }
   ],
   "source": [
    "Get-alias -Definition \"*location\" | sort Definition |ft Definition, Name, DisplayName"
   ]
  },
  {
   "cell_type": "markdown",
   "metadata": {},
   "source": [
    "### Get-Help"
   ]
  },
  {
   "cell_type": "code",
   "execution_count": 40,
   "metadata": {},
   "outputs": [
    {
     "name": "stdout",
     "output_type": "stream",
     "text": [
      "echo\n",
      "Help Get-Location -online\n",
      "\n",
      "Help Get-Location -online\n",
      "\n"
     ]
    }
   ],
   "source": [
    "echo\n",
    "Help Get-Location -online"
   ]
  },
  {
   "cell_type": "code",
   "execution_count": 29,
   "metadata": {},
   "outputs": [
    {
     "name": "stdout",
     "output_type": "stream",
     "text": [
      "\n"
     ]
    }
   ],
   "source": [
    "Help Get-Location | set -Name store_cmd"
   ]
  },
  {
   "cell_type": "code",
   "execution_count": 31,
   "metadata": {},
   "outputs": [
    {
     "name": "stdout",
     "output_type": "stream",
     "text": [
      "System.String\n"
     ]
    }
   ],
   "source": [
    "$store_cmd[0].GetType().Fullname"
   ]
  },
  {
   "cell_type": "code",
   "execution_count": 33,
   "metadata": {},
   "outputs": [
    {
     "name": "stdout",
     "output_type": "stream",
     "text": [
      "42\n"
     ]
    }
   ],
   "source": [
    "$store_cmd.Length"
   ]
  },
  {
   "cell_type": "code",
   "execution_count": 35,
   "metadata": {},
   "outputs": [
    {
     "name": "stdout",
     "output_type": "stream",
     "text": [
      "Help Get-Location\n",
      "\n",
      "NAME\n",
      "    Get-Location\n",
      "    \n",
      "SYNOPSIS\n",
      "    Gets information about the current working location or a location stack.\n",
      "    \n",
      "    \n",
      "SYNTAX\n",
      "    Get-Location [-PSDrive <String[]>] [-PSProvider <String[]>] [-UseTransaction] [<CommonParameters>]\n",
      "    \n",
      "    Get-Location [-Stack] [-StackName <String[]>] [-UseTransaction] [<CommonParameters>]\n",
      "    \n",
      "    \n",
      "DESCRIPTION\n",
      "    The Get-Location cmdlet gets an object that represents the current directory, much like the print working \n",
      "    directory (pwd) command.\n",
      "    \n",
      "    When you move between Windows PowerShell drives, Windows PowerShell retains your location in each drive. You can \n",
      "    use this cmdlet to find your location in each drive.\n",
      "    \n",
      "    You can use this cmdlet to get the current directory at run time and use it in functions and scripts, such as in a \n",
      "    function that displays the current directory in the Windows PowerShell prompt.\n",
      "    \n",
      "    You can also use this cmdlet to display the locations in a location stack. For more information, see the Notes and \n",
      "    the descriptions of the Stack and StackName parameters.\n",
      "    \n",
      "\n",
      "RELATED LINKS\n",
      "    Online Version: http://go.microsoft.com/fwlink/?LinkId=821589\n",
      "    Pop-Location \n",
      "    Push-Location \n",
      "    Set-Location \n",
      "\n",
      "REMARKS\n",
      "    To see the examples, type: \"get-help Get-Location -examples\".\n",
      "    For more information, type: \"get-help Get-Location -detailed\".\n",
      "    For technical information, type: \"get-help Get-Location -full\".\n",
      "    For online help, type: \"get-help Get-Location -online\"\n",
      "\n",
      "\n",
      "\n",
      "\n",
      "\n"
     ]
    }
   ],
   "source": [
    "Help Get-Location\n"
   ]
  },
  {
   "cell_type": "markdown",
   "metadata": {},
   "source": [
    "### Show-Command"
   ]
  },
  {
   "cell_type": "code",
   "execution_count": 38,
   "metadata": {},
   "outputs": [
    {
     "name": "stdout",
     "output_type": "stream",
     "text": [
      "echo\n",
      "shcm Get-Location\n",
      "\n",
      "shcm Get-Location\n",
      "\n"
     ]
    }
   ],
   "source": [
    "echo\n",
    "shcm Get-Location"
   ]
  },
  {
   "cell_type": "markdown",
   "metadata": {},
   "source": [
    "[![Image from Gyazo](https://i.gyazo.com/de72f06dc3c273c496e59f01207305c7.png)](https://gyazo.com/de72f06dc3c273c496e59f01207305c7)"
   ]
  },
  {
   "cell_type": "markdown",
   "metadata": {},
   "source": [
    "### Get-PSProvider"
   ]
  },
  {
   "cell_type": "code",
   "execution_count": 41,
   "metadata": {},
   "outputs": [
    {
     "name": "stdout",
     "output_type": "stream",
     "text": [
      "\n",
      "\n",
      "   TypeName: System.Management.Automation.PathInfo\n",
      "\n",
      "Name         MemberType Definition                                               \n",
      "----         ---------- ----------                                               \n",
      "Drive        Property   System.Management.Automation.PSDriveInfo Drive {get;}    \n",
      "Path         Property   string Path {get;}                                       \n",
      "Provider     Property   System.Management.Automation.ProviderInfo Provider {get;}\n",
      "ProviderPath Property   string ProviderPath {get;}                               \n",
      "\n",
      "\n",
      "\n"
     ]
    }
   ],
   "source": [
    "Get-Location | gm -MemberType Property"
   ]
  },
  {
   "cell_type": "code",
   "execution_count": 44,
   "metadata": {},
   "outputs": [
    {
     "name": "stdout",
     "output_type": "stream",
     "text": [
      "\n",
      "\n",
      "Drive        : G\n",
      "Path         : G:\\workspace\\pwshnote\n",
      "Provider     : Microsoft.PowerShell.Core\\FileSystem\n",
      "ProviderPath : G:\\workspace\\pwshnote\n",
      "\n",
      "\n",
      "\n"
     ]
    }
   ],
   "source": [
    "Get-Location | fl Drive, Path, Provider, ProviderPath"
   ]
  }
 ],
 "metadata": {
  "kernelspec": {
   "display_name": "PowerShell",
   "language": "powershell",
   "name": "powershell"
  },
  "language_info": {
   "codemirror_mode": "shell",
   "file_extension": ".ps1",
   "mimetype": "text/x-sh",
   "name": "powershell"
  }
 },
 "nbformat": 4,
 "nbformat_minor": 2
}
