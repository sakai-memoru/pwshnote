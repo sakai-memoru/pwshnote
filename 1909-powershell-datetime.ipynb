{
 "cells": [
  {
   "cell_type": "markdown",
   "metadata": {},
   "source": [
    "# 1909-powershell-datetime"
   ]
  },
  {
   "cell_type": "markdown",
   "metadata": {},
   "source": [
    "## overview"
   ]
  },
  {
   "cell_type": "markdown",
   "metadata": {},
   "source": [
    "- datetime object on powershell"
   ]
  },
  {
   "cell_type": "markdown",
   "metadata": {},
   "source": [
    "![Image from Gyazo](https://i.gyazo.com/9c23d8a166aeaa46a042f3b1f33dcf33.png)"
   ]
  },
  {
   "cell_type": "markdown",
   "metadata": {},
   "source": [
    "## jupyter notebook"
   ]
  },
  {
   "cell_type": "markdown",
   "metadata": {},
   "source": [
    "- https://nbviewer.jupyter.org/github/sakai-memoru/pwshnote/blob/master/1909-powershell-datetime.ipynb"
   ]
  },
  {
   "cell_type": "markdown",
   "metadata": {},
   "source": [
    "## Usage\n",
    "### basic"
   ]
  },
  {
   "cell_type": "code",
   "execution_count": 23,
   "metadata": {},
   "outputs": [
    {
     "name": "stdout",
     "output_type": "stream",
     "text": [
      "\n",
      "02 September 2019 20:58:03\n",
      "\n",
      "\n"
     ]
    }
   ],
   "source": [
    "Get-Date"
   ]
  },
  {
   "cell_type": "code",
   "execution_count": 24,
   "metadata": {},
   "outputs": [
    {
     "name": "stdout",
     "output_type": "stream",
     "text": [
      "19/09/02 08:58\n"
     ]
    }
   ],
   "source": [
    "Get-Date -format \"yy/MM/dd hh:mm\""
   ]
  },
  {
   "cell_type": "code",
   "execution_count": 25,
   "metadata": {},
   "outputs": [
    {
     "name": "stdout",
     "output_type": "stream",
     "text": [
      "190902_0858\n"
     ]
    }
   ],
   "source": [
    "Get-Date -format \"yyMMdd_hhmm\""
   ]
  },
  {
   "cell_type": "markdown",
   "metadata": {},
   "source": [
    "### Get-Help"
   ]
  },
  {
   "cell_type": "code",
   "execution_count": 26,
   "metadata": {},
   "outputs": [
    {
     "name": "stdout",
     "output_type": "stream",
     "text": [
      "\n",
      "NAME\n",
      "    Get-Date\n",
      "    \n",
      "SYNOPSIS\n",
      "    Gets the current date and time.\n",
      "    \n",
      "    \n",
      "SYNTAX\n",
      "    Get-Date [[-Date] <DateTime>] [-Day <Int32>] [-DisplayHint {Date | Time | DateTime}] [-Format <String>] [-Hour \n",
      "    <Int32>] [-Millisecond <Int32>] [-Minute <Int32>] [-Month <Int32>] [-Second <Int32>] [-Year <Int32>] \n",
      "    [<CommonParameters>]\n",
      "    \n",
      "    Get-Date [[-Date] <DateTime>] [-Day <Int32>] [-DisplayHint {Date | Time | DateTime}] [-Hour <Int32>] [-Millisecond \n",
      "    <Int32>] [-Minute <Int32>] [-Month <Int32>] [-Second <Int32>] [-UFormat <String>] [-Year <Int32>] \n",
      "    [<CommonParameters>]\n",
      "    \n",
      "    \n",
      "DESCRIPTION\n",
      "    The Get-Date cmdlet gets a DateTime object that represents the current date or a date that you specify. It can \n",
      "    format the date and time in several Windows and UNIX formats. You can use Get-Date to generate a date or time \n",
      "    character string, and then send the string to other cmdlets or programs.\n",
      "    \n",
      "\n",
      "RELATED LINKS\n",
      "    Online Version: http://go.microsoft.com/fwlink/?LinkId=821781\n",
      "    New-TimeSpan \n",
      "    Set-Date \n",
      "\n",
      "REMARKS\n",
      "    To see the examples, type: \"get-help Get-Date -examples\".\n",
      "    For more information, type: \"get-help Get-Date -detailed\".\n",
      "    For technical information, type: \"get-help Get-Date -full\".\n",
      "    For online help, type: \"get-help Get-Date -online\"\n",
      "\n",
      "\n"
     ]
    }
   ],
   "source": [
    "Get-Help Get-Date"
   ]
  },
  {
   "cell_type": "code",
   "execution_count": 27,
   "metadata": {},
   "outputs": [
    {
     "name": "stdout",
     "output_type": "stream",
     "text": []
    }
   ],
   "source": [
    "Get-Help Get-Date -online"
   ]
  },
  {
   "cell_type": "markdown",
   "metadata": {},
   "source": [
    "### Get-Command and Get-Alias"
   ]
  },
  {
   "cell_type": "code",
   "execution_count": 29,
   "metadata": {},
   "outputs": [
    {
     "name": "stdout",
     "output_type": "stream",
     "text": [
      "\n",
      "CommandType     Name                                               Version    Source                                   \n",
      "-----------     ----                                               -------    ------                                   \n",
      "Cmdlet          Get-Date                                           3.1.0.0    Microsoft.PowerShell.Utility             \n",
      "Cmdlet          Set-Date                                           3.1.0.0    Microsoft.PowerShell.Utility             \n",
      "\n",
      "\n"
     ]
    }
   ],
   "source": [
    "Get-Command -Noun Date"
   ]
  },
  {
   "cell_type": "markdown",
   "metadata": {},
   "source": [
    "### Identification of Type"
   ]
  },
  {
   "cell_type": "code",
   "execution_count": 30,
   "metadata": {},
   "outputs": [
    {
     "name": "stdout",
     "output_type": "stream",
     "text": [
      "True\n"
     ]
    }
   ],
   "source": [
    "(Get-Date) -is [datetime]"
   ]
  },
  {
   "cell_type": "code",
   "execution_count": 32,
   "metadata": {},
   "outputs": [
    {
     "name": "stdout",
     "output_type": "stream",
     "text": [
      "System.DateTime\n"
     ]
    }
   ],
   "source": [
    "(Get-Date).GetType().Fullname"
   ]
  },
  {
   "cell_type": "markdown",
   "metadata": {},
   "source": [
    "### Get-Member"
   ]
  },
  {
   "cell_type": "code",
   "execution_count": 33,
   "metadata": {},
   "outputs": [
    {
     "name": "stdout",
     "output_type": "stream",
     "text": [
      "\n",
      "Name        Definition                       \n",
      "----        ----------                       \n",
      "Date        datetime Date {get;}             \n",
      "Day         int Day {get;}                   \n",
      "DayOfWeek   System.DayOfWeek DayOfWeek {get;}\n",
      "DayOfYear   int DayOfYear {get;}             \n",
      "Hour        int Hour {get;}                  \n",
      "Kind        System.DateTimeKind Kind {get;}  \n",
      "Millisecond int Millisecond {get;}           \n",
      "Minute      int Minute {get;}                \n",
      "Month       int Month {get;}                 \n",
      "Second      int Second {get;}                \n",
      "Ticks       long Ticks {get;}                \n",
      "TimeOfDay   timespan TimeOfDay {get;}        \n",
      "Year        int Year {get;}                  \n",
      "\n",
      "\n"
     ]
    }
   ],
   "source": [
    "(Get-Date) | Get-Member -MemberType Property | Format-Table Name, Definition"
   ]
  },
  {
   "cell_type": "code",
   "execution_count": 34,
   "metadata": {},
   "outputs": [
    {
     "name": "stdout",
     "output_type": "stream",
     "text": [
      "\n",
      "Name                 Definition                                                                                        \n",
      "----                 ----------                                                                                        \n",
      "Add                  datetime Add(timespan value)                                                                      \n",
      "AddDays              datetime AddDays(double value)                                                                    \n",
      "AddHours             datetime AddHours(double value)                                                                   \n",
      "AddMilliseconds      datetime AddMilliseconds(double value)                                                            \n",
      "AddMinutes           datetime AddMinutes(double value)                                                                 \n",
      "AddMonths            datetime AddMonths(int months)                                                                    \n",
      "AddSeconds           datetime AddSeconds(double value)                                                                 \n",
      "AddTicks             datetime AddTicks(long value)                                                                     \n",
      "AddYears             datetime AddYears(int value)                                                                      \n",
      "CompareTo            int CompareTo(System.Object value), int CompareTo(datetime value), int IComparable.CompareTo(Sy...\n",
      "Equals               bool Equals(System.Object value), bool Equals(datetime value), bool IEquatable[datetime].Equals...\n",
      "GetDateTimeFormats   string[] GetDateTimeFormats(), string[] GetDateTimeFormats(System.IFormatProvider provider), st...\n",
      "GetHashCode          int GetHashCode()                                                                                 \n",
      "GetObjectData        void ISerializable.GetObjectData(System.Runtime.Serialization.SerializationInfo info, System.Ru...\n",
      "GetType              type GetType()                                                                                    \n",
      "GetTypeCode          System.TypeCode GetTypeCode(), System.TypeCode IConvertible.GetTypeCode()                         \n",
      "IsDaylightSavingTime bool IsDaylightSavingTime()                                                                       \n",
      "Subtract             timespan Subtract(datetime value), datetime Subtract(timespan value)                              \n",
      "ToBinary             long ToBinary()                                                                                   \n",
      "ToBoolean            bool IConvertible.ToBoolean(System.IFormatProvider provider)                                      \n",
      "ToByte               byte IConvertible.ToByte(System.IFormatProvider provider)                                         \n",
      "ToChar               char IConvertible.ToChar(System.IFormatProvider provider)                                         \n",
      "ToDateTime           datetime IConvertible.ToDateTime(System.IFormatProvider provider)                                 \n",
      "ToDecimal            decimal IConvertible.ToDecimal(System.IFormatProvider provider)                                   \n",
      "ToDouble             double IConvertible.ToDouble(System.IFormatProvider provider)                                     \n",
      "ToFileTime           long ToFileTime()                                                                                 \n",
      "ToFileTimeUtc        long ToFileTimeUtc()                                                                              \n",
      "ToInt16              int16 IConvertible.ToInt16(System.IFormatProvider provider)                                       \n",
      "ToInt32              int IConvertible.ToInt32(System.IFormatProvider provider)                                         \n",
      "ToInt64              long IConvertible.ToInt64(System.IFormatProvider provider)                                        \n",
      "ToLocalTime          datetime ToLocalTime()                                                                            \n",
      "ToLongDateString     string ToLongDateString()                                                                         \n",
      "ToLongTimeString     string ToLongTimeString()                                                                         \n",
      "ToOADate             double ToOADate()                                                                                 \n",
      "ToSByte              sbyte IConvertible.ToSByte(System.IFormatProvider provider)                                       \n",
      "ToShortDateString    string ToShortDateString()                                                                        \n",
      "ToShortTimeString    string ToShortTimeString()                                                                        \n",
      "ToSingle             float IConvertible.ToSingle(System.IFormatProvider provider)                                      \n",
      "ToString             string ToString(), string ToString(string format), string ToString(System.IFormatProvider provi...\n",
      "ToType               System.Object IConvertible.ToType(type conversionType, System.IFormatProvider provider)           \n",
      "ToUInt16             uint16 IConvertible.ToUInt16(System.IFormatProvider provider)                                     \n",
      "ToUInt32             uint32 IConvertible.ToUInt32(System.IFormatProvider provider)                                     \n",
      "ToUInt64             uint64 IConvertible.ToUInt64(System.IFormatProvider provider)                                     \n",
      "ToUniversalTime      datetime ToUniversalTime()                                                                        \n",
      "\n",
      "\n"
     ]
    }
   ],
   "source": [
    "(Get-Date) | Get-Member -MemberType Method | Format-Table Name, Definition "
   ]
  },
  {
   "cell_type": "markdown",
   "metadata": {},
   "source": [
    "### Methods"
   ]
  },
  {
   "cell_type": "markdown",
   "metadata": {},
   "source": [
    "#### calculate"
   ]
  },
  {
   "cell_type": "code",
   "execution_count": 37,
   "metadata": {},
   "outputs": [
    {
     "name": "stdout",
     "output_type": "stream",
     "text": [
      "$first_off_dtm = Get-Date\n",
      "$first_off_dtm_str = Get-Date (Get-Date $first_off_dtm -f 'yyyy/MM/dd') -f 'yyyy/MM/dd HH:mm'\n",
      "$last_on_dtm_str = Get-Date ((Get-Date $first_off_dtm_str).AddDays(1).AddMinutes(-1)) -f 'yyyy/MM/dd HH:mm'\n",
      "$first_off_dtm_str\n",
      "2019/09/02 00:00\n",
      "$last_on_dtm_str\n",
      "2019/09/02 23:59\n",
      "\n"
     ]
    }
   ],
   "source": [
    "$first_off_dtm = Get-Date\n",
    "$first_off_dtm_str = Get-Date (Get-Date $first_off_dtm -f 'yyyy/MM/dd') -f 'yyyy/MM/dd HH:mm'\n",
    "$last_on_dtm_str = Get-Date ((Get-Date $first_off_dtm_str).AddDays(1).AddMinutes(-1)) -f 'yyyy/MM/dd HH:mm'\n",
    "$first_off_dtm_str\n",
    "$last_on_dtm_str"
   ]
  },
  {
   "cell_type": "markdown",
   "metadata": {},
   "source": [
    "### date -> str (formatting)"
   ]
  },
  {
   "cell_type": "code",
   "execution_count": 39,
   "metadata": {},
   "outputs": [
    {
     "name": "stdout",
     "output_type": "stream",
     "text": [
      "d, 02/09/2019\n",
      "D, 02 September 2019\n",
      "f, 02 September 2019 21:07\n",
      "F, 02 September 2019 21:07:01\n",
      "g, 02/09/2019 21:07\n",
      "G, 02/09/2019 21:07:01\n",
      "M, 2 September\n",
      "O, 2019-09-02T21:07:01.9259624+09:00\n",
      "R, Mon, 02 Sep 2019 21:07:01 GMT\n",
      "s, 2019-09-02T21:07:01\n",
      "t, 21:07\n",
      "T, 21:07:01\n",
      "u, 2019-09-02 21:07:01Z\n",
      "U, 02 September 2019 12:07:01\n",
      "Y, September 2019\n"
     ]
    }
   ],
   "source": [
    "@(\"d\",\"D\",\"f\",\"F\",\"g\",\"G\",\"M\",\"O\",\"R\",\"s\",\"t\",\"T\",\"u\",\"U\",\"Y\") | \n",
    "    foreach {$date=Get-Date -F $_ ;\"$_, $date\"}"
   ]
  },
  {
   "cell_type": "code",
   "execution_count": 41,
   "metadata": {},
   "outputs": [
    {
     "name": "stdout",
     "output_type": "stream",
     "text": [
      "2019/09/02 21:07:24.807954\n"
     ]
    }
   ],
   "source": [
    "Get-Date -F 'yyyy/MM/dd HH:mm:ss.ffffff'"
   ]
  },
  {
   "cell_type": "code",
   "execution_count": 43,
   "metadata": {},
   "outputs": [
    {
     "name": "stdout",
     "output_type": "stream",
     "text": [
      "20190902_210741.5350748_GMT+0900\n"
     ]
    }
   ],
   "source": [
    "(Get-Date -F O).Replace('-','').Replace('T','_').Replace(':','').Replace('+','_GMT+')"
   ]
  },
  {
   "cell_type": "markdown",
   "metadata": {},
   "source": [
    "### str -> datetime"
   ]
  },
  {
   "cell_type": "code",
   "execution_count": 45,
   "metadata": {},
   "outputs": [
    {
     "name": "stdout",
     "output_type": "stream",
     "text": [
      "\n",
      "01 September 2019 00:00:00\n",
      "\n",
      "\n"
     ]
    }
   ],
   "source": [
    "Get-Date '2019/09/01'"
   ]
  },
  {
   "cell_type": "code",
   "execution_count": 47,
   "metadata": {},
   "outputs": [
    {
     "name": "stdout",
     "output_type": "stream",
     "text": [
      "\n",
      "28 August 2019 22:12:00\n",
      "\n",
      "\n"
     ]
    }
   ],
   "source": [
    "Get-Date '2019/08/28 22:12'"
   ]
  },
  {
   "cell_type": "markdown",
   "metadata": {},
   "source": [
    "### serialization"
   ]
  },
  {
   "cell_type": "code",
   "execution_count": 52,
   "metadata": {},
   "outputs": [
    {
     "name": "stdout",
     "output_type": "stream",
     "text": []
    }
   ],
   "source": [
    "Get-Date | Export-Clixml date.clixml"
   ]
  },
  {
   "cell_type": "code",
   "execution_count": 54,
   "metadata": {},
   "outputs": [
    {
     "name": "stdout",
     "output_type": "stream",
     "text": [
      "<Objs Version=\"1.1.0.1\" xmlns=\"http://schemas.microsoft.com/powershell/2004/04\">\n",
      "  <Obj RefId=\"0\">\n",
      "    <DT>2019-09-02T21:11:13.7820526+09:00</DT>\n",
      "    <MS>\n",
      "      <Obj N=\"DisplayHint\" RefId=\"1\">\n",
      "        <TN RefId=\"0\">\n",
      "          <T>Microsoft.PowerShell.Commands.DisplayHintType</T>\n",
      "          <T>System.Enum</T>\n",
      "          <T>System.ValueType</T>\n",
      "          <T>System.Object</T>\n",
      "        </TN>\n",
      "        <ToString>DateTime</ToString>\n",
      "        <I32>2</I32>\n",
      "      </Obj>\n",
      "    </MS>\n",
      "  </Obj>\n",
      "</Objs>\n"
     ]
    }
   ],
   "source": [
    "cat date.clixml"
   ]
  },
  {
   "cell_type": "code",
   "execution_count": 56,
   "metadata": {},
   "outputs": [
    {
     "name": "stdout",
     "output_type": "stream",
     "text": []
    }
   ],
   "source": [
    "Import-Clixml date.clixml | set -Name dtm_cli"
   ]
  },
  {
   "cell_type": "code",
   "execution_count": 58,
   "metadata": {},
   "outputs": [
    {
     "name": "stdout",
     "output_type": "stream",
     "text": [
      "\n",
      "02 September 2019 21:11:13\n",
      "\n",
      "\n"
     ]
    }
   ],
   "source": [
    "$dtm_cli"
   ]
  },
  {
   "cell_type": "code",
   "execution_count": 60,
   "metadata": {},
   "outputs": [
    {
     "name": "stdout",
     "output_type": "stream",
     "text": [
      "System.DateTime\n"
     ]
    }
   ],
   "source": [
    "$dtm_cli.GetType().Fullname"
   ]
  },
  {
   "cell_type": "markdown",
   "metadata": {},
   "source": [
    "### timespan"
   ]
  },
  {
   "cell_type": "code",
   "execution_count": 62,
   "metadata": {},
   "outputs": [
    {
     "name": "stdout",
     "output_type": "stream",
     "text": [
      "\n",
      "CommandType     Name                                               Version    Source                                   \n",
      "-----------     ----                                               -------    ------                                   \n",
      "Cmdlet          Get-TimeZone                                       3.1.0.0    Microsoft.PowerShell.Management          \n",
      "Cmdlet          New-TimeSpan                                       3.1.0.0    Microsoft.PowerShell.Utility             \n",
      "Cmdlet          Set-TimeZone                                       3.1.0.0    Microsoft.PowerShell.Management          \n",
      "\n",
      "\n"
     ]
    }
   ],
   "source": [
    "Get-Command -Noun Time*"
   ]
  },
  {
   "cell_type": "code",
   "execution_count": 64,
   "metadata": {},
   "outputs": [
    {
     "name": "stdout",
     "output_type": "stream",
     "text": [
      "\n",
      "NAME\n",
      "    New-TimeSpan\n",
      "    \n",
      "SYNOPSIS\n",
      "    Creates a TimeSpan object.\n",
      "    \n",
      "    \n",
      "SYNTAX\n",
      "    New-TimeSpan [-Days <Int32>] [-Hours <Int32>] [-Minutes <Int32>] [-Seconds <Int32>] [<CommonParameters>]\n",
      "    \n",
      "    New-TimeSpan [[-Start] <DateTime>] [[-End] <DateTime>] [<CommonParameters>]\n",
      "    \n",
      "    \n",
      "DESCRIPTION\n",
      "    The New-TimeSpan cmdlet creates a TimeSpan object that represents a time interval. You can use a TimeSpan object \n",
      "    to add or subtract time from DateTime objects.\n",
      "    \n",
      "    Without parameters, a New-Timespan command returns a timespan object that represents a time interval of zero.\n",
      "    \n",
      "\n",
      "RELATED LINKS\n",
      "    Online Version: http://go.microsoft.com/fwlink/?LinkId=821837\n",
      "    Get-Date \n",
      "    Set-Date \n",
      "\n",
      "REMARKS\n",
      "    To see the examples, type: \"get-help New-TimeSpan -examples\".\n",
      "    For more information, type: \"get-help New-TimeSpan -detailed\".\n",
      "    For technical information, type: \"get-help New-TimeSpan -full\".\n",
      "    For online help, type: \"get-help New-TimeSpan -online\"\n",
      "\n",
      "\n"
     ]
    }
   ],
   "source": [
    "Get-Help New-Timespan"
   ]
  },
  {
   "cell_type": "code",
   "execution_count": 65,
   "metadata": {},
   "outputs": [
    {
     "name": "stdout",
     "output_type": "stream",
     "text": [
      "\n",
      "NAME\n",
      "    New-TimeSpan\n",
      "    \n",
      "SYNOPSIS\n",
      "    Creates a TimeSpan object.\n",
      "    \n",
      "    \n",
      "SYNTAX\n",
      "    New-TimeSpan [-Days <Int32>] [-Hours <Int32>] [-Minutes <Int32>] [-Seconds <Int32>] [<CommonParameters>]\n",
      "    \n",
      "    New-TimeSpan [[-Start] <DateTime>] [[-End] <DateTime>] [<CommonParameters>]\n",
      "    \n",
      "    \n",
      "DESCRIPTION\n",
      "    The New-TimeSpan cmdlet creates a TimeSpan object that represents a time interval. You can use a TimeSpan object \n",
      "    to add or subtract time from DateTime objects.\n",
      "    \n",
      "    Without parameters, a New-Timespan command returns a timespan object that represents a time interval of zero.\n",
      "    \n",
      "\n",
      "RELATED LINKS\n",
      "    Online Version: http://go.microsoft.com/fwlink/?LinkId=821837\n",
      "    Get-Date \n",
      "    Set-Date \n",
      "\n",
      "REMARKS\n",
      "    To see the examples, type: \"get-help New-TimeSpan -examples\".\n",
      "    For more information, type: \"get-help New-TimeSpan -detailed\".\n",
      "    For technical information, type: \"get-help New-TimeSpan -full\".\n",
      "    For online help, type: \"get-help New-TimeSpan -online\"\n",
      "\n",
      "\n"
     ]
    }
   ],
   "source": [
    "Get-Help New-Timespan -online"
   ]
  },
  {
   "cell_type": "markdown",
   "metadata": {},
   "source": [
    "#### Get-Member"
   ]
  },
  {
   "cell_type": "code",
   "execution_count": 66,
   "metadata": {},
   "outputs": [
    {
     "name": "stdout",
     "output_type": "stream",
     "text": []
    }
   ],
   "source": [
    "$timespn = New-Timespan"
   ]
  },
  {
   "cell_type": "code",
   "execution_count": 74,
   "metadata": {},
   "outputs": [
    {
     "name": "stdout",
     "output_type": "stream",
     "text": [
      "\n",
      "Name              Definition                     \n",
      "----              ----------                     \n",
      "Days              int Days {get;}                \n",
      "Hours             int Hours {get;}               \n",
      "Milliseconds      int Milliseconds {get;}        \n",
      "Minutes           int Minutes {get;}             \n",
      "Seconds           int Seconds {get;}             \n",
      "Ticks             long Ticks {get;}              \n",
      "TotalDays         double TotalDays {get;}        \n",
      "TotalHours        double TotalHours {get;}       \n",
      "TotalMilliseconds double TotalMilliseconds {get;}\n",
      "TotalMinutes      double TotalMinutes {get;}     \n",
      "TotalSeconds      double TotalSeconds {get;}     \n",
      "\n",
      "\n"
     ]
    }
   ],
   "source": [
    "$timespn | Get-Member -MemberType Property | ft Name, Definition"
   ]
  },
  {
   "cell_type": "code",
   "execution_count": 76,
   "metadata": {},
   "outputs": [
    {
     "name": "stdout",
     "output_type": "stream",
     "text": [
      "\n",
      "Name        Definition                                                                                                 \n",
      "----        ----------                                                                                                 \n",
      "Add         timespan Add(timespan ts)                                                                                  \n",
      "CompareTo   int CompareTo(System.Object value), int CompareTo(timespan value), int IComparable.CompareTo(System.Obje...\n",
      "Duration    timespan Duration()                                                                                        \n",
      "Equals      bool Equals(System.Object value), bool Equals(timespan obj), bool IEquatable[timespan].Equals(timespan o...\n",
      "GetHashCode int GetHashCode()                                                                                          \n",
      "GetType     type GetType()                                                                                             \n",
      "Negate      timespan Negate()                                                                                          \n",
      "Subtract    timespan Subtract(timespan ts)                                                                             \n",
      "ToString    string ToString(), string ToString(string format), string ToString(string format, System.IFormatProvider...\n",
      "\n",
      "\n"
     ]
    }
   ],
   "source": [
    "$timespn | Get-Member -MemberType Method | ft Name, Definition"
   ]
  },
  {
   "cell_type": "code",
   "execution_count": 78,
   "metadata": {},
   "outputs": [
    {
     "name": "stdout",
     "output_type": "stream",
     "text": [
      "$dtm_begin = Get-Date '2019/08/30 13:32'\n",
      "$dtm_end = Get-Date '2019/08/30 17:09'\n",
      "$span = New-Timespan $dtm_begin $dtm_end\n",
      "\n"
     ]
    }
   ],
   "source": [
    "$dtm_begin = Get-Date '2019/08/30 13:32'\n",
    "$dtm_end = Get-Date '2019/08/30 17:09'\n",
    "$span = New-Timespan $dtm_begin $dtm_end"
   ]
  },
  {
   "cell_type": "code",
   "execution_count": 80,
   "metadata": {},
   "outputs": [
    {
     "name": "stdout",
     "output_type": "stream",
     "text": [
      "\n",
      "\n",
      "Days              : 0\n",
      "Hours             : 3\n",
      "Minutes           : 37\n",
      "Seconds           : 0\n",
      "Milliseconds      : 0\n",
      "Ticks             : 130200000000\n",
      "TotalDays         : 0.150694444444444\n",
      "TotalHours        : 3.61666666666667\n",
      "TotalMinutes      : 217\n",
      "TotalSeconds      : 13020\n",
      "TotalMilliseconds : 13020000\n",
      "\n",
      "\n",
      "\n"
     ]
    }
   ],
   "source": [
    "$span | format-list"
   ]
  },
  {
   "cell_type": "code",
   "execution_count": 82,
   "metadata": {},
   "outputs": [
    {
     "name": "stdout",
     "output_type": "stream",
     "text": [
      "3:37:00\n"
     ]
    }
   ],
   "source": [
    "'{0:g}' -f $span"
   ]
  },
  {
   "cell_type": "code",
   "execution_count": 84,
   "metadata": {},
   "outputs": [
    {
     "name": "stdout",
     "output_type": "stream",
     "text": [
      "$str = '{0:g}' -f $span\n",
      "$str.Substring(0, $str.length -3)\n",
      "3:37\n",
      "\n"
     ]
    }
   ],
   "source": [
    "$str = '{0:g}' -f $span\n",
    "$str.Substring(0, $str.length -3)"
   ]
  },
  {
   "cell_type": "code",
   "execution_count": 86,
   "metadata": {},
   "outputs": [
    {
     "name": "stdout",
     "output_type": "stream",
     "text": [
      "$dtm_begin2 = Get-Date '2019/08/30 16:44'\n",
      "$dtm_end2 = Get-Date '2019/08/31 1:09'\n",
      "$span2 = New-Timespan $dtm_begin2 $dtm_end2\n",
      "$str2 = '{0:g}' -f $span2\n",
      "$str2.Substring(0, $str2.length -3)\n",
      "8:25\n",
      "\n"
     ]
    }
   ],
   "source": [
    "$dtm_begin2 = Get-Date '2019/08/30 16:44'\n",
    "$dtm_end2 = Get-Date '2019/08/31 1:09'\n",
    "$span2 = New-Timespan $dtm_begin2 $dtm_end2\n",
    "$str2 = '{0:g}' -f $span2\n",
    "$str2.Substring(0, $str2.length -3)"
   ]
  },
  {
   "cell_type": "markdown",
   "metadata": {},
   "source": [
    "## reference"
   ]
  },
  {
   "cell_type": "markdown",
   "metadata": {},
   "source": [
    "- 【PowerShell】TimeSpanオブジェクトを作成する \n",
    "  + https://hosopro.blogspot.com/2016/12/powershell-new-timespan.html"
   ]
  },
  {
   "cell_type": "markdown",
   "metadata": {},
   "source": [
    "- Use PowerShell and Conditional Formatting to Format Time Spans\n",
    "  - https://devblogs.microsoft.com/scripting/use-powershell-and-conditional-formatting-to-format-time-spans/"
   ]
  },
  {
   "cell_type": "markdown",
   "metadata": {},
   "source": [
    "- PowerShellのGet-Date -Formatで出力される標準の書式指定結果一覧 \n",
    "  + https://tech.guitarrapc.com/entry/2013/01/23/120129"
   ]
  }
 ],
 "metadata": {
  "kernelspec": {
   "display_name": "PowerShell",
   "language": "powershell",
   "name": "powershell"
  },
  "language_info": {
   "codemirror_mode": "shell",
   "file_extension": ".ps1",
   "mimetype": "text/x-sh",
   "name": "powershell"
  }
 },
 "nbformat": 4,
 "nbformat_minor": 2
}
