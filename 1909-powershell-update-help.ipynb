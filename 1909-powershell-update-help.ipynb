{
 "cells": [
  {
   "cell_type": "markdown",
   "metadata": {},
   "source": [
    "# 1909-powershell-update-help"
   ]
  },
  {
   "cell_type": "markdown",
   "metadata": {},
   "source": [
    "## overview"
   ]
  },
  {
   "cell_type": "markdown",
   "metadata": {},
   "source": [
    "- usage of update-help cmdlet"
   ]
  },
  {
   "cell_type": "markdown",
   "metadata": {},
   "source": [
    "![Image from Gyazo](https://i.gyazo.com/9c23d8a166aeaa46a042f3b1f33dcf33.png)"
   ]
  },
  {
   "cell_type": "markdown",
   "metadata": {},
   "source": [
    "## jupyter notebook"
   ]
  },
  {
   "cell_type": "markdown",
   "metadata": {},
   "source": [
    "- https://nbviewer.jupyter.org/github/sakai-memoru/pwshnote/blob/master/1909-powershell-update-help.ipynb"
   ]
  },
  {
   "cell_type": "markdown",
   "metadata": {},
   "source": [
    "## Usage"
   ]
  },
  {
   "cell_type": "code",
   "execution_count": 2,
   "metadata": {},
   "outputs": [
    {
     "name": "stdout",
     "output_type": "stream",
     "text": [
      "\n",
      "NAME\n",
      "    Update-Help\n",
      "    \n",
      "SYNOPSIS\n",
      "    Downloads and installs the newest help files on your computer.\n",
      "    \n",
      "    \n",
      "SYNTAX\n",
      "    Update-Help [[-Module] <String[]>] [[-UICulture] <CultureInfo[]>] [-Confirm] [-Credential <PSCredential>] [-Force] \n",
      "    [-FullyQualifiedModule <ModuleSpecification[]>] [-LiteralPath <String[]>] [-Recurse] [-UseDefaultCredentials] \n",
      "    [-WhatIf] [<CommonParameters>]\n",
      "    \n",
      "    Update-Help [[-Module] <String[]>] [[-SourcePath] <String[]>] [[-UICulture] <CultureInfo[]>] [-Confirm] \n",
      "    [-Credential <PSCredential>] [-Force] [-FullyQualifiedModule <ModuleSpecification[]>] [-Recurse] \n",
      "    [-UseDefaultCredentials] [-WhatIf] [<CommonParameters>]\n",
      "    \n",
      "    \n",
      "DESCRIPTION\n",
      "    The Update-Help cmdlet downloads the newest help files for Windows PowerShell modules and installs them on your \n",
      "    computer. You can use the Get-Help cmdlet to view the new help files immediately. You do not have to restart \n",
      "    Windows PowerShell to make the change effective. This feature enables you to install help files for modules that \n",
      "    do not include them and to update help files on your computer so that they never become obsolete. Update-Help \n",
      "    checks the version of the help files on your computer. If you do not have help files for a module or do not have \n",
      "    the newest help files for a module, Update-Help downloads the newest help files from the Internet or a file share \n",
      "    and installs them on your computer in the correct module folder.\n",
      "    \n",
      "    Without parameters, Update-Help updates the help for modules in the session and for all installed modules, in a \n",
      "    PSModulePath location, that support Updatable Help, even if the module is not in the current session. You can also \n",
      "    use the Module parameter to update help for a particular module and use the UICulture parameter to download help \n",
      "    files in multiple languages and locales.\n",
      "    \n",
      "    You can use Update-Help even on computers that are not connected to the Internet. Use the Save-Help cmdlet to \n",
      "    download help files from the Internet and save them in a file system location, such as a shared folder or file \n",
      "    system directory. Then use the SourcePath parameter of Update-Help to get the updated help files from a file \n",
      "    system location and install them on the computer.\n",
      "    \n",
      "    You can even automate the running of Update-Help by adding an Update-Help command to your Windows PowerShell \n",
      "    profile. By default, Update-Help runs only one time per day on each computer. To override the once-per-day limit, \n",
      "    use the Force parameter.\n",
      "    \n",
      "    To download or update the help files for modules in the Windows PowerShell installation directory \n",
      "    ($pshome\\Modules), including the Windows PowerShell Core modules, start Windows PowerShell by using the Run as \n",
      "    administrator option. You must be a member of the Administrators group on the computer to update the help files \n",
      "    for these modules.\n",
      "    \n",
      "    You can also update help files by using the Update Windows PowerShell Help menu item in the Help menu in Windows \n",
      "    PowerShell Integrated Scripting Environment (ISE). The Update Windows PowerShell Help item runs an Update-Help \n",
      "    command without parameters. To update help for modules in the $PSHome directory, start Windows PowerShell ISE by \n",
      "    using the Run as administrator option.\n",
      "    \n",
      "    This cmdlet was introduced in Windows PowerShell 3.0.\n",
      "    \n",
      "\n",
      "RELATED LINKS\n",
      "    Online Version: http://go.microsoft.com/fwlink/?LinkID=821524\n",
      "    Updatable Help Status Table (http://go.microsoft.com/fwlink/?LinkID=270007) \n",
      "    http://go.microsoft.com/fwlink/?LinkID=270007\n",
      "    Get-Help \n",
      "    Get-Module \n",
      "    Start-Job \n",
      "    Save-Help \n",
      "\n",
      "REMARKS\n",
      "    To see the examples, type: \"get-help Update-Help -examples\".\n",
      "    For more information, type: \"get-help Update-Help -detailed\".\n",
      "    For technical information, type: \"get-help Update-Help -full\".\n",
      "    For online help, type: \"get-help Update-Help -online\"\n",
      "\n",
      "\n"
     ]
    }
   ],
   "source": [
    "Get-Help Update-Help"
   ]
  }
 ],
 "metadata": {
  "kernelspec": {
   "display_name": "PowerShell",
   "language": "powershell",
   "name": "powershell"
  },
  "language_info": {
   "codemirror_mode": "shell",
   "file_extension": ".ps1",
   "mimetype": "text/x-sh",
   "name": "powershell"
  }
 },
 "nbformat": 4,
 "nbformat_minor": 2
}
