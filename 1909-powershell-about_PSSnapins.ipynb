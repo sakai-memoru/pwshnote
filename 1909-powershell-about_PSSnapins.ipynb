{
 "cells": [
  {
   "cell_type": "markdown",
   "metadata": {},
   "source": [
    "# 1909-powershell-about_PSSnapins"
   ]
  },
  {
   "cell_type": "markdown",
   "metadata": {},
   "source": [
    "## overview"
   ]
  },
  {
   "cell_type": "markdown",
   "metadata": {},
   "source": [
    "- about_PSSnapins"
   ]
  },
  {
   "cell_type": "markdown",
   "metadata": {},
   "source": [
    "![Image from Gyazo](https://i.gyazo.com/9c23d8a166aeaa46a042f3b1f33dcf33.png)"
   ]
  },
  {
   "cell_type": "markdown",
   "metadata": {},
   "source": [
    "## jupyter notebook"
   ]
  },
  {
   "cell_type": "markdown",
   "metadata": {},
   "source": [
    "- https://nbviewer.jupyter.org/github/sakai-memoru/pwshnote/blob/master/1909-powershell-about_PSSnapins.ipynb"
   ]
  },
  {
   "cell_type": "markdown",
   "metadata": {},
   "source": [
    "## Usage"
   ]
  },
  {
   "cell_type": "markdown",
   "metadata": {},
   "source": [
    "### Get-Help"
   ]
  },
  {
   "cell_type": "code",
   "execution_count": 1,
   "metadata": {},
   "outputs": [
    {
     "name": "stdout",
     "output_type": "stream",
     "text": [
      "\n",
      "\n",
      "Name     : about_PSSnapins\n",
      "Synopsis : Describes Windows PowerShell snap-ins and shows how to use and manage them.\n",
      "\n",
      "\n",
      "\n"
     ]
    }
   ],
   "source": [
    "Get-Help -Category helpfile about_PSSnapins | select Name, Synopsis | format-list *"
   ]
  },
  {
   "cell_type": "code",
   "execution_count": 3,
   "metadata": {},
   "outputs": [
    {
     "name": "stdout",
     "output_type": "stream",
     "text": [
      "Get-Help : The online version of this Help topic cannot be displayed because the Internet address (URI) of the Help \n",
      "topic is not specified in the command code or in the help file for the command.\n",
      "At line:1 char:1\n",
      "+ Get-Help about_PSSnapins -online\n",
      "+ ~~~~~~~~~~~~~~~~~~~~~~~~~~~~~~~~\n",
      "    + CategoryInfo          : InvalidOperation: (:) [Get-Help], PSInvalidOperationException\n",
      "    + FullyQualifiedErrorId : InvalidOperation,Microsoft.PowerShell.Commands.GetHelpCommand\n",
      " \n"
     ]
    }
   ],
   "source": [
    "Get-Help about_PSSnapins -online"
   ]
  },
  {
   "cell_type": "markdown",
   "metadata": {},
   "source": [
    "### about_Locations"
   ]
  },
  {
   "cell_type": "code",
   "execution_count": 4,
   "metadata": {},
   "outputs": [
    {
     "name": "stdout",
     "output_type": "stream",
     "text": []
    }
   ],
   "source": [
    "Get-Help about_PSSnapins | \n",
    "  set -Name store"
   ]
  },
  {
   "cell_type": "code",
   "execution_count": 5,
   "metadata": {},
   "outputs": [
    {
     "name": "stdout",
     "output_type": "stream",
     "text": [
      "System.String\n"
     ]
    }
   ],
   "source": [
    "$store.GetType().Fullname"
   ]
  },
  {
   "cell_type": "code",
   "execution_count": 6,
   "metadata": {},
   "outputs": [
    {
     "name": "stdout",
     "output_type": "stream",
     "text": []
    }
   ],
   "source": [
    "$store -split \"`r`n\" | set -Name ary"
   ]
  },
  {
   "cell_type": "code",
   "execution_count": 7,
   "metadata": {},
   "outputs": [
    {
     "name": "stdout",
     "output_type": "stream",
     "text": [
      "206\n"
     ]
    }
   ],
   "source": [
    "$ary.length"
   ]
  },
  {
   "cell_type": "code",
   "execution_count": 8,
   "metadata": {},
   "outputs": [
    {
     "name": "stdout",
     "output_type": "stream",
     "text": [
      "$i = 0\n",
      "foreach($ar in $ary)\n",
      ">> {\n",
      ">>   if($ar -match 'SEE ALSO')\n",
      ">>   {\n",
      ">>     break\n",
      ">>   }\n",
      ">>   $i++\n",
      ">> }\n",
      ">> # $ary[$i..$ary.Length]\n",
      ">> \n"
     ]
    }
   ],
   "source": [
    "$i = 0\n",
    "foreach($ar in $ary)\n",
    "{\n",
    "  if($ar -match 'SEE ALSO')\n",
    "  {\n",
    "    break\n",
    "  }\n",
    "  $i++\n",
    "}\n",
    "# $ary[$i..$ary.Length]"
   ]
  },
  {
   "cell_type": "code",
   "execution_count": 10,
   "metadata": {},
   "outputs": [
    {
     "name": "stdout",
     "output_type": "stream",
     "text": [
      "Add-PsSnapin\n",
      "Get-PsSnapin\n",
      "Remove-PsSnapin\n",
      "Export-Console\n",
      "Get-Command\n",
      "https://nbviewer.jupyter.org/github/sakai-memoru/pwshnote/blob/master/1909-powershell-about_Profiles.ipynb\n",
      "https://nbviewer.jupyter.org/github/sakai-memoru/pwshnote/blob/master/1909-powershell-about_Modules.ipynb\n",
      "KEYWORDS: about_Snapins, about_Snap_ins, about_Snap-ins\n"
     ]
    }
   ],
   "source": [
    "$url_base = \"https://nbviewer.jupyter.org/github/sakai-memoru/pwshnote/blob/master/1909-powershell-{{about_item}}.ipynb\"\n",
    "\n",
    "foreach($a in $ary[($i+1)..$ary.Length]){\n",
    "  if(-not ($a.Trim() -eq ''))\n",
    "  {\n",
    "    if($a.Trim().startswith('about_'))\n",
    "    {\n",
    "      $url_base.Replace('{{about_item}}',$a.Trim())  \n",
    "    }\n",
    "    else\n",
    "    {\n",
    "      $a.Trim()\n",
    "    }\n",
    "  }\n",
    "}"
   ]
  },
  {
   "cell_type": "code",
   "execution_count": 16,
   "metadata": {},
   "outputs": [
    {
     "name": "stdout",
     "output_type": "stream",
     "text": [
      "TOPIC\n",
      "    about_PSSnapins\n",
      "\n",
      "SHORT DESCRIPTION\n",
      "    Describes Windows PowerShell snap-ins and shows how to use and manage them.\n",
      "\n",
      "LONG DESCRIPTION\n",
      "    A Windows PowerShell snap-in is a Microsoft .NET Framework assembly that \n",
      "    contains Windows PowerShell providers and/or cmdlets. Windows PowerShell \n",
      "    includes a set of basic snap-ins, but you can extend the power and value \n",
      "    of Windows PowerShell by adding snap-ins that contain providers and cmdlets\n",
      "    that you create or get from others. \n",
      "\n",
      "    When you add a snap-in, the cmdlets and providers that it contains are\n",
      "    immediately available for use in the current session, but the change\n",
      "    affects only the current session. \n",
      "\n",
      "    To add the snap-in to all future sessions, save it in your Windows\n",
      "    PowerShell profile. You can also use the Export-Console cmdlet to save\n",
      "    the snap-in names to a console file and then use it in future sessions.\n",
      "    You can even save multiple console files, each with a different set of\n",
      "    snap-ins.\n",
      "\n",
      "    NOTE: Windows PowerShell snap-ins (PSSnapins) are available for use in \n",
      "    Windows PowerShell 3.0 and Windows PowerShell 2.0. They might be altered\n",
      "    or unavailable in subsequent versions. To package Windows PowerShell\n",
      "    cmdlets and providers, use modules. For information about creating modules\n",
      "    and converting snap-ins to modules, see \"Writing a Windows PowerShell Module\"\n",
      "    in MSDN at http://go.microsoft.com/fwlink/?LinkID=141556.\n",
      "\n",
      " and more ...\n"
     ]
    }
   ],
   "source": [
    "$ary[0..28]  + \"`r`n and more ...\""
   ]
  },
  {
   "cell_type": "markdown",
   "metadata": {},
   "source": [
    "### Get-Command"
   ]
  },
  {
   "cell_type": "code",
   "execution_count": 24,
   "metadata": {},
   "outputs": [
    {
     "name": "stdout",
     "output_type": "stream",
     "text": [
      "\n",
      "\n",
      "Name   : Add-PSSnapin\n",
      "Source : Microsoft.PowerShell.Core\n",
      "\n",
      "Name   : Get-PSSnapin\n",
      "Source : Microsoft.PowerShell.Core\n",
      "\n",
      "Name   : Remove-PSSnapin\n",
      "Source : Microsoft.PowerShell.Core\n",
      "\n",
      "\n",
      "\n"
     ]
    }
   ],
   "source": [
    "Get-Command -Name \"*PSSnapin\" | fl Name, Source"
   ]
  },
  {
   "cell_type": "markdown",
   "metadata": {},
   "source": [
    "### Get-Alias"
   ]
  },
  {
   "cell_type": "code",
   "execution_count": 26,
   "metadata": {},
   "outputs": [
    {
     "name": "stdout",
     "output_type": "stream",
     "text": [
      "\n",
      "Definition      Name DisplayName            \n",
      "----------      ---- -----------            \n",
      "Add-PSSnapIn    asnp asnp -> Add-PSSnapin   \n",
      "Get-PSSnapIn    gsnp gsnp -> Get-PSSnapin   \n",
      "Remove-PSSnapin rsnp rsnp -> Remove-PSSnapin\n",
      "\n",
      "\n"
     ]
    }
   ],
   "source": [
    "Get-alias -Definition \"*PSSnapin\" | sort Definition |ft Definition, Name, DisplayName"
   ]
  },
  {
   "cell_type": "markdown",
   "metadata": {},
   "source": [
    "### Get-Help"
   ]
  },
  {
   "cell_type": "code",
   "execution_count": 30,
   "metadata": {},
   "outputs": [
    {
     "name": "stdout",
     "output_type": "stream",
     "text": [
      "echo\n",
      "Help Get-PSSnapIn -online\n",
      "\n",
      "Help Get-PSSnapIn -online\n",
      "\n"
     ]
    }
   ],
   "source": [
    "echo\n",
    "Help Get-PSSnapIn -online"
   ]
  },
  {
   "cell_type": "code",
   "execution_count": 33,
   "metadata": {},
   "outputs": [
    {
     "name": "stdout",
     "output_type": "stream",
     "text": []
    }
   ],
   "source": [
    "Help Get-PSSnapIn | set -Name store_cmd"
   ]
  },
  {
   "cell_type": "code",
   "execution_count": 35,
   "metadata": {},
   "outputs": [
    {
     "name": "stdout",
     "output_type": "stream",
     "text": [
      "System.String\n"
     ]
    }
   ],
   "source": [
    "$store_cmd[0].GetType().Fullname"
   ]
  },
  {
   "cell_type": "code",
   "execution_count": 37,
   "metadata": {},
   "outputs": [
    {
     "name": "stdout",
     "output_type": "stream",
     "text": [
      "39\n"
     ]
    }
   ],
   "source": [
    "$store_cmd.Length"
   ]
  },
  {
   "cell_type": "code",
   "execution_count": 39,
   "metadata": {},
   "outputs": [
    {
     "name": "stdout",
     "output_type": "stream",
     "text": [
      "Help Get-PSSnapIn\n",
      "\n",
      "NAME\n",
      "    Get-PSSnapin\n",
      "    \n",
      "SYNOPSIS\n",
      "    Gets the Windows PowerShell snap-ins on the computer.\n",
      "    \n",
      "    \n",
      "SYNTAX\n",
      "    Get-PSSnapin [[-Name] <String[]>] [-Registered] [<CommonParameters>]\n",
      "    \n",
      "    \n",
      "DESCRIPTION\n",
      "    The Get-PSSnapin cmdlet gets the Windows PowerShell snap-ins that have been added to the current session or that \n",
      "    have been registered on the system. This cmdlet lists the snap-ins in the order in which they are detected. \n",
      "    Get-PSSnapin gets only registered snap-ins. To register a Windows PowerShell snap-in, use the InstallUtil tool \n",
      "    included with the Microsoft .NET Framework 2.0. For more information, see How to Register Cmdlets, Providers, and \n",
      "    Host Applicationshttp://go.microsoft.com/fwlink/?LinkId=143619 (http://go.microsoft.com/fwlink/?LinkId=143619) in \n",
      "    the Microsoft Developer Network (MSDN) library.\n",
      "    \n",
      "    Starting in Windows PowerShell 3.0, the core commands that are included in Windows PowerShell are packaged in \n",
      "    modules. The exception is Microsoft.PowerShell.Core , which is a snap-in (PSSnapin). By default, only the \n",
      "    Microsoft.PowerShell.Core snap-in is added to the session. Modules are imported automatically on first use and you \n",
      "    can use the Import-Module cmdlet to import them.\n",
      "    \n",
      "\n",
      "RELATED LINKS\n",
      "    Online Version: http://go.microsoft.com/fwlink/?LinkId=821491\n",
      "    Add-PSSnapin \n",
      "    Remove-PSSnapin \n",
      "\n",
      "REMARKS\n",
      "    To see the examples, type: \"get-help Get-PSSnapin -examples\".\n",
      "    For more information, type: \"get-help Get-PSSnapin -detailed\".\n",
      "    For technical information, type: \"get-help Get-PSSnapin -full\".\n",
      "    For online help, type: \"get-help Get-PSSnapin -online\"\n",
      "\n",
      "\n",
      "\n",
      "\n",
      "\n"
     ]
    }
   ],
   "source": [
    "Help Get-PSSnapIn\n"
   ]
  },
  {
   "cell_type": "markdown",
   "metadata": {},
   "source": [
    "### Show-Command"
   ]
  },
  {
   "cell_type": "code",
   "execution_count": 43,
   "metadata": {},
   "outputs": [
    {
     "name": "stdout",
     "output_type": "stream",
     "text": [
      "echo\n",
      "shcm Get-PSSnapIn\n",
      "\n",
      "shcm Get-PSSnapIn\n",
      "\n"
     ]
    }
   ],
   "source": [
    "echo\n",
    "shcm Get-PSSnapIn"
   ]
  },
  {
   "cell_type": "markdown",
   "metadata": {},
   "source": [
    "### Get-PSSnapIn"
   ]
  },
  {
   "cell_type": "code",
   "execution_count": 45,
   "metadata": {},
   "outputs": [
    {
     "name": "stdout",
     "output_type": "stream",
     "text": [
      "\n",
      "\n",
      "   TypeName: System.Management.Automation.PSSnapInInfo\n",
      "\n",
      "Name                        MemberType Definition                                                      \n",
      "----                        ---------- ----------                                                      \n",
      "ApplicationBase             Property   string ApplicationBase {get;}                                   \n",
      "AssemblyName                Property   string AssemblyName {get;}                                      \n",
      "Description                 Property   string Description {get;}                                       \n",
      "Formats                     Property   System.Collections.ObjectModel.Collection[string] Formats {get;}\n",
      "IsDefault                   Property   bool IsDefault {get;}                                           \n",
      "LogPipelineExecutionDetails Property   bool LogPipelineExecutionDetails {get;set;}                     \n",
      "ModuleName                  Property   string ModuleName {get;}                                        \n",
      "Name                        Property   string Name {get;}                                              \n",
      "PSVersion                   Property   version PSVersion {get;}                                        \n",
      "Types                       Property   System.Collections.ObjectModel.Collection[string] Types {get;}  \n",
      "Vendor                      Property   string Vendor {get;}                                            \n",
      "Version                     Property   version Version {get;}                                          \n",
      "\n",
      "\n",
      "\n"
     ]
    }
   ],
   "source": [
    "Get-PSSnapIn | gm -MemberType Property"
   ]
  },
  {
   "cell_type": "code",
   "execution_count": 48,
   "metadata": {},
   "outputs": [
    {
     "name": "stdout",
     "output_type": "stream",
     "text": [
      "\n",
      "\n",
      "\n",
      "\n",
      "\n",
      "\n"
     ]
    }
   ],
   "source": [
    "Get-PSSnapIn | fl Drive, Path, Provider, ProviderPath"
   ]
  },
  {
   "cell_type": "code",
   "execution_count": null,
   "metadata": {},
   "outputs": [],
   "source": []
  }
 ],
 "metadata": {
  "kernelspec": {
   "display_name": "PowerShell",
   "language": "powershell",
   "name": "powershell"
  },
  "language_info": {
   "codemirror_mode": "shell",
   "file_extension": ".ps1",
   "mimetype": "text/x-sh",
   "name": "powershell"
  }
 },
 "nbformat": 4,
 "nbformat_minor": 2
}
