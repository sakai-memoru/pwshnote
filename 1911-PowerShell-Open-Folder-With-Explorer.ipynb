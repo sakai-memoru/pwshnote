{
 "cells": [
  {
   "cell_type": "markdown",
   "metadata": {},
   "source": [
    "# 1911-PowerShell-Open-Folder-With-Explorer"
   ]
  },
  {
   "cell_type": "markdown",
   "metadata": {},
   "source": [
    "### Explorer a folder in Environment Variable "
   ]
  },
  {
   "cell_type": "code",
   "execution_count": 2,
   "metadata": {},
   "outputs": [
    {
     "name": "stdout",
     "output_type": "stream",
     "text": [
      "\n",
      "Name                           Value                                                                                   \n",
      "----                           -----                                                                                   \n",
      "_CONDA_EXE                     C:/ProgramData/Anaconda3\\Scripts\\conda.exe                                              \n",
      "_CONDA_ROOT                    C:/ProgramData/Anaconda3                                                                \n",
      "ALLUSERSPROFILE                C:\\ProgramData                                                                          \n",
      "ANT_HOME                       G:\\apache-ant-1.9.14                                                                    \n",
      "APPDATA                        G:\\Users\\sakai\\AppData\\Roaming                                                          \n",
      "ASL.LOG                        Destination=file                                                                        \n",
      "CASSANDRA_HOME                 G:\\apache-cassandra-3.11.4                                                              \n",
      "CHOCOLATEYPATH                 C:\\Chocolatey                                                                           \n",
      "COMMONPROGRAMFILES             C:\\Program Files\\Common Files                                                           \n",
      "COMMONPROGRAMFILES(X86)        C:\\Program Files (x86)\\Common Files                                                     \n",
      "COMMONPROGRAMW6432             C:\\Program Files\\Common Files                                                           \n",
      "COMPUTERNAME                   EX                                                                                      \n",
      "COMSPEC                        C:\\WINDOWS\\system32\\cmd.exe                                                             \n",
      "CONDA_DEFAULT_ENV              base                                                                                    \n",
      "CONDA_EXE                      C:\\ProgramData\\Anaconda3\\Scripts\\conda.exe                                              \n",
      "CONDA_PREFIX                   C:\\ProgramData\\Anaconda3                                                                \n",
      "CONDA_PROMPT_MODIFIER          (base)                                                                                  \n",
      "CONDA_PYTHON_EXE               C:\\ProgramData\\Anaconda3\\python.exe                                                     \n",
      "CONDA_SHLVL                    1                                                                                       \n",
      "DATA_DIR                       G:\\apps_data\\transformation                                                             \n",
      "DRIVERDATA                     C:\\Windows\\System32\\Drivers\\DriverData                                                  \n",
      "ENV_HOME                       G:\\Users\\sakai\\AppData\\Local\\conda\\conda\\envs                                           \n",
      "ERLANG_HOME                    C:\\Program Files\\erl10.0.1                                                              \n",
      "ES_HOME                        G:\\elasticsearch\\6.3.2\\                                                                 \n",
      "ES_PATH_CONF                   C:\\ProgramData\\Elastic\\Elasticsearch\\config                                             \n",
      "FPS_BROWSER_APP_PROFILE_STRING Internet Explorer                                                                       \n",
      "FPS_BROWSER_USER_PROFILE_ST... Default                                                                                 \n",
      "HOMEDRIVE                      G:                                                                                      \n",
      "HOMEPATH                       \\Users\\sakai                                                                            \n",
      "IDLE_FILE                      G:\\Users\\sakai\\AppData\\Local\\Programs\\Python\\Python36-32\\Lib\\idlelib\\idle.pyw           \n",
      "IPY_INTERRUPT_EVENT            2456                                                                                    \n",
      "JPY_INTERRUPT_EVENT            2456                                                                                    \n",
      "JPY_PARENT_PID                 2372                                                                                    \n",
      "KERNEL_LAUNCH_TIMEOUT          40                                                                                      \n",
      "LOCALAPPDATA                   G:\\Users\\sakai\\AppData\\Local                                                            \n",
      "LOGONSERVER                    \\\\EX                                                                                    \n",
      "MOSQUITTO_DIR                  C:\\Program Files (x86)\\mosquitto                                                        \n",
      "MYSQLCONNECTOR_ASSEMBLIESPATH  C:\\Program Files (x86)\\MySQL\\Connector NET 8.0\\Assemblies\\v4.5.2                        \n",
      "NGINX_HOME                     G:\\nginx-1.15.0                                                                         \n",
      "NUMBER_OF_PROCESSORS           4                                                                                       \n",
      "ONEDRIVE                       G:\\Users\\sakai\\OneDrive                                                                 \n",
      "ONEDRIVECONSUMER               G:\\Users\\sakai\\OneDrive                                                                 \n",
      "OS                             Windows_NT                                                                              \n",
      "PATH                           C:\\ProgramData\\Anaconda3;C:\\ProgramData\\Anaconda3\\Library\\mingw-w64\\bin;C:\\ProgramDat...\n",
      "PATHEXT                        .COM;.EXE;.BAT;.CMD;.VBS;.VBE;.JS;.JSE;.WSF;.WSH;.MSC;.RB;.RBW;.CPL                     \n",
      "powershell_command             powershell                                                                              \n",
      "PROCESSOR_ARCHITECTURE         AMD64                                                                                   \n",
      "PROCESSOR_IDENTIFIER           Intel64 Family 6 Model 60 Stepping 3, GenuineIntel                                      \n",
      "PROCESSOR_LEVEL                6                                                                                       \n",
      "PROCESSOR_REVISION             3c03                                                                                    \n",
      "PROGRAMDATA                    C:\\ProgramData                                                                          \n",
      "PROGRAMFILES                   C:\\Program Files                                                                        \n",
      "PROGRAMFILES(X86)              C:\\Program Files (x86)                                                                  \n",
      "PROGRAMW6432                   C:\\Program Files                                                                        \n",
      "PROJECT_HOME                   G:\\workspace\\py                                                                         \n",
      "PROMPT                         $P$G                                                                                    \n",
      "PSEXECUTIONPOLICYPREFERENCE    Bypass                                                                                  \n",
      "PSMODULEPATH                   G:\\Users\\sakai\\OneDrive\\Documents\\WindowsPowerShell\\Modules;C:\\Program Files\\WindowsP...\n",
      "PUBLIC                         C:\\Users\\Public                                                                         \n",
      "PYCHARM                        C:\\Program Files\\JetBrains\\PyCharm 2018.3.1\\bin;                                        \n",
      "PYCHARM COMMUNITY EDITION      C:\\Program Files\\JetBrains\\PyCharm Community Edition 2018.3.1\\bin;                      \n",
      "RUBYOPT                        -Eutf-8                                                                                 \n",
      "SESSIONNAME                    Console                                                                                 \n",
      "SYSTEMDRIVE                    C:                                                                                      \n",
      "SYSTEMROOT                     C:\\WINDOWS                                                                              \n",
      "TEMP                           G:\\Users\\sakai\\AppData\\Local\\Temp                                                       \n",
      "TMP                            G:\\Users\\sakai\\AppData\\Local\\Temp                                                       \n",
      "USERDOMAIN                     EX                                                                                      \n",
      "USERDOMAIN_ROAMINGPROFILE      EX                                                                                      \n",
      "USERNAME                       sakai                                                                                   \n",
      "USERPROFILE                    G:\\Users\\sakai                                                                          \n",
      "VBOX_MSI_INSTALL_PATH          C:\\Program Files\\Oracle\\VirtualBox\\                                                     \n",
      "VS140COMNTOOLS                 C:\\Program Files (x86)\\Microsoft Visual Studio 14.0\\Common7\\Tools\\                      \n",
      "VSSDK140INSTALL                C:\\Program Files (x86)\\Microsoft Visual Studio 14.0\\VSSDK\\                              \n",
      "WINDIR                         C:\\WINDOWS                                                                              \n",
      "WORKON_HOME                    G:\\env\\py                                                                               \n",
      "\n",
      "\n"
     ]
    }
   ],
   "source": [
    "dir Env:"
   ]
  },
  {
   "cell_type": "markdown",
   "metadata": {},
   "source": [
    "| item              | value                             |\n",
    "|: -----------------|: ---------------------------------|\n",
    "| APPDATA           | G:\\Users\\sakai\\AppData\\Roaming    |\n",
    "| PROGRAMDATA       | C:\\ProgramData                    |\n",
    "| PROGRAMFILES      | C:\\Program Files                  |\n",
    "| PROGRAMFILES(X86) | C:\\Program Files (x86)            |\n",
    "| TEMP              | G:\\Users\\sakai\\AppData\\Local\\Temp |\n",
    "| TMP               | G:\\Users\\sakai\\AppData\\Local\\Temp |\n",
    "| USERPROFILE       | G:\\Users\\sakai                    |\n"
   ]
  },
  {
   "cell_type": "code",
   "execution_count": 4,
   "metadata": {},
   "outputs": [
    {
     "name": "stdout",
     "output_type": "stream",
     "text": []
    }
   ],
   "source": [
    "explorer $Env:APPDATA"
   ]
  },
  {
   "cell_type": "code",
   "execution_count": 5,
   "metadata": {},
   "outputs": [
    {
     "name": "stdout",
     "output_type": "stream",
     "text": []
    }
   ],
   "source": [
    "explorer $Env:APPDATA\\sakura"
   ]
  },
  {
   "cell_type": "markdown",
   "metadata": {},
   "source": [
    "### Explorer SpecialForlder"
   ]
  },
  {
   "cell_type": "code",
   "execution_count": 15,
   "metadata": {},
   "outputs": [
    {
     "name": "stdout",
     "output_type": "stream",
     "text": [
      "G:\\Users\\sakai\\AppData\\Roaming\\Microsoft\\Windows\\Start Menu\n"
     ]
    }
   ],
   "source": [
    "[environment]::GetFolderPath('StartMenu')"
   ]
  },
  {
   "cell_type": "code",
   "execution_count": 17,
   "metadata": {},
   "outputs": [
    {
     "name": "stdout",
     "output_type": "stream",
     "text": []
    }
   ],
   "source": [
    "explorer ([environment]::GetFolderPath('StartMenu'))"
   ]
  },
  {
   "cell_type": "code",
   "execution_count": 7,
   "metadata": {},
   "outputs": [
    {
     "name": "stdout",
     "output_type": "stream",
     "text": [
      "Desktop\n",
      "Programs\n",
      "MyDocuments\n",
      "Personal\n",
      "Favorites\n",
      "Startup\n",
      "Recent\n",
      "SendTo\n",
      "StartMenu\n",
      "MyMusic\n",
      "MyVideos\n",
      "DesktopDirectory\n",
      "MyComputer\n",
      "NetworkShortcuts\n",
      "Fonts\n",
      "Templates\n",
      "CommonStartMenu\n",
      "CommonPrograms\n",
      "CommonStartup\n",
      "CommonDesktopDirectory\n",
      "ApplicationData\n",
      "PrinterShortcuts\n",
      "LocalApplicationData\n",
      "InternetCache\n",
      "Cookies\n",
      "History\n",
      "CommonApplicationData\n",
      "Windows\n",
      "System\n",
      "ProgramFiles\n",
      "MyPictures\n",
      "UserProfile\n",
      "SystemX86\n",
      "ProgramFilesX86\n",
      "CommonProgramFiles\n",
      "CommonProgramFilesX86\n",
      "CommonTemplates\n",
      "CommonDocuments\n",
      "CommonAdminTools\n",
      "AdminTools\n",
      "CommonMusic\n",
      "CommonPictures\n",
      "CommonVideos\n",
      "Resources\n",
      "LocalizedResources\n",
      "CommonOemLinks\n",
      "CDBurning\n"
     ]
    }
   ],
   "source": [
    "[Enum]::GetNames('System.Environment+SpecialFolder')"
   ]
  },
  {
   "cell_type": "markdown",
   "metadata": {},
   "source": [
    "### function Get-SpecialFolder"
   ]
  },
  {
   "cell_type": "markdown",
   "metadata": {},
   "source": [
    "#### reference"
   ]
  },
  {
   "cell_type": "markdown",
   "metadata": {},
   "source": [
    "- #PSTip Working with Special Folders\n",
    "  - https://www.powershellmagazine.com/2013/10/30/pstip-working-with-special-folders/"
   ]
  },
  {
   "cell_type": "code",
   "execution_count": 18,
   "metadata": {},
   "outputs": [
    {
     "name": "stdout",
     "output_type": "stream",
     "text": []
    }
   ],
   "source": [
    "function Get-SpecialFolder\n",
    "{\n",
    "    [CmdletBinding()]\n",
    "    [OutputType('System.Management.Automation.PSCustomObject')]\n",
    " \n",
    "    param( [string]$Name='*' )\n",
    " \n",
    "    $psobj = New-Object -TypeName PSObject\n",
    "    $folders = [System.Enum]::GetNames('System.Environment+SpecialFolder')\n",
    " \n",
    "    $folders | Where-Object {$_ -like $Name} | Sort-Object | ForEach-Object {\n",
    "        $folderPath = [System.Environment]::GetFolderPath($_)\n",
    "        $psobj | Add-Member -MemberType NoteProperty -Name $_ -Value $folderPath\n",
    "    }\n",
    " \n",
    "    $psobj\n",
    "}\n"
   ]
  },
  {
   "cell_type": "code",
   "execution_count": 19,
   "metadata": {
    "scrolled": true
   },
   "outputs": [
    {
     "name": "stdout",
     "output_type": "stream",
     "text": [
      "function Get-SpecialFolder\n",
      ">> {\n",
      ">>     [CmdletBinding()]\n",
      ">>     [OutputType('System.Management.Automation.PSCustomObject')]\n",
      ">>  \n",
      ">>     param( [string]$Name='*' )\n",
      ">>  \n",
      ">>     $psobj = New-Object -TypeName PSObject\n",
      ">>     $folders = [System.Enum]::GetNames('System.Environment+SpecialFolder')\n",
      ">>  \n",
      ">>     $folders | Where-Object {$_ -like $Name} | Sort-Object | ForEach-Object {\n",
      ">>         $folderPath = [System.Environment]::GetFolderPath($_)\n",
      ">>         $psobj | Add-Member -MemberType NoteProperty -Name $_ -Value $folderPath\n",
      ">>     }\n",
      ">>  \n",
      ">>     $psobj\n",
      ">> }\n",
      ">> \n",
      "\n"
     ]
    }
   ],
   "source": [
    "$specialFolders = Get-SpecialFolder\n"
   ]
  },
  {
   "cell_type": "code",
   "execution_count": 20,
   "metadata": {},
   "outputs": [
    {
     "name": "stdout",
     "output_type": "stream",
     "text": [
      "$specialFolders = Get-SpecialFolder\n",
      "$specialFolders.ApplicationData\n",
      "G:\\Users\\sakai\\AppData\\Roaming\n",
      "\n"
     ]
    }
   ],
   "source": [
    "$specialFolders.ApplicationData"
   ]
  },
  {
   "cell_type": "code",
   "execution_count": 22,
   "metadata": {},
   "outputs": [
    {
     "name": "stdout",
     "output_type": "stream",
     "text": [
      "G:\\Users\\sakai\\AppData\\Roaming\\Microsoft\\Windows\\Start Menu\n"
     ]
    }
   ],
   "source": [
    "$specialFolders.StartMenu"
   ]
  },
  {
   "cell_type": "code",
   "execution_count": null,
   "metadata": {},
   "outputs": [],
   "source": []
  }
 ],
 "metadata": {
  "kernelspec": {
   "display_name": "PowerShell",
   "language": "powershell",
   "name": "powershell"
  },
  "language_info": {
   "codemirror_mode": "shell",
   "file_extension": ".ps1",
   "mimetype": "text/x-sh",
   "name": "powershell"
  }
 },
 "nbformat": 4,
 "nbformat_minor": 2
}
