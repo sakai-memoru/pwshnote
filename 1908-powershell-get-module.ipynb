{
 "cells": [
  {
   "cell_type": "markdown",
   "metadata": {},
   "source": [
    "# 1908-powershell-get-module"
   ]
  },
  {
   "cell_type": "markdown",
   "metadata": {},
   "source": [
    "## logs"
   ]
  },
  {
   "cell_type": "code",
   "execution_count": 1,
   "metadata": {},
   "outputs": [
    {
     "name": "stdout",
     "output_type": "stream",
     "text": [
      "\n",
      "CommandType     Name                                               Version    Source                                   \n",
      "-----------     ----                                               -------    ------                                   \n",
      "Function        Find-Module                                        1.0.0.1    PowerShellGet                            \n",
      "Function        Install-Module                                     1.0.0.1    PowerShellGet                            \n",
      "Function        Publish-Module                                     1.0.0.1    PowerShellGet                            \n",
      "Function        Save-Module                                        1.0.0.1    PowerShellGet                            \n",
      "Function        Uninstall-Module                                   1.0.0.1    PowerShellGet                            \n",
      "Function        Update-Module                                      1.0.0.1    PowerShellGet                            \n",
      "Cmdlet          Get-Module                                         3.0.0.0    Microsoft.PowerShell.Core                \n",
      "Cmdlet          Import-Module                                      3.0.0.0    Microsoft.PowerShell.Core                \n",
      "Cmdlet          New-Module                                         3.0.0.0    Microsoft.PowerShell.Core                \n",
      "Cmdlet          Remove-Module                                      3.0.0.0    Microsoft.PowerShell.Core                \n",
      "\n",
      "\n"
     ]
    }
   ],
   "source": [
    "Get-Command -Noun module"
   ]
  },
  {
   "cell_type": "code",
   "execution_count": 2,
   "metadata": {},
   "outputs": [
    {
     "name": "stdout",
     "output_type": "stream",
     "text": [
      "\n",
      "ModuleType Version    Name                                ExportedCommands                                             \n",
      "---------- -------    ----                                ----------------                                             \n",
      "Manifest   3.1.0.0    Microsoft.PowerShell.Utility        {Add-Member, Add-Type, Clear-Variable, Compare-Object...}    \n",
      "Script     1.2        PSReadline                          {Get-PSReadlineKeyHandler, Get-PSReadlineOption, Remove-PS...\n",
      "\n",
      "\n"
     ]
    }
   ],
   "source": [
    "Get-Module"
   ]
  },
  {
   "cell_type": "code",
   "execution_count": 3,
   "metadata": {},
   "outputs": [
    {
     "name": "stdout",
     "output_type": "stream",
     "text": [
      "\n",
      "ModuleType Version    Name                                ExportedCommands                                             \n",
      "---------- -------    ----                                ----------------                                             \n",
      "Manifest   3.1.0.0    Microsoft.PowerShell.Utility        {Add-Member, Add-Type, Clear-Variable, Compare-Object...}    \n",
      "\n",
      "\n"
     ]
    }
   ],
   "source": [
    "Get-Module | Where-Object {$_.Name -match 'Utility'}"
   ]
  },
  {
   "cell_type": "code",
   "execution_count": 10,
   "metadata": {},
   "outputs": [
    {
     "name": "stdout",
     "output_type": "stream",
     "text": [
      "\n",
      "Key                       Value                    \n",
      "---                       -----                    \n",
      "Add-Member                Add-Member               \n",
      "Add-Type                  Add-Type                 \n",
      "Clear-Variable            Clear-Variable           \n",
      "Compare-Object            Compare-Object           \n",
      "Convert-String            Convert-String           \n",
      "ConvertFrom-Csv           ConvertFrom-Csv          \n",
      "ConvertFrom-Json          ConvertFrom-Json         \n",
      "ConvertFrom-String        ConvertFrom-String       \n",
      "ConvertFrom-StringData    ConvertFrom-StringData   \n",
      "ConvertTo-Csv             ConvertTo-Csv            \n",
      "ConvertTo-Html            ConvertTo-Html           \n",
      "ConvertTo-Json            ConvertTo-Json           \n",
      "ConvertTo-Xml             ConvertTo-Xml            \n",
      "Debug-Runspace            Debug-Runspace           \n",
      "Disable-PSBreakpoint      Disable-PSBreakpoint     \n",
      "Disable-RunspaceDebug     Disable-RunspaceDebug    \n",
      "Enable-PSBreakpoint       Enable-PSBreakpoint      \n",
      "Enable-RunspaceDebug      Enable-RunspaceDebug     \n",
      "Export-Alias              Export-Alias             \n",
      "Export-Clixml             Export-Clixml            \n",
      "Export-Csv                Export-Csv               \n",
      "Export-FormatData         Export-FormatData        \n",
      "Export-PSSession          Export-PSSession         \n",
      "Format-Custom             Format-Custom            \n",
      "Format-List               Format-List              \n",
      "Format-Table              Format-Table             \n",
      "Format-Wide               Format-Wide              \n",
      "Get-Alias                 Get-Alias                \n",
      "Get-Culture               Get-Culture              \n",
      "Get-Date                  Get-Date                 \n",
      "Get-Event                 Get-Event                \n",
      "Get-EventSubscriber       Get-EventSubscriber      \n",
      "Get-FormatData            Get-FormatData           \n",
      "Get-Host                  Get-Host                 \n",
      "Get-Member                Get-Member               \n",
      "Get-PSBreakpoint          Get-PSBreakpoint         \n",
      "Get-PSCallStack           Get-PSCallStack          \n",
      "Get-Random                Get-Random               \n",
      "Get-Runspace              Get-Runspace             \n",
      "Get-RunspaceDebug         Get-RunspaceDebug        \n",
      "Get-TraceSource           Get-TraceSource          \n",
      "Get-TypeData              Get-TypeData             \n",
      "Get-UICulture             Get-UICulture            \n",
      "Get-Unique                Get-Unique               \n",
      "Get-Variable              Get-Variable             \n",
      "Group-Object              Group-Object             \n",
      "Import-Alias              Import-Alias             \n",
      "Import-Clixml             Import-Clixml            \n",
      "Import-Csv                Import-Csv               \n",
      "Import-LocalizedData      Import-LocalizedData     \n",
      "Import-PSSession          Import-PSSession         \n",
      "Invoke-Expression         Invoke-Expression        \n",
      "Invoke-RestMethod         Invoke-RestMethod        \n",
      "Invoke-WebRequest         Invoke-WebRequest        \n",
      "Measure-Command           Measure-Command          \n",
      "Measure-Object            Measure-Object           \n",
      "New-Alias                 New-Alias                \n",
      "New-Event                 New-Event                \n",
      "New-Object                New-Object               \n",
      "New-TimeSpan              New-TimeSpan             \n",
      "New-Variable              New-Variable             \n",
      "Out-File                  Out-File                 \n",
      "Out-GridView              Out-GridView             \n",
      "Out-Printer               Out-Printer              \n",
      "Out-String                Out-String               \n",
      "Read-Host                 Read-Host                \n",
      "Register-EngineEvent      Register-EngineEvent     \n",
      "Register-ObjectEvent      Register-ObjectEvent     \n",
      "Remove-Event              Remove-Event             \n",
      "Remove-PSBreakpoint       Remove-PSBreakpoint      \n",
      "Remove-TypeData           Remove-TypeData          \n",
      "Remove-Variable           Remove-Variable          \n",
      "Select-Object             Select-Object            \n",
      "Select-String             Select-String            \n",
      "Select-Xml                Select-Xml               \n",
      "Send-MailMessage          Send-MailMessage         \n",
      "Set-Alias                 Set-Alias                \n",
      "Set-Date                  Set-Date                 \n",
      "Set-PSBreakpoint          Set-PSBreakpoint         \n",
      "Set-TraceSource           Set-TraceSource          \n",
      "Set-Variable              Set-Variable             \n",
      "Show-Command              Show-Command             \n",
      "Sort-Object               Sort-Object              \n",
      "Start-Sleep               Start-Sleep              \n",
      "Tee-Object                Tee-Object               \n",
      "Trace-Command             Trace-Command            \n",
      "Unblock-File              Unblock-File             \n",
      "Unregister-Event          Unregister-Event         \n",
      "Update-FormatData         Update-FormatData        \n",
      "Update-List               Update-List              \n",
      "Update-TypeData           Update-TypeData          \n",
      "Wait-Debugger             Wait-Debugger            \n",
      "Wait-Event                Wait-Event               \n",
      "Write-Debug               Write-Debug              \n",
      "Write-Error               Write-Error              \n",
      "Write-Host                Write-Host               \n",
      "Write-Information         Write-Information        \n",
      "Write-Output              Write-Output             \n",
      "Write-Progress            Write-Progress           \n",
      "Write-Verbose             Write-Verbose            \n",
      "Write-Warning             Write-Warning            \n",
      "ConvertFrom-SddlString    ConvertFrom-SddlString   \n",
      "Format-Hex                Format-Hex               \n",
      "Get-FileHash              Get-FileHash             \n",
      "Import-PowerShellDataFile Import-PowerShellDataFile\n",
      "New-Guid                  New-Guid                 \n",
      "New-TemporaryFile         New-TemporaryFile        \n",
      "CFS                       CFS                      \n",
      "fhx                       fhx                      \n",
      "\n",
      "\n"
     ]
    }
   ],
   "source": [
    "Get-Module | Where-Object {$_.Name -match 'Utility'} | ForEach-Object {$_.ExportedCommands}"
   ]
  },
  {
   "cell_type": "code",
   "execution_count": 11,
   "metadata": {},
   "outputs": [
    {
     "name": "stdout",
     "output_type": "stream",
     "text": [
      "get-verb\n",
      "\n",
      "Verb        Group         \n",
      "----        -----         \n",
      "Add         Common        \n",
      "Clear       Common        \n",
      "Close       Common        \n",
      "Copy        Common        \n",
      "Enter       Common        \n",
      "Exit        Common        \n",
      "Find        Common        \n",
      "Format      Common        \n",
      "Get         Common        \n",
      "Hide        Common        \n",
      "Join        Common        \n",
      "Lock        Common        \n",
      "Move        Common        \n",
      "New         Common        \n",
      "Open        Common        \n",
      "Optimize    Common        \n",
      "Pop         Common        \n",
      "Push        Common        \n",
      "Redo        Common        \n",
      "Remove      Common        \n",
      "Rename      Common        \n",
      "Reset       Common        \n",
      "Resize      Common        \n",
      "Search      Common        \n",
      "Select      Common        \n",
      "Set         Common        \n",
      "Show        Common        \n",
      "Skip        Common        \n",
      "Split       Common        \n",
      "Step        Common        \n",
      "Switch      Common        \n",
      "Undo        Common        \n",
      "Unlock      Common        \n",
      "Watch       Common        \n",
      "Backup      Data          \n",
      "Checkpoint  Data          \n",
      "Compare     Data          \n",
      "Compress    Data          \n",
      "Convert     Data          \n",
      "ConvertFrom Data          \n",
      "ConvertTo   Data          \n",
      "Dismount    Data          \n",
      "Edit        Data          \n",
      "Expand      Data          \n",
      "Export      Data          \n",
      "Group       Data          \n",
      "Import      Data          \n",
      "Initialize  Data          \n",
      "Limit       Data          \n",
      "Merge       Data          \n",
      "Mount       Data          \n",
      "Out         Data          \n",
      "Publish     Data          \n",
      "Restore     Data          \n",
      "Save        Data          \n",
      "Sync        Data          \n",
      "Unpublish   Data          \n",
      "Update      Data          \n",
      "Approve     Lifecycle     \n",
      "Assert      Lifecycle     \n",
      "Complete    Lifecycle     \n",
      "Confirm     Lifecycle     \n",
      "Deny        Lifecycle     \n",
      "Disable     Lifecycle     \n",
      "Enable      Lifecycle     \n",
      "Install     Lifecycle     \n",
      "Invoke      Lifecycle     \n",
      "Register    Lifecycle     \n",
      "Request     Lifecycle     \n",
      "Restart     Lifecycle     \n",
      "Resume      Lifecycle     \n",
      "Start       Lifecycle     \n",
      "Stop        Lifecycle     \n",
      "Submit      Lifecycle     \n",
      "Suspend     Lifecycle     \n",
      "Uninstall   Lifecycle     \n",
      "Unregister  Lifecycle     \n",
      "Wait        Lifecycle     \n",
      "Debug       Diagnostic    \n",
      "Measure     Diagnostic    \n",
      "Ping        Diagnostic    \n",
      "Repair      Diagnostic    \n",
      "Resolve     Diagnostic    \n",
      "Test        Diagnostic    \n",
      "Trace       Diagnostic    \n",
      "Connect     Communications\n",
      "Disconnect  Communications\n",
      "Read        Communications\n",
      "Receive     Communications\n",
      "Send        Communications\n",
      "Write       Communications\n",
      "Block       Security      \n",
      "Grant       Security      \n",
      "Protect     Security      \n",
      "Revoke      Security      \n",
      "Unblock     Security      \n",
      "Unprotect   Security      \n",
      "Use         Other         \n",
      "\n",
      "\n",
      "\n",
      "\n"
     ]
    }
   ],
   "source": [
    "get-verb\n"
   ]
  },
  {
   "cell_type": "code",
   "execution_count": 12,
   "metadata": {},
   "outputs": [
    {
     "name": "stdout",
     "output_type": "stream",
     "text": [
      "\n",
      "CommandType     Name                                               Version    Source                                   \n",
      "-----------     ----                                               -------    ------                                   \n",
      "Cmdlet          ConvertTo-Csv                                      3.1.0.0    Microsoft.PowerShell.Utility             \n",
      "Cmdlet          ConvertTo-Html                                     3.1.0.0    Microsoft.PowerShell.Utility             \n",
      "Cmdlet          ConvertTo-Json                                     3.1.0.0    Microsoft.PowerShell.Utility             \n",
      "Cmdlet          ConvertTo-ProcessMitigationPolicy                  1.0.11     ProcessMitigations                       \n",
      "Cmdlet          ConvertTo-SecureString                             3.0.0.0    Microsoft.PowerShell.Security            \n",
      "Cmdlet          ConvertTo-TpmOwnerAuth                             2.0.0.0    TrustedPlatformModule                    \n",
      "Cmdlet          ConvertTo-Xml                                      3.1.0.0    Microsoft.PowerShell.Utility             \n",
      "\n",
      "\n"
     ]
    }
   ],
   "source": [
    "Get-Command -Verb ConvertTo"
   ]
  },
  {
   "cell_type": "code",
   "execution_count": 13,
   "metadata": {},
   "outputs": [
    {
     "name": "stdout",
     "output_type": "stream",
     "text": [
      "\n",
      "NAME\n",
      "    ConvertTo-Csv\n",
      "    \n",
      "SYNTAX\n",
      "    ConvertTo-Csv [-InputObject] <psobject> [[-Delimiter] <char>] [-NoTypeInformation]  [<CommonParameters>]\n",
      "    \n",
      "    ConvertTo-Csv [-InputObject] <psobject> [-UseCulture] [-NoTypeInformation]  [<CommonParameters>]\n",
      "    \n",
      "\n",
      "ALIASES\n",
      "    None\n",
      "    \n",
      "\n",
      "REMARKS\n",
      "    Get-Help cannot find the Help files for this cmdlet on this computer. It is displaying only partial help.\n",
      "        -- To download and install Help files for the module that includes this cmdlet, use Update-Help.\n",
      "        -- To view the Help topic for this cmdlet online, type: \"Get-Help ConvertTo-Csv -Online\" or \n",
      "           go to https://go.microsoft.com/fwlink/?LinkID=135203.\n",
      "\n",
      "\n",
      "\n"
     ]
    }
   ],
   "source": [
    "Get-Help ConvertTo-Csv"
   ]
  },
  {
   "cell_type": "code",
   "execution_count": null,
   "metadata": {},
   "outputs": [],
   "source": []
  }
 ],
 "metadata": {
  "kernelspec": {
   "display_name": "PowerShell",
   "language": "powershell",
   "name": "powershell"
  },
  "language_info": {
   "codemirror_mode": "shell",
   "file_extension": ".ps1",
   "mimetype": "text/x-sh",
   "name": "powershell"
  }
 },
 "nbformat": 4,
 "nbformat_minor": 2
}
