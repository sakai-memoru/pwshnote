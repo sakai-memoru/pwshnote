{
 "cells": [
  {
   "cell_type": "markdown",
   "metadata": {},
   "source": [
    "# 1908-powershell-array\n"
   ]
  },
  {
   "cell_type": "markdown",
   "metadata": {},
   "source": [
    "## 変数としてのarray の定義\n"
   ]
  },
  {
   "cell_type": "markdown",
   "metadata": {},
   "source": [
    "### Literalによる定義\n"
   ]
  },
  {
   "cell_type": "code",
   "execution_count": 1,
   "metadata": {},
   "outputs": [
    {
     "name": "stdout",
     "output_type": "stream",
     "text": []
    }
   ],
   "source": [
    "$ary = @('power','shell')"
   ]
  },
  {
   "cell_type": "code",
   "execution_count": 2,
   "metadata": {},
   "outputs": [
    {
     "name": "stdout",
     "output_type": "stream",
     "text": [
      "power\n",
      "shell\n"
     ]
    }
   ],
   "source": [
    "$ary"
   ]
  },
  {
   "cell_type": "code",
   "execution_count": 3,
   "metadata": {},
   "outputs": [
    {
     "name": "stdout",
     "output_type": "stream",
     "text": []
    }
   ],
   "source": [
    "$ary_empty = @()"
   ]
  },
  {
   "cell_type": "markdown",
   "metadata": {},
   "source": [
    "> 空の配列"
   ]
  },
  {
   "cell_type": "code",
   "execution_count": 4,
   "metadata": {},
   "outputs": [
    {
     "name": "stdout",
     "output_type": "stream",
     "text": []
    }
   ],
   "source": [
    "$ary_empty"
   ]
  },
  {
   "cell_type": "code",
   "execution_count": 5,
   "metadata": {},
   "outputs": [
    {
     "name": "stdout",
     "output_type": "stream",
     "text": []
    }
   ],
   "source": [
    "$ary_other_def = 'power', 'shell', 'other', 'array'"
   ]
  },
  {
   "cell_type": "code",
   "execution_count": 6,
   "metadata": {},
   "outputs": [
    {
     "name": "stdout",
     "output_type": "stream",
     "text": [
      "power\n",
      "shell\n",
      "other\n",
      "array\n"
     ]
    }
   ],
   "source": [
    "$ary_other_def"
   ]
  },
  {
   "cell_type": "markdown",
   "metadata": {},
   "source": [
    "## $ary.GetType()"
   ]
  },
  {
   "cell_type": "code",
   "execution_count": 7,
   "metadata": {},
   "outputs": [
    {
     "name": "stdout",
     "output_type": "stream",
     "text": [
      "\n",
      "\n",
      "Module                     : CommonLanguageRuntimeLibrary\n",
      "Assembly                   : mscorlib, Version=4.0.0.0, Culture=neutral, PublicKeyToken=b77a5c561934e089\n",
      "TypeHandle                 : System.RuntimeTypeHandle\n",
      "DeclaringMethod            : \n",
      "BaseType                   : System.Array\n",
      "UnderlyingSystemType       : System.Object[]\n",
      "FullName                   : System.Object[]\n",
      "AssemblyQualifiedName      : System.Object[], mscorlib, Version=4.0.0.0, Culture=neutral, \n",
      "                             PublicKeyToken=b77a5c561934e089\n",
      "Namespace                  : System\n",
      "GUID                       : 00000000-0000-0000-0000-000000000000\n",
      "IsEnum                     : False\n",
      "GenericParameterAttributes : \n",
      "IsSecurityCritical         : False\n",
      "IsSecuritySafeCritical     : False\n",
      "IsSecurityTransparent      : True\n",
      "IsGenericTypeDefinition    : False\n",
      "IsGenericParameter         : False\n",
      "GenericParameterPosition   : \n",
      "IsGenericType              : False\n",
      "IsConstructedGenericType   : False\n",
      "ContainsGenericParameters  : False\n",
      "StructLayoutAttribute      : \n",
      "Name                       : Object[]\n",
      "MemberType                 : TypeInfo\n",
      "DeclaringType              : \n",
      "ReflectedType              : \n",
      "MetadataToken              : 33554432\n",
      "GenericTypeParameters      : {}\n",
      "DeclaredConstructors       : {Void .ctor(Int32)}\n",
      "DeclaredEvents             : {}\n",
      "DeclaredFields             : {}\n",
      "DeclaredMembers            : {Void Set(Int32, System.Object), System.Object& Address(Int32), System.Object Get(Int32), \n",
      "                             Void .ctor(Int32)}\n",
      "DeclaredMethods            : {Void Set(Int32, System.Object), System.Object& Address(Int32), System.Object Get(Int32)}\n",
      "DeclaredNestedTypes        : {}\n",
      "DeclaredProperties         : {}\n",
      "ImplementedInterfaces      : {System.ICloneable, System.Collections.IList, System.Collections.ICollection, \n",
      "                             System.Collections.IEnumerable...}\n",
      "TypeInitializer            : \n",
      "IsNested                   : False\n",
      "Attributes                 : AutoLayout, AnsiClass, Class, Public, Sealed, Serializable\n",
      "IsVisible                  : True\n",
      "IsNotPublic                : False\n",
      "IsPublic                   : True\n",
      "IsNestedPublic             : False\n",
      "IsNestedPrivate            : False\n",
      "IsNestedFamily             : False\n",
      "IsNestedAssembly           : False\n",
      "IsNestedFamANDAssem        : False\n",
      "IsNestedFamORAssem         : False\n",
      "IsAutoLayout               : True\n",
      "IsLayoutSequential         : False\n",
      "IsExplicitLayout           : False\n",
      "IsClass                    : True\n",
      "IsInterface                : False\n",
      "IsValueType                : False\n",
      "IsAbstract                 : False\n",
      "IsSealed                   : True\n",
      "IsSpecialName              : False\n",
      "IsImport                   : False\n",
      "IsSerializable             : True\n",
      "IsAnsiClass                : True\n",
      "IsUnicodeClass             : False\n",
      "IsAutoClass                : False\n",
      "IsArray                    : True\n",
      "IsByRef                    : False\n",
      "IsPointer                  : False\n",
      "IsPrimitive                : False\n",
      "IsCOMObject                : False\n",
      "HasElementType             : True\n",
      "IsContextful               : False\n",
      "IsMarshalByRef             : False\n",
      "GenericTypeArguments       : {}\n",
      "CustomAttributes           : {[System.SerializableAttribute()]}\n",
      "\n",
      "\n",
      "\n"
     ]
    }
   ],
   "source": [
    "$ary.GetType() | Format-List"
   ]
  },
  {
   "cell_type": "markdown",
   "metadata": {},
   "source": [
    "## $ary | Get-Member "
   ]
  },
  {
   "cell_type": "code",
   "execution_count": 8,
   "metadata": {},
   "outputs": [
    {
     "name": "stdout",
     "output_type": "stream",
     "text": [
      "\n",
      "\n",
      "   TypeName: System.String\n",
      "\n",
      "Name             MemberType            Definition                                                                      \n",
      "----             ----------            ----------                                                                      \n",
      "Clone            Method                System.Object Clone(), System.Object ICloneable.Clone()                         \n",
      "CompareTo        Method                int CompareTo(System.Object value), int CompareTo(string strB), int IComparab...\n",
      "Contains         Method                bool Contains(string value)                                                     \n",
      "CopyTo           Method                void CopyTo(int sourceIndex, char[] destination, int destinationIndex, int co...\n",
      "EndsWith         Method                bool EndsWith(string value), bool EndsWith(string value, System.StringCompari...\n",
      "Equals           Method                bool Equals(System.Object obj), bool Equals(string value), bool Equals(string...\n",
      "GetEnumerator    Method                System.CharEnumerator GetEnumerator(), System.Collections.IEnumerator IEnumer...\n",
      "GetHashCode      Method                int GetHashCode()                                                               \n",
      "GetType          Method                type GetType()                                                                  \n",
      "GetTypeCode      Method                System.TypeCode GetTypeCode(), System.TypeCode IConvertible.GetTypeCode()       \n",
      "IndexOf          Method                int IndexOf(char value), int IndexOf(char value, int startIndex), int IndexOf...\n",
      "IndexOfAny       Method                int IndexOfAny(char[] anyOf), int IndexOfAny(char[] anyOf, int startIndex), i...\n",
      "Insert           Method                string Insert(int startIndex, string value)                                     \n",
      "IsNormalized     Method                bool IsNormalized(), bool IsNormalized(System.Text.NormalizationForm normaliz...\n",
      "LastIndexOf      Method                int LastIndexOf(char value), int LastIndexOf(char value, int startIndex), int...\n",
      "LastIndexOfAny   Method                int LastIndexOfAny(char[] anyOf), int LastIndexOfAny(char[] anyOf, int startI...\n",
      "Normalize        Method                string Normalize(), string Normalize(System.Text.NormalizationForm normalizat...\n",
      "PadLeft          Method                string PadLeft(int totalWidth), string PadLeft(int totalWidth, char paddingChar)\n",
      "PadRight         Method                string PadRight(int totalWidth), string PadRight(int totalWidth, char padding...\n",
      "Remove           Method                string Remove(int startIndex, int count), string Remove(int startIndex)         \n",
      "Replace          Method                string Replace(char oldChar, char newChar), string Replace(string oldValue, s...\n",
      "Split            Method                string[] Split(Params char[] separator), string[] Split(char[] separator, int...\n",
      "StartsWith       Method                bool StartsWith(string value), bool StartsWith(string value, System.StringCom...\n",
      "Substring        Method                string Substring(int startIndex), string Substring(int startIndex, int length)  \n",
      "ToBoolean        Method                bool IConvertible.ToBoolean(System.IFormatProvider provider)                    \n",
      "ToByte           Method                byte IConvertible.ToByte(System.IFormatProvider provider)                       \n",
      "ToChar           Method                char IConvertible.ToChar(System.IFormatProvider provider)                       \n",
      "ToCharArray      Method                char[] ToCharArray(), char[] ToCharArray(int startIndex, int length)            \n",
      "ToDateTime       Method                datetime IConvertible.ToDateTime(System.IFormatProvider provider)               \n",
      "ToDecimal        Method                decimal IConvertible.ToDecimal(System.IFormatProvider provider)                 \n",
      "ToDouble         Method                double IConvertible.ToDouble(System.IFormatProvider provider)                   \n",
      "ToInt16          Method                int16 IConvertible.ToInt16(System.IFormatProvider provider)                     \n",
      "ToInt32          Method                int IConvertible.ToInt32(System.IFormatProvider provider)                       \n",
      "ToInt64          Method                long IConvertible.ToInt64(System.IFormatProvider provider)                      \n",
      "ToLower          Method                string ToLower(), string ToLower(cultureinfo culture)                           \n",
      "ToLowerInvariant Method                string ToLowerInvariant()                                                       \n",
      "ToSByte          Method                sbyte IConvertible.ToSByte(System.IFormatProvider provider)                     \n",
      "ToSingle         Method                float IConvertible.ToSingle(System.IFormatProvider provider)                    \n",
      "ToString         Method                string ToString(), string ToString(System.IFormatProvider provider), string I...\n",
      "ToType           Method                System.Object IConvertible.ToType(type conversionType, System.IFormatProvider...\n",
      "ToUInt16         Method                uint16 IConvertible.ToUInt16(System.IFormatProvider provider)                   \n",
      "ToUInt32         Method                uint32 IConvertible.ToUInt32(System.IFormatProvider provider)                   \n",
      "ToUInt64         Method                uint64 IConvertible.ToUInt64(System.IFormatProvider provider)                   \n",
      "ToUpper          Method                string ToUpper(), string ToUpper(cultureinfo culture)                           \n",
      "ToUpperInvariant Method                string ToUpperInvariant()                                                       \n",
      "Trim             Method                string Trim(Params char[] trimChars), string Trim()                             \n",
      "TrimEnd          Method                string TrimEnd(Params char[] trimChars)                                         \n",
      "TrimStart        Method                string TrimStart(Params char[] trimChars)                                       \n",
      "Chars            ParameterizedProperty char Chars(int index) {get;}                                                    \n",
      "Length           Property              int Length {get;}                                                               \n",
      "\n",
      "\n"
     ]
    }
   ],
   "source": [
    "$ary | Get-Member"
   ]
  },
  {
   "cell_type": "code",
   "execution_count": 9,
   "metadata": {},
   "outputs": [
    {
     "name": "stdout",
     "output_type": "stream",
     "text": [
      "\n",
      "\n",
      "   TypeName: System.Object[]\n",
      "\n",
      "Name           MemberType            Definition                                                                        \n",
      "----           ----------            ----------                                                                        \n",
      "Count          AliasProperty         Count = Length                                                                    \n",
      "Add            Method                int IList.Add(System.Object value)                                                \n",
      "Address        Method                System.Object&, mscorlib, Version=4.0.0.0, Culture=neutral, PublicKeyToken=b77a...\n",
      "Clear          Method                void IList.Clear()                                                                \n",
      "Clone          Method                System.Object Clone(), System.Object ICloneable.Clone()                           \n",
      "CompareTo      Method                int IStructuralComparable.CompareTo(System.Object other, System.Collections.ICo...\n",
      "Contains       Method                bool IList.Contains(System.Object value)                                          \n",
      "CopyTo         Method                void CopyTo(array array, int index), void CopyTo(array array, long index), void...\n",
      "Equals         Method                bool Equals(System.Object obj), bool IStructuralEquatable.Equals(System.Object ...\n",
      "Get            Method                System.Object Get(int )                                                           \n",
      "GetEnumerator  Method                System.Collections.IEnumerator GetEnumerator(), System.Collections.IEnumerator ...\n",
      "GetHashCode    Method                int GetHashCode(), int IStructuralEquatable.GetHashCode(System.Collections.IEqu...\n",
      "GetLength      Method                int GetLength(int dimension)                                                      \n",
      "GetLongLength  Method                long GetLongLength(int dimension)                                                 \n",
      "GetLowerBound  Method                int GetLowerBound(int dimension)                                                  \n",
      "GetType        Method                type GetType()                                                                    \n",
      "GetUpperBound  Method                int GetUpperBound(int dimension)                                                  \n",
      "GetValue       Method                System.Object GetValue(Params int[] indices), System.Object GetValue(int index)...\n",
      "IndexOf        Method                int IList.IndexOf(System.Object value)                                            \n",
      "Initialize     Method                void Initialize()                                                                 \n",
      "Insert         Method                void IList.Insert(int index, System.Object value)                                 \n",
      "Remove         Method                void IList.Remove(System.Object value)                                            \n",
      "RemoveAt       Method                void IList.RemoveAt(int index)                                                    \n",
      "Set            Method                void Set(int , System.Object )                                                    \n",
      "SetValue       Method                void SetValue(System.Object value, int index), void SetValue(System.Object valu...\n",
      "ToString       Method                string ToString()                                                                 \n",
      "Item           ParameterizedProperty System.Object IList.Item(int index) {get;set;}                                    \n",
      "IsFixedSize    Property              bool IsFixedSize {get;}                                                           \n",
      "IsReadOnly     Property              bool IsReadOnly {get;}                                                            \n",
      "IsSynchronized Property              bool IsSynchronized {get;}                                                        \n",
      "Length         Property              int Length {get;}                                                                 \n",
      "LongLength     Property              long LongLength {get;}                                                            \n",
      "Rank           Property              int Rank {get;}                                                                   \n",
      "SyncRoot       Property              System.Object SyncRoot {get;}                                                     \n",
      "\n",
      "\n"
     ]
    }
   ],
   "source": [
    "Get-Member -InputObject $ary"
   ]
  },
  {
   "cell_type": "code",
   "execution_count": 10,
   "metadata": {},
   "outputs": [
    {
     "name": "stdout",
     "output_type": "stream",
     "text": [
      "\n",
      "Name          Definition                                                                                               \n",
      "----          ----------                                                                                               \n",
      "Add           int IList.Add(System.Object value)                                                                       \n",
      "Address       System.Object&, mscorlib, Version=4.0.0.0, Culture=neutral, PublicKeyToken=b77a5c561934e089 Address(int )\n",
      "Clear         void IList.Clear()                                                                                       \n",
      "Clone         System.Object Clone(), System.Object ICloneable.Clone()                                                  \n",
      "CompareTo     int IStructuralComparable.CompareTo(System.Object other, System.Collections.IComparer comparer)          \n",
      "Contains      bool IList.Contains(System.Object value)                                                                 \n",
      "CopyTo        void CopyTo(array array, int index), void CopyTo(array array, long index), void ICollection.CopyTo(arr...\n",
      "Equals        bool Equals(System.Object obj), bool IStructuralEquatable.Equals(System.Object other, System.Collectio...\n",
      "Get           System.Object Get(int )                                                                                  \n",
      "GetEnumerator System.Collections.IEnumerator GetEnumerator(), System.Collections.IEnumerator IEnumerable.GetEnumerat...\n",
      "GetHashCode   int GetHashCode(), int IStructuralEquatable.GetHashCode(System.Collections.IEqualityComparer comparer)   \n",
      "GetLength     int GetLength(int dimension)                                                                             \n",
      "GetLongLength long GetLongLength(int dimension)                                                                        \n",
      "GetLowerBound int GetLowerBound(int dimension)                                                                         \n",
      "GetType       type GetType()                                                                                           \n",
      "GetUpperBound int GetUpperBound(int dimension)                                                                         \n",
      "GetValue      System.Object GetValue(Params int[] indices), System.Object GetValue(int index), System.Object GetValu...\n",
      "IndexOf       int IList.IndexOf(System.Object value)                                                                   \n",
      "Initialize    void Initialize()                                                                                        \n",
      "Insert        void IList.Insert(int index, System.Object value)                                                        \n",
      "Remove        void IList.Remove(System.Object value)                                                                   \n",
      "RemoveAt      void IList.RemoveAt(int index)                                                                           \n",
      "Set           void Set(int , System.Object )                                                                           \n",
      "SetValue      void SetValue(System.Object value, int index), void SetValue(System.Object value, int index1, int inde...\n",
      "ToString      string ToString()                                                                                        \n",
      "\n",
      "\n"
     ]
    }
   ],
   "source": [
    "Get-Member -InputObject $ary -MemberType Method | format-table Name, Definition"
   ]
  },
  {
   "cell_type": "code",
   "execution_count": 11,
   "metadata": {},
   "outputs": [
    {
     "name": "stdout",
     "output_type": "stream",
     "text": [
      "2\n"
     ]
    }
   ],
   "source": [
    "$ary.Count"
   ]
  },
  {
   "cell_type": "code",
   "execution_count": 12,
   "metadata": {},
   "outputs": [
    {
     "name": "stdout",
     "output_type": "stream",
     "text": [
      "System.Object[]\n"
     ]
    }
   ],
   "source": [
    "$ary.ToString()"
   ]
  },
  {
   "cell_type": "code",
   "execution_count": 13,
   "metadata": {},
   "outputs": [
    {
     "name": "stdout",
     "output_type": "stream",
     "text": [
      "Exception calling \"Add\" with \"1\" argument(s): \"Collection was of a fixed size.\"\n",
      "At line:1 char:1\n",
      "+ $ary.Add('Jupyter')\n",
      "+ ~~~~~~~~~~~~~~~~~~~\n",
      "    + CategoryInfo          : NotSpecified: (:) [], MethodInvocationException\n",
      "    + FullyQualifiedErrorId : NotSupportedException\n",
      " \n"
     ]
    }
   ],
   "source": [
    "$ary.Add('Jupyter')"
   ]
  },
  {
   "cell_type": "code",
   "execution_count": 14,
   "metadata": {},
   "outputs": [
    {
     "name": "stdout",
     "output_type": "stream",
     "text": []
    }
   ],
   "source": [
    "$ary += 'Jupyter'"
   ]
  },
  {
   "cell_type": "code",
   "execution_count": 15,
   "metadata": {},
   "outputs": [
    {
     "name": "stdout",
     "output_type": "stream",
     "text": [
      "\n",
      "Name           Definition                   \n",
      "----           ----------                   \n",
      "IsFixedSize    bool IsFixedSize {get;}      \n",
      "IsReadOnly     bool IsReadOnly {get;}       \n",
      "IsSynchronized bool IsSynchronized {get;}   \n",
      "Length         int Length {get;}            \n",
      "LongLength     long LongLength {get;}       \n",
      "Rank           int Rank {get;}              \n",
      "SyncRoot       System.Object SyncRoot {get;}\n",
      "\n",
      "\n"
     ]
    }
   ],
   "source": [
    "Get-Member -InputObject $ary -MemberType Property | format-table Name, Definition"
   ]
  },
  {
   "cell_type": "code",
   "execution_count": 16,
   "metadata": {},
   "outputs": [
    {
     "name": "stdout",
     "output_type": "stream",
     "text": [
      "power\n",
      "shell\n",
      "Jupyter\n"
     ]
    }
   ],
   "source": [
    "$ary"
   ]
  },
  {
   "cell_type": "code",
   "execution_count": 17,
   "metadata": {},
   "outputs": [
    {
     "name": "stdout",
     "output_type": "stream",
     "text": [
      "System.String\n",
      ">>power\n",
      "System.String\n",
      ">>shell\n",
      "System.String\n",
      ">>Jupyter\n"
     ]
    }
   ],
   "source": [
    "$ary | foreach-object {$_.GetType().FullName; '>>' + $_}"
   ]
  },
  {
   "cell_type": "code",
   "execution_count": 18,
   "metadata": {},
   "outputs": [
    {
     "name": "stdout",
     "output_type": "stream",
     "text": [
      "System.String\n",
      ">>power\n",
      "System.String\n",
      ">>shell\n",
      "System.String\n",
      ">>Jupyter\n"
     ]
    }
   ],
   "source": [
    "foreach($ar in $ary)\n",
    "{\n",
    "  $ar.GetType().FullName\n",
    "  '>>' + $ar\n",
    "}"
   ]
  },
  {
   "cell_type": "code",
   "execution_count": 19,
   "metadata": {},
   "outputs": [
    {
     "name": "stdout",
     "output_type": "stream",
     "text": [
      "System.Object[]\n"
     ]
    }
   ],
   "source": [
    "$ary.ToString()"
   ]
  },
  {
   "cell_type": "code",
   "execution_count": 20,
   "metadata": {},
   "outputs": [
    {
     "name": "stdout",
     "output_type": "stream",
     "text": [
      "#TYPE System.String\n",
      "\"Length\"\n",
      "\"5\"\n",
      "\"5\"\n",
      "\"7\"\n"
     ]
    }
   ],
   "source": [
    "$ary | ConvertTo-Csv"
   ]
  },
  {
   "cell_type": "code",
   "execution_count": 21,
   "metadata": {},
   "outputs": [
    {
     "name": "stdout",
     "output_type": "stream",
     "text": [
      "\"Length\"\n",
      "\"5\"\n",
      "\"5\"\n",
      "\"7\"\n"
     ]
    }
   ],
   "source": [
    "$ary | ConvertTo-Csv -NoTypeInformation"
   ]
  },
  {
   "cell_type": "markdown",
   "metadata": {},
   "source": [
    "- [x] Q:なぜかLengthが入る。\n",
    "- ＝＞渡されたObjectのPropertyをカラムにして、CSVが作成される。この場合、Stringが渡されるので、そのPropertyのLengthがCSVとなる。\n"
   ]
  },
  {
   "cell_type": "code",
   "execution_count": 22,
   "metadata": {},
   "outputs": [
    {
     "name": "stdout",
     "output_type": "stream",
     "text": [
      "\"Count\",\"Length\",\"LongLength\",\"Rank\",\"SyncRoot\",\"IsReadOnly\",\"IsFixedSize\",\"IsSynchronized\"\n",
      "\"3\",\"3\",\"3\",\"1\",\"System.Object[]\",\"False\",\"True\",\"False\"\n"
     ]
    }
   ],
   "source": [
    "ConvertTo-Csv -inputObject $ary -NoTypeInformation"
   ]
  },
  {
   "cell_type": "code",
   "execution_count": 23,
   "metadata": {},
   "outputs": [
    {
     "name": "stdout",
     "output_type": "stream",
     "text": [
      "[\n",
      "    \"power\",\n",
      "    \"shell\",\n",
      "    \"Jupyter\"\n",
      "]\n"
     ]
    }
   ],
   "source": [
    "ConvertTo-Json -inputObject $ary"
   ]
  },
  {
   "cell_type": "code",
   "execution_count": 24,
   "metadata": {},
   "outputs": [
    {
     "name": "stdout",
     "output_type": "stream",
     "text": [
      "[\n",
      "    \"power\",\n",
      "    \"shell\",\n",
      "    \"Jupyter\"\n",
      "]\n"
     ]
    }
   ],
   "source": [
    "$ary | Convertto-Json"
   ]
  },
  {
   "cell_type": "code",
   "execution_count": 25,
   "metadata": {},
   "outputs": [
    {
     "name": "stdout",
     "output_type": "stream",
     "text": [
      "power,shell,Jupyter\n"
     ]
    }
   ],
   "source": [
    "$ary -join ','"
   ]
  },
  {
   "cell_type": "code",
   "execution_count": 26,
   "metadata": {},
   "outputs": [
    {
     "name": "stdout",
     "output_type": "stream",
     "text": [
      "TOPIC\n",
      "    about_Arrays\n",
      "\n",
      "SHORT DESCRIPTION\n",
      "    Describes arrays, which are data structures designed to store \n",
      "    collections of items.\n",
      "\n",
      "LONG DESCRIPTION\n",
      "    An array is a data structure that is designed to store a collection \n",
      "    of items. The items can be the same type or different types.\n",
      "\n",
      "    Beginning in Windows PowerShell 3.0, a collection of zero or one\n",
      "    object has some properties of arrays. \n",
      "\n",
      "\n",
      " CREATING AND INITIALIZING AN ARRAY\n",
      "    To create and initialize an array, assign multiple values to a variable.\n",
      "    The values stored in the array are delimited with a comma and separated\n",
      "    from the variable name by the assignment operator (=). \n",
      "\n",
      "    For example, to create an array named $A that contains the seven\n",
      "    numeric (int) values of 22, 5, 10, 8, 12, 9, and 80, type:\n",
      "\n",
      "        $A = 22,5,10,8,12,9,80\n",
      "\n",
      "    You can also create and initialize an array by using the range \n",
      "    operator (..). For example, to create and initialize an array named \n",
      "    \"$B\" that contains the values 5 through 8, type:\n",
      "\n",
      "        $B = 5..8\n",
      "\n",
      "    As a result, $B contains four values: 5, 6, 7, and 8.\n",
      "\n",
      "    When no data type is specified, Windows PowerShell creates each array as\n",
      "    an object array (type: System.Object[]). To determine the data type of an array, \n",
      "    use the GetType() method. For example, to determine the data type of the\n",
      "    $a array, type:\n",
      "\n",
      "        $a.GetType()\n",
      "\n",
      "    To create a strongly typed array, that is, an array that can contain only\n",
      "    values of a particular type, cast the variable as an array type, such \n",
      "    as string[], long[], or int32[]. To cast an array, precede the variable\n",
      "    name with an array type enclosed in brackets. For example, to create a\n",
      "    32-bit integer array named $ia containing four integers (1500, 2230, 3350,\n",
      "    and 4000), type:\n",
      "\n",
      "        [int32[]]$ia = 1500,2230,3350,4000\n",
      "\n",
      "    As a result, the $ia array can contain only integers.\n",
      "\n",
      "    You can create arrays that are cast to any supported type in the\n",
      "    Microsoft .NET Framework. For example, the objects that Get-Process \n",
      "    retrieves to represent processes are of the System.Diagnostics.Process \n",
      "    type. To create a strongly typed array of process objects, enter the \n",
      "    following command:\n",
      "\n",
      "        [Diagnostics.Process[]]$zz = Get-Process\n",
      "\n",
      " THE ARRAY SUB-EXPRESSION OPERATOR\n",
      "    The array sub-expression operator creates an array, even if it \n",
      "    contains zero or one object.\n",
      "\n",
      "    The syntax of the array operator is as follows:\n",
      "        @( ... )\n",
      "\n",
      "    You can use the array operator to create an array of zero or \n",
      "    one object. \n",
      "\n",
      "        PS C:\\>$a = @(\"One\")\n",
      "        PS C:\\>$a.Count\n",
      "        1\n",
      "\n",
      "        PS C:\\>$b = @()\n",
      "        PS C:\\>$b.Count\n",
      "        0\n",
      "\n",
      "    The array operator is particularly useful in scripts when\n",
      "    you are getting objects, but do not know how many objects \n",
      "    you will get. \n",
      "\n",
      "        PS C:\\> $p = @(Get-Process Notepad)\n",
      "\n",
      " \n",
      "    For more information about the array sub-expression operator,\n",
      "    see about_Operators.\n",
      "\n",
      " \n",
      "  READING AN ARRAY\n",
      "    You can refer to an array by using its variable name. To display all \n",
      "    the elements in the array, type the array name. For example:\n",
      "\n",
      "$a\n",
      "\n",
      "    You can refer to the elements in an array by using an index, beginning\n",
      "    at position 0. Enclose the index number in brackets. For example,\n",
      "    to display the first element in the $a array, type:\n",
      "\n",
      "        $a[0]\n",
      "\n",
      "    To display the third element in the $a array, type:\n",
      "\n",
      "        $a[2]\n",
      "\n",
      "    Negative numbers count from the end of the array. For example, \"-1\" \n",
      "    refers to the last element of the array. To display the last three elements\n",
      "    of the array, type:\n",
      "\n",
      "        $a[-3..-1]\n",
      "\n",
      "    However, be cautious when using this notation.\n",
      "\n",
      "        $a[0..-2]\n",
      "\n",
      "    This command does not refer to all the elements of the array, except for \n",
      "    the last one. It refers to the first, last, and second-to-last elements\n",
      "    in the array.\n",
      "   \n",
      "    You can use the range operator to display a subset of all the values in an \n",
      "    array. For example, to display the data elements at index position 1 \n",
      "    through 3, type:\n",
      "\n",
      "        $a[1..3]\n",
      "\n",
      "    You can use the plus operator (+) to combine a range with a list of\n",
      "    elements in an array. For example, to display the elements at index\n",
      "    positions 0, 2, and 4 through 6, type:\n",
      "\n",
      "        $a[0,2+4..6]\n",
      "\n",
      "    To determine how many items are in an array, use the Length property\n",
      "    or its Count alias.\n",
      "\n",
      "        $a.Count\n",
      "\n",
      "\n",
      "    You can also use looping constructs, such as ForEach, For, and While loops,\n",
      "    to refer to the elements in an array. For example, to use a ForEach loop\n",
      "    to display the elements in the $a array, type: \n",
      "\n",
      "        foreach ($element in $a) {$element}\n",
      " \n",
      "    The Foreach loop iterates through the array and returns each value in\n",
      "    the array until reaching the end of the array.\n",
      "\n",
      "    The For loop is useful when you are incrementing counters while examining\n",
      "    the elements in an array. For example, to use a For loop to  return every\n",
      "    other value in an array, type:\n",
      "\n",
      "        for ($i = 0; $i -le ($a.length - 1); $i += 2) {$a[$i]}\n",
      "\n",
      "    You can use a While loop to display the elements in an array until a \n",
      "    defined condition is no longer true. For example, to display the elements\n",
      "    in the $a array while the array index is less than 4, type:\n",
      "\n",
      "        $i=0\n",
      "        while($i -lt 4) {$a[$i]; $i++}\n",
      "\n",
      "\n",
      "\n",
      " GET THE MEMBERS OF AN ARRAY\n",
      "\n",
      "    To get the properties and methods of an array, such as the Length \n",
      "    property and the SetValue method, use the InputObject parameter of the\n",
      "    Get-Member cmdlet. \n",
      "\n",
      "    When you pipe an array to Get-Member, Windows PowerShell sends the items \n",
      "    one at a time and Get-Member returns the type of each item\n",
      "    in the array (ignoring duplicates). \n",
      "\n",
      "    When you use the InputObject parameter, Get-Member returns the\n",
      "    members of the array. \n",
      "\n",
      "    For example, the following command gets the members of the array in the\n",
      "    $a variable.\n",
      "\n",
      "        Get-Member -InputObject $a\n",
      "\n",
      "    You can also get the members of an array by typing a comma (,) before\n",
      "    the value that is piped to the Get-Member cmdlet. The comma makes the \n",
      "    array the second item in an array of arrays. Windows PowerShell pipes\n",
      "    the arrays one at a time and Get-Member returns the members of the array. \n",
      "\n",
      "        ,$a | Get-Member\n",
      "\n",
      "        ,(1,2,3) | Get-Member\n",
      "\n",
      "\n",
      " MANIPULATING AN ARRAY\n",
      "    You can change the elements in an array, add an element to an array, and\n",
      "    combine the values from two arrays into a third array.\n",
      "\n",
      "    To change the value of a particular element in an array, specify the\n",
      "    array name and the index of the element that you want to change, and then\n",
      "    use the assignment operator (=) to specify a new value for the element. For\n",
      "    example, to change the value of the second item in the $a array (index\n",
      "    position 1) to 10, type:\n",
      "\n",
      "        $a[1] = 10\n",
      "\n",
      "    You can also use the SetValue method of an array to change a value. The\n",
      "    following example changes the second value (index position 1) of the $a\n",
      "    array to 500:\n",
      "\n",
      "        $a.SetValue(500,1)\n",
      "\n",
      "    You can use the += operator to add an element to an array. When you use\n",
      "    it, Windows PowerShell actually creates a new array with the values of the\n",
      "    original array and the added value. For example, to add an element with a \n",
      "    value of 200 to the array in the $a variable, type:\n",
      "\n",
      "        $a += 200\n",
      "\n",
      "    It is not easy to delete elements from an array, but you can create a new\n",
      "    array that contains only selected elements of an existing array. For\n",
      "    example, to create the $t array with all the elements in the $a array \n",
      "    except for the value at index position 2, type:\n",
      "\n",
      "        $t = $a[0,1 + 3..($a.length - 1)]\n",
      "\n",
      "    To combine two arrays into a single array, use the plus operator (+). The\n",
      "    following example creates two arrays, combines them, and then displays\n",
      "    the resulting combined array.\n",
      "\n",
      "        $x = 1,3\n",
      "        $y = 5,9\n",
      "        $z = $x + $y\n",
      "\n",
      "    As a result, the $z array contains 1, 3, 5, and 9.\n",
      "\n",
      "\n",
      "    To delete an array, assign a value of $null to the array. The following\n",
      "    command deletes the array in the $a variable. \n",
      "\n",
      "        $a = $null\n",
      "\n",
      "    You can also use the Remove-Item cmdlet, but assigning a value of $null\n",
      "    is faster, especially for large arrays.\n",
      "\n",
      "\n",
      "\n",
      " ARRAYS OF ZERO OR ONE\n",
      "    Beginning in Windows PowerShell 3.0, a collection of zero or one object \n",
      "    has the Count and Length property. Also, you can index into an array of\n",
      "    one object. This feature helps you to avoid scripting errors that occur \n",
      "    when a command that expects a collection gets fewer than two items.\n",
      "\n",
      "    The following examples demonstrate this feature.    \n",
      "    \n",
      "    #Zero objects\n",
      "        $a = $null\n",
      "        $a.Count\n",
      "        0\n",
      "        $a.Length\n",
      "        0\n",
      "\n",
      "    #One object\n",
      "        $a = 4\n",
      "        $a.Count\n",
      "        1\n",
      "        $a.Length\n",
      "        1\n",
      "        $a[0]\n",
      "        4\n",
      "        $a[-1]\n",
      "        4\n",
      "\n",
      "\n",
      "SEE ALSO\n",
      "    about_Assignment_Operators\n",
      "    about_Hash_Tables\n",
      "    about_Operators\n",
      "    about_For\n",
      "    about_Foreach\n",
      "    about_While\n",
      "\n",
      "\n",
      "\n",
      "\n",
      "\n",
      "\n",
      "\n",
      "\n",
      "\n",
      "\n",
      "\n",
      "\n"
     ]
    }
   ],
   "source": [
    "Get-Help about_array"
   ]
  },
  {
   "cell_type": "markdown",
   "metadata": {},
   "source": [
    "## reference"
   ]
  },
  {
   "cell_type": "markdown",
   "metadata": {},
   "source": [
    "- How do I convert an array object to a string in PowerShell?\n",
    "  - https://stackoverflow.com/questions/7723584/how-do-i-convert-an-array-object-to-a-string-in-powershell"
   ]
  },
  {
   "cell_type": "code",
   "execution_count": null,
   "metadata": {},
   "outputs": [],
   "source": []
  }
 ],
 "metadata": {
  "kernelspec": {
   "display_name": "PowerShell",
   "language": "powershell",
   "name": "powershell"
  },
  "language_info": {
   "codemirror_mode": "shell",
   "file_extension": ".ps1",
   "mimetype": "text/x-sh",
   "name": "powershell"
  }
 },
 "nbformat": 4,
 "nbformat_minor": 2
}
