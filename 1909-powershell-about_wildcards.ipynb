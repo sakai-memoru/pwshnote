{
 "cells": [
  {
   "cell_type": "markdown",
   "metadata": {},
   "source": [
    "# 1909-powershell-about_wildcards\n"
   ]
  },
  {
   "cell_type": "markdown",
   "metadata": {},
   "source": [
    "## overview"
   ]
  },
  {
   "cell_type": "markdown",
   "metadata": {},
   "source": [
    "- about_wildcards"
   ]
  },
  {
   "cell_type": "markdown",
   "metadata": {},
   "source": [
    "![Image from Gyazo](https://i.gyazo.com/9c23d8a166aeaa46a042f3b1f33dcf33.png)"
   ]
  },
  {
   "cell_type": "markdown",
   "metadata": {},
   "source": [
    "## jupyter notebook"
   ]
  },
  {
   "cell_type": "markdown",
   "metadata": {},
   "source": [
    "- https://nbviewer.jupyter.org/github/sakai-memoru/pwshnote/blob/master/1909-powershell-about_wildcards.ipynb"
   ]
  },
  {
   "cell_type": "markdown",
   "metadata": {},
   "source": [
    "## Get-Help"
   ]
  },
  {
   "cell_type": "code",
   "execution_count": 9,
   "metadata": {},
   "outputs": [
    {
     "name": "stdout",
     "output_type": "stream",
     "text": [
      "\n",
      "\n",
      "Name     : about_Wildcards\n",
      "Synopsis : Describes how to use wildcard characters in Windows PowerShell.\n",
      "\n",
      "\n",
      "\n"
     ]
    }
   ],
   "source": [
    "Get-Help -Category HelpFile -Name about_wildcards | select Name, Synopsis | fl"
   ]
  },
  {
   "cell_type": "code",
   "execution_count": 10,
   "metadata": {},
   "outputs": [
    {
     "name": "stdout",
     "output_type": "stream",
     "text": []
    }
   ],
   "source": [
    "help about_wildcards | set -Name store"
   ]
  },
  {
   "cell_type": "code",
   "execution_count": 11,
   "metadata": {},
   "outputs": [
    {
     "name": "stdout",
     "output_type": "stream",
     "text": []
    }
   ],
   "source": [
    "$store -split '`r`n' | set -Name ary"
   ]
  },
  {
   "cell_type": "code",
   "execution_count": 12,
   "metadata": {},
   "outputs": [
    {
     "name": "stdout",
     "output_type": "stream",
     "text": [
      "84\n"
     ]
    }
   ],
   "source": [
    "$ary.Length"
   ]
  },
  {
   "cell_type": "code",
   "execution_count": 17,
   "metadata": {},
   "outputs": [
    {
     "name": "stdout",
     "output_type": "stream",
     "text": [
      "TOPIC\n",
      "    about_Wildcards\n",
      "\n",
      "SHORT DESCRIPTION\n",
      "    Describes how to use wildcard characters in Windows PowerShell.\n",
      " \n",
      "\n",
      "LONG DESCRIPTION\n",
      "    Wildcard characters represent one or many characters. You can use them\n",
      "    to create word patterns in commands. For example, to get all the files\n",
      "    in the C:\\Techdocs directory that have a .ppt file name extension, type:\n",
      "\n",
      "        Get-ChildItem c:\\techdocs\\*.ppt\n",
      "\n",
      "    In this case, the asterisk (*) wildcard character represents any characters\n",
      "    that appear before the .ppt file name extension. \n",
      "\n",
      "    Windows PowerShell supports the following wildcard characters.\n",
      "\n",
      "\n",
      "        Wildcard Description        Example  Match             No match\n",
      "        -------- ------------------ -------- ----------------- --------\n",
      "        *        Matches zero or    a*       A, ag, Apple      banana\n",
      "                 more characters\n",
      "\n",
      "        ?        Matches exactly    ?n       an, in, on        ran\n",
      "                 one character in \n",
      "                 the specified \n",
      "                 position\n",
      "\n",
      "        [ ]      Matches a range    [a-l]ook book, cook, look  took\n",
      "                 of characters\n",
      " \n",
      "        [ ]      Matches specified  [bc]ook  book, cook        hook\n",
      "                 characters\n",
      "\n"
     ]
    }
   ],
   "source": [
    "$ary[0..35]"
   ]
  },
  {
   "cell_type": "code",
   "execution_count": 19,
   "metadata": {},
   "outputs": [
    {
     "name": "stdout",
     "output_type": "stream",
     "text": [
      "    You can include multiple wildcard characters in the same word pattern.\n",
      "    For example, to find text files whose names begin with the letters \"a\" \n",
      "    through \"l\", type:\n",
      "\n",
      "         Get-ChildItem c:\\techdocs\\[a-l]*.txt\n",
      "\n",
      "    Many cmdlets accept wildcard characters in parameter values. The \n",
      "    Help topic for each cmdlet describes which parameters, if any, permit \n",
      "    wildcard characters. For parameters in which wildcard characters are \n",
      "    accepted, their use is case-insensitive. \n",
      "   \n",
      "    You can also use wildcard characters in commands and script blocks, such as\n",
      "    to create a word pattern that represents property values. For example, the\n",
      "    following command gets services in which the ServiceType property value\n",
      "    includes \"Interactive\". \n",
      "\n",
      "        Get-Service | Where-Object {$_.ServiceType -like \"*Interactive*\"}\n",
      "\n",
      "\n",
      "    In the following example, wildcard characters are used to find property values\n",
      "    in the conditions of an If statement. In this command, if the Description of a\n",
      "    restore point includes \"PowerShell\", the command adds the value of the CreationTime\n",
      "    property of the restore point to a log file.\n",
      "\n",
      "        $p = Get-ComputerRestorePoint\n",
      "        foreach ($point in $p) \n",
      "          {if ($point.description -like \"*PowerShell*\") \n",
      "              {add-content -path C:\\TechDocs\\RestoreLog.txt \"$($point.CreationTime)\"}}\n",
      "             \n",
      "\n",
      "SEE ALSO\n",
      "    about_Language_Keywords\n",
      "    about_If\n",
      "    about_Script_Blocks\n",
      "\n",
      "\n",
      "\n",
      "\n",
      "\n",
      "\n",
      "\n",
      "\n",
      "\n",
      "\n",
      "\n",
      "\n",
      "\n",
      "\n"
     ]
    }
   ],
   "source": [
    "$ary[36..$ary.Length]"
   ]
  },
  {
   "cell_type": "code",
   "execution_count": 20,
   "metadata": {},
   "outputs": [
    {
     "name": "stdout",
     "output_type": "stream",
     "text": [
      "$i = 0\n",
      "foreach($ar in $ary)\n",
      ">> {\n",
      ">>   if($ar -match 'SEE ALSO')\n",
      ">>   {\n",
      ">>     break\n",
      ">>   }\n",
      ">>   $i++\n",
      ">> }\n",
      ">> # $ary[$i..$ary.Length]\n",
      ">> \n"
     ]
    }
   ],
   "source": [
    "$i = 0\n",
    "foreach($ar in $ary)\n",
    "{\n",
    "  if($ar -match 'SEE ALSO')\n",
    "  {\n",
    "    break\n",
    "  }\n",
    "  $i++\n",
    "}\n",
    "# $ary[$i..$ary.Length]"
   ]
  },
  {
   "cell_type": "code",
   "execution_count": 21,
   "metadata": {},
   "outputs": [
    {
     "name": "stdout",
     "output_type": "stream",
     "text": [
      "$url_base = \"https://nbviewer.jupyter.org/github/sakai-memoru/pwshnote/blob/master/1909-powershell-{{about_item}}.ipynb\"\n",
      "\n",
      "foreach($a in $ary[($i+1)..$ary.Length]){\n",
      ">>   if(-not ($a.Trim() -eq ''))\n",
      ">>   {\n",
      ">>     if($a.Trim().startswith('about_'))\n",
      ">>     {\n",
      ">>       $url_base.Replace('{{about_item}}',$a.Trim())  \n",
      ">>     }\n",
      ">>     else\n",
      ">>     {\n",
      ">>       $a.Trim()\n",
      ">>     }\n",
      ">>   }\n",
      ">> }\n",
      ">> \n",
      "https://nbviewer.jupyter.org/github/sakai-memoru/pwshnote/blob/master/1909-powershell-about_Language_Keywords.ipynb\n",
      "https://nbviewer.jupyter.org/github/sakai-memoru/pwshnote/blob/master/1909-powershell-about_If.ipynb\n",
      "https://nbviewer.jupyter.org/github/sakai-memoru/pwshnote/blob/master/1909-powershell-about_Script_Blocks.ipynb\n"
     ]
    }
   ],
   "source": [
    "$url_base = \"https://nbviewer.jupyter.org/github/sakai-memoru/pwshnote/blob/master/1909-powershell-{{about_item}}.ipynb\"\n",
    "\n",
    "foreach($a in $ary[($i+1)..$ary.Length]){\n",
    "  if(-not ($a.Trim() -eq ''))\n",
    "  {\n",
    "    if($a.Trim().startswith('about_'))\n",
    "    {\n",
    "      $url_base.Replace('{{about_item}}',$a.Trim())  \n",
    "    }\n",
    "    else\n",
    "    {\n",
    "      $a.Trim()\n",
    "    }\n",
    "  }\n",
    "}"
   ]
  },
  {
   "cell_type": "code",
   "execution_count": null,
   "metadata": {},
   "outputs": [],
   "source": []
  }
 ],
 "metadata": {
  "kernelspec": {
   "display_name": "PowerShell",
   "language": "powershell",
   "name": "powershell"
  },
  "language_info": {
   "codemirror_mode": "shell",
   "file_extension": ".ps1",
   "mimetype": "text/x-sh",
   "name": "powershell"
  }
 },
 "nbformat": 4,
 "nbformat_minor": 2
}
