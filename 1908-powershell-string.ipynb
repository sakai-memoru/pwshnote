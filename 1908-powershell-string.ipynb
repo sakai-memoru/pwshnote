{
 "cells": [
  {
   "cell_type": "markdown",
   "metadata": {},
   "source": [
    "# 1908-powershell-string"
   ]
  },
  {
   "cell_type": "code",
   "execution_count": 30,
   "metadata": {},
   "outputs": [
    {
     "name": "stdout",
     "output_type": "stream",
     "text": [
      "get-help : Get-Help could not find about_string_type in a help file in this session. To download updated help topics \n",
      "type: \"Update-Help\". To get help online, search for the help topic in the TechNet library at \n",
      "https:/go.microsoft.com/fwlink/?LinkID=107116.\n",
      "At line:1 char:1\n",
      "+ get-help about_string_type\n",
      "+ ~~~~~~~~~~~~~~~~~~~~~~~~~~\n",
      "    + CategoryInfo          : ResourceUnavailable: (:) [Get-Help], HelpNotFoundException\n",
      "    + FullyQualifiedErrorId : HelpNotFound,Microsoft.PowerShell.Commands.GetHelpCommand\n",
      " \n"
     ]
    }
   ],
   "source": [
    "get-help about_string_type"
   ]
  },
  {
   "cell_type": "code",
   "execution_count": 1,
   "metadata": {},
   "outputs": [
    {
     "name": "stdout",
     "output_type": "stream",
     "text": [
      "abc\n"
     ]
    }
   ],
   "source": [
    "'abc'"
   ]
  },
  {
   "cell_type": "code",
   "execution_count": 2,
   "metadata": {},
   "outputs": [
    {
     "name": "stdout",
     "output_type": "stream",
     "text": []
    }
   ],
   "source": [
    "$str = 'abc'"
   ]
  },
  {
   "cell_type": "code",
   "execution_count": 3,
   "metadata": {},
   "outputs": [
    {
     "name": "stdout",
     "output_type": "stream",
     "text": [
      "\n",
      "IsPublic IsSerial Name                                     BaseType                                                    \n",
      "-------- -------- ----                                     --------                                                    \n",
      "True     True     String                                   System.Object                                               \n",
      "\n",
      "\n"
     ]
    }
   ],
   "source": [
    "$str.GetType()"
   ]
  },
  {
   "cell_type": "code",
   "execution_count": 4,
   "metadata": {},
   "outputs": [
    {
     "name": "stdout",
     "output_type": "stream",
     "text": [
      "\n",
      "\n",
      "   TypeName: System.String\n",
      "\n",
      "Name             MemberType            Definition                                                                      \n",
      "----             ----------            ----------                                                                      \n",
      "Clone            Method                System.Object Clone(), System.Object ICloneable.Clone()                         \n",
      "CompareTo        Method                int CompareTo(System.Object value), int CompareTo(string strB), int IComparab...\n",
      "Contains         Method                bool Contains(string value)                                                     \n",
      "CopyTo           Method                void CopyTo(int sourceIndex, char[] destination, int destinationIndex, int co...\n",
      "EndsWith         Method                bool EndsWith(string value), bool EndsWith(string value, System.StringCompari...\n",
      "Equals           Method                bool Equals(System.Object obj), bool Equals(string value), bool Equals(string...\n",
      "GetEnumerator    Method                System.CharEnumerator GetEnumerator(), System.Collections.IEnumerator IEnumer...\n",
      "GetHashCode      Method                int GetHashCode()                                                               \n",
      "GetType          Method                type GetType()                                                                  \n",
      "GetTypeCode      Method                System.TypeCode GetTypeCode(), System.TypeCode IConvertible.GetTypeCode()       \n",
      "IndexOf          Method                int IndexOf(char value), int IndexOf(char value, int startIndex), int IndexOf...\n",
      "IndexOfAny       Method                int IndexOfAny(char[] anyOf), int IndexOfAny(char[] anyOf, int startIndex), i...\n",
      "Insert           Method                string Insert(int startIndex, string value)                                     \n",
      "IsNormalized     Method                bool IsNormalized(), bool IsNormalized(System.Text.NormalizationForm normaliz...\n",
      "LastIndexOf      Method                int LastIndexOf(char value), int LastIndexOf(char value, int startIndex), int...\n",
      "LastIndexOfAny   Method                int LastIndexOfAny(char[] anyOf), int LastIndexOfAny(char[] anyOf, int startI...\n",
      "Normalize        Method                string Normalize(), string Normalize(System.Text.NormalizationForm normalizat...\n",
      "PadLeft          Method                string PadLeft(int totalWidth), string PadLeft(int totalWidth, char paddingChar)\n",
      "PadRight         Method                string PadRight(int totalWidth), string PadRight(int totalWidth, char padding...\n",
      "Remove           Method                string Remove(int startIndex, int count), string Remove(int startIndex)         \n",
      "Replace          Method                string Replace(char oldChar, char newChar), string Replace(string oldValue, s...\n",
      "Split            Method                string[] Split(Params char[] separator), string[] Split(char[] separator, int...\n",
      "StartsWith       Method                bool StartsWith(string value), bool StartsWith(string value, System.StringCom...\n",
      "Substring        Method                string Substring(int startIndex), string Substring(int startIndex, int length)  \n",
      "ToBoolean        Method                bool IConvertible.ToBoolean(System.IFormatProvider provider)                    \n",
      "ToByte           Method                byte IConvertible.ToByte(System.IFormatProvider provider)                       \n",
      "ToChar           Method                char IConvertible.ToChar(System.IFormatProvider provider)                       \n",
      "ToCharArray      Method                char[] ToCharArray(), char[] ToCharArray(int startIndex, int length)            \n",
      "ToDateTime       Method                datetime IConvertible.ToDateTime(System.IFormatProvider provider)               \n",
      "ToDecimal        Method                decimal IConvertible.ToDecimal(System.IFormatProvider provider)                 \n",
      "ToDouble         Method                double IConvertible.ToDouble(System.IFormatProvider provider)                   \n",
      "ToInt16          Method                int16 IConvertible.ToInt16(System.IFormatProvider provider)                     \n",
      "ToInt32          Method                int IConvertible.ToInt32(System.IFormatProvider provider)                       \n",
      "ToInt64          Method                long IConvertible.ToInt64(System.IFormatProvider provider)                      \n",
      "ToLower          Method                string ToLower(), string ToLower(cultureinfo culture)                           \n",
      "ToLowerInvariant Method                string ToLowerInvariant()                                                       \n",
      "ToSByte          Method                sbyte IConvertible.ToSByte(System.IFormatProvider provider)                     \n",
      "ToSingle         Method                float IConvertible.ToSingle(System.IFormatProvider provider)                    \n",
      "ToString         Method                string ToString(), string ToString(System.IFormatProvider provider), string I...\n",
      "ToType           Method                System.Object IConvertible.ToType(type conversionType, System.IFormatProvider...\n",
      "ToUInt16         Method                uint16 IConvertible.ToUInt16(System.IFormatProvider provider)                   \n",
      "ToUInt32         Method                uint32 IConvertible.ToUInt32(System.IFormatProvider provider)                   \n",
      "ToUInt64         Method                uint64 IConvertible.ToUInt64(System.IFormatProvider provider)                   \n",
      "ToUpper          Method                string ToUpper(), string ToUpper(cultureinfo culture)                           \n",
      "ToUpperInvariant Method                string ToUpperInvariant()                                                       \n",
      "Trim             Method                string Trim(Params char[] trimChars), string Trim()                             \n",
      "TrimEnd          Method                string TrimEnd(Params char[] trimChars)                                         \n",
      "TrimStart        Method                string TrimStart(Params char[] trimChars)                                       \n",
      "Chars            ParameterizedProperty char Chars(int index) {get;}                                                    \n",
      "Length           Property              int Length {get;}                                                               \n",
      "\n",
      "\n"
     ]
    }
   ],
   "source": [
    "$str | Get-Member "
   ]
  },
  {
   "cell_type": "code",
   "execution_count": 5,
   "metadata": {},
   "outputs": [
    {
     "name": "stdout",
     "output_type": "stream",
     "text": [
      "$str | Get-Member -MemberType Method | format-table MemberType, Name -autosize\n",
      "\n",
      "MemberType Name            \n",
      "---------- ----            \n",
      "    Method Clone           \n",
      "    Method CompareTo       \n",
      "    Method Contains        \n",
      "    Method CopyTo          \n",
      "    Method EndsWith        \n",
      "    Method Equals          \n",
      "    Method GetEnumerator   \n",
      "    Method GetHashCode     \n",
      "    Method GetType         \n",
      "    Method GetTypeCode     \n",
      "    Method IndexOf         \n",
      "    Method IndexOfAny      \n",
      "    Method Insert          \n",
      "    Method IsNormalized    \n",
      "    Method LastIndexOf     \n",
      "    Method LastIndexOfAny  \n",
      "    Method Normalize       \n",
      "    Method PadLeft         \n",
      "    Method PadRight        \n",
      "    Method Remove          \n",
      "    Method Replace         \n",
      "    Method Split           \n",
      "    Method StartsWith      \n",
      "    Method Substring       \n",
      "    Method ToBoolean       \n",
      "    Method ToByte          \n",
      "    Method ToChar          \n",
      "    Method ToCharArray     \n",
      "    Method ToDateTime      \n",
      "    Method ToDecimal       \n",
      "    Method ToDouble        \n",
      "    Method ToInt16         \n",
      "    Method ToInt32         \n",
      "    Method ToInt64         \n",
      "    Method ToLower         \n",
      "    Method ToLowerInvariant\n",
      "    Method ToSByte         \n",
      "    Method ToSingle        \n",
      "    Method ToString        \n",
      "    Method ToType          \n",
      "    Method ToUInt16        \n",
      "    Method ToUInt32        \n",
      "    Method ToUInt64        \n",
      "    Method ToUpper         \n",
      "    Method ToUpperInvariant\n",
      "    Method Trim            \n",
      "    Method TrimEnd         \n",
      "    Method TrimStart       \n",
      "\n",
      "\n",
      "\n",
      "\n"
     ]
    }
   ],
   "source": [
    "$str | Get-Member -MemberType Method | format-table MemberType, Name -autosize\n"
   ]
  },
  {
   "cell_type": "code",
   "execution_count": 6,
   "metadata": {},
   "outputs": [
    {
     "name": "stdout",
     "output_type": "stream",
     "text": [
      "a\n",
      "b\n",
      "c\n"
     ]
    }
   ],
   "source": [
    "$str.GetEnumerator()"
   ]
  },
  {
   "cell_type": "code",
   "execution_count": 7,
   "metadata": {},
   "outputs": [
    {
     "name": "stdout",
     "output_type": "stream",
     "text": [
      "\n",
      "\n",
      "   TypeName: System.String\n",
      "\n",
      "Name   MemberType Definition       \n",
      "----   ---------- ----------       \n",
      "Length Property   int Length {get;}\n",
      "\n",
      "\n"
     ]
    }
   ],
   "source": [
    "$str | Get-Member -MemberType Property"
   ]
  },
  {
   "cell_type": "code",
   "execution_count": 8,
   "metadata": {},
   "outputs": [
    {
     "name": "stdout",
     "output_type": "stream",
     "text": [
      "str.Length = 3\n"
     ]
    }
   ],
   "source": [
    "\"str.Length = \" +  $str.Length"
   ]
  },
  {
   "cell_type": "code",
   "execution_count": 9,
   "metadata": {},
   "outputs": [
    {
     "name": "stdout",
     "output_type": "stream",
     "text": [
      "false\n"
     ]
    }
   ],
   "source": [
    "if(''){echo 'true'}else{echo 'false'}"
   ]
  },
  {
   "cell_type": "code",
   "execution_count": 10,
   "metadata": {},
   "outputs": [
    {
     "name": "stdout",
     "output_type": "stream",
     "text": [
      "true\n"
     ]
    }
   ],
   "source": [
    "if($str){echo 'true'}else{echo 'false'}"
   ]
  },
  {
   "cell_type": "code",
   "execution_count": 11,
   "metadata": {},
   "outputs": [
    {
     "name": "stdout",
     "output_type": "stream",
     "text": [
      "true\n",
      "abc\n"
     ]
    }
   ],
   "source": [
    "if($str.StartsWith('ab')){echo 'true';$str}else{echo 'false'}"
   ]
  },
  {
   "cell_type": "code",
   "execution_count": 12,
   "metadata": {},
   "outputs": [
    {
     "name": "stdout",
     "output_type": "stream",
     "text": [
      "false\n"
     ]
    }
   ],
   "source": [
    "if($str.StartsWith('b')){echo 'true';$str}else{echo 'false'}"
   ]
  },
  {
   "cell_type": "code",
   "execution_count": 13,
   "metadata": {},
   "outputs": [
    {
     "name": "stdout",
     "output_type": "stream",
     "text": [
      "true\n",
      "abc\n"
     ]
    }
   ],
   "source": [
    "if($str -match 'b'){echo 'true';$str}else{echo 'false'}"
   ]
  },
  {
   "cell_type": "code",
   "execution_count": 14,
   "metadata": {},
   "outputs": [
    {
     "name": "stdout",
     "output_type": "stream",
     "text": [
      "false\n"
     ]
    }
   ],
   "source": [
    "if($str -match 'z'){echo 'true';$str}else{echo 'false'}"
   ]
  },
  {
   "cell_type": "code",
   "execution_count": 15,
   "metadata": {},
   "outputs": [
    {
     "name": "stdout",
     "output_type": "stream",
     "text": [
      "\n",
      "Name             Definition                                           \n",
      "----             ----------                                           \n",
      "ToUpper          string ToUpper(), string ToUpper(cultureinfo culture)\n",
      "ToUpperInvariant string ToUpperInvariant()                            \n",
      "\n",
      "\n"
     ]
    }
   ],
   "source": [
    "'' | get-member | where {$_.Name -match 'ToUpper'} | select-object Name, Definition"
   ]
  },
  {
   "cell_type": "code",
   "execution_count": 16,
   "metadata": {},
   "outputs": [
    {
     "name": "stdout",
     "output_type": "stream",
     "text": [
      "\n",
      "\n",
      "Name       : ToUpper\n",
      "Definition : string ToUpper(), string ToUpper(cultureinfo culture)\n",
      "\n",
      "\n",
      "\n"
     ]
    }
   ],
   "source": [
    "'' | get-member | where {$_.Name -eq 'ToUpper'} | select-object Name, Definition | format-list"
   ]
  },
  {
   "cell_type": "code",
   "execution_count": 17,
   "metadata": {},
   "outputs": [
    {
     "name": "stdout",
     "output_type": "stream",
     "text": [
      "ABC\n"
     ]
    }
   ],
   "source": [
    "'abc'.ToUpper()"
   ]
  },
  {
   "cell_type": "code",
   "execution_count": 18,
   "metadata": {},
   "outputs": [
    {
     "name": "stdout",
     "output_type": "stream",
     "text": []
    }
   ],
   "source": [
    "$str = 'abcdef'"
   ]
  },
  {
   "cell_type": "code",
   "execution_count": 19,
   "metadata": {},
   "outputs": [
    {
     "name": "stdout",
     "output_type": "stream",
     "text": [
      "\n",
      "IsPublic IsSerial Name                                     BaseType                                                    \n",
      "-------- -------- ----                                     --------                                                    \n",
      "True     True     Char                                     System.ValueType                                            \n",
      "\n",
      "\n"
     ]
    }
   ],
   "source": [
    "$str[0].GetType()"
   ]
  },
  {
   "cell_type": "code",
   "execution_count": 20,
   "metadata": {},
   "outputs": [
    {
     "name": "stdout",
     "output_type": "stream",
     "text": [
      "A\n"
     ]
    }
   ],
   "source": [
    "$str[0].ToString().ToUpper()"
   ]
  },
  {
   "cell_type": "code",
   "execution_count": 21,
   "metadata": {},
   "outputs": [
    {
     "name": "stdout",
     "output_type": "stream",
     "text": [
      "bcdef\n"
     ]
    }
   ],
   "source": [
    "$str[1..($str.length - 1)] -join ''"
   ]
  },
  {
   "cell_type": "code",
   "execution_count": 22,
   "metadata": {},
   "outputs": [
    {
     "name": "stdout",
     "output_type": "stream",
     "text": [
      "bcdef\n"
     ]
    }
   ],
   "source": [
    "$str.Substring(1,($str.length - 1))"
   ]
  },
  {
   "cell_type": "code",
   "execution_count": 23,
   "metadata": {},
   "outputs": [
    {
     "name": "stdout",
     "output_type": "stream",
     "text": [
      "A\n"
     ]
    }
   ],
   "source": [
    "$str.Substring(0,1).ToUpper()"
   ]
  },
  {
   "cell_type": "code",
   "execution_count": 24,
   "metadata": {},
   "outputs": [
    {
     "name": "stdout",
     "output_type": "stream",
     "text": []
    }
   ],
   "source": [
    "function camelize-string($str)\n",
    "{\n",
    "  $rtn = $str.Substring(0,1).ToUpper() + $str.Substring(1,($str.length - 1))\n",
    "  ## return\n",
    "  $rtn\n",
    "}"
   ]
  },
  {
   "cell_type": "code",
   "execution_count": 25,
   "metadata": {},
   "outputs": [
    {
     "name": "stdout",
     "output_type": "stream",
     "text": [
      "Abcdef\n"
     ]
    }
   ],
   "source": [
    "camelize-string $str"
   ]
  },
  {
   "cell_type": "code",
   "execution_count": 26,
   "metadata": {},
   "outputs": [
    {
     "name": "stdout",
     "output_type": "stream",
     "text": [
      "$ary = 'jupyter notebook with powershell' -split ' '\n",
      "$ary\n",
      "jupyter\n",
      "notebook\n",
      "with\n",
      "powershell\n",
      "\n"
     ]
    }
   ],
   "source": [
    "$ary = 'jupyter notebook with powershell' -split ' '\n",
    "$ary"
   ]
  },
  {
   "cell_type": "markdown",
   "metadata": {},
   "source": [
    "- [ ] *FIXME* define a function for the usage of pipeline on powershell"
   ]
  },
  {
   "cell_type": "code",
   "execution_count": null,
   "metadata": {},
   "outputs": [],
   "source": []
  }
 ],
 "metadata": {
  "kernelspec": {
   "display_name": "PowerShell",
   "language": "powershell",
   "name": "powershell"
  },
  "language_info": {
   "codemirror_mode": "shell",
   "file_extension": ".ps1",
   "mimetype": "text/x-sh",
   "name": "powershell"
  }
 },
 "nbformat": 4,
 "nbformat_minor": 2
}
