{
 "cells": [
  {
   "cell_type": "markdown",
   "metadata": {},
   "source": [
    "# 1911-discovery-of-powershell"
   ]
  },
  {
   "cell_type": "markdown",
   "metadata": {},
   "source": [
    "## overview"
   ]
  },
  {
   "cell_type": "markdown",
   "metadata": {},
   "source": [
    "Powershellは、CUIであるため、GUIに比べ、操作を直感的に把握できないという課題がある。\n",
    "LinuxのBashなどの他のCUIでは、manコマンドなどで、CUIでのコマンドの使い方をガイドしている。\n",
    "\n",
    "Powershellも、そのようなGuideを提供している。そのコマンドベースのガイド提供の仕組みを、<span style=\"background-color:#FFFFCC;\">**Discovery**</span>と呼んでいる。\n",
    "\n",
    "このDiscoveryの機能を、覚えておくと、スムーズに対象のコマンドやオブジェクトを使えるようになる。\n",
    "\n",
    "以下、Powershellの<span style=\"background-color:#FFFFCC;\">**Discovery機能**</span>として提供されているコマンドについて、書く。"
   ]
  },
  {
   "cell_type": "markdown",
   "metadata": {},
   "source": [
    "◆対象コマンド\n",
    "\n",
    "- `Get-Command (gcm)`\n",
    "- `Show-Command (shcm)`\n",
    "- `Get-Alias (gal)`\n",
    "- \n",
    "- `$obj.GetType()`\n",
    "- `$obj | Get-Member (gm)`\n",
    "- `$obj | Format-List (fl)`\n"
   ]
  },
  {
   "cell_type": "markdown",
   "metadata": {},
   "source": [
    "## コマンド（Cmdlet）についての基本"
   ]
  },
  {
   "cell_type": "markdown",
   "metadata": {},
   "source": [
    "Powershellでは、利用者が使うコマンドに統一性を確保している。Powershellが提供するコマンドを、Cmdletと呼ぶ。\n",
    "コマンドの命名は、以下の規則による。\n",
    "\n",
    "- Verb + Noun （動詞＋名詞）\n",
    "  + Get-Date\n",
    "  + Out-String  \n",
    "  etc\n"
   ]
  },
  {
   "cell_type": "code",
   "execution_count": 1,
   "metadata": {},
   "outputs": [
    {
     "name": "stdout",
     "output_type": "stream",
     "text": []
    }
   ],
   "source": [
    "$now = Get-Date"
   ]
  },
  {
   "cell_type": "markdown",
   "metadata": {},
   "source": [
    "## Discovery of Cmdlet"
   ]
  },
  {
   "cell_type": "code",
   "execution_count": 2,
   "metadata": {},
   "outputs": [
    {
     "name": "stdout",
     "output_type": "stream",
     "text": [
      "\n",
      "CommandType     Name                                               Version    Source                                   \n",
      "-----------     ----                                               -------    ------                                   \n",
      "Cmdlet          Get-Date                                           3.1.0.0    Microsoft.PowerShell.Utility             \n",
      "Cmdlet          Set-Date                                           3.1.0.0    Microsoft.PowerShell.Utility             \n",
      "\n",
      "\n"
     ]
    }
   ],
   "source": [
    "Get-Command -Noun Date"
   ]
  },
  {
   "cell_type": "code",
   "execution_count": 3,
   "metadata": {},
   "outputs": [
    {
     "name": "stdout",
     "output_type": "stream",
     "text": [
      "\n",
      "NAME\n",
      "    Get-Date\n",
      "    \n",
      "SYNOPSIS\n",
      "    Gets the current date and time.\n",
      "    \n",
      "    \n",
      "SYNTAX\n",
      "    Get-Date [[-Date] <DateTime>] [-Day <Int32>] [-DisplayHint {Date | Time | DateTime}] [-Format <String>] [-Hour \n",
      "    <Int32>] [-Millisecond <Int32>] [-Minute <Int32>] [-Month <Int32>] [-Second <Int32>] [-Year <Int32>] \n",
      "    [<CommonParameters>]\n",
      "    \n",
      "    Get-Date [[-Date] <DateTime>] [-Day <Int32>] [-DisplayHint {Date | Time | DateTime}] [-Hour <Int32>] [-Millisecond \n",
      "    <Int32>] [-Minute <Int32>] [-Month <Int32>] [-Second <Int32>] [-UFormat <String>] [-Year <Int32>] \n",
      "    [<CommonParameters>]\n",
      "    \n",
      "    \n",
      "DESCRIPTION\n",
      "    The Get-Date cmdlet gets a DateTime object that represents the current date or a date that you specify. It can \n",
      "    format the date and time in several Windows and UNIX formats. You can use Get-Date to generate a date or time \n",
      "    character string, and then send the string to other cmdlets or programs.\n",
      "    \n",
      "\n",
      "RELATED LINKS\n",
      "    Online Version: http://go.microsoft.com/fwlink/?LinkId=821781\n",
      "    New-TimeSpan \n",
      "    Set-Date \n",
      "\n",
      "REMARKS\n",
      "    To see the examples, type: \"get-help Get-Date -examples\".\n",
      "    For more information, type: \"get-help Get-Date -detailed\".\n",
      "    For technical information, type: \"get-help Get-Date -full\".\n",
      "    For online help, type: \"get-help Get-Date -online\"\n",
      "\n",
      "\n"
     ]
    }
   ],
   "source": [
    "Get-Help Get-Date"
   ]
  },
  {
   "cell_type": "code",
   "execution_count": 4,
   "metadata": {},
   "outputs": [
    {
     "name": "stdout",
     "output_type": "stream",
     "text": []
    }
   ],
   "source": [
    "Show-Command Get-Date"
   ]
  },
  {
   "cell_type": "markdown",
   "metadata": {},
   "source": [
    "[![Image from Gyazo](https://i.gyazo.com/b9a1810baa814427f98bac0c18fbf215.png)](https://gyazo.com/b9a1810baa814427f98bac0c18fbf215)"
   ]
  },
  {
   "cell_type": "markdown",
   "metadata": {},
   "source": [
    "## Discovery of Object Member"
   ]
  },
  {
   "cell_type": "markdown",
   "metadata": {},
   "source": [
    "### GetType()"
   ]
  },
  {
   "cell_type": "code",
   "execution_count": 5,
   "metadata": {},
   "outputs": [
    {
     "name": "stdout",
     "output_type": "stream",
     "text": [
      "System.DateTime\n"
     ]
    }
   ],
   "source": [
    "$now.GetType().FullName"
   ]
  },
  {
   "cell_type": "code",
   "execution_count": 6,
   "metadata": {},
   "outputs": [
    {
     "name": "stdout",
     "output_type": "stream",
     "text": [
      "\n",
      "\n",
      "Module                     : CommonLanguageRuntimeLibrary\n",
      "Assembly                   : mscorlib, Version=4.0.0.0, Culture=neutral, PublicKeyToken=b77a5c561934e089\n",
      "TypeHandle                 : System.RuntimeTypeHandle\n",
      "DeclaringMethod            : \n",
      "BaseType                   : System.ValueType\n",
      "UnderlyingSystemType       : System.DateTime\n",
      "FullName                   : System.DateTime\n",
      "AssemblyQualifiedName      : System.DateTime, mscorlib, Version=4.0.0.0, Culture=neutral, \n",
      "                             PublicKeyToken=b77a5c561934e089\n",
      "Namespace                  : System\n",
      "GUID                       : c48bfdf5-a271-384b-bf13-bd21d931c1bf\n",
      "IsEnum                     : False\n",
      "GenericParameterAttributes : \n",
      "IsSecurityCritical         : False\n",
      "IsSecuritySafeCritical     : False\n",
      "IsSecurityTransparent      : True\n",
      "IsGenericTypeDefinition    : False\n",
      "IsGenericParameter         : False\n",
      "GenericParameterPosition   : \n",
      "IsGenericType              : False\n",
      "IsConstructedGenericType   : False\n",
      "ContainsGenericParameters  : False\n",
      "StructLayoutAttribute      : System.Runtime.InteropServices.StructLayoutAttribute\n",
      "Name                       : DateTime\n",
      "MemberType                 : TypeInfo\n",
      "DeclaringType              : \n",
      "ReflectedType              : \n",
      "MetadataToken              : 33554557\n",
      "GenericTypeParameters      : {}\n",
      "DeclaredConstructors       : {Void .ctor(Int64), Void .ctor(UInt64), Void .ctor(Int64, System.DateTimeKind), Void \n",
      "                             .ctor(Int64, System.DateTimeKind, Boolean)...}\n",
      "DeclaredEvents             : {}\n",
      "DeclaredFields             : {dateData, s_isLeapSecondsSupportedSystem, DaysToMonth365, DaysToMonth366...}\n",
      "DeclaredMembers            : {Int64 get_InternalTicks(), UInt64 get_InternalKind(), System.DateTime get_Date(), Int32 \n",
      "                             get_Day()...}\n",
      "DeclaredMethods            : {Int64 get_InternalTicks(), UInt64 get_InternalKind(), System.DateTime get_Date(), Int32 \n",
      "                             get_Day()...}\n",
      "DeclaredNestedTypes        : {System.DateTime+FullSystemTime}\n",
      "DeclaredProperties         : {Int64 InternalTicks, UInt64 InternalKind, System.DateTime Date, Int32 Day...}\n",
      "ImplementedInterfaces      : {System.IComparable, System.IFormattable, System.IConvertible, \n",
      "                             System.Runtime.Serialization.ISerializable...}\n",
      "TypeInitializer            : Void .cctor()\n",
      "IsNested                   : False\n",
      "Attributes                 : AutoLayout, AnsiClass, Class, Public, Sealed, Serializable, BeforeFieldInit\n",
      "IsVisible                  : True\n",
      "IsNotPublic                : False\n",
      "IsPublic                   : True\n",
      "IsNestedPublic             : False\n",
      "IsNestedPrivate            : False\n",
      "IsNestedFamily             : False\n",
      "IsNestedAssembly           : False\n",
      "IsNestedFamANDAssem        : False\n",
      "IsNestedFamORAssem         : False\n",
      "IsAutoLayout               : True\n",
      "IsLayoutSequential         : False\n",
      "IsExplicitLayout           : False\n",
      "IsClass                    : False\n",
      "IsInterface                : False\n",
      "IsValueType                : True\n",
      "IsAbstract                 : False\n",
      "IsSealed                   : True\n",
      "IsSpecialName              : False\n",
      "IsImport                   : False\n",
      "IsSerializable             : True\n",
      "IsAnsiClass                : True\n",
      "IsUnicodeClass             : False\n",
      "IsAutoClass                : False\n",
      "IsArray                    : False\n",
      "IsByRef                    : False\n",
      "IsPointer                  : False\n",
      "IsPrimitive                : False\n",
      "IsCOMObject                : False\n",
      "HasElementType             : False\n",
      "IsContextful               : False\n",
      "IsMarshalByRef             : False\n",
      "GenericTypeArguments       : {}\n",
      "CustomAttributes           : {[System.SerializableAttribute()], [__DynamicallyInvokableAttribute()]}\n",
      "\n",
      "\n",
      "\n"
     ]
    }
   ],
   "source": [
    "$now.GetType() | fl *"
   ]
  },
  {
   "cell_type": "markdown",
   "metadata": {},
   "source": [
    "### Get-Member"
   ]
  },
  {
   "cell_type": "code",
   "execution_count": 7,
   "metadata": {},
   "outputs": [
    {
     "name": "stdout",
     "output_type": "stream",
     "text": [
      "\n",
      "\n",
      "   TypeName: System.DateTime\n",
      "\n",
      "Name                 MemberType Definition                                                                             \n",
      "----                 ---------- ----------                                                                             \n",
      "Add                  Method     datetime Add(timespan value)                                                           \n",
      "AddDays              Method     datetime AddDays(double value)                                                         \n",
      "AddHours             Method     datetime AddHours(double value)                                                        \n",
      "AddMilliseconds      Method     datetime AddMilliseconds(double value)                                                 \n",
      "AddMinutes           Method     datetime AddMinutes(double value)                                                      \n",
      "AddMonths            Method     datetime AddMonths(int months)                                                         \n",
      "AddSeconds           Method     datetime AddSeconds(double value)                                                      \n",
      "AddTicks             Method     datetime AddTicks(long value)                                                          \n",
      "AddYears             Method     datetime AddYears(int value)                                                           \n",
      "CompareTo            Method     int CompareTo(System.Object value), int CompareTo(datetime value), int IComparable.C...\n",
      "Equals               Method     bool Equals(System.Object value), bool Equals(datetime value), bool IEquatable[datet...\n",
      "GetDateTimeFormats   Method     string[] GetDateTimeFormats(), string[] GetDateTimeFormats(System.IFormatProvider pr...\n",
      "GetHashCode          Method     int GetHashCode()                                                                      \n",
      "GetObjectData        Method     void ISerializable.GetObjectData(System.Runtime.Serialization.SerializationInfo info...\n",
      "GetType              Method     type GetType()                                                                         \n",
      "GetTypeCode          Method     System.TypeCode GetTypeCode(), System.TypeCode IConvertible.GetTypeCode()              \n",
      "IsDaylightSavingTime Method     bool IsDaylightSavingTime()                                                            \n",
      "Subtract             Method     timespan Subtract(datetime value), datetime Subtract(timespan value)                   \n",
      "ToBinary             Method     long ToBinary()                                                                        \n",
      "ToBoolean            Method     bool IConvertible.ToBoolean(System.IFormatProvider provider)                           \n",
      "ToByte               Method     byte IConvertible.ToByte(System.IFormatProvider provider)                              \n",
      "ToChar               Method     char IConvertible.ToChar(System.IFormatProvider provider)                              \n",
      "ToDateTime           Method     datetime IConvertible.ToDateTime(System.IFormatProvider provider)                      \n",
      "ToDecimal            Method     decimal IConvertible.ToDecimal(System.IFormatProvider provider)                        \n",
      "ToDouble             Method     double IConvertible.ToDouble(System.IFormatProvider provider)                          \n",
      "ToFileTime           Method     long ToFileTime()                                                                      \n",
      "ToFileTimeUtc        Method     long ToFileTimeUtc()                                                                   \n",
      "ToInt16              Method     int16 IConvertible.ToInt16(System.IFormatProvider provider)                            \n",
      "ToInt32              Method     int IConvertible.ToInt32(System.IFormatProvider provider)                              \n",
      "ToInt64              Method     long IConvertible.ToInt64(System.IFormatProvider provider)                             \n",
      "ToLocalTime          Method     datetime ToLocalTime()                                                                 \n",
      "ToLongDateString     Method     string ToLongDateString()                                                              \n",
      "ToLongTimeString     Method     string ToLongTimeString()                                                              \n",
      "ToOADate             Method     double ToOADate()                                                                      \n",
      "ToSByte              Method     sbyte IConvertible.ToSByte(System.IFormatProvider provider)                            \n",
      "ToShortDateString    Method     string ToShortDateString()                                                             \n",
      "ToShortTimeString    Method     string ToShortTimeString()                                                             \n",
      "ToSingle             Method     float IConvertible.ToSingle(System.IFormatProvider provider)                           \n",
      "ToString             Method     string ToString(), string ToString(string format), string ToString(System.IFormatPro...\n",
      "ToType               Method     System.Object IConvertible.ToType(type conversionType, System.IFormatProvider provider)\n",
      "ToUInt16             Method     uint16 IConvertible.ToUInt16(System.IFormatProvider provider)                          \n",
      "ToUInt32             Method     uint32 IConvertible.ToUInt32(System.IFormatProvider provider)                          \n",
      "ToUInt64             Method     uint64 IConvertible.ToUInt64(System.IFormatProvider provider)                          \n",
      "ToUniversalTime      Method     datetime ToUniversalTime()                                                             \n",
      "\n",
      "\n"
     ]
    }
   ],
   "source": [
    "$now | Get-Member -MemberType Method"
   ]
  },
  {
   "cell_type": "code",
   "execution_count": 8,
   "metadata": {},
   "outputs": [
    {
     "name": "stdout",
     "output_type": "stream",
     "text": [
      "\n",
      "\n",
      "   TypeName: System.DateTime\n",
      "\n",
      "Name        MemberType Definition                       \n",
      "----        ---------- ----------                       \n",
      "Date        Property   datetime Date {get;}             \n",
      "Day         Property   int Day {get;}                   \n",
      "DayOfWeek   Property   System.DayOfWeek DayOfWeek {get;}\n",
      "DayOfYear   Property   int DayOfYear {get;}             \n",
      "Hour        Property   int Hour {get;}                  \n",
      "Kind        Property   System.DateTimeKind Kind {get;}  \n",
      "Millisecond Property   int Millisecond {get;}           \n",
      "Minute      Property   int Minute {get;}                \n",
      "Month       Property   int Month {get;}                 \n",
      "Second      Property   int Second {get;}                \n",
      "Ticks       Property   long Ticks {get;}                \n",
      "TimeOfDay   Property   timespan TimeOfDay {get;}        \n",
      "Year        Property   int Year {get;}                  \n",
      "\n",
      "\n"
     ]
    }
   ],
   "source": [
    "$now | Get-Member -MemberType Property"
   ]
  },
  {
   "cell_type": "code",
   "execution_count": 9,
   "metadata": {},
   "outputs": [
    {
     "name": "stdout",
     "output_type": "stream",
     "text": [
      "\n",
      "\n",
      "DisplayHint : DateTime\n",
      "DateTime    : 02 November 2019 20:22:52\n",
      "Date        : 02/11/2019 00:00:00\n",
      "Day         : 2\n",
      "DayOfWeek   : Saturday\n",
      "DayOfYear   : 306\n",
      "Hour        : 20\n",
      "Kind        : Local\n",
      "Millisecond : 376\n",
      "Minute      : 22\n",
      "Month       : 11\n",
      "Second      : 52\n",
      "Ticks       : 637083229723766991\n",
      "TimeOfDay   : 20:22:52.3766991\n",
      "Year        : 2019\n",
      "\n",
      "\n",
      "\n"
     ]
    }
   ],
   "source": [
    "$now | format-list *"
   ]
  },
  {
   "cell_type": "code",
   "execution_count": null,
   "metadata": {},
   "outputs": [],
   "source": []
  }
 ],
 "metadata": {
  "kernelspec": {
   "display_name": "PowerShell",
   "language": "powershell",
   "name": "powershell"
  },
  "language_info": {
   "codemirror_mode": "shell",
   "file_extension": ".ps1",
   "mimetype": "text/x-sh",
   "name": "powershell"
  }
 },
 "nbformat": 4,
 "nbformat_minor": 2
}
