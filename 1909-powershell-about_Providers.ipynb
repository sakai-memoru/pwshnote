{
 "cells": [
  {
   "cell_type": "markdown",
   "metadata": {},
   "source": [
    "# 1909-powershell-about_Providers"
   ]
  },
  {
   "cell_type": "markdown",
   "metadata": {},
   "source": [
    "## overview"
   ]
  },
  {
   "cell_type": "markdown",
   "metadata": {},
   "source": [
    "- about_Providers"
   ]
  },
  {
   "cell_type": "markdown",
   "metadata": {},
   "source": [
    "![Image from Gyazo](https://i.gyazo.com/9c23d8a166aeaa46a042f3b1f33dcf33.png)"
   ]
  },
  {
   "cell_type": "markdown",
   "metadata": {},
   "source": [
    "## jupyter notebook"
   ]
  },
  {
   "cell_type": "markdown",
   "metadata": {},
   "source": [
    "- https://nbviewer.jupyter.org/github/sakai-memoru/pwshnote/blob/master/1909-powershell-about_Providers.ipynb"
   ]
  },
  {
   "cell_type": "markdown",
   "metadata": {},
   "source": [
    "## Usage"
   ]
  },
  {
   "cell_type": "markdown",
   "metadata": {},
   "source": [
    "### Get-Help"
   ]
  },
  {
   "cell_type": "code",
   "execution_count": 2,
   "metadata": {},
   "outputs": [
    {
     "name": "stdout",
     "output_type": "stream",
     "text": [
      "\n",
      "\n",
      "Name     : about_Providers\n",
      "Synopsis : Describes how Windows PowerShell providers provide access to data and\n",
      "\n",
      "\n",
      "\n"
     ]
    }
   ],
   "source": [
    "Get-Help -Category helpfile about_Provider | select Name, Synopsis | format-list *"
   ]
  },
  {
   "cell_type": "code",
   "execution_count": 4,
   "metadata": {},
   "outputs": [
    {
     "name": "stdout",
     "output_type": "stream",
     "text": [
      "Get-Help : The online version of this Help topic cannot be displayed because the Internet address (URI) of the Help \n",
      "topic is not specified in the command code or in the help file for the command.\n",
      "At line:1 char:1\n",
      "+ Get-Help about_Providers -online\n",
      "+ ~~~~~~~~~~~~~~~~~~~~~~~~~~~~~~~~\n",
      "    + CategoryInfo          : InvalidOperation: (:) [Get-Help], PSInvalidOperationException\n",
      "    + FullyQualifiedErrorId : InvalidOperation,Microsoft.PowerShell.Commands.GetHelpCommand\n",
      " \n"
     ]
    }
   ],
   "source": [
    "Get-Help about_Providers -online"
   ]
  },
  {
   "cell_type": "markdown",
   "metadata": {},
   "source": [
    "### about_Comment_Based_Help"
   ]
  },
  {
   "cell_type": "code",
   "execution_count": 6,
   "metadata": {},
   "outputs": [
    {
     "name": "stdout",
     "output_type": "stream",
     "text": []
    }
   ],
   "source": [
    "Get-Help about_Providers | \n",
    "  set -Name store"
   ]
  },
  {
   "cell_type": "code",
   "execution_count": 8,
   "metadata": {},
   "outputs": [
    {
     "name": "stdout",
     "output_type": "stream",
     "text": [
      "System.String\n"
     ]
    }
   ],
   "source": [
    "$store.GetType().Fullname"
   ]
  },
  {
   "cell_type": "code",
   "execution_count": 10,
   "metadata": {},
   "outputs": [
    {
     "name": "stdout",
     "output_type": "stream",
     "text": []
    }
   ],
   "source": [
    "$store -split \"`r`n\" | set -Name ary"
   ]
  },
  {
   "cell_type": "code",
   "execution_count": 12,
   "metadata": {},
   "outputs": [
    {
     "name": "stdout",
     "output_type": "stream",
     "text": [
      "302\n"
     ]
    }
   ],
   "source": [
    "$ary.length"
   ]
  },
  {
   "cell_type": "code",
   "execution_count": 14,
   "metadata": {},
   "outputs": [
    {
     "name": "stdout",
     "output_type": "stream",
     "text": [
      "$i = 0\n",
      "foreach($ar in $ary)\n",
      ">> {\n",
      ">>   if($ar -match 'SEE ALSO')\n",
      ">>   {\n",
      ">>     break\n",
      ">>   }\n",
      ">>   $i++\n",
      ">> }\n",
      ">> # $ary[$i..$ary.Length]\n",
      ">> \n"
     ]
    }
   ],
   "source": [
    "$i = 0\n",
    "foreach($ar in $ary)\n",
    "{\n",
    "  if($ar -match 'SEE ALSO')\n",
    "  {\n",
    "    break\n",
    "  }\n",
    "  $i++\n",
    "}\n",
    "# $ary[$i..$ary.Length]"
   ]
  },
  {
   "cell_type": "code",
   "execution_count": 16,
   "metadata": {},
   "outputs": [
    {
     "name": "stdout",
     "output_type": "stream",
     "text": [
      "$url_base = \"https://nbviewer.jupyter.org/github/sakai-memoru/pwshnote/blob/master/1909-powershell-{{about_item}}.ipynb\"\n",
      "\n",
      "foreach($a in $ary[($i+1)..$ary.Length]){\n",
      ">>   if(-not ($a.Trim() -eq ''))\n",
      ">>   {\n",
      ">>     if($a.Trim().startswith('about_'))\n",
      ">>     {\n",
      ">>       $url_base.Replace('{{about_item}}',$a.Trim())  \n",
      ">>     }\n",
      ">>     else\n",
      ">>     {\n",
      ">>       $a.Trim()\n",
      ">>     }\n",
      ">>   }\n",
      ">> }\n",
      ">> \n",
      "https://nbviewer.jupyter.org/github/sakai-memoru/pwshnote/blob/master/1909-powershell-about_Locations.ipynb\n",
      "https://nbviewer.jupyter.org/github/sakai-memoru/pwshnote/blob/master/1909-powershell-about_Path_Syntax.ipynb\n"
     ]
    }
   ],
   "source": [
    "$url_base = \"https://nbviewer.jupyter.org/github/sakai-memoru/pwshnote/blob/master/1909-powershell-{{about_item}}.ipynb\"\n",
    "\n",
    "foreach($a in $ary[($i+1)..$ary.Length]){\n",
    "  if(-not ($a.Trim() -eq ''))\n",
    "  {\n",
    "    if($a.Trim().startswith('about_'))\n",
    "    {\n",
    "      $url_base.Replace('{{about_item}}',$a.Trim())  \n",
    "    }\n",
    "    else\n",
    "    {\n",
    "      $a.Trim()\n",
    "    }\n",
    "  }\n",
    "}"
   ]
  },
  {
   "cell_type": "code",
   "execution_count": 26,
   "metadata": {},
   "outputs": [
    {
     "name": "stdout",
     "output_type": "stream",
     "text": [
      "TOPIC\n",
      "    about_Providers\n",
      "\n",
      "SHORT DESCRIPTION\n",
      "    Describes how Windows PowerShell providers provide access to data and \n",
      "    components that would not otherwise be easily accessible at the command\n",
      "    line. The data is presented in a consistent format that resembles a file\n",
      "    system drive.\n",
      "\n",
      "\n",
      "LONG DESCRIPTION\n",
      "    Windows PowerShell providers are Microsoft .NET Framework-based programs \n",
      "    that make the data in a specialized data store available in Windows \n",
      "    PowerShell so that you can view and manage it.\n",
      " \n",
      "\n",
      "    The data that a provider exposes appears in a drive, and you access the \n",
      "    data in a path like you would on a hard disk drive. You can use any of the\n",
      "    built-in cmdlets that the provider supports to manage the data in the \n",
      "    provider drive. And, you can use custom cmdlets that are designed \n",
      "    especially for the data. \n",
      "\n",
      "\n",
      "    The providers can also add dynamic parameters to the built-in cmdlets.\n",
      "    These are parameters that are available only when you use the cmdlet with\n",
      "    the provider data.\n"
     ]
    }
   ],
   "source": [
    "$ary[0..25] "
   ]
  },
  {
   "cell_type": "code",
   "execution_count": 28,
   "metadata": {},
   "outputs": [
    {
     "name": "stdout",
     "output_type": "stream",
     "text": [
      "\n",
      "\n",
      " BUILT-IN PROVIDERS\n",
      "    Windows PowerShell includes a set of built-in providers that you can use \n",
      "    to access the different types of data stores.\n",
      "\n",
      "\n",
      "    Provider      Drive         Data store\n",
      "    --------      -----         ----------\n",
      "    Alias         Alias:        Windows PowerShell aliases\n",
      " \n",
      "    Certificate   Cert:         x509 certificates for digital signatures\n",
      "\n",
      "    Environment   Env:          Windows environment variables\n",
      "\n",
      "    FileSystem    *             File system drives, directories, and files\n",
      "\n",
      "    Function      Function:     Windows PowerShell functions\n",
      "\n",
      "    Registry      HKLM:, HKCU:  Windows registry\n",
      "\n",
      "    Variable      Variable:     Windows PowerShell variables\n",
      "\n",
      "    WSMan         WSMan:        WS-Management configuration information\n",
      "\n",
      "   * The FileSystem drives vary on each system. \n",
      "\n",
      "\n",
      "    You can also create your own Windows PowerShell providers, and you can \n",
      "    install providers that others develop. To list the providers that are \n",
      "    available in your session, type:\n",
      "\n",
      "       get-psprovider\n",
      "\n",
      " and more ...\n"
     ]
    }
   ],
   "source": [
    "$ary[26..58] + \"`r`n and more ...\""
   ]
  },
  {
   "cell_type": "markdown",
   "metadata": {},
   "source": [
    "### Get-Command"
   ]
  },
  {
   "cell_type": "code",
   "execution_count": 36,
   "metadata": {},
   "outputs": [
    {
     "name": "stdout",
     "output_type": "stream",
     "text": [
      "\n",
      "Name           Source                         \n",
      "----           ------                         \n",
      "Get-PSProvider Microsoft.PowerShell.Management\n",
      "\n",
      "\n"
     ]
    }
   ],
   "source": [
    "Get-Command -Name *PSProvider* | ft Name, Source"
   ]
  },
  {
   "cell_type": "markdown",
   "metadata": {},
   "source": [
    "### Get-Help"
   ]
  },
  {
   "cell_type": "code",
   "execution_count": 37,
   "metadata": {},
   "outputs": [
    {
     "name": "stdout",
     "output_type": "stream",
     "text": [
      "\n",
      "Name           Source                         \n",
      "----           ------                         \n",
      "Get-PSProvider Microsoft.PowerShell.Management\n",
      "\n",
      "\n"
     ]
    }
   ],
   "source": [
    "Help Get-psProvider -online"
   ]
  },
  {
   "cell_type": "code",
   "execution_count": 38,
   "metadata": {},
   "outputs": [
    {
     "name": "stdout",
     "output_type": "stream",
     "text": [
      "\n"
     ]
    }
   ],
   "source": [
    "Help Get-psProvider | set -Name store_cmd"
   ]
  },
  {
   "cell_type": "code",
   "execution_count": 42,
   "metadata": {},
   "outputs": [
    {
     "name": "stdout",
     "output_type": "stream",
     "text": [
      "System.String\n"
     ]
    }
   ],
   "source": [
    "$store_cmd[0].GetType().Fullname"
   ]
  },
  {
   "cell_type": "code",
   "execution_count": 44,
   "metadata": {},
   "outputs": [
    {
     "name": "stdout",
     "output_type": "stream",
     "text": [
      "31\n"
     ]
    }
   ],
   "source": [
    "$store_cmd.Length"
   ]
  },
  {
   "cell_type": "code",
   "execution_count": 46,
   "metadata": {},
   "outputs": [
    {
     "name": "stdout",
     "output_type": "stream",
     "text": [
      "\n",
      "NAME\n",
      "    Get-PSProvider\n",
      "    \n",
      "SYNOPSIS\n",
      "    Gets information about the specified Windows PowerShell provider.\n",
      "    \n",
      "    \n",
      "SYNTAX\n",
      "    Get-PSProvider [[-PSProvider] <String[]>] [<CommonParameters>]\n",
      "    \n",
      "    \n",
      "DESCRIPTION\n",
      "    The Get-PSProvider cmdlet gets the Windows PowerShell providers in the current session. You can get a particular \n",
      "    drive or all drives in the session.\n",
      "    \n",
      "    Windows PowerShell providers let you access a variety of data stores as though they were file system drives. For \n",
      "    information about Windows PowerShell providers, see about_Providers.\n",
      "    \n",
      "\n",
      "RELATED LINKS\n",
      "    Online Version: http://go.microsoft.com/fwlink/?linkid=821592\n",
      "\n",
      "REMARKS\n",
      "    To see the examples, type: \"get-help Get-PSProvider -examples\".\n",
      "    For more information, type: \"get-help Get-PSProvider -detailed\".\n",
      "    For technical information, type: \"get-help Get-PSProvider -full\".\n",
      "    For online help, type: \"get-help Get-PSProvider -online\"\n",
      "\n",
      "\n",
      "\n"
     ]
    }
   ],
   "source": [
    "Help Get-psProvider\n"
   ]
  },
  {
   "cell_type": "markdown",
   "metadata": {},
   "source": [
    "### Show-Command"
   ]
  },
  {
   "cell_type": "code",
   "execution_count": 59,
   "metadata": {},
   "outputs": [
    {
     "name": "stdout",
     "output_type": "stream",
     "text": []
    }
   ],
   "source": [
    "shcm Get-PSProvider"
   ]
  },
  {
   "cell_type": "markdown",
   "metadata": {},
   "source": [
    "[![Image from Gyazo](https://i.gyazo.com/8b126810ab6aba496898bf7911cd78e0.png)](https://gyazo.com/8b126810ab6aba496898bf7911cd78e0)"
   ]
  },
  {
   "cell_type": "markdown",
   "metadata": {},
   "source": [
    "### Get-PSProvider"
   ]
  },
  {
   "cell_type": "code",
   "execution_count": 51,
   "metadata": {},
   "outputs": [
    {
     "name": "stdout",
     "output_type": "stream",
     "text": [
      "\n",
      "\n",
      "   TypeName: System.Management.Automation.ProviderInfo\n",
      "\n",
      "Name             MemberType Definition                                                                                 \n",
      "----             ---------- ----------                                                                                 \n",
      "Capabilities     Property   System.Management.Automation.Provider.ProviderCapabilities Capabilities {get;}             \n",
      "Description      Property   string Description {get;set;}                                                              \n",
      "Drives           Property   System.Collections.ObjectModel.Collection[System.Management.Automation.PSDriveInfo] Driv...\n",
      "HelpFile         Property   string HelpFile {get;}                                                                     \n",
      "Home             Property   string Home {get;set;}                                                                     \n",
      "ImplementingType Property   type ImplementingType {get;}                                                               \n",
      "Module           Property   psmoduleinfo Module {get;}                                                                 \n",
      "ModuleName       Property   string ModuleName {get;}                                                                   \n",
      "Name             Property   string Name {get;}                                                                         \n",
      "PSSnapIn         Property   System.Management.Automation.PSSnapInInfo PSSnapIn {get;}                                  \n",
      "\n",
      "\n"
     ]
    }
   ],
   "source": [
    "Get-PSProvider | gm -MemberType Property"
   ]
  },
  {
   "cell_type": "code",
   "execution_count": 55,
   "metadata": {},
   "outputs": [
    {
     "name": "stdout",
     "output_type": "stream",
     "text": [
      "\n",
      "Name        Drives          Home          \n",
      "----        ------          ----          \n",
      "Registry    {HKLM, HKCU}                  \n",
      "Alias       {Alias}                       \n",
      "Environment {Env}                         \n",
      "FileSystem  {C, D, F, G...} G:\\Users\\sakai\n",
      "Function    {Function}                    \n",
      "Variable    {Variable}                    \n",
      "\n",
      "\n"
     ]
    }
   ],
   "source": [
    "Get-PSProvider | ft Name, Drives, Home"
   ]
  },
  {
   "cell_type": "code",
   "execution_count": 69,
   "metadata": {},
   "outputs": [
    {
     "name": "stdout",
     "output_type": "stream",
     "text": [
      "\n",
      "\n",
      "ImplementingType : Microsoft.PowerShell.Commands.FileSystemProvider\n",
      "HelpFile         : System.Management.Automation.dll-Help.xml\n",
      "Name             : FileSystem\n",
      "PSSnapIn         : Microsoft.PowerShell.Core\n",
      "ModuleName       : Microsoft.PowerShell.Core\n",
      "Module           : \n",
      "Description      : \n",
      "Capabilities     : Filter, ShouldProcess, Credentials\n",
      "Home             : G:\\Users\\sakai\n",
      "Drives           : {C, D, F, G...}\n",
      "\n",
      "\n",
      "\n"
     ]
    }
   ],
   "source": [
    "Get-PSProvider -psprovider FileSystem | fl *"
   ]
  }
 ],
 "metadata": {
  "kernelspec": {
   "display_name": "PowerShell",
   "language": "powershell",
   "name": "powershell"
  },
  "language_info": {
   "codemirror_mode": "shell",
   "file_extension": ".ps1",
   "mimetype": "text/x-sh",
   "name": "powershell"
  }
 },
 "nbformat": 4,
 "nbformat_minor": 2
}
