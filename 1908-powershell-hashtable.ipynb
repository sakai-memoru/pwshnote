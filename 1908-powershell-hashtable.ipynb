{
 "cells": [
  {
   "cell_type": "markdown",
   "metadata": {},
   "source": [
    "# 1908-powershell-hashtable "
   ]
  },
  {
   "cell_type": "code",
   "execution_count": 1,
   "metadata": {},
   "outputs": [
    {
     "name": "stdout",
     "output_type": "stream",
     "text": []
    }
   ],
   "source": [
    "$dic = @{}"
   ]
  },
  {
   "cell_type": "code",
   "execution_count": 2,
   "metadata": {},
   "outputs": [
    {
     "name": "stdout",
     "output_type": "stream",
     "text": [
      "\n",
      "IsPublic IsSerial Name                                     BaseType                                                    \n",
      "-------- -------- ----                                     --------                                                    \n",
      "True     True     Hashtable                                System.Object                                               \n",
      "\n",
      "\n"
     ]
    }
   ],
   "source": [
    "$dic.GetType()"
   ]
  },
  {
   "cell_type": "code",
   "execution_count": 3,
   "metadata": {},
   "outputs": [
    {
     "name": "stdout",
     "output_type": "stream",
     "text": [
      "\n",
      "\n",
      "   TypeName: System.Collections.Hashtable\n",
      "\n",
      "Name           MemberType Definition                                  \n",
      "----           ---------- ----------                                  \n",
      "Count          Property   int Count {get;}                            \n",
      "IsFixedSize    Property   bool IsFixedSize {get;}                     \n",
      "IsReadOnly     Property   bool IsReadOnly {get;}                      \n",
      "IsSynchronized Property   bool IsSynchronized {get;}                  \n",
      "Keys           Property   System.Collections.ICollection Keys {get;}  \n",
      "SyncRoot       Property   System.Object SyncRoot {get;}               \n",
      "Values         Property   System.Collections.ICollection Values {get;}\n",
      "\n",
      "\n"
     ]
    }
   ],
   "source": [
    "$dic | Get-Member -MemberType Property"
   ]
  },
  {
   "cell_type": "code",
   "execution_count": 4,
   "metadata": {},
   "outputs": [
    {
     "name": "stdout",
     "output_type": "stream",
     "text": [
      "\n",
      "Name              Definition                                                                                           \n",
      "----              ----------                                                                                           \n",
      "Add               void Add(System.Object key, System.Object value), void IDictionary.Add(System.Object key, System.O...\n",
      "Clear             void Clear(), void IDictionary.Clear()                                                               \n",
      "Clone             System.Object Clone(), System.Object ICloneable.Clone()                                              \n",
      "Contains          bool Contains(System.Object key), bool IDictionary.Contains(System.Object key)                       \n",
      "ContainsKey       bool ContainsKey(System.Object key)                                                                  \n",
      "ContainsValue     bool ContainsValue(System.Object value)                                                              \n",
      "CopyTo            void CopyTo(array array, int arrayIndex), void ICollection.CopyTo(array array, int index)            \n",
      "Equals            bool Equals(System.Object obj)                                                                       \n",
      "GetEnumerator     System.Collections.IDictionaryEnumerator GetEnumerator(), System.Collections.IDictionaryEnumerator...\n",
      "GetHashCode       int GetHashCode()                                                                                    \n",
      "GetObjectData     void GetObjectData(System.Runtime.Serialization.SerializationInfo info, System.Runtime.Serializati...\n",
      "GetType           type GetType()                                                                                       \n",
      "OnDeserialization void OnDeserialization(System.Object sender), void IDeserializationCallback.OnDeserialization(Syst...\n",
      "Remove            void Remove(System.Object key), void IDictionary.Remove(System.Object key)                           \n",
      "ToString          string ToString()                                                                                    \n",
      "\n",
      "\n"
     ]
    }
   ],
   "source": [
    "$dic | Get-Member -MemberType Method | Format-Table Name, Definition"
   ]
  },
  {
   "cell_type": "code",
   "execution_count": 5,
   "metadata": {},
   "outputs": [
    {
     "name": "stdout",
     "output_type": "stream",
     "text": [
      "$null = $dic.Add('one', 1)\n",
      "$dic.Add('Two', 2)\n"
     ]
    }
   ],
   "source": [
    "$dic.Add('one', 1)\n",
    "$dic.Add('Two', 2)\n",
    "$dic.Add('Three', 3)\n"
   ]
  },
  {
   "cell_type": "code",
   "execution_count": 6,
   "metadata": {},
   "outputs": [
    {
     "name": "stdout",
     "output_type": "stream",
     "text": [
      "$dic.Add('Three', 3)\n",
      "\n",
      "\n",
      "$dic\n",
      "\n",
      "Name                           Value                                                                                   \n",
      "----                           -----                                                                                   \n",
      "one                            1                                                                                       \n",
      "Three                          3                         "
     ]
    }
   ],
   "source": []
  },
  {
   "cell_type": "code",
   "execution_count": 8,
   "metadata": {},
   "outputs": [
    {
     "name": "stdout",
     "output_type": "stream",
     "text": [
      "\n",
      "Name                           Value                                                                                   \n",
      "----                           -----                                                                                   \n",
      "one                            1                                                                                       \n",
      "Three                          3                                                                                       \n",
      "Two                            2                                                                                       \n",
      "\n",
      "\n"
     ]
    }
   ],
   "source": [
    "$dic"
   ]
  },
  {
   "cell_type": "code",
   "execution_count": 10,
   "metadata": {},
   "outputs": [
    {
     "name": "stdout",
     "output_type": "stream",
     "text": [
      "2\n"
     ]
    }
   ],
   "source": [
    "$dic['Two']"
   ]
  },
  {
   "cell_type": "code",
   "execution_count": 17,
   "metadata": {},
   "outputs": [
    {
     "name": "stdout",
     "output_type": "stream",
     "text": [
      "one\n",
      "1\n",
      "Three\n",
      "3\n",
      "Two\n",
      "2\n"
     ]
    }
   ],
   "source": [
    "foreach($itm in $dic.GetEnumerator())\n",
    "{\n",
    "  echo $itm.Key $itm.Value\n",
    "}"
   ]
  },
  {
   "cell_type": "code",
   "execution_count": null,
   "metadata": {},
   "outputs": [],
   "source": []
  }
 ],
 "metadata": {
  "kernelspec": {
   "display_name": "PowerShell",
   "language": "powershell",
   "name": "powershell"
  },
  "language_info": {
   "codemirror_mode": "shell",
   "file_extension": ".ps1",
   "mimetype": "text/x-sh",
   "name": "powershell"
  }
 },
 "nbformat": 4,
 "nbformat_minor": 2
}
