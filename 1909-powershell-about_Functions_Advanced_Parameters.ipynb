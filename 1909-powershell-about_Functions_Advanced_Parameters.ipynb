{
 "cells": [
  {
   "cell_type": "markdown",
   "metadata": {},
   "source": [
    "# 1909-powershell-about_Functions_Advanced_Parameters"
   ]
  },
  {
   "cell_type": "markdown",
   "metadata": {},
   "source": [
    "## overview"
   ]
  },
  {
   "cell_type": "markdown",
   "metadata": {},
   "source": [
    "- about_Functions_Advanced_Parameters"
   ]
  },
  {
   "cell_type": "markdown",
   "metadata": {},
   "source": [
    "![Image from Gyazo](https://i.gyazo.com/9c23d8a166aeaa46a042f3b1f33dcf33.png)"
   ]
  },
  {
   "cell_type": "markdown",
   "metadata": {},
   "source": [
    "## jupyter notebook"
   ]
  },
  {
   "cell_type": "markdown",
   "metadata": {},
   "source": [
    "- https://nbviewer.jupyter.org/github/sakai-memoru/pwshnote/blob/master/1909-powershell-about_Functions_Advanced_Parameters.ipynb"
   ]
  },
  {
   "cell_type": "markdown",
   "metadata": {},
   "source": [
    "## Usage"
   ]
  },
  {
   "cell_type": "markdown",
   "metadata": {},
   "source": [
    "### Get-Help"
   ]
  },
  {
   "cell_type": "code",
   "execution_count": 2,
   "metadata": {},
   "outputs": [
    {
     "name": "stdout",
     "output_type": "stream",
     "text": [
      "\n",
      "\n",
      "Name     : about_Functions_Advanced_Parameters\n",
      "Synopsis : Explains how to add parameters to advanced functions.\n",
      "\n",
      "\n",
      "\n"
     ]
    }
   ],
   "source": [
    "Get-Help -Category helpfile about_Functions_Advanced_Parameters | select Name, Synopsis | format-list *"
   ]
  },
  {
   "cell_type": "markdown",
   "metadata": {},
   "source": [
    "### about_Script_Blocks"
   ]
  },
  {
   "cell_type": "code",
   "execution_count": 4,
   "metadata": {},
   "outputs": [
    {
     "name": "stdout",
     "output_type": "stream",
     "text": []
    }
   ],
   "source": [
    "Get-Help about_Functions_Advanced_Parameters | \n",
    "  set -Name store"
   ]
  },
  {
   "cell_type": "code",
   "execution_count": 6,
   "metadata": {},
   "outputs": [
    {
     "name": "stdout",
     "output_type": "stream",
     "text": [
      "System.String\n"
     ]
    }
   ],
   "source": [
    "$store.GetType().Fullname"
   ]
  },
  {
   "cell_type": "code",
   "execution_count": 8,
   "metadata": {},
   "outputs": [
    {
     "name": "stdout",
     "output_type": "stream",
     "text": []
    }
   ],
   "source": [
    "$store -split \"`r`n\" | set -Name ary"
   ]
  },
  {
   "cell_type": "code",
   "execution_count": 10,
   "metadata": {},
   "outputs": [
    {
     "name": "stdout",
     "output_type": "stream",
     "text": [
      "700\n"
     ]
    }
   ],
   "source": [
    "$ary.length"
   ]
  },
  {
   "cell_type": "code",
   "execution_count": 16,
   "metadata": {},
   "outputs": [
    {
     "name": "stdout",
     "output_type": "stream",
     "text": [
      "$i = 0\n",
      "foreach($ar in $ary)\n",
      ">> {\n",
      ">>   if($ar -match 'SEE ALSO')\n",
      ">>   {\n",
      ">>     break\n",
      ">>   }\n",
      ">>   $i++\n",
      ">> }\n",
      ">> # $ary[$i..$ary.Length]\n",
      ">> \n"
     ]
    }
   ],
   "source": [
    "$i = 0\n",
    "foreach($ar in $ary)\n",
    "{\n",
    "  if($ar -match 'SEE ALSO')\n",
    "  {\n",
    "    break\n",
    "  }\n",
    "  $i++\n",
    "}\n",
    "# $ary[$i..$ary.Length]"
   ]
  },
  {
   "cell_type": "code",
   "execution_count": 20,
   "metadata": {},
   "outputs": [
    {
     "name": "stdout",
     "output_type": "stream",
     "text": [
      "$url_base = \"https://nbviewer.jupyter.org/github/sakai-memoru/pwshnote/blob/master/1909-powershell-{{about_item}}.ipynb\"\n",
      "\n",
      "foreach($a in $ary[($i+1)..$ary.Length]){\n",
      ">>   if(-not ($a.Trim() -eq ''))\n",
      ">>   {\n",
      ">>     if($a.Trim().startswith('about_'))\n",
      ">>     {\n",
      ">>       $url_base.Replace('{{about_item}}',$a.Trim())  \n",
      ">>     }\n",
      ">>     else\n",
      ">>     {\n",
      ">>       $a.Trim()\n",
      ">>     }\n",
      ">>   }\n",
      ">> }\n",
      ">> \n",
      "https://nbviewer.jupyter.org/github/sakai-memoru/pwshnote/blob/master/1909-powershell-about_Functions.ipynb\n",
      "https://nbviewer.jupyter.org/github/sakai-memoru/pwshnote/blob/master/1909-powershell-about_Functions_Advanced.ipynb\n",
      "https://nbviewer.jupyter.org/github/sakai-memoru/pwshnote/blob/master/1909-powershell-about_Functions_Advanced_Methods.ipynb\n",
      "https://nbviewer.jupyter.org/github/sakai-memoru/pwshnote/blob/master/1909-powershell-about_Functions_CmdletBindingAttribute.ipynb\n",
      "https://nbviewer.jupyter.org/github/sakai-memoru/pwshnote/blob/master/1909-powershell-about_Functions_OutputTypeAttribute.ipynb\n"
     ]
    }
   ],
   "source": [
    "$url_base = \"https://nbviewer.jupyter.org/github/sakai-memoru/pwshnote/blob/master/1909-powershell-{{about_item}}.ipynb\"\n",
    "\n",
    "foreach($a in $ary[($i+1)..$ary.Length]){\n",
    "  if(-not ($a.Trim() -eq ''))\n",
    "  {\n",
    "    if($a.Trim().startswith('about_'))\n",
    "    {\n",
    "      $url_base.Replace('{{about_item}}',$a.Trim())  \n",
    "    }\n",
    "    else\n",
    "    {\n",
    "      $a.Trim()\n",
    "    }\n",
    "  }\n",
    "}"
   ]
  },
  {
   "cell_type": "code",
   "execution_count": 26,
   "metadata": {},
   "outputs": [
    {
     "name": "stdout",
     "output_type": "stream",
     "text": [
      "TOPIC\n",
      "    about_Functions_Advanced_Parameters\n",
      "\n",
      "SHORT DESCRIPTION\n",
      "    Explains how to add parameters to advanced functions.\n",
      "\n",
      "LONG DESCRIPTION\n",
      "    You can add parameters to the advanced functions that you write, and use\n",
      "    parameter attributes and arguments to limit the parameter values that\n",
      "    function users submit with the parameter.\n",
      "\n",
      "    The parameters that you add to your function are available to users in\n",
      "    addition to the common parameters that Windows PowerShell adds automatically\n",
      "    to all cmdlets and advanced functions. For more information about the Windows\n",
      "    PowerShell common parameters, see about_CommonParameters \n",
      "    (http://go.microsoft.com/fwlink/?LinkID=113216).\n",
      "\n",
      "    Beginning in Windows PowerShell 3.0, you can use splatting with @Args to\n",
      "    represent the parameters in a command. This technique is valid on simple\n",
      "    and advanced functions. For more information, see about_Functions\n",
      "    (http://go.microsoft.com/fwlink/?LinkID=113231) and about_Splatting\n",
      "    (http://go.microsoft.com/fwlink/?LinkID=262720).\n",
      "\n"
     ]
    }
   ],
   "source": [
    "$ary[0..22] "
   ]
  },
  {
   "cell_type": "code",
   "execution_count": 28,
   "metadata": {},
   "outputs": [
    {
     "name": "stdout",
     "output_type": "stream",
     "text": [
      "\n",
      "Static Parameters\n",
      "    Static parameters are parameters that are always available in the function.\n",
      "    Most parameters in Windows PowerShell cmdlets and scripts are static parameters.\n",
      "\n",
      "    The following example shows the declaration of a ComputerName parameter that\n",
      "    has the following characteristics:\n",
      "\n",
      "        - It is mandatory (required).\n",
      "        - It takes input from the pipeline.\n",
      "        - It takes an array of strings as input.\n",
      "\n",
      "        Param\n",
      "          (\n",
      "            [parameter(Mandatory=$true,\n",
      "            ValueFromPipeline=$true)]\n",
      "            [String[]]\n",
      "            $ComputerName\n",
      "          ) \n",
      "  \n",
      "\n",
      "  Attributes of Parameters\n",
      "  \n",
      "    This section describes the attributes that you can add to function\n",
      "    parameters. \n",
      "\n",
      "    All attributes are optional. However, if you omit the CmdletBinding\n",
      "    attribute, then to be recognized as an advanced function, the function\n",
      "    must include the Parameter attribute.     \n",
      "\n",
      "    You can add one or multiple attributes in each parameter declaration. There\n",
      "    is no limit to the number of attributes that you can add to a parameter\n",
      "    declaration.\n",
      "\n",
      "\n",
      "  The Parameter Attribute\n",
      "\n",
      "      The Parameter attribute is used to declare the attributes of function\n",
      "      parameters. \n",
      " \n",
      "      The Parameter attribute is optional, and you can omit it if none of the\n",
      "      parameters of your functions need attributes, but to be recognized as\n",
      "      an advanced function (rather than a simple function), a function must have\n",
      "      either the CmdletBinding attribute or the Parameter attribute, or both.\n",
      "\n",
      "      The Parameter attribute has arguments that define the characteristics\n",
      "      of the parameter, such as whether the parameter is mandatory or optional. \n",
      "\n",
      "      Use the following syntax to declare the Parameter attribute, an argument,\n",
      "      and an argument value. The parentheses that enclose the argument and its\n",
      "      value must follow \"Parameter\" with no intervening space.\n",
      "\n",
      "        Param\n",
      "          (\n",
      "            [parameter(Argument=value)]\n",
      "            $ParameterName\n",
      "          ) \n",
      "\n",
      "\n",
      "       Use commas to separate arguments within the parentheses. Use the\n",
      "       following syntax to declare two arguments of the Parameter attribute.\n",
      "\n"
     ]
    }
   ],
   "source": [
    "$ary[23..84] "
   ]
  },
  {
   "cell_type": "code",
   "execution_count": 30,
   "metadata": {},
   "outputs": [
    {
     "name": "stdout",
     "output_type": "stream",
     "text": [
      "        Param\n",
      "          (\n",
      "            [parameter(Argument1=value1,\n",
      "                       Argument2=value2)]\n",
      "\n",
      "          ) \n",
      "\n",
      "\n",
      "       If you use the Parameter attribute without arguments (as an alternative\n",
      "       to using the CmdletBinding attribute), the parentheses that follow the\n",
      "       attribute name are still required.\n",
      "\n",
      "        Param\n",
      "          (\n",
      "            [parameter()]\n",
      "            $ParameterName\n",
      "          ) \n",
      "\n",
      "           \n",
      "\n",
      "    Mandatory Argument\n",
      "\n",
      "        The Mandatory argument indicates that the parameter is required. If this\n",
      "        argument is not specified, the parameter is an optional parameter. \n",
      "\n",
      "        The following example declares the ComputerName parameter. It uses the\n",
      "        Mandatory argument to make the parameter mandatory.\n",
      "\n",
      "        Param\n",
      "          (\n",
      "            [parameter(Mandatory=$true)]\n",
      "            [String[]]\n",
      "            $ComputerName\n",
      "          ) \n",
      "\n",
      "\n",
      "    Position Argument\n",
      "\n",
      "        The Position argument determines whether the parameter name is required\n",
      "        when the parameter is used in a command. When a parameter declaration\n",
      "        includes the Position argument, the parameter name can be omitted and\n",
      "        Windows PowerShell identifies the unnamed parameter value by its position\n",
      "        (or order) in the list of unnamed parameter values in the command.\n",
      "       \n",
      "        If the Position argument is not specified, the parameter name (or a parameter\n",
      "        name alias or abbreviation) must precede the parameter value whenever the\n",
      "        parameter is used in a command. \n",
      "\n",
      "        By default, all function parameters are positional. Windows PowerShell \n",
      "        assigns position numbers to parameters in the order in which the         \n",
      "        parameters are declared in the function. To disable this feature,\n",
      "        set the value of the PositionalBinding argument of the CmdletBinding\n",
      "        attribute to $False. The Position argument takes precedence over the\n",
      "        value of the PositionalBinding argument for the parameters on which it\n",
      "        is declared. For more information, see PositionalBinding in\n",
      "        about_Functions_CmdletBindingAttribute.\n",
      "        \n",
      "        The value of the Position argument is specified as an integer. A position\n",
      "        value of 0 represents the first position in the command, a position \n",
      "        value of 1 represents the second position in the command, and so on. \n",
      "\n",
      "        If a function has no positional parameters, Windows PowerShell assigns\n",
      "        positions to each parameter based on the order in which the parameters\n",
      "        are declared. However, as a best practice, do not rely on this assignment.\n"
     ]
    }
   ],
   "source": [
    "$ary[85..148] "
   ]
  },
  {
   "cell_type": "code",
   "execution_count": 36,
   "metadata": {},
   "outputs": [
    {
     "name": "stdout",
     "output_type": "stream",
     "text": [
      "        When you want parameters to be positional, use the Position argument. \n",
      "\n",
      "        The following example declares the ComputerName parameter. It uses the\n",
      "        Position argument with a value of 0. As a result, when \"-ComputerName\"\n",
      "        is omitted from command, its value must be the first or only unnamed \n",
      "        parameter value in the command.\n",
      "\n",
      "        Param\n",
      "          (\n",
      "            [parameter(Position=0)]\n",
      "            [String[]]\n",
      "            $ComputerName\n",
      "          ) \n",
      "\n",
      "\n",
      "        NOTE: When the Get-Help cmdlet displays the corresponding \"Position?\" parameter\n",
      "              attribute, the position value is incremented by 1. For example, a parameter\n",
      "              with a Position argument value of 0 has a parameter attribute of\n",
      "             \"Position? 1.\"\n",
      "\n",
      "\n",
      "\n",
      "    ParameterSetName Argument\n",
      "\n",
      "        The ParameterSetName argument specifies the parameter set to which a \n",
      "        parameter belongs. If no parameter set is specified, the parameter \n",
      "        belongs to all the parameter sets defined by the function. Therefore, to\n",
      "        be unique, each parameter set must have at least one parameter that is\n",
      "        not a member of any other parameter set. \n",
      "\n",
      "        The following example declares a ComputerName parameter in the Computer\n",
      "        parameter set, a UserName parameter in the User parameter set, and a \n",
      "        Summary parameter in both parameter sets.\n",
      "\n",
      "        Param\n",
      "          (\n",
      "            [parameter(Mandatory=$true,\n",
      "                      ParameterSetName=\"Computer\")]\n",
      "            [String[]]\n",
      "            $ComputerName,\n",
      "\n",
      "            [parameter(Mandatory=$true,\n",
      "                      ParameterSetName=\"User\")]\n",
      "            [String[]]\n",
      "            $UserName,\n",
      "\n",
      "            [parameter(Mandatory=$false)]\n",
      "            [Switch]\n",
      "            $Summary\n",
      "          )\n",
      "\n",
      "        You can specify only one ParameterSetName value in each argument and only\n",
      "        one ParameterSetName argument in each Parameter attribute. To indicate that\n",
      "        a parameter appears in more than one parameter set, add additional Parameter        \n",
      "        attributes.\n",
      "\n",
      "        The following example explicitly adds the Summary parameter to the Computer\n",
      "        and User parameter sets. The Summary parameter is mandatory in one parameter\n",
      "        set and optional in the other.\n",
      "\n",
      "\n",
      "\n",
      "and more ....\n"
     ]
    }
   ],
   "source": [
    "$ary[149..208] + \"`r`n\" + \"and more ....\""
   ]
  },
  {
   "cell_type": "code",
   "execution_count": null,
   "metadata": {},
   "outputs": [],
   "source": []
  }
 ],
 "metadata": {
  "kernelspec": {
   "display_name": "PowerShell",
   "language": "powershell",
   "name": "powershell"
  },
  "language_info": {
   "codemirror_mode": "shell",
   "file_extension": ".ps1",
   "mimetype": "text/x-sh",
   "name": "powershell"
  }
 },
 "nbformat": 4,
 "nbformat_minor": 2
}
