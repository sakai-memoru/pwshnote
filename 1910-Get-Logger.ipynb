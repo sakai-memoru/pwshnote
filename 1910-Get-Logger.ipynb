{
 "cells": [
  {
   "cell_type": "markdown",
   "metadata": {},
   "source": [
    "# 1910-Get-Logger"
   ]
  },
  {
   "cell_type": "markdown",
   "metadata": {},
   "source": [
    "## overview"
   ]
  },
  {
   "cell_type": "markdown",
   "metadata": {},
   "source": [
    "- 共通ライブラリ Get-Logger"
   ]
  },
  {
   "cell_type": "markdown",
   "metadata": {},
   "source": [
    "## Contents"
   ]
  },
  {
   "cell_type": "code",
   "execution_count": 1,
   "metadata": {},
   "outputs": [
    {
     "name": "stdout",
     "output_type": "stream",
     "text": []
    }
   ],
   "source": [
    "function Global:Get-Logger{\n",
    "    Param(\n",
    "        [CmdletBinding()]\n",
    "        [Parameter()][String]$Delimiter = \" \",\n",
    "        [Parameter()][String]$LogfilePath = \"./apps.log\",\n",
    "        [Parameter()][String]$Encoding = \"Default\",\n",
    "        [Parameter()][String]$VerbosePreference = \"SilentlyContinue\",\n",
    "        [Parameter()][Switch]$NoDisplay\n",
    "    )\n",
    "    if (!(Test-Path -LiteralPath (Split-Path $LogfilePath -parent) -PathType container)) {\n",
    "        New-Item $LogfilePath -type file -Force\n",
    "    }\n",
    "    $logger = @{}\n",
    "    $logger.Set_Item('info', (Put-Log -Delimiter $Delimiter -LogfilePath $LogfilePath -Encoding $Encoding -NoDisplay $NoDisplay -Info))\n",
    "    $logger.Set_Item('warn', (Put-Log -Delimiter $Delimiter -LogfilePath $LogfilePath -Encoding $Encoding -NoDisplay $NoDisplay -Warn))\n",
    "    $logger.Set_Item('error', (Put-Log -Delimiter $Delimiter -LogfilePath $LogfilePath -Encoding $Encoding -NoDisplay $NoDisplay -Err))\n",
    "    $logger.Set_Item('debug', (Put-Log -Delimiter $Delimiter -LogfilePath $LogfilePath -Encoding $Encoding -NoDisplay $NoDisplay -Dbg -VerbosePreference $VerbosePreference))\n",
    "    return $logger\n",
    "}"
   ]
  },
  {
   "cell_type": "code",
   "execution_count": 2,
   "metadata": {},
   "outputs": [
    {
     "name": "stdout",
     "output_type": "stream",
     "text": [
      "function Global:Put-Log\n",
      ">> {\n",
      ">>     Param(\n",
      ">>         [CmdletBinding()]\n",
      ">>         [Parameter()][String]$Delimiter = \" \",\n",
      ">>         [Parameter()][String]$LogfilePath,\n",
      ">>         [Parameter()][String]$Encoding,\n",
      ">>         [Parameter()][bool]$NoDisplay,\n",
      ">>         [Parameter()][String]$VerbosePreference,\n",
      ">>         [Parameter()][Switch]$Info,\n",
      ">>         [Parameter()][Switch]$Warn,\n",
      ">>         [Parameter()][Switch]$Err,\n",
      ">>         [Parameter()][Switch]$Dbg\n",
      ">>     )\n",
      ">>     return {\n",
      ">>         param([String]$msg = \"\")\n",
      ">> \n",
      ">>         # Initialize variables\n",
      ">>         # echo \"Dbg=$Dbg\"\n",
      ">>         $logparam = @(\"White\", \"INFO\")\n",
      ">>         if ($Warn)  { $logparam = @(\"Yellow\", \"WARN\") }\n",
      ">>         if ($Err) { $logparam = @(\"Red\", \"ERROR\") }\n",
      ">>         if ($Dbg) { $logparam = @(\"White\", \"DEBUG\") }\n",
      ">>         $txt = \"[$(Get-Date -Format \"yyyy/MM/dd HH:mm:ss\")]${Delimiter}{0}${Delimiter}{1}\" -f $logparam[1], $msg\n",
      ">>         \n",
      ">>         # $VerbosePreference = 'Continue'\n",
      ">>         # Output Display\n",
      ">>         if(!$NoDisplay) {\n",
      ">>             if($Dbg){\n",
      ">>               Write-Verbose $txt\n",
      ">>             } else {\n",
      ">>               Write-Host -ForegroundColor $logparam[0] $txt\n",
      ">>             }\n",
      ">>         }\n",
      ">>         # Output LogfilePath\n",
      ">>         if($LogfilePath) {\n",
      ">>             if($Dbg){\n",
      ">>               Write-Output $txt | Out-File -FilePath $LogfilePath -Append -Encoding $Encoding\n",
      ">>             } else {\n",
      ">>               Write-Output $txt | Out-File -FilePath $LogfilePath -Append -Encoding $Encoding\n",
      ">>             }\n",
      ">>         }\n",
      ">>     }.GetNewClosure()\n",
      ">> }\n",
      ">> \n",
      "\n"
     ]
    }
   ],
   "source": [
    "function Global:Put-Log\n",
    "{\n",
    "    Param(\n",
    "        [CmdletBinding()]\n",
    "        [Parameter()][String]$Delimiter = \" \",\n",
    "        [Parameter()][String]$LogfilePath,\n",
    "        [Parameter()][String]$Encoding,\n",
    "        [Parameter()][bool]$NoDisplay,\n",
    "        [Parameter()][String]$VerbosePreference,\n",
    "        [Parameter()][Switch]$Info,\n",
    "        [Parameter()][Switch]$Warn,\n",
    "        [Parameter()][Switch]$Err,\n",
    "        [Parameter()][Switch]$Dbg\n",
    "    )\n",
    "    return {\n",
    "        param([String]$msg = \"\")\n",
    "\n",
    "        # Initialize variables\n",
    "        # echo \"Dbg=$Dbg\"\n",
    "        $logparam = @(\"White\", \"INFO\")\n",
    "        if ($Warn)  { $logparam = @(\"Yellow\", \"WARN\") }\n",
    "        if ($Err) { $logparam = @(\"Red\", \"ERROR\") }\n",
    "        if ($Dbg) { $logparam = @(\"White\", \"DEBUG\") }\n",
    "        $txt = \"[$(Get-Date -Format \"yyyy/MM/dd HH:mm:ss\")]${Delimiter}{0}${Delimiter}{1}\" -f $logparam[1], $msg\n",
    "        \n",
    "        # $VerbosePreference = 'Continue'\n",
    "        # Output Display\n",
    "        if(!$NoDisplay) {\n",
    "            if($Dbg){\n",
    "              Write-Verbose $txt\n",
    "            } else {\n",
    "              Write-Host -ForegroundColor $logparam[0] $txt\n",
    "            }\n",
    "        }\n",
    "        # Output LogfilePath\n",
    "        if($LogfilePath) {\n",
    "            if($Dbg){\n",
    "              Write-Output $txt | Out-File -FilePath $LogfilePath -Append -Encoding $Encoding\n",
    "            } else {\n",
    "              Write-Output $txt | Out-File -FilePath $LogfilePath -Append -Encoding $Encoding\n",
    "            }\n",
    "        }\n",
    "    }.GetNewClosure()\n",
    "}\n"
   ]
  },
  {
   "cell_type": "code",
   "execution_count": 13,
   "metadata": {},
   "outputs": [
    {
     "name": "stdout",
     "output_type": "stream",
     "text": [
      "## ---------------------------------------------------- // entry point\n",
      "##\n",
      "#$VerbosePreference = 'Continue'\n",
      "$VerbosePreference = 'SilentlyContinue'\n",
      "\n",
      "$logger = Get-Logger -VerbosePreference $VerbosePreference\n",
      "$logger.info.Invoke(\"output infomation\")\n",
      "[2019/10/03 17:42:57] INFO output infomation\n",
      "\n",
      "\n"
     ]
    }
   ],
   "source": [
    "## ---------------------------------------------------- // entry point\n",
    "##\n",
    "#$VerbosePreference = 'Continue'\n",
    "$VerbosePreference = 'SilentlyContinue'\n",
    "\n",
    "$logger = Get-Logger -VerbosePreference $VerbosePreference\n",
    "$logger.info.Invoke(\"output infomation\")\n"
   ]
  },
  {
   "cell_type": "code",
   "execution_count": 17,
   "metadata": {},
   "outputs": [
    {
     "name": "stdout",
     "output_type": "stream",
     "text": [
      "$logger.warn.Invoke(\"output warning message\")\n",
      "[2019/10/03 17:43:28] WARN output warning message\n",
      "$logger.error.Invoke(\"output error message\")\n",
      "[2019/10/03 17:43:28] ERROR output error message\n",
      "$logger.debug.Invoke(\"output debug message\")\n",
      "\n",
      "\n"
     ]
    }
   ],
   "source": [
    "$logger.warn.Invoke(\"output warning message\")\n",
    "$logger.error.Invoke(\"output error message\")\n",
    "$logger.debug.Invoke(\"output debug message\")\n"
   ]
  }
 ],
 "metadata": {
  "kernelspec": {
   "display_name": "PowerShell",
   "language": "powershell",
   "name": "powershell"
  },
  "language_info": {
   "codemirror_mode": "shell",
   "file_extension": ".ps1",
   "mimetype": "text/x-sh",
   "name": "powershell"
  }
 },
 "nbformat": 4,
 "nbformat_minor": 2
}
