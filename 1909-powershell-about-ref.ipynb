{
 "cells": [
  {
   "cell_type": "markdown",
   "metadata": {},
   "source": [
    "# 1909-powershell-about-ref"
   ]
  },
  {
   "cell_type": "markdown",
   "metadata": {},
   "source": [
    "## jupyter notebook"
   ]
  },
  {
   "cell_type": "markdown",
   "metadata": {},
   "source": [
    "- https://nbviewer.jupyter.org/github/sakai-memoru/pwshnote/blob/master/1909-powershell-about-ref.ipynb"
   ]
  },
  {
   "cell_type": "markdown",
   "metadata": {},
   "source": [
    "## Usage\n",
    "### basic"
   ]
  },
  {
   "cell_type": "markdown",
   "metadata": {},
   "source": [
    "### Get-Help"
   ]
  },
  {
   "cell_type": "code",
   "execution_count": 3,
   "metadata": {},
   "outputs": [
    {
     "name": "stdout",
     "output_type": "stream",
     "text": [
      "TOPIC\n",
      "    about_Ref\n",
      "\n",
      "SHORT DESCRIPTION\n",
      "    Describes how to create and use a reference variable type.\n",
      "\n",
      "LONG DESCRIPTION\n",
      "    You can use the reference variable type to permit a method to change the\n",
      "    value of a variable that is passed to it. \n",
      "\n",
      "    When the [ref] type is associated with an object, it returns a reference\n",
      "    to that object. If the reference is used with a method, the method can\n",
      "    refer to the object that was passed to it. If the object is changed within\n",
      "    the method, the change appears as a change in the value of the variable\n",
      "    when control returns to the calling method. \n",
      "\n",
      "    To use referencing, the parameter must be a reference variable. If it is\n",
      "    not, an InvalidArgument exception is thrown.\n",
      "\n",
      "    The parameters used in method invocations must match the type required \n",
      "    by the methods.  \n",
      "\n",
      "    Examples:\n",
      "    \n",
      "        PS> function swap([ref]$a,[ref]$b) \n",
      "        >> { \n",
      "        >>     $a.value,$b.value = $b.value,$a.value \n",
      "        >> }\n",
      "\n",
      "        PS> $a = 1\n",
      "        PS> $b = 10\n",
      "        PS> $a,$b\n",
      "        1\n",
      "        10\n",
      "        PS> swap ([ref]$a) ([ref]$b)\n",
      "        PS> $a,$b\n",
      "        10\n",
      "        1\n",
      "\n",
      "        PS C:\\ps-test> function double\n",
      "        >> {\n",
      "        >>     param ([ref]$x) $x.value = $x.value * 2\n",
      "        >> }\n",
      "\n",
      "        PS C:> $number = 8\n",
      "        PS C:> $number\n",
      "        8\n",
      "        PS C> double ([ref]$number)\n",
      "        PS C> $number\n",
      "        16\n",
      "    \n",
      "        The variable must be a reference variable.\n",
      "\n",
      "        PS C:\\ps-test> double $number\n",
      "        double : Reference type is expected in argument.\n",
      "        At line:1 char:7\n",
      "        + double  <<<< $number\n",
      "    \n",
      " \n",
      "SEE ALSO\n",
      "    about_Variables\n",
      "    about_Environment_Variables\n",
      "    about_Functions\n",
      "    about_Script_Blocks\n",
      "\n",
      "\n",
      "\n",
      "\n",
      "\n",
      "\n",
      "\n",
      "\n",
      "\n",
      "\n",
      "\n",
      "\n",
      "\n"
     ]
    }
   ],
   "source": [
    "Get-Help -Category HelpFile -Name about_ref"
   ]
  },
  {
   "cell_type": "code",
   "execution_count": null,
   "metadata": {},
   "outputs": [],
   "source": [
    "## helpfile (if a target is a date type and so on)"
   ]
  },
  {
   "cell_type": "markdown",
   "metadata": {},
   "source": [
    "### Get-Command and Get-Alias\n",
    "### Initialization"
   ]
  },
  {
   "cell_type": "code",
   "execution_count": null,
   "metadata": {},
   "outputs": [],
   "source": [
    "## empty object"
   ]
  },
  {
   "cell_type": "code",
   "execution_count": null,
   "metadata": {},
   "outputs": [],
   "source": [
    "## truthiness and falsiness"
   ]
  },
  {
   "cell_type": "markdown",
   "metadata": {},
   "source": [
    "### Identification of Type"
   ]
  },
  {
   "cell_type": "code",
   "execution_count": null,
   "metadata": {},
   "outputs": [],
   "source": [
    "## is ..."
   ]
  },
  {
   "cell_type": "markdown",
   "metadata": {},
   "source": [
    "### Get-Member"
   ]
  },
  {
   "cell_type": "code",
   "execution_count": null,
   "metadata": {},
   "outputs": [],
   "source": [
    "## Get-Member -MemberType Property"
   ]
  },
  {
   "cell_type": "code",
   "execution_count": null,
   "metadata": {},
   "outputs": [],
   "source": [
    "## Get-Member -MemberType Method"
   ]
  },
  {
   "cell_type": "markdown",
   "metadata": {},
   "source": [
    "### Methods"
   ]
  },
  {
   "cell_type": "code",
   "execution_count": null,
   "metadata": {},
   "outputs": [],
   "source": [
    "## Some methods of frequently using \n",
    "## for example, Add(), Clone(), Clear()"
   ]
  },
  {
   "cell_type": "markdown",
   "metadata": {},
   "source": [
    "### ◎ loop (foreach)"
   ]
  },
  {
   "cell_type": "code",
   "execution_count": null,
   "metadata": {},
   "outputs": [],
   "source": [
    "## loop"
   ]
  },
  {
   "cell_type": "markdown",
   "metadata": {},
   "source": [
    "### ◇ case (contains)"
   ]
  },
  {
   "cell_type": "code",
   "execution_count": null,
   "metadata": {},
   "outputs": [],
   "source": [
    "## case"
   ]
  },
  {
   "cell_type": "markdown",
   "metadata": {},
   "source": [
    "### slicing and substring"
   ]
  },
  {
   "cell_type": "code",
   "execution_count": null,
   "metadata": {},
   "outputs": [],
   "source": [
    "## slicing"
   ]
  },
  {
   "cell_type": "markdown",
   "metadata": {},
   "source": [
    "### stringification"
   ]
  },
  {
   "cell_type": "code",
   "execution_count": null,
   "metadata": {},
   "outputs": [],
   "source": [
    "## object -> str"
   ]
  },
  {
   "cell_type": "markdown",
   "metadata": {},
   "source": [
    "### conversion"
   ]
  },
  {
   "cell_type": "code",
   "execution_count": null,
   "metadata": {},
   "outputs": [],
   "source": [
    "## object -> other object"
   ]
  },
  {
   "cell_type": "markdown",
   "metadata": {},
   "source": [
    "### serialization"
   ]
  },
  {
   "cell_type": "code",
   "execution_count": 4,
   "metadata": {},
   "outputs": [
    {
     "name": "stdout",
     "output_type": "stream",
     "text": []
    }
   ],
   "source": [
    "## object -> external serialized object"
   ]
  },
  {
   "cell_type": "code",
   "execution_count": null,
   "metadata": {},
   "outputs": [],
   "source": []
  }
 ],
 "metadata": {
  "kernelspec": {
   "display_name": "PowerShell",
   "language": "powershell",
   "name": "powershell"
  },
  "language_info": {
   "codemirror_mode": "shell",
   "file_extension": ".ps1",
   "mimetype": "text/x-sh",
   "name": "powershell"
  }
 },
 "nbformat": 4,
 "nbformat_minor": 2
}
