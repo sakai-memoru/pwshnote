{
 "cells": [
  {
   "cell_type": "markdown",
   "metadata": {},
   "source": [
    "# 1909-powershell-about_Command_Precedence"
   ]
  },
  {
   "cell_type": "markdown",
   "metadata": {},
   "source": [
    "## overview"
   ]
  },
  {
   "cell_type": "markdown",
   "metadata": {},
   "source": [
    "- about_Command_Precedence"
   ]
  },
  {
   "cell_type": "markdown",
   "metadata": {},
   "source": [
    "![Image from Gyazo](https://i.gyazo.com/9c23d8a166aeaa46a042f3b1f33dcf33.png)"
   ]
  },
  {
   "cell_type": "markdown",
   "metadata": {},
   "source": [
    "## jupyter notebook"
   ]
  },
  {
   "cell_type": "markdown",
   "metadata": {},
   "source": [
    "- https://nbviewer.jupyter.org/github/sakai-memoru/pwshnote/blob/master/1909-powershell-about_Command_Precedence.ipynb"
   ]
  },
  {
   "cell_type": "markdown",
   "metadata": {},
   "source": [
    "## Usage"
   ]
  },
  {
   "cell_type": "markdown",
   "metadata": {},
   "source": [
    "### Get-Help"
   ]
  },
  {
   "cell_type": "code",
   "execution_count": 1,
   "metadata": {},
   "outputs": [
    {
     "name": "stdout",
     "output_type": "stream",
     "text": []
    }
   ],
   "source": [
    "Get-Help -Category helpfile about_command* | select Name, Synopsis | format-list *"
   ]
  },
  {
   "cell_type": "markdown",
   "metadata": {},
   "source": [
    "### about_Command_Precedence"
   ]
  },
  {
   "cell_type": "code",
   "execution_count": 2,
   "metadata": {},
   "outputs": [
    {
     "name": "stdout",
     "output_type": "stream",
     "text": [
      "\n",
      "\n",
      "Name     : about_Command_Precedence\n",
      "Synopsis : Describes how Windows PowerShell determines which command to run.\n",
      "\n",
      "Name     : about_Command_Syntax\n",
      "Synopsis : Describes the syntax diagrams that are used in Windows PowerShell.\n",
      "\n",
      "\n",
      "\n",
      "Get-Help about_Command_Precedence | set -Name store\n"
     ]
    }
   ],
   "source": [
    "Get-Help about_Command_Precedence | set -Name store"
   ]
  },
  {
   "cell_type": "code",
   "execution_count": 3,
   "metadata": {},
   "outputs": [
    {
     "name": "stdout",
     "output_type": "stream",
     "text": [
      "System.String\n"
     ]
    }
   ],
   "source": [
    "$store.GetType().Fullname"
   ]
  },
  {
   "cell_type": "code",
   "execution_count": 4,
   "metadata": {},
   "outputs": [
    {
     "name": "stdout",
     "output_type": "stream",
     "text": []
    }
   ],
   "source": [
    "$store -split \"`r`n\" | set -Name ary"
   ]
  },
  {
   "cell_type": "code",
   "execution_count": 5,
   "metadata": {},
   "outputs": [
    {
     "name": "stdout",
     "output_type": "stream",
     "text": [
      "275\n"
     ]
    }
   ],
   "source": [
    "$ary.length"
   ]
  },
  {
   "cell_type": "code",
   "execution_count": 6,
   "metadata": {},
   "outputs": [
    {
     "name": "stdout",
     "output_type": "stream",
     "text": [
      "$i = 0\n",
      "foreach($ar in $ary)\n",
      ">> {\n",
      ">>   if($ar -match 'SEE ALSO')\n",
      ">>   {\n",
      ">>     break\n",
      ">>   }\n",
      ">>   $i++\n",
      ">> }\n",
      ">> $ary[$i..$ary.Length]\n",
      ">> \n",
      "SEE ALSO\n",
      "    about_Path_Syntax\n",
      "    about_Aliases\n",
      "    about_Functions\n",
      "    Alias (provider)\n",
      "    Function (provider)\n",
      "    Get-Command\n",
      "    Import-Module\n",
      "    Import-PSSession\n",
      "\n",
      "\n",
      "\n",
      "\n",
      "\n",
      "\n",
      "\n",
      "\n",
      "\n",
      "\n",
      "\n",
      "\n"
     ]
    }
   ],
   "source": [
    "$i = 0\n",
    "foreach($ar in $ary)\n",
    "{\n",
    "  if($ar -match 'SEE ALSO')\n",
    "  {\n",
    "    break\n",
    "  }\n",
    "  $i++\n",
    "}\n",
    "$ary[$i..$ary.Length]"
   ]
  },
  {
   "cell_type": "code",
   "execution_count": 7,
   "metadata": {},
   "outputs": [
    {
     "name": "stdout",
     "output_type": "stream",
     "text": [
      "TOPIC\n",
      "    about_Command_Precedence\n",
      "\n",
      "SHORT DESCRIPTION\n",
      "    Describes how Windows PowerShell determines which command to run.\n",
      "\n",
      "LONG DESCRIPTION\n",
      "    This topic explains how Windows PowerShell determines which command to \n",
      "    run, especially when a session contains more than one command with the\n",
      "    same name. It also explains how to run commands that do not run by \n",
      "    default, and it explains how to avoid command-name conflicts in your\n",
      "    session.\n",
      "\n",
      "\n"
     ]
    }
   ],
   "source": [
    "$ary[0..13]"
   ]
  },
  {
   "cell_type": "code",
   "execution_count": 8,
   "metadata": {},
   "outputs": [
    {
     "name": "stdout",
     "output_type": "stream",
     "text": [
      "  COMMAND PRECEDENCE\n",
      "      When a session includes commands that have the same name, Windows \n",
      "      PowerShell uses the following rules to decide which command to run.\n",
      "\n",
      "      These rules become very important when you add commands to your session\n",
      "      from modules, snap-ins, and other sessions.\n",
      "\n",
      "    \n",
      "      -- If you specify the path to a command, Windows PowerShell runs the \n",
      "         command at the location specified by the path. \n",
      "\n",
      "         For example, the following command runs the FindDocs.ps1\n",
      "         script in the C:\\TechDocs directory:\n",
      "\n",
      "             C:\\TechDocs\\FindDocs.ps1\n",
      "\n",
      "         As a security feature, Windows PowerShell does not run executable\n",
      "         (native) commands, including Windows PowerShell scripts, unless the \n",
      "         command is located in a path that is listed in the Path environment \n",
      "         variable ($env:path) or unless you specify the path to the script \n",
      "         file. \n",
      "\n",
      "         To run a script that is in the current directory, specify the full \n",
      "         path, or type a dot (.) to represent the current directory.\n",
      "\n",
      "         For example, to run the FindDocs.ps1 file in the current directory,\n",
      "         type:\n",
      "\n",
      "             .\\FindDocs.ps1\n",
      "\n",
      "        \n",
      "      -- If you do not specify a path, Windows PowerShell uses the following\n",
      "         precedence order when it runs commands:\n",
      "\n",
      "              1. Alias\n",
      "              2. Function\n",
      "              3. Cmdlet \n",
      "              4. Native Windows commands\n",
      "\n",
      "          Therefore, if you type \"help\", Windows PowerShell first looks for an\n",
      "          alias named \"help\", then a function named \"Help\", and finally a \n",
      "          cmdlet named \"Help\". It runs the first \"help\" item that it finds.\n",
      "\n",
      "          For example, if you have a Get-Map function in the session and you \n",
      "          import a cmdlet named Get-Map. By default, when you type \"Get-Map\",\n",
      "          Windows PowerShell runs the Get-Map function.        \n",
      "\n",
      "\n",
      "      -- When the session contains items of the same type that have the same\n",
      "         name, such as two cmdlets with the same name, Windows PowerShell \n",
      "         runs the item that was added to the session most recently.\n",
      "\n",
      "         For example, if you have a cmdlet named Get-Date and you import\n",
      "         another cmdlet named Get-Date, by default, Windows PowerShell runs \n",
      "         the most-recently imported cmdlet when you type \"Get-Date\".\n"
     ]
    }
   ],
   "source": [
    "$ary[14..68]"
   ]
  },
  {
   "cell_type": "code",
   "execution_count": 9,
   "metadata": {},
   "outputs": [
    {
     "name": "stdout",
     "output_type": "stream",
     "text": [
      "\n",
      "\n",
      "  HIDDEN and REPLACED ITEMS\n",
      "      As a result of these rules, items can be replaced or hidden by items with\n",
      "      the same name.  \n",
      "\n",
      "      --  Items are \"hidden\" or \"shadowed\" if you can still access the original\n",
      "          item, such as by qualifying the item name with a module or snap-in\n",
      "          name. \n",
      "\n",
      "          For example, if you import a function that has the same name as a\n",
      "          cmdlet in the session, the cmdlet is hidden (but not replaced) \n",
      "          because it was imported from a snap-in or module.\n",
      "            \n",
      "\n",
      "      --  Items are \"replaced\" or \"overwritten\" if you can no longer access\n",
      "          the original item.\n",
      "\n",
      "          For example, if you import a variable that has the same name as a \n",
      "          a variable in the session, the original variable is replaced and is\n",
      "          no longer accessible. You cannot qualify a variable with a module \n",
      "          name.\n",
      "           \n",
      "          Also, if you type a function at the command line and then import \n",
      "          a function with the same name, the original function is replaced and\n",
      "          is no longer accessible.\n",
      "\n",
      "  FINDING HIDDEN COMMANDS\n",
      "      The All parameter of the Get-Command cmdlet gets all commands with the \n",
      "      specified name, even if they are hidden or replaced. Beginning in Windows\n",
      "      PowerShell 3.0, by default, Get-Command gets only the commands that run\n",
      "      when you type the command name.\n",
      "\n",
      "      In the following examples, the session includes a Get-Date function and a\n",
      "      Get-Date cmdlet.\n",
      "    \n",
      "      The following command gets the Get-Date command that runs when you type \"Get-Date\".\n",
      "\n",
      "          PS C:\\> Get-Command Get-Date\n",
      "\n",
      "          CommandType     Name                                               ModuleName\n",
      "          -----------     ----                                               ----------\n",
      "          Function        get-date\n",
      "\n",
      "\n",
      "      The following command uses the All parameter to get all Get-Date commands. \n",
      "\n",
      "          PS C:\\> Get-Command Get-Date -All\n",
      "\n",
      "          CommandType     Name                                               ModuleName\n",
      "          -----------     ----                                               ----------\n",
      "          Function        get-date\n",
      "          Cmdlet          Get-Date                                           Microsoft.PowerShell.Utility\n"
     ]
    }
   ],
   "source": [
    "$ary[69..121]"
   ]
  },
  {
   "cell_type": "code",
   "execution_count": 10,
   "metadata": {},
   "outputs": [
    {
     "name": "stdout",
     "output_type": "stream",
     "text": [
      "\n",
      "\n",
      "  RUNNING HIDDEN COMMANDS\n",
      "      You can run particular commands by specifying item properties that \n",
      "      distinguish the command from other commands that might have the same \n",
      "      name. \n",
      "\n",
      "      You can use this method to run any command, but it is especially useful\n",
      "      for running hidden commands. \n",
      "\n",
      "      Use this method as a best practice when writing scripts that you intend \n",
      "      to distribute because you cannot predict which commands might be present\n",
      "      in the session in which the script runs.\n",
      "\n",
      "\n",
      "\n",
      "      QUALIFIED NAMES\n",
      "      You can run commands that have been imported from a Windows PowerShell\n",
      "      snap-in or module or from another session by qualifying the command \n",
      "      name with the name of the module or snap-in in which it originated.  \n",
      "\n",
      "      You can qualify commands, but you cannot qualify variables or aliases.      \n",
      "\n",
      "      For example, if the Get-Date cmdlet from the Microsoft.PowerShell.Utility\n",
      "      snap-in is hidden by an alias, function, or cmdlet with the same name, you\n",
      "      can run it by using the snap-in-qualified name of the cmdlet:\n",
      "\n",
      "          Microsoft.PowerShell.Utility\\Get-Date\n",
      "\n",
      "\n",
      "      To run a New-Map command that was added by the MapFunctions module, use \n",
      "      its module-qualified name:\n",
      "\n",
      "          MapFunctions\\New-Map\n",
      "\n",
      "\n",
      "      To find the snap-in or module from which a command was imported, use the\n",
      "      ModuleName property of commands.\n",
      "\n",
      "          (Get-Command <command-name>).ModuleName\n",
      "\n",
      "      For example, to find the source of the Get-Date cmdlet, type:\n",
      "\n",
      "          PS C:\\>(Get-Command Get-Date).ModuleName\n",
      "          Microsoft.PowerShell.Utility\n",
      "          \n",
      "\n",
      "      CALL OPERATOR\n",
      "      You can also use the Call operator (&) to run any command that you\n",
      "      can get by using a Get-ChildItem (the alias is \"dir\"), Get-Command, or \n",
      "      Get-Module command. \n",
      "\n",
      "      To run a command, enclose the Get-Command command in parentheses,\n",
      "      and use the Call operator (&) to run the command.\n",
      "\n",
      "          &(Get-Command ...)  \n",
      "\n",
      "      - or -\n",
      "\n",
      "          &(dir ... )\n",
      "\n",
      "\n",
      "      For example, if you have a function named Map that is hidden by an\n",
      "      alias named Map, use the following command to run the function.\n",
      "\n",
      "          &(Get-Command -Name Map -Type function)  \n",
      "\n",
      "      - or -\n",
      "\n",
      "          &(dir function:\\map)\n",
      "\n"
     ]
    }
   ],
   "source": [
    "$ary[122..192]"
   ]
  },
  {
   "cell_type": "code",
   "execution_count": 11,
   "metadata": {},
   "outputs": [
    {
     "name": "stdout",
     "output_type": "stream",
     "text": [
      "\n",
      "      You can also save your hidden command in a variable to make it\n",
      "      easier to run.\n",
      "\n",
      "      For example, the following command saves the Map function in the\n",
      "      $myMap variable and then uses the Call operator to run it.\n",
      "\n",
      "          $myMap = (Get-Command -Name map -Type function)\n",
      "\n",
      "          &($myMap)\n",
      "\n",
      "\n",
      "      If a command originated in a module, you can use the following\n",
      "      format to run it.\n",
      "\n",
      "         & <PSModuleInfo-object> <command>\n",
      "\n",
      "      For example, to run the Add-File cmdlet in the FileCommands\n",
      "      module, use the following command sequence.\n",
      "           \n",
      "         $FileCommands = get-module -name FileCommands\n",
      "           \n",
      "         & $FileCommands Add-File\n",
      "        \n",
      "   \n",
      "\n",
      "  REPLACED ITEMS\n",
      "      Items that have not been imported from a module or snap-in, such as \n",
      "      functions, variables, and aliases that you create in your session or\n",
      "      that you add by using a profile can be replaced by commands that have\n",
      "      the same name. If they are replaced, you cannot access them.\n",
      "\n",
      "      Variables and aliases are always replaced even if they have been \n",
      "      imported from a module or snap-in because you cannot use a call operator\n",
      "      or a qualified name to run them.\n",
      "\n",
      "      For example, if you type a Get-Map function in your session, and you \n",
      "      import a function called Get-Map, the original function is replaced. \n",
      "      You cannot retrieve it in the current session.\n",
      "\n",
      "   \n",
      "  AVOIDING NAME CONFLICTS\n",
      "      The best way to manage command name conflicts is to prevent them. When \n",
      "      you name your commands, use a name that is very specific or is likely to\n",
      "      be unique. For example, add your initials or company name acronym to the \n",
      "      nouns in your commands.\n",
      "\n",
      "      Also, when you import commands into your session from a Windows PowerShell\n",
      "      module or from another session, use the Prefix parameter of the \n",
      "      Import-Module or Import-PSSession cmdlet to add a prefix to the nouns \n",
      "      in the names of commands.\n",
      "\n",
      "      For example, the following command avoids any conflict with the Get-Date \n",
      "      and Set-Date cmdlets that come with Windows PowerShell when you import\n",
      "      the DateFunctions module.\n",
      "\n",
      "          Import-Module -Name DateFunctions -Prefix ZZ\n",
      "\n",
      "      For more information, see Import-Module and Import-PSSession.  \n"
     ]
    }
   ],
   "source": [
    "$ary[193..251]"
   ]
  },
  {
   "cell_type": "code",
   "execution_count": 12,
   "metadata": {},
   "outputs": [
    {
     "name": "stdout",
     "output_type": "stream",
     "text": [
      "\n",
      "\n",
      "SEE ALSO\n",
      "    about_Path_Syntax\n",
      "    about_Aliases\n",
      "    about_Functions\n",
      "    Alias (provider)\n",
      "    Function (provider)\n",
      "    Get-Command\n",
      "    Import-Module\n",
      "    Import-PSSession\n",
      "\n",
      "\n",
      "\n",
      "\n",
      "\n",
      "\n",
      "\n",
      "\n",
      "\n",
      "\n",
      "\n",
      "\n"
     ]
    }
   ],
   "source": [
    "$ary[252..$ary.Length]"
   ]
  }
 ],
 "metadata": {
  "kernelspec": {
   "display_name": "PowerShell",
   "language": "powershell",
   "name": "powershell"
  },
  "language_info": {
   "codemirror_mode": "shell",
   "file_extension": ".ps1",
   "mimetype": "text/x-sh",
   "name": "powershell"
  }
 },
 "nbformat": 4,
 "nbformat_minor": 2
}
