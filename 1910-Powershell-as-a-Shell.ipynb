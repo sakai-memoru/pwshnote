{
 "cells": [
  {
   "cell_type": "markdown",
   "metadata": {},
   "source": [
    "# 1910-Powershell-as-a-Shell"
   ]
  },
  {
   "cell_type": "markdown",
   "metadata": {},
   "source": [
    "## overview"
   ]
  },
  {
   "cell_type": "markdown",
   "metadata": {},
   "source": [
    "- PowerShellと、今までのcmd.exeとの違いについて書く。"
   ]
  },
  {
   "cell_type": "markdown",
   "metadata": {},
   "source": [
    "## jupyter notebook"
   ]
  },
  {
   "cell_type": "markdown",
   "metadata": {},
   "source": [
    "https://nbviewer.jupyter.org/github/sakai-memoru/pwshnote/blob/master/1910-Powershell-as-a-Shell.ipynb"
   ]
  },
  {
   "cell_type": "markdown",
   "metadata": {},
   "source": [
    "## オブジェクト指向型のシェル言語：Powershell"
   ]
  },
  {
   "cell_type": "markdown",
   "metadata": {},
   "source": [
    "### オブジェクト指向によるソフトウェア\n",
    "- 現代のソフトウェアでは、オブジェクト指向を基本的な考え方として取り入れて、ソフトウェアの仕組みが構成されている。\n",
    "\n",
    "- システム開発で使われるオブジェクト指向のプログラミング言語として、Java、C#などが上げられる。最近のトレンドとしては、オブジェクト指向のスクリプト言語が、様々なシステム開発プロジェクトで使われている。オブジェクト指向のスクリプト言語として、RubyやPythonが上げられる。ちなみに、Javascriptも、プロトタイプをもとにオブジェクトを扱う、オブジェクト指向的なスクリプト言語である。\n",
    "\n",
    "- PowerShellは、Pythonなどと同様にオブジェクト指向のスクリプト言語であり、かつ、Windows OSに対するCUIシェルで動作するシェル言語であると言える。\n"
   ]
  },
  {
   "cell_type": "markdown",
   "metadata": {},
   "source": [
    "### オブジェクト指向OSとしてのWindows OS "
   ]
  },
  {
   "cell_type": "markdown",
   "metadata": {},
   "source": [
    "- オブジェクト指向の考え方は、OSにも取り入れられている。\n",
    "- Windows OSは、Windows NTから、OS内部の構造は、オブジェクト指向で作られている。つまり、OS内部で管理している情報は、オブジェクト形式なのである。"
   ]
  },
  {
   "cell_type": "markdown",
   "metadata": {},
   "source": [
    "- OSでは、コンピュータ資源（リソース）の管理を行い、コンピュータ上で実行されているプロセス、サービス等を制御し、実行の履歴（ログ）を記録する役割を持つ。このコンピュータ資源、プロセス(**process**)、サービス(**service**)、実行ログ(**EventLog**)、等を、Windows OS内部ではオブジェクトとして管理しているのである。"
   ]
  },
  {
   "cell_type": "markdown",
   "metadata": {},
   "source": [
    "- PowerShellは、シェルスクリプトで、一連の操作を記述して、CUIシェル上で実行できる。つまりは、Windows OSが管理しているオブジェクトを取得して、操作することが可能となる。"
   ]
  },
  {
   "cell_type": "markdown",
   "metadata": {},
   "source": [
    "### Windows OSが提供するShell"
   ]
  },
  {
   "cell_type": "markdown",
   "metadata": {},
   "source": [
    "#### CUI Shell : cmd.exe"
   ]
  },
  {
   "cell_type": "markdown",
   "metadata": {},
   "source": [
    "- 2006年より以前、Windows OSが提供していた標準CUI Shellは、cmd.exeである。コンソールより入力したコマンドを、OSが受付け、その操作結果を、テキストベースの情報として、返却する。"
   ]
  },
  {
   "cell_type": "markdown",
   "metadata": {},
   "source": [
    "![Image from Gyazo](https://i.gyazo.com/860e8ca7fde0d47d7e9dfa917806f4ad.png)"
   ]
  },
  {
   "cell_type": "markdown",
   "metadata": {},
   "source": [
    "- OS内部では、オブジェクトとして管理している情報を、cmd.exeでは、わざわざテキストベースの情報として表示している。\n",
    "- OSが提供するコマンドを利用して、一連の動作を記述できるが、構造化プログラミング、オブジェクト指向言語に慣れてしまっているプログラマには、扱いにくい。"
   ]
  },
  {
   "cell_type": "markdown",
   "metadata": {},
   "source": [
    "#### GUI Shell"
   ]
  },
  {
   "cell_type": "markdown",
   "metadata": {},
   "source": [
    "- Windows OSは、GUIによるコンピュータ資源の操作の仕組みを提供している。Controll Panel, Explorer、Task Manager等の機能である。以下、Computer Setting画面より、Network情報を表示した例。"
   ]
  },
  {
   "cell_type": "markdown",
   "metadata": {},
   "source": [
    "![Image from Gyazo](https://i.gyazo.com/f6741f5cecfbc3830c572e30b39ff83e.png)\n"
   ]
  },
  {
   "cell_type": "markdown",
   "metadata": {},
   "source": [
    "- GUIは、直感的に操作しやすく、情報も見やすい。が、バッチ的に、大量に処理したい場合は、かえって手間がかかるという問題がある。管理者がPCの設定などを複数台、行いたい場合など、手作業による誤りなどの課題が発生することも多い。"
   ]
  },
  {
   "cell_type": "markdown",
   "metadata": {},
   "source": [
    "#### オブジェクト指向型のCUI Shell : PowerShell"
   ]
  },
  {
   "cell_type": "markdown",
   "metadata": {},
   "source": [
    "- PCの設定や管理などで、バッチ的に処理したいというニーズは大きい。また、Windows OS内部で、資源をオブジェクトで管理しているのに、command操作時に、テキストベースでしか情報を取得できないのは、実際に管理の面から\n",
    "見て、不自由となってきた。"
   ]
  },
  {
   "cell_type": "markdown",
   "metadata": {},
   "source": [
    "- より、Microsoft社は、次世代シェルとして、powershellを2006/11月に提供した。その後、Windows 8.1からはWindowsに、Powershellは標準機能としてインストールされている。標準のCUI Shellとして既に10年たち、2019/10現在、PowerShellのバージョンは、version5.1となった。"
   ]
  },
  {
   "cell_type": "markdown",
   "metadata": {},
   "source": [
    "- PowerShellは、仮想実行環境である.NET Framework上で動作し、コンソールより、コマンド（cmdletと呼ぶ）により、OSのリソースを取得したり、操作したりすることができる。Windows OSのGUI上でできる操作は、すべてコマンドラインでも操作可能である。\n",
    "\n",
    "\n",
    "- 以下、NetIPAddressオブジェクトを取得する例を記述する。"
   ]
  },
  {
   "cell_type": "markdown",
   "metadata": {},
   "source": [
    "#### `Get-NetIPAddress` Cmdlet"
   ]
  },
  {
   "cell_type": "code",
   "execution_count": 4,
   "metadata": {},
   "outputs": [
    {
     "name": "stdout",
     "output_type": "stream",
     "text": [
      "\n",
      "\n",
      "IPAddress         : 192.168.1.38\n",
      "InterfaceIndex    : 3\n",
      "InterfaceAlias    : ■C■[■T■l■b■g\n",
      "AddressFamily     : IPv4\n",
      "Type              : Unicast\n",
      "PrefixLength      : 24\n",
      "PrefixOrigin      : Dhcp\n",
      "SuffixOrigin      : Dhcp\n",
      "AddressState      : Preferred\n",
      "ValidLifetime     : 02:57:39\n",
      "PreferredLifetime : 02:57:39\n",
      "SkipAsSource      : False\n",
      "PolicyStore       : ActiveStore\n",
      "\n",
      "\n",
      "\n"
     ]
    }
   ],
   "source": [
    "Get-NetIPAddress -AddressFamily IPv4 | where {$_.PrefixOrigin -eq 'Dhcp'} |select -first 1"
   ]
  },
  {
   "cell_type": "markdown",
   "metadata": {},
   "source": [
    "- 上記が、`Get-IPAddress` cmdletで、情報を取得した例である。取得したオブジェクトは、PowerShell内でデフォルトの形式に自動でフォーマッティングされて、コンソール上に出力される。"
   ]
  },
  {
   "cell_type": "markdown",
   "metadata": {},
   "source": [
    "- 取得しているオブジェクトを、以下のコマンドで確認する。\n"
   ]
  },
  {
   "cell_type": "markdown",
   "metadata": {},
   "source": [
    "#### 取得したObjectの確認"
   ]
  },
  {
   "cell_type": "markdown",
   "metadata": {},
   "source": [
    "##### GetType()で、Objectの型を確認"
   ]
  },
  {
   "cell_type": "markdown",
   "metadata": {},
   "source": [
    "- 以下、`Microsoft.Management.Infrastructure.CimInstance`というオブジェクト型であることが分かる。"
   ]
  },
  {
   "cell_type": "code",
   "execution_count": 5,
   "metadata": {},
   "outputs": [
    {
     "name": "stdout",
     "output_type": "stream",
     "text": []
    }
   ],
   "source": [
    "Get-NetIPAddress -AddressFamily IPv4 | where {$_.PrefixOrigin -eq 'Dhcp'} |select -first 1 | set -Name ipaddrObj"
   ]
  },
  {
   "cell_type": "code",
   "execution_count": 6,
   "metadata": {},
   "outputs": [
    {
     "name": "stdout",
     "output_type": "stream",
     "text": [
      "\n",
      "\n",
      "Module   : Microsoft.Management.Infrastructure.dll\n",
      "FullName : Microsoft.Management.Infrastructure.CimInstance\n",
      "Name     : CimInstance\n",
      "\n",
      "\n",
      "\n"
     ]
    }
   ],
   "source": [
    "$ipaddrObj.GetType() | Select module, Fullname, Name | fl "
   ]
  },
  {
   "cell_type": "markdown",
   "metadata": {},
   "source": [
    "##### Get-MemberでObjectのProperty、Methodを確認"
   ]
  },
  {
   "cell_type": "markdown",
   "metadata": {},
   "source": [
    "- 以下、対象オブジェクトのMemberを確認する。"
   ]
  },
  {
   "cell_type": "code",
   "execution_count": 7,
   "metadata": {},
   "outputs": [
    {
     "name": "stdout",
     "output_type": "stream",
     "text": [
      "\n",
      "\n",
      "   TypeName: Microsoft.Management.Infrastructure.CimInstance#ROOT/StandardCimv2/MSFT_NetIPAddress\n",
      "\n",
      "Name                     MemberType Definition                                           \n",
      "----                     ---------- ----------                                           \n",
      "Address                  Property   string Address {get;set;}                            \n",
      "AddressOrigin            Property   uint16 AddressOrigin {get;set;}                      \n",
      "AddressType              Property   uint16 AddressType {get;set;}                        \n",
      "AvailableRequestedStates Property   uint16[] AvailableRequestedStates {get;set;}         \n",
      "Caption                  Property   string Caption {get;set;}                            \n",
      "CommunicationStatus      Property   uint16 CommunicationStatus {get;set;}                \n",
      "CreationClassName        Property   string CreationClassName {get;set;}                  \n",
      "Description              Property   string Description {get;set;}                        \n",
      "DetailedStatus           Property   uint16 DetailedStatus {get;set;}                     \n",
      "ElementName              Property   string ElementName {get;set;}                        \n",
      "EnabledDefault           Property   uint16 EnabledDefault {get;set;}                     \n",
      "EnabledState             Property   uint16 EnabledState {get;set;}                       \n",
      "HealthState              Property   uint16 HealthState {get;set;}                        \n",
      "InstallDate              Property   CimInstance#DateTime InstallDate {get;set;}          \n",
      "InstanceID               Property   string InstanceID {get;set;}                         \n",
      "InterfaceAlias           Property   string InterfaceAlias {get;}                         \n",
      "InterfaceIndex           Property   uint32 InterfaceIndex {get;}                         \n",
      "IPAddress                Property   string IPAddress {get;}                              \n",
      "IPv4Address              Property   string IPv4Address {get;set;}                        \n",
      "IPv6Address              Property   string IPv6Address {get;set;}                        \n",
      "IPVersionSupport         Property   uint16 IPVersionSupport {get;set;}                   \n",
      "Name                     Property   string Name {get;set;}                               \n",
      "NameFormat               Property   string NameFormat {get;set;}                         \n",
      "OperatingStatus          Property   uint16 OperatingStatus {get;set;}                    \n",
      "OperationalStatus        Property   uint16[] OperationalStatus {get;set;}                \n",
      "OtherEnabledState        Property   string OtherEnabledState {get;set;}                  \n",
      "OtherTypeDescription     Property   string OtherTypeDescription {get;set;}               \n",
      "PreferredLifetime        Property   CimInstance#DateTime PreferredLifetime {get;set;}    \n",
      "PrefixLength             Property   byte PrefixLength {get;set;}                         \n",
      "PrimaryStatus            Property   uint16 PrimaryStatus {get;set;}                      \n",
      "ProtocolIFType           Property   uint16 ProtocolIFType {get;set;}                     \n",
      "ProtocolType             Property   uint16 ProtocolType {get;set;}                       \n",
      "PSComputerName           Property   string PSComputerName {get;}                         \n",
      "RequestedState           Property   uint16 RequestedState {get;set;}                     \n",
      "SkipAsSource             Property   bool SkipAsSource {get;set;}                         \n",
      "Status                   Property   string Status {get;set;}                             \n",
      "StatusDescriptions       Property   string[] StatusDescriptions {get;set;}               \n",
      "SubnetMask               Property   string SubnetMask {get;set;}                         \n",
      "SystemCreationClassName  Property   string SystemCreationClassName {get;set;}            \n",
      "SystemName               Property   string SystemName {get;set;}                         \n",
      "TimeOfLastStateChange    Property   CimInstance#DateTime TimeOfLastStateChange {get;set;}\n",
      "TransitioningToState     Property   uint16 TransitioningToState {get;set;}               \n",
      "ValidLifetime            Property   CimInstance#DateTime ValidLifetime {get;set;}        \n",
      "\n",
      "\n"
     ]
    }
   ],
   "source": [
    "$ipaddrObj | Get-Member -MemberType Property"
   ]
  },
  {
   "cell_type": "code",
   "execution_count": 8,
   "metadata": {},
   "outputs": [
    {
     "name": "stdout",
     "output_type": "stream",
     "text": [
      "\n",
      "\n",
      "   TypeName: Microsoft.Management.Infrastructure.CimInstance#ROOT/StandardCimv2/MSFT_NetIPAddress\n",
      "\n",
      "Name                      MemberType Definition                                                                        \n",
      "----                      ---------- ----------                                                                        \n",
      "Clone                     Method     System.Object ICloneable.Clone()                                                  \n",
      "Dispose                   Method     void Dispose(), void IDisposable.Dispose()                                        \n",
      "Equals                    Method     bool Equals(System.Object obj)                                                    \n",
      "GetCimSessionComputerName Method     string GetCimSessionComputerName()                                                \n",
      "GetCimSessionInstanceId   Method     guid GetCimSessionInstanceId()                                                    \n",
      "GetHashCode               Method     int GetHashCode()                                                                 \n",
      "GetObjectData             Method     void GetObjectData(System.Runtime.Serialization.SerializationInfo info, System....\n",
      "GetType                   Method     type GetType()                                                                    \n",
      "\n",
      "\n"
     ]
    }
   ],
   "source": [
    "$ipaddrObj | Get-Member -MemberType Method"
   ]
  },
  {
   "cell_type": "markdown",
   "metadata": {},
   "source": [
    "##### Format-List CmdletでObjectの内容を確認"
   ]
  },
  {
   "cell_type": "markdown",
   "metadata": {},
   "source": [
    "- 以下、対象オブジェクトのデータを詳細に確認する。"
   ]
  },
  {
   "cell_type": "code",
   "execution_count": 9,
   "metadata": {},
   "outputs": [
    {
     "name": "stdout",
     "output_type": "stream",
     "text": [
      "\n",
      "\n",
      "PrefixOrigin             : Dhcp\n",
      "SuffixOrigin             : Dhcp\n",
      "Type                     : Unicast\n",
      "Store                    : ActiveStore\n",
      "AddressFamily            : IPv4\n",
      "AddressState             : Preferred\n",
      "ifIndex                  : 3\n",
      "Caption                  : \n",
      "Description              : \n",
      "ElementName              : \n",
      "InstanceID               : \n",
      "CommunicationStatus      : \n",
      "DetailedStatus           : \n",
      "HealthState              : \n",
      "InstallDate              : \n",
      "Name                     : ;C<8;@B8;8=B55=55;55;\n",
      "OperatingStatus          : \n",
      "OperationalStatus        : \n",
      "PrimaryStatus            : \n",
      "Status                   : \n",
      "StatusDescriptions       : \n",
      "AvailableRequestedStates : \n",
      "EnabledDefault           : 2\n",
      "EnabledState             : \n",
      "OtherEnabledState        : \n",
      "RequestedState           : 12\n",
      "TimeOfLastStateChange    : \n",
      "TransitioningToState     : 12\n",
      "CreationClassName        : \n",
      "SystemCreationClassName  : \n",
      "SystemName               : \n",
      "NameFormat               : \n",
      "OtherTypeDescription     : \n",
      "ProtocolIFType           : 4096\n",
      "ProtocolType             : \n",
      "Address                  : \n",
      "AddressOrigin            : 0\n",
      "AddressType              : \n",
      "IPv4Address              : 192.168.1.38\n",
      "IPv6Address              : \n",
      "IPVersionSupport         : \n",
      "PrefixLength             : 24\n",
      "SubnetMask               : \n",
      "InterfaceAlias           : ■C■[■T■l■b■g\n",
      "InterfaceIndex           : 3\n",
      "IPAddress                : 192.168.1.38\n",
      "PreferredLifetime        : 02:57:22\n",
      "SkipAsSource             : False\n",
      "ValidLifetime            : 02:57:22\n",
      "PSComputerName           : \n",
      "CimClass                 : ROOT/StandardCimv2:MSFT_NetIPAddress\n",
      "CimInstanceProperties    : {Caption, Description, ElementName, InstanceID...}\n",
      "CimSystemProperties      : Microsoft.Management.Infrastructure.CimSystemProperties\n",
      "\n",
      "\n",
      "\n"
     ]
    }
   ],
   "source": [
    "$ipaddrObj | Format-List *"
   ]
  },
  {
   "cell_type": "markdown",
   "metadata": {},
   "source": [
    "以上"
   ]
  }
 ],
 "metadata": {
  "kernelspec": {
   "display_name": "PowerShell",
   "language": "powershell",
   "name": "powershell"
  },
  "language_info": {
   "codemirror_mode": "shell",
   "file_extension": ".ps1",
   "mimetype": "text/x-sh",
   "name": "powershell"
  }
 },
 "nbformat": 4,
 "nbformat_minor": 2
}
