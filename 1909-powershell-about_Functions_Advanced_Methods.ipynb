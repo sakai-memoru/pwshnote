{
 "cells": [
  {
   "cell_type": "markdown",
   "metadata": {},
   "source": [
    "# 1909-powershell-about_Functions_Advanced_Methods"
   ]
  },
  {
   "cell_type": "markdown",
   "metadata": {},
   "source": [
    "## overview"
   ]
  },
  {
   "cell_type": "markdown",
   "metadata": {},
   "source": [
    "- about_Functions_Advanced_Methods"
   ]
  },
  {
   "cell_type": "markdown",
   "metadata": {},
   "source": [
    "![Image from Gyazo](https://i.gyazo.com/9c23d8a166aeaa46a042f3b1f33dcf33.png)"
   ]
  },
  {
   "cell_type": "markdown",
   "metadata": {},
   "source": [
    "## jupyter notebook"
   ]
  },
  {
   "cell_type": "markdown",
   "metadata": {},
   "source": [
    "- https://nbviewer.jupyter.org/github/sakai-memoru/pwshnote/blob/master/1909-powershell-about_Functions_Advanced_Methods.ipynb"
   ]
  },
  {
   "cell_type": "markdown",
   "metadata": {},
   "source": [
    "## Usage"
   ]
  },
  {
   "cell_type": "markdown",
   "metadata": {},
   "source": [
    "### Get-Help"
   ]
  },
  {
   "cell_type": "code",
   "execution_count": 28,
   "metadata": {},
   "outputs": [
    {
     "name": "stdout",
     "output_type": "stream",
     "text": [
      "\n",
      "\n",
      "Name     : about_Functions_Advanced_Methods\n",
      "Synopsis : Describes how functions that specify the CmdletBinding attribute can use\n",
      "\n",
      "\n",
      "\n"
     ]
    }
   ],
   "source": [
    "Get-Help -Category helpfile about_Functions_Advanced_Methods | select Name, Synopsis | format-list *"
   ]
  },
  {
   "cell_type": "markdown",
   "metadata": {},
   "source": [
    "### about_Script_Blocks"
   ]
  },
  {
   "cell_type": "code",
   "execution_count": 30,
   "metadata": {},
   "outputs": [
    {
     "name": "stdout",
     "output_type": "stream",
     "text": []
    }
   ],
   "source": [
    "Get-Help about_Functions_Advanced_Methods | \n",
    "  set -Name store"
   ]
  },
  {
   "cell_type": "code",
   "execution_count": 32,
   "metadata": {},
   "outputs": [
    {
     "name": "stdout",
     "output_type": "stream",
     "text": [
      "System.String\n"
     ]
    }
   ],
   "source": [
    "$store.GetType().Fullname"
   ]
  },
  {
   "cell_type": "code",
   "execution_count": 4,
   "metadata": {},
   "outputs": [
    {
     "name": "stdout",
     "output_type": "stream",
     "text": []
    }
   ],
   "source": [
    "$store -split \"`r`n\" | set -Name ary"
   ]
  },
  {
   "cell_type": "code",
   "execution_count": 5,
   "metadata": {},
   "outputs": [
    {
     "name": "stdout",
     "output_type": "stream",
     "text": [
      "227\n"
     ]
    }
   ],
   "source": [
    "$ary.length"
   ]
  },
  {
   "cell_type": "code",
   "execution_count": 6,
   "metadata": {},
   "outputs": [
    {
     "name": "stdout",
     "output_type": "stream",
     "text": [
      "$i = 0\n",
      "foreach($ar in $ary)\n",
      ">> {\n",
      ">>   if($ar -match 'SEE ALSO')\n",
      ">>   {\n",
      ">>     break\n",
      ">>   }\n",
      ">>   $i++\n",
      ">> }\n",
      ">> # $ary[$i..$ary.Length]\n",
      ">> \n"
     ]
    }
   ],
   "source": [
    "$i = 0\n",
    "foreach($ar in $ary)\n",
    "{\n",
    "  if($ar -match 'SEE ALSO')\n",
    "  {\n",
    "    break\n",
    "  }\n",
    "  $i++\n",
    "}\n",
    "# $ary[$i..$ary.Length]"
   ]
  },
  {
   "cell_type": "code",
   "execution_count": 8,
   "metadata": {},
   "outputs": [
    {
     "name": "stdout",
     "output_type": "stream",
     "text": [
      "$url_base = \"https://nbviewer.jupyter.org/github/sakai-memoru/pwshnote/blob/master/1909-powershell-{{about_item}}.ipynb\"\n",
      "\n",
      "foreach($a in $ary[($i+1)..$ary.Length]){\n",
      ">>   if(-not ($a.Trim() -eq ''))\n",
      ">>   {\n",
      ">>     if($a.Trim().startswith('about_'))\n",
      ">>     {\n",
      ">>       $url_base.Replace('{{about_item}}',$a.Trim())  \n",
      ">>     }\n",
      ">>     else\n",
      ">>     {\n",
      ">>       $a.Trim()\n",
      ">>     }\n",
      ">>   }\n",
      ">> }\n",
      ">> \n",
      "https://nbviewer.jupyter.org/github/sakai-memoru/pwshnote/blob/master/1909-powershell-about_Functions.ipynb\n",
      "https://nbviewer.jupyter.org/github/sakai-memoru/pwshnote/blob/master/1909-powershell-about_Functions_Advanced.ipynb\n",
      "https://nbviewer.jupyter.org/github/sakai-memoru/pwshnote/blob/master/1909-powershell-about_Functions_Advanced_Parameters.ipynb\n",
      "https://nbviewer.jupyter.org/github/sakai-memoru/pwshnote/blob/master/1909-powershell-about_Functions_CmdletBindingAttribute.ipynb\n",
      "https://nbviewer.jupyter.org/github/sakai-memoru/pwshnote/blob/master/1909-powershell-about_Functions_OutputTypeAttribute.ipynb\n"
     ]
    }
   ],
   "source": [
    "$url_base = \"https://nbviewer.jupyter.org/github/sakai-memoru/pwshnote/blob/master/1909-powershell-{{about_item}}.ipynb\"\n",
    "\n",
    "foreach($a in $ary[($i+1)..$ary.Length]){\n",
    "  if(-not ($a.Trim() -eq ''))\n",
    "  {\n",
    "    if($a.Trim().startswith('about_'))\n",
    "    {\n",
    "      $url_base.Replace('{{about_item}}',$a.Trim())  \n",
    "    }\n",
    "    else\n",
    "    {\n",
    "      $a.Trim()\n",
    "    }\n",
    "  }\n",
    "}"
   ]
  },
  {
   "cell_type": "code",
   "execution_count": 14,
   "metadata": {},
   "outputs": [
    {
     "name": "stdout",
     "output_type": "stream",
     "text": [
      "TOPIC\n",
      "    about_Functions_Advanced_Methods\n",
      "\n",
      "SHORT DESCRIPTION\n",
      "    Describes how functions that specify the CmdletBinding attribute can use\n",
      "    the methods and properties that are available to compiled cmdlets.\n",
      "\n",
      "LONG DESCRIPTION\n",
      "    Functions that specify the CmdletBinding attribute can access a number of \n",
      "    methods and properties through the $pscmdlet variable. These methods \n",
      "    include the following methods:\n",
      "\n",
      "\n",
      "        - Input-processing methods that compiled cmdlets use to do their work.\n",
      "\n",
      "        - The ShouldProcess and ShouldContinue methods that are used to get \n",
      "          user feedback before an action is performed.\n",
      "\n",
      "        - The ThrowTerminatingError method for generating error records.\n",
      "\n",
      "        - Several Write methods that return different types of output.\n",
      "\n",
      "\n",
      "    All the methods and properties of the PSCmdlet class are available to \n",
      "    advanced functions. For more information about these methods and \n",
      "    properties, see System.Management.Automation.PSCmdlet in the MSDN \n",
      "    (Microsoft Developer Network) library at \n",
      "    http://go.microsoft.com/fwlink/?LinkId=142139.\n",
      "\n",
      "\n",
      "  Input Processing Methods\n",
      "\n",
      "      The methods described in this section are referred to as the input \n",
      "      processing methods. For functions, these three methods are represented\n",
      "      by the Begin, Process, and End blocks of the function. Each function \n",
      "      must include one or more of these blocks. The Windows PowerShell runtime\n",
      "      uses the code within these blocks when it is running a function. (These\n",
      "      blocks are also available to functions that do not use the CmdletBinding\n",
      "      attribute.)\n"
     ]
    }
   ],
   "source": [
    "$ary[0..38] "
   ]
  },
  {
   "cell_type": "code",
   "execution_count": 18,
   "metadata": {},
   "outputs": [
    {
     "name": "stdout",
     "output_type": "stream",
     "text": [
      "\n",
      "      \n",
      "    Begin\n",
      "      This block is used to provide optional one-time preprocessing for the \n",
      "      function. The Windows PowerShell runtime uses the code in this block one\n",
      "      time for each instance of the function in the pipeline.\n",
      "\n",
      "\n",
      "    Process\n",
      "      This block is used to provide record-by-record processing for the \n",
      "      function. This block might be used any number of times, or not at all,\n",
      "      depending on the input to the function. For example, if the function is\n",
      "      the first command in the pipeline, the Process block will be used one \n",
      "      time. If the function is not the first command in the pipeline, the \n",
      "      Process block is used one time for every input that the function \n",
      "      receives from the pipeline. If there is no pipeline input, the Process \n",
      "      block is not used.\n",
      "\n",
      "      This block must be defined if a function parameter is set to accept \n",
      "      pipeline input. If this block is not defined and the parameter accepts\n",
      "      input from the pipeline, the function will miss the values that are \n",
      "      passed to the function through the pipeline. \n",
      "\n",
      "      Also, when the function supports confirmation requests (when the \n",
      "      SupportsShouldProcess parameter of the Parameter attribute is set to \n",
      "      $True), the call to the ShouldProcess method must be made from within\n",
      "      the Process block.\n",
      "\n",
      "    End\n",
      "      This block is used to provide optional one-time post-processing for \n",
      "      the function.\n",
      "\n",
      "      The following example shows the outline of a function that contains a\n",
      "      Begin block for one-time preprocessing, a Process block for multiple \n",
      "      record processing, and an End block for one-time post-processing.\n",
      "\n",
      "          Function Test-ScriptCmdlet\n",
      "          {\n",
      "            [CmdletBinding(SupportsShouldProcess=$True)] \n",
      "            Param ($Parameter1)\n",
      "            Begin{}\n",
      "            Process{}\n",
      "            End{}\n",
      "          }\n",
      "\n",
      "\n",
      "  Confirmation Methods\n",
      "\n",
      "    ShouldProcess\n",
      "      This method is called to request confirmation from the user before the \n",
      "      function performs an action that would change the system. The function \n",
      "      can continue based on the Boolean value returned by the method. This \n",
      "      method can be called only from within the Process{} block of the \n",
      "      function. And, the CmdletBinding attribute must declare that the \n",
      "      function supports ShouldProcess (as shown in the previous example).\n",
      "\n",
      "      For more information about this method, see \n",
      "      System.Management.Automation.Cmdlet.ShouldProcess in the MSDN library at \n",
      "      http://go.microsoft.com/fwlink/?LinkId=142142.\n",
      "\n",
      "      For more information about how to request confirmation, see \n",
      "      \"Requesting Confirmation\" in the MSDN library at \n",
      "      http://go.microsoft.com/fwlink/?LinkID=136658.\n",
      "\n"
     ]
    }
   ],
   "source": [
    "$ary[39..102] "
   ]
  },
  {
   "cell_type": "code",
   "execution_count": 24,
   "metadata": {},
   "outputs": [
    {
     "name": "stdout",
     "output_type": "stream",
     "text": [
      "\n",
      "    ShouldContinue\n",
      "      This method is called to request a second confirmation message. It \n",
      "      should be called when the ShouldProcess method returns $true. For more\n",
      "      information about this method, see \n",
      "      System.Management.Automation.Cmdlet.ShouldContinue in the MSDN library\n",
      "      at http://go.microsoft.com/fwlink/?LinkId=142143.\n",
      "\n",
      "\n",
      "  Error Methods\n",
      "\n",
      "    Functions can call two different methods when errors occur. When a \n",
      "    nonterminating error occurs, the function should call the WriteError \n",
      "    method, which is described in the \"Write Methods\" section. When a \n",
      "    terminating error occurs and the function cannot continue, it should call\n",
      "    the ThrowTerminatingError method. You can also use the Throw statement for\n",
      "    terminating errors and the Write-Error cmdlet for nonterminating errors.\n",
      "\n",
      "    For more information, see System.Management.Automation.Cmdlet.\n",
      "    ThrowTerminatingError in the MSDN libray at \n",
      "    http://go.microsoft.com/fwlink/?LinkId=142144.\n",
      "\n",
      "\n",
      "  Write Methods\n",
      "\n",
      "      A function can call the following methods to return different types of \n",
      "      output. Notice that not all the output goes to the next command in the \n",
      "      pipeline. You can also use the various Write cmdlets, such as \n",
      "      Write-Error.\n",
      "\n",
      "\n",
      "    WriteCommandDetail\n",
      "      For information about the WriteCommandDetails method, see \n",
      "      System.Management.Automation.Cmdlet.WriteCommandDetail in the MSDN \n",
      "      library at http://go.microsoft.com/fwlink/?LinkId=142155.\n",
      "\n",
      "\n",
      "    WriteDebug\n",
      "      To provide information that can be used to troubleshoot a function, \n",
      "      make the function call the WriteDebug method. This displays debug \n",
      "      messages to the user. For more information, see \n",
      "      System.Management.Automation.Cmdlet.WriteDebug in the MSDN library\n",
      "      at http://go.microsoft.com/fwlink/?LinkId=142156.\n",
      "\n",
      "\n",
      "    WriteError\n",
      "      Functions should call this method when nonterminating errors occur and\n",
      "      the function is designed to continue processing records. For more \n",
      "      information, see System.Management.Automation.Cmdlet.WriteError in the \n",
      "      MSDN library at http://go.microsoft.com/fwlink/?LinkId=142157.\n",
      "\n",
      "      Note: If a terminating error occurs, the function should call the \n",
      "            ThrowTerminatingError method. \n",
      "\n",
      "\n",
      "    WriteObject\n",
      "      This method allows the function to send an object to the next command in \n",
      "      the pipeline. In most cases, this is the method to use when the function\n",
      "      returns data. For more information, see \n",
      "      System.Management.Automation.PSCmdlet.WriteObject in the MSDN library at\n",
      "      http://go.microsoft.com/fwlink/?LinkId=142158.\n",
      "\n",
      "\n",
      "    WriteProgress\n",
      "      For functions whose actions take a long time to complete, this method \n",
      "      allows the function to call the WriteProgress method so that progress\n",
      "      information is displayed. For example, you can display the percent \n",
      "      completed. For more information, see \n",
      "      System.Management.Automation.PSCmdlet.WriteProgress in the MSDN library\n",
      "      at http://go.microsoft.com/fwlink/?LinkId=142160.\n"
     ]
    }
   ],
   "source": [
    "$ary[103..172] "
   ]
  },
  {
   "cell_type": "code",
   "execution_count": 26,
   "metadata": {},
   "outputs": [
    {
     "name": "stdout",
     "output_type": "stream",
     "text": [
      "\n",
      "\n",
      "    WriteVerbose\n",
      "      To provide detailed information about what the function is doing, make \n",
      "      the function call the WriteVerbose method to display verbose messages to\n",
      "      the user. By default, verbose messages are not displayed. For more \n",
      "      information, see System.Management.Automation.PSCmdlet.WriteVerbose\n",
      "      in the MSDN library at http://go.microsoft.com/fwlink/?LinkId=142162.\n",
      "\n",
      "    WriteWarning\n",
      "      To provide information about conditions that may cause unexpected \n",
      "      results, make the function call the WriteWarning method to display \n",
      "      warning messages to the user. By default, warning messages are displayed.\n",
      "      For more information, see \n",
      "      System.Management.Automation.PSCmdlet.WriteWarning in the MSDN library \n",
      "      at http://go.microsoft.com/fwlink/?LinkId=142164.\n",
      "\n",
      "      Note: You can also display warning messages by configuring the \n",
      "            WarningPreference variable or by using the Verbose and Debug \n",
      "            command-line options.\n",
      "\n",
      "\n",
      "  Other Methods and Properties\n",
      "\n",
      "      For information about the other methods and properties that can be \n",
      "      accessed through the $PSCmdlet variable, see \n",
      "      System.Management.Automation.PSCmdlet in the MSDN library at\n",
      "      http://go.microsoft.com/fwlink/?LinkId=142139. \n",
      "\n",
      "      For example, the ParameterSetName property allows you to see the parameter \n",
      "      set that is being used. Parameter sets allow you to create a function that \n",
      "      performs different tasks based on the parameters that are specified when \n",
      "      the function is run.\n",
      "\n",
      "\n",
      "SEE ALSO\n",
      "    about_Functions\n",
      "    about_Functions_Advanced\n",
      "    about_Functions_Advanced_Parameters\n",
      "    about_Functions_CmdletBindingAttribute\n",
      "    about_Functions_OutputTypeAttribute\n",
      "\n",
      "\n",
      "\n",
      "\n",
      "\n",
      "\n",
      "\n",
      "\n",
      "\n",
      "\n",
      "\n",
      "\n",
      "\n"
     ]
    }
   ],
   "source": [
    "$ary[173..$ary.Length] "
   ]
  },
  {
   "cell_type": "code",
   "execution_count": null,
   "metadata": {},
   "outputs": [],
   "source": []
  }
 ],
 "metadata": {
  "kernelspec": {
   "display_name": "PowerShell",
   "language": "powershell",
   "name": "powershell"
  },
  "language_info": {
   "codemirror_mode": "shell",
   "file_extension": ".ps1",
   "mimetype": "text/x-sh",
   "name": "powershell"
  }
 },
 "nbformat": 4,
 "nbformat_minor": 2
}
